{
  "nbformat": 4,
  "nbformat_minor": 0,
  "metadata": {
    "colab": {
      "name": "knn_Regressor_Sklearn.ipynb",
      "provenance": []
    },
    "kernelspec": {
      "name": "python3",
      "display_name": "Python 3"
    },
    "language_info": {
      "name": "python"
    }
  },
  "cells": [
    {
      "cell_type": "code",
      "metadata": {
        "id": "HRQlaPTEH0oS"
      },
      "source": [
        "from sklearn.datasets import load_boston\n",
        "from sklearn.model_selection import train_test_split\n",
        "from sklearn.neighbors import KNeighborsRegressor\n",
        "from sklearn.metrics import mean_squared_error\n",
        "\n",
        "from matplotlib import pyplot as plt"
      ],
      "execution_count": 20,
      "outputs": []
    },
    {
      "cell_type": "code",
      "metadata": {
        "colab": {
          "base_uri": "https://localhost:8080/"
        },
        "id": "Bv6C03xjH5Oa",
        "outputId": "cf1efa0a-c0e5-4f6b-8299-6a706d740620"
      },
      "source": [
        "data = load_boston()\n",
        "print(data['DESCR'])"
      ],
      "execution_count": 21,
      "outputs": [
        {
          "output_type": "stream",
          "text": [
            ".. _boston_dataset:\n",
            "\n",
            "Boston house prices dataset\n",
            "---------------------------\n",
            "\n",
            "**Data Set Characteristics:**  \n",
            "\n",
            "    :Number of Instances: 506 \n",
            "\n",
            "    :Number of Attributes: 13 numeric/categorical predictive. Median Value (attribute 14) is usually the target.\n",
            "\n",
            "    :Attribute Information (in order):\n",
            "        - CRIM     per capita crime rate by town\n",
            "        - ZN       proportion of residential land zoned for lots over 25,000 sq.ft.\n",
            "        - INDUS    proportion of non-retail business acres per town\n",
            "        - CHAS     Charles River dummy variable (= 1 if tract bounds river; 0 otherwise)\n",
            "        - NOX      nitric oxides concentration (parts per 10 million)\n",
            "        - RM       average number of rooms per dwelling\n",
            "        - AGE      proportion of owner-occupied units built prior to 1940\n",
            "        - DIS      weighted distances to five Boston employment centres\n",
            "        - RAD      index of accessibility to radial highways\n",
            "        - TAX      full-value property-tax rate per $10,000\n",
            "        - PTRATIO  pupil-teacher ratio by town\n",
            "        - B        1000(Bk - 0.63)^2 where Bk is the proportion of blacks by town\n",
            "        - LSTAT    % lower status of the population\n",
            "        - MEDV     Median value of owner-occupied homes in $1000's\n",
            "\n",
            "    :Missing Attribute Values: None\n",
            "\n",
            "    :Creator: Harrison, D. and Rubinfeld, D.L.\n",
            "\n",
            "This is a copy of UCI ML housing dataset.\n",
            "https://archive.ics.uci.edu/ml/machine-learning-databases/housing/\n",
            "\n",
            "\n",
            "This dataset was taken from the StatLib library which is maintained at Carnegie Mellon University.\n",
            "\n",
            "The Boston house-price data of Harrison, D. and Rubinfeld, D.L. 'Hedonic\n",
            "prices and the demand for clean air', J. Environ. Economics & Management,\n",
            "vol.5, 81-102, 1978.   Used in Belsley, Kuh & Welsch, 'Regression diagnostics\n",
            "...', Wiley, 1980.   N.B. Various transformations are used in the table on\n",
            "pages 244-261 of the latter.\n",
            "\n",
            "The Boston house-price data has been used in many machine learning papers that address regression\n",
            "problems.   \n",
            "     \n",
            ".. topic:: References\n",
            "\n",
            "   - Belsley, Kuh & Welsch, 'Regression diagnostics: Identifying Influential Data and Sources of Collinearity', Wiley, 1980. 244-261.\n",
            "   - Quinlan,R. (1993). Combining Instance-Based and Model-Based Learning. In Proceedings on the Tenth International Conference of Machine Learning, 236-243, University of Massachusetts, Amherst. Morgan Kaufmann.\n",
            "\n"
          ],
          "name": "stdout"
        }
      ]
    },
    {
      "cell_type": "code",
      "metadata": {
        "colab": {
          "base_uri": "https://localhost:8080/",
          "height": 283
        },
        "id": "wmmXzsjFIBtr",
        "outputId": "98a9098a-599c-4183-a8f3-ca2e7348eb4f"
      },
      "source": [
        "X, y = data['data'], data['target']\n",
        "plt.scatter(X[:, 0], y)"
      ],
      "execution_count": 22,
      "outputs": [
        {
          "output_type": "execute_result",
          "data": {
            "text/plain": [
              "<matplotlib.collections.PathCollection at 0x7f46ad2164d0>"
            ]
          },
          "metadata": {
            "tags": []
          },
          "execution_count": 22
        },
        {
          "output_type": "display_data",
          "data": {
            "image/png": "[encoded data removed]",
            "text/plain": [
              "<Figure size 432x288 with 1 Axes>"
            ]
          },
          "metadata": {
            "tags": [],
            "needs_background": "light"
          }
        }
      ]
    },
    {
      "cell_type": "code",
      "metadata": {
        "colab": {
          "base_uri": "https://localhost:8080/"
        },
        "id": "IIVOn3cEJMEr",
        "outputId": "c23a80f6-b615-434e-a800-96e4e63f2b11"
      },
      "source": [
        "X_train, X_test, y_train, y_test = train_test_split(X, y, test_size=0.2)\n",
        "knn = KNeighborsRegressor(n_neighbors=5, weights='uniform', p=2) #веса одинаковы, близость - евклидово расстояния\n",
        "knn.fit(X_train, y_train)"
      ],
      "execution_count": 23,
      "outputs": [
        {
          "output_type": "execute_result",
          "data": {
            "text/plain": [
              "KNeighborsRegressor(algorithm='auto', leaf_size=30, metric='minkowski',\n",
              "                    metric_params=None, n_jobs=None, n_neighbors=5, p=2,\n",
              "                    weights='uniform')"
            ]
          },
          "metadata": {
            "tags": []
          },
          "execution_count": 23
        }
      ]
    },
    {
      "cell_type": "code",
      "metadata": {
        "colab": {
          "base_uri": "https://localhost:8080/"
        },
        "id": "vfLf2-EeJyfC",
        "outputId": "d2c64604-ebc8-493f-ac06-95bdc32f701a"
      },
      "source": [
        "knn.predict(X_test)"
      ],
      "execution_count": 24,
      "outputs": [
        {
          "output_type": "execute_result",
          "data": {
            "text/plain": [
              "array([11.44, 27.82,  9.52, 19.76, 18.26, 24.56, 29.4 , 22.78, 20.46,\n",
              "       21.7 , 20.46, 20.2 , 20.46, 22.62, 22.1 , 23.26, 22.64, 24.06,\n",
              "       28.08, 20.4 , 27.22, 33.86, 20.62, 16.06, 28.16, 22.3 , 33.24,\n",
              "       34.1 , 31.26, 18.26, 28.74, 17.4 , 32.1 ,  9.02, 36.38, 35.44,\n",
              "       26.12, 11.68, 21.86, 21.14, 20.14, 22.2 , 37.9 , 27.06, 35.58,\n",
              "       12.98, 24.72, 27.66, 11.3 , 24.76, 15.92, 19.1 , 23.84, 29.4 ,\n",
              "       41.82, 23.62, 22.18, 31.4 , 11.08, 22.26, 20.12, 21.64, 24.94,\n",
              "       26.78, 24.6 , 13.74, 37.54, 21.42, 11.7 , 16.6 , 14.86, 20.16,\n",
              "       22.6 , 23.28, 30.32, 33.24, 32.12, 24.66, 29.96, 11.42, 21.68,\n",
              "       18.04, 39.54, 20.24, 21.84, 29.4 , 29.46, 24.06, 17.5 , 13.58,\n",
              "       19.96, 18.84, 20.18, 31.02, 21.04, 22.42, 25.02, 22.02, 14.76,\n",
              "       22.2 , 22.98, 34.02])"
            ]
          },
          "metadata": {
            "tags": []
          },
          "execution_count": 24
        }
      ]
    },
    {
      "cell_type": "markdown",
      "metadata": {
        "id": "qoVGLjuKKkNl"
      },
      "source": [
        "We predict the cost of houses"
      ]
    },
    {
      "cell_type": "code",
      "metadata": {
        "colab": {
          "base_uri": "https://localhost:8080/"
        },
        "id": "frzhjvBSKizI",
        "outputId": "dd557a05-b87e-4db8-a59b-97c8e812ebf3"
      },
      "source": [
        "mean_squared_error(y_test, knn.predict(X_test))"
      ],
      "execution_count": 25,
      "outputs": [
        {
          "output_type": "execute_result",
          "data": {
            "text/plain": [
              "32.95366666666666"
            ]
          },
          "metadata": {
            "tags": []
          },
          "execution_count": 25
        }
      ]
    },
    {
      "cell_type": "markdown",
      "metadata": {
        "id": "f2cZNJTkLR2W"
      },
      "source": [
        "# Find optimal hyperparameters"
      ]
    },
    {
      "cell_type": "code",
      "metadata": {
        "id": "6BN1qqN8LH_j"
      },
      "source": [
        "from sklearn.model_selection import GridSearchCV\n",
        "\n",
        "grid_searcher = GridSearchCV(\n",
        "    KNeighborsRegressor(), \n",
        "    param_grid = {\n",
        "        'n_neighbors': [1,5,10,20],\n",
        "        'weights': ['uniform', 'distance'],\n",
        "        'p': [1,2,3] #distance metrics\n",
        "    },\n",
        "    cv=5\n",
        "    )"
      ],
      "execution_count": 26,
      "outputs": []
    },
    {
      "cell_type": "code",
      "metadata": {
        "colab": {
          "base_uri": "https://localhost:8080/"
        },
        "id": "BrjTlhlKMSnx",
        "outputId": "477c6f1d-da12-4726-d7cc-4c16dc7571e1"
      },
      "source": [
        "grid_searcher.fit(X_train, y_train)"
      ],
      "execution_count": 27,
      "outputs": [
        {
          "output_type": "execute_result",
          "data": {
            "text/plain": [
              "GridSearchCV(cv=5, error_score=nan,\n",
              "             estimator=KNeighborsRegressor(algorithm='auto', leaf_size=30,\n",
              "                                           metric='minkowski',\n",
              "                                           metric_params=None, n_jobs=None,\n",
              "                                           n_neighbors=5, p=2,\n",
              "                                           weights='uniform'),\n",
              "             iid='deprecated', n_jobs=None,\n",
              "             param_grid={'n_neighbors': [1, 5, 10, 20], 'p': [1, 2, 3],\n",
              "                         'weights': ['uniform', 'distance']},\n",
              "             pre_dispatch='2*n_jobs', refit=True, return_train_score=False,\n",
              "             scoring=None, verbose=0)"
            ]
          },
          "metadata": {
            "tags": []
          },
          "execution_count": 27
        }
      ]
    },
    {
      "cell_type": "code",
      "metadata": {
        "id": "6it2fYjRMaWZ",
        "colab": {
          "base_uri": "https://localhost:8080/"
        },
        "outputId": "7f27a61a-b83c-4181-968e-f0624714956c"
      },
      "source": [
        "grid_searcher.best_params_"
      ],
      "execution_count": 28,
      "outputs": [
        {
          "output_type": "execute_result",
          "data": {
            "text/plain": [
              "{'n_neighbors': 5, 'p': 1, 'weights': 'distance'}"
            ]
          },
          "metadata": {
            "tags": []
          },
          "execution_count": 28
        }
      ]
    },
    {
      "cell_type": "code",
      "metadata": {
        "colab": {
          "base_uri": "https://localhost:8080/"
        },
        "id": "qWQNfxLrLqzJ",
        "outputId": "19277d5d-ba2c-430b-df1a-8282955aa276"
      },
      "source": [
        "grid_searcher.predict(X_test)"
      ],
      "execution_count": 29,
      "outputs": [
        {
          "output_type": "execute_result",
          "data": {
            "text/plain": [
              "array([10.46272191, 34.44109885,  8.4277294 , 19.77252397, 14.94812207,\n",
              "       27.85554834, 30.80292428, 20.66688916, 19.21990086, 22.31782563,\n",
              "       17.97331399, 20.11666757, 19.71665556, 18.52919699, 19.36696952,\n",
              "       24.76610943, 24.08313361, 26.11716055, 27.43019715, 20.30558686,\n",
              "       23.35046442, 31.06679577, 21.12364978, 15.86582451, 24.07511735,\n",
              "       22.78795067, 29.6949787 , 35.74822689, 35.07703739, 16.70367481,\n",
              "       26.95545442, 18.65916735, 42.54825333,  8.80022062, 38.27424552,\n",
              "       38.27526582, 19.71951209, 12.91421971, 21.83650331, 22.31739529,\n",
              "       20.17745611, 21.87981506, 37.27858366, 26.30402995, 34.05694674,\n",
              "       12.73342025, 24.45030692, 27.42273728, 12.20235042, 26.15427872,\n",
              "       15.76171938, 20.21622694, 22.5411708 , 31.32520228, 38.62695882,\n",
              "       27.7416551 , 21.57188107, 30.9113964 , 12.07823291, 22.2165186 ,\n",
              "       21.17030038, 21.19774595, 25.18174963, 22.42110345, 24.05089276,\n",
              "       13.33908628, 44.91292302, 19.18708001, 10.66385849, 14.47497426,\n",
              "       14.82932128, 19.42523391, 22.62527223, 23.7698385 , 28.64796842,\n",
              "       30.04536106, 36.57752057, 24.62848699, 23.83020935, 10.07047601,\n",
              "       22.91654598, 18.16158386, 23.4631439 , 20.19955395, 21.51871986,\n",
              "       29.90747659, 32.40322299, 25.96004921, 20.07401915, 13.89204721,\n",
              "       22.14773086, 18.48844138, 19.90265626, 35.5686119 , 21.49100521,\n",
              "       22.59121626, 25.70194333, 21.67591351, 14.23236944, 22.86577311,\n",
              "       21.49037435, 37.52745176])"
            ]
          },
          "metadata": {
            "tags": []
          },
          "execution_count": 29
        }
      ]
    },
    {
      "cell_type": "code",
      "metadata": {
        "colab": {
          "base_uri": "https://localhost:8080/"
        },
        "id": "q9s1iDc8L3HB",
        "outputId": "9366fa1f-5bee-47dd-ac90-0f81815dc68a"
      },
      "source": [
        "mean_squared_error(y_test, grid_searcher.predict(X_test))"
      ],
      "execution_count": 30,
      "outputs": [
        {
          "output_type": "execute_result",
          "data": {
            "text/plain": [
              "25.01717635872573"
            ]
          },
          "metadata": {
            "tags": []
          },
          "execution_count": 30
        }
      ]
    },
    {
      "cell_type": "code",
      "metadata": {
        "id": "MS7WnbD-MAc4"
      },
      "source": [
        "metrics = []\n",
        "\n",
        "#as epochs\n",
        "for n in range(1,30,3):\n",
        "  knn = KNeighborsRegressor(n_neighbors=n)\n",
        "  knn.fit(X_train, y_train)\n",
        "  metrics.append(mean_squared_error(y_test, knn.predict(X_test)))"
      ],
      "execution_count": 31,
      "outputs": []
    },
    {
      "cell_type": "code",
      "metadata": {
        "colab": {
          "base_uri": "https://localhost:8080/",
          "height": 283
        },
        "id": "mRCJqfrFMrJg",
        "outputId": "0d1c405f-632e-43a3-c268-b15cf5baf732"
      },
      "source": [
        "plt.plot(range(1,30,3), metrics)"
      ],
      "execution_count": 32,
      "outputs": [
        {
          "output_type": "execute_result",
          "data": {
            "text/plain": [
              "[<matplotlib.lines.Line2D at 0x7f46ad196910>]"
            ]
          },
          "metadata": {
            "tags": []
          },
          "execution_count": 32
        },
        {
          "output_type": "display_data",
          "data": {
            "image/png": "[encoded data removed]",
            "text/plain": [
              "<Figure size 432x288 with 1 Axes>"
            ]
          },
          "metadata": {
            "tags": [],
            "needs_background": "light"
          }
        }
      ]
    }
  ]
}