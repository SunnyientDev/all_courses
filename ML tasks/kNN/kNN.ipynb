{
 "metadata": {
  "language_info": {
   "codemirror_mode": {
    "name": "ipython",
    "version": 3
   },
   "file_extension": ".py",
   "mimetype": "text/x-python",
   "name": "python",
   "nbconvert_exporter": "python",
   "pygments_lexer": "ipython3",
   "version": "3.6.6"
  },
  "orig_nbformat": 4,
  "kernelspec": {
   "name": "python3",
   "display_name": "Python 3.6.6 64-bit"
  },
  "interpreter": {
   "hash": "2e5c6628eef985e7fd2fa2aad22c988c5b8aa1d2648cf9c51c543a2a2637c546"
  }
 },
 "nbformat": 4,
 "nbformat_minor": 2,
 "cells": [
  {
   "source": [
    "# kNN (k Nearest Neighbours)\n",
    "\n",
    "**Type of algorithms:** classification, regression.\n",
    "\n",
    "**Steps:**\n",
    "\n",
    "1. Find the distances for each object in dataset of training.\n",
    "\n",
    "2. Take k objects with minimal distances.\n",
    "\n",
    "3. The class of the object to be classified is the class that occurs most frequently among the k nearest neighbors"
   ],
   "cell_type": "markdown",
   "metadata": {}
  },
  {
   "cell_type": "code",
   "execution_count": 1,
   "metadata": {},
   "outputs": [],
   "source": [
    "import numpy as np \n",
    "immport matplotlib.pyplot as plt \n",
    "import rrandom, math"
   ]
  },
  {
   "cell_type": "code",
   "execution_count": 2,
   "metadata": {},
   "outputs": [],
   "source": [
    "# data generator\n",
    "def generateData(NumOfClasses, NumOfObjects):\n",
    "    data = []\n",
    "\n",
    "    for obj in range(NumOfObjects):\n",
    "        # center of 2-dimensional gaussian\n",
    "        centerX = random.random() * 5.0\n",
    "        centerY = random.random() * 5.0\n",
    "\n",
    "        for rowNum in range(NumOfClasses):\n",
    "            data.append(\n",
    "                [\n",
    "                    [random.gauss(centerX, 0.5),\n",
    "                    random.gauss(centerY, obj)]\n",
    "                ]\n",
    "            )\n",
    "            return data\n",
    "\n",
    "def showData(NumOfClasses, NumOfObjects):\n",
    "    train_ds = generateData(Num)"
   ]
  },
  {
   "cell_type": "code",
   "execution_count": null,
   "metadata": {},
   "outputs": [],
   "source": []
  }
 ]
}