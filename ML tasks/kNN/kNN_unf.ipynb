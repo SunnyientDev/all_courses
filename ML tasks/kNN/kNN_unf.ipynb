{
 "metadata": {
  "language_info": {
   "codemirror_mode": {
    "name": "ipython",
    "version": 3
   },
   "file_extension": ".py",
   "mimetype": "text/x-python",
   "name": "python",
   "nbconvert_exporter": "python",
   "pygments_lexer": "ipython3",
   "version": "3.6.6"
  },
  "orig_nbformat": 4,
  "kernelspec": {
   "name": "python3",
   "display_name": "Python 3.6.6 64-bit"
  },
  "interpreter": {
   "hash": "2e5c6628eef985e7fd2fa2aad22c988c5b8aa1d2648cf9c51c543a2a2637c546"
  }
 },
 "nbformat": 4,
 "nbformat_minor": 2,
 "cells": [
  {
   "cell_type": "markdown",
   "source": [
    "# kNN (k Nearest Neighbours)\n",
    "\n",
    "**Type of algorithms:** classification, regression.\n",
    "\n",
    "**Steps:**\n",
    "\n",
    "1. Find the distances for each object in dataset of training.\n",
    "\n",
    "2. Take k objects with minimal distances.\n",
    "\n",
    "3. The class of the object to be classified is the class that occurs most frequently among the k nearest neighbors"
   ],
   "metadata": {}
  },
  {
   "cell_type": "code",
   "execution_count": 1,
   "source": [
    "import numpy as np \r\n",
    "immport matplotlib.pyplot as plt \r\n",
    "import random, math"
   ],
   "outputs": [],
   "metadata": {}
  },
  {
   "cell_type": "code",
   "execution_count": 2,
   "source": [
    "# data generator\r\n",
    "def generateData(NumOfClasses, NumOfObjects):\r\n",
    "    data = []\r\n",
    "\r\n",
    "    for obj in range(NumOfObjects):\r\n",
    "        # center of 2-dimensional gaussian\r\n",
    "        centerX = random.random() * 5.0\r\n",
    "        centerY = random.random() * 5.0\r\n",
    "\r\n",
    "        for rowNum in range(NumOfClasses):\r\n",
    "            data.append(\r\n",
    "                [\r\n",
    "                    [random.gauss(centerX, 0.5),\r\n",
    "                    random.gauss(centerY, obj)]\r\n",
    "                ]\r\n",
    "            )\r\n",
    "            return data\r\n",
    "\r\n",
    "def showData(NumOfClasses, NumOfObjects):\r\n",
    "    train_ds = generateData(Num)"
   ],
   "outputs": [],
   "metadata": {}
  },
  {
   "cell_type": "code",
   "execution_count": null,
   "source": [],
   "outputs": [],
   "metadata": {}
  }
 ]
}