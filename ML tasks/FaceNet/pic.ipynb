{
 "cells": [
  {
   "cell_type": "markdown",
   "metadata": {},
   "source": [
    "# Введение\n",
    "1956 год - Маккартни, введен термин ИИ. (начало эпохи ИИ)\n",
    "Данные, алгоритм, мощность выч машины, сценарий (постановка задачи) - главные состваляющие ИИ. применение искусственного интеллекта по четырем\n",
    "\n",
    "## Основные школы философии: \n",
    "\n",
    "Символизм - обработка символов.\n",
    "Коннекционизм (связи) - подобие работы человеческого мозга.\n",
    "Бехаворизм (поведение) - адаптация и эволюционные вычисления.\n",
    "\n",
    "Сильного ИИ не существует.\n",
    "\n",
    "## Беспилотники\n",
    "\n",
    "Уровни автономности: L0-L5 (неавтоматическое - автоматическое)"
   ]
  },
  {
   "cell_type": "code",
   "execution_count": 4,
   "metadata": {},
   "outputs": [
    {
     "name": "stdout",
     "output_type": "stream",
     "text": [
      "1.17.3\n"
     ]
    }
   ],
   "source": [
    "import numpy as np\n",
    "\n",
    "print(np.__version__)"
   ]
  },
  {
   "cell_type": "code",
   "execution_count": 5,
   "metadata": {},
   "outputs": [
    {
     "name": "stdout",
     "output_type": "stream",
     "text": [
      "ok\n",
      "lol\n"
     ]
    }
   ],
   "source": []
  },
  {
   "cell_type": "code",
   "execution_count": null,
   "metadata": {},
   "outputs": [],
   "source": []
  }
 ],
 "metadata": {
  "interpreter": {
   "hash": "2e5c6628eef985e7fd2fa2aad22c988c5b8aa1d2648cf9c51c543a2a2637c546"
  },
  "kernelspec": {
   "display_name": "Python 3.6.6 64-bit",
   "name": "python3"
  },
  "language_info": {
   "codemirror_mode": {
    "name": "ipython",
    "version": 3
   },
   "file_extension": ".py",
   "mimetype": "text/x-python",
   "name": "python",
   "nbconvert_exporter": "python",
   "pygments_lexer": "ipython3",
   "version": "3.6.6"
  },
  "orig_nbformat": 4
 },
 "nbformat": 4,
 "nbformat_minor": 2
}
