{
 "cells": [
  {
   "cell_type": "markdown",
   "source": [
    "# Os library"
   ],
   "metadata": {}
  },
  {
   "cell_type": "code",
   "execution_count": 12,
   "source": [
    "import os\r\n",
    "\r\n",
    "print(os.listdir('C:/Users/Sunny/kaggle_contests/[04] Tensorflow basics')) # only absolute path"
   ],
   "outputs": [
    {
     "output_type": "stream",
     "name": "stdout",
     "text": [
      "['NH_tutorial.ipynb', 'Testing', 'Training']\n"
     ]
    }
   ],
   "metadata": {}
  },
  {
   "cell_type": "code",
   "execution_count": 14,
   "source": [
    "main_dir = 'C:/Users/Sunny/kaggle_contests/[04] Tensorflow basics/'\r\n",
    "\r\n",
    "dirs = [d for d in os.listdir(main_dir) \r\n",
    "                if os.path.isdir(os.path.join(main_dir, d))]\r\n",
    "\r\n",
    "print(dirs)"
   ],
   "outputs": [
    {
     "output_type": "stream",
     "name": "stdout",
     "text": [
      "['Testing', 'Training']\n"
     ]
    }
   ],
   "metadata": {}
  },
  {
   "cell_type": "code",
   "execution_count": 17,
   "source": [
    "os.path.isdir('C:/Users/Sunny/kaggle_contests/[04] Tensorflow basics/file')"
   ],
   "outputs": [
    {
     "output_type": "execute_result",
     "data": {
      "text/plain": [
       "False"
      ]
     },
     "metadata": {},
     "execution_count": 17
    }
   ],
   "metadata": {}
  }
 ],
 "metadata": {
  "orig_nbformat": 4,
  "language_info": {
   "name": "python",
   "version": "3.6.6",
   "mimetype": "text/x-python",
   "codemirror_mode": {
    "name": "ipython",
    "version": 3
   },
   "pygments_lexer": "ipython3",
   "nbconvert_exporter": "python",
   "file_extension": ".py"
  },
  "kernelspec": {
   "name": "python3",
   "display_name": "Python 3.6.6 64-bit"
  },
  "interpreter": {
   "hash": "2e5c6628eef985e7fd2fa2aad22c988c5b8aa1d2648cf9c51c543a2a2637c546"
  }
 },
 "nbformat": 4,
 "nbformat_minor": 2
}