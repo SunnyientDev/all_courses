{
  "nbformat": 4,
  "nbformat_minor": 0,
  "metadata": {
    "colab": {
      "name": "HW_1.ipynb",
      "provenance": []
    },
    "kernelspec": {
      "name": "python3",
      "display_name": "Python 3"
    },
    "language_info": {
      "name": "python"
    }
  },
  "cells": [
    {
      "cell_type": "markdown",
      "metadata": {
        "id": "i6pNMhSP97T2"
      },
      "source": [
        "# Задание 2\n",
        "\n",
        "Построить свою модель линейной регрессии на основе библиотеки sklearn с датасетом"
      ]
    },
    {
      "cell_type": "code",
      "metadata": {
        "id": "YqoRVclD4N__"
      },
      "source": [
        "import pandas as pd\n",
        "import numpy as np\n",
        "from sklearn.linear_model import LinearRegression"
      ],
      "execution_count": 51,
      "outputs": []
    },
    {
      "cell_type": "code",
      "metadata": {
        "id": "C0SQ2iA1ZPWp"
      },
      "source": [
        "data = pd.read_csv(\"/content/db_LinearRegression.txt\", sep=\"\\t\", header=None, names=['x','y'])\n",
        "x = np.array(data['x']).reshape((-1, 1))\n",
        "y = np.array(data['y'])"
      ],
      "execution_count": 52,
      "outputs": []
    },
    {
      "cell_type": "code",
      "metadata": {
        "colab": {
          "base_uri": "https://localhost:8080/"
        },
        "id": "vpxgAyEGdcXi",
        "outputId": "43b8abf0-b18f-4d8a-ad35-17ed605511f9"
      },
      "source": [
        "model = LinearRegression()\n",
        "model.fit(x,y)"
      ],
      "execution_count": 53,
      "outputs": [
        {
          "output_type": "execute_result",
          "data": {
            "text/plain": [
              "LinearRegression(copy_X=True, fit_intercept=True, n_jobs=None, normalize=False)"
            ]
          },
          "metadata": {},
          "execution_count": 53
        }
      ]
    },
    {
      "cell_type": "markdown",
      "metadata": {
        "id": "AK582QTY5vwb"
      },
      "source": [
        "Проверим модель через метрику R² - коэффициент детерминации, доля дисперсии зависимой переменной, объясняемая рассматриваемой моделью зависимости, то есть объясняющими переменными."
      ]
    },
    {
      "cell_type": "code",
      "metadata": {
        "colab": {
          "base_uri": "https://localhost:8080/"
        },
        "id": "p_HzK-RY5VXL",
        "outputId": "b24330e5-fdb5-4c0a-bd6a-f838d90f3a33"
      },
      "source": [
        "r_sq = model.score(x, y)\n",
        "print('coefficient of determination:', r_sq)\n",
        "\n",
        "# возвращают значения коэффициентов прямой \n",
        "# без непосредственного задания пользователем формул метода наименьших квадратов\n",
        "print('intercept:', model.intercept_)\n",
        "print('slope:', model.coef_)"
      ],
      "execution_count": 54,
      "outputs": [
        {
          "output_type": "stream",
          "name": "stdout",
          "text": [
            "coefficient of determination: 0.8333466719794502\n",
            "intercept: 19.994485759114824\n",
            "slope: [3.41382356]\n"
          ]
        }
      ]
    },
    {
      "cell_type": "markdown",
      "metadata": {
        "id": "36p4EQ8G6bm8"
      },
      "source": [
        ".intercept_, который представляет собой коэффициент, и b₀ с .coef_, которые представляют b₁"
      ]
    },
    {
      "cell_type": "code",
      "metadata": {
        "colab": {
          "base_uri": "https://localhost:8080/"
        },
        "id": "ZmWI3SyX58-v",
        "outputId": "919d2f4e-4107-4b4b-f975-5f7851b8c5c2"
      },
      "source": [
        "y_pred = model.predict(x)\n",
        "print('predicted response:', y_pred, sep='\\n')"
      ],
      "execution_count": 55,
      "outputs": [
        {
          "output_type": "stream",
          "name": "stdout",
          "text": [
            "predicted response:\n",
            "[388.68743025  84.8571334   64.37419204 443.30860721 156.54742816\n",
            " 214.58242868  98.51242764  67.7880156  173.61654596  54.13272136\n",
            "  37.06360356 183.85801664  57.54654492  98.51242764  43.89125068\n",
            "  26.82213288 101.9262512   40.47742712  30.23595644  98.51242764\n",
            "  40.47742712  50.7188978   50.7188978   30.23595644 118.995369\n",
            "  43.89125068  33.64978     88.27095696  43.89125068  33.64978\n",
            "  19.99448576 105.34007476  40.47742712  37.06360356  95.09860408\n",
            "  57.54654492 228.23772292  60.96036848  33.64978     74.61566272\n",
            "  64.37419204 224.82389936 159.96125172 146.30595748 207.75478156\n",
            " 159.96125172  57.54654492 112.16772188  47.30507424  30.23595644\n",
            "  78.02948628  64.37419204  64.37419204  71.20183916  47.30507424\n",
            " 118.995369   122.40919256 101.9262512   50.7188978  125.82301612\n",
            "  67.7880156  200.92713444 108.75389832]\n"
          ]
        }
      ]
    },
    {
      "cell_type": "code",
      "metadata": {
        "colab": {
          "base_uri": "https://localhost:8080/"
        },
        "id": "VOYXTagX7D3Q",
        "outputId": "f5a107d0-1eda-467c-db0b-e90734d07c38"
      },
      "source": [
        "y = np.asarray(y)\n",
        "y"
      ],
      "execution_count": 56,
      "outputs": [
        {
          "output_type": "execute_result",
          "data": {
            "text/plain": [
              "array([392.5,  46.2,  15.7, 422.2, 119.4, 170.9,  56.9,  77.5, 214. ,\n",
              "        65.3,  20.9, 248.1,  23.5,  39.6,  48.8,   6.6, 134.9,  50.9,\n",
              "         4.4, 113. ,  14.8,  48.7,  52.1,  13.2, 103.9,  77.5,  11.8,\n",
              "        98.1,  27.9,  38.1,   0. ,  69.2,  14.6,  40.3, 161.5,  57.2,\n",
              "       217.6,  58.1,  12.6,  59.6,  89.9, 202.4, 181.3, 152.8, 162.8,\n",
              "        73.4,  21.3,  92.6,  76.1,  39.9, 142.1,  93. ,  31.9,  32.1,\n",
              "        55.6, 133.3, 194.5, 137.9,  87.4, 209.8,  95.5, 244.6, 187.5])"
            ]
          },
          "metadata": {},
          "execution_count": 56
        }
      ]
    },
    {
      "cell_type": "code",
      "metadata": {
        "colab": {
          "base_uri": "https://localhost:8080/",
          "height": 592
        },
        "id": "7rHDyjVd7F_R",
        "outputId": "dda431ae-aed2-4c8a-adb1-020a40419dfa"
      },
      "source": [
        "import matplotlib.pyplot as plt\n",
        "\n",
        "func = lambda x: model.intercept_ + model.coef_[0]*x\n",
        "\n",
        "plt.figure(figsize=(10,10))\n",
        "plt.scatter(x, y)\n",
        "plt.scatter(x, y_pred)\n",
        "plt.plot(x, func(x), 'c')\n",
        "plt.show()"
      ],
      "execution_count": 63,
      "outputs": [
        {
          "output_type": "display_data",
          "data": {
            "image/png": "[encoded data removed]",
            "text/plain": [
              "<Figure size 720x720 with 1 Axes>"
            ]
          },
          "metadata": {
            "needs_background": "light"
          }
        }
      ]
    },
    {
      "cell_type": "markdown",
      "metadata": {
        "id": "DRAr2Ui1-Qlg"
      },
      "source": [
        "# Задание 3\n",
        "\n",
        "Реализовать Наивный Баесовский классификатор с помощью sklearn и попробовать на датасете"
      ]
    },
    {
      "cell_type": "code",
      "metadata": {
        "id": "gYGnrxtG-WmE"
      },
      "source": [
        "import pandas as pd\n",
        "import numpy as np\n",
        "import matplotlib.pyplot as plt\n",
        "\n",
        "from sklearn.model_selection import train_test_split\n",
        "from sklearn.feature_extraction.text import CountVectorizer\n",
        "from sklearn.naive_bayes import MultinomialNB\n",
        "from sklearn.metrics import classification_report"
      ],
      "execution_count": 64,
      "outputs": []
    },
    {
      "cell_type": "code",
      "metadata": {
        "colab": {
          "base_uri": "https://localhost:8080/",
          "height": 203
        },
        "id": "XZC_sVcr_WYu",
        "outputId": "0e12623e-16e6-41d3-f8f5-368e78d65de2"
      },
      "source": [
        "db = pd.read_csv(\"/content/db_sms_SpamCollection.txt\", sep=\"\\t\", header=None, names=['target','data'])\n",
        "db.head()"
      ],
      "execution_count": 68,
      "outputs": [
        {
          "output_type": "execute_result",
          "data": {
            "text/html": [
              "<div>\n",
              "<style scoped>\n",
              "    .dataframe tbody tr th:only-of-type {\n",
              "        vertical-align: middle;\n",
              "    }\n",
              "\n",
              "    .dataframe tbody tr th {\n",
              "        vertical-align: top;\n",
              "    }\n",
              "\n",
              "    .dataframe thead th {\n",
              "        text-align: right;\n",
              "    }\n",
              "</style>\n",
              "<table border=\"1\" class=\"dataframe\">\n",
              "  <thead>\n",
              "    <tr style=\"text-align: right;\">\n",
              "      <th></th>\n",
              "      <th>target</th>\n",
              "      <th>data</th>\n",
              "    </tr>\n",
              "  </thead>\n",
              "  <tbody>\n",
              "    <tr>\n",
              "      <th>0</th>\n",
              "      <td>ham</td>\n",
              "      <td>Go until jurong point, crazy.. Available only ...</td>\n",
              "    </tr>\n",
              "    <tr>\n",
              "      <th>1</th>\n",
              "      <td>ham</td>\n",
              "      <td>Ok lar... Joking wif u oni...</td>\n",
              "    </tr>\n",
              "    <tr>\n",
              "      <th>2</th>\n",
              "      <td>spam</td>\n",
              "      <td>Free entry in 2 a wkly comp to win FA Cup fina...</td>\n",
              "    </tr>\n",
              "    <tr>\n",
              "      <th>3</th>\n",
              "      <td>ham</td>\n",
              "      <td>U dun say so early hor... U c already then say...</td>\n",
              "    </tr>\n",
              "    <tr>\n",
              "      <th>4</th>\n",
              "      <td>ham</td>\n",
              "      <td>Nah I don't think he goes to usf, he lives aro...</td>\n",
              "    </tr>\n",
              "  </tbody>\n",
              "</table>\n",
              "</div>"
            ],
            "text/plain": [
              "  target                                               data\n",
              "0    ham  Go until jurong point, crazy.. Available only ...\n",
              "1    ham                      Ok lar... Joking wif u oni...\n",
              "2   spam  Free entry in 2 a wkly comp to win FA Cup fina...\n",
              "3    ham  U dun say so early hor... U c already then say...\n",
              "4    ham  Nah I don't think he goes to usf, he lives aro..."
            ]
          },
          "metadata": {},
          "execution_count": 68
        }
      ]
    },
    {
      "cell_type": "code",
      "metadata": {
        "id": "rNd1sv5S_jjJ"
      },
      "source": [
        "X_train, X_test, y_train, y_test = train_test_split(db.data, db.target, test_size=0.25)"
      ],
      "execution_count": 69,
      "outputs": []
    },
    {
      "cell_type": "code",
      "metadata": {
        "colab": {
          "base_uri": "https://localhost:8080/"
        },
        "id": "-Abqqxo__7vk",
        "outputId": "95b2eeec-a0aa-45c4-eb7e-fd1c31124c8b"
      },
      "source": [
        "mnb = MultinomialNB()\n",
        "mnb.fit(X_train, y_train)\n",
        "y_predict = mnb.predict(X_test)\n",
        "\n",
        "print('The Accuracy of Naive Bayes:', mnb.score(X_test, y_test))\n",
        "print(classification_report(y_test, y_predict))"
      ],
      "execution_count": 75,
      "outputs": [
        {
          "output_type": "stream",
          "name": "stdout",
          "text": [
            "The Accuracy of Naive Bayes: 0.9849246231155779\n",
            "              precision    recall  f1-score   support\n",
            "\n",
            "         ham       0.99      1.00      0.99      1222\n",
            "        spam       0.97      0.90      0.94       171\n",
            "\n",
            "    accuracy                           0.98      1393\n",
            "   macro avg       0.98      0.95      0.96      1393\n",
            "weighted avg       0.98      0.98      0.98      1393\n",
            "\n"
          ]
        }
      ]
    },
    {
      "cell_type": "code",
      "metadata": {
        "colab": {
          "base_uri": "https://localhost:8080/"
        },
        "id": "xfiI8dvMAD83",
        "outputId": "215c8f58-eb41-4920-de73-e0711b6cb2f3"
      },
      "source": [
        "count = 0\n",
        "y_test = list(y_test)\n",
        "\n",
        "for i in range(len(y_predict)):\n",
        "  if y_predict[i] == y_test[i]:\n",
        "    count = count + 1\n",
        "\n",
        "print(\"The count of coincidences: {0}\".format(count))"
      ],
      "execution_count": 90,
      "outputs": [
        {
          "output_type": "stream",
          "name": "stdout",
          "text": [
            "The count of coincidences: 1372\n"
          ]
        }
      ]
    }
  ]
}