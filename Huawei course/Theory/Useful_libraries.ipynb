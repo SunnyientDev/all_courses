{
 "cells": [
  {
   "cell_type": "markdown",
   "metadata": {
    "id": "9VEOevwk6foY"
   },
   "source": [
    "### Task 0\n",
    "\n",
    "Show ***the Zen of Python***"
   ]
  },
  {
   "cell_type": "code",
   "execution_count": 1,
   "metadata": {
    "colab": {
     "base_uri": "https://localhost:8080/"
    },
    "id": "uqaXWIST2Nai",
    "outputId": "a9b37a06-1126-4c37-b894-aabf9c502878"
   },
   "outputs": [
    {
     "name": "stdout",
     "output_type": "stream",
     "text": [
      "The Zen of Python, by Tim Peters\n",
      "\n",
      "Beautiful is better than ugly.\n",
      "Explicit is better than implicit.\n",
      "Simple is better than complex.\n",
      "Complex is better than complicated.\n",
      "Flat is better than nested.\n",
      "Sparse is better than dense.\n",
      "Readability counts.\n",
      "Special cases aren't special enough to break the rules.\n",
      "Although practicality beats purity.\n",
      "Errors should never pass silently.\n",
      "Unless explicitly silenced.\n",
      "In the face of ambiguity, refuse the temptation to guess.\n",
      "There should be one-- and preferably only one --obvious way to do it.\n",
      "Although that way may not be obvious at first unless you're Dutch.\n",
      "Now is better than never.\n",
      "Although never is often better than *right* now.\n",
      "If the implementation is hard to explain, it's a bad idea.\n",
      "If the implementation is easy to explain, it may be a good idea.\n",
      "Namespaces are one honking great idea -- let's do more of those!\n"
     ]
    }
   ],
   "source": [
    "import this"
   ]
  },
  {
   "cell_type": "markdown",
   "metadata": {
    "id": "Bec_mc90v6Zh"
   },
   "source": [
    "### Task 1\n",
    "\n",
    "Сalculate the area of ​​a circle with a radius ***34*** using module ***math***"
   ]
  },
  {
   "cell_type": "code",
   "execution_count": 2,
   "metadata": {
    "colab": {
     "base_uri": "https://localhost:8080/"
    },
    "id": "mgNGS2Wh-yUe",
    "outputId": "9896d791-2b79-4d3f-93ae-917cd8b13956"
   },
   "outputs": [
    {
     "name": "stdout",
     "output_type": "stream",
     "text": [
      "3631.681107549801\n"
     ]
    }
   ],
   "source": [
    "import math\n",
    "\n",
    "radius = 34\n",
    "\n",
    "square_circle = math.pi * math.pow(radius, 2)\n",
    "print(square_circle)"
   ]
  },
  {
   "cell_type": "markdown",
   "metadata": {
    "id": "YjpCJlaHwner"
   },
   "source": [
    "### Task 2\n",
    "\n",
    "Find the area of ​​a hexagon with a circumscribed circle radius ***8*** using module ***math***"
   ]
  },
  {
   "cell_type": "code",
   "execution_count": 3,
   "metadata": {
    "colab": {
     "base_uri": "https://localhost:8080/"
    },
    "id": "gt4diJ3ixHtK",
    "outputId": "27edfa3a-daff-460f-8cb6-649c2992846f"
   },
   "outputs": [
    {
     "name": "stdout",
     "output_type": "stream",
     "text": [
      "166.27687752661222\n"
     ]
    }
   ],
   "source": [
    "import math\n",
    "\n",
    "circumscribed_radius = 8\n",
    "\n",
    "square_hexagon = (3 * math.sqrt(3) * math.pow(circumscribed_radius, 2))/2\n",
    "print(square_hexagon)"
   ]
  },
  {
   "cell_type": "markdown",
   "metadata": {
    "id": "IH8pklusxfvq"
   },
   "source": [
    "### Task 3\n",
    "\n",
    "Import the ***calendar*** module. Show the names in the module namespace using ***dir*** method. Show information about class ***TextCalendar*** from module ***calendar*** using function ***help***. Print ***2021*** calendar.  "
   ]
  },
  {
   "cell_type": "code",
   "execution_count": 4,
   "metadata": {
    "colab": {
     "base_uri": "https://localhost:8080/"
    },
    "id": "4MggzXY2Auc8",
    "outputId": "c8dfdcd7-0860-46ca-afbd-2fb348710436"
   },
   "outputs": [
    {
     "name": "stdout",
     "output_type": "stream",
     "text": [
      "                                  2021\n",
      "\n",
      "      January                   February                   March\n",
      "Mo Tu We Th Fr Sa Su      Mo Tu We Th Fr Sa Su      Mo Tu We Th Fr Sa Su\n",
      "             1  2  3       1  2  3  4  5  6  7       1  2  3  4  5  6  7\n",
      " 4  5  6  7  8  9 10       8  9 10 11 12 13 14       8  9 10 11 12 13 14\n",
      "11 12 13 14 15 16 17      15 16 17 18 19 20 21      15 16 17 18 19 20 21\n",
      "18 19 20 21 22 23 24      22 23 24 25 26 27 28      22 23 24 25 26 27 28\n",
      "25 26 27 28 29 30 31                                29 30 31\n",
      "\n",
      "       April                      May                       June\n",
      "Mo Tu We Th Fr Sa Su      Mo Tu We Th Fr Sa Su      Mo Tu We Th Fr Sa Su\n",
      "          1  2  3  4                      1  2          1  2  3  4  5  6\n",
      " 5  6  7  8  9 10 11       3  4  5  6  7  8  9       7  8  9 10 11 12 13\n",
      "12 13 14 15 16 17 18      10 11 12 13 14 15 16      14 15 16 17 18 19 20\n",
      "19 20 21 22 23 24 25      17 18 19 20 21 22 23      21 22 23 24 25 26 27\n",
      "26 27 28 29 30            24 25 26 27 28 29 30      28 29 30\n",
      "                          31\n",
      "\n",
      "        July                     August                  September\n",
      "Mo Tu We Th Fr Sa Su      Mo Tu We Th Fr Sa Su      Mo Tu We Th Fr Sa Su\n",
      "          1  2  3  4                         1             1  2  3  4  5\n",
      " 5  6  7  8  9 10 11       2  3  4  5  6  7  8       6  7  8  9 10 11 12\n",
      "12 13 14 15 16 17 18       9 10 11 12 13 14 15      13 14 15 16 17 18 19\n",
      "19 20 21 22 23 24 25      16 17 18 19 20 21 22      20 21 22 23 24 25 26\n",
      "26 27 28 29 30 31         23 24 25 26 27 28 29      27 28 29 30\n",
      "                          30 31\n",
      "\n",
      "      October                   November                  December\n",
      "Mo Tu We Th Fr Sa Su      Mo Tu We Th Fr Sa Su      Mo Tu We Th Fr Sa Su\n",
      "             1  2  3       1  2  3  4  5  6  7             1  2  3  4  5\n",
      " 4  5  6  7  8  9 10       8  9 10 11 12 13 14       6  7  8  9 10 11 12\n",
      "11 12 13 14 15 16 17      15 16 17 18 19 20 21      13 14 15 16 17 18 19\n",
      "18 19 20 21 22 23 24      22 23 24 25 26 27 28      20 21 22 23 24 25 26\n",
      "25 26 27 28 29 30 31      29 30                     27 28 29 30 31\n",
      "\n"
     ]
    }
   ],
   "source": [
    "import calendar\n",
    "\n",
    "# dir(calendar)\n",
    "# help(calendar.TextCalendar)\n",
    "\n",
    "simple_calendar = calendar.TextCalendar(0)\n",
    "print(simple_calendar.formatyear(2021))"
   ]
  },
  {
   "cell_type": "markdown",
   "metadata": {
    "id": "nKYtJa-szCZD"
   },
   "source": [
    "### Task 4\n",
    "\n",
    "Determine what day of the week was ***April 16, 2016*** using the ***calendar*** module and the ***weekday*** method. Use an ***alias*** when importing\n"
   ]
  },
  {
   "cell_type": "code",
   "execution_count": 5,
   "metadata": {
    "colab": {
     "base_uri": "https://localhost:8080/"
    },
    "id": "1BS6tuxBuSt1",
    "outputId": "1f6e2078-7c41-49e8-e2d3-4b022ffb7b19"
   },
   "outputs": [
    {
     "data": {
      "text/plain": [
       "1"
      ]
     },
     "execution_count": 5,
     "metadata": {},
     "output_type": "execute_result"
    }
   ],
   "source": [
    "from calendar import weekday as wd\n",
    "\n",
    "wd(2013, 4, 16)"
   ]
  },
  {
   "cell_type": "markdown",
   "metadata": {
    "id": "7XBlrdIp0bBZ"
   },
   "source": [
    "### Task 5\n",
    "\n",
    "Determine ***CUDA version*** (if You use Google Colab) or ***OS*** (If You use local machine) using ***os*** module and object ***environ***"
   ]
  },
  {
   "cell_type": "code",
   "execution_count": 8,
   "metadata": {
    "colab": {
     "base_uri": "https://localhost:8080/"
    },
    "id": "SMcPJZwzm_Zc",
    "outputId": "a02d52af-f66c-4c64-a4c3-a7978ef20c4f"
   },
   "outputs": [
    {
     "name": "stdout",
     "output_type": "stream",
     "text": [
      "Windows_NT\n"
     ]
    }
   ],
   "source": [
    "import os\n",
    "\n",
    "information_enviroment = os.environ\n",
    "print(information_enviroment['OS'])"
   ]
  },
  {
   "cell_type": "markdown",
   "metadata": {
    "id": "lXAXj_9Z1D1_"
   },
   "source": [
    "### Task 6\n",
    "\n",
    "Check the ***equivalence*** of ***two*** randomly filled ***numpy*** arrays"
   ]
  },
  {
   "cell_type": "code",
   "execution_count": 9,
   "metadata": {
    "colab": {
     "base_uri": "https://localhost:8080/"
    },
    "id": "WV8cRFqZoRBi",
    "outputId": "490bc0d0-51e0-47d2-9a2c-56b0ee42c365"
   },
   "outputs": [
    {
     "name": "stdout",
     "output_type": "stream",
     "text": [
      "False\n"
     ]
    }
   ],
   "source": [
    "import numpy as np\n",
    "\n",
    "A = np.random.randint(0,2,5)\n",
    "B = np.random.randint(0,2,5)\n",
    "equal = np.allclose(A,B)\n",
    "print(equal)"
   ]
  },
  {
   "cell_type": "markdown",
   "metadata": {
    "id": "n9_2gnid1N_a"
   },
   "source": [
    "### Task 7\n",
    "Using the ***random*** module generate three ***legths*** sides of some triangle. \n",
    "Check the existence of this triangle. A triangle exists if the sum of any ***two*** sides is ***greater*** than or ***equal*** to the length of the ***third*** side"
   ]
  },
  {
   "cell_type": "code",
   "execution_count": 3,
   "metadata": {
    "colab": {
     "base_uri": "https://localhost:8080/"
    },
    "id": "IJumrp0b4b3-",
    "outputId": "8110fcc1-8803-4a7d-b41e-770ef7b867a5"
   },
   "outputs": [
    {
     "name": "stdout",
     "output_type": "stream",
     "text": [
      "[0.5760834248019997, 0.87658630110376, 0.39434044875072927]\n",
      "Iteration is 3\n"
     ]
    }
   ],
   "source": [
    "import random\n",
    "\n",
    "random_values = []\n",
    "is_not_triangle = True\n",
    "iteration = 0\n",
    "\n",
    "while is_not_triangle:\n",
    "    iteration += 1\n",
    "    for i in range(3):\n",
    "        random_values.append(random.random()) \n",
    "    if  (random_values[0] + random_values[1] >= random_values[2]) \\\n",
    "      and (random_values[1] + random_values[2] >= random_values[0]) \\\n",
    "      and (random_values[0] + random_values[2] >= random_values[1]):\n",
    "        is_not_triangle = False\n",
    "        print(random_values)\n",
    "        print('Iteration is', iteration)\n",
    "    else:\n",
    "        random_values.clear()"
   ]
  },
  {
   "cell_type": "markdown",
   "metadata": {
    "id": "d5hDnmQZ2wtZ"
   },
   "source": [
    "### Task 8\n",
    "\n",
    "Create two lists with ***300000*** elements. Add them sum up and calculate the ***running time*** of the program using the ***time*** module"
   ]
  },
  {
   "cell_type": "code",
   "execution_count": 5,
   "metadata": {
    "colab": {
     "base_uri": "https://localhost:8080/"
    },
    "id": "0ziS1osL5EwH",
    "outputId": "c007d9cd-cdf9-4ab2-90f5-44d5fe796c70"
   },
   "outputs": [
    {
     "name": "stdout",
     "output_type": "stream",
     "text": [
      "programm time is 0.18401527404785156 seconds\n"
     ]
    }
   ],
   "source": [
    "import time\n",
    "import random\n",
    "\n",
    "start_time = time.time()\n",
    "\n",
    "first_list = []\n",
    "second_list = []\n",
    "\n",
    "for i in range(300000):\n",
    "    first_list.append(random.random())\n",
    "    second_list.append(random.random())\n",
    "\n",
    "result = first_list + second_list\n",
    "print('programm time is', time.time() - start_time, 'seconds')"
   ]
  },
  {
   "cell_type": "markdown",
   "metadata": {
    "id": "jjhLoTtA3UpN"
   },
   "source": [
    "### Task 9\n",
    "There is some ***randomly*** generated text. Count the ***frequency of occurrence*** of each word in the text"
   ]
  },
  {
   "cell_type": "code",
   "execution_count": 6,
   "metadata": {
    "colab": {
     "base_uri": "https://localhost:8080/"
    },
    "id": "GAW36yrZ9oJX",
    "outputId": "ceed7d61-46d5-4c28-d4b6-257b99dddddb"
   },
   "outputs": [
    {
     "name": "stdout",
     "output_type": "stream",
     "text": [
      "{'Z': 1, 'SXtBJTar': 1, 'X': 1, 'pFxWLPaVO': 1, 'anhmFlYUr': 1, 'gkUUTUn': 1, 'wE': 1, 'pkEiXIZe': 1, 'usJEDwS': 1, 'FxteTb': 1, 'kAsQxmYe': 1, 'IsiVwyohI': 1, 'tREx': 1, 'yhlHL': 1, 'YONsUIs': 1, 'QN': 1, 'lyXmBK': 1, 'hCZOJcqF': 1, 'lo': 1, 'VpkdYovxQT': 1, 'fHpoLQUbT': 1, 'NA': 1, 'XxMyyYoLs': 1, 'r': 1, 'sdTw': 1, 'XU': 1, 'Murh': 1, 'boQoQVgSjC': 1, 'aTc': 1, 'Hw': 1, 'AaUe': 1, 'tDVQBPI': 1, 'FeZJIJ': 1, 'TqC': 1, 'TBGXEVbCWg': 1, 'HxLkqGi': 1, 'AEjKG': 1, 'HkgKA': 1, 'wu': 1, 'VOLyJrnZKZ': 1, 'gTEGERX': 1, 'sP': 1, 'TunEFTCI': 1, 'TLDtP': 1, 'RJBdHsb': 1, 'UoZyTu': 1, 'NPq': 1, 'iKsuYtCcpf': 1, 'JlDSDq': 1, 'WaThw': 1, 'GfUqCfFEPE': 1, 'rsjsLROc': 1, 'JltIRs': 1, 'V': 1, 'j': 1, 'rAB': 1, 'vpM': 1, 'KEk': 1, 'lQWUnSgx': 1, 'o': 1, 'CPIOic': 1, 'rSr': 1, 'YmsoQDtn': 1, 'uY': 1, 'vApZqBrVH': 1, 'mrKw': 1, 'VzYf': 1, 'm': 2, 'xj': 1, 'eANxXnK': 1, 'RMHNktB': 1, 'EGdK': 1, 'ywQujhbc': 1, 'JsZlNHc': 1, 'ueqoBMLFtb': 1, 'jawtWqo': 1, 'tsJeUra': 1, 'e': 1, 'YKibGTq': 1, 'SU': 1, 'pJ': 1, 'hWbrX': 1, 'NvMenDqf': 1, 'Lw': 1, 'tnAzNj': 1, 'Wc': 1, 'ntJDgZO': 1, 'T': 1, 'wTT': 1, 'vwS': 1, 'Y': 1, 'mM': 2, 'xIT': 1, 'R': 1, 'YEMpAiUXo': 1, 'YQDcjfZxh': 1, 'WUuty': 1, 'uxrpRIgb': 1, 'leSb': 1, 'JE': 1, 'srDt': 1, 'ipqBCIPB': 1, 'Fk': 1, 'ZO': 1, 'fHrHzoMS': 1, 'sZVsxo': 1, 'xXhhiNws': 1, 'QsZpVFHhr': 1, 'fp': 1, 'npgqOOL': 1, 'omh': 1, 'NaaMleRdQq': 1, 'eNEMD': 1, 'BGRdtEeJS': 1, 'sKzQatTaVu': 1, 'J': 1, 'HJMcKwBgtd': 1, 'IcwfCwG': 1, 'uQNxg': 1, 'lVESrXDco': 1, 'XWwMpCISEA': 1, 'btos': 1, 'XEKaKbOMM': 1, 'p': 1, 'OyH': 1, 'ExWwvtSwag': 1, 'coTfyDdt': 1, 'saiGIPK': 1, 'LbhnUSxa': 1, 'KHSFadm': 1, 'oG': 1, 'KzHtW': 1, 'YeU': 1, 'rxg': 1, 'JGumDhEkow': 1, 'JPMHp': 1, 'k': 1, 'gLJ': 1, 'bmEqdJzB': 1, 'BHEXtrCeQ': 1, 'S': 1, 'ioPTBM': 1, 'ViCrvaQXg': 1, 'yUxNDkuVDu': 1, 'vQfjarW': 1, 'JoIfgjuD': 1, 'DxeClXr': 1, 'ZCnguLBAId': 1, 'hPWmE': 1, 'IM': 1, 'XzAXfKDTb': 1, 'vDMOMPBmz': 1, 'mmhTySK': 1, 'PRKVGtpS': 1, 'TlUcImdJF': 1, 'pbT': 1, 'Qhvq': 1, 'rvaMsOe': 1, 'SB': 1, 'v': 1, 'zBOW': 1, 'yDQVQ': 1, 'h': 1, 'uLCvs': 1, 'FnVgkDeIqQ': 1, 'nsl': 1, 'SrYdE': 1, 'FgjvedY': 1, 'KXZuzLAjpG': 1, 'a': 1, 'yIapvxUrZo': 1, 'KglZAZJX': 1, 'xWYj': 1, 'DONCdN': 1, 'WIdsg': 1, 'dZLkvVPFz': 1, 'zZmVZpNxjq': 1, 'CneA': 1, 'EdUedebq': 1, 'OPNPk': 1, 'bJOmPQH': 1, 'PxZ': 1, 'UzZdaBhgTm': 1, 'cr': 1, 'Aae': 1, 'rbH': 1, 'cskjA': 1, 'BxGfAxnfa': 1, 'C': 1, 'JrJWFAZgf': 1, 'jZHZAf': 1, 'oWWyi': 1, 'W': 1, 'IsEtrOnN': 1, 'XmRRfp': 1, 'crZN': 1, 'mkBQHOYmPJ': 1, 'rEZk': 1, 'ErdmkSzjTQ': 1, 'XTcbjNMW': 1, 'xML': 1, 'ZKaI': 1, 'EwQlBK': 1, 'sOJSr': 1, 'OgniAjiLZb': 1, 'Lcsr': 1, 'bxtZRgX': 1, 'osBmqIZcAc': 1, 'zghjQ': 1, 'HRFmynaW': 1, 'rqahno': 1, 'jyvRyNfH': 1, 'Uqu': 1, 'sasMbmWa': 1, 'qIX': 1, 'pG': 1, 'xgxKfw': 1, 'y': 2, 'pUzzi': 1, 'SsKWuZ': 1, 'uxpFrb': 1, 'TUCV': 1, 'CYIjDWDFgp': 1, 'imUTniwfI': 1, 'AHpi': 1, 'Mk': 1, 'TnApATvi': 1, 'lQLGaSOKP': 1, 'jLOP': 1, 'XaRNakNdzR': 1, 'ALK': 1, 'VxiZTiQ': 1, 'GQAVkhPQ': 1, 'wVXvdEB': 1, 'LAfFuBPOA': 1, 'cKuUZMz': 1, 'bjK': 1, 'nzNULipSW': 1, 'uSzflLviFi': 1, 'ZGwF': 1, 'CmkXurS': 1, 'eMeZRNn': 1, 'wlWWEGxVP': 1, 'fNkHNff': 1, 'qP': 1, 'eVjZsqfk': 1, 'sOjtkxm': 1, 'wvN': 1, 't': 2, 'ZMeo': 1, 'ly': 1, 'O': 1, 'CZUNBwpDA': 1, 'i': 1, 'uftERO': 1, 'SlEb': 1, 'tUTuRSqOL': 1, 'lKvLKdT': 1, 'yhNVlMr': 1, 'kiFUgVK': 1, 'hARXiCAtD': 1, 'hfb': 1, 'EwXfTLho': 1, 'B': 1, 'ucCdN': 1, 'HpBGxuTm': 1, 'XOVyLb': 1, 'TcQSCQwrcM': 1, 'jfD': 1, 'HgQYf': 1, 'okTYbyZ': 1, 'kwouydXbud': 1, 'EThsp': 1, 'fECgy': 1, 'UAmOvo': 1, 'FKvljmXL': 1, 'npIol': 1, 'IZk': 1, 'CFpDV': 1, 'agyN': 1, 'iqkfL': 1, 'WS': 1, 'DjgJwod': 1, 'RJdaf': 1, 'Xxrph': 1, 'DCA': 1, 'JyLU': 1, 'wORUauyY': 1, 'SNf': 1, 'DgVlmem': 1, 'TcQ': 1, 'sNHI': 1, 'FgS': 1, 'PIaROQOB': 1, 'VJjuy': 1, 'EBtkboXXKE': 1, 'uIEFO': 1, 'uLpti': 1, 'n': 1, 'KOEdkWqkSc': 1, 'loegXzF': 1, 'yQ': 1, 'VgdW': 1, 'hrSrYZuhQ': 1, 'gNQBdMP': 1, 'LFCwTm': 1, 'YekaO': 1, 'BkpsNfbF': 1, 'XH': 1, 'jCuUzcj': 1, 'c': 1, 'znYZux': 1, 'IZhV': 1, 'RecFfAtP': 1, 'hWhWTnfNpx': 1, 'ZJuJd': 1, 'IqIO': 1, 'qOlB': 1, 'BCkuKnvdQt': 1, 'yqDKY': 1, 'wA': 1, 'xHlXmOJ': 1, 'SpaWvxRdA': 1, 'OH': 1, 'gNbjYGkhGR': 1, 'PT': 1, 'sJxFz': 1, 'qI': 1, 'Gd': 1, 'cjkm': 1, 'elrngAis': 1, 'eCQObmagn': 1, 'spMBUpS': 1, 'tDOn': 1, 'ABCnlyvflq': 1, 'WaBGujUEnx': 1, 'RJvXZg': 1, 'ZWbcRlAzp': 1, 'sFIeqJZ': 1, 'UccRH': 1, 'Ie': 1, 'joLByYz': 1}\n"
     ]
    }
   ],
   "source": [
    "import random\n",
    "import string\n",
    "\n",
    "random_words=[\"\".join(random.choice(string.ascii_letters) \\\n",
    "                            for j in range(random.randint(1,10))) \\\n",
    "                            for i in range(random.randint(1,1000))]\n",
    "word_count = {}\n",
    "\n",
    "for word in random_words:\n",
    "    if word in word_count:\n",
    "        word_count[word] += 1\n",
    "    else:\n",
    "        word_count[word] = 1\n",
    "\n",
    "print(word_count)"
   ]
  },
  {
   "cell_type": "markdown",
   "metadata": {
    "id": "N4Aw8_8o3uL_"
   },
   "source": [
    "### Task 10\n",
    "Calculate the ***frequency of occurrence*** of ***symbols*** in the text using ***defauldict*** from ***collections*** module"
   ]
  },
  {
   "cell_type": "code",
   "execution_count": 7,
   "metadata": {
    "colab": {
     "base_uri": "https://localhost:8080/"
    },
    "id": "EUsadN1mor5V",
    "outputId": "f4eb2e9e-48d7-45b5-e7fd-91b4cb2947ee"
   },
   "outputs": [
    {
     "name": "stdout",
     "output_type": "stream",
     "text": [
      "defaultdict(<class 'int'>, {'C': 1, 'o': 3, 'm': 2, 'p': 3, 'l': 4, 'e': 14, 'x': 1, ' ': 43, 'i': 6, 's': 7, 'b': 4, 't': 14, 'r': 4, 'h': 3, 'a': 8, 'n': 6, 'c': 3, 'd': 4, '.': 4, '\\n': 3, 'F': 1, 'S': 1, 'R': 1, 'y': 1, 'u': 1})\n"
     ]
    }
   ],
   "source": [
    "from collections import defaultdict\n",
    "\n",
    "text = '''Complex is better than complicated.\n",
    "          Flat is better than nested.\n",
    "          Sparse is better than dense.\n",
    "          Readability counts.'''\n",
    "\n",
    "symbol_counts = defaultdict(int)  # int() возвращяет 0\n",
    "for symbol in text:\n",
    "    symbol_counts[symbol] += 1\n",
    "\n",
    "print(symbol_counts)"
   ]
  },
  {
   "cell_type": "markdown",
   "metadata": {
    "id": "TETGG_Ee4cFj"
   },
   "source": [
    "### Task 11\n",
    "\n",
    "Create a dictionary where the ***key*** is a number and the ***value*** is the square of that number. Number from ***0 to 100***. Using ***defauldict*** from ***collections*** module"
   ]
  },
  {
   "cell_type": "code",
   "execution_count": 8,
   "metadata": {
    "colab": {
     "base_uri": "https://localhost:8080/"
    },
    "id": "wkRA_uA4rbYs",
    "outputId": "f1ca0a49-88d4-4ab6-93f7-5c3131359e93"
   },
   "outputs": [
    {
     "name": "stdout",
     "output_type": "stream",
     "text": [
      "defaultdict(<class 'list'>, {})\n",
      "defaultdict(<class 'list'>, {0: [0], 1: [1], 2: [4], 3: [9], 4: [16], 5: [25], 6: [36], 7: [49], 8: [64], 9: [81], 10: [100], 11: [121], 12: [144], 13: [169], 14: [196], 15: [225], 16: [256], 17: [289], 18: [324], 19: [361], 20: [400], 21: [441], 22: [484], 23: [529], 24: [576], 25: [625], 26: [676], 27: [729], 28: [784], 29: [841], 30: [900], 31: [961], 32: [1024], 33: [1089], 34: [1156], 35: [1225], 36: [1296], 37: [1369], 38: [1444], 39: [1521], 40: [1600], 41: [1681], 42: [1764], 43: [1849], 44: [1936], 45: [2025], 46: [2116], 47: [2209], 48: [2304], 49: [2401], 50: [2500], 51: [2601], 52: [2704], 53: [2809], 54: [2916], 55: [3025], 56: [3136], 57: [3249], 58: [3364], 59: [3481], 60: [3600], 61: [3721], 62: [3844], 63: [3969], 64: [4096], 65: [4225], 66: [4356], 67: [4489], 68: [4624], 69: [4761], 70: [4900], 71: [5041], 72: [5184], 73: [5329], 74: [5476], 75: [5625], 76: [5776], 77: [5929], 78: [6084], 79: [6241], 80: [6400], 81: [6561], 82: [6724], 83: [6889], 84: [7056], 85: [7225], 86: [7396], 87: [7569], 88: [7744], 89: [7921], 90: [8100], 91: [8281], 92: [8464], 93: [8649], 94: [8836], 95: [9025], 96: [9216], 97: [9409], 98: [9604], 99: [9801]}) \n",
      "\n"
     ]
    }
   ],
   "source": [
    "from collections import defaultdict\n",
    "\n",
    "dd_list = defaultdict(list)  # list() возвращяет пустой список\n",
    "print(dd_list)\n",
    "for i in range(100):\n",
    "    dd_list[i].append(i**2)\n",
    "print(dd_list, \"\\n\")"
   ]
  },
  {
   "cell_type": "markdown",
   "metadata": {
    "id": "HsAQfg4m42KC"
   },
   "source": [
    "### Task 12\n",
    "\n",
    "Create a list ***100*** long and ***randomly*** fill it with numbers from ***0 to 10***. Count how ***many times*** each number appears in the list. Using ***Counter*** from ***collections*** module"
   ]
  },
  {
   "cell_type": "code",
   "execution_count": 9,
   "metadata": {
    "colab": {
     "base_uri": "https://localhost:8080/"
    },
    "id": "8QWairM3r82H",
    "outputId": "cb60aa3a-7f16-4b79-c669-ca8e29eab015"
   },
   "outputs": [
    {
     "name": "stdout",
     "output_type": "stream",
     "text": [
      "Counter({8: 14, 5: 14, 0: 12, 10: 9, 6: 9, 1: 8, 7: 8, 9: 8, 3: 7, 2: 6, 4: 5})\n"
     ]
    }
   ],
   "source": [
    "import random\n",
    "from collections import Counter\n",
    "\n",
    "simple_list = []\n",
    "for i in range(100):\n",
    "    simple_list.append(random.randint(0, 10))\n",
    "\n",
    "c = Counter(simple_list)\n",
    "print(c)"
   ]
  },
  {
   "cell_type": "markdown",
   "metadata": {
    "id": "WBn_M2ef5Vgk"
   },
   "source": [
    "### Task 13\n",
    "\n",
    "Create a list ***100*** long and ***randomly*** fill it with numbers from ***0 to 100***. Find the ***most common*** numbers in the list. Using ***Counter*** from ***collections*** module"
   ]
  },
  {
   "cell_type": "code",
   "execution_count": 10,
   "metadata": {
    "colab": {
     "base_uri": "https://localhost:8080/"
    },
    "id": "X_5Er0hcsrpN",
    "outputId": "401632d5-cd7f-4134-b2cf-0e1f46852972"
   },
   "outputs": [
    {
     "name": "stdout",
     "output_type": "stream",
     "text": [
      "It`s number 99 | It`s count 5\n",
      "It`s number 31 | It`s count 4\n",
      "It`s number 76 | It`s count 3\n",
      "It`s number 26 | It`s count 3\n",
      "It`s number 21 | It`s count 3\n",
      "It`s number 53 | It`s count 3\n",
      "It`s number 71 | It`s count 3\n",
      "It`s number 27 | It`s count 3\n",
      "It`s number 56 | It`s count 3\n",
      "It`s number 35 | It`s count 2\n"
     ]
    }
   ],
   "source": [
    "import random\n",
    "from collections import Counter\n",
    "\n",
    "simple_list = []\n",
    "for i in range(100):\n",
    "    simple_list.append(random.randint(0, 100))\n",
    "\n",
    "simple_counter = Counter(simple_list)\n",
    "\n",
    "for number, count in simple_counter.most_common(10):\n",
    "    print('It`s number', number,'|','It`s count', count)"
   ]
  },
  {
   "cell_type": "markdown",
   "metadata": {
    "id": "uh2picBw6Mch"
   },
   "source": [
    "### Task 14\n",
    "\n",
    "Sort the dictionary by ***keys*** and ***values*** ​​use ***OrderDict*** from ***collections*** module"
   ]
  },
  {
   "cell_type": "code",
   "execution_count": 11,
   "metadata": {
    "colab": {
     "base_uri": "https://localhost:8080/"
    },
    "id": "boOFn7qXs8DG",
    "outputId": "caf42a28-5f3c-456f-845b-a08fc145a5c9"
   },
   "outputs": [
    {
     "name": "stdout",
     "output_type": "stream",
     "text": [
      "OrderedDict([('apple', 4), ('banana', 3), ('blackberry', 6), ('lemon', 7), ('orange', 2), ('pear', 1)])\n",
      "OrderedDict([('pear', 1), ('orange', 2), ('banana', 3), ('apple', 4), ('blackberry', 6), ('lemon', 7)])\n"
     ]
    }
   ],
   "source": [
    "from collections import OrderedDict\n",
    "\n",
    "d = {'banana': 3, 'apple': 4, 'pear': 1, 'blackberry': 6, 'orange': 2, 'lemon': 7}\n",
    "\n",
    "print(OrderedDict(sorted(d.items(), key=lambda t: t[0])))\n",
    "print(OrderedDict(sorted(d.items(), key=lambda t: t[1])))"
   ]
  }
 ],
 "metadata": {
  "colab": {
   "name": "Class 3 Modules.ipynb",
   "provenance": []
  },
  "kernelspec": {
   "display_name": "Python 3",
   "language": "python",
   "name": "python3"
  },
  "language_info": {
   "codemirror_mode": {
    "name": "ipython",
    "version": 3
   },
   "file_extension": ".py",
   "mimetype": "text/x-python",
   "name": "python",
   "nbconvert_exporter": "python",
   "pygments_lexer": "ipython3",
   "version": "3.7.6"
  }
 },
 "nbformat": 4,
 "nbformat_minor": 1
}
