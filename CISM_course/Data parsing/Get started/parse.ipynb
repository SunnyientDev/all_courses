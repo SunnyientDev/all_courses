{
 "cells": [
  {
   "cell_type": "code",
   "execution_count": 7,
   "metadata": {},
   "outputs": [],
   "source": [
    "with open(\"index.html\") as file:\n",
    "    src = file.read()"
   ]
  },
  {
   "cell_type": "code",
   "execution_count": 8,
   "metadata": {},
   "outputs": [],
   "source": [
    "from bs4 import BeautifulSoup"
   ]
  },
  {
   "cell_type": "code",
   "execution_count": 9,
   "metadata": {},
   "outputs": [
    {
     "name": "stdout",
     "output_type": "stream",
     "text": [
      "Главная страница блога\n"
     ]
    }
   ],
   "source": [
    "# чтение \n",
    "soup = BeautifulSoup(src, \"lxml\")\n",
    "title = soup.title\n",
    "print(title.text)"
   ]
  },
  {
   "cell_type": "code",
   "execution_count": 10,
   "metadata": {},
   "outputs": [
    {
     "name": "stdout",
     "output_type": "stream",
     "text": [
      "<h1>Сраница пользователя Mr. Anderson</h1>\n"
     ]
    }
   ],
   "source": [
    "# первое появление\n",
    "page_h1 = soup.find(\"h1\")\n",
    "print(page_h1)"
   ]
  },
  {
   "cell_type": "code",
   "execution_count": 11,
   "metadata": {},
   "outputs": [
    {
     "name": "stdout",
     "output_type": "stream",
     "text": [
      "[<h1>Сраница пользователя Mr. Anderson</h1>]\n"
     ]
    }
   ],
   "source": [
    "# все появления\n",
    "page_h1 = soup.find_all(\"h1\")\n",
    "print(page_h1)"
   ]
  },
  {
   "cell_type": "code",
   "execution_count": 17,
   "metadata": {},
   "outputs": [
    {
     "name": "stdout",
     "output_type": "stream",
     "text": [
      "Mr Anderson\n"
     ]
    }
   ],
   "source": [
    "# выведем поле span\n",
    "user_name = soup.find(\"div\", class_ = \"user__name\")\n",
    "print(user_name.text.strip())"
   ]
  },
  {
   "cell_type": "code",
   "execution_count": 20,
   "metadata": {},
   "outputs": [
    {
     "name": "stdout",
     "output_type": "stream",
     "text": [
      "Mr Anderson\n"
     ]
    }
   ],
   "source": [
    "# несколько тегов пишутся в одну строку\n",
    "user_name = soup.find(\"div\", class_ = \"user__name\").find(\"span\").text\n",
    "print(user_name)"
   ]
  },
  {
   "cell_type": "code",
   "execution_count": 21,
   "metadata": {},
   "outputs": [
    {
     "name": "stdout",
     "output_type": "stream",
     "text": [
      "Mr Anderson\n"
     ]
    }
   ],
   "source": [
    "user_name = soup.find(\"div\", {\"class\": \"user__name\"}).find(\"span\").text\n",
    "print(user_name)"
   ]
  },
  {
   "cell_type": "code",
   "execution_count": null,
   "metadata": {},
   "outputs": [],
   "source": []
  }
 ],
 "metadata": {
  "interpreter": {
   "hash": "543186f3767ad0fabef944073618aa83c204e67d6f041e56283ead1a3ecf6f86"
  },
  "kernelspec": {
   "display_name": "Python 3.7.6 64-bit ('venv': venv)",
   "language": "python",
   "name": "python3"
  },
  "language_info": {
   "codemirror_mode": {
    "name": "ipython",
    "version": 3
   },
   "file_extension": ".py",
   "mimetype": "text/x-python",
   "name": "python",
   "nbconvert_exporter": "python",
   "pygments_lexer": "ipython3",
   "version": "3.7.6"
  },
  "orig_nbformat": 4
 },
 "nbformat": 4,
 "nbformat_minor": 2
}
