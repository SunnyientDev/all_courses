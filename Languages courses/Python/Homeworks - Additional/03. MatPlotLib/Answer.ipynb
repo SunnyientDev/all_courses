{
  "nbformat": 4,
  "nbformat_minor": 0,
  "metadata": {
    "colab": {
      "name": "Python.ipynb",
      "provenance": [],
      "collapsed_sections": [
        "1wEm0QaPRpC4",
        "MJ3Ms1r7t4mv",
        "-Ork8v15yrUe",
        "X2h0Z7Ye22pw",
        "LCVSLUliFuCl",
        "jYDcVC1dSj7Y"
      ]
    },
    "kernelspec": {
      "name": "python3",
      "display_name": "Python 3"
    },
    "language_info": {
      "name": "python"
    }
  },
  "cells": [
    {
      "cell_type": "markdown",
      "metadata": {
        "id": "zlPG17_yGbih"
      },
      "source": [
        "## Практическое занятие №3\n"
      ]
    },
    {
      "cell_type": "markdown",
      "metadata": {
        "id": "1wEm0QaPRpC4"
      },
      "source": [
        "### Часть 1\n",
        "Привести примеры кода, которые соответствуют следующим нарушениям PEP 8:\n",
        "Для быстрой проверки используйте сайт pep8online.com.\n",
        "\n",
        "\n",
        "* whitespace before '('\n",
        "\n",
        "Плохо"
      ]
    },
    {
      "cell_type": "code",
      "metadata": {
        "colab": {
          "base_uri": "https://localhost:8080/"
        },
        "id": "RbIaZWIoGS63",
        "outputId": "7ca1bd00-8f31-4018-c15b-a704d1a91b1b"
      },
      "source": [
        "print ('E211')"
      ],
      "execution_count": 6,
      "outputs": [
        {
          "output_type": "stream",
          "text": [
            "E211\n"
          ],
          "name": "stdout"
        }
      ]
    },
    {
      "cell_type": "markdown",
      "metadata": {
        "id": "YwU5_R0pNMtj"
      },
      "source": [
        "Хорошо"
      ]
    },
    {
      "cell_type": "code",
      "metadata": {
        "id": "0h0FKnoXJzw_",
        "colab": {
          "base_uri": "https://localhost:8080/"
        },
        "outputId": "002074f1-221c-49dd-dc3b-645375b9622e"
      },
      "source": [
        "print('not E211')"
      ],
      "execution_count": 7,
      "outputs": [
        {
          "output_type": "stream",
          "text": [
            "not E211\n"
          ],
          "name": "stdout"
        }
      ]
    },
    {
      "cell_type": "markdown",
      "metadata": {
        "id": "_hikMb3VNUJr"
      },
      "source": [
        "* missing whitespace around operator\n",
        "\n",
        "Плохо"
      ]
    },
    {
      "cell_type": "code",
      "metadata": {
        "colab": {
          "base_uri": "https://localhost:8080/"
        },
        "id": "QNBvM3RSNPfD",
        "outputId": "1d814f4f-15db-4eba-e17d-1b7a7e8ff524"
      },
      "source": [
        "if 10<15:\n",
        "  print('E225')"
      ],
      "execution_count": 8,
      "outputs": [
        {
          "output_type": "stream",
          "text": [
            "E225\n"
          ],
          "name": "stdout"
        }
      ]
    },
    {
      "cell_type": "markdown",
      "metadata": {
        "id": "2KHMo-94Niej"
      },
      "source": [
        "Хорошо"
      ]
    },
    {
      "cell_type": "code",
      "metadata": {
        "colab": {
          "base_uri": "https://localhost:8080/"
        },
        "id": "q1oZoVjMNhus",
        "outputId": "8a7c857d-f5b0-4fa8-9ba4-0f5d540a2b09"
      },
      "source": [
        "if 10 < 17:\n",
        "  print('not E225')"
      ],
      "execution_count": 9,
      "outputs": [
        {
          "output_type": "stream",
          "text": [
            "not E225\n"
          ],
          "name": "stdout"
        }
      ]
    },
    {
      "cell_type": "markdown",
      "metadata": {
        "id": "IBRWkh2eNsh8"
      },
      "source": [
        "* missing whitespace after ','\n",
        "\n",
        "Плохо"
      ]
    },
    {
      "cell_type": "code",
      "metadata": {
        "colab": {
          "base_uri": "https://localhost:8080/"
        },
        "id": "LJtuCeXYNnzJ",
        "outputId": "568d69e4-f045-40a2-ebc3-f65d347f01cc"
      },
      "source": [
        "error = ['E','2','3','1']\n",
        "error"
      ],
      "execution_count": 13,
      "outputs": [
        {
          "output_type": "execute_result",
          "data": {
            "text/plain": [
              "['E', '2', '3', '1']"
            ]
          },
          "metadata": {
            "tags": []
          },
          "execution_count": 13
        }
      ]
    },
    {
      "cell_type": "markdown",
      "metadata": {
        "id": "B-KA7u4qOH-K"
      },
      "source": [
        "Хорошо"
      ]
    },
    {
      "cell_type": "code",
      "metadata": {
        "colab": {
          "base_uri": "https://localhost:8080/"
        },
        "id": "J6b3EBObN19A",
        "outputId": "a8d9f711-a825-48db-868d-6a0081dc1857"
      },
      "source": [
        "not_error = ['not', 'E231']\n",
        "not_error"
      ],
      "execution_count": 15,
      "outputs": [
        {
          "output_type": "execute_result",
          "data": {
            "text/plain": [
              "['not', 'E231']"
            ]
          },
          "metadata": {
            "tags": []
          },
          "execution_count": 15
        }
      ]
    },
    {
      "cell_type": "markdown",
      "metadata": {
        "id": "wVr-ztrRLY74"
      },
      "source": [
        "* unexpected spaces around keyword / parameter equals\n",
        "\n",
        "Плохо"
      ]
    },
    {
      "cell_type": "code",
      "metadata": {
        "colab": {
          "base_uri": "https://localhost:8080/"
        },
        "id": "rOZmgnMJOQRJ",
        "outputId": "03be300e-f0f4-4fbc-9d1e-317473a4b7bc"
      },
      "source": [
        "def error_func(a = 'E',\n",
        "               b = '2',\n",
        "               c = '5',\n",
        "               d = '1'):\n",
        "  return a, b, c, d\n",
        "error_func()"
      ],
      "execution_count": 20,
      "outputs": [
        {
          "output_type": "execute_result",
          "data": {
            "text/plain": [
              "('E', '2', '5', '1')"
            ]
          },
          "metadata": {
            "tags": []
          },
          "execution_count": 20
        }
      ]
    },
    {
      "cell_type": "markdown",
      "metadata": {
        "id": "nY32yx0dL7l8"
      },
      "source": [
        "Хорошо"
      ]
    },
    {
      "cell_type": "code",
      "metadata": {
        "colab": {
          "base_uri": "https://localhost:8080/"
        },
        "id": "_0hp5hgsLvbL",
        "outputId": "ed37c539-2c67-4c0a-c2b5-129542a02089"
      },
      "source": [
        "def func(a='no',\n",
        "         b='problem'):\n",
        "  return a, b\n",
        "\n",
        "func()"
      ],
      "execution_count": 21,
      "outputs": [
        {
          "output_type": "execute_result",
          "data": {
            "text/plain": [
              "('no', 'problem')"
            ]
          },
          "metadata": {
            "tags": []
          },
          "execution_count": 21
        }
      ]
    },
    {
      "cell_type": "markdown",
      "metadata": {
        "id": "JhPPo6PRMJ5c"
      },
      "source": [
        "* expected 2 blank lines, found 1\n",
        "\n",
        "Плохо"
      ]
    },
    {
      "cell_type": "code",
      "metadata": {
        "colab": {
          "base_uri": "https://localhost:8080/",
          "height": 36
        },
        "id": "GcFTkuzTMFlq",
        "outputId": "bafdff00-8f09-4f06-bfc5-1aeaf6936151"
      },
      "source": [
        "def f1():\n",
        "  return \"It's E302\"\n",
        "def f2():\n",
        "  pass\n",
        "\n",
        "f1()"
      ],
      "execution_count": 25,
      "outputs": [
        {
          "output_type": "execute_result",
          "data": {
            "application/vnd.google.colaboratory.intrinsic+json": {
              "type": "string"
            },
            "text/plain": [
              "\"It's E302\""
            ]
          },
          "metadata": {
            "tags": []
          },
          "execution_count": 25
        }
      ]
    },
    {
      "cell_type": "markdown",
      "metadata": {
        "id": "rqYFl8_nMaHC"
      },
      "source": [
        "Хорошо"
      ]
    },
    {
      "cell_type": "code",
      "metadata": {
        "colab": {
          "base_uri": "https://localhost:8080/",
          "height": 36
        },
        "id": "N96DYUd9MZKL",
        "outputId": "82db0cb1-388f-4bd0-c09d-18b2aa49c410"
      },
      "source": [
        "def f1():\n",
        "  pass\n",
        "\n",
        "def f2():\n",
        "  return 'No problem'\n",
        "\n",
        "f2()"
      ],
      "execution_count": 27,
      "outputs": [
        {
          "output_type": "execute_result",
          "data": {
            "application/vnd.google.colaboratory.intrinsic+json": {
              "type": "string"
            },
            "text/plain": [
              "'No problem'"
            ]
          },
          "metadata": {
            "tags": []
          },
          "execution_count": 27
        }
      ]
    },
    {
      "cell_type": "markdown",
      "metadata": {
        "id": "Bc8TYBDiM1fI"
      },
      "source": [
        "* multiple statements on one line (colon)\n",
        "\n",
        "Плохо"
      ]
    },
    {
      "cell_type": "code",
      "metadata": {
        "colab": {
          "base_uri": "https://localhost:8080/"
        },
        "id": "DMNWcefbMsa9",
        "outputId": "7aa2f650-1606-4cbc-bf78-5a056e854a4b"
      },
      "source": [
        "if True: print(\"It's E701\")"
      ],
      "execution_count": 28,
      "outputs": [
        {
          "output_type": "stream",
          "text": [
            "It's E701\n"
          ],
          "name": "stdout"
        }
      ]
    },
    {
      "cell_type": "markdown",
      "metadata": {
        "id": "FFFK1DcQNBzU"
      },
      "source": [
        "Хорошо"
      ]
    },
    {
      "cell_type": "code",
      "metadata": {
        "colab": {
          "base_uri": "https://localhost:8080/"
        },
        "id": "HSbf1D-ANA3g",
        "outputId": "c5b87d74-29e7-4302-940b-1bb5999b342d"
      },
      "source": [
        "if True:\n",
        "  print('Okay')"
      ],
      "execution_count": 29,
      "outputs": [
        {
          "output_type": "stream",
          "text": [
            "Okay\n"
          ],
          "name": "stdout"
        }
      ]
    },
    {
      "cell_type": "markdown",
      "metadata": {
        "id": "gcbT565YNHff"
      },
      "source": [
        "* multiple statements on one line (semicolon)\n",
        "\n",
        "Плохо"
      ]
    },
    {
      "cell_type": "code",
      "metadata": {
        "colab": {
          "base_uri": "https://localhost:8080/"
        },
        "id": "pT5im73cNEfg",
        "outputId": "52342271-2147-40a3-da94-16952516b4ea"
      },
      "source": [
        "from math import sin; sin(1/2)"
      ],
      "execution_count": 31,
      "outputs": [
        {
          "output_type": "execute_result",
          "data": {
            "text/plain": [
              "0.479425538604203"
            ]
          },
          "metadata": {
            "tags": []
          },
          "execution_count": 31
        }
      ]
    },
    {
      "cell_type": "markdown",
      "metadata": {
        "id": "6I1ov0drOeug"
      },
      "source": [
        "Хорошо"
      ]
    },
    {
      "cell_type": "code",
      "metadata": {
        "colab": {
          "base_uri": "https://localhost:8080/"
        },
        "id": "PInn456wOWbG",
        "outputId": "db93adab-c6ca-4fc7-e85e-644ceb5f114e"
      },
      "source": [
        "from math import sin\n",
        "sin(1/2)"
      ],
      "execution_count": 32,
      "outputs": [
        {
          "output_type": "execute_result",
          "data": {
            "text/plain": [
              "0.479425538604203"
            ]
          },
          "metadata": {
            "tags": []
          },
          "execution_count": 32
        }
      ]
    },
    {
      "cell_type": "markdown",
      "metadata": {
        "id": "oMwCaLeCOnEH"
      },
      "source": [
        "* comparison to None should be 'if cond is None:'\n",
        "\n",
        "Плохо"
      ]
    },
    {
      "cell_type": "code",
      "metadata": {
        "colab": {
          "base_uri": "https://localhost:8080/"
        },
        "id": "Dxye45U2OkBT",
        "outputId": "6ccf24ab-13e1-4196-e876-53cbeb34b3a7"
      },
      "source": [
        "if 1 != False:\n",
        "  print('E711')"
      ],
      "execution_count": 34,
      "outputs": [
        {
          "output_type": "stream",
          "text": [
            "E711\n"
          ],
          "name": "stdout"
        }
      ]
    },
    {
      "cell_type": "markdown",
      "metadata": {
        "id": "EwH6gZYBPoIN"
      },
      "source": [
        "Хорошо"
      ]
    },
    {
      "cell_type": "code",
      "metadata": {
        "colab": {
          "base_uri": "https://localhost:8080/"
        },
        "id": "wWLBlOYcOwQX",
        "outputId": "3e0ebb8f-d479-468e-f214-62587057c278"
      },
      "source": [
        "if type(0) is int:\n",
        "  print(\"Okay then\")"
      ],
      "execution_count": 38,
      "outputs": [
        {
          "output_type": "stream",
          "text": [
            "Okay then\n"
          ],
          "name": "stdout"
        }
      ]
    },
    {
      "cell_type": "markdown",
      "metadata": {
        "id": "9F9p_GTgQZG4"
      },
      "source": [
        "* comparison to True should be 'if cond is True:' or 'if cond:'\n",
        "\n",
        "Плохо"
      ]
    },
    {
      "cell_type": "code",
      "metadata": {
        "colab": {
          "base_uri": "https://localhost:8080/"
        },
        "id": "beIAxFcyPx3S",
        "outputId": "2d932575-076a-4c41-9419-055fa4c71340"
      },
      "source": [
        "x = True\n",
        "if x == True:\n",
        "  print('E712')"
      ],
      "execution_count": 39,
      "outputs": [
        {
          "output_type": "stream",
          "text": [
            "E712\n"
          ],
          "name": "stdout"
        }
      ]
    },
    {
      "cell_type": "markdown",
      "metadata": {
        "id": "yNHYawBbQmz7"
      },
      "source": [
        "Хорошо"
      ]
    },
    {
      "cell_type": "code",
      "metadata": {
        "colab": {
          "base_uri": "https://localhost:8080/"
        },
        "id": "v0GSm7s4Ql7D",
        "outputId": "4a520a8b-988f-428d-d0bf-5522968f093b"
      },
      "source": [
        "if x:\n",
        "  print(\"It's okay\")"
      ],
      "execution_count": 40,
      "outputs": [
        {
          "output_type": "stream",
          "text": [
            "It's okay\n"
          ],
          "name": "stdout"
        }
      ]
    },
    {
      "cell_type": "markdown",
      "metadata": {
        "id": "DI12BZdKRq0j"
      },
      "source": [
        "Неконтролируемый импорт с помощью *, как известно, в Питоне не поощряется. Попробуйте сделать его контролируемым со стороны модуля. Чтобы использование звездочки приводило к импорту пользователю только определенного круга имен вашего модуля. - Решение в папке Test Import\n",
        "\n",
        "\n",
        "\n",
        "Реализовать модель сегрегации Шеллинга в Matplotlib. На двумерной сетке находятся агенты двух групп. На каждой клетке может находиться не более 1 агента. Агент \"счастлив\", если, как минимум, заданный процент ближайших соседей относится к его группе. В противном случае агент переезжает на иное, свободное место.\n",
        "\n",
        "Ввести следующие параметры: размер популяции, размеры сетки, процентное соотношение агентов двух групп, пороговое значение \"толерантности\", количество шагов моделирования.\n",
        "\n",
        "Реализовать отображение агентов в виде квадратов двух цветов на целочисленной сетке.\n",
        "Случайно разместить агентов, учитывая запрет на совпадение координат.\n",
        "Реализовать функцию distance на основе метрики манхэттенского расстояния.\n",
        "Реализовать функцию is_happy.\n",
        "Изобразить график исходного расположения агентов и график расположения спустя N шагов моделирования.\n",
        "Изобразить график изменения состояния \"настроения\" агентов.\n",
        "(повышенной сложности) Реализовать анимацию шагов моделирования. (Решение в папке Шеллинг)"
      ]
    },
    {
      "cell_type": "markdown",
      "metadata": {
        "id": "hCr2_9LpWeQe"
      },
      "source": [
        "# Часть 2\n",
        "\n",
        "\n",
        "В следующих задачах визуализация данных используется для нахождения ответов на простые вопросы. В каждом конкретном случае необходимо предложить предпочтительный метод визуализации в Matplotlib. Приветствуются идеи для обнаружения новых фактов из данных.\n",
        "\n",
        "Проанализировать данные, полученные от почтового робота:"
      ]
    },
    {
      "cell_type": "code",
      "metadata": {
        "id": "MdeciDj3VEn8"
      },
      "source": [
        "import json\n",
        "import email.utils\n",
        "\n",
        "with open('/content/table.json', encoding='utf8') as f:\n",
        "    table = json.loads(f.read()) # Таблица решений задач\n",
        "    \n",
        "with open('/content/failed.json', encoding='utf8') as f:\n",
        "    failed = json.loads(f.read()) # Данные по ошибкам\n",
        "    \n",
        "with open('/content/messages.json', encoding='utf8') as f:\n",
        "    messages = json.loads(f.read()) # Полученные сообщения"
      ],
      "execution_count": 254,
      "outputs": []
    },
    {
      "cell_type": "markdown",
      "metadata": {
        "id": "OvAExhofZx-K"
      },
      "source": [
        "Разберемся с датасетом"
      ]
    },
    {
      "cell_type": "code",
      "metadata": {
        "colab": {
          "base_uri": "https://localhost:8080/"
        },
        "id": "JTsTDp0qXRQj",
        "outputId": "49e39d29-c623-44be-b392-5103c9968c96"
      },
      "source": [
        "messages[:5]"
      ],
      "execution_count": 255,
      "outputs": [
        {
          "output_type": "execute_result",
          "data": {
            "text/plain": [
              "[{'date': 'Sun, 14 Feb 2021 21:00:17 +0300', 'subj': 'к20 7'},\n",
              " {'date': 'Sun, 14 Feb 2021 21:53:03 +0300', 'subj': 'к20 7'},\n",
              " {'date': 'Sun, 14 Feb 2021 21:54:19 +0300', 'subj': 'к20 7'},\n",
              " {'date': 'Sun, 14 Feb 2021 22:10:59 +0300', 'subj': 'к20 7'},\n",
              " {'date': 'Mon, 15 Feb 2021 09:34:30 +0300', 'subj': 'н5 10'}]"
            ]
          },
          "metadata": {
            "tags": []
          },
          "execution_count": 255
        }
      ]
    },
    {
      "cell_type": "code",
      "metadata": {
        "colab": {
          "base_uri": "https://localhost:8080/"
        },
        "id": "7tYW2YVubSgb",
        "outputId": "c9a0ebc1-4831-417a-9c71-81e63bf780cc"
      },
      "source": [
        "messages = [(m['subj'].upper(), email.utils.parsedate(m['date'])) for m in messages]\n",
        "print(messages[0])"
      ],
      "execution_count": 256,
      "outputs": [
        {
          "output_type": "stream",
          "text": [
            "('К20 7', (2021, 2, 14, 21, 0, 17, 0, 1, -1))\n"
          ],
          "name": "stdout"
        }
      ]
    },
    {
      "cell_type": "code",
      "metadata": {
        "colab": {
          "base_uri": "https://localhost:8080/"
        },
        "id": "sIGDUvYNf0W9",
        "outputId": "15cddd16-9006-4f4c-c6e5-68d41ff1f4cc"
      },
      "source": [
        "print(len(messages))"
      ],
      "execution_count": 257,
      "outputs": [
        {
          "output_type": "stream",
          "text": [
            "3900\n"
          ],
          "name": "stdout"
        }
      ]
    },
    {
      "cell_type": "markdown",
      "metadata": {
        "id": "62qtFmaCbKL1"
      },
      "source": [
        "Формат данных 'Группа Номер_студента', 'Год Месяц Число Часы Минуты Секунды (баллы)'"
      ]
    },
    {
      "cell_type": "markdown",
      "metadata": {
        "id": "6uBg5CafcerG"
      },
      "source": [
        "#### Как по времени суток распределяется активность студентов?\n",
        "\n",
        "Здесь не нужны данные о том, кто проявил активность."
      ]
    },
    {
      "cell_type": "code",
      "metadata": {
        "colab": {
          "base_uri": "https://localhost:8080/"
        },
        "id": "S2NSdAstj48P",
        "outputId": "4ce059a6-40b5-4d54-811b-a0a2996b0b55"
      },
      "source": [
        "(messages[0][1][0])"
      ],
      "execution_count": 258,
      "outputs": [
        {
          "output_type": "execute_result",
          "data": {
            "text/plain": [
              "2021"
            ]
          },
          "metadata": {
            "tags": []
          },
          "execution_count": 258
        }
      ]
    },
    {
      "cell_type": "code",
      "metadata": {
        "colab": {
          "base_uri": "https://localhost:8080/"
        },
        "id": "5yN3OOI_cncU",
        "outputId": "824821bd-3834-4fae-9b32-f0472a87128b"
      },
      "source": [
        "dates = []\n",
        "times = []\n",
        "for i in range(0, len(messages)):\n",
        "  dates.append(list(messages[i][1][0:3]))\n",
        "  times.append(list(messages[i][1][3:6]))\n",
        "\n",
        "print(dates[:5])\n",
        "print(times[:5])\n",
        "print(len(dates))"
      ],
      "execution_count": 259,
      "outputs": [
        {
          "output_type": "stream",
          "text": [
            "[[2021, 2, 14], [2021, 2, 14], [2021, 2, 14], [2021, 2, 14], [2021, 2, 15]]\n",
            "[[21, 0, 17], [21, 53, 3], [21, 54, 19], [22, 10, 59], [9, 34, 30]]\n",
            "3900\n"
          ],
          "name": "stdout"
        }
      ]
    },
    {
      "cell_type": "code",
      "metadata": {
        "id": "h5Qko0yXpH8e"
      },
      "source": [
        "# find the count of students, working with our bot every hour\n",
        "activities = []\n",
        "for i in range(24):\n",
        "  activities.append(0)\n",
        "\n",
        "for i in range(0, len(times)):\n",
        "  hour = times[i][0]\n",
        "  activities[hour] += 1"
      ],
      "execution_count": 260,
      "outputs": []
    },
    {
      "cell_type": "code",
      "metadata": {
        "colab": {
          "base_uri": "https://localhost:8080/",
          "height": 552
        },
        "id": "y_7YBiRFinlR",
        "outputId": "f10a8810-c7bc-4639-89bb-c8b59625ef39"
      },
      "source": [
        "y = [act for act in activities]\n",
        "x = [time for time in range(24)]\n",
        "\n",
        "fig = plt.figure(figsize=(25, 10))\n",
        "ax = fig.add_subplot(111)\n",
        "ax.set_xticks(np.arange(0, 24, 1)) \n",
        "ax.grid()\n",
        "\n",
        "plt.plot(x,y)\n",
        "plt.xlabel('Час')\n",
        "plt.ylabel('Число пользователей')\n",
        "plt.title('Активность пользователей по времени')\n",
        "plt.show()"
      ],
      "execution_count": 261,
      "outputs": [
        {
          "output_type": "display_data",
          "data": {
            "image/png": "[encoded data removed]",
            "text/plain": [
              "<Figure size 1800x720 with 1 Axes>"
            ]
          },
          "metadata": {
            "tags": [],
            "needs_background": "light"
          }
        }
      ]
    },
    {
      "cell_type": "markdown",
      "metadata": {
        "id": "MJ3Ms1r7t4mv"
      },
      "source": [
        "#### Как по дням недели распределяется активность студентов?"
      ]
    },
    {
      "cell_type": "code",
      "metadata": {
        "id": "8M2lOfsStgY_"
      },
      "source": [
        "# find the count of students, working with our bot every day\n",
        "datetimes = []\n",
        "for i in range(len(messages)):\n",
        "  datetimes.append(messages[i][1][0:6])\n",
        "\n",
        "\n",
        "activities = []\n",
        "for i in range(7):\n",
        "  activities.append(0)\n",
        "\n",
        "for i in range(0, len(datetimes)):\n",
        "  day = datetime.datetime(datetimes[i][0], datetimes[i][1], datetimes[i][2], datetimes[i][3], datetimes[i][4], datetimes[i][5]).weekday()\n",
        "  activities[day] += 1"
      ],
      "execution_count": 232,
      "outputs": []
    },
    {
      "cell_type": "code",
      "metadata": {
        "colab": {
          "base_uri": "https://localhost:8080/"
        },
        "id": "sQNyUM8w0Blv",
        "outputId": "e41601b8-7025-45bb-af60-2ba120d33372"
      },
      "source": [
        "activities"
      ],
      "execution_count": 233,
      "outputs": [
        {
          "output_type": "execute_result",
          "data": {
            "text/plain": [
              "[835, 707, 602, 538, 453, 388, 377]"
            ]
          },
          "metadata": {
            "tags": []
          },
          "execution_count": 233
        }
      ]
    },
    {
      "cell_type": "code",
      "metadata": {
        "colab": {
          "base_uri": "https://localhost:8080/",
          "height": 553
        },
        "id": "xwq6MDOJ0Rgw",
        "outputId": "fb1320ea-b403-4ccf-e4b0-6c03febc4c5a"
      },
      "source": [
        "y = [act for act in activities]\n",
        "x = [time for time in ['Понедельник', 'Вторник', 'Среда' , 'Четверг', 'Пятница', 'Суббота', 'Воскресенье']]\n",
        "\n",
        "fig = plt.figure(figsize=(25, 10))\n",
        "ax = fig.add_subplot(111)\n",
        "ax.set_xticks(np.arange(0, 7, 1)) \n",
        "ax.grid()\n",
        "\n",
        "plt.bar(x,y)\n",
        "plt.xlabel('День недели')\n",
        "plt.ylabel('Число пользователей')\n",
        "plt.title('Активность пользователей по времени')\n",
        "plt.show()"
      ],
      "execution_count": 238,
      "outputs": [
        {
          "output_type": "display_data",
          "data": {
            "image/png": "[encoded data removed]",
            "text/plain": [
              "<Figure size 1800x720 with 1 Axes>"
            ]
          },
          "metadata": {
            "tags": [],
            "needs_background": "light"
          }
        }
      ]
    },
    {
      "cell_type": "code",
      "metadata": {
        "colab": {
          "base_uri": "https://localhost:8080/"
        },
        "id": "SNQDw_541Dtd",
        "outputId": "5578f28b-8d55-4686-cb0d-f4bae17c6a24"
      },
      "source": [
        "!wget https://raw.githubusercontent.com/SunnyientDev/Stepik_New_Courses/master/Python_course/pract3/failed.json\n",
        "!wget https://raw.githubusercontent.com/SunnyientDev/Stepik_New_Courses/master/Python_course/pract3/messages.json\n",
        "!wget https://raw.githubusercontent.com/SunnyientDev/Stepik_New_Courses/master/Python_course/pract3/table.json"
      ],
      "execution_count": 17,
      "outputs": [
        {
          "output_type": "stream",
          "text": [
            "--2021-03-24 10:42:40--  https://raw.githubusercontent.com/SunnyientDev/Stepik_New_Courses/master/Python_course/pract3/failed.json\n",
            "Resolving raw.githubusercontent.com (raw.githubusercontent.com)... 185.199.108.133, 185.199.109.133, 185.199.110.133, ...\n",
            "Connecting to raw.githubusercontent.com (raw.githubusercontent.com)|185.199.108.133|:443... connected.\n",
            "HTTP request sent, awaiting response... 200 OK\n",
            "Length: 76873 (75K) [text/plain]\n",
            "Saving to: ‘failed.json.1’\n",
            "\n",
            "\rfailed.json.1         0%[                    ]       0  --.-KB/s               \rfailed.json.1       100%[===================>]  75.07K  --.-KB/s    in 0.01s   \n",
            "\n",
            "2021-03-24 10:42:41 (5.42 MB/s) - ‘failed.json.1’ saved [76873/76873]\n",
            "\n",
            "--2021-03-24 10:42:41--  https://raw.githubusercontent.com/SunnyientDev/Stepik_New_Courses/master/Python_course/pract3/messages.json\n",
            "Resolving raw.githubusercontent.com (raw.githubusercontent.com)... 185.199.109.133, 185.199.111.133, 185.199.110.133, ...\n",
            "Connecting to raw.githubusercontent.com (raw.githubusercontent.com)|185.199.109.133|:443... connected.\n",
            "HTTP request sent, awaiting response... 200 OK\n",
            "Length: 245592 (240K) [text/plain]\n",
            "Saving to: ‘messages.json.1’\n",
            "\n",
            "messages.json.1     100%[===================>] 239.84K  --.-KB/s    in 0.03s   \n",
            "\n",
            "2021-03-24 10:42:41 (7.29 MB/s) - ‘messages.json.1’ saved [245592/245592]\n",
            "\n",
            "--2021-03-24 10:42:41--  https://raw.githubusercontent.com/SunnyientDev/Stepik_New_Courses/master/Python_course/pract3/table.json\n",
            "Resolving raw.githubusercontent.com (raw.githubusercontent.com)... 185.199.108.133, 185.199.109.133, 185.199.110.133, ...\n",
            "Connecting to raw.githubusercontent.com (raw.githubusercontent.com)|185.199.108.133|:443... connected.\n",
            "HTTP request sent, awaiting response... 200 OK\n",
            "Length: 80497 (79K) [text/plain]\n",
            "Saving to: ‘table.json.1’\n",
            "\n",
            "table.json.1        100%[===================>]  78.61K  --.-KB/s    in 0.01s   \n",
            "\n",
            "2021-03-24 10:42:41 (5.60 MB/s) - ‘table.json.1’ saved [80497/80497]\n",
            "\n"
          ],
          "name": "stdout"
        }
      ]
    },
    {
      "cell_type": "code",
      "metadata": {
        "colab": {
          "base_uri": "https://localhost:8080/"
        },
        "id": "0yjMpwdFw6aR",
        "outputId": "22c47d35-a677-480d-e23e-a154229ad254"
      },
      "source": [
        "import json\n",
        "import email.utils\n",
        "\n",
        "with open('/content/table.json', encoding='utf8') as f:\n",
        "    table = json.loads(f.read()) # Таблица решений задач\n",
        "    \n",
        "with open('/content/failed.json', encoding='utf8') as f:\n",
        "    failed = json.loads(f.read()) # Данные по ошибкам\n",
        "    \n",
        "with open('/content/messages.json', encoding='utf8') as f:\n",
        "    messages = json.loads(f.read()) # Полученные сообщения\n",
        "\n",
        "messages = [(m['subj'].upper(), email.utils.parsedate(m['date'])) for m in messages]\n",
        "print(messages[0])"
      ],
      "execution_count": 18,
      "outputs": [
        {
          "output_type": "stream",
          "text": [
            "('К20 7', (2021, 2, 14, 21, 0, 17, 0, 1, -1))\n"
          ],
          "name": "stdout"
        }
      ]
    },
    {
      "cell_type": "markdown",
      "metadata": {
        "id": "-Ork8v15yrUe"
      },
      "source": [
        "#### В каких группах было отправлено больше всего сообщений?"
      ]
    },
    {
      "cell_type": "code",
      "metadata": {
        "id": "bXhsnyByxuzf"
      },
      "source": [
        "group_list = []\n",
        "for i in range(len(messages)):\n",
        "  temp = messages[i][0].split()\n",
        "  group_list.append(temp[0])\n",
        "\n",
        "group_list = list(set(group_list))\n",
        "count_list = []\n",
        "for i in range(len(group_list)):\n",
        "  count_list.append(0)\n",
        "group_list.sort()"
      ],
      "execution_count": 36,
      "outputs": []
    },
    {
      "cell_type": "code",
      "metadata": {
        "colab": {
          "base_uri": "https://localhost:8080/",
          "height": 552
        },
        "id": "gedUXgsp1Hcs",
        "outputId": "a3868d98-d844-46ab-b299-56e3aed530a9"
      },
      "source": [
        "import matplotlib.pyplot as plt\n",
        "import numpy as np\n",
        "\n",
        "for i in range(len(messages)):\n",
        "  temp = messages[i][0].split()\n",
        "  for j in range(len(group_list)):\n",
        "    if temp[0] == group_list[j]:\n",
        "      count_list[j] += 1\n",
        "\n",
        "y = [count for count in count_list]\n",
        "x = [group for group in group_list]\n",
        "\n",
        "fig = plt.figure(figsize=(25, 10))\n",
        "ax = fig.add_subplot(111)\n",
        "ax.set_xticks(np.arange(0, len(group_list), 1)) \n",
        "ax.grid()\n",
        "\n",
        "plt.bar(x,y)\n",
        "plt.xlabel('Группа')\n",
        "plt.ylabel('Число пользователей')\n",
        "plt.title('Активность групп')\n",
        "plt.show()"
      ],
      "execution_count": 37,
      "outputs": [
        {
          "output_type": "display_data",
          "data": {
            "image/png": "[encoded data removed]",
            "text/plain": [
              "<Figure size 1800x720 with 1 Axes>"
            ]
          },
          "metadata": {
            "tags": [],
            "needs_background": "light"
          }
        }
      ]
    },
    {
      "cell_type": "markdown",
      "metadata": {
        "id": "X2h0Z7Ye22pw"
      },
      "source": [
        "#### В каких группах было получено больше всего правильных решений?\n",
        "\n",
        "Время опять разбираться с данными"
      ]
    },
    {
      "cell_type": "code",
      "metadata": {
        "colab": {
          "base_uri": "https://localhost:8080/"
        },
        "id": "UuuBajDd13l3",
        "outputId": "f630a011-2993-49e7-c58a-0b309576d200"
      },
      "source": [
        "table.keys()"
      ],
      "execution_count": 49,
      "outputs": [
        {
          "output_type": "execute_result",
          "data": {
            "text/plain": [
              "dict_keys(['data', 'time'])"
            ]
          },
          "metadata": {
            "tags": []
          },
          "execution_count": 49
        }
      ]
    },
    {
      "cell_type": "markdown",
      "metadata": {
        "id": "4mNb4ZdlAkLB"
      },
      "source": [
        "Заметим, что словарь table состоит из двух полей: данные и время. Время - это дата бэкапа таблицы, оно нам не нужно"
      ]
    },
    {
      "cell_type": "code",
      "metadata": {
        "colab": {
          "base_uri": "https://localhost:8080/",
          "height": 36
        },
        "id": "atF_JXMy4YnI",
        "outputId": "dfc93c32-b8da-404e-9b6b-f0a6102555ee"
      },
      "source": [
        "table['time']"
      ],
      "execution_count": 59,
      "outputs": [
        {
          "output_type": "execute_result",
          "data": {
            "application/vnd.google.colaboratory.intrinsic+json": {
              "type": "string"
            },
            "text/plain": [
              "'Sun Mar  7 16:04:30 2021'"
            ]
          },
          "metadata": {
            "tags": []
          },
          "execution_count": 59
        }
      ]
    },
    {
      "cell_type": "markdown",
      "metadata": {
        "id": "JOvPlIWOBckv"
      },
      "source": [
        "Определять число правильных решений будем именно по этой таблице"
      ]
    },
    {
      "cell_type": "code",
      "metadata": {
        "colab": {
          "base_uri": "https://localhost:8080/"
        },
        "id": "wZ47X11v4uCk",
        "outputId": "3713214e-a838-4e83-bf7a-ed936f5f057b"
      },
      "source": [
        "table['data'][:5]"
      ],
      "execution_count": 61,
      "outputs": [
        {
          "output_type": "execute_result",
          "data": {
            "text/plain": [
              "[['К20', 7, 'f12', 1],\n",
              " ['К20', 7, 'f11', 1],\n",
              " ['К20', 7, 'f14', 1],\n",
              " ['К20', 21, 'f11', 1],\n",
              " ['К20', 21, 'f12', 1]]"
            ]
          },
          "metadata": {
            "tags": []
          },
          "execution_count": 61
        }
      ]
    },
    {
      "cell_type": "code",
      "metadata": {
        "colab": {
          "base_uri": "https://localhost:8080/"
        },
        "id": "1NQmNvV3D9gy",
        "outputId": "9ef47a7f-0fd2-42c1-b933-810c03b715b9"
      },
      "source": [
        "group_list[:5]"
      ],
      "execution_count": 70,
      "outputs": [
        {
          "output_type": "execute_result",
          "data": {
            "text/plain": [
              "['В1', 'В10', 'В11', 'В13', 'В2']"
            ]
          },
          "metadata": {
            "tags": []
          },
          "execution_count": 70
        }
      ]
    },
    {
      "cell_type": "code",
      "metadata": {
        "colab": {
          "base_uri": "https://localhost:8080/"
        },
        "id": "OyPSXsJoBWMY",
        "outputId": "1d9e7588-66a6-49f4-e0fc-b01fbc870c79"
      },
      "source": [
        "kis_table = table['data']\n",
        "solving_score = []\n",
        "for i in range(len(group_list)):\n",
        "  solving_score.append(0)\n",
        "\n",
        "for i in range(len(kis_table)):\n",
        "  for j in range(len(group_list)):\n",
        "    if kis_table[i][3] == 1 and kis_table[i][0] == group_list[j]:\n",
        "      solving_score[j] += 1\n",
        "\n",
        "solving_score[:5]"
      ],
      "execution_count": 72,
      "outputs": [
        {
          "output_type": "execute_result",
          "data": {
            "text/plain": [
              "[45, 59, 15, 25, 85]"
            ]
          },
          "metadata": {
            "tags": []
          },
          "execution_count": 72
        }
      ]
    },
    {
      "cell_type": "code",
      "metadata": {
        "colab": {
          "base_uri": "https://localhost:8080/",
          "height": 552
        },
        "id": "wG93tMn8CCwN",
        "outputId": "65e82378-0bf0-438a-826e-85529614af08"
      },
      "source": [
        "y = [solve for solve in solving_score]\n",
        "x = [group for group in group_list]\n",
        "\n",
        "fig = plt.figure(figsize=(25, 10))\n",
        "ax = fig.add_subplot(111)\n",
        "ax.set_xticks(np.arange(0, len(group_list), 1)) \n",
        "ax.grid()\n",
        "\n",
        "plt.bar(x,y)\n",
        "plt.xlabel('Группа')\n",
        "plt.ylabel('Суммарное число правильных решений')\n",
        "plt.title('Количество правильных решений в разных группах')\n",
        "plt.show()"
      ],
      "execution_count": 74,
      "outputs": [
        {
          "output_type": "display_data",
          "data": {
            "image/png": "[encoded data removed]",
            "text/plain": [
              "<Figure size 1800x720 with 1 Axes>"
            ]
          },
          "metadata": {
            "tags": [],
            "needs_background": "light"
          }
        }
      ]
    },
    {
      "cell_type": "markdown",
      "metadata": {
        "id": "LCVSLUliFuCl"
      },
      "source": [
        "#### Какие задачи оказались самыми легкими, самыми сложными?\n",
        "\n",
        "Будем анализировать по той же таблице, найдем суммарное число решений по каждой задачe"
      ]
    },
    {
      "cell_type": "code",
      "metadata": {
        "colab": {
          "base_uri": "https://localhost:8080/"
        },
        "id": "LBS1nDfyJH7g",
        "outputId": "3d66ad0d-b321-4687-c3c6-74ecfdab1e5a"
      },
      "source": [
        "kis_table[:5]"
      ],
      "execution_count": 78,
      "outputs": [
        {
          "output_type": "execute_result",
          "data": {
            "text/plain": [
              "[['К20', 7, 'f12', 1],\n",
              " ['К20', 7, 'f11', 1],\n",
              " ['К20', 7, 'f14', 1],\n",
              " ['К20', 21, 'f11', 1],\n",
              " ['К20', 21, 'f12', 1]]"
            ]
          },
          "metadata": {
            "tags": []
          },
          "execution_count": 78
        }
      ]
    },
    {
      "cell_type": "code",
      "metadata": {
        "colab": {
          "base_uri": "https://localhost:8080/"
        },
        "id": "C2aknKlTEX77",
        "outputId": "461681b5-7953-4574-c57c-c3068b685948"
      },
      "source": [
        "tasks = ['f11', 'f12', 'f13', 'f21', 'f22', 'f23']\n",
        "kis_table = table['data']\n",
        "count_list_all = []\n",
        "count_list_1 = []\n",
        "\n",
        "for i in range(len(tasks)):\n",
        "  count_list_all.append(0)\n",
        "  count_list_1.append(0)\n",
        "\n",
        "for i in range(len(kis_table)):\n",
        "  for j in range(len(tasks)):\n",
        "    if kis_table[i][2] == tasks[j]:\n",
        "      count_list_all[j] += 1\n",
        "\n",
        "for i in range(len(kis_table)):\n",
        "  for j in range(len(tasks)):\n",
        "    if kis_table[i][2] == tasks[j] and kis_table[i][3] == 1:\n",
        "      count_list_1[j] += 1\n",
        "\n",
        "print('Общее число решений')\n",
        "print('{: ^7} | {: ^7} | {: ^7} | {: ^7} | {: ^7} | {: ^7}'.format('f11', 'f12', 'f13', 'f21', 'f22', 'f23'))\n",
        "print('{: ^7} | {: ^7} | {: ^7} | {: ^7} | {: ^7} | {: ^7}'.format(count_list_all[0], count_list_all[1], count_list_all[2], count_list_all[3], count_list_all[4], count_list_all[5]))\n",
        "print('Общее число верных решений')\n",
        "print('{: ^7} | {: ^7} | {: ^7} | {: ^7} | {: ^7} | {: ^7}'.format('f11', 'f12', 'f13', 'f21', 'f22', 'f23'))\n",
        "print('{: ^7} | {: ^7} | {: ^7} | {: ^7} | {: ^7} | {: ^7}'.format(count_list_1[0], count_list_1[1], count_list_1[2], count_list_1[3], count_list_1[4], count_list_1[5]))"
      ],
      "execution_count": 99,
      "outputs": [
        {
          "output_type": "stream",
          "text": [
            "Общее число решений\n",
            "  f11   |   f12   |   f13   |   f21   |   f22   |   f23  \n",
            "  608   |   608   |   608   |   411   |   370   |   295  \n",
            "Общее число верных решений\n",
            "  f11   |   f12   |   f13   |   f21   |   f22   |   f23  \n",
            "  573   |   559   |   573   |   364   |   303   |   245  \n"
          ],
          "name": "stdout"
        }
      ]
    },
    {
      "cell_type": "code",
      "metadata": {
        "colab": {
          "base_uri": "https://localhost:8080/",
          "height": 1000
        },
        "id": "4OZ9J7cCF_g0",
        "outputId": "0d7064e0-6537-47e9-b76c-baa6f7274376"
      },
      "source": [
        "fig = plt.figure(figsize=(10, 10))\n",
        "\n",
        "for i in range(len(tasks)):\n",
        "  vals = [count_list_1[i], count_list_all[i]-count_list_1[i]]\n",
        "  labels = ['Правильно', 'Неправильно']\n",
        "  fig, ax = plt.subplots()\n",
        "  plt.title('Соотношение решений по заданию ' + tasks[i])\n",
        "  ax.pie(vals, labels=labels, shadow=True)\n",
        "  ax.axis(\"equal\")"
      ],
      "execution_count": 129,
      "outputs": [
        {
          "output_type": "display_data",
          "data": {
            "text/plain": [
              "<Figure size 720x720 with 0 Axes>"
            ]
          },
          "metadata": {
            "tags": []
          }
        },
        {
          "output_type": "display_data",
          "data": {
            "image/png": "[encoded data removed]",
            "text/plain": [
              "<Figure size 432x288 with 1 Axes>"
            ]
          },
          "metadata": {
            "tags": []
          }
        },
        {
          "output_type": "display_data",
          "data": {
            "image/png": "[encoded data removed]",
            "text/plain": [
              "<Figure size 432x288 with 1 Axes>"
            ]
          },
          "metadata": {
            "tags": []
          }
        },
        {
          "output_type": "display_data",
          "data": {
            "image/png": "[encoded data removed]",
            "text/plain": [
              "<Figure size 432x288 with 1 Axes>"
            ]
          },
          "metadata": {
            "tags": []
          }
        },
        {
          "output_type": "display_data",
          "data": {
            "image/png": "[encoded data removed]",
            "text/plain": [
              "<Figure size 432x288 with 1 Axes>"
            ]
          },
          "metadata": {
            "tags": []
          }
        },
        {
          "output_type": "display_data",
          "data": {
            "image/png": "[encoded data removed]",
            "text/plain": [
              "<Figure size 432x288 with 1 Axes>"
            ]
          },
          "metadata": {
            "tags": []
          }
        },
        {
          "output_type": "display_data",
          "data": {
            "image/png": "[encoded data removed]",
            "text/plain": [
              "<Figure size 432x288 with 1 Axes>"
            ]
          },
          "metadata": {
            "tags": []
          }
        }
      ]
    },
    {
      "cell_type": "markdown",
      "metadata": {
        "id": "jYDcVC1dSj7Y"
      },
      "source": [
        "#### Какие распространенные ошибки совершали студенты?\n",
        "\n",
        "Для решения этого задания воспользуемся данными из таблицы failed"
      ]
    },
    {
      "cell_type": "code",
      "metadata": {
        "colab": {
          "base_uri": "https://localhost:8080/"
        },
        "id": "sDU-VQwHROxr",
        "outputId": "5d221336-bbe8-475f-cdc3-8afb5b79bf74"
      },
      "source": [
        "print(type(failed))\n",
        "print(failed.keys())\n",
        "print(failed['В1 1'])\n",
        "print(failed['Н5 10'])"
      ],
      "execution_count": 137,
      "outputs": [
        {
          "output_type": "stream",
          "text": [
            "<class 'dict'>\n",
            "dict_keys(['Н5 10', 'К13 7', 'К13 16', 'К13 12', 'К5 1', 'К13 2', 'К5 27', 'К13 5', 'К13 27', 'Н5 25', 'К10 15', 'К4 26', 'К13 15', 'К13 11', 'Н5 7', 'К7 8', 'К4 24', 'К1 3', 'К7 19', 'К7 28', 'К2 25', 'В3 14', 'В7 25', 'В7 10', 'В9 22', 'В7 7', 'К6 18', 'В11 4', 'В10 30', 'В7 18', 'В10 31', 'В6 4', 'В11 25', 'В11 27', 'В10 7', 'В3 22', 'В9 5', 'В7 4', 'Н5 22', 'Н5 18', 'К3 24', 'Н5 24', 'К3 6', 'К2 17', 'В9 15', 'К2 26', 'К2 7', 'Н2 28', 'В9 26', 'К20 4', 'Н6 3', 'К2 20', 'К17 16', 'К10 24', 'В9 8', 'Н1 3', 'В4 28', 'В2 13', 'Н4 23', 'К6 27', 'В4 30', 'Н4 3', 'К7 24', 'Н1 11', 'Н5 6', 'В1 21', 'В4 17', 'К2 4', 'К3 11', 'К1 15', 'В9 6', 'Н4 7', 'В6 22', 'К13 21', 'К20 10', 'К13 28', 'Н4 22', 'К8 7', 'К13 18', 'К8 29', 'В4 18', 'Н4 11', 'Н2 12', 'В11 14', 'Н1 22', 'Н1 27', 'Н1 10', 'Н1 18', 'Н1 4', 'Н1 21', 'В7 28', 'Н7 19', 'К7 4', 'Н4 6', 'Н1 13', 'Н7 7', 'Н1 23', 'Н2 15', 'К6 24', 'В6 10', 'Н7 5', 'В10 15', 'Н6 23', 'Н6 8', 'В6 12', 'В7 15', 'К18 15', 'К3 4', 'К22 6', 'В7 5', 'В2 11', 'К8 26', 'М2 16', 'М2 11', 'К3 1', 'К6 11', 'К13 1', 'К8 10', 'К6 6', 'К2 3', 'В7 1', 'В13 12', 'К18 5', 'К8 18', 'К18 27', 'К10 8', 'К10 16', 'К10 5', 'К10 19', 'К10 25', 'К10 21', 'В6 1', 'К10 22', 'К10 26', 'К10 6', 'Н6 28', 'К4 18', 'В7 2', 'В7 26', 'В7 13', 'К8 19', 'К23 10', 'К6 29', 'Н2 9', 'Н2 6', 'В3 29', 'К6 15', 'К6 17', 'К6 1', 'К8 13', 'К15 17', 'К15 22', 'К9 29', 'К10 17', 'К4 17', 'К14 10', 'К14 9', 'К8 27', 'К14 4', 'К13 24', 'В7 3', 'К14 23', 'В8 19', 'В7 11', 'К14 7', 'К7 14', 'В4 8', 'В10 20', 'В3 8', 'К5 15', 'К2 16', 'К13 20', 'К20 11', 'Н5 12', 'К8 24', 'В7 17', 'К11 5', 'К11 26', 'К11 20', 'К13 19', 'К25 14', 'К12 11', 'К12 7', 'К12 16', 'К12 9', 'К12 21', 'В7 16', 'К10 14', 'К17 10', 'В5 16', 'В5 27', 'К4 8', 'К20 20', 'В7 8', 'В7 12', 'В2 4', 'В3 5', 'К13 22', 'Н2 14', 'Н2 18', 'К14 12', 'В4 15', 'К20 21', 'Н5 2', 'К13 4', 'В2 19', 'В5 13', 'В2 5', 'В2 23', 'К4 27', 'К13 9', 'К7 9', 'К7 1', 'В9 4', 'В3 20', 'К16 13', 'К12 5', 'К6 23', 'К16 19', 'К16 28', 'В2 17', 'Н6 10', 'К7 23', 'К21 8', 'К1 29', 'В1 12', 'К16 7', 'К24 3', 'К1 25', 'К16 24', 'К24 23', 'В3 6', 'К1 4', 'К1 16', 'К16 21', 'В4 21', 'К2 18', 'В7 19', 'К24 24', 'В8 2', 'В8 16', 'В7 20', 'К16 2', 'В1 1', 'К1 30', 'К1 10', 'В1 27', 'В2 3', 'Н2 10', 'К1 9', 'К3 26', 'М2 4', 'В7 27', 'Н4 14', 'К3 7', 'Н5 13', 'К11 17', 'К4 20', 'В10 25', 'В13 1', 'Н4 2', 'Н2 20', 'Н2 22', 'Н1 24', 'Н5 26', 'Н2 26', 'К6 16', 'К1 18', 'К5 3', 'Н7 16', 'К3 17', 'К1 24', 'Н6 20', 'К24 15', 'К3 29', 'К10 11', 'К4 6', 'Н5 17', 'К16 17', 'В1 7', 'К4 14', 'К2 8', 'К25 25', 'М2 2', 'К25 40', 'К1 7', 'К12 6', 'Н2 19', 'Н5 20', 'Н6 17', 'К16 15', 'М1 12', 'В2 16', 'Н3 16', 'К3 9', 'Н5 19', 'Н6 25', 'К6 7', 'К25 6', 'К2 1', 'К2 11', 'М2 13', 'К2 24', 'В2 6', 'М2 17', 'К5 24', 'К13 30', 'К2 39', 'В2 24', 'В7 22', 'Н5 4', 'Н5 1', 'М2 19', 'В7 40', 'К10 23', 'К7 16', 'В6 17', 'К1 12', 'К8 5', 'К18 21', 'В6 6', 'К1 17', 'К8 20', 'К6 19', 'В13 4', 'К10 2', 'К10 18', 'К10 12', 'В6 18', 'К9 9', 'В6 3', 'В6 23', 'К10 27', 'К10 9', 'К17 18', 'К10 1', 'К4 12', 'К16 8', 'К25 36', 'К6 22', 'М1 3', 'К6 26', 'К18 13', 'К6 10', 'М1 7', 'М1 4', 'М1 1', 'К3 13', 'М1 6', 'К1 11', 'В7 24', 'В3 13', 'К24 19', 'К2 22', 'В3 27', 'В3 9', 'К7 10', 'К2 14', 'К2 23', 'Н7 14', 'Н6 14', 'М1 21', 'К3 3', 'К17 1', 'К2 21', 'К2 15', 'В5 12', 'К2 12', 'К7 11', 'К7 30', 'Н3 18', 'К2 28', 'Н7 17', 'Н6 36', 'К6 25', 'К11 11', 'К24 35', 'К17 40', 'К24 5', 'К25 1', 'К20 9', 'К1 39', 'К1 31', 'К8 4', 'В13 16', 'М1 20', 'К25 13', 'Н6 27', 'К3 19', 'К6 3', 'К1 22', 'В10 8', 'В3 12', 'В10 29', 'В7 21', 'В10 4', 'Н5 15', 'В4 9', 'В10 3', 'В10 13', 'Н1 16', 'Н1 1', 'Н7 27', 'В4 23', 'Н5 8', 'К20 14', 'М2 10', 'К4 5', 'В6 2', 'В3 28', 'К2 29', 'К12 3', 'К12 24', 'К12 31', 'К4 4', 'Н4 12', 'К13 29', 'В1 17', 'К1 1', 'К13 8', 'К1 27', 'К4 11', 'К1 14', 'М1 10', 'К5 9', 'К11 2', 'К25 4', 'К3 25', 'К13 10', 'В6 13', 'К13 3', 'К6 21', 'К13 6', 'К6 28', 'К2 5', 'К24 26', 'К1 40', 'К23 13', 'К21 1', 'К14 13', 'К11 14', 'К25 2', 'К1 32', 'К14 30', 'К13 17', 'В4 24', 'К3 15', 'В13 7', 'М1 23', 'К25 7', 'К3 28', 'В4 29', 'К3 12', 'В9 28', 'В5 5', 'К16 5', 'Н7 6', 'Н7 1', 'К3 23', 'В9 16', 'Н5 3', 'В1 26', 'К20 24', 'В2 1', 'К2 6', 'В4 20', 'К17 14', 'К1 2', 'В4 12', 'Н1 6', 'Н1 14', 'К10 3', 'В5 2', 'В5 25', 'К16 9', 'В1 20', 'В1 8', 'В8 10', 'В4 6', 'В4 5', 'Н1 7', 'Н1 8', 'Н1 19', 'В6 15', 'К3 21', 'К6 14', 'В9 7', 'К1 28', 'К1 8', 'Н7 22', 'В9 20', 'К3 2', 'К16 10', 'В9 19', 'В10 21', 'В10 6', 'К7 17', 'К16 12', 'В10 18', 'Н2 4', 'К4 23', 'К3 22', 'Н1 20', 'Н1 12', 'К8 6', 'К24 1', 'К24 29', 'К24 28', 'К24 17', 'К5 10', 'В1 19', 'В9 14', 'К13 14', 'К24 25', 'К6 13', 'Н6 4', 'К24 2', 'К24 14', 'В7 6', 'В1 13', 'К13 25', 'Н6 9', 'К1 5', 'М1 8', 'М1 22', 'К1 21', 'М1 15', 'Н5 9', 'К4 25', 'М2 5', 'В11 21', 'Н4 13', 'В10 19', 'В6 21', 'В6 26', 'Н7 13', 'Н1 26', 'К17 22', 'К5 16', 'К17 26', 'К25 3', 'В5 30', 'К15 21', 'К3 20', 'К3 18', 'В7 37', 'В7 38', 'В7 39', 'К14 32', 'К11 15', 'К2 27', 'К12 19', 'К11 12', 'В2 27', 'К25 12', 'В5 29', 'К14 14', 'К13 13', 'К14 21', 'К24 4', 'Н2 25'])\n",
            "[None, None]\n",
            "[\"[['2002', '611-0620', 'Да'], ['2000', '308-9436', 'Нет'], ['2004', '855-4775', 'Нет'], ['2000', '801-8076', 'Нет']]\", \"[['2002', '6110620', 'Да'], ['2000', '3089436', 'Нет'], ['2004', '8554775', 'Нет'], ['2000', '8018076', 'Нет']]\"]\n"
          ],
          "name": "stdout"
        }
      ]
    },
    {
      "cell_type": "markdown",
      "metadata": {
        "id": "rbE-cCVyTjCZ"
      },
      "source": [
        "То есть, для каждого варианта свои ошибки. Надо как-то классифицировать ошибки: ошибка в выводе программы, технические ошибки. \n",
        "\n",
        "Технические ошибки будем искать по ключевым словам: local, variable, referenced, is not define. Перечислять это все, конечно, интересно, но можно просто предсказать ошибка это или нет (через лог регрессию). Остальные ошибки - пользовательские"
      ]
    },
    {
      "cell_type": "code",
      "metadata": {
        "colab": {
          "base_uri": "https://localhost:8080/"
        },
        "id": "-fRJufMOWg9y",
        "outputId": "51f9625f-d532-4ca8-c76e-5284f79c30be"
      },
      "source": [
        "from sklearn.feature_extraction.text import CountVectorizer\n",
        "from sklearn.linear_model import LogisticRegression\n",
        "\n",
        "CONFIG = {\n",
        "    'intents': {\n",
        "        'user': {\n",
        "            'examples': ['None', '0xb17a563c', '02/06/09', 'anatolij43', '5.77157090354548', '0x6895bba9', 'damir72[at]yandex.ru']\n",
        "        },\n",
        "\n",
        "        'code': {\n",
        "            'examples': [\"local variable 'y' referenced before assignment\",\n",
        "                         \"name 'с' is not defined\",\n",
        "                         \"f21() missing 3 required positional arguments: 'x1', 'x2', and 'x3'\",\n",
        "                         \"name 'math' is not defined\", 'math domain error', \"unsupported operand type(s) for ** or pow(): 'builtin_function_or_method' and 'int'\", \"'NoneType' object has no attribute 'find'\"]\n",
        "        }\n",
        "    }\n",
        "}\n",
        "\n",
        "texts = []\n",
        "intent_names = []\n",
        "\n",
        "for intent, intent_data in CONFIG['intents'].items():\n",
        "  for example in intent_data['examples']:\n",
        "    texts.append(example)\n",
        "    intent_names.append(intent)\n",
        "\n",
        "vectorizer = CountVectorizer()\n",
        "X = vectorizer.fit_transform(texts)\n",
        "\n",
        "clf = LogisticRegression()\n",
        "clf.fit(X, intent_names)\n",
        "\n",
        "clf.predict(vectorizer.transform([\"[['2002', '611-0620', 'Да']\"]))"
      ],
      "execution_count": 227,
      "outputs": [
        {
          "output_type": "execute_result",
          "data": {
            "text/plain": [
              "array(['user'], dtype='<U4')"
            ]
          },
          "metadata": {
            "tags": []
          },
          "execution_count": 227
        }
      ]
    },
    {
      "cell_type": "markdown",
      "metadata": {
        "id": "EaMqGOAkZeBv"
      },
      "source": [
        "вытянем из словаря реально нужны данные - ошибки"
      ]
    },
    {
      "cell_type": "code",
      "metadata": {
        "colab": {
          "base_uri": "https://localhost:8080/"
        },
        "id": "bP4yzWXWev8D",
        "outputId": "4bbd07e6-b6c3-41d0-ba8b-4ae2b5d8e4ac"
      },
      "source": [
        "error = []\n",
        "key = list(failed)\n",
        "\n",
        "for i in range(len(key)):\n",
        "  errors.append(failed[key[i]])\n",
        "\n",
        "print(errors[0][0])\n",
        "print(errors[1][0])\n",
        "print(errors[2][0])"
      ],
      "execution_count": 225,
      "outputs": [
        {
          "output_type": "stream",
          "text": [
            "[['2002', '611-0620', 'Да'], ['2000', '308-9436', 'Нет'], ['2004', '855-4775', 'Нет'], ['2000', '801-8076', 'Нет']]\n",
            "'0xefec0bf4'\n",
            "3155337163\n"
          ],
          "name": "stdout"
        }
      ]
    },
    {
      "cell_type": "markdown",
      "metadata": {
        "id": "BhM9xF0uljC8"
      },
      "source": [
        "### Часть 3. Компьютерные игры\n",
        "\n",
        "Проанализировать базу данных старых компьютерных игр.\n",
        "\n",
        "С помощью графиков ответить на следующие вопросы:\n",
        "\n",
        "1. Какие годы были самыми популярными с точки зрения выхода игр?\n",
        "2. Какие жанры были популярны в различные периоды времени?\n",
        "\n",
        "Проверить с помощью собственных графиков результаты, полученные в Python Developers Survey 2019 Results. Исходные данные находятся здесь."
      ]
    },
    {
      "cell_type": "code",
      "metadata": {
        "colab": {
          "base_uri": "https://localhost:8080/"
        },
        "id": "JQjnKZg5lmuM",
        "outputId": "dc584f11-3aa1-42fb-b24d-fa0bce31f197"
      },
      "source": [
        "import pandas as pd\n",
        "df = pd.read_csv('games.csv', sep=';')\n",
        "print(df)"
      ],
      "execution_count": 245,
      "outputs": [
        {
          "output_type": "stream",
          "text": [
            "                              Game         Type             Link       Year\n",
            "0               Alex the Allegator       Arcade  /game/6288.html  не издана\n",
            "1                    Blast Chamber       Action  /game/6354.html  не издана\n",
            "2     Citizens: Backwater Affairs!   Simulation  /game/7261.html  не издана\n",
            "3        Corridor 8: Galactic Wars       Action  /game/5645.html  не издана\n",
            "4                         Creation   Simulation  /game/3713.html  не издана\n",
            "...                            ...          ...              ...        ...\n",
            "5256                       Hangman  Educational  /game/9806.html       2005\n",
            "5257            Wanton Destruction       Action  /game/5582.html       2005\n",
            "5258                   Snow Palace       Puzzle  /game/9584.html       2007\n",
            "5259         Space Rangers for DOS       Arcade  /game/9633.html       2008\n",
            "5260                      Школьник          RPG  /game/9956.html       2008\n",
            "\n",
            "[5261 rows x 4 columns]\n"
          ],
          "name": "stdout"
        }
      ]
    },
    {
      "cell_type": "code",
      "metadata": {
        "colab": {
          "base_uri": "https://localhost:8080/"
        },
        "id": "hX2CXoDDl1T7",
        "outputId": "e621df20-6efc-48cd-972d-75d4b8b5b18c"
      },
      "source": [
        "columns = df.columns\n",
        "for col in columns:\n",
        "    print(col)"
      ],
      "execution_count": 246,
      "outputs": [
        {
          "output_type": "stream",
          "text": [
            "Game\n",
            "Type\n",
            "Link\n",
            "Year\n"
          ],
          "name": "stdout"
        }
      ]
    },
    {
      "cell_type": "markdown",
      "metadata": {
        "id": "Eq3lBSB8nbwT"
      },
      "source": [
        "#### Какие годы были самыми популярными с точки зрения выхода игр?\n",
        "\n",
        "Почему бы не построить график?)))"
      ]
    },
    {
      "cell_type": "code",
      "metadata": {
        "id": "-BHu4WgumqLf"
      },
      "source": [
        "years = []\n",
        "for i in range(len(df['Year'])):\n",
        "  years.append(df['Year'][i])\n",
        "years = set(years)\n",
        "years = list(years)"
      ],
      "execution_count": 275,
      "outputs": []
    },
    {
      "cell_type": "code",
      "metadata": {
        "colab": {
          "base_uri": "https://localhost:8080/"
        },
        "id": "9ItLv9x0tn9e",
        "outputId": "a610f899-0c80-4753-fcd9-cf05c94dc8c8"
      },
      "source": [
        "years.remove('не издана')\n",
        "years.sort()\n",
        "years"
      ],
      "execution_count": 276,
      "outputs": [
        {
          "output_type": "execute_result",
          "data": {
            "text/plain": [
              "['1981',\n",
              " '1982',\n",
              " '1983',\n",
              " '1984',\n",
              " '1985',\n",
              " '1986',\n",
              " '1987',\n",
              " '1988',\n",
              " '1989',\n",
              " '1990',\n",
              " '1991',\n",
              " '1992',\n",
              " '1993',\n",
              " '1994',\n",
              " '1995',\n",
              " '1996',\n",
              " '1997',\n",
              " '1998',\n",
              " '1999',\n",
              " '2000',\n",
              " '2001',\n",
              " '2002',\n",
              " '2003',\n",
              " '2004',\n",
              " '2005',\n",
              " '2007',\n",
              " '2008']"
            ]
          },
          "metadata": {
            "tags": []
          },
          "execution_count": 276
        }
      ]
    },
    {
      "cell_type": "code",
      "metadata": {
        "id": "UjdjlltZy155"
      },
      "source": [
        "game_count = []\n",
        "for i in range(len(years)):\n",
        "  game_count.append(0)\n",
        "\n",
        "for i in range(len(df['Year'])):\n",
        "  for j in range(len(game_count)):\n",
        "    if df['Year'][i] == years[j]:\n",
        "      game_count[j] += 1"
      ],
      "execution_count": 278,
      "outputs": []
    },
    {
      "cell_type": "code",
      "metadata": {
        "colab": {
          "base_uri": "https://localhost:8080/",
          "height": 552
        },
        "id": "ugO6ImmIz3fn",
        "outputId": "c9ffa4a0-328c-453f-b370-4eb947b27dbf"
      },
      "source": [
        "import matplotlib.pyplot as plt\n",
        "import numpy as np\n",
        "\n",
        "y = [count for count in game_count]\n",
        "x = [year for year in years]\n",
        "\n",
        "fig = plt.figure(figsize=(25, 10))\n",
        "ax = fig.add_subplot(111)\n",
        "ax.set_xticks(np.arange(0, len(group_list), 1)) \n",
        "ax.grid()\n",
        "\n",
        "plt.bar(x,y)\n",
        "plt.xlabel('Год')\n",
        "plt.ylabel('Число выпущенных игр')\n",
        "plt.title('Выпуск игр')\n",
        "plt.show()"
      ],
      "execution_count": 279,
      "outputs": [
        {
          "output_type": "display_data",
          "data": {
            "image/png": "[encoded data removed]",
            "text/plain": [
              "<Figure size 1800x720 with 1 Axes>"
            ]
          },
          "metadata": {
            "tags": [],
            "needs_background": "light"
          }
        }
      ]
    },
    {
      "cell_type": "markdown",
      "metadata": {
        "id": "X8EBAHs30OUS"
      },
      "source": [
        "То есть, больше всего игр было выпущено в 1994 году"
      ]
    },
    {
      "cell_type": "markdown",
      "metadata": {
        "id": "iHDEuepc0jJD"
      },
      "source": [
        "#### Какие жанры были популярны в различные периоды времени?"
      ]
    },
    {
      "cell_type": "code",
      "metadata": {
        "colab": {
          "base_uri": "https://localhost:8080/"
        },
        "id": "ktQyHsFw0NFl",
        "outputId": "2a4662f3-31a1-48cd-8ea2-c64bdbcb0195"
      },
      "source": [
        "types = []\n",
        "for i in range(len(df['Type'])):\n",
        "  types.append(df['Type'][i])\n",
        "types = set(types)\n",
        "types = list(types)\n",
        "types.sort()\n",
        "types"
      ],
      "execution_count": 280,
      "outputs": [
        {
          "output_type": "execute_result",
          "data": {
            "text/plain": [
              "['Action',\n",
              " 'Adventure',\n",
              " 'Arcade',\n",
              " 'Educational',\n",
              " 'Fighting',\n",
              " 'Interactive Fiction',\n",
              " 'Other',\n",
              " 'Puzzle',\n",
              " 'Quest',\n",
              " 'RPG',\n",
              " 'Racing',\n",
              " 'Simulation',\n",
              " 'Sports',\n",
              " 'Strategy',\n",
              " 'Tabletop']"
            ]
          },
          "metadata": {
            "tags": []
          },
          "execution_count": 280
        }
      ]
    },
    {
      "cell_type": "code",
      "metadata": {
        "id": "avJBrrfx0yIn"
      },
      "source": [
        "game_count = []\n",
        "for i in range(len(types)):\n",
        "  game_count.append(0)\n",
        "\n",
        "for i in range(len(df['Type'])):\n",
        "  for j in range(len(game_count)):\n",
        "    if df['Type'][i] == types[j]:\n",
        "      game_count[j] += 1"
      ],
      "execution_count": 281,
      "outputs": []
    },
    {
      "cell_type": "code",
      "metadata": {
        "colab": {
          "base_uri": "https://localhost:8080/",
          "height": 550
        },
        "id": "eCOqozHB09NU",
        "outputId": "a2293156-783c-4dfd-bcb9-b50d5f8f39be"
      },
      "source": [
        "import matplotlib.pyplot as plt\n",
        "import numpy as np\n",
        "\n",
        "y = [count for count in game_count]\n",
        "x = [typef for typef in types]\n",
        "\n",
        "fig = plt.figure(figsize=(25, 10))\n",
        "ax = fig.add_subplot(111)\n",
        "ax.set_xticks(np.arange(0, len(group_list), 1)) \n",
        "ax.grid()\n",
        "\n",
        "plt.bar(x,y)\n",
        "plt.xlabel('Жанр')\n",
        "plt.ylabel('Число выпущенных игр')\n",
        "plt.title('Выпуск игр')\n",
        "plt.show()"
      ],
      "execution_count": 282,
      "outputs": [
        {
          "output_type": "display_data",
          "data": {
            "image/png": "[encoded data removed]",
            "text/plain": [
              "<Figure size 1800x720 with 1 Axes>"
            ]
          },
          "metadata": {
            "tags": [],
            "needs_background": "light"
          }
        }
      ]
    },
    {
      "cell_type": "markdown",
      "metadata": {
        "id": "O5tALDOY1ESh"
      },
      "source": [
        "То есть самая популярная аркада во все времена"
      ]
    }
  ]
}