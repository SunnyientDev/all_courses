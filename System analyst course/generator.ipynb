{
 "cells": [
  {
   "cell_type": "code",
   "execution_count": 2,
   "metadata": {},
   "outputs": [
    {
     "data": {
      "text/html": [
       "<div>\n",
       "<style scoped>\n",
       "    .dataframe tbody tr th:only-of-type {\n",
       "        vertical-align: middle;\n",
       "    }\n",
       "\n",
       "    .dataframe tbody tr th {\n",
       "        vertical-align: top;\n",
       "    }\n",
       "\n",
       "    .dataframe thead th {\n",
       "        text-align: right;\n",
       "    }\n",
       "</style>\n",
       "<table border=\"1\" class=\"dataframe\">\n",
       "  <thead>\n",
       "    <tr style=\"text-align: right;\">\n",
       "      <th></th>\n",
       "      <th>EXT</th>\n",
       "      <th>TYP</th>\n",
       "      <th>STR</th>\n",
       "      <th>SRT</th>\n",
       "      <th>SHR</th>\n",
       "    </tr>\n",
       "  </thead>\n",
       "  <tbody>\n",
       "    <tr>\n",
       "      <th>0</th>\n",
       "      <td>M2</td>\n",
       "      <td>EXC</td>\n",
       "      <td>(SCACT in ('EE','SE','FP', 'EH', 'EL', 'EI', '...</td>\n",
       "      <td>NaN</td>\n",
       "      <td>Y</td>\n",
       "    </tr>\n",
       "    <tr>\n",
       "      <th>1</th>\n",
       "      <td>M2</td>\n",
       "      <td>EXCC</td>\n",
       "      <td>(SCACT in ('EE','SE', 'EH', 'EL', 'EF', 'CF', ...</td>\n",
       "      <td>NaN</td>\n",
       "      <td>Y</td>\n",
       "    </tr>\n",
       "    <tr>\n",
       "      <th>2</th>\n",
       "      <td>M2</td>\n",
       "      <td>INV</td>\n",
       "      <td>(SCACT in ('EE','SE','EH','GZ','MH') or SCACT=...</td>\n",
       "      <td>NaN</td>\n",
       "      <td>NaN</td>\n",
       "    </tr>\n",
       "    <tr>\n",
       "      <th>3</th>\n",
       "      <td>M2</td>\n",
       "      <td>ISP</td>\n",
       "      <td>(SCACT in ('EE','SE','EH','GZ','MH','ZH','GL')...</td>\n",
       "      <td>NaN</td>\n",
       "      <td>Y</td>\n",
       "    </tr>\n",
       "    <tr>\n",
       "      <th>4</th>\n",
       "      <td>M2</td>\n",
       "      <td>MOB</td>\n",
       "      <td>(SCACT in ('EE','SE','EH','GZ','MH','ZH','GL')...</td>\n",
       "      <td>#ACT: GZ, EE, SE, EH, EG, MH;</td>\n",
       "      <td>Y</td>\n",
       "    </tr>\n",
       "  </tbody>\n",
       "</table>\n",
       "</div>"
      ],
      "text/plain": [
       "  EXT   TYP                                                STR  \\\n",
       "0  M2   EXC  (SCACT in ('EE','SE','FP', 'EH', 'EL', 'EI', '...   \n",
       "1  M2  EXCC  (SCACT in ('EE','SE', 'EH', 'EL', 'EF', 'CF', ...   \n",
       "2  M2   INV  (SCACT in ('EE','SE','EH','GZ','MH') or SCACT=...   \n",
       "3  M2   ISP  (SCACT in ('EE','SE','EH','GZ','MH','ZH','GL')...   \n",
       "4  M2   MOB  (SCACT in ('EE','SE','EH','GZ','MH','ZH','GL')...   \n",
       "\n",
       "                             SRT  SHR  \n",
       "0                            NaN    Y  \n",
       "1                            NaN    Y  \n",
       "2                            NaN  NaN  \n",
       "3                            NaN    Y  \n",
       "4  #ACT: GZ, EE, SE, EH, EG, MH;    Y  "
      ]
     },
     "execution_count": 2,
     "metadata": {},
     "output_type": "execute_result"
    }
   ],
   "source": [
    "import pandas as pd\n",
    "\n",
    "path_to_file = 'data.csv'\n",
    "df = pd.read_csv(path_to_file)\n",
    "df.head(5)"
   ]
  },
  {
   "cell_type": "code",
   "execution_count": 7,
   "metadata": {},
   "outputs": [
    {
     "name": "stdout",
     "output_type": "stream",
     "text": [
      "<class 'pandas.core.frame.DataFrame'>\n",
      "RangeIndex: 147 entries, 0 to 146\n",
      "Data columns (total 5 columns):\n",
      "EXT    147 non-null object\n",
      "TYP    147 non-null object\n",
      "STR    147 non-null object\n",
      "SRT    84 non-null object\n",
      "SHR    56 non-null object\n",
      "dtypes: object(5)\n",
      "memory usage: 5.8+ KB\n"
     ]
    }
   ],
   "source": [
    "df.info()"
   ]
  },
  {
   "cell_type": "code",
   "execution_count": 11,
   "metadata": {},
   "outputs": [
    {
     "data": {
      "text/plain": [
       "17"
      ]
     },
     "execution_count": 11,
     "metadata": {},
     "output_type": "execute_result"
    }
   ],
   "source": [
    "f = open('result.yml', 'w')\n",
    "f.write('filter:\\n filter:\\n')"
   ]
  },
  {
   "cell_type": "code",
   "execution_count": 27,
   "metadata": {},
   "outputs": [],
   "source": [
    "def filter_generator(df_ext, df_typ):\n",
    "    for i in range(len(df)):\n",
    "        if df['EXT'][i] == df_ext and df['TYP'][i] == df_typ:\n",
    "            df_str = df['STR'][i]\n",
    "            df_srt = df['SRT'][i]\n",
    "            df_shr = df['SHR'][i]\n",
    "            \n",
    "            yml_shared = False\n",
    "            if df_shr == 'Y':\n",
    "                yml_shared = True\n",
    "            \n",
    "            \n",
    "            print(str(df_srt) + ' \\n\\n' + str(df_str) + ' \\n\\n' + str(df_shr))"
   ]
  },
  {
   "cell_type": "code",
   "execution_count": 35,
   "metadata": {},
   "outputs": [
    {
     "name": "stdout",
     "output_type": "stream",
     "text": [
      "nan \n",
      "\n",
      "(SCACT in ('EE','SE','FP', 'EH', 'EL', 'EI', 'EF', 'ES', 'GZ', 'EJ', 'EK', 'AR','ER','E9','ET','VV','FU','SA','MH', 'AX','FY','A1','A2','A3','A4','A5') or SCACT='GO' and CONCAT(CONCAT(SCAB,SCAN),SCAS) IN (select CONCAT(CONCAT(CM9AB,CM9AN),CM9AS) from cm9pf)) and scai12='N' and scai14='N' and scai17='N' and scai20='N' and scai30='N' and scai82='N' and scp3r<>'998' and scai87='N' and SCAIC4='N' \n",
      "\n",
      "Y\n"
     ]
    }
   ],
   "source": [
    "filter_generator('M2', 'EXC')"
   ]
  },
  {
   "cell_type": "markdown",
   "metadata": {},
   "source": [
    "(\n",
    "    SCACT in \n",
    "        ('EE','SE','FP', 'EH', 'EL', 'EI', 'EF', 'ES', 'GZ', 'EJ', 'EK', 'AR','ER','E9','ET','VV','FU','SA','MH', 'AX','FY','A1','A2','A3','A4','A5')\n",
    "        \n",
    "    or SCACT='GO' \n",
    "    and CONCAT(CONCAT(SCAB,SCAN),SCAS) IN (select CONCAT(CONCAT(CM9AB,CM9AN),CM9AS) from cm9pf)) \n",
    "    and scai12='N' and scai14='N' and scai17='N' and scai20='N' and scai30='N' and scai82='N' and scp3r<>'998' and scai87='N' and SCAIC4='N' \n",
    ")\n",
    "\n",
    "(\n",
    "    SCACT in \n",
    "        ('EE','SE','FP', 'EH', 'EL', 'EI', 'EF', 'ES', 'GZ', 'EJ', 'EK','AR','ER','E9','ET','VV','FU','SA','MH','AX','ME','C2','FY','A1','A2','A3','A4','A5','ZH','GL') \n",
    "    \n",
    "    or SCACT='GO' \n",
    "    and CONCAT(CONCAT(SCAB,SCAN),SCAS) IN (select CONCAT(CONCAT(CM9AB,CM9AN),CM9AS)from cm9pf)) \n",
    "    and scai12 ='N' and scai14 ='N' and scai17 ='N' and scai20 ='N' and scai30 ='N' and scai82 ='N' and scp3r<>'998' and scai87 ='N' and SCAIC4 ='N' \n",
    "    \n",
    "    or (SCACT='R9' and scai14 ='N'and scai20 ='N' and SCAI30 = 'N'and scai80 = 'N' and SCP3R<> '998')) "
   ]
  },
  {
   "cell_type": "code",
   "execution_count": 36,
   "metadata": {},
   "outputs": [
    {
     "name": "stdout",
     "output_type": "stream",
     "text": [
      "#CCY: RUR, EUR, USD, JPY;                                                  #AMA: DESCEND \n",
      "\n",
      "((SCACT in ('EE','SE','FP', 'EH', 'EL', 'EI', 'EF', 'ES', 'GZ', 'EJ', 'EK','AR','ER','E9','ET','VV','FU','SA','MH', 'AX','ME','C2','FY','A1','A2','A3','A4','A5','ZH','GL') or SCACT='GO' and CONCAT(CONCAT(SCAB,SCAN),SCAS) IN (select CONCAT(CONCAT(CM9AB,CM9AN),CM9AS)from cm9pf)) and scai12 ='N' and scai14 ='N' and scai17 ='N' and scai20 ='N' and scai30 ='N' and scai82 ='N' and scp3r<>'998' and scai87 ='N' and SCAIC4 ='N' or (SCACT='R9' and scai14 ='N'and scai20 ='N' and SCAI30 = 'N'and scai80 = 'N' and SCP3R<> '998')) \n",
      "\n",
      "Y\n"
     ]
    }
   ],
   "source": [
    "filter_generator('M2', 'OWN')"
   ]
  },
  {
   "cell_type": "markdown",
   "metadata": {},
   "source": [
    "@helper.typeIn(account, 'R9')      SCACT='R9'\n",
    "\n",
    "@helper.isValidTariffPlan(account) SCP3R<> '998'"
   ]
  },
  {
   "cell_type": "markdown",
   "metadata": {},
   "source": [
    "    M2OWN:\n",
    "      types: >\n",
    "        EE, SE, FP, EH, EL, EI, EF, ES, GZ, EJ, EK, AR, ER, E9, ET,\n",
    "        VV, FU, SA, MH, AX, ME, C2, FY, A1, A2, A3, A4, A5, ZH, GL,\n",
    "        GO, R9\n",
    "      expression: >\n",
    "        (\n",
    "          (@helper.typeIn(account, \"GO\") and goal != null)\n",
    "          or @helper.typeNotIn(account, {\"GO\", \"R9\"})\n",
    "        )\n",
    "        and @helper.isValidTariffPlan(account)\n",
    "        and account.ai14 == 'N' and account.ai17 == 'N'\n",
    "        and account.ai20 == 'N' and account.ai30 == 'N'\n",
    "        and account.ai12 == 'N' and account.ai82 == 'N' and account.ai87 == 'N'\n",
    "        and account.aic4 == 'N'\n",
    "        or (\n",
    "          @helper.typeIn(account, 'R9') and @helper.isValidTariffPlan(account)\n",
    "          and account.ai14 == 'N' and account.ai20 == 'N' and account.ai30 == 'N' and account.ai80 == 'N'\n",
    "        )\n",
    "      sorting: >\n",
    "        @helper.sortBy({\n",
    "          @helper.sortByCurrency({\"RUR\", \"EUR\", \"USD\", \"JPY\"}),\n",
    "          @helper.sortByAmount(\"desc\")\n",
    "        })"
   ]
  }
 ],
 "metadata": {
  "interpreter": {
   "hash": "2e5c6628eef985e7fd2fa2aad22c988c5b8aa1d2648cf9c51c543a2a2637c546"
  },
  "kernelspec": {
   "display_name": "Python 3.6.6 64-bit",
   "language": "python",
   "name": "python3"
  },
  "language_info": {
   "codemirror_mode": {
    "name": "ipython",
    "version": 3
   },
   "file_extension": ".py",
   "mimetype": "text/x-python",
   "name": "python",
   "nbconvert_exporter": "python",
   "pygments_lexer": "ipython3",
   "version": "3.6.6"
  },
  "orig_nbformat": 4
 },
 "nbformat": 4,
 "nbformat_minor": 2
}
