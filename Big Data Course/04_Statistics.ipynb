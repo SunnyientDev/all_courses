{
 "cells": [
  {
   "cell_type": "markdown",
   "source": [
    "# Практическая работа 4\n"
   ],
   "metadata": {
    "collapsed": false
   }
  },
  {
   "cell_type": "code",
   "execution_count": 390,
   "outputs": [],
   "source": [
    "import numpy as np\n",
    "import pandas as pd\n",
    "\n",
    "import matplotlib.pyplot as plt\n",
    "import seaborn as sns\n",
    "import pylab\n",
    "import plotly.express as px\n",
    "import plotly.figure_factory as ff\n",
    "import plotly.graph_objects as go\n",
    "import tqdm\n",
    "\n",
    "import scipy.stats as sts\n",
    "import statistics\n",
    "from sklearn.utils import shuffle"
   ],
   "metadata": {
    "collapsed": false,
    "pycharm": {
     "name": "#%%\n"
    }
   }
  },
  {
   "cell_type": "markdown",
   "source": [
    "## 1. Загрузить данные из файла “insurance.csv”."
   ],
   "metadata": {
    "collapsed": false
   }
  },
  {
   "cell_type": "code",
   "execution_count": 297,
   "metadata": {
    "collapsed": true
   },
   "outputs": [
    {
     "name": "stdout",
     "output_type": "stream",
     "text": [
      "<class 'pandas.core.frame.DataFrame'>\n",
      "RangeIndex: 1338 entries, 0 to 1337\n",
      "Data columns (total 7 columns):\n",
      " #   Column    Non-Null Count  Dtype  \n",
      "---  ------    --------------  -----  \n",
      " 0   age       1338 non-null   int64  \n",
      " 1   sex       1338 non-null   object \n",
      " 2   bmi       1338 non-null   float64\n",
      " 3   children  1338 non-null   int64  \n",
      " 4   smoker    1338 non-null   object \n",
      " 5   region    1338 non-null   object \n",
      " 6   charges   1338 non-null   float64\n",
      "dtypes: float64(2), int64(2), object(3)\n",
      "memory usage: 73.3+ KB\n"
     ]
    }
   ],
   "source": [
    "df = pd.read_csv(\"data/insurance.csv\")\n",
    "df.info()"
   ]
  },
  {
   "cell_type": "code",
   "execution_count": 298,
   "outputs": [
    {
     "data": {
      "text/plain": "   age     sex   bmi  children smoker     region    charges\n0   19  female  27.9         0    yes  southwest  16884.924",
      "text/html": "<div>\n<style scoped>\n    .dataframe tbody tr th:only-of-type {\n        vertical-align: middle;\n    }\n\n    .dataframe tbody tr th {\n        vertical-align: top;\n    }\n\n    .dataframe thead th {\n        text-align: right;\n    }\n</style>\n<table border=\"1\" class=\"dataframe\">\n  <thead>\n    <tr style=\"text-align: right;\">\n      <th></th>\n      <th>age</th>\n      <th>sex</th>\n      <th>bmi</th>\n      <th>children</th>\n      <th>smoker</th>\n      <th>region</th>\n      <th>charges</th>\n    </tr>\n  </thead>\n  <tbody>\n    <tr>\n      <th>0</th>\n      <td>19</td>\n      <td>female</td>\n      <td>27.9</td>\n      <td>0</td>\n      <td>yes</td>\n      <td>southwest</td>\n      <td>16884.924</td>\n    </tr>\n  </tbody>\n</table>\n</div>"
     },
     "execution_count": 298,
     "metadata": {},
     "output_type": "execute_result"
    }
   ],
   "source": [
    "df.head(1)"
   ],
   "metadata": {
    "collapsed": false,
    "pycharm": {
     "name": "#%%\n"
    }
   }
  },
  {
   "cell_type": "markdown",
   "source": [
    "**Данные датасета** содержат 7 столбцов. Интуитивно можно понять, что датасет связан со страхованием и хранит информацию о людях, а именно:\n",
    "* Возраст,\n",
    "* Пол,\n",
    "* Индекс массы тела в кг,\n",
    "* Количество детей,\n",
    "* Является ли курильщиком,\n",
    "* Регион проживания,\n",
    "* Сбережения."
   ],
   "metadata": {
    "collapsed": false
   }
  },
  {
   "cell_type": "markdown",
   "source": [
    "## 2. С помощью метода describe() посмотреть статистику по данным. Сделать выводы."
   ],
   "metadata": {
    "collapsed": false
   }
  },
  {
   "cell_type": "code",
   "execution_count": 299,
   "outputs": [
    {
     "data": {
      "text/plain": "               age          bmi     children       charges\ncount  1338.000000  1338.000000  1338.000000   1338.000000\nmean     39.207025    30.663397     1.094918  13270.422265\nstd      14.049960     6.098187     1.205493  12110.011237\nmin      18.000000    15.960000     0.000000   1121.873900\n25%      27.000000    26.296250     0.000000   4740.287150\n50%      39.000000    30.400000     1.000000   9382.033000\n75%      51.000000    34.693750     2.000000  16639.912515\nmax      64.000000    53.130000     5.000000  63770.428010",
      "text/html": "<div>\n<style scoped>\n    .dataframe tbody tr th:only-of-type {\n        vertical-align: middle;\n    }\n\n    .dataframe tbody tr th {\n        vertical-align: top;\n    }\n\n    .dataframe thead th {\n        text-align: right;\n    }\n</style>\n<table border=\"1\" class=\"dataframe\">\n  <thead>\n    <tr style=\"text-align: right;\">\n      <th></th>\n      <th>age</th>\n      <th>bmi</th>\n      <th>children</th>\n      <th>charges</th>\n    </tr>\n  </thead>\n  <tbody>\n    <tr>\n      <th>count</th>\n      <td>1338.000000</td>\n      <td>1338.000000</td>\n      <td>1338.000000</td>\n      <td>1338.000000</td>\n    </tr>\n    <tr>\n      <th>mean</th>\n      <td>39.207025</td>\n      <td>30.663397</td>\n      <td>1.094918</td>\n      <td>13270.422265</td>\n    </tr>\n    <tr>\n      <th>std</th>\n      <td>14.049960</td>\n      <td>6.098187</td>\n      <td>1.205493</td>\n      <td>12110.011237</td>\n    </tr>\n    <tr>\n      <th>min</th>\n      <td>18.000000</td>\n      <td>15.960000</td>\n      <td>0.000000</td>\n      <td>1121.873900</td>\n    </tr>\n    <tr>\n      <th>25%</th>\n      <td>27.000000</td>\n      <td>26.296250</td>\n      <td>0.000000</td>\n      <td>4740.287150</td>\n    </tr>\n    <tr>\n      <th>50%</th>\n      <td>39.000000</td>\n      <td>30.400000</td>\n      <td>1.000000</td>\n      <td>9382.033000</td>\n    </tr>\n    <tr>\n      <th>75%</th>\n      <td>51.000000</td>\n      <td>34.693750</td>\n      <td>2.000000</td>\n      <td>16639.912515</td>\n    </tr>\n    <tr>\n      <th>max</th>\n      <td>64.000000</td>\n      <td>53.130000</td>\n      <td>5.000000</td>\n      <td>63770.428010</td>\n    </tr>\n  </tbody>\n</table>\n</div>"
     },
     "execution_count": 299,
     "metadata": {},
     "output_type": "execute_result"
    }
   ],
   "source": [
    "df.describe()"
   ],
   "metadata": {
    "collapsed": false,
    "pycharm": {
     "name": "#%%\n"
    }
   }
  },
  {
   "cell_type": "markdown",
   "source": [
    "**Что мы получили?**\n",
    "Методом выше мы получаем информацию о нашем датасете:\n",
    "* count - количество ненулевых значений,\n",
    "* mean - среднее значение,\n",
    "* std - стандартное отклонение (относительно ее математического ожидания на основе несмещенной оценки ее дисперсии),\n",
    "* min - минимальное значение, max - максимальное.\n",
    "* 25, 50, 75 - перцентилисы, нужны для того, чтобы мы поняли, как распределяются данные.\n",
    "\n",
    "Например, 25% значит 25% данных по столбцу age имеют значение 27.0000 или ниже. То есть если бы вы посмотрели на данные вручную, 25% их было бы меньше или равно 27.\n",
    "\n",
    "**Вывод по нашим данным**\n",
    "То есть, у нас среди данных нет нулевых значений, что очень приятно.\n",
    "В среднем, люди имеют одного ребенка и сбережения в 13270 условную денежную единицу.\n",
    "Максимальный возраст - 64 года, минимальный - 18 лет.\n",
    "\n",
    "Уже интересно, что 25 процентов людей в датасете не имеют детей."
   ],
   "metadata": {
    "collapsed": false
   }
  },
  {
   "cell_type": "markdown",
   "source": [
    "## 3. Построить гистограммы для числовых показателей. Сделать выводы."
   ],
   "metadata": {
    "collapsed": false
   }
  },
  {
   "cell_type": "markdown",
   "source": [
    "У нас 4 числовых показателя: age, bmi, children, charges."
   ],
   "metadata": {
    "collapsed": false
   }
  },
  {
   "cell_type": "code",
   "execution_count": 300,
   "outputs": [
    {
     "data": {
      "text/plain": "array([[<AxesSubplot: title={'center': 'age'}>,\n        <AxesSubplot: title={'center': 'bmi'}>],\n       [<AxesSubplot: title={'center': 'children'}>,\n        <AxesSubplot: title={'center': 'charges'}>]], dtype=object)"
     },
     "execution_count": 300,
     "metadata": {},
     "output_type": "execute_result"
    },
    {
     "data": {
      "text/plain": "<Figure size 1000x500 with 4 Axes>",
      "image/png": "[encoded data removed]"
     },
     "metadata": {},
     "output_type": "display_data"
    }
   ],
   "source": [
    "df.hist(color='orange', edgecolor='grey', figsize=(10,5))"
   ],
   "metadata": {
    "collapsed": false,
    "pycharm": {
     "name": "#%%\n"
    }
   }
  },
  {
   "cell_type": "markdown",
   "source": [
    "Можно сделать выводы:\n",
    "* большая часть людей прихоится на возраст 18-20 лет\n",
    "* основной индекс массы тела сосредоточен на 30\n",
    "* большинство людей не имеют детей\n",
    "* у большей частей людей сбережения меньше 10000 у.д.е."
   ],
   "metadata": {
    "collapsed": false
   }
  },
  {
   "cell_type": "markdown",
   "source": [
    "4. Найти меры центральной тенденции и меры разброса для индекса массы тела (bmi) и расходов (charges). Отобразить результаты в виде текста и на гистограммах (3 вертикальные линии). Добавить легенду на графики. Сделать выводы."
   ],
   "metadata": {
    "collapsed": false
   }
  },
  {
   "cell_type": "markdown",
   "source": [
    "**Меры центральной тенденции**\n",
    "Необходимо найти среднее (mean), медиану (median), моду (mode).\n",
    "\n",
    "• Мода. Это значение, которое наиболее часто встречается в выборке.\n",
    "• Медиана. Для нечетного количества элементов медиана равна центральному элементу в отсортированном массиве.\n",
    "• Среднее. Сумма значений всех элементов выборки, деленное на их количество.\n",
    "\n",
    "**Меры разброса**\n",
    "Необходимо найти размах (range), стандартное отклонение (standard deviation) и межквартильный размах (interquartile range).\n",
    "\n",
    "• Размах. Разница между максимальным и минимальным значением выборки. Очень простая мера, но она использует только два значения из всей выборки. Правильнее использовать каждое значение из выборки для расчета изменчивости данных.\n",
    "• Стандартное отклонение. Это корень из дисперсии. Это оценка для выборки. Считается, что стандартное отклонение выборки немного недооценивается, поэтому ее чуть-чуть увеличивают, делив на n-1, а не на n, как для генеральной совокупности. Для генеральной совокупности такой показатель называется среднеквадратическим отклонением. Этот показатель позволяет оценить, как сильно меняются данные относительно их среднего. Стандартное отклонение не устойчиво к выбросам.\n",
    "• Межквартильный размах (IQR). Для всех выборок существуют такие отсечки, которые называются «квартили», их всего три: Q1, Q2 и Q3. Межквартильный размах – разность между Q3 (75%) и Q1 (25%), это ширина интервала, который содержит 50% данных. Это метрика полезна для описания данных, она устойчива к выбросам"
   ],
   "metadata": {
    "collapsed": false
   }
  },
  {
   "cell_type": "code",
   "execution_count": 301,
   "outputs": [],
   "source": [
    "class Measure:\n",
    "      \"\"\"\n",
    "      Object with tendency and dispersion parameters.\n",
    "      \"\"\"\n",
    "      def __init__(self, data: pd.Series, show: bool, linesize: int):\n",
    "            self.data = data\n",
    "            self.show = show\n",
    "            self.name = data.name\n",
    "            self.linesize = linesize\n",
    "\n",
    "            # Central tendency\n",
    "            self.tend_mean = None\n",
    "            self.tend_median = None\n",
    "            self.tend_mode = None\n",
    "            self.tend_mode_count = None\n",
    "\n",
    "            # Dispersion\n",
    "            self.dis_range = None\n",
    "            self.dis_std_deviation = None\n",
    "            self.dis_iqr = None\n",
    "\n",
    "      def __call__(self, *args, **kwargs):\n",
    "            self.tendency = self.calc_tendency()\n",
    "            self.dispersion = self.calc_dispersion()\n",
    "\n",
    "            if self.show:\n",
    "                  self.__show_results()\n",
    "\n",
    "\n",
    "      def calc_tendency(self) -> dict:\n",
    "            self.tend_mean = np.mean(self.data)\n",
    "            self.tend_median = np.median(self.data)\n",
    "            self.tend_mode = sts.mode(self.data, keepdims=False).mode\n",
    "            self.tend_mode_count = sts.mode(self.data, keepdims=False).count\n",
    "            return {\"mean\": self.tend_mean, \"median\": self.tend_median, \"mode\": self.tend_mode, \"mode_count\": self.tend_mode_count}\n",
    "\n",
    "      def calc_dispersion(self) -> dict:\n",
    "            self.dis_range = self.data.max() - self.data.min()\n",
    "            self.dis_iqr = sts.iqr(self.data, interpolation=\"midpoint\")\n",
    "            self.dis_std_deviation = self.data.std()\n",
    "            return {\"range\": self.dis_range, \"iqr\": self.dis_iqr, \"standard_deviation\": self.dis_std_deviation}\n",
    "\n",
    "      def __show_parameters(self, res: dict, measure_name: str) -> None:\n",
    "                  print(f\"> {self.name} {measure_name} parameters:\")\n",
    "                  for key in res.keys():\n",
    "                        print(f\"\\t{key} = {res[key]}\")\n",
    "                  print()\n",
    "\n",
    "      def __show_results(self):\n",
    "            self.__show_parameters(self.tendency, \"tendency\")\n",
    "            self.__show_parameters(self.dispersion, \"dispersion\")\n",
    "\n",
    "            fig = px.histogram(self.data, nbins=20)\n",
    "            fig.update_traces(textfont_size=14, textangle=0, textposition='outside', marker=dict(coloraxis=\"coloraxis\"), marker_line_width=2, marker_line_color=\"grey\")\n",
    "            fig.update_layout(title=f'{self.name} histogram', title_font_size=20)\n",
    "            for key in self.tendency.keys():\n",
    "                  if key != \"mode_count\":\n",
    "                        fig.add_trace(go.Scatter(x=[self.tendency[key],self.tendency[key]], y=[0,self.linesize], mode='lines',name=key))\n",
    "            fig.show()"
   ],
   "metadata": {
    "collapsed": false,
    "pycharm": {
     "name": "#%%\n"
    }
   }
  },
  {
   "cell_type": "code",
   "execution_count": 302,
   "outputs": [
    {
     "name": "stdout",
     "output_type": "stream",
     "text": [
      "> bmi tendency parameters:\n",
      "\tmean = 30.66339686098655\n",
      "\tmedian = 30.4\n",
      "\tmode = 32.3\n",
      "\tmode_count = 13\n",
      "\n",
      "> bmi dispersion parameters:\n",
      "\trange = 37.17\n",
      "\tiqr = 8.384999999999998\n",
      "\tstandard_deviation = 6.098186911679014\n",
      "\n"
     ]
    },
    {
     "data": {
      "application/vnd.plotly.v1+json": {
       "data": [
        {
         "alignmentgroup": "True",
         "bingroup": "x",
         "hovertemplate": "variable=bmi<br>value=%{x}<br>count=%{y}<extra></extra>",
         "legendgroup": "bmi",
         "marker": {
          "color": "#636efa",
          "pattern": {
           "shape": ""
          },
          "line": {
           "color": "grey",
           "width": 2
          },
          "coloraxis": "coloraxis"
         },
         "name": "bmi",
         "nbinsx": 20,
         "offsetgroup": "bmi",
         "orientation": "v",
         "showlegend": true,
         "x": [
          27.9,
          33.77,
          33.0,
          22.705,
          28.88,
          25.74,
          33.44,
          27.74,
          29.83,
          25.84,
          26.22,
          26.29,
          34.4,
          39.82,
          42.13,
          24.6,
          30.78,
          23.845,
          40.3,
          35.3,
          36.005,
          32.4,
          34.1,
          31.92,
          28.025,
          27.72,
          23.085,
          32.775,
          17.385,
          36.3,
          35.6,
          26.315,
          28.6,
          28.31,
          36.4,
          20.425,
          32.965,
          20.8,
          36.67,
          39.9,
          26.6,
          36.63,
          21.78,
          30.8,
          37.05,
          37.3,
          38.665,
          34.77,
          24.53,
          35.2,
          35.625,
          33.63,
          28.0,
          34.43,
          28.69,
          36.955,
          31.825,
          31.68,
          22.88,
          37.335,
          27.36,
          33.66,
          24.7,
          25.935,
          22.42,
          28.9,
          39.1,
          26.315,
          36.19,
          23.98,
          24.75,
          28.5,
          28.1,
          32.01,
          27.4,
          34.01,
          29.59,
          35.53,
          39.805,
          32.965,
          26.885,
          38.285,
          37.62,
          41.23,
          34.8,
          22.895,
          31.16,
          27.2,
          27.74,
          26.98,
          39.49,
          24.795,
          29.83,
          34.77,
          31.3,
          37.62,
          30.8,
          38.28,
          19.95,
          19.3,
          31.6,
          25.46,
          30.115,
          29.92,
          27.5,
          28.025,
          28.4,
          30.875,
          27.94,
          35.09,
          33.63,
          29.7,
          30.8,
          35.72,
          32.205,
          28.595,
          49.06,
          27.94,
          27.17,
          23.37,
          37.1,
          23.75,
          28.975,
          31.35,
          33.915,
          28.785,
          28.3,
          37.4,
          17.765,
          34.7,
          26.505,
          22.04,
          35.9,
          25.555,
          28.785,
          28.05,
          34.1,
          25.175,
          31.9,
          36.0,
          22.42,
          32.49,
          25.3,
          29.735,
          28.69,
          38.83,
          30.495,
          37.73,
          37.43,
          28.4,
          24.13,
          29.7,
          37.145,
          23.37,
          25.46,
          39.52,
          24.42,
          25.175,
          35.53,
          27.83,
          26.6,
          36.85,
          39.6,
          29.8,
          29.64,
          28.215,
          37.0,
          33.155,
          31.825,
          18.905,
          41.47,
          30.3,
          15.96,
          34.8,
          33.345,
          37.7,
          27.835,
          29.2,
          28.9,
          33.155,
          28.595,
          38.28,
          19.95,
          26.41,
          30.69,
          41.895,
          29.92,
          30.9,
          32.2,
          32.11,
          31.57,
          26.2,
          25.74,
          26.6,
          34.43,
          30.59,
          32.8,
          28.6,
          18.05,
          39.33,
          32.11,
          32.23,
          24.035,
          36.08,
          22.3,
          28.88,
          26.4,
          27.74,
          31.8,
          41.23,
          33.0,
          30.875,
          28.5,
          26.73,
          30.9,
          37.1,
          26.6,
          23.1,
          29.92,
          23.21,
          33.7,
          33.25,
          30.8,
          34.8,
          24.64,
          33.88,
          38.06,
          41.91,
          31.635,
          25.46,
          36.195,
          27.83,
          17.8,
          27.5,
          24.51,
          22.22,
          26.73,
          38.39,
          29.07,
          38.06,
          36.67,
          22.135,
          26.8,
          35.3,
          27.74,
          30.02,
          38.06,
          35.86,
          20.9,
          28.975,
          17.29,
          32.2,
          34.21,
          30.3,
          31.825,
          25.365,
          33.63,
          40.15,
          24.415,
          31.92,
          25.2,
          26.84,
          24.32,
          36.955,
          38.06,
          42.35,
          19.8,
          32.395,
          30.2,
          25.84,
          29.37,
          34.2,
          37.05,
          27.455,
          27.55,
          26.6,
          20.615,
          24.3,
          31.79,
          21.56,
          28.12,
          40.565,
          27.645,
          32.395,
          31.2,
          26.62,
          48.07,
          26.22,
          36.765,
          26.4,
          33.4,
          29.64,
          45.54,
          28.82,
          26.8,
          22.99,
          27.7,
          25.41,
          34.39,
          28.88,
          27.55,
          22.61,
          37.51,
          33.0,
          38.0,
          33.345,
          27.5,
          33.33,
          34.865,
          33.06,
          26.6,
          24.7,
          35.97,
          35.86,
          31.4,
          33.25,
          32.205,
          32.775,
          27.645,
          37.335,
          25.27,
          29.64,
          30.8,
          40.945,
          27.2,
          34.105,
          23.21,
          36.48,
          33.8,
          36.7,
          36.385,
          27.36,
          31.16,
          28.785,
          35.72,
          34.5,
          25.74,
          27.55,
          32.3,
          27.72,
          27.6,
          30.02,
          27.55,
          36.765,
          41.47,
          29.26,
          35.75,
          33.345,
          29.92,
          27.835,
          23.18,
          25.6,
          27.7,
          35.245,
          38.28,
          27.6,
          43.89,
          29.83,
          41.91,
          20.79,
          32.3,
          30.5,
          21.7,
          26.4,
          21.89,
          30.78,
          32.3,
          24.985,
          32.015,
          30.4,
          21.09,
          22.23,
          33.155,
          32.9,
          33.33,
          28.31,
          24.89,
          40.15,
          30.115,
          31.46,
          17.955,
          30.685,
          33.0,
          43.34,
          22.135,
          34.4,
          39.05,
          25.365,
          22.61,
          30.21,
          35.625,
          37.43,
          31.445,
          31.35,
          32.3,
          19.855,
          34.4,
          31.02,
          25.6,
          38.17,
          20.6,
          47.52,
          32.965,
          32.3,
          20.4,
          38.38,
          24.31,
          23.6,
          21.12,
          30.03,
          17.48,
          20.235,
          17.195,
          23.9,
          35.15,
          35.64,
          34.1,
          22.6,
          39.16,
          26.98,
          33.88,
          35.86,
          32.775,
          30.59,
          30.2,
          24.31,
          27.265,
          29.165,
          16.815,
          30.4,
          33.1,
          20.235,
          26.9,
          30.5,
          28.595,
          33.11,
          31.73,
          28.9,
          46.75,
          29.45,
          32.68,
          33.5,
          43.01,
          36.52,
          26.695,
          33.1,
          29.64,
          25.65,
          29.6,
          38.6,
          29.6,
          24.13,
          23.4,
          29.735,
          46.53,
          37.4,
          30.14,
          30.495,
          39.6,
          33.0,
          36.63,
          30.0,
          38.095,
          25.935,
          25.175,
          28.38,
          28.7,
          33.82,
          24.32,
          24.09,
          32.67,
          30.115,
          29.8,
          33.345,
          25.1,
          28.31,
          28.5,
          35.625,
          36.85,
          32.56,
          41.325,
          37.51,
          31.35,
          39.5,
          34.3,
          31.065,
          21.47,
          28.7,
          38.06,
          31.16,
          32.9,
          25.08,
          25.08,
          43.4,
          25.7,
          27.93,
          23.6,
          28.7,
          23.98,
          39.2,
          34.4,
          26.03,
          23.21,
          30.25,
          28.93,
          30.875,
          31.35,
          23.75,
          25.27,
          28.7,
          32.11,
          33.66,
          22.42,
          30.4,
          28.3,
          35.7,
          35.31,
          30.495,
          31.0,
          30.875,
          27.36,
          44.22,
          33.915,
          37.73,
          26.07,
          33.88,
          30.59,
          25.8,
          39.425,
          25.46,
          42.13,
          31.73,
          29.7,
          36.19,
          40.48,
          28.025,
          38.9,
          30.2,
          28.05,
          31.35,
          38.0,
          31.79,
          36.3,
          47.41,
          30.21,
          25.84,
          35.435,
          46.7,
          28.595,
          46.2,
          30.8,
          28.93,
          21.4,
          31.73,
          41.325,
          23.8,
          33.44,
          34.21,
          34.105,
          35.53,
          19.95,
          32.68,
          30.5,
          44.77,
          32.12,
          30.495,
          40.565,
          30.59,
          31.9,
          40.565,
          29.1,
          37.29,
          43.12,
          36.86,
          34.295,
          27.17,
          26.84,
          38.095,
          30.2,
          23.465,
          25.46,
          30.59,
          45.43,
          23.65,
          20.7,
          28.27,
          20.235,
          30.21,
          35.91,
          30.69,
          29.0,
          19.57,
          31.13,
          21.85,
          40.26,
          33.725,
          29.48,
          33.25,
          32.6,
          37.525,
          39.16,
          31.635,
          25.3,
          39.05,
          28.31,
          34.1,
          25.175,
          23.655,
          26.98,
          37.8,
          29.37,
          34.8,
          33.155,
          19.0,
          33.0,
          36.63,
          28.595,
          25.6,
          33.11,
          37.1,
          31.4,
          34.1,
          21.3,
          33.535,
          28.785,
          26.03,
          28.88,
          42.46,
          38.0,
          38.95,
          36.1,
          29.3,
          35.53,
          22.705,
          39.7,
          38.19,
          24.51,
          38.095,
          26.41,
          33.66,
          42.4,
          28.31,
          33.915,
          34.96,
          35.31,
          30.78,
          26.22,
          23.37,
          28.5,
          32.965,
          42.68,
          39.6,
          31.13,
          36.3,
          35.2,
          25.3,
          42.4,
          33.155,
          35.91,
          28.785,
          46.53,
          23.98,
          31.54,
          33.66,
          22.99,
          38.06,
          28.7,
          32.775,
          32.015,
          29.81,
          31.57,
          31.16,
          29.7,
          31.02,
          43.89,
          21.375,
          40.81,
          31.35,
          36.1,
          23.18,
          17.4,
          20.3,
          35.3,
          24.32,
          18.5,
          26.41,
          26.125,
          41.69,
          24.1,
          31.13,
          27.36,
          36.2,
          32.395,
          23.655,
          34.8,
          40.185,
          32.3,
          35.75,
          33.725,
          39.27,
          34.87,
          44.745,
          41.47,
          26.41,
          29.545,
          32.9,
          38.06,
          28.69,
          30.495,
          27.74,
          35.2,
          23.54,
          30.685,
          40.47,
          22.6,
          28.9,
          22.61,
          24.32,
          36.67,
          33.44,
          40.66,
          36.6,
          37.4,
          35.4,
          27.075,
          39.05,
          28.405,
          21.755,
          40.28,
          36.08,
          24.42,
          21.4,
          30.1,
          27.265,
          32.1,
          34.77,
          38.39,
          23.7,
          31.73,
          35.5,
          24.035,
          29.15,
          34.105,
          26.62,
          26.41,
          30.115,
          27.0,
          21.755,
          36.0,
          30.875,
          26.4,
          28.975,
          37.905,
          22.77,
          33.63,
          27.645,
          22.8,
          27.83,
          37.43,
          38.17,
          34.58,
          35.2,
          27.1,
          26.03,
          25.175,
          31.825,
          32.3,
          29.0,
          39.7,
          19.475,
          36.1,
          26.7,
          36.48,
          28.88,
          34.2,
          33.33,
          32.3,
          39.805,
          34.32,
          28.88,
          24.4,
          41.14,
          35.97,
          27.6,
          29.26,
          27.7,
          36.955,
          36.86,
          22.515,
          29.92,
          41.8,
          27.6,
          23.18,
          20.9,
          31.92,
          28.5,
          44.22,
          22.895,
          33.1,
          24.795,
          26.18,
          35.97,
          22.3,
          42.24,
          26.51,
          35.815,
          41.42,
          36.575,
          30.14,
          25.84,
          30.8,
          42.94,
          21.01,
          22.515,
          34.43,
          31.46,
          24.225,
          37.1,
          26.125,
          35.53,
          33.7,
          17.67,
          31.13,
          29.81,
          24.32,
          31.825,
          31.79,
          28.025,
          30.78,
          21.85,
          33.1,
          25.84,
          23.845,
          34.39,
          33.82,
          35.97,
          31.5,
          28.31,
          23.465,
          31.35,
          31.1,
          24.7,
          32.78,
          29.81,
          30.495,
          32.45,
          34.2,
          50.38,
          24.1,
          32.775,
          30.78,
          32.3,
          35.53,
          23.75,
          23.845,
          29.6,
          33.11,
          24.13,
          32.23,
          28.1,
          47.6,
          28.0,
          33.535,
          19.855,
          25.4,
          29.9,
          37.29,
          43.7,
          23.655,
          24.3,
          36.2,
          29.48,
          24.86,
          30.1,
          21.85,
          28.12,
          27.1,
          33.44,
          28.8,
          29.5,
          34.8,
          27.36,
          22.135,
          37.05,
          26.695,
          28.93,
          28.975,
          30.02,
          39.5,
          33.63,
          26.885,
          29.04,
          24.035,
          38.94,
          32.11,
          44.0,
          20.045,
          25.555,
          40.26,
          22.515,
          22.515,
          40.92,
          27.265,
          36.85,
          35.1,
          29.355,
          32.585,
          32.34,
          39.8,
          24.6,
          28.31,
          31.73,
          26.695,
          27.5,
          24.605,
          33.99,
          26.885,
          22.895,
          28.2,
          34.21,
          25.0,
          33.2,
          31.0,
          35.815,
          23.2,
          32.11,
          23.4,
          20.1,
          39.16,
          34.21,
          46.53,
          32.5,
          25.8,
          35.3,
          37.18,
          27.5,
          29.735,
          24.225,
          26.18,
          29.48,
          23.21,
          46.09,
          40.185,
          22.61,
          39.93,
          35.8,
          35.8,
          34.2,
          31.255,
          29.7,
          18.335,
          42.9,
          28.405,
          30.2,
          27.835,
          39.49,
          30.8,
          26.79,
          34.96,
          36.67,
          39.615,
          25.9,
          35.2,
          24.795,
          36.765,
          27.1,
          24.795,
          25.365,
          25.745,
          34.32,
          28.16,
          23.56,
          20.235,
          40.5,
          35.42,
          22.895,
          40.15,
          29.15,
          39.995,
          29.92,
          25.46,
          21.375,
          25.9,
          30.59,
          30.115,
          25.8,
          30.115,
          27.645,
          34.675,
          20.52,
          19.8,
          27.835,
          31.6,
          28.27,
          20.045,
          23.275,
          34.1,
          36.85,
          36.29,
          26.885,
          22.99,
          32.7,
          25.8,
          29.6,
          19.19,
          31.73,
          29.26,
          28.215,
          24.985,
          27.74,
          22.8,
          20.13,
          33.33,
          32.3,
          27.6,
          25.46,
          24.605,
          34.2,
          35.815,
          32.68,
          37.0,
          31.02,
          36.08,
          23.32,
          45.32,
          34.6,
          26.03,
          18.715,
          31.6,
          17.29,
          23.655,
          35.2,
          27.93,
          21.565,
          38.38,
          23.0,
          37.07,
          30.495,
          28.88,
          27.265,
          28.025,
          23.085,
          30.685,
          25.8,
          35.245,
          24.7,
          25.08,
          52.58,
          22.515,
          30.9,
          36.955,
          26.41,
          29.83,
          29.8,
          21.47,
          27.645,
          28.9,
          31.79,
          39.49,
          33.82,
          32.01,
          27.94,
          41.14,
          28.595,
          25.6,
          25.3,
          37.29,
          42.655,
          21.66,
          31.9,
          37.07,
          31.445,
          31.255,
          28.88,
          18.335,
          29.59,
          32.0,
          26.03,
          31.68,
          33.66,
          21.78,
          27.835,
          19.95,
          31.5,
          30.495,
          18.3,
          28.975,
          31.54,
          47.74,
          22.1,
          36.19,
          29.83,
          32.7,
          30.4,
          33.7,
          31.35,
          34.96,
          33.77,
          30.875,
          33.99,
          19.095,
          28.6,
          38.94,
          36.08,
          29.8,
          31.24,
          29.925,
          26.22,
          30.0,
          20.35,
          32.3,
          38.39,
          25.85,
          26.315,
          24.51,
          32.67,
          29.64,
          33.33,
          35.75,
          19.95,
          31.4,
          38.17,
          36.86,
          32.395,
          42.75,
          25.08,
          29.9,
          35.86,
          32.8,
          18.6,
          23.87,
          45.9,
          40.28,
          18.335,
          33.82,
          28.12,
          25.0,
          22.23,
          30.25,
          32.49,
          37.07,
          32.6,
          24.86,
          32.34,
          32.3,
          32.775,
          32.8,
          31.92,
          21.5,
          34.1,
          30.305,
          36.48,
          32.56,
          35.815,
          27.93,
          22.135,
          44.88,
          23.18,
          30.59,
          41.1,
          34.58,
          42.13,
          38.83,
          28.215,
          28.31,
          26.125,
          40.37,
          24.6,
          35.2,
          34.105,
          27.36,
          26.7,
          41.91,
          29.26,
          32.11,
          27.1,
          24.13,
          27.4,
          34.865,
          29.81,
          41.325,
          29.925,
          30.3,
          27.36,
          28.49,
          23.56,
          35.625,
          32.68,
          25.27,
          28.0,
          32.775,
          21.755,
          32.395,
          36.575,
          21.755,
          27.93,
          30.02,
          33.55,
          29.355,
          25.8,
          24.32,
          40.375,
          32.11,
          32.3,
          27.28,
          17.86,
          34.8,
          33.4,
          25.555,
          37.1,
          30.875,
          34.1,
          21.47,
          33.3,
          31.255,
          39.14,
          25.08,
          37.29,
          34.6,
          30.21,
          21.945,
          24.97,
          25.3,
          24.42,
          23.94,
          39.82,
          16.815,
          37.18,
          34.43,
          30.305,
          34.485,
          21.8,
          24.605,
          23.3,
          27.83,
          31.065,
          21.66,
          28.215,
          22.705,
          42.13,
          41.8,
          36.96,
          21.28,
          33.11,
          33.33,
          24.3,
          25.7,
          29.4,
          39.82,
          33.63,
          29.83,
          19.8,
          27.3,
          29.3,
          27.72,
          37.9,
          36.385,
          27.645,
          37.715,
          23.18,
          20.52,
          37.1,
          28.05,
          29.9,
          33.345,
          23.76,
          30.5,
          31.065,
          33.3,
          27.5,
          33.915,
          34.485,
          25.52,
          27.61,
          27.06,
          23.7,
          30.4,
          29.735,
          29.925,
          26.79,
          33.33,
          27.645,
          21.66,
          30.03,
          36.3,
          24.32,
          17.29,
          25.9,
          39.4,
          34.32,
          19.95,
          34.9,
          23.21,
          25.745,
          25.175,
          22.0,
          26.125,
          26.51,
          27.455,
          25.745,
          30.36,
          30.875,
          20.8,
          27.8,
          24.605,
          27.72,
          21.85,
          28.12,
          30.2,
          32.2,
          26.315,
          26.695,
          42.9,
          34.7,
          23.655,
          28.31,
          20.6,
          53.13,
          39.71,
          26.315,
          31.065,
          26.695,
          38.83,
          40.37,
          25.935,
          33.535,
          32.87,
          30.03,
          24.225,
          38.6,
          25.74,
          33.4,
          44.7,
          30.97,
          31.92,
          36.85,
          25.8,
          29.07
         ],
         "xaxis": "x",
         "yaxis": "y",
         "type": "histogram",
         "textfont": {
          "size": 14
         },
         "textangle": 0,
         "textposition": "outside"
        },
        {
         "mode": "lines",
         "name": "mean",
         "x": [
          30.66339686098655,
          30.66339686098655
         ],
         "y": [
          0,
          180
         ],
         "type": "scatter"
        },
        {
         "mode": "lines",
         "name": "median",
         "x": [
          30.4,
          30.4
         ],
         "y": [
          0,
          180
         ],
         "type": "scatter"
        },
        {
         "mode": "lines",
         "name": "mode",
         "x": [
          32.3,
          32.3
         ],
         "y": [
          0,
          180
         ],
         "type": "scatter"
        }
       ],
       "layout": {
        "template": {
         "data": {
          "histogram2dcontour": [
           {
            "type": "histogram2dcontour",
            "colorbar": {
             "outlinewidth": 0,
             "ticks": ""
            },
            "colorscale": [
             [
              0.0,
              "#0d0887"
             ],
             [
              0.1111111111111111,
              "#46039f"
             ],
             [
              0.2222222222222222,
              "#7201a8"
             ],
             [
              0.3333333333333333,
              "#9c179e"
             ],
             [
              0.4444444444444444,
              "#bd3786"
             ],
             [
              0.5555555555555556,
              "#d8576b"
             ],
             [
              0.6666666666666666,
              "#ed7953"
             ],
             [
              0.7777777777777778,
              "#fb9f3a"
             ],
             [
              0.8888888888888888,
              "#fdca26"
             ],
             [
              1.0,
              "#f0f921"
             ]
            ]
           }
          ],
          "choropleth": [
           {
            "type": "choropleth",
            "colorbar": {
             "outlinewidth": 0,
             "ticks": ""
            }
           }
          ],
          "histogram2d": [
           {
            "type": "histogram2d",
            "colorbar": {
             "outlinewidth": 0,
             "ticks": ""
            },
            "colorscale": [
             [
              0.0,
              "#0d0887"
             ],
             [
              0.1111111111111111,
              "#46039f"
             ],
             [
              0.2222222222222222,
              "#7201a8"
             ],
             [
              0.3333333333333333,
              "#9c179e"
             ],
             [
              0.4444444444444444,
              "#bd3786"
             ],
             [
              0.5555555555555556,
              "#d8576b"
             ],
             [
              0.6666666666666666,
              "#ed7953"
             ],
             [
              0.7777777777777778,
              "#fb9f3a"
             ],
             [
              0.8888888888888888,
              "#fdca26"
             ],
             [
              1.0,
              "#f0f921"
             ]
            ]
           }
          ],
          "heatmap": [
           {
            "type": "heatmap",
            "colorbar": {
             "outlinewidth": 0,
             "ticks": ""
            },
            "colorscale": [
             [
              0.0,
              "#0d0887"
             ],
             [
              0.1111111111111111,
              "#46039f"
             ],
             [
              0.2222222222222222,
              "#7201a8"
             ],
             [
              0.3333333333333333,
              "#9c179e"
             ],
             [
              0.4444444444444444,
              "#bd3786"
             ],
             [
              0.5555555555555556,
              "#d8576b"
             ],
             [
              0.6666666666666666,
              "#ed7953"
             ],
             [
              0.7777777777777778,
              "#fb9f3a"
             ],
             [
              0.8888888888888888,
              "#fdca26"
             ],
             [
              1.0,
              "#f0f921"
             ]
            ]
           }
          ],
          "heatmapgl": [
           {
            "type": "heatmapgl",
            "colorbar": {
             "outlinewidth": 0,
             "ticks": ""
            },
            "colorscale": [
             [
              0.0,
              "#0d0887"
             ],
             [
              0.1111111111111111,
              "#46039f"
             ],
             [
              0.2222222222222222,
              "#7201a8"
             ],
             [
              0.3333333333333333,
              "#9c179e"
             ],
             [
              0.4444444444444444,
              "#bd3786"
             ],
             [
              0.5555555555555556,
              "#d8576b"
             ],
             [
              0.6666666666666666,
              "#ed7953"
             ],
             [
              0.7777777777777778,
              "#fb9f3a"
             ],
             [
              0.8888888888888888,
              "#fdca26"
             ],
             [
              1.0,
              "#f0f921"
             ]
            ]
           }
          ],
          "contourcarpet": [
           {
            "type": "contourcarpet",
            "colorbar": {
             "outlinewidth": 0,
             "ticks": ""
            }
           }
          ],
          "contour": [
           {
            "type": "contour",
            "colorbar": {
             "outlinewidth": 0,
             "ticks": ""
            },
            "colorscale": [
             [
              0.0,
              "#0d0887"
             ],
             [
              0.1111111111111111,
              "#46039f"
             ],
             [
              0.2222222222222222,
              "#7201a8"
             ],
             [
              0.3333333333333333,
              "#9c179e"
             ],
             [
              0.4444444444444444,
              "#bd3786"
             ],
             [
              0.5555555555555556,
              "#d8576b"
             ],
             [
              0.6666666666666666,
              "#ed7953"
             ],
             [
              0.7777777777777778,
              "#fb9f3a"
             ],
             [
              0.8888888888888888,
              "#fdca26"
             ],
             [
              1.0,
              "#f0f921"
             ]
            ]
           }
          ],
          "surface": [
           {
            "type": "surface",
            "colorbar": {
             "outlinewidth": 0,
             "ticks": ""
            },
            "colorscale": [
             [
              0.0,
              "#0d0887"
             ],
             [
              0.1111111111111111,
              "#46039f"
             ],
             [
              0.2222222222222222,
              "#7201a8"
             ],
             [
              0.3333333333333333,
              "#9c179e"
             ],
             [
              0.4444444444444444,
              "#bd3786"
             ],
             [
              0.5555555555555556,
              "#d8576b"
             ],
             [
              0.6666666666666666,
              "#ed7953"
             ],
             [
              0.7777777777777778,
              "#fb9f3a"
             ],
             [
              0.8888888888888888,
              "#fdca26"
             ],
             [
              1.0,
              "#f0f921"
             ]
            ]
           }
          ],
          "mesh3d": [
           {
            "type": "mesh3d",
            "colorbar": {
             "outlinewidth": 0,
             "ticks": ""
            }
           }
          ],
          "scatter": [
           {
            "fillpattern": {
             "fillmode": "overlay",
             "size": 10,
             "solidity": 0.2
            },
            "type": "scatter"
           }
          ],
          "parcoords": [
           {
            "type": "parcoords",
            "line": {
             "colorbar": {
              "outlinewidth": 0,
              "ticks": ""
             }
            }
           }
          ],
          "scatterpolargl": [
           {
            "type": "scatterpolargl",
            "marker": {
             "colorbar": {
              "outlinewidth": 0,
              "ticks": ""
             }
            }
           }
          ],
          "bar": [
           {
            "error_x": {
             "color": "#2a3f5f"
            },
            "error_y": {
             "color": "#2a3f5f"
            },
            "marker": {
             "line": {
              "color": "#E5ECF6",
              "width": 0.5
             },
             "pattern": {
              "fillmode": "overlay",
              "size": 10,
              "solidity": 0.2
             }
            },
            "type": "bar"
           }
          ],
          "scattergeo": [
           {
            "type": "scattergeo",
            "marker": {
             "colorbar": {
              "outlinewidth": 0,
              "ticks": ""
             }
            }
           }
          ],
          "scatterpolar": [
           {
            "type": "scatterpolar",
            "marker": {
             "colorbar": {
              "outlinewidth": 0,
              "ticks": ""
             }
            }
           }
          ],
          "histogram": [
           {
            "marker": {
             "pattern": {
              "fillmode": "overlay",
              "size": 10,
              "solidity": 0.2
             }
            },
            "type": "histogram"
           }
          ],
          "scattergl": [
           {
            "type": "scattergl",
            "marker": {
             "colorbar": {
              "outlinewidth": 0,
              "ticks": ""
             }
            }
           }
          ],
          "scatter3d": [
           {
            "type": "scatter3d",
            "line": {
             "colorbar": {
              "outlinewidth": 0,
              "ticks": ""
             }
            },
            "marker": {
             "colorbar": {
              "outlinewidth": 0,
              "ticks": ""
             }
            }
           }
          ],
          "scattermapbox": [
           {
            "type": "scattermapbox",
            "marker": {
             "colorbar": {
              "outlinewidth": 0,
              "ticks": ""
             }
            }
           }
          ],
          "scatterternary": [
           {
            "type": "scatterternary",
            "marker": {
             "colorbar": {
              "outlinewidth": 0,
              "ticks": ""
             }
            }
           }
          ],
          "scattercarpet": [
           {
            "type": "scattercarpet",
            "marker": {
             "colorbar": {
              "outlinewidth": 0,
              "ticks": ""
             }
            }
           }
          ],
          "carpet": [
           {
            "aaxis": {
             "endlinecolor": "#2a3f5f",
             "gridcolor": "white",
             "linecolor": "white",
             "minorgridcolor": "white",
             "startlinecolor": "#2a3f5f"
            },
            "baxis": {
             "endlinecolor": "#2a3f5f",
             "gridcolor": "white",
             "linecolor": "white",
             "minorgridcolor": "white",
             "startlinecolor": "#2a3f5f"
            },
            "type": "carpet"
           }
          ],
          "table": [
           {
            "cells": {
             "fill": {
              "color": "#EBF0F8"
             },
             "line": {
              "color": "white"
             }
            },
            "header": {
             "fill": {
              "color": "#C8D4E3"
             },
             "line": {
              "color": "white"
             }
            },
            "type": "table"
           }
          ],
          "barpolar": [
           {
            "marker": {
             "line": {
              "color": "#E5ECF6",
              "width": 0.5
             },
             "pattern": {
              "fillmode": "overlay",
              "size": 10,
              "solidity": 0.2
             }
            },
            "type": "barpolar"
           }
          ],
          "pie": [
           {
            "automargin": true,
            "type": "pie"
           }
          ]
         },
         "layout": {
          "autotypenumbers": "strict",
          "colorway": [
           "#636efa",
           "#EF553B",
           "#00cc96",
           "#ab63fa",
           "#FFA15A",
           "#19d3f3",
           "#FF6692",
           "#B6E880",
           "#FF97FF",
           "#FECB52"
          ],
          "font": {
           "color": "#2a3f5f"
          },
          "hovermode": "closest",
          "hoverlabel": {
           "align": "left"
          },
          "paper_bgcolor": "white",
          "plot_bgcolor": "#E5ECF6",
          "polar": {
           "bgcolor": "#E5ECF6",
           "angularaxis": {
            "gridcolor": "white",
            "linecolor": "white",
            "ticks": ""
           },
           "radialaxis": {
            "gridcolor": "white",
            "linecolor": "white",
            "ticks": ""
           }
          },
          "ternary": {
           "bgcolor": "#E5ECF6",
           "aaxis": {
            "gridcolor": "white",
            "linecolor": "white",
            "ticks": ""
           },
           "baxis": {
            "gridcolor": "white",
            "linecolor": "white",
            "ticks": ""
           },
           "caxis": {
            "gridcolor": "white",
            "linecolor": "white",
            "ticks": ""
           }
          },
          "coloraxis": {
           "colorbar": {
            "outlinewidth": 0,
            "ticks": ""
           }
          },
          "colorscale": {
           "sequential": [
            [
             0.0,
             "#0d0887"
            ],
            [
             0.1111111111111111,
             "#46039f"
            ],
            [
             0.2222222222222222,
             "#7201a8"
            ],
            [
             0.3333333333333333,
             "#9c179e"
            ],
            [
             0.4444444444444444,
             "#bd3786"
            ],
            [
             0.5555555555555556,
             "#d8576b"
            ],
            [
             0.6666666666666666,
             "#ed7953"
            ],
            [
             0.7777777777777778,
             "#fb9f3a"
            ],
            [
             0.8888888888888888,
             "#fdca26"
            ],
            [
             1.0,
             "#f0f921"
            ]
           ],
           "sequentialminus": [
            [
             0.0,
             "#0d0887"
            ],
            [
             0.1111111111111111,
             "#46039f"
            ],
            [
             0.2222222222222222,
             "#7201a8"
            ],
            [
             0.3333333333333333,
             "#9c179e"
            ],
            [
             0.4444444444444444,
             "#bd3786"
            ],
            [
             0.5555555555555556,
             "#d8576b"
            ],
            [
             0.6666666666666666,
             "#ed7953"
            ],
            [
             0.7777777777777778,
             "#fb9f3a"
            ],
            [
             0.8888888888888888,
             "#fdca26"
            ],
            [
             1.0,
             "#f0f921"
            ]
           ],
           "diverging": [
            [
             0,
             "#8e0152"
            ],
            [
             0.1,
             "#c51b7d"
            ],
            [
             0.2,
             "#de77ae"
            ],
            [
             0.3,
             "#f1b6da"
            ],
            [
             0.4,
             "#fde0ef"
            ],
            [
             0.5,
             "#f7f7f7"
            ],
            [
             0.6,
             "#e6f5d0"
            ],
            [
             0.7,
             "#b8e186"
            ],
            [
             0.8,
             "#7fbc41"
            ],
            [
             0.9,
             "#4d9221"
            ],
            [
             1,
             "#276419"
            ]
           ]
          },
          "xaxis": {
           "gridcolor": "white",
           "linecolor": "white",
           "ticks": "",
           "title": {
            "standoff": 15
           },
           "zerolinecolor": "white",
           "automargin": true,
           "zerolinewidth": 2
          },
          "yaxis": {
           "gridcolor": "white",
           "linecolor": "white",
           "ticks": "",
           "title": {
            "standoff": 15
           },
           "zerolinecolor": "white",
           "automargin": true,
           "zerolinewidth": 2
          },
          "scene": {
           "xaxis": {
            "backgroundcolor": "#E5ECF6",
            "gridcolor": "white",
            "linecolor": "white",
            "showbackground": true,
            "ticks": "",
            "zerolinecolor": "white",
            "gridwidth": 2
           },
           "yaxis": {
            "backgroundcolor": "#E5ECF6",
            "gridcolor": "white",
            "linecolor": "white",
            "showbackground": true,
            "ticks": "",
            "zerolinecolor": "white",
            "gridwidth": 2
           },
           "zaxis": {
            "backgroundcolor": "#E5ECF6",
            "gridcolor": "white",
            "linecolor": "white",
            "showbackground": true,
            "ticks": "",
            "zerolinecolor": "white",
            "gridwidth": 2
           }
          },
          "shapedefaults": {
           "line": {
            "color": "#2a3f5f"
           }
          },
          "annotationdefaults": {
           "arrowcolor": "#2a3f5f",
           "arrowhead": 0,
           "arrowwidth": 1
          },
          "geo": {
           "bgcolor": "white",
           "landcolor": "#E5ECF6",
           "subunitcolor": "white",
           "showland": true,
           "showlakes": true,
           "lakecolor": "white"
          },
          "title": {
           "x": 0.05
          },
          "mapbox": {
           "style": "light"
          }
         }
        },
        "xaxis": {
         "anchor": "y",
         "domain": [
          0.0,
          1.0
         ],
         "title": {
          "text": "value"
         }
        },
        "yaxis": {
         "anchor": "x",
         "domain": [
          0.0,
          1.0
         ],
         "title": {
          "text": "count"
         }
        },
        "legend": {
         "title": {
          "text": "variable"
         },
         "tracegroupgap": 0
        },
        "margin": {
         "t": 60
        },
        "barmode": "relative",
        "title": {
         "text": "bmi histogram",
         "font": {
          "size": 20
         }
        }
       },
       "config": {
        "plotlyServerURL": "https://plot.ly"
       }
      },
      "text/html": "<div>                            <div id=\"57ae7a3d-2c4e-4985-a306-f277810a111b\" class=\"plotly-graph-div\" style=\"height:525px; width:100%;\"></div>            <script type=\"text/javascript\">                require([\"plotly\"], function(Plotly) {                    window.PLOTLYENV=window.PLOTLYENV || {};                                    if (document.getElementById(\"57ae7a3d-2c4e-4985-a306-f277810a111b\")) {                    Plotly.newPlot(                        \"57ae7a3d-2c4e-4985-a306-f277810a111b\",                        [{\"alignmentgroup\":\"True\",\"bingroup\":\"x\",\"hovertemplate\":\"variable=bmi<br>value=%{x}<br>count=%{y}<extra></extra>\",\"legendgroup\":\"bmi\",\"marker\":{\"color\":\"#636efa\",\"pattern\":{\"shape\":\"\"},\"line\":{\"color\":\"grey\",\"width\":2},\"coloraxis\":\"coloraxis\"},\"name\":\"bmi\",\"nbinsx\":20,\"offsetgroup\":\"bmi\",\"orientation\":\"v\",\"showlegend\":true,\"x\":[27.9,33.77,33.0,22.705,28.88,25.74,33.44,27.74,29.83,25.84,26.22,26.29,34.4,39.82,42.13,24.6,30.78,23.845,40.3,35.3,36.005,32.4,34.1,31.92,28.025,27.72,23.085,32.775,17.385,36.3,35.6,26.315,28.6,28.31,36.4,20.425,32.965,20.8,36.67,39.9,26.6,36.63,21.78,30.8,37.05,37.3,38.665,34.77,24.53,35.2,35.625,33.63,28.0,34.43,28.69,36.955,31.825,31.68,22.88,37.335,27.36,33.66,24.7,25.935,22.42,28.9,39.1,26.315,36.19,23.98,24.75,28.5,28.1,32.01,27.4,34.01,29.59,35.53,39.805,32.965,26.885,38.285,37.62,41.23,34.8,22.895,31.16,27.2,27.74,26.98,39.49,24.795,29.83,34.77,31.3,37.62,30.8,38.28,19.95,19.3,31.6,25.46,30.115,29.92,27.5,28.025,28.4,30.875,27.94,35.09,33.63,29.7,30.8,35.72,32.205,28.595,49.06,27.94,27.17,23.37,37.1,23.75,28.975,31.35,33.915,28.785,28.3,37.4,17.765,34.7,26.505,22.04,35.9,25.555,28.785,28.05,34.1,25.175,31.9,36.0,22.42,32.49,25.3,29.735,28.69,38.83,30.495,37.73,37.43,28.4,24.13,29.7,37.145,23.37,25.46,39.52,24.42,25.175,35.53,27.83,26.6,36.85,39.6,29.8,29.64,28.215,37.0,33.155,31.825,18.905,41.47,30.3,15.96,34.8,33.345,37.7,27.835,29.2,28.9,33.155,28.595,38.28,19.95,26.41,30.69,41.895,29.92,30.9,32.2,32.11,31.57,26.2,25.74,26.6,34.43,30.59,32.8,28.6,18.05,39.33,32.11,32.23,24.035,36.08,22.3,28.88,26.4,27.74,31.8,41.23,33.0,30.875,28.5,26.73,30.9,37.1,26.6,23.1,29.92,23.21,33.7,33.25,30.8,34.8,24.64,33.88,38.06,41.91,31.635,25.46,36.195,27.83,17.8,27.5,24.51,22.22,26.73,38.39,29.07,38.06,36.67,22.135,26.8,35.3,27.74,30.02,38.06,35.86,20.9,28.975,17.29,32.2,34.21,30.3,31.825,25.365,33.63,40.15,24.415,31.92,25.2,26.84,24.32,36.955,38.06,42.35,19.8,32.395,30.2,25.84,29.37,34.2,37.05,27.455,27.55,26.6,20.615,24.3,31.79,21.56,28.12,40.565,27.645,32.395,31.2,26.62,48.07,26.22,36.765,26.4,33.4,29.64,45.54,28.82,26.8,22.99,27.7,25.41,34.39,28.88,27.55,22.61,37.51,33.0,38.0,33.345,27.5,33.33,34.865,33.06,26.6,24.7,35.97,35.86,31.4,33.25,32.205,32.775,27.645,37.335,25.27,29.64,30.8,40.945,27.2,34.105,23.21,36.48,33.8,36.7,36.385,27.36,31.16,28.785,35.72,34.5,25.74,27.55,32.3,27.72,27.6,30.02,27.55,36.765,41.47,29.26,35.75,33.345,29.92,27.835,23.18,25.6,27.7,35.245,38.28,27.6,43.89,29.83,41.91,20.79,32.3,30.5,21.7,26.4,21.89,30.78,32.3,24.985,32.015,30.4,21.09,22.23,33.155,32.9,33.33,28.31,24.89,40.15,30.115,31.46,17.955,30.685,33.0,43.34,22.135,34.4,39.05,25.365,22.61,30.21,35.625,37.43,31.445,31.35,32.3,19.855,34.4,31.02,25.6,38.17,20.6,47.52,32.965,32.3,20.4,38.38,24.31,23.6,21.12,30.03,17.48,20.235,17.195,23.9,35.15,35.64,34.1,22.6,39.16,26.98,33.88,35.86,32.775,30.59,30.2,24.31,27.265,29.165,16.815,30.4,33.1,20.235,26.9,30.5,28.595,33.11,31.73,28.9,46.75,29.45,32.68,33.5,43.01,36.52,26.695,33.1,29.64,25.65,29.6,38.6,29.6,24.13,23.4,29.735,46.53,37.4,30.14,30.495,39.6,33.0,36.63,30.0,38.095,25.935,25.175,28.38,28.7,33.82,24.32,24.09,32.67,30.115,29.8,33.345,25.1,28.31,28.5,35.625,36.85,32.56,41.325,37.51,31.35,39.5,34.3,31.065,21.47,28.7,38.06,31.16,32.9,25.08,25.08,43.4,25.7,27.93,23.6,28.7,23.98,39.2,34.4,26.03,23.21,30.25,28.93,30.875,31.35,23.75,25.27,28.7,32.11,33.66,22.42,30.4,28.3,35.7,35.31,30.495,31.0,30.875,27.36,44.22,33.915,37.73,26.07,33.88,30.59,25.8,39.425,25.46,42.13,31.73,29.7,36.19,40.48,28.025,38.9,30.2,28.05,31.35,38.0,31.79,36.3,47.41,30.21,25.84,35.435,46.7,28.595,46.2,30.8,28.93,21.4,31.73,41.325,23.8,33.44,34.21,34.105,35.53,19.95,32.68,30.5,44.77,32.12,30.495,40.565,30.59,31.9,40.565,29.1,37.29,43.12,36.86,34.295,27.17,26.84,38.095,30.2,23.465,25.46,30.59,45.43,23.65,20.7,28.27,20.235,30.21,35.91,30.69,29.0,19.57,31.13,21.85,40.26,33.725,29.48,33.25,32.6,37.525,39.16,31.635,25.3,39.05,28.31,34.1,25.175,23.655,26.98,37.8,29.37,34.8,33.155,19.0,33.0,36.63,28.595,25.6,33.11,37.1,31.4,34.1,21.3,33.535,28.785,26.03,28.88,42.46,38.0,38.95,36.1,29.3,35.53,22.705,39.7,38.19,24.51,38.095,26.41,33.66,42.4,28.31,33.915,34.96,35.31,30.78,26.22,23.37,28.5,32.965,42.68,39.6,31.13,36.3,35.2,25.3,42.4,33.155,35.91,28.785,46.53,23.98,31.54,33.66,22.99,38.06,28.7,32.775,32.015,29.81,31.57,31.16,29.7,31.02,43.89,21.375,40.81,31.35,36.1,23.18,17.4,20.3,35.3,24.32,18.5,26.41,26.125,41.69,24.1,31.13,27.36,36.2,32.395,23.655,34.8,40.185,32.3,35.75,33.725,39.27,34.87,44.745,41.47,26.41,29.545,32.9,38.06,28.69,30.495,27.74,35.2,23.54,30.685,40.47,22.6,28.9,22.61,24.32,36.67,33.44,40.66,36.6,37.4,35.4,27.075,39.05,28.405,21.755,40.28,36.08,24.42,21.4,30.1,27.265,32.1,34.77,38.39,23.7,31.73,35.5,24.035,29.15,34.105,26.62,26.41,30.115,27.0,21.755,36.0,30.875,26.4,28.975,37.905,22.77,33.63,27.645,22.8,27.83,37.43,38.17,34.58,35.2,27.1,26.03,25.175,31.825,32.3,29.0,39.7,19.475,36.1,26.7,36.48,28.88,34.2,33.33,32.3,39.805,34.32,28.88,24.4,41.14,35.97,27.6,29.26,27.7,36.955,36.86,22.515,29.92,41.8,27.6,23.18,20.9,31.92,28.5,44.22,22.895,33.1,24.795,26.18,35.97,22.3,42.24,26.51,35.815,41.42,36.575,30.14,25.84,30.8,42.94,21.01,22.515,34.43,31.46,24.225,37.1,26.125,35.53,33.7,17.67,31.13,29.81,24.32,31.825,31.79,28.025,30.78,21.85,33.1,25.84,23.845,34.39,33.82,35.97,31.5,28.31,23.465,31.35,31.1,24.7,32.78,29.81,30.495,32.45,34.2,50.38,24.1,32.775,30.78,32.3,35.53,23.75,23.845,29.6,33.11,24.13,32.23,28.1,47.6,28.0,33.535,19.855,25.4,29.9,37.29,43.7,23.655,24.3,36.2,29.48,24.86,30.1,21.85,28.12,27.1,33.44,28.8,29.5,34.8,27.36,22.135,37.05,26.695,28.93,28.975,30.02,39.5,33.63,26.885,29.04,24.035,38.94,32.11,44.0,20.045,25.555,40.26,22.515,22.515,40.92,27.265,36.85,35.1,29.355,32.585,32.34,39.8,24.6,28.31,31.73,26.695,27.5,24.605,33.99,26.885,22.895,28.2,34.21,25.0,33.2,31.0,35.815,23.2,32.11,23.4,20.1,39.16,34.21,46.53,32.5,25.8,35.3,37.18,27.5,29.735,24.225,26.18,29.48,23.21,46.09,40.185,22.61,39.93,35.8,35.8,34.2,31.255,29.7,18.335,42.9,28.405,30.2,27.835,39.49,30.8,26.79,34.96,36.67,39.615,25.9,35.2,24.795,36.765,27.1,24.795,25.365,25.745,34.32,28.16,23.56,20.235,40.5,35.42,22.895,40.15,29.15,39.995,29.92,25.46,21.375,25.9,30.59,30.115,25.8,30.115,27.645,34.675,20.52,19.8,27.835,31.6,28.27,20.045,23.275,34.1,36.85,36.29,26.885,22.99,32.7,25.8,29.6,19.19,31.73,29.26,28.215,24.985,27.74,22.8,20.13,33.33,32.3,27.6,25.46,24.605,34.2,35.815,32.68,37.0,31.02,36.08,23.32,45.32,34.6,26.03,18.715,31.6,17.29,23.655,35.2,27.93,21.565,38.38,23.0,37.07,30.495,28.88,27.265,28.025,23.085,30.685,25.8,35.245,24.7,25.08,52.58,22.515,30.9,36.955,26.41,29.83,29.8,21.47,27.645,28.9,31.79,39.49,33.82,32.01,27.94,41.14,28.595,25.6,25.3,37.29,42.655,21.66,31.9,37.07,31.445,31.255,28.88,18.335,29.59,32.0,26.03,31.68,33.66,21.78,27.835,19.95,31.5,30.495,18.3,28.975,31.54,47.74,22.1,36.19,29.83,32.7,30.4,33.7,31.35,34.96,33.77,30.875,33.99,19.095,28.6,38.94,36.08,29.8,31.24,29.925,26.22,30.0,20.35,32.3,38.39,25.85,26.315,24.51,32.67,29.64,33.33,35.75,19.95,31.4,38.17,36.86,32.395,42.75,25.08,29.9,35.86,32.8,18.6,23.87,45.9,40.28,18.335,33.82,28.12,25.0,22.23,30.25,32.49,37.07,32.6,24.86,32.34,32.3,32.775,32.8,31.92,21.5,34.1,30.305,36.48,32.56,35.815,27.93,22.135,44.88,23.18,30.59,41.1,34.58,42.13,38.83,28.215,28.31,26.125,40.37,24.6,35.2,34.105,27.36,26.7,41.91,29.26,32.11,27.1,24.13,27.4,34.865,29.81,41.325,29.925,30.3,27.36,28.49,23.56,35.625,32.68,25.27,28.0,32.775,21.755,32.395,36.575,21.755,27.93,30.02,33.55,29.355,25.8,24.32,40.375,32.11,32.3,27.28,17.86,34.8,33.4,25.555,37.1,30.875,34.1,21.47,33.3,31.255,39.14,25.08,37.29,34.6,30.21,21.945,24.97,25.3,24.42,23.94,39.82,16.815,37.18,34.43,30.305,34.485,21.8,24.605,23.3,27.83,31.065,21.66,28.215,22.705,42.13,41.8,36.96,21.28,33.11,33.33,24.3,25.7,29.4,39.82,33.63,29.83,19.8,27.3,29.3,27.72,37.9,36.385,27.645,37.715,23.18,20.52,37.1,28.05,29.9,33.345,23.76,30.5,31.065,33.3,27.5,33.915,34.485,25.52,27.61,27.06,23.7,30.4,29.735,29.925,26.79,33.33,27.645,21.66,30.03,36.3,24.32,17.29,25.9,39.4,34.32,19.95,34.9,23.21,25.745,25.175,22.0,26.125,26.51,27.455,25.745,30.36,30.875,20.8,27.8,24.605,27.72,21.85,28.12,30.2,32.2,26.315,26.695,42.9,34.7,23.655,28.31,20.6,53.13,39.71,26.315,31.065,26.695,38.83,40.37,25.935,33.535,32.87,30.03,24.225,38.6,25.74,33.4,44.7,30.97,31.92,36.85,25.8,29.07],\"xaxis\":\"x\",\"yaxis\":\"y\",\"type\":\"histogram\",\"textfont\":{\"size\":14},\"textangle\":0,\"textposition\":\"outside\"},{\"mode\":\"lines\",\"name\":\"mean\",\"x\":[30.66339686098655,30.66339686098655],\"y\":[0,180],\"type\":\"scatter\"},{\"mode\":\"lines\",\"name\":\"median\",\"x\":[30.4,30.4],\"y\":[0,180],\"type\":\"scatter\"},{\"mode\":\"lines\",\"name\":\"mode\",\"x\":[32.3,32.3],\"y\":[0,180],\"type\":\"scatter\"}],                        {\"template\":{\"data\":{\"histogram2dcontour\":[{\"type\":\"histogram2dcontour\",\"colorbar\":{\"outlinewidth\":0,\"ticks\":\"\"},\"colorscale\":[[0.0,\"#0d0887\"],[0.1111111111111111,\"#46039f\"],[0.2222222222222222,\"#7201a8\"],[0.3333333333333333,\"#9c179e\"],[0.4444444444444444,\"#bd3786\"],[0.5555555555555556,\"#d8576b\"],[0.6666666666666666,\"#ed7953\"],[0.7777777777777778,\"#fb9f3a\"],[0.8888888888888888,\"#fdca26\"],[1.0,\"#f0f921\"]]}],\"choropleth\":[{\"type\":\"choropleth\",\"colorbar\":{\"outlinewidth\":0,\"ticks\":\"\"}}],\"histogram2d\":[{\"type\":\"histogram2d\",\"colorbar\":{\"outlinewidth\":0,\"ticks\":\"\"},\"colorscale\":[[0.0,\"#0d0887\"],[0.1111111111111111,\"#46039f\"],[0.2222222222222222,\"#7201a8\"],[0.3333333333333333,\"#9c179e\"],[0.4444444444444444,\"#bd3786\"],[0.5555555555555556,\"#d8576b\"],[0.6666666666666666,\"#ed7953\"],[0.7777777777777778,\"#fb9f3a\"],[0.8888888888888888,\"#fdca26\"],[1.0,\"#f0f921\"]]}],\"heatmap\":[{\"type\":\"heatmap\",\"colorbar\":{\"outlinewidth\":0,\"ticks\":\"\"},\"colorscale\":[[0.0,\"#0d0887\"],[0.1111111111111111,\"#46039f\"],[0.2222222222222222,\"#7201a8\"],[0.3333333333333333,\"#9c179e\"],[0.4444444444444444,\"#bd3786\"],[0.5555555555555556,\"#d8576b\"],[0.6666666666666666,\"#ed7953\"],[0.7777777777777778,\"#fb9f3a\"],[0.8888888888888888,\"#fdca26\"],[1.0,\"#f0f921\"]]}],\"heatmapgl\":[{\"type\":\"heatmapgl\",\"colorbar\":{\"outlinewidth\":0,\"ticks\":\"\"},\"colorscale\":[[0.0,\"#0d0887\"],[0.1111111111111111,\"#46039f\"],[0.2222222222222222,\"#7201a8\"],[0.3333333333333333,\"#9c179e\"],[0.4444444444444444,\"#bd3786\"],[0.5555555555555556,\"#d8576b\"],[0.6666666666666666,\"#ed7953\"],[0.7777777777777778,\"#fb9f3a\"],[0.8888888888888888,\"#fdca26\"],[1.0,\"#f0f921\"]]}],\"contourcarpet\":[{\"type\":\"contourcarpet\",\"colorbar\":{\"outlinewidth\":0,\"ticks\":\"\"}}],\"contour\":[{\"type\":\"contour\",\"colorbar\":{\"outlinewidth\":0,\"ticks\":\"\"},\"colorscale\":[[0.0,\"#0d0887\"],[0.1111111111111111,\"#46039f\"],[0.2222222222222222,\"#7201a8\"],[0.3333333333333333,\"#9c179e\"],[0.4444444444444444,\"#bd3786\"],[0.5555555555555556,\"#d8576b\"],[0.6666666666666666,\"#ed7953\"],[0.7777777777777778,\"#fb9f3a\"],[0.8888888888888888,\"#fdca26\"],[1.0,\"#f0f921\"]]}],\"surface\":[{\"type\":\"surface\",\"colorbar\":{\"outlinewidth\":0,\"ticks\":\"\"},\"colorscale\":[[0.0,\"#0d0887\"],[0.1111111111111111,\"#46039f\"],[0.2222222222222222,\"#7201a8\"],[0.3333333333333333,\"#9c179e\"],[0.4444444444444444,\"#bd3786\"],[0.5555555555555556,\"#d8576b\"],[0.6666666666666666,\"#ed7953\"],[0.7777777777777778,\"#fb9f3a\"],[0.8888888888888888,\"#fdca26\"],[1.0,\"#f0f921\"]]}],\"mesh3d\":[{\"type\":\"mesh3d\",\"colorbar\":{\"outlinewidth\":0,\"ticks\":\"\"}}],\"scatter\":[{\"fillpattern\":{\"fillmode\":\"overlay\",\"size\":10,\"solidity\":0.2},\"type\":\"scatter\"}],\"parcoords\":[{\"type\":\"parcoords\",\"line\":{\"colorbar\":{\"outlinewidth\":0,\"ticks\":\"\"}}}],\"scatterpolargl\":[{\"type\":\"scatterpolargl\",\"marker\":{\"colorbar\":{\"outlinewidth\":0,\"ticks\":\"\"}}}],\"bar\":[{\"error_x\":{\"color\":\"#2a3f5f\"},\"error_y\":{\"color\":\"#2a3f5f\"},\"marker\":{\"line\":{\"color\":\"#E5ECF6\",\"width\":0.5},\"pattern\":{\"fillmode\":\"overlay\",\"size\":10,\"solidity\":0.2}},\"type\":\"bar\"}],\"scattergeo\":[{\"type\":\"scattergeo\",\"marker\":{\"colorbar\":{\"outlinewidth\":0,\"ticks\":\"\"}}}],\"scatterpolar\":[{\"type\":\"scatterpolar\",\"marker\":{\"colorbar\":{\"outlinewidth\":0,\"ticks\":\"\"}}}],\"histogram\":[{\"marker\":{\"pattern\":{\"fillmode\":\"overlay\",\"size\":10,\"solidity\":0.2}},\"type\":\"histogram\"}],\"scattergl\":[{\"type\":\"scattergl\",\"marker\":{\"colorbar\":{\"outlinewidth\":0,\"ticks\":\"\"}}}],\"scatter3d\":[{\"type\":\"scatter3d\",\"line\":{\"colorbar\":{\"outlinewidth\":0,\"ticks\":\"\"}},\"marker\":{\"colorbar\":{\"outlinewidth\":0,\"ticks\":\"\"}}}],\"scattermapbox\":[{\"type\":\"scattermapbox\",\"marker\":{\"colorbar\":{\"outlinewidth\":0,\"ticks\":\"\"}}}],\"scatterternary\":[{\"type\":\"scatterternary\",\"marker\":{\"colorbar\":{\"outlinewidth\":0,\"ticks\":\"\"}}}],\"scattercarpet\":[{\"type\":\"scattercarpet\",\"marker\":{\"colorbar\":{\"outlinewidth\":0,\"ticks\":\"\"}}}],\"carpet\":[{\"aaxis\":{\"endlinecolor\":\"#2a3f5f\",\"gridcolor\":\"white\",\"linecolor\":\"white\",\"minorgridcolor\":\"white\",\"startlinecolor\":\"#2a3f5f\"},\"baxis\":{\"endlinecolor\":\"#2a3f5f\",\"gridcolor\":\"white\",\"linecolor\":\"white\",\"minorgridcolor\":\"white\",\"startlinecolor\":\"#2a3f5f\"},\"type\":\"carpet\"}],\"table\":[{\"cells\":{\"fill\":{\"color\":\"#EBF0F8\"},\"line\":{\"color\":\"white\"}},\"header\":{\"fill\":{\"color\":\"#C8D4E3\"},\"line\":{\"color\":\"white\"}},\"type\":\"table\"}],\"barpolar\":[{\"marker\":{\"line\":{\"color\":\"#E5ECF6\",\"width\":0.5},\"pattern\":{\"fillmode\":\"overlay\",\"size\":10,\"solidity\":0.2}},\"type\":\"barpolar\"}],\"pie\":[{\"automargin\":true,\"type\":\"pie\"}]},\"layout\":{\"autotypenumbers\":\"strict\",\"colorway\":[\"#636efa\",\"#EF553B\",\"#00cc96\",\"#ab63fa\",\"#FFA15A\",\"#19d3f3\",\"#FF6692\",\"#B6E880\",\"#FF97FF\",\"#FECB52\"],\"font\":{\"color\":\"#2a3f5f\"},\"hovermode\":\"closest\",\"hoverlabel\":{\"align\":\"left\"},\"paper_bgcolor\":\"white\",\"plot_bgcolor\":\"#E5ECF6\",\"polar\":{\"bgcolor\":\"#E5ECF6\",\"angularaxis\":{\"gridcolor\":\"white\",\"linecolor\":\"white\",\"ticks\":\"\"},\"radialaxis\":{\"gridcolor\":\"white\",\"linecolor\":\"white\",\"ticks\":\"\"}},\"ternary\":{\"bgcolor\":\"#E5ECF6\",\"aaxis\":{\"gridcolor\":\"white\",\"linecolor\":\"white\",\"ticks\":\"\"},\"baxis\":{\"gridcolor\":\"white\",\"linecolor\":\"white\",\"ticks\":\"\"},\"caxis\":{\"gridcolor\":\"white\",\"linecolor\":\"white\",\"ticks\":\"\"}},\"coloraxis\":{\"colorbar\":{\"outlinewidth\":0,\"ticks\":\"\"}},\"colorscale\":{\"sequential\":[[0.0,\"#0d0887\"],[0.1111111111111111,\"#46039f\"],[0.2222222222222222,\"#7201a8\"],[0.3333333333333333,\"#9c179e\"],[0.4444444444444444,\"#bd3786\"],[0.5555555555555556,\"#d8576b\"],[0.6666666666666666,\"#ed7953\"],[0.7777777777777778,\"#fb9f3a\"],[0.8888888888888888,\"#fdca26\"],[1.0,\"#f0f921\"]],\"sequentialminus\":[[0.0,\"#0d0887\"],[0.1111111111111111,\"#46039f\"],[0.2222222222222222,\"#7201a8\"],[0.3333333333333333,\"#9c179e\"],[0.4444444444444444,\"#bd3786\"],[0.5555555555555556,\"#d8576b\"],[0.6666666666666666,\"#ed7953\"],[0.7777777777777778,\"#fb9f3a\"],[0.8888888888888888,\"#fdca26\"],[1.0,\"#f0f921\"]],\"diverging\":[[0,\"#8e0152\"],[0.1,\"#c51b7d\"],[0.2,\"#de77ae\"],[0.3,\"#f1b6da\"],[0.4,\"#fde0ef\"],[0.5,\"#f7f7f7\"],[0.6,\"#e6f5d0\"],[0.7,\"#b8e186\"],[0.8,\"#7fbc41\"],[0.9,\"#4d9221\"],[1,\"#276419\"]]},\"xaxis\":{\"gridcolor\":\"white\",\"linecolor\":\"white\",\"ticks\":\"\",\"title\":{\"standoff\":15},\"zerolinecolor\":\"white\",\"automargin\":true,\"zerolinewidth\":2},\"yaxis\":{\"gridcolor\":\"white\",\"linecolor\":\"white\",\"ticks\":\"\",\"title\":{\"standoff\":15},\"zerolinecolor\":\"white\",\"automargin\":true,\"zerolinewidth\":2},\"scene\":{\"xaxis\":{\"backgroundcolor\":\"#E5ECF6\",\"gridcolor\":\"white\",\"linecolor\":\"white\",\"showbackground\":true,\"ticks\":\"\",\"zerolinecolor\":\"white\",\"gridwidth\":2},\"yaxis\":{\"backgroundcolor\":\"#E5ECF6\",\"gridcolor\":\"white\",\"linecolor\":\"white\",\"showbackground\":true,\"ticks\":\"\",\"zerolinecolor\":\"white\",\"gridwidth\":2},\"zaxis\":{\"backgroundcolor\":\"#E5ECF6\",\"gridcolor\":\"white\",\"linecolor\":\"white\",\"showbackground\":true,\"ticks\":\"\",\"zerolinecolor\":\"white\",\"gridwidth\":2}},\"shapedefaults\":{\"line\":{\"color\":\"#2a3f5f\"}},\"annotationdefaults\":{\"arrowcolor\":\"#2a3f5f\",\"arrowhead\":0,\"arrowwidth\":1},\"geo\":{\"bgcolor\":\"white\",\"landcolor\":\"#E5ECF6\",\"subunitcolor\":\"white\",\"showland\":true,\"showlakes\":true,\"lakecolor\":\"white\"},\"title\":{\"x\":0.05},\"mapbox\":{\"style\":\"light\"}}},\"xaxis\":{\"anchor\":\"y\",\"domain\":[0.0,1.0],\"title\":{\"text\":\"value\"}},\"yaxis\":{\"anchor\":\"x\",\"domain\":[0.0,1.0],\"title\":{\"text\":\"count\"}},\"legend\":{\"title\":{\"text\":\"variable\"},\"tracegroupgap\":0},\"margin\":{\"t\":60},\"barmode\":\"relative\",\"title\":{\"text\":\"bmi histogram\",\"font\":{\"size\":20}}},                        {\"responsive\": true}                    ).then(function(){\n                            \nvar gd = document.getElementById('57ae7a3d-2c4e-4985-a306-f277810a111b');\nvar x = new MutationObserver(function (mutations, observer) {{\n        var display = window.getComputedStyle(gd).display;\n        if (!display || display === 'none') {{\n            console.log([gd, 'removed!']);\n            Plotly.purge(gd);\n            observer.disconnect();\n        }}\n}});\n\n// Listen for the removal of the full notebook cells\nvar notebookContainer = gd.closest('#notebook-container');\nif (notebookContainer) {{\n    x.observe(notebookContainer, {childList: true});\n}}\n\n// Listen for the clearing of the current output cell\nvar outputEl = gd.closest('.output');\nif (outputEl) {{\n    x.observe(outputEl, {childList: true});\n}}\n\n                        })                };                });            </script>        </div>"
     },
     "metadata": {},
     "output_type": "display_data"
    }
   ],
   "source": [
    "Measure(df['bmi'], True, 180)()"
   ],
   "metadata": {
    "collapsed": false,
    "pycharm": {
     "name": "#%%\n"
    }
   }
  },
  {
   "cell_type": "markdown",
   "source": [
    "Можем сделать вывод, что самое часто встречамое число - 32.3, среднее - лежит около 30, а медиана (если отсортировать все числа и взять то, что лежит посередине) - равна 30.4. При этом разница между максимальным и минимальным значением равна 37.17, межквартильный размах - около 8, отклонение - 6."
   ],
   "metadata": {
    "collapsed": false
   }
  },
  {
   "cell_type": "code",
   "execution_count": 303,
   "outputs": [
    {
     "name": "stdout",
     "output_type": "stream",
     "text": [
      "> charges tendency parameters:\n",
      "\tmean = 13270.422265141257\n",
      "\tmedian = 9382.033\n",
      "\tmode = 1639.5631\n",
      "\tmode_count = 2\n",
      "\n",
      "> charges dispersion parameters:\n",
      "\trange = 62648.554110000005\n",
      "\tiqr = 11879.80148\n",
      "\tstandard_deviation = 12110.011236694001\n",
      "\n"
     ]
    },
    {
     "data": {
      "application/vnd.plotly.v1+json": {
       "data": [
        {
         "alignmentgroup": "True",
         "bingroup": "x",
         "hovertemplate": "variable=charges<br>value=%{x}<br>count=%{y}<extra></extra>",
         "legendgroup": "charges",
         "marker": {
          "color": "#636efa",
          "pattern": {
           "shape": ""
          },
          "line": {
           "color": "grey",
           "width": 2
          },
          "coloraxis": "coloraxis"
         },
         "name": "charges",
         "nbinsx": 20,
         "offsetgroup": "charges",
         "orientation": "v",
         "showlegend": true,
         "x": [
          16884.924,
          1725.5523,
          4449.462,
          21984.47061,
          3866.8552,
          3756.6216,
          8240.5896,
          7281.5056,
          6406.4107,
          28923.13692,
          2721.3208,
          27808.7251,
          1826.843,
          11090.7178,
          39611.7577,
          1837.237,
          10797.3362,
          2395.17155,
          10602.385,
          36837.467,
          13228.84695,
          4149.736,
          1137.011,
          37701.8768,
          6203.90175,
          14001.1338,
          14451.83515,
          12268.63225,
          2775.19215,
          38711.0,
          35585.576,
          2198.18985,
          4687.797,
          13770.0979,
          51194.55914,
          1625.43375,
          15612.19335,
          2302.3,
          39774.2763,
          48173.361,
          3046.062,
          4949.7587,
          6272.4772,
          6313.759,
          6079.6715,
          20630.28351,
          3393.35635,
          3556.9223,
          12629.8967,
          38709.176,
          2211.13075,
          3579.8287,
          23568.272,
          37742.5757,
          8059.6791,
          47496.49445,
          13607.36875,
          34303.1672,
          23244.7902,
          5989.52365,
          8606.2174,
          4504.6624,
          30166.61817,
          4133.64165,
          14711.7438,
          1743.214,
          14235.072,
          6389.37785,
          5920.1041,
          17663.1442,
          16577.7795,
          6799.458,
          11741.726,
          11946.6259,
          7726.854,
          11356.6609,
          3947.4131,
          1532.4697,
          2755.02095,
          6571.02435,
          4441.21315,
          7935.29115,
          37165.1638,
          11033.6617,
          39836.519,
          21098.55405,
          43578.9394,
          11073.176,
          8026.6666,
          11082.5772,
          2026.9741,
          10942.13205,
          30184.9367,
          5729.0053,
          47291.055,
          3766.8838,
          12105.32,
          10226.2842,
          22412.6485,
          15820.699,
          6186.127,
          3645.0894,
          21344.8467,
          30942.1918,
          5003.853,
          17560.37975,
          2331.519,
          3877.30425,
          2867.1196,
          47055.5321,
          10825.2537,
          11881.358,
          4646.759,
          2404.7338,
          11488.31695,
          30259.99556,
          11381.3254,
          19107.7796,
          8601.3293,
          6686.4313,
          7740.337,
          1705.6245,
          2257.47525,
          39556.4945,
          10115.00885,
          3385.39915,
          17081.08,
          9634.538,
          32734.1863,
          6082.405,
          12815.44495,
          13616.3586,
          11163.568,
          1632.56445,
          2457.21115,
          2155.6815,
          1261.442,
          2045.68525,
          27322.73386,
          2166.732,
          27375.90478,
          3490.5491,
          18972.495,
          18157.876,
          20745.9891,
          5138.2567,
          40720.55105,
          9877.6077,
          10959.6947,
          1842.519,
          5125.2157,
          7789.635,
          6334.34355,
          19964.7463,
          7077.1894,
          6948.7008,
          21223.6758,
          15518.18025,
          36950.2567,
          19749.38338,
          21348.706,
          36149.4835,
          10450.552,
          5152.134,
          5028.1466,
          10407.08585,
          4830.63,
          6128.79745,
          2719.27975,
          4827.90495,
          13405.3903,
          8116.68,
          1694.7964,
          5246.047,
          2855.43755,
          48824.45,
          6455.86265,
          10436.096,
          8823.279,
          8538.28845,
          11735.87905,
          1631.8212,
          4005.4225,
          7419.4779,
          7731.4271,
          43753.33705,
          3981.9768,
          5325.651,
          6775.961,
          4922.9159,
          12557.6053,
          4883.866,
          2137.6536,
          12044.342,
          1137.4697,
          1639.5631,
          5649.715,
          8516.829,
          9644.2525,
          14901.5167,
          2130.6759,
          8871.1517,
          13012.20865,
          37133.8982,
          7147.105,
          4337.7352,
          11743.299,
          20984.0936,
          13880.949,
          6610.1097,
          1980.07,
          8162.71625,
          3537.703,
          5002.7827,
          8520.026,
          7371.772,
          10355.641,
          2483.736,
          3392.9768,
          25081.76784,
          5012.471,
          10564.8845,
          5253.524,
          34779.615,
          19515.5416,
          11987.1682,
          2689.4954,
          24227.33724,
          7358.17565,
          9225.2564,
          7443.64305,
          14001.2867,
          1727.785,
          12333.828,
          6710.1919,
          19444.2658,
          1615.7667,
          4463.2051,
          17352.6803,
          7152.6714,
          38511.6283,
          5354.07465,
          35160.13457,
          7196.867,
          29523.1656,
          24476.47851,
          12648.7034,
          1986.9334,
          1832.094,
          4040.55825,
          12829.4551,
          47305.305,
          44260.7499,
          4260.744,
          41097.16175,
          13047.33235,
          43921.1837,
          5400.9805,
          11520.09985,
          33750.2918,
          11837.16,
          17085.2676,
          24869.8368,
          36219.40545,
          20462.99766,
          46151.1245,
          17179.522,
          14590.63205,
          7441.053,
          9282.4806,
          1719.4363,
          42856.838,
          7265.7025,
          9617.66245,
          2523.1695,
          9715.841,
          2803.69785,
          2150.469,
          12928.7911,
          9855.1314,
          22331.5668,
          48549.17835,
          4237.12655,
          11879.10405,
          9625.92,
          7742.1098,
          9432.9253,
          14256.1928,
          47896.79135,
          25992.82104,
          3172.018,
          20277.80751,
          42112.2356,
          2156.7518,
          3906.127,
          1704.5681,
          16297.846,
          21978.6769,
          38746.3551,
          9249.4952,
          6746.7425,
          24873.3849,
          12265.5069,
          4349.462,
          12646.207,
          19442.3535,
          20177.67113,
          4151.0287,
          11944.59435,
          7749.1564,
          8444.474,
          1737.376,
          42124.5153,
          8124.4084,
          34838.873,
          9722.7695,
          8835.26495,
          10435.06525,
          7421.19455,
          4667.60765,
          4894.7533,
          24671.66334,
          35491.64,
          11566.30055,
          2866.091,
          6600.20595,
          3561.8889,
          42760.5022,
          47928.03,
          9144.565,
          48517.56315,
          24393.6224,
          13429.0354,
          11658.37915,
          19144.57652,
          13822.803,
          12142.5786,
          13937.6665,
          41919.097,
          8232.6388,
          18955.22017,
          13352.0998,
          13217.0945,
          13981.85035,
          10977.2063,
          6184.2994,
          4889.9995,
          8334.45755,
          5478.0368,
          1635.73365,
          11830.6072,
          8932.084,
          3554.203,
          12404.8791,
          14133.03775,
          24603.04837,
          8944.1151,
          9620.3307,
          1837.2819,
          1607.5101,
          10043.249,
          4751.07,
          13844.506,
          2597.779,
          3180.5101,
          9778.3472,
          13430.265,
          8017.06115,
          8116.26885,
          3481.868,
          13415.0381,
          12029.2867,
          7639.41745,
          36085.219,
          1391.5287,
          18033.9679,
          21659.9301,
          38126.2465,
          16455.70785,
          27000.98473,
          15006.57945,
          42303.69215,
          20781.48892,
          5846.9176,
          8302.53565,
          1261.859,
          11856.4115,
          30284.64294,
          3176.8159,
          4618.0799,
          10736.87075,
          2138.0707,
          8964.06055,
          9290.1395,
          9411.005,
          7526.70645,
          8522.003,
          16586.49771,
          14988.432,
          1631.6683,
          9264.797,
          8083.9198,
          14692.66935,
          10269.46,
          3260.199,
          11396.9002,
          4185.0979,
          8539.671,
          6652.5288,
          4074.4537,
          1621.3402,
          19594.80965,
          14455.64405,
          5080.096,
          2134.9015,
          7345.7266,
          9140.951,
          18608.262,
          14418.2804,
          28950.4692,
          46889.2612,
          46599.1084,
          39125.33225,
          2727.3951,
          8968.33,
          9788.8659,
          6555.07035,
          7323.734819,
          3167.45585,
          18804.7524,
          23082.95533,
          4906.40965,
          5969.723,
          12638.195,
          4243.59005,
          13919.8229,
          2254.7967,
          5926.846,
          12592.5345,
          2897.3235,
          4738.2682,
          37079.372,
          1149.3959,
          28287.89766,
          26109.32905,
          7345.084,
          12730.9996,
          11454.0215,
          5910.944,
          4762.329,
          7512.267,
          4032.2407,
          1969.614,
          1769.53165,
          4686.3887,
          21797.0004,
          11881.9696,
          11840.77505,
          10601.412,
          7682.67,
          10381.4787,
          22144.032,
          15230.32405,
          11165.41765,
          1632.03625,
          19521.9682,
          13224.693,
          12643.3778,
          23288.9284,
          2201.0971,
          2497.0383,
          2203.47185,
          1744.465,
          20878.78443,
          25382.297,
          28868.6639,
          35147.52848,
          2534.39375,
          1534.3045,
          1824.2854,
          15555.18875,
          9304.7019,
          1622.1885,
          9880.068,
          9563.029,
          4347.02335,
          12475.3513,
          1253.936,
          48885.13561,
          10461.9794,
          1748.774,
          24513.09126,
          2196.4732,
          12574.049,
          17942.106,
          1967.0227,
          4931.647,
          8027.968,
          8211.1002,
          13470.86,
          36197.699,
          6837.3687,
          22218.1149,
          32548.3405,
          5974.3847,
          6796.86325,
          2643.2685,
          3077.0955,
          3044.2133,
          11455.28,
          11763.0009,
          2498.4144,
          9361.3268,
          1256.299,
          21082.16,
          11362.755,
          27724.28875,
          8413.46305,
          5240.765,
          3857.75925,
          25656.57526,
          3994.1778,
          9866.30485,
          5397.6167,
          38245.59327,
          11482.63485,
          24059.68019,
          9861.025,
          8342.90875,
          1708.0014,
          48675.5177,
          14043.4767,
          12925.886,
          19214.70553,
          13831.1152,
          6067.12675,
          5972.378,
          8825.086,
          8233.0975,
          27346.04207,
          6196.448,
          3056.3881,
          13887.204,
          63770.42801,
          10231.4999,
          23807.2406,
          3268.84665,
          11538.421,
          3213.62205,
          45863.205,
          13390.559,
          3972.9247,
          12957.118,
          11187.6567,
          17878.90068,
          3847.674,
          8334.5896,
          3935.1799,
          39983.42595,
          1646.4297,
          9193.8385,
          10923.9332,
          2494.022,
          9058.7303,
          2801.2588,
          2128.43105,
          6373.55735,
          7256.7231,
          11552.904,
          45702.02235,
          3761.292,
          2219.4451,
          4753.6368,
          31620.00106,
          13224.05705,
          12222.8983,
          1664.9996,
          58571.07448,
          9724.53,
          3206.49135,
          12913.9924,
          1639.5631,
          6356.2707,
          17626.23951,
          1242.816,
          4779.6023,
          3861.20965,
          43943.8761,
          13635.6379,
          5976.8311,
          11842.442,
          8428.0693,
          2566.4707,
          15359.1045,
          5709.1644,
          8823.98575,
          7640.3092,
          5594.8455,
          7441.501,
          33471.97189,
          1633.0444,
          9174.13565,
          11070.535,
          16085.1275,
          17468.9839,
          9283.562,
          3558.62025,
          25678.77845,
          4435.0942,
          39241.442,
          8547.6913,
          6571.544,
          2207.69745,
          6753.038,
          1880.07,
          42969.8527,
          11658.11505,
          23306.547,
          34439.8559,
          10713.644,
          3659.346,
          40182.246,
          9182.17,
          34617.84065,
          12129.61415,
          3736.4647,
          6748.5912,
          11326.71487,
          11365.952,
          42983.4585,
          10085.846,
          1977.815,
          3366.6697,
          7173.35995,
          9391.346,
          14410.9321,
          2709.1119,
          24915.04626,
          20149.3229,
          12949.1554,
          6666.243,
          32787.45859,
          13143.86485,
          4466.6214,
          18806.14547,
          10141.1362,
          6123.5688,
          8252.2843,
          1712.227,
          12430.95335,
          9800.8882,
          10579.711,
          8280.6227,
          8527.532,
          12244.531,
          24667.419,
          3410.324,
          4058.71245,
          26392.26029,
          14394.39815,
          6435.6237,
          22192.43711,
          5148.5526,
          1136.3994,
          27037.9141,
          42560.4304,
          8703.456,
          40003.33225,
          45710.20785,
          6500.2359,
          4837.5823,
          3943.5954,
          4399.731,
          6185.3208,
          46200.9851,
          7222.78625,
          12485.8009,
          46130.5265,
          12363.547,
          10156.7832,
          2585.269,
          1242.26,
          40103.89,
          9863.4718,
          4766.022,
          11244.3769,
          7729.64575,
          5438.7491,
          26236.57997,
          34806.4677,
          2104.1134,
          8068.185,
          2362.22905,
          2352.96845,
          3577.999,
          3201.24515,
          29186.48236,
          40273.6455,
          10976.24575,
          3500.6123,
          2020.5523,
          9541.69555,
          9504.3103,
          5385.3379,
          8930.93455,
          5375.038,
          44400.4064,
          10264.4421,
          6113.23105,
          5469.0066,
          1727.54,
          10107.2206,
          8310.83915,
          1984.4533,
          2457.502,
          12146.971,
          9566.9909,
          13112.6048,
          10848.1343,
          12231.6136,
          9875.6804,
          11264.541,
          12979.358,
          1263.249,
          10106.13425,
          40932.4295,
          6664.68595,
          16657.71745,
          2217.6012,
          6781.3542,
          19361.9988,
          10065.413,
          4234.927,
          9447.25035,
          14007.222,
          9583.8933,
          40419.0191,
          3484.331,
          36189.1017,
          44585.45587,
          8604.48365,
          18246.4955,
          43254.41795,
          3757.8448,
          8827.2099,
          9910.35985,
          11737.84884,
          1627.28245,
          8556.907,
          3062.50825,
          19539.243,
          1906.35825,
          14210.53595,
          11833.7823,
          17128.42608,
          5031.26955,
          7985.815,
          23065.4207,
          5428.7277,
          36307.7983,
          3925.7582,
          2416.955,
          19040.876,
          3070.8087,
          9095.06825,
          11842.62375,
          8062.764,
          7050.642,
          14319.031,
          6933.24225,
          27941.28758,
          11150.78,
          12797.20962,
          17748.5062,
          7261.741,
          10560.4917,
          6986.697,
          7448.40395,
          5934.3798,
          9869.8102,
          18259.216,
          1146.7966,
          9386.1613,
          24520.264,
          4350.5144,
          6414.178,
          12741.16745,
          1917.3184,
          5209.57885,
          13457.9608,
          5662.225,
          1252.407,
          2731.9122,
          21195.818,
          7209.4918,
          18310.742,
          4266.1658,
          4719.52405,
          11848.141,
          17904.52705,
          7046.7222,
          14313.8463,
          2103.08,
          38792.6856,
          1815.8759,
          7731.85785,
          28476.73499,
          2136.88225,
          1131.5066,
          3309.7926,
          9414.92,
          6360.9936,
          11013.7119,
          4428.88785,
          5584.3057,
          1877.9294,
          2842.76075,
          3597.596,
          23401.30575,
          55135.40209,
          7445.918,
          2680.9493,
          1621.8827,
          8219.2039,
          12523.6048,
          16069.08475,
          43813.8661,
          20773.62775,
          39597.4072,
          6117.4945,
          13393.756,
          5266.3656,
          4719.73655,
          11743.9341,
          5377.4578,
          7160.3303,
          4402.233,
          11657.7189,
          6402.29135,
          12622.1795,
          1526.312,
          12323.936,
          36021.0112,
          27533.9129,
          10072.05505,
          45008.9555,
          9872.701,
          2438.0552,
          2974.126,
          10601.63225,
          37270.1512,
          14119.62,
          42111.6647,
          11729.6795,
          24106.91255,
          1875.344,
          40974.1649,
          15817.9857,
          18218.16139,
          10965.446,
          46113.511,
          7151.092,
          12269.68865,
          5458.04645,
          8782.469,
          6600.361,
          1141.4451,
          11576.13,
          13129.60345,
          4391.652,
          8457.818,
          3392.3652,
          5966.8874,
          6849.026,
          8891.1395,
          2690.1138,
          26140.3603,
          6653.7886,
          6282.235,
          6311.952,
          3443.064,
          2789.0574,
          2585.85065,
          46255.1125,
          4877.98105,
          19719.6947,
          27218.43725,
          5272.1758,
          1682.597,
          11945.1327,
          29330.98315,
          7243.8136,
          10422.91665,
          44202.6536,
          13555.0049,
          13063.883,
          19798.05455,
          2221.56445,
          1634.5734,
          2117.33885,
          8688.85885,
          48673.5588,
          4661.28635,
          8125.7845,
          12644.589,
          4564.19145,
          4846.92015,
          7633.7206,
          15170.069,
          17496.306,
          2639.0429,
          33732.6867,
          14382.70905,
          7626.993,
          5257.50795,
          2473.3341,
          21774.32215,
          35069.37452,
          13041.921,
          5245.2269,
          13451.122,
          13462.52,
          5488.262,
          4320.41085,
          6250.435,
          25333.33284,
          2913.569,
          12032.326,
          13470.8044,
          6289.7549,
          2927.0647,
          6238.298,
          10096.97,
          7348.142,
          4673.3922,
          12233.828,
          32108.66282,
          8965.79575,
          2304.0022,
          9487.6442,
          1121.8739,
          9549.5651,
          2217.46915,
          1628.4709,
          12982.8747,
          11674.13,
          7160.094,
          39047.285,
          6358.77645,
          19933.458,
          11534.87265,
          47462.894,
          4527.18295,
          38998.546,
          20009.63365,
          3875.7341,
          41999.52,
          12609.88702,
          41034.2214,
          28468.91901,
          2730.10785,
          3353.284,
          14474.675,
          9500.57305,
          26467.09737,
          4746.344,
          23967.38305,
          7518.02535,
          3279.86855,
          8596.8278,
          10702.6424,
          4992.3764,
          2527.81865,
          1759.338,
          2322.6218,
          16138.76205,
          7804.1605,
          2902.9065,
          9704.66805,
          4889.0368,
          25517.11363,
          4500.33925,
          19199.944,
          16796.41194,
          4915.05985,
          7624.63,
          8410.04685,
          28340.18885,
          4518.82625,
          14571.8908,
          3378.91,
          7144.86265,
          10118.424,
          5484.4673,
          16420.49455,
          7986.47525,
          7418.522,
          13887.9685,
          6551.7501,
          5267.81815,
          17361.7661,
          34472.841,
          1972.95,
          21232.18226,
          8627.5411,
          4433.3877,
          4438.2634,
          24915.22085,
          23241.47453,
          9957.7216,
          8269.044,
          18767.7377,
          36580.28216,
          8765.249,
          5383.536,
          12124.9924,
          2709.24395,
          3987.926,
          12495.29085,
          26018.95052,
          8798.593,
          35595.5898,
          42211.1382,
          1711.0268,
          8569.8618,
          2020.177,
          16450.8947,
          21595.38229,
          9850.432,
          6877.9801,
          21677.28345,
          44423.803,
          4137.5227,
          13747.87235,
          12950.0712,
          12094.478,
          37484.4493,
          39725.51805,
          2250.8352,
          22493.65964,
          20234.85475,
          1704.70015,
          33475.81715,
          3161.454,
          11394.06555,
          21880.82,
          7325.0482,
          44501.3982,
          3594.17085,
          39727.614,
          8023.13545,
          14394.5579,
          9288.0267,
          25309.489,
          3353.4703,
          10594.50155,
          8277.523,
          17929.30337,
          2480.9791,
          4462.7218,
          1981.5819,
          11554.2236,
          48970.2476,
          6548.19505,
          5708.867,
          7045.499,
          8978.1851,
          5757.41345,
          14349.8544,
          10928.849,
          39871.7043,
          13974.45555,
          1909.52745,
          12096.6512,
          13204.28565,
          4562.8421,
          8551.347,
          2102.2647,
          34672.1472,
          15161.5344,
          11884.04858,
          4454.40265,
          5855.9025,
          4076.497,
          15019.76005,
          19023.26,
          10796.35025,
          11353.2276,
          9748.9106,
          10577.087,
          41676.0811,
          11286.5387,
          3591.48,
          33907.548,
          11299.343,
          4561.1885,
          44641.1974,
          1674.6323,
          23045.56616,
          3227.1211,
          16776.30405,
          11253.421,
          3471.4096,
          11363.2832,
          20420.60465,
          10338.9316,
          8988.15875,
          10493.9458,
          2904.088,
          8605.3615,
          11512.405,
          41949.2441,
          24180.9335,
          5312.16985,
          2396.0959,
          10807.4863,
          9222.4026,
          36124.5737,
          38282.7495,
          5693.4305,
          34166.273,
          8347.1643,
          46661.4424,
          18903.49141,
          40904.1995,
          14254.6082,
          10214.636,
          5836.5204,
          14358.36437,
          1728.897,
          8582.3023,
          3693.428,
          20709.02034,
          9991.03765,
          19673.33573,
          11085.5868,
          7623.518,
          3176.2877,
          3704.3545,
          36898.73308,
          9048.0273,
          7954.517,
          27117.99378,
          6338.0756,
          9630.397,
          11289.10925,
          52590.82939,
          2261.5688,
          10791.96,
          5979.731,
          2203.73595,
          12235.8392,
          40941.2854,
          5630.45785,
          11015.1747,
          7228.21565,
          39722.7462,
          14426.07385,
          2459.7201,
          3989.841,
          7727.2532,
          5124.1887,
          18963.17192,
          2200.83085,
          7153.5539,
          5227.98875,
          10982.5013,
          4529.477,
          4670.64,
          6112.35295,
          17178.6824,
          22478.6,
          11093.6229,
          6457.8434,
          4433.9159,
          2154.361,
          23887.6627,
          6496.886,
          2899.48935,
          19350.3689,
          7650.77375,
          2850.68375,
          2632.992,
          9447.3824,
          18328.2381,
          8603.8234,
          37465.34375,
          13844.7972,
          21771.3423,
          13126.67745,
          5327.40025,
          13725.47184,
          13019.16105,
          8671.19125,
          4134.08245,
          18838.70366,
          33307.5508,
          5699.8375,
          6393.60345,
          4934.705,
          6198.7518,
          8733.22925,
          2055.3249,
          9964.06,
          18223.4512,
          5116.5004,
          36910.60803,
          38415.474,
          20296.86345,
          12347.172,
          5373.36425,
          23563.01618,
          1702.4553,
          10806.839,
          3956.07145,
          12890.05765,
          5415.6612,
          4058.1161,
          41661.602,
          7537.1639,
          4718.20355,
          6593.5083,
          8442.667,
          26125.67477,
          6858.4796,
          4795.6568,
          6640.54485,
          7162.0122,
          10594.2257,
          11938.25595,
          60021.39897,
          20167.33603,
          12479.70895,
          11345.519,
          8515.7587,
          2699.56835,
          14449.8544,
          12224.35085,
          6985.50695,
          3238.4357,
          47269.854,
          49577.6624,
          4296.2712,
          3171.6149,
          1135.9407,
          5615.369,
          9101.798,
          6059.173,
          1633.9618,
          37607.5277,
          18648.4217,
          1241.565,
          16232.847,
          15828.82173,
          4415.1588,
          6474.013,
          11436.73815,
          11305.93455,
          30063.58055,
          10197.7722,
          4544.2348,
          3277.161,
          6770.1925,
          7337.748,
          10370.91255,
          26926.5144,
          10704.47,
          34254.05335,
          1880.487,
          8615.3,
          3292.52985,
          3021.80915,
          14478.33015,
          4747.0529,
          17043.3414,
          10959.33,
          2741.948,
          4357.04365,
          22462.04375,
          4189.1131,
          8283.6807,
          24535.69855,
          14283.4594,
          1720.3537,
          47403.88,
          8534.6718,
          3732.6251,
          5472.449,
          38344.566,
          7147.4728,
          7133.9025,
          34828.654,
          1515.3449,
          9301.89355,
          11931.12525,
          1964.78,
          1708.92575,
          4340.4409,
          5261.46945,
          2710.82855,
          62592.87309,
          46718.16325,
          3208.787,
          37829.7242,
          21259.37795,
          2464.6188,
          16115.3045,
          21472.4788,
          33900.653,
          6875.961,
          6940.90985,
          4571.41305,
          4536.259,
          36397.576,
          18765.87545,
          11272.33139,
          1731.677,
          1163.4627,
          19496.71917,
          7201.70085,
          5425.02335,
          28101.33305,
          12981.3457,
          43896.3763,
          4239.89265,
          13143.33665,
          7050.0213,
          9377.9047,
          22395.74424,
          10325.206,
          12629.1656,
          10795.93733,
          11411.685,
          10600.5483,
          2205.9808,
          1629.8335,
          2007.945,
          29141.3603
         ],
         "xaxis": "x",
         "yaxis": "y",
         "type": "histogram",
         "textfont": {
          "size": 14
         },
         "textangle": 0,
         "textposition": "outside"
        },
        {
         "mode": "lines",
         "name": "mean",
         "x": [
          13270.422265141257,
          13270.422265141257
         ],
         "y": [
          0,
          380
         ],
         "type": "scatter"
        },
        {
         "mode": "lines",
         "name": "median",
         "x": [
          9382.033,
          9382.033
         ],
         "y": [
          0,
          380
         ],
         "type": "scatter"
        },
        {
         "mode": "lines",
         "name": "mode",
         "x": [
          1639.5631,
          1639.5631
         ],
         "y": [
          0,
          380
         ],
         "type": "scatter"
        }
       ],
       "layout": {
        "template": {
         "data": {
          "histogram2dcontour": [
           {
            "type": "histogram2dcontour",
            "colorbar": {
             "outlinewidth": 0,
             "ticks": ""
            },
            "colorscale": [
             [
              0.0,
              "#0d0887"
             ],
             [
              0.1111111111111111,
              "#46039f"
             ],
             [
              0.2222222222222222,
              "#7201a8"
             ],
             [
              0.3333333333333333,
              "#9c179e"
             ],
             [
              0.4444444444444444,
              "#bd3786"
             ],
             [
              0.5555555555555556,
              "#d8576b"
             ],
             [
              0.6666666666666666,
              "#ed7953"
             ],
             [
              0.7777777777777778,
              "#fb9f3a"
             ],
             [
              0.8888888888888888,
              "#fdca26"
             ],
             [
              1.0,
              "#f0f921"
             ]
            ]
           }
          ],
          "choropleth": [
           {
            "type": "choropleth",
            "colorbar": {
             "outlinewidth": 0,
             "ticks": ""
            }
           }
          ],
          "histogram2d": [
           {
            "type": "histogram2d",
            "colorbar": {
             "outlinewidth": 0,
             "ticks": ""
            },
            "colorscale": [
             [
              0.0,
              "#0d0887"
             ],
             [
              0.1111111111111111,
              "#46039f"
             ],
             [
              0.2222222222222222,
              "#7201a8"
             ],
             [
              0.3333333333333333,
              "#9c179e"
             ],
             [
              0.4444444444444444,
              "#bd3786"
             ],
             [
              0.5555555555555556,
              "#d8576b"
             ],
             [
              0.6666666666666666,
              "#ed7953"
             ],
             [
              0.7777777777777778,
              "#fb9f3a"
             ],
             [
              0.8888888888888888,
              "#fdca26"
             ],
             [
              1.0,
              "#f0f921"
             ]
            ]
           }
          ],
          "heatmap": [
           {
            "type": "heatmap",
            "colorbar": {
             "outlinewidth": 0,
             "ticks": ""
            },
            "colorscale": [
             [
              0.0,
              "#0d0887"
             ],
             [
              0.1111111111111111,
              "#46039f"
             ],
             [
              0.2222222222222222,
              "#7201a8"
             ],
             [
              0.3333333333333333,
              "#9c179e"
             ],
             [
              0.4444444444444444,
              "#bd3786"
             ],
             [
              0.5555555555555556,
              "#d8576b"
             ],
             [
              0.6666666666666666,
              "#ed7953"
             ],
             [
              0.7777777777777778,
              "#fb9f3a"
             ],
             [
              0.8888888888888888,
              "#fdca26"
             ],
             [
              1.0,
              "#f0f921"
             ]
            ]
           }
          ],
          "heatmapgl": [
           {
            "type": "heatmapgl",
            "colorbar": {
             "outlinewidth": 0,
             "ticks": ""
            },
            "colorscale": [
             [
              0.0,
              "#0d0887"
             ],
             [
              0.1111111111111111,
              "#46039f"
             ],
             [
              0.2222222222222222,
              "#7201a8"
             ],
             [
              0.3333333333333333,
              "#9c179e"
             ],
             [
              0.4444444444444444,
              "#bd3786"
             ],
             [
              0.5555555555555556,
              "#d8576b"
             ],
             [
              0.6666666666666666,
              "#ed7953"
             ],
             [
              0.7777777777777778,
              "#fb9f3a"
             ],
             [
              0.8888888888888888,
              "#fdca26"
             ],
             [
              1.0,
              "#f0f921"
             ]
            ]
           }
          ],
          "contourcarpet": [
           {
            "type": "contourcarpet",
            "colorbar": {
             "outlinewidth": 0,
             "ticks": ""
            }
           }
          ],
          "contour": [
           {
            "type": "contour",
            "colorbar": {
             "outlinewidth": 0,
             "ticks": ""
            },
            "colorscale": [
             [
              0.0,
              "#0d0887"
             ],
             [
              0.1111111111111111,
              "#46039f"
             ],
             [
              0.2222222222222222,
              "#7201a8"
             ],
             [
              0.3333333333333333,
              "#9c179e"
             ],
             [
              0.4444444444444444,
              "#bd3786"
             ],
             [
              0.5555555555555556,
              "#d8576b"
             ],
             [
              0.6666666666666666,
              "#ed7953"
             ],
             [
              0.7777777777777778,
              "#fb9f3a"
             ],
             [
              0.8888888888888888,
              "#fdca26"
             ],
             [
              1.0,
              "#f0f921"
             ]
            ]
           }
          ],
          "surface": [
           {
            "type": "surface",
            "colorbar": {
             "outlinewidth": 0,
             "ticks": ""
            },
            "colorscale": [
             [
              0.0,
              "#0d0887"
             ],
             [
              0.1111111111111111,
              "#46039f"
             ],
             [
              0.2222222222222222,
              "#7201a8"
             ],
             [
              0.3333333333333333,
              "#9c179e"
             ],
             [
              0.4444444444444444,
              "#bd3786"
             ],
             [
              0.5555555555555556,
              "#d8576b"
             ],
             [
              0.6666666666666666,
              "#ed7953"
             ],
             [
              0.7777777777777778,
              "#fb9f3a"
             ],
             [
              0.8888888888888888,
              "#fdca26"
             ],
             [
              1.0,
              "#f0f921"
             ]
            ]
           }
          ],
          "mesh3d": [
           {
            "type": "mesh3d",
            "colorbar": {
             "outlinewidth": 0,
             "ticks": ""
            }
           }
          ],
          "scatter": [
           {
            "fillpattern": {
             "fillmode": "overlay",
             "size": 10,
             "solidity": 0.2
            },
            "type": "scatter"
           }
          ],
          "parcoords": [
           {
            "type": "parcoords",
            "line": {
             "colorbar": {
              "outlinewidth": 0,
              "ticks": ""
             }
            }
           }
          ],
          "scatterpolargl": [
           {
            "type": "scatterpolargl",
            "marker": {
             "colorbar": {
              "outlinewidth": 0,
              "ticks": ""
             }
            }
           }
          ],
          "bar": [
           {
            "error_x": {
             "color": "#2a3f5f"
            },
            "error_y": {
             "color": "#2a3f5f"
            },
            "marker": {
             "line": {
              "color": "#E5ECF6",
              "width": 0.5
             },
             "pattern": {
              "fillmode": "overlay",
              "size": 10,
              "solidity": 0.2
             }
            },
            "type": "bar"
           }
          ],
          "scattergeo": [
           {
            "type": "scattergeo",
            "marker": {
             "colorbar": {
              "outlinewidth": 0,
              "ticks": ""
             }
            }
           }
          ],
          "scatterpolar": [
           {
            "type": "scatterpolar",
            "marker": {
             "colorbar": {
              "outlinewidth": 0,
              "ticks": ""
             }
            }
           }
          ],
          "histogram": [
           {
            "marker": {
             "pattern": {
              "fillmode": "overlay",
              "size": 10,
              "solidity": 0.2
             }
            },
            "type": "histogram"
           }
          ],
          "scattergl": [
           {
            "type": "scattergl",
            "marker": {
             "colorbar": {
              "outlinewidth": 0,
              "ticks": ""
             }
            }
           }
          ],
          "scatter3d": [
           {
            "type": "scatter3d",
            "line": {
             "colorbar": {
              "outlinewidth": 0,
              "ticks": ""
             }
            },
            "marker": {
             "colorbar": {
              "outlinewidth": 0,
              "ticks": ""
             }
            }
           }
          ],
          "scattermapbox": [
           {
            "type": "scattermapbox",
            "marker": {
             "colorbar": {
              "outlinewidth": 0,
              "ticks": ""
             }
            }
           }
          ],
          "scatterternary": [
           {
            "type": "scatterternary",
            "marker": {
             "colorbar": {
              "outlinewidth": 0,
              "ticks": ""
             }
            }
           }
          ],
          "scattercarpet": [
           {
            "type": "scattercarpet",
            "marker": {
             "colorbar": {
              "outlinewidth": 0,
              "ticks": ""
             }
            }
           }
          ],
          "carpet": [
           {
            "aaxis": {
             "endlinecolor": "#2a3f5f",
             "gridcolor": "white",
             "linecolor": "white",
             "minorgridcolor": "white",
             "startlinecolor": "#2a3f5f"
            },
            "baxis": {
             "endlinecolor": "#2a3f5f",
             "gridcolor": "white",
             "linecolor": "white",
             "minorgridcolor": "white",
             "startlinecolor": "#2a3f5f"
            },
            "type": "carpet"
           }
          ],
          "table": [
           {
            "cells": {
             "fill": {
              "color": "#EBF0F8"
             },
             "line": {
              "color": "white"
             }
            },
            "header": {
             "fill": {
              "color": "#C8D4E3"
             },
             "line": {
              "color": "white"
             }
            },
            "type": "table"
           }
          ],
          "barpolar": [
           {
            "marker": {
             "line": {
              "color": "#E5ECF6",
              "width": 0.5
             },
             "pattern": {
              "fillmode": "overlay",
              "size": 10,
              "solidity": 0.2
             }
            },
            "type": "barpolar"
           }
          ],
          "pie": [
           {
            "automargin": true,
            "type": "pie"
           }
          ]
         },
         "layout": {
          "autotypenumbers": "strict",
          "colorway": [
           "#636efa",
           "#EF553B",
           "#00cc96",
           "#ab63fa",
           "#FFA15A",
           "#19d3f3",
           "#FF6692",
           "#B6E880",
           "#FF97FF",
           "#FECB52"
          ],
          "font": {
           "color": "#2a3f5f"
          },
          "hovermode": "closest",
          "hoverlabel": {
           "align": "left"
          },
          "paper_bgcolor": "white",
          "plot_bgcolor": "#E5ECF6",
          "polar": {
           "bgcolor": "#E5ECF6",
           "angularaxis": {
            "gridcolor": "white",
            "linecolor": "white",
            "ticks": ""
           },
           "radialaxis": {
            "gridcolor": "white",
            "linecolor": "white",
            "ticks": ""
           }
          },
          "ternary": {
           "bgcolor": "#E5ECF6",
           "aaxis": {
            "gridcolor": "white",
            "linecolor": "white",
            "ticks": ""
           },
           "baxis": {
            "gridcolor": "white",
            "linecolor": "white",
            "ticks": ""
           },
           "caxis": {
            "gridcolor": "white",
            "linecolor": "white",
            "ticks": ""
           }
          },
          "coloraxis": {
           "colorbar": {
            "outlinewidth": 0,
            "ticks": ""
           }
          },
          "colorscale": {
           "sequential": [
            [
             0.0,
             "#0d0887"
            ],
            [
             0.1111111111111111,
             "#46039f"
            ],
            [
             0.2222222222222222,
             "#7201a8"
            ],
            [
             0.3333333333333333,
             "#9c179e"
            ],
            [
             0.4444444444444444,
             "#bd3786"
            ],
            [
             0.5555555555555556,
             "#d8576b"
            ],
            [
             0.6666666666666666,
             "#ed7953"
            ],
            [
             0.7777777777777778,
             "#fb9f3a"
            ],
            [
             0.8888888888888888,
             "#fdca26"
            ],
            [
             1.0,
             "#f0f921"
            ]
           ],
           "sequentialminus": [
            [
             0.0,
             "#0d0887"
            ],
            [
             0.1111111111111111,
             "#46039f"
            ],
            [
             0.2222222222222222,
             "#7201a8"
            ],
            [
             0.3333333333333333,
             "#9c179e"
            ],
            [
             0.4444444444444444,
             "#bd3786"
            ],
            [
             0.5555555555555556,
             "#d8576b"
            ],
            [
             0.6666666666666666,
             "#ed7953"
            ],
            [
             0.7777777777777778,
             "#fb9f3a"
            ],
            [
             0.8888888888888888,
             "#fdca26"
            ],
            [
             1.0,
             "#f0f921"
            ]
           ],
           "diverging": [
            [
             0,
             "#8e0152"
            ],
            [
             0.1,
             "#c51b7d"
            ],
            [
             0.2,
             "#de77ae"
            ],
            [
             0.3,
             "#f1b6da"
            ],
            [
             0.4,
             "#fde0ef"
            ],
            [
             0.5,
             "#f7f7f7"
            ],
            [
             0.6,
             "#e6f5d0"
            ],
            [
             0.7,
             "#b8e186"
            ],
            [
             0.8,
             "#7fbc41"
            ],
            [
             0.9,
             "#4d9221"
            ],
            [
             1,
             "#276419"
            ]
           ]
          },
          "xaxis": {
           "gridcolor": "white",
           "linecolor": "white",
           "ticks": "",
           "title": {
            "standoff": 15
           },
           "zerolinecolor": "white",
           "automargin": true,
           "zerolinewidth": 2
          },
          "yaxis": {
           "gridcolor": "white",
           "linecolor": "white",
           "ticks": "",
           "title": {
            "standoff": 15
           },
           "zerolinecolor": "white",
           "automargin": true,
           "zerolinewidth": 2
          },
          "scene": {
           "xaxis": {
            "backgroundcolor": "#E5ECF6",
            "gridcolor": "white",
            "linecolor": "white",
            "showbackground": true,
            "ticks": "",
            "zerolinecolor": "white",
            "gridwidth": 2
           },
           "yaxis": {
            "backgroundcolor": "#E5ECF6",
            "gridcolor": "white",
            "linecolor": "white",
            "showbackground": true,
            "ticks": "",
            "zerolinecolor": "white",
            "gridwidth": 2
           },
           "zaxis": {
            "backgroundcolor": "#E5ECF6",
            "gridcolor": "white",
            "linecolor": "white",
            "showbackground": true,
            "ticks": "",
            "zerolinecolor": "white",
            "gridwidth": 2
           }
          },
          "shapedefaults": {
           "line": {
            "color": "#2a3f5f"
           }
          },
          "annotationdefaults": {
           "arrowcolor": "#2a3f5f",
           "arrowhead": 0,
           "arrowwidth": 1
          },
          "geo": {
           "bgcolor": "white",
           "landcolor": "#E5ECF6",
           "subunitcolor": "white",
           "showland": true,
           "showlakes": true,
           "lakecolor": "white"
          },
          "title": {
           "x": 0.05
          },
          "mapbox": {
           "style": "light"
          }
         }
        },
        "xaxis": {
         "anchor": "y",
         "domain": [
          0.0,
          1.0
         ],
         "title": {
          "text": "value"
         }
        },
        "yaxis": {
         "anchor": "x",
         "domain": [
          0.0,
          1.0
         ],
         "title": {
          "text": "count"
         }
        },
        "legend": {
         "title": {
          "text": "variable"
         },
         "tracegroupgap": 0
        },
        "margin": {
         "t": 60
        },
        "barmode": "relative",
        "title": {
         "text": "charges histogram",
         "font": {
          "size": 20
         }
        }
       },
       "config": {
        "plotlyServerURL": "https://plot.ly"
       }
      },
      "text/html": "<div>                            <div id=\"d4768b5f-2a91-4ada-8a5c-17d05f9cbada\" class=\"plotly-graph-div\" style=\"height:525px; width:100%;\"></div>            <script type=\"text/javascript\">                require([\"plotly\"], function(Plotly) {                    window.PLOTLYENV=window.PLOTLYENV || {};                                    if (document.getElementById(\"d4768b5f-2a91-4ada-8a5c-17d05f9cbada\")) {                    Plotly.newPlot(                        \"d4768b5f-2a91-4ada-8a5c-17d05f9cbada\",                        [{\"alignmentgroup\":\"True\",\"bingroup\":\"x\",\"hovertemplate\":\"variable=charges<br>value=%{x}<br>count=%{y}<extra></extra>\",\"legendgroup\":\"charges\",\"marker\":{\"color\":\"#636efa\",\"pattern\":{\"shape\":\"\"},\"line\":{\"color\":\"grey\",\"width\":2},\"coloraxis\":\"coloraxis\"},\"name\":\"charges\",\"nbinsx\":20,\"offsetgroup\":\"charges\",\"orientation\":\"v\",\"showlegend\":true,\"x\":[16884.924,1725.5523,4449.462,21984.47061,3866.8552,3756.6216,8240.5896,7281.5056,6406.4107,28923.13692,2721.3208,27808.7251,1826.843,11090.7178,39611.7577,1837.237,10797.3362,2395.17155,10602.385,36837.467,13228.84695,4149.736,1137.011,37701.8768,6203.90175,14001.1338,14451.83515,12268.63225,2775.19215,38711.0,35585.576,2198.18985,4687.797,13770.0979,51194.55914,1625.43375,15612.19335,2302.3,39774.2763,48173.361,3046.062,4949.7587,6272.4772,6313.759,6079.6715,20630.28351,3393.35635,3556.9223,12629.8967,38709.176,2211.13075,3579.8287,23568.272,37742.5757,8059.6791,47496.49445,13607.36875,34303.1672,23244.7902,5989.52365,8606.2174,4504.6624,30166.61817,4133.64165,14711.7438,1743.214,14235.072,6389.37785,5920.1041,17663.1442,16577.7795,6799.458,11741.726,11946.6259,7726.854,11356.6609,3947.4131,1532.4697,2755.02095,6571.02435,4441.21315,7935.29115,37165.1638,11033.6617,39836.519,21098.55405,43578.9394,11073.176,8026.6666,11082.5772,2026.9741,10942.13205,30184.9367,5729.0053,47291.055,3766.8838,12105.32,10226.2842,22412.6485,15820.699,6186.127,3645.0894,21344.8467,30942.1918,5003.853,17560.37975,2331.519,3877.30425,2867.1196,47055.5321,10825.2537,11881.358,4646.759,2404.7338,11488.31695,30259.99556,11381.3254,19107.7796,8601.3293,6686.4313,7740.337,1705.6245,2257.47525,39556.4945,10115.00885,3385.39915,17081.08,9634.538,32734.1863,6082.405,12815.44495,13616.3586,11163.568,1632.56445,2457.21115,2155.6815,1261.442,2045.68525,27322.73386,2166.732,27375.90478,3490.5491,18972.495,18157.876,20745.9891,5138.2567,40720.55105,9877.6077,10959.6947,1842.519,5125.2157,7789.635,6334.34355,19964.7463,7077.1894,6948.7008,21223.6758,15518.18025,36950.2567,19749.38338,21348.706,36149.4835,10450.552,5152.134,5028.1466,10407.08585,4830.63,6128.79745,2719.27975,4827.90495,13405.3903,8116.68,1694.7964,5246.047,2855.43755,48824.45,6455.86265,10436.096,8823.279,8538.28845,11735.87905,1631.8212,4005.4225,7419.4779,7731.4271,43753.33705,3981.9768,5325.651,6775.961,4922.9159,12557.6053,4883.866,2137.6536,12044.342,1137.4697,1639.5631,5649.715,8516.829,9644.2525,14901.5167,2130.6759,8871.1517,13012.20865,37133.8982,7147.105,4337.7352,11743.299,20984.0936,13880.949,6610.1097,1980.07,8162.71625,3537.703,5002.7827,8520.026,7371.772,10355.641,2483.736,3392.9768,25081.76784,5012.471,10564.8845,5253.524,34779.615,19515.5416,11987.1682,2689.4954,24227.33724,7358.17565,9225.2564,7443.64305,14001.2867,1727.785,12333.828,6710.1919,19444.2658,1615.7667,4463.2051,17352.6803,7152.6714,38511.6283,5354.07465,35160.13457,7196.867,29523.1656,24476.47851,12648.7034,1986.9334,1832.094,4040.55825,12829.4551,47305.305,44260.7499,4260.744,41097.16175,13047.33235,43921.1837,5400.9805,11520.09985,33750.2918,11837.16,17085.2676,24869.8368,36219.40545,20462.99766,46151.1245,17179.522,14590.63205,7441.053,9282.4806,1719.4363,42856.838,7265.7025,9617.66245,2523.1695,9715.841,2803.69785,2150.469,12928.7911,9855.1314,22331.5668,48549.17835,4237.12655,11879.10405,9625.92,7742.1098,9432.9253,14256.1928,47896.79135,25992.82104,3172.018,20277.80751,42112.2356,2156.7518,3906.127,1704.5681,16297.846,21978.6769,38746.3551,9249.4952,6746.7425,24873.3849,12265.5069,4349.462,12646.207,19442.3535,20177.67113,4151.0287,11944.59435,7749.1564,8444.474,1737.376,42124.5153,8124.4084,34838.873,9722.7695,8835.26495,10435.06525,7421.19455,4667.60765,4894.7533,24671.66334,35491.64,11566.30055,2866.091,6600.20595,3561.8889,42760.5022,47928.03,9144.565,48517.56315,24393.6224,13429.0354,11658.37915,19144.57652,13822.803,12142.5786,13937.6665,41919.097,8232.6388,18955.22017,13352.0998,13217.0945,13981.85035,10977.2063,6184.2994,4889.9995,8334.45755,5478.0368,1635.73365,11830.6072,8932.084,3554.203,12404.8791,14133.03775,24603.04837,8944.1151,9620.3307,1837.2819,1607.5101,10043.249,4751.07,13844.506,2597.779,3180.5101,9778.3472,13430.265,8017.06115,8116.26885,3481.868,13415.0381,12029.2867,7639.41745,36085.219,1391.5287,18033.9679,21659.9301,38126.2465,16455.70785,27000.98473,15006.57945,42303.69215,20781.48892,5846.9176,8302.53565,1261.859,11856.4115,30284.64294,3176.8159,4618.0799,10736.87075,2138.0707,8964.06055,9290.1395,9411.005,7526.70645,8522.003,16586.49771,14988.432,1631.6683,9264.797,8083.9198,14692.66935,10269.46,3260.199,11396.9002,4185.0979,8539.671,6652.5288,4074.4537,1621.3402,19594.80965,14455.64405,5080.096,2134.9015,7345.7266,9140.951,18608.262,14418.2804,28950.4692,46889.2612,46599.1084,39125.33225,2727.3951,8968.33,9788.8659,6555.07035,7323.734819,3167.45585,18804.7524,23082.95533,4906.40965,5969.723,12638.195,4243.59005,13919.8229,2254.7967,5926.846,12592.5345,2897.3235,4738.2682,37079.372,1149.3959,28287.89766,26109.32905,7345.084,12730.9996,11454.0215,5910.944,4762.329,7512.267,4032.2407,1969.614,1769.53165,4686.3887,21797.0004,11881.9696,11840.77505,10601.412,7682.67,10381.4787,22144.032,15230.32405,11165.41765,1632.03625,19521.9682,13224.693,12643.3778,23288.9284,2201.0971,2497.0383,2203.47185,1744.465,20878.78443,25382.297,28868.6639,35147.52848,2534.39375,1534.3045,1824.2854,15555.18875,9304.7019,1622.1885,9880.068,9563.029,4347.02335,12475.3513,1253.936,48885.13561,10461.9794,1748.774,24513.09126,2196.4732,12574.049,17942.106,1967.0227,4931.647,8027.968,8211.1002,13470.86,36197.699,6837.3687,22218.1149,32548.3405,5974.3847,6796.86325,2643.2685,3077.0955,3044.2133,11455.28,11763.0009,2498.4144,9361.3268,1256.299,21082.16,11362.755,27724.28875,8413.46305,5240.765,3857.75925,25656.57526,3994.1778,9866.30485,5397.6167,38245.59327,11482.63485,24059.68019,9861.025,8342.90875,1708.0014,48675.5177,14043.4767,12925.886,19214.70553,13831.1152,6067.12675,5972.378,8825.086,8233.0975,27346.04207,6196.448,3056.3881,13887.204,63770.42801,10231.4999,23807.2406,3268.84665,11538.421,3213.62205,45863.205,13390.559,3972.9247,12957.118,11187.6567,17878.90068,3847.674,8334.5896,3935.1799,39983.42595,1646.4297,9193.8385,10923.9332,2494.022,9058.7303,2801.2588,2128.43105,6373.55735,7256.7231,11552.904,45702.02235,3761.292,2219.4451,4753.6368,31620.00106,13224.05705,12222.8983,1664.9996,58571.07448,9724.53,3206.49135,12913.9924,1639.5631,6356.2707,17626.23951,1242.816,4779.6023,3861.20965,43943.8761,13635.6379,5976.8311,11842.442,8428.0693,2566.4707,15359.1045,5709.1644,8823.98575,7640.3092,5594.8455,7441.501,33471.97189,1633.0444,9174.13565,11070.535,16085.1275,17468.9839,9283.562,3558.62025,25678.77845,4435.0942,39241.442,8547.6913,6571.544,2207.69745,6753.038,1880.07,42969.8527,11658.11505,23306.547,34439.8559,10713.644,3659.346,40182.246,9182.17,34617.84065,12129.61415,3736.4647,6748.5912,11326.71487,11365.952,42983.4585,10085.846,1977.815,3366.6697,7173.35995,9391.346,14410.9321,2709.1119,24915.04626,20149.3229,12949.1554,6666.243,32787.45859,13143.86485,4466.6214,18806.14547,10141.1362,6123.5688,8252.2843,1712.227,12430.95335,9800.8882,10579.711,8280.6227,8527.532,12244.531,24667.419,3410.324,4058.71245,26392.26029,14394.39815,6435.6237,22192.43711,5148.5526,1136.3994,27037.9141,42560.4304,8703.456,40003.33225,45710.20785,6500.2359,4837.5823,3943.5954,4399.731,6185.3208,46200.9851,7222.78625,12485.8009,46130.5265,12363.547,10156.7832,2585.269,1242.26,40103.89,9863.4718,4766.022,11244.3769,7729.64575,5438.7491,26236.57997,34806.4677,2104.1134,8068.185,2362.22905,2352.96845,3577.999,3201.24515,29186.48236,40273.6455,10976.24575,3500.6123,2020.5523,9541.69555,9504.3103,5385.3379,8930.93455,5375.038,44400.4064,10264.4421,6113.23105,5469.0066,1727.54,10107.2206,8310.83915,1984.4533,2457.502,12146.971,9566.9909,13112.6048,10848.1343,12231.6136,9875.6804,11264.541,12979.358,1263.249,10106.13425,40932.4295,6664.68595,16657.71745,2217.6012,6781.3542,19361.9988,10065.413,4234.927,9447.25035,14007.222,9583.8933,40419.0191,3484.331,36189.1017,44585.45587,8604.48365,18246.4955,43254.41795,3757.8448,8827.2099,9910.35985,11737.84884,1627.28245,8556.907,3062.50825,19539.243,1906.35825,14210.53595,11833.7823,17128.42608,5031.26955,7985.815,23065.4207,5428.7277,36307.7983,3925.7582,2416.955,19040.876,3070.8087,9095.06825,11842.62375,8062.764,7050.642,14319.031,6933.24225,27941.28758,11150.78,12797.20962,17748.5062,7261.741,10560.4917,6986.697,7448.40395,5934.3798,9869.8102,18259.216,1146.7966,9386.1613,24520.264,4350.5144,6414.178,12741.16745,1917.3184,5209.57885,13457.9608,5662.225,1252.407,2731.9122,21195.818,7209.4918,18310.742,4266.1658,4719.52405,11848.141,17904.52705,7046.7222,14313.8463,2103.08,38792.6856,1815.8759,7731.85785,28476.73499,2136.88225,1131.5066,3309.7926,9414.92,6360.9936,11013.7119,4428.88785,5584.3057,1877.9294,2842.76075,3597.596,23401.30575,55135.40209,7445.918,2680.9493,1621.8827,8219.2039,12523.6048,16069.08475,43813.8661,20773.62775,39597.4072,6117.4945,13393.756,5266.3656,4719.73655,11743.9341,5377.4578,7160.3303,4402.233,11657.7189,6402.29135,12622.1795,1526.312,12323.936,36021.0112,27533.9129,10072.05505,45008.9555,9872.701,2438.0552,2974.126,10601.63225,37270.1512,14119.62,42111.6647,11729.6795,24106.91255,1875.344,40974.1649,15817.9857,18218.16139,10965.446,46113.511,7151.092,12269.68865,5458.04645,8782.469,6600.361,1141.4451,11576.13,13129.60345,4391.652,8457.818,3392.3652,5966.8874,6849.026,8891.1395,2690.1138,26140.3603,6653.7886,6282.235,6311.952,3443.064,2789.0574,2585.85065,46255.1125,4877.98105,19719.6947,27218.43725,5272.1758,1682.597,11945.1327,29330.98315,7243.8136,10422.91665,44202.6536,13555.0049,13063.883,19798.05455,2221.56445,1634.5734,2117.33885,8688.85885,48673.5588,4661.28635,8125.7845,12644.589,4564.19145,4846.92015,7633.7206,15170.069,17496.306,2639.0429,33732.6867,14382.70905,7626.993,5257.50795,2473.3341,21774.32215,35069.37452,13041.921,5245.2269,13451.122,13462.52,5488.262,4320.41085,6250.435,25333.33284,2913.569,12032.326,13470.8044,6289.7549,2927.0647,6238.298,10096.97,7348.142,4673.3922,12233.828,32108.66282,8965.79575,2304.0022,9487.6442,1121.8739,9549.5651,2217.46915,1628.4709,12982.8747,11674.13,7160.094,39047.285,6358.77645,19933.458,11534.87265,47462.894,4527.18295,38998.546,20009.63365,3875.7341,41999.52,12609.88702,41034.2214,28468.91901,2730.10785,3353.284,14474.675,9500.57305,26467.09737,4746.344,23967.38305,7518.02535,3279.86855,8596.8278,10702.6424,4992.3764,2527.81865,1759.338,2322.6218,16138.76205,7804.1605,2902.9065,9704.66805,4889.0368,25517.11363,4500.33925,19199.944,16796.41194,4915.05985,7624.63,8410.04685,28340.18885,4518.82625,14571.8908,3378.91,7144.86265,10118.424,5484.4673,16420.49455,7986.47525,7418.522,13887.9685,6551.7501,5267.81815,17361.7661,34472.841,1972.95,21232.18226,8627.5411,4433.3877,4438.2634,24915.22085,23241.47453,9957.7216,8269.044,18767.7377,36580.28216,8765.249,5383.536,12124.9924,2709.24395,3987.926,12495.29085,26018.95052,8798.593,35595.5898,42211.1382,1711.0268,8569.8618,2020.177,16450.8947,21595.38229,9850.432,6877.9801,21677.28345,44423.803,4137.5227,13747.87235,12950.0712,12094.478,37484.4493,39725.51805,2250.8352,22493.65964,20234.85475,1704.70015,33475.81715,3161.454,11394.06555,21880.82,7325.0482,44501.3982,3594.17085,39727.614,8023.13545,14394.5579,9288.0267,25309.489,3353.4703,10594.50155,8277.523,17929.30337,2480.9791,4462.7218,1981.5819,11554.2236,48970.2476,6548.19505,5708.867,7045.499,8978.1851,5757.41345,14349.8544,10928.849,39871.7043,13974.45555,1909.52745,12096.6512,13204.28565,4562.8421,8551.347,2102.2647,34672.1472,15161.5344,11884.04858,4454.40265,5855.9025,4076.497,15019.76005,19023.26,10796.35025,11353.2276,9748.9106,10577.087,41676.0811,11286.5387,3591.48,33907.548,11299.343,4561.1885,44641.1974,1674.6323,23045.56616,3227.1211,16776.30405,11253.421,3471.4096,11363.2832,20420.60465,10338.9316,8988.15875,10493.9458,2904.088,8605.3615,11512.405,41949.2441,24180.9335,5312.16985,2396.0959,10807.4863,9222.4026,36124.5737,38282.7495,5693.4305,34166.273,8347.1643,46661.4424,18903.49141,40904.1995,14254.6082,10214.636,5836.5204,14358.36437,1728.897,8582.3023,3693.428,20709.02034,9991.03765,19673.33573,11085.5868,7623.518,3176.2877,3704.3545,36898.73308,9048.0273,7954.517,27117.99378,6338.0756,9630.397,11289.10925,52590.82939,2261.5688,10791.96,5979.731,2203.73595,12235.8392,40941.2854,5630.45785,11015.1747,7228.21565,39722.7462,14426.07385,2459.7201,3989.841,7727.2532,5124.1887,18963.17192,2200.83085,7153.5539,5227.98875,10982.5013,4529.477,4670.64,6112.35295,17178.6824,22478.6,11093.6229,6457.8434,4433.9159,2154.361,23887.6627,6496.886,2899.48935,19350.3689,7650.77375,2850.68375,2632.992,9447.3824,18328.2381,8603.8234,37465.34375,13844.7972,21771.3423,13126.67745,5327.40025,13725.47184,13019.16105,8671.19125,4134.08245,18838.70366,33307.5508,5699.8375,6393.60345,4934.705,6198.7518,8733.22925,2055.3249,9964.06,18223.4512,5116.5004,36910.60803,38415.474,20296.86345,12347.172,5373.36425,23563.01618,1702.4553,10806.839,3956.07145,12890.05765,5415.6612,4058.1161,41661.602,7537.1639,4718.20355,6593.5083,8442.667,26125.67477,6858.4796,4795.6568,6640.54485,7162.0122,10594.2257,11938.25595,60021.39897,20167.33603,12479.70895,11345.519,8515.7587,2699.56835,14449.8544,12224.35085,6985.50695,3238.4357,47269.854,49577.6624,4296.2712,3171.6149,1135.9407,5615.369,9101.798,6059.173,1633.9618,37607.5277,18648.4217,1241.565,16232.847,15828.82173,4415.1588,6474.013,11436.73815,11305.93455,30063.58055,10197.7722,4544.2348,3277.161,6770.1925,7337.748,10370.91255,26926.5144,10704.47,34254.05335,1880.487,8615.3,3292.52985,3021.80915,14478.33015,4747.0529,17043.3414,10959.33,2741.948,4357.04365,22462.04375,4189.1131,8283.6807,24535.69855,14283.4594,1720.3537,47403.88,8534.6718,3732.6251,5472.449,38344.566,7147.4728,7133.9025,34828.654,1515.3449,9301.89355,11931.12525,1964.78,1708.92575,4340.4409,5261.46945,2710.82855,62592.87309,46718.16325,3208.787,37829.7242,21259.37795,2464.6188,16115.3045,21472.4788,33900.653,6875.961,6940.90985,4571.41305,4536.259,36397.576,18765.87545,11272.33139,1731.677,1163.4627,19496.71917,7201.70085,5425.02335,28101.33305,12981.3457,43896.3763,4239.89265,13143.33665,7050.0213,9377.9047,22395.74424,10325.206,12629.1656,10795.93733,11411.685,10600.5483,2205.9808,1629.8335,2007.945,29141.3603],\"xaxis\":\"x\",\"yaxis\":\"y\",\"type\":\"histogram\",\"textfont\":{\"size\":14},\"textangle\":0,\"textposition\":\"outside\"},{\"mode\":\"lines\",\"name\":\"mean\",\"x\":[13270.422265141257,13270.422265141257],\"y\":[0,380],\"type\":\"scatter\"},{\"mode\":\"lines\",\"name\":\"median\",\"x\":[9382.033,9382.033],\"y\":[0,380],\"type\":\"scatter\"},{\"mode\":\"lines\",\"name\":\"mode\",\"x\":[1639.5631,1639.5631],\"y\":[0,380],\"type\":\"scatter\"}],                        {\"template\":{\"data\":{\"histogram2dcontour\":[{\"type\":\"histogram2dcontour\",\"colorbar\":{\"outlinewidth\":0,\"ticks\":\"\"},\"colorscale\":[[0.0,\"#0d0887\"],[0.1111111111111111,\"#46039f\"],[0.2222222222222222,\"#7201a8\"],[0.3333333333333333,\"#9c179e\"],[0.4444444444444444,\"#bd3786\"],[0.5555555555555556,\"#d8576b\"],[0.6666666666666666,\"#ed7953\"],[0.7777777777777778,\"#fb9f3a\"],[0.8888888888888888,\"#fdca26\"],[1.0,\"#f0f921\"]]}],\"choropleth\":[{\"type\":\"choropleth\",\"colorbar\":{\"outlinewidth\":0,\"ticks\":\"\"}}],\"histogram2d\":[{\"type\":\"histogram2d\",\"colorbar\":{\"outlinewidth\":0,\"ticks\":\"\"},\"colorscale\":[[0.0,\"#0d0887\"],[0.1111111111111111,\"#46039f\"],[0.2222222222222222,\"#7201a8\"],[0.3333333333333333,\"#9c179e\"],[0.4444444444444444,\"#bd3786\"],[0.5555555555555556,\"#d8576b\"],[0.6666666666666666,\"#ed7953\"],[0.7777777777777778,\"#fb9f3a\"],[0.8888888888888888,\"#fdca26\"],[1.0,\"#f0f921\"]]}],\"heatmap\":[{\"type\":\"heatmap\",\"colorbar\":{\"outlinewidth\":0,\"ticks\":\"\"},\"colorscale\":[[0.0,\"#0d0887\"],[0.1111111111111111,\"#46039f\"],[0.2222222222222222,\"#7201a8\"],[0.3333333333333333,\"#9c179e\"],[0.4444444444444444,\"#bd3786\"],[0.5555555555555556,\"#d8576b\"],[0.6666666666666666,\"#ed7953\"],[0.7777777777777778,\"#fb9f3a\"],[0.8888888888888888,\"#fdca26\"],[1.0,\"#f0f921\"]]}],\"heatmapgl\":[{\"type\":\"heatmapgl\",\"colorbar\":{\"outlinewidth\":0,\"ticks\":\"\"},\"colorscale\":[[0.0,\"#0d0887\"],[0.1111111111111111,\"#46039f\"],[0.2222222222222222,\"#7201a8\"],[0.3333333333333333,\"#9c179e\"],[0.4444444444444444,\"#bd3786\"],[0.5555555555555556,\"#d8576b\"],[0.6666666666666666,\"#ed7953\"],[0.7777777777777778,\"#fb9f3a\"],[0.8888888888888888,\"#fdca26\"],[1.0,\"#f0f921\"]]}],\"contourcarpet\":[{\"type\":\"contourcarpet\",\"colorbar\":{\"outlinewidth\":0,\"ticks\":\"\"}}],\"contour\":[{\"type\":\"contour\",\"colorbar\":{\"outlinewidth\":0,\"ticks\":\"\"},\"colorscale\":[[0.0,\"#0d0887\"],[0.1111111111111111,\"#46039f\"],[0.2222222222222222,\"#7201a8\"],[0.3333333333333333,\"#9c179e\"],[0.4444444444444444,\"#bd3786\"],[0.5555555555555556,\"#d8576b\"],[0.6666666666666666,\"#ed7953\"],[0.7777777777777778,\"#fb9f3a\"],[0.8888888888888888,\"#fdca26\"],[1.0,\"#f0f921\"]]}],\"surface\":[{\"type\":\"surface\",\"colorbar\":{\"outlinewidth\":0,\"ticks\":\"\"},\"colorscale\":[[0.0,\"#0d0887\"],[0.1111111111111111,\"#46039f\"],[0.2222222222222222,\"#7201a8\"],[0.3333333333333333,\"#9c179e\"],[0.4444444444444444,\"#bd3786\"],[0.5555555555555556,\"#d8576b\"],[0.6666666666666666,\"#ed7953\"],[0.7777777777777778,\"#fb9f3a\"],[0.8888888888888888,\"#fdca26\"],[1.0,\"#f0f921\"]]}],\"mesh3d\":[{\"type\":\"mesh3d\",\"colorbar\":{\"outlinewidth\":0,\"ticks\":\"\"}}],\"scatter\":[{\"fillpattern\":{\"fillmode\":\"overlay\",\"size\":10,\"solidity\":0.2},\"type\":\"scatter\"}],\"parcoords\":[{\"type\":\"parcoords\",\"line\":{\"colorbar\":{\"outlinewidth\":0,\"ticks\":\"\"}}}],\"scatterpolargl\":[{\"type\":\"scatterpolargl\",\"marker\":{\"colorbar\":{\"outlinewidth\":0,\"ticks\":\"\"}}}],\"bar\":[{\"error_x\":{\"color\":\"#2a3f5f\"},\"error_y\":{\"color\":\"#2a3f5f\"},\"marker\":{\"line\":{\"color\":\"#E5ECF6\",\"width\":0.5},\"pattern\":{\"fillmode\":\"overlay\",\"size\":10,\"solidity\":0.2}},\"type\":\"bar\"}],\"scattergeo\":[{\"type\":\"scattergeo\",\"marker\":{\"colorbar\":{\"outlinewidth\":0,\"ticks\":\"\"}}}],\"scatterpolar\":[{\"type\":\"scatterpolar\",\"marker\":{\"colorbar\":{\"outlinewidth\":0,\"ticks\":\"\"}}}],\"histogram\":[{\"marker\":{\"pattern\":{\"fillmode\":\"overlay\",\"size\":10,\"solidity\":0.2}},\"type\":\"histogram\"}],\"scattergl\":[{\"type\":\"scattergl\",\"marker\":{\"colorbar\":{\"outlinewidth\":0,\"ticks\":\"\"}}}],\"scatter3d\":[{\"type\":\"scatter3d\",\"line\":{\"colorbar\":{\"outlinewidth\":0,\"ticks\":\"\"}},\"marker\":{\"colorbar\":{\"outlinewidth\":0,\"ticks\":\"\"}}}],\"scattermapbox\":[{\"type\":\"scattermapbox\",\"marker\":{\"colorbar\":{\"outlinewidth\":0,\"ticks\":\"\"}}}],\"scatterternary\":[{\"type\":\"scatterternary\",\"marker\":{\"colorbar\":{\"outlinewidth\":0,\"ticks\":\"\"}}}],\"scattercarpet\":[{\"type\":\"scattercarpet\",\"marker\":{\"colorbar\":{\"outlinewidth\":0,\"ticks\":\"\"}}}],\"carpet\":[{\"aaxis\":{\"endlinecolor\":\"#2a3f5f\",\"gridcolor\":\"white\",\"linecolor\":\"white\",\"minorgridcolor\":\"white\",\"startlinecolor\":\"#2a3f5f\"},\"baxis\":{\"endlinecolor\":\"#2a3f5f\",\"gridcolor\":\"white\",\"linecolor\":\"white\",\"minorgridcolor\":\"white\",\"startlinecolor\":\"#2a3f5f\"},\"type\":\"carpet\"}],\"table\":[{\"cells\":{\"fill\":{\"color\":\"#EBF0F8\"},\"line\":{\"color\":\"white\"}},\"header\":{\"fill\":{\"color\":\"#C8D4E3\"},\"line\":{\"color\":\"white\"}},\"type\":\"table\"}],\"barpolar\":[{\"marker\":{\"line\":{\"color\":\"#E5ECF6\",\"width\":0.5},\"pattern\":{\"fillmode\":\"overlay\",\"size\":10,\"solidity\":0.2}},\"type\":\"barpolar\"}],\"pie\":[{\"automargin\":true,\"type\":\"pie\"}]},\"layout\":{\"autotypenumbers\":\"strict\",\"colorway\":[\"#636efa\",\"#EF553B\",\"#00cc96\",\"#ab63fa\",\"#FFA15A\",\"#19d3f3\",\"#FF6692\",\"#B6E880\",\"#FF97FF\",\"#FECB52\"],\"font\":{\"color\":\"#2a3f5f\"},\"hovermode\":\"closest\",\"hoverlabel\":{\"align\":\"left\"},\"paper_bgcolor\":\"white\",\"plot_bgcolor\":\"#E5ECF6\",\"polar\":{\"bgcolor\":\"#E5ECF6\",\"angularaxis\":{\"gridcolor\":\"white\",\"linecolor\":\"white\",\"ticks\":\"\"},\"radialaxis\":{\"gridcolor\":\"white\",\"linecolor\":\"white\",\"ticks\":\"\"}},\"ternary\":{\"bgcolor\":\"#E5ECF6\",\"aaxis\":{\"gridcolor\":\"white\",\"linecolor\":\"white\",\"ticks\":\"\"},\"baxis\":{\"gridcolor\":\"white\",\"linecolor\":\"white\",\"ticks\":\"\"},\"caxis\":{\"gridcolor\":\"white\",\"linecolor\":\"white\",\"ticks\":\"\"}},\"coloraxis\":{\"colorbar\":{\"outlinewidth\":0,\"ticks\":\"\"}},\"colorscale\":{\"sequential\":[[0.0,\"#0d0887\"],[0.1111111111111111,\"#46039f\"],[0.2222222222222222,\"#7201a8\"],[0.3333333333333333,\"#9c179e\"],[0.4444444444444444,\"#bd3786\"],[0.5555555555555556,\"#d8576b\"],[0.6666666666666666,\"#ed7953\"],[0.7777777777777778,\"#fb9f3a\"],[0.8888888888888888,\"#fdca26\"],[1.0,\"#f0f921\"]],\"sequentialminus\":[[0.0,\"#0d0887\"],[0.1111111111111111,\"#46039f\"],[0.2222222222222222,\"#7201a8\"],[0.3333333333333333,\"#9c179e\"],[0.4444444444444444,\"#bd3786\"],[0.5555555555555556,\"#d8576b\"],[0.6666666666666666,\"#ed7953\"],[0.7777777777777778,\"#fb9f3a\"],[0.8888888888888888,\"#fdca26\"],[1.0,\"#f0f921\"]],\"diverging\":[[0,\"#8e0152\"],[0.1,\"#c51b7d\"],[0.2,\"#de77ae\"],[0.3,\"#f1b6da\"],[0.4,\"#fde0ef\"],[0.5,\"#f7f7f7\"],[0.6,\"#e6f5d0\"],[0.7,\"#b8e186\"],[0.8,\"#7fbc41\"],[0.9,\"#4d9221\"],[1,\"#276419\"]]},\"xaxis\":{\"gridcolor\":\"white\",\"linecolor\":\"white\",\"ticks\":\"\",\"title\":{\"standoff\":15},\"zerolinecolor\":\"white\",\"automargin\":true,\"zerolinewidth\":2},\"yaxis\":{\"gridcolor\":\"white\",\"linecolor\":\"white\",\"ticks\":\"\",\"title\":{\"standoff\":15},\"zerolinecolor\":\"white\",\"automargin\":true,\"zerolinewidth\":2},\"scene\":{\"xaxis\":{\"backgroundcolor\":\"#E5ECF6\",\"gridcolor\":\"white\",\"linecolor\":\"white\",\"showbackground\":true,\"ticks\":\"\",\"zerolinecolor\":\"white\",\"gridwidth\":2},\"yaxis\":{\"backgroundcolor\":\"#E5ECF6\",\"gridcolor\":\"white\",\"linecolor\":\"white\",\"showbackground\":true,\"ticks\":\"\",\"zerolinecolor\":\"white\",\"gridwidth\":2},\"zaxis\":{\"backgroundcolor\":\"#E5ECF6\",\"gridcolor\":\"white\",\"linecolor\":\"white\",\"showbackground\":true,\"ticks\":\"\",\"zerolinecolor\":\"white\",\"gridwidth\":2}},\"shapedefaults\":{\"line\":{\"color\":\"#2a3f5f\"}},\"annotationdefaults\":{\"arrowcolor\":\"#2a3f5f\",\"arrowhead\":0,\"arrowwidth\":1},\"geo\":{\"bgcolor\":\"white\",\"landcolor\":\"#E5ECF6\",\"subunitcolor\":\"white\",\"showland\":true,\"showlakes\":true,\"lakecolor\":\"white\"},\"title\":{\"x\":0.05},\"mapbox\":{\"style\":\"light\"}}},\"xaxis\":{\"anchor\":\"y\",\"domain\":[0.0,1.0],\"title\":{\"text\":\"value\"}},\"yaxis\":{\"anchor\":\"x\",\"domain\":[0.0,1.0],\"title\":{\"text\":\"count\"}},\"legend\":{\"title\":{\"text\":\"variable\"},\"tracegroupgap\":0},\"margin\":{\"t\":60},\"barmode\":\"relative\",\"title\":{\"text\":\"charges histogram\",\"font\":{\"size\":20}}},                        {\"responsive\": true}                    ).then(function(){\n                            \nvar gd = document.getElementById('d4768b5f-2a91-4ada-8a5c-17d05f9cbada');\nvar x = new MutationObserver(function (mutations, observer) {{\n        var display = window.getComputedStyle(gd).display;\n        if (!display || display === 'none') {{\n            console.log([gd, 'removed!']);\n            Plotly.purge(gd);\n            observer.disconnect();\n        }}\n}});\n\n// Listen for the removal of the full notebook cells\nvar notebookContainer = gd.closest('#notebook-container');\nif (notebookContainer) {{\n    x.observe(notebookContainer, {childList: true});\n}}\n\n// Listen for the clearing of the current output cell\nvar outputEl = gd.closest('.output');\nif (outputEl) {{\n    x.observe(outputEl, {childList: true});\n}}\n\n                        })                };                });            </script>        </div>"
     },
     "metadata": {},
     "output_type": "display_data"
    }
   ],
   "source": [
    "Measure(df['charges'], True, 380)()"
   ],
   "metadata": {
    "collapsed": false,
    "pycharm": {
     "name": "#%%\n"
    }
   }
  },
  {
   "cell_type": "markdown",
   "source": [
    "Можем сделать вывод, что самое часто встречамое число - 1639, среднее - лежит около 13270, а медиана (если отсортировать все числа и взять то, что лежит посередине) - равна 9382. При этом разница между максимальным и минимальным значением равна 62648, межквартильный размах - около 11879, отклонение - 12110."
   ],
   "metadata": {
    "collapsed": false
   }
  },
  {
   "cell_type": "markdown",
   "source": [
    "## 5. Построить box-plot для числовых показателей. Названия графиков должны соответствовать названиям признаков. Сделать выводы."
   ],
   "metadata": {
    "collapsed": false
   }
  },
  {
   "cell_type": "code",
   "execution_count": 304,
   "outputs": [
    {
     "data": {
      "text/plain": "   age     sex     bmi  children smoker     region      charges\n0   19  female  27.900         0    yes  southwest  16884.92400\n1   18    male  33.770         1     no  southeast   1725.55230\n2   28    male  33.000         3     no  southeast   4449.46200\n3   33    male  22.705         0     no  northwest  21984.47061\n4   32    male  28.880         0     no  northwest   3866.85520",
      "text/html": "<div>\n<style scoped>\n    .dataframe tbody tr th:only-of-type {\n        vertical-align: middle;\n    }\n\n    .dataframe tbody tr th {\n        vertical-align: top;\n    }\n\n    .dataframe thead th {\n        text-align: right;\n    }\n</style>\n<table border=\"1\" class=\"dataframe\">\n  <thead>\n    <tr style=\"text-align: right;\">\n      <th></th>\n      <th>age</th>\n      <th>sex</th>\n      <th>bmi</th>\n      <th>children</th>\n      <th>smoker</th>\n      <th>region</th>\n      <th>charges</th>\n    </tr>\n  </thead>\n  <tbody>\n    <tr>\n      <th>0</th>\n      <td>19</td>\n      <td>female</td>\n      <td>27.900</td>\n      <td>0</td>\n      <td>yes</td>\n      <td>southwest</td>\n      <td>16884.92400</td>\n    </tr>\n    <tr>\n      <th>1</th>\n      <td>18</td>\n      <td>male</td>\n      <td>33.770</td>\n      <td>1</td>\n      <td>no</td>\n      <td>southeast</td>\n      <td>1725.55230</td>\n    </tr>\n    <tr>\n      <th>2</th>\n      <td>28</td>\n      <td>male</td>\n      <td>33.000</td>\n      <td>3</td>\n      <td>no</td>\n      <td>southeast</td>\n      <td>4449.46200</td>\n    </tr>\n    <tr>\n      <th>3</th>\n      <td>33</td>\n      <td>male</td>\n      <td>22.705</td>\n      <td>0</td>\n      <td>no</td>\n      <td>northwest</td>\n      <td>21984.47061</td>\n    </tr>\n    <tr>\n      <th>4</th>\n      <td>32</td>\n      <td>male</td>\n      <td>28.880</td>\n      <td>0</td>\n      <td>no</td>\n      <td>northwest</td>\n      <td>3866.85520</td>\n    </tr>\n  </tbody>\n</table>\n</div>"
     },
     "execution_count": 304,
     "metadata": {},
     "output_type": "execute_result"
    }
   ],
   "source": [
    "df.head()"
   ],
   "metadata": {
    "collapsed": false,
    "pycharm": {
     "name": "#%%\n"
    }
   }
  },
  {
   "cell_type": "code",
   "execution_count": 305,
   "outputs": [
    {
     "data": {
      "application/vnd.plotly.v1+json": {
       "data": [
        {
         "alignmentgroup": "True",
         "hovertemplate": "age=%{y}<extra></extra>",
         "legendgroup": "",
         "marker": {
          "color": "#636efa"
         },
         "name": "",
         "notched": false,
         "offsetgroup": "",
         "orientation": "v",
         "showlegend": false,
         "x0": " ",
         "xaxis": "x",
         "y": [
          19,
          18,
          28,
          33,
          32,
          31,
          46,
          37,
          37,
          60,
          25,
          62,
          23,
          56,
          27,
          19,
          52,
          23,
          56,
          30,
          60,
          30,
          18,
          34,
          37,
          59,
          63,
          55,
          23,
          31,
          22,
          18,
          19,
          63,
          28,
          19,
          62,
          26,
          35,
          60,
          24,
          31,
          41,
          37,
          38,
          55,
          18,
          28,
          60,
          36,
          18,
          21,
          48,
          36,
          40,
          58,
          58,
          18,
          53,
          34,
          43,
          25,
          64,
          28,
          20,
          19,
          61,
          40,
          40,
          28,
          27,
          31,
          53,
          58,
          44,
          57,
          29,
          21,
          22,
          41,
          31,
          45,
          22,
          48,
          37,
          45,
          57,
          56,
          46,
          55,
          21,
          53,
          59,
          35,
          64,
          28,
          54,
          55,
          56,
          38,
          41,
          30,
          18,
          61,
          34,
          20,
          19,
          26,
          29,
          63,
          54,
          55,
          37,
          21,
          52,
          60,
          58,
          29,
          49,
          37,
          44,
          18,
          20,
          44,
          47,
          26,
          19,
          52,
          32,
          38,
          59,
          61,
          53,
          19,
          20,
          22,
          19,
          22,
          54,
          22,
          34,
          26,
          34,
          29,
          30,
          29,
          46,
          51,
          53,
          19,
          35,
          48,
          32,
          42,
          40,
          44,
          48,
          18,
          30,
          50,
          42,
          18,
          54,
          32,
          37,
          47,
          20,
          32,
          19,
          27,
          63,
          49,
          18,
          35,
          24,
          63,
          38,
          54,
          46,
          41,
          58,
          18,
          22,
          44,
          44,
          36,
          26,
          30,
          41,
          29,
          61,
          36,
          25,
          56,
          18,
          19,
          39,
          45,
          51,
          64,
          19,
          48,
          60,
          27,
          46,
          28,
          59,
          35,
          63,
          40,
          20,
          40,
          24,
          34,
          45,
          41,
          53,
          27,
          26,
          24,
          34,
          53,
          32,
          19,
          42,
          55,
          28,
          58,
          41,
          47,
          42,
          59,
          19,
          59,
          39,
          40,
          18,
          31,
          19,
          44,
          23,
          33,
          55,
          40,
          63,
          54,
          60,
          24,
          19,
          29,
          18,
          63,
          54,
          27,
          50,
          55,
          56,
          38,
          51,
          19,
          58,
          20,
          52,
          19,
          53,
          46,
          40,
          59,
          45,
          49,
          18,
          50,
          41,
          50,
          25,
          47,
          19,
          22,
          59,
          51,
          40,
          54,
          30,
          55,
          52,
          46,
          46,
          63,
          59,
          52,
          28,
          29,
          25,
          22,
          25,
          18,
          19,
          47,
          31,
          48,
          36,
          53,
          56,
          28,
          57,
          29,
          28,
          30,
          58,
          41,
          50,
          19,
          43,
          49,
          27,
          52,
          50,
          54,
          44,
          32,
          34,
          26,
          34,
          57,
          29,
          40,
          27,
          45,
          64,
          52,
          61,
          52,
          61,
          56,
          43,
          64,
          60,
          62,
          50,
          46,
          24,
          62,
          60,
          63,
          49,
          34,
          33,
          46,
          36,
          19,
          57,
          50,
          30,
          33,
          18,
          46,
          46,
          47,
          23,
          18,
          48,
          35,
          19,
          21,
          21,
          49,
          56,
          42,
          44,
          18,
          61,
          57,
          42,
          26,
          20,
          23,
          39,
          24,
          64,
          62,
          27,
          55,
          55,
          35,
          44,
          19,
          58,
          50,
          26,
          24,
          48,
          19,
          48,
          49,
          46,
          46,
          43,
          21,
          64,
          18,
          51,
          47,
          64,
          49,
          31,
          52,
          33,
          47,
          38,
          32,
          19,
          44,
          26,
          25,
          19,
          43,
          52,
          36,
          64,
          63,
          64,
          61,
          40,
          25,
          48,
          45,
          38,
          18,
          21,
          27,
          19,
          29,
          42,
          60,
          31,
          60,
          22,
          35,
          52,
          26,
          31,
          33,
          18,
          59,
          56,
          45,
          60,
          56,
          40,
          35,
          39,
          30,
          24,
          20,
          32,
          59,
          55,
          57,
          56,
          40,
          49,
          42,
          62,
          56,
          19,
          30,
          60,
          56,
          28,
          18,
          27,
          18,
          19,
          47,
          54,
          61,
          24,
          25,
          21,
          23,
          63,
          49,
          18,
          51,
          48,
          31,
          54,
          19,
          44,
          53,
          19,
          61,
          18,
          61,
          21,
          20,
          31,
          45,
          44,
          62,
          29,
          43,
          51,
          19,
          38,
          37,
          22,
          21,
          24,
          57,
          56,
          27,
          51,
          19,
          39,
          58,
          20,
          45,
          35,
          31,
          50,
          32,
          51,
          38,
          42,
          18,
          19,
          51,
          46,
          18,
          57,
          62,
          59,
          37,
          64,
          38,
          33,
          46,
          46,
          53,
          34,
          20,
          63,
          54,
          54,
          49,
          28,
          54,
          25,
          43,
          63,
          32,
          62,
          52,
          25,
          28,
          46,
          34,
          35,
          19,
          46,
          54,
          27,
          50,
          18,
          19,
          38,
          41,
          49,
          48,
          31,
          18,
          30,
          62,
          57,
          58,
          22,
          31,
          52,
          25,
          59,
          19,
          39,
          32,
          19,
          33,
          21,
          34,
          61,
          38,
          58,
          47,
          20,
          21,
          41,
          46,
          42,
          34,
          43,
          52,
          18,
          51,
          56,
          64,
          19,
          51,
          27,
          59,
          28,
          30,
          47,
          38,
          18,
          34,
          20,
          47,
          56,
          49,
          19,
          55,
          30,
          37,
          49,
          18,
          59,
          29,
          36,
          33,
          58,
          44,
          53,
          24,
          29,
          40,
          51,
          64,
          19,
          35,
          39,
          56,
          33,
          42,
          61,
          23,
          43,
          48,
          39,
          40,
          18,
          58,
          49,
          53,
          48,
          45,
          59,
          52,
          26,
          27,
          48,
          57,
          37,
          57,
          32,
          18,
          64,
          43,
          49,
          40,
          62,
          40,
          30,
          29,
          36,
          41,
          44,
          45,
          55,
          60,
          56,
          49,
          21,
          19,
          39,
          53,
          33,
          53,
          42,
          40,
          47,
          27,
          21,
          47,
          20,
          24,
          27,
          26,
          53,
          41,
          56,
          23,
          21,
          50,
          53,
          34,
          47,
          33,
          51,
          49,
          31,
          36,
          18,
          50,
          43,
          20,
          24,
          60,
          49,
          60,
          51,
          58,
          51,
          53,
          62,
          19,
          50,
          30,
          41,
          29,
          18,
          41,
          35,
          53,
          24,
          48,
          59,
          49,
          37,
          26,
          23,
          29,
          45,
          27,
          53,
          31,
          50,
          50,
          34,
          19,
          47,
          28,
          37,
          21,
          64,
          58,
          24,
          31,
          39,
          47,
          30,
          18,
          22,
          23,
          33,
          27,
          45,
          57,
          47,
          42,
          64,
          38,
          61,
          53,
          44,
          19,
          41,
          51,
          40,
          45,
          35,
          53,
          30,
          18,
          51,
          50,
          31,
          35,
          60,
          21,
          29,
          62,
          39,
          19,
          22,
          53,
          39,
          27,
          30,
          30,
          58,
          33,
          42,
          64,
          21,
          18,
          23,
          45,
          40,
          19,
          18,
          25,
          46,
          33,
          54,
          28,
          36,
          20,
          24,
          23,
          47,
          33,
          45,
          26,
          18,
          44,
          60,
          64,
          56,
          36,
          41,
          39,
          63,
          36,
          28,
          58,
          36,
          42,
          36,
          56,
          35,
          59,
          21,
          59,
          23,
          57,
          53,
          60,
          51,
          23,
          27,
          55,
          37,
          61,
          46,
          53,
          49,
          20,
          48,
          25,
          25,
          57,
          37,
          38,
          55,
          36,
          51,
          40,
          18,
          57,
          61,
          25,
          50,
          26,
          42,
          43,
          44,
          23,
          49,
          33,
          41,
          37,
          22,
          23,
          21,
          51,
          25,
          32,
          57,
          36,
          22,
          57,
          64,
          36,
          54,
          47,
          62,
          61,
          43,
          19,
          18,
          19,
          49,
          60,
          26,
          49,
          60,
          26,
          27,
          44,
          63,
          32,
          22,
          18,
          59,
          44,
          33,
          24,
          43,
          45,
          61,
          35,
          62,
          62,
          38,
          34,
          43,
          50,
          19,
          57,
          62,
          41,
          26,
          39,
          46,
          45,
          32,
          59,
          44,
          39,
          18,
          53,
          18,
          50,
          18,
          19,
          62,
          56,
          42,
          37,
          42,
          25,
          57,
          51,
          30,
          44,
          34,
          31,
          54,
          24,
          43,
          48,
          19,
          29,
          63,
          46,
          52,
          35,
          51,
          44,
          21,
          39,
          50,
          34,
          22,
          19,
          26,
          29,
          48,
          26,
          45,
          36,
          54,
          34,
          31,
          27,
          20,
          44,
          43,
          45,
          34,
          24,
          26,
          38,
          50,
          38,
          27,
          39,
          39,
          63,
          33,
          36,
          30,
          24,
          24,
          48,
          47,
          29,
          28,
          47,
          25,
          51,
          48,
          43,
          61,
          48,
          38,
          59,
          19,
          26,
          54,
          21,
          51,
          22,
          47,
          18,
          47,
          21,
          19,
          23,
          54,
          37,
          46,
          55,
          30,
          18,
          61,
          54,
          22,
          45,
          22,
          19,
          35,
          18,
          20,
          28,
          55,
          43,
          43,
          22,
          25,
          49,
          44,
          64,
          49,
          47,
          27,
          55,
          48,
          45,
          24,
          32,
          24,
          57,
          59,
          36,
          29,
          42,
          48,
          39,
          63,
          54,
          37,
          63,
          21,
          54,
          60,
          32,
          47,
          21,
          28,
          63,
          18,
          32,
          38,
          32,
          62,
          39,
          55,
          57,
          52,
          56,
          47,
          55,
          23,
          22,
          50,
          18,
          51,
          22,
          52,
          25,
          33,
          53,
          29,
          58,
          37,
          54,
          49,
          50,
          26,
          45,
          54,
          38,
          48,
          28,
          23,
          55,
          41,
          25,
          33,
          30,
          23,
          46,
          53,
          27,
          23,
          63,
          55,
          35,
          34,
          19,
          39,
          27,
          57,
          52,
          28,
          50,
          44,
          26,
          33,
          19,
          50,
          41,
          52,
          39,
          50,
          52,
          60,
          20,
          55,
          42,
          18,
          58,
          43,
          35,
          48,
          36,
          19,
          23,
          20,
          32,
          43,
          34,
          30,
          18,
          41,
          35,
          57,
          29,
          32,
          37,
          18,
          43,
          56,
          38,
          29,
          22,
          52,
          40,
          23,
          31,
          42,
          24,
          25,
          48,
          23,
          45,
          20,
          62,
          43,
          23,
          31,
          41,
          58,
          48,
          31,
          19,
          19,
          41,
          40,
          31,
          37,
          46,
          22,
          51,
          18,
          35,
          59,
          36,
          37,
          59,
          36,
          39,
          18,
          52,
          27,
          18,
          40,
          29,
          46,
          38,
          30,
          40,
          50,
          20,
          41,
          33,
          38,
          42,
          56,
          58,
          52,
          20,
          54,
          58,
          45,
          26,
          63,
          58,
          37,
          25,
          52,
          64,
          22,
          28,
          18,
          28,
          45,
          33,
          18,
          32,
          24,
          19,
          20,
          40,
          34,
          42,
          51,
          54,
          55,
          52,
          32,
          28,
          41,
          43,
          49,
          64,
          55,
          24,
          20,
          45,
          26,
          25,
          43,
          35,
          26,
          57,
          22,
          32,
          39,
          25,
          48,
          47,
          18,
          18,
          61,
          47,
          28,
          36,
          20,
          44,
          38,
          19,
          21,
          46,
          58,
          20,
          18,
          28,
          33,
          19,
          45,
          62,
          25,
          43,
          42,
          24,
          29,
          32,
          25,
          41,
          42,
          33,
          34,
          19,
          30,
          18,
          19,
          18,
          35,
          39,
          31,
          62,
          62,
          42,
          31,
          61,
          42,
          51,
          23,
          52,
          57,
          23,
          52,
          50,
          18,
          18,
          21,
          61
         ],
         "y0": " ",
         "yaxis": "y",
         "type": "box"
        }
       ],
       "layout": {
        "template": {
         "data": {
          "histogram2dcontour": [
           {
            "type": "histogram2dcontour",
            "colorbar": {
             "outlinewidth": 0,
             "ticks": ""
            },
            "colorscale": [
             [
              0.0,
              "#0d0887"
             ],
             [
              0.1111111111111111,
              "#46039f"
             ],
             [
              0.2222222222222222,
              "#7201a8"
             ],
             [
              0.3333333333333333,
              "#9c179e"
             ],
             [
              0.4444444444444444,
              "#bd3786"
             ],
             [
              0.5555555555555556,
              "#d8576b"
             ],
             [
              0.6666666666666666,
              "#ed7953"
             ],
             [
              0.7777777777777778,
              "#fb9f3a"
             ],
             [
              0.8888888888888888,
              "#fdca26"
             ],
             [
              1.0,
              "#f0f921"
             ]
            ]
           }
          ],
          "choropleth": [
           {
            "type": "choropleth",
            "colorbar": {
             "outlinewidth": 0,
             "ticks": ""
            }
           }
          ],
          "histogram2d": [
           {
            "type": "histogram2d",
            "colorbar": {
             "outlinewidth": 0,
             "ticks": ""
            },
            "colorscale": [
             [
              0.0,
              "#0d0887"
             ],
             [
              0.1111111111111111,
              "#46039f"
             ],
             [
              0.2222222222222222,
              "#7201a8"
             ],
             [
              0.3333333333333333,
              "#9c179e"
             ],
             [
              0.4444444444444444,
              "#bd3786"
             ],
             [
              0.5555555555555556,
              "#d8576b"
             ],
             [
              0.6666666666666666,
              "#ed7953"
             ],
             [
              0.7777777777777778,
              "#fb9f3a"
             ],
             [
              0.8888888888888888,
              "#fdca26"
             ],
             [
              1.0,
              "#f0f921"
             ]
            ]
           }
          ],
          "heatmap": [
           {
            "type": "heatmap",
            "colorbar": {
             "outlinewidth": 0,
             "ticks": ""
            },
            "colorscale": [
             [
              0.0,
              "#0d0887"
             ],
             [
              0.1111111111111111,
              "#46039f"
             ],
             [
              0.2222222222222222,
              "#7201a8"
             ],
             [
              0.3333333333333333,
              "#9c179e"
             ],
             [
              0.4444444444444444,
              "#bd3786"
             ],
             [
              0.5555555555555556,
              "#d8576b"
             ],
             [
              0.6666666666666666,
              "#ed7953"
             ],
             [
              0.7777777777777778,
              "#fb9f3a"
             ],
             [
              0.8888888888888888,
              "#fdca26"
             ],
             [
              1.0,
              "#f0f921"
             ]
            ]
           }
          ],
          "heatmapgl": [
           {
            "type": "heatmapgl",
            "colorbar": {
             "outlinewidth": 0,
             "ticks": ""
            },
            "colorscale": [
             [
              0.0,
              "#0d0887"
             ],
             [
              0.1111111111111111,
              "#46039f"
             ],
             [
              0.2222222222222222,
              "#7201a8"
             ],
             [
              0.3333333333333333,
              "#9c179e"
             ],
             [
              0.4444444444444444,
              "#bd3786"
             ],
             [
              0.5555555555555556,
              "#d8576b"
             ],
             [
              0.6666666666666666,
              "#ed7953"
             ],
             [
              0.7777777777777778,
              "#fb9f3a"
             ],
             [
              0.8888888888888888,
              "#fdca26"
             ],
             [
              1.0,
              "#f0f921"
             ]
            ]
           }
          ],
          "contourcarpet": [
           {
            "type": "contourcarpet",
            "colorbar": {
             "outlinewidth": 0,
             "ticks": ""
            }
           }
          ],
          "contour": [
           {
            "type": "contour",
            "colorbar": {
             "outlinewidth": 0,
             "ticks": ""
            },
            "colorscale": [
             [
              0.0,
              "#0d0887"
             ],
             [
              0.1111111111111111,
              "#46039f"
             ],
             [
              0.2222222222222222,
              "#7201a8"
             ],
             [
              0.3333333333333333,
              "#9c179e"
             ],
             [
              0.4444444444444444,
              "#bd3786"
             ],
             [
              0.5555555555555556,
              "#d8576b"
             ],
             [
              0.6666666666666666,
              "#ed7953"
             ],
             [
              0.7777777777777778,
              "#fb9f3a"
             ],
             [
              0.8888888888888888,
              "#fdca26"
             ],
             [
              1.0,
              "#f0f921"
             ]
            ]
           }
          ],
          "surface": [
           {
            "type": "surface",
            "colorbar": {
             "outlinewidth": 0,
             "ticks": ""
            },
            "colorscale": [
             [
              0.0,
              "#0d0887"
             ],
             [
              0.1111111111111111,
              "#46039f"
             ],
             [
              0.2222222222222222,
              "#7201a8"
             ],
             [
              0.3333333333333333,
              "#9c179e"
             ],
             [
              0.4444444444444444,
              "#bd3786"
             ],
             [
              0.5555555555555556,
              "#d8576b"
             ],
             [
              0.6666666666666666,
              "#ed7953"
             ],
             [
              0.7777777777777778,
              "#fb9f3a"
             ],
             [
              0.8888888888888888,
              "#fdca26"
             ],
             [
              1.0,
              "#f0f921"
             ]
            ]
           }
          ],
          "mesh3d": [
           {
            "type": "mesh3d",
            "colorbar": {
             "outlinewidth": 0,
             "ticks": ""
            }
           }
          ],
          "scatter": [
           {
            "fillpattern": {
             "fillmode": "overlay",
             "size": 10,
             "solidity": 0.2
            },
            "type": "scatter"
           }
          ],
          "parcoords": [
           {
            "type": "parcoords",
            "line": {
             "colorbar": {
              "outlinewidth": 0,
              "ticks": ""
             }
            }
           }
          ],
          "scatterpolargl": [
           {
            "type": "scatterpolargl",
            "marker": {
             "colorbar": {
              "outlinewidth": 0,
              "ticks": ""
             }
            }
           }
          ],
          "bar": [
           {
            "error_x": {
             "color": "#2a3f5f"
            },
            "error_y": {
             "color": "#2a3f5f"
            },
            "marker": {
             "line": {
              "color": "#E5ECF6",
              "width": 0.5
             },
             "pattern": {
              "fillmode": "overlay",
              "size": 10,
              "solidity": 0.2
             }
            },
            "type": "bar"
           }
          ],
          "scattergeo": [
           {
            "type": "scattergeo",
            "marker": {
             "colorbar": {
              "outlinewidth": 0,
              "ticks": ""
             }
            }
           }
          ],
          "scatterpolar": [
           {
            "type": "scatterpolar",
            "marker": {
             "colorbar": {
              "outlinewidth": 0,
              "ticks": ""
             }
            }
           }
          ],
          "histogram": [
           {
            "marker": {
             "pattern": {
              "fillmode": "overlay",
              "size": 10,
              "solidity": 0.2
             }
            },
            "type": "histogram"
           }
          ],
          "scattergl": [
           {
            "type": "scattergl",
            "marker": {
             "colorbar": {
              "outlinewidth": 0,
              "ticks": ""
             }
            }
           }
          ],
          "scatter3d": [
           {
            "type": "scatter3d",
            "line": {
             "colorbar": {
              "outlinewidth": 0,
              "ticks": ""
             }
            },
            "marker": {
             "colorbar": {
              "outlinewidth": 0,
              "ticks": ""
             }
            }
           }
          ],
          "scattermapbox": [
           {
            "type": "scattermapbox",
            "marker": {
             "colorbar": {
              "outlinewidth": 0,
              "ticks": ""
             }
            }
           }
          ],
          "scatterternary": [
           {
            "type": "scatterternary",
            "marker": {
             "colorbar": {
              "outlinewidth": 0,
              "ticks": ""
             }
            }
           }
          ],
          "scattercarpet": [
           {
            "type": "scattercarpet",
            "marker": {
             "colorbar": {
              "outlinewidth": 0,
              "ticks": ""
             }
            }
           }
          ],
          "carpet": [
           {
            "aaxis": {
             "endlinecolor": "#2a3f5f",
             "gridcolor": "white",
             "linecolor": "white",
             "minorgridcolor": "white",
             "startlinecolor": "#2a3f5f"
            },
            "baxis": {
             "endlinecolor": "#2a3f5f",
             "gridcolor": "white",
             "linecolor": "white",
             "minorgridcolor": "white",
             "startlinecolor": "#2a3f5f"
            },
            "type": "carpet"
           }
          ],
          "table": [
           {
            "cells": {
             "fill": {
              "color": "#EBF0F8"
             },
             "line": {
              "color": "white"
             }
            },
            "header": {
             "fill": {
              "color": "#C8D4E3"
             },
             "line": {
              "color": "white"
             }
            },
            "type": "table"
           }
          ],
          "barpolar": [
           {
            "marker": {
             "line": {
              "color": "#E5ECF6",
              "width": 0.5
             },
             "pattern": {
              "fillmode": "overlay",
              "size": 10,
              "solidity": 0.2
             }
            },
            "type": "barpolar"
           }
          ],
          "pie": [
           {
            "automargin": true,
            "type": "pie"
           }
          ]
         },
         "layout": {
          "autotypenumbers": "strict",
          "colorway": [
           "#636efa",
           "#EF553B",
           "#00cc96",
           "#ab63fa",
           "#FFA15A",
           "#19d3f3",
           "#FF6692",
           "#B6E880",
           "#FF97FF",
           "#FECB52"
          ],
          "font": {
           "color": "#2a3f5f"
          },
          "hovermode": "closest",
          "hoverlabel": {
           "align": "left"
          },
          "paper_bgcolor": "white",
          "plot_bgcolor": "#E5ECF6",
          "polar": {
           "bgcolor": "#E5ECF6",
           "angularaxis": {
            "gridcolor": "white",
            "linecolor": "white",
            "ticks": ""
           },
           "radialaxis": {
            "gridcolor": "white",
            "linecolor": "white",
            "ticks": ""
           }
          },
          "ternary": {
           "bgcolor": "#E5ECF6",
           "aaxis": {
            "gridcolor": "white",
            "linecolor": "white",
            "ticks": ""
           },
           "baxis": {
            "gridcolor": "white",
            "linecolor": "white",
            "ticks": ""
           },
           "caxis": {
            "gridcolor": "white",
            "linecolor": "white",
            "ticks": ""
           }
          },
          "coloraxis": {
           "colorbar": {
            "outlinewidth": 0,
            "ticks": ""
           }
          },
          "colorscale": {
           "sequential": [
            [
             0.0,
             "#0d0887"
            ],
            [
             0.1111111111111111,
             "#46039f"
            ],
            [
             0.2222222222222222,
             "#7201a8"
            ],
            [
             0.3333333333333333,
             "#9c179e"
            ],
            [
             0.4444444444444444,
             "#bd3786"
            ],
            [
             0.5555555555555556,
             "#d8576b"
            ],
            [
             0.6666666666666666,
             "#ed7953"
            ],
            [
             0.7777777777777778,
             "#fb9f3a"
            ],
            [
             0.8888888888888888,
             "#fdca26"
            ],
            [
             1.0,
             "#f0f921"
            ]
           ],
           "sequentialminus": [
            [
             0.0,
             "#0d0887"
            ],
            [
             0.1111111111111111,
             "#46039f"
            ],
            [
             0.2222222222222222,
             "#7201a8"
            ],
            [
             0.3333333333333333,
             "#9c179e"
            ],
            [
             0.4444444444444444,
             "#bd3786"
            ],
            [
             0.5555555555555556,
             "#d8576b"
            ],
            [
             0.6666666666666666,
             "#ed7953"
            ],
            [
             0.7777777777777778,
             "#fb9f3a"
            ],
            [
             0.8888888888888888,
             "#fdca26"
            ],
            [
             1.0,
             "#f0f921"
            ]
           ],
           "diverging": [
            [
             0,
             "#8e0152"
            ],
            [
             0.1,
             "#c51b7d"
            ],
            [
             0.2,
             "#de77ae"
            ],
            [
             0.3,
             "#f1b6da"
            ],
            [
             0.4,
             "#fde0ef"
            ],
            [
             0.5,
             "#f7f7f7"
            ],
            [
             0.6,
             "#e6f5d0"
            ],
            [
             0.7,
             "#b8e186"
            ],
            [
             0.8,
             "#7fbc41"
            ],
            [
             0.9,
             "#4d9221"
            ],
            [
             1,
             "#276419"
            ]
           ]
          },
          "xaxis": {
           "gridcolor": "white",
           "linecolor": "white",
           "ticks": "",
           "title": {
            "standoff": 15
           },
           "zerolinecolor": "white",
           "automargin": true,
           "zerolinewidth": 2
          },
          "yaxis": {
           "gridcolor": "white",
           "linecolor": "white",
           "ticks": "",
           "title": {
            "standoff": 15
           },
           "zerolinecolor": "white",
           "automargin": true,
           "zerolinewidth": 2
          },
          "scene": {
           "xaxis": {
            "backgroundcolor": "#E5ECF6",
            "gridcolor": "white",
            "linecolor": "white",
            "showbackground": true,
            "ticks": "",
            "zerolinecolor": "white",
            "gridwidth": 2
           },
           "yaxis": {
            "backgroundcolor": "#E5ECF6",
            "gridcolor": "white",
            "linecolor": "white",
            "showbackground": true,
            "ticks": "",
            "zerolinecolor": "white",
            "gridwidth": 2
           },
           "zaxis": {
            "backgroundcolor": "#E5ECF6",
            "gridcolor": "white",
            "linecolor": "white",
            "showbackground": true,
            "ticks": "",
            "zerolinecolor": "white",
            "gridwidth": 2
           }
          },
          "shapedefaults": {
           "line": {
            "color": "#2a3f5f"
           }
          },
          "annotationdefaults": {
           "arrowcolor": "#2a3f5f",
           "arrowhead": 0,
           "arrowwidth": 1
          },
          "geo": {
           "bgcolor": "white",
           "landcolor": "#E5ECF6",
           "subunitcolor": "white",
           "showland": true,
           "showlakes": true,
           "lakecolor": "white"
          },
          "title": {
           "x": 0.05
          },
          "mapbox": {
           "style": "light"
          }
         }
        },
        "xaxis": {
         "anchor": "y",
         "domain": [
          0.0,
          1.0
         ]
        },
        "yaxis": {
         "anchor": "x",
         "domain": [
          0.0,
          1.0
         ],
         "title": {
          "text": "age"
         }
        },
        "legend": {
         "tracegroupgap": 0
        },
        "margin": {
         "t": 60
        },
        "boxmode": "group",
        "title": {
         "text": "Box-plot diagram for age",
         "font": {
          "size": 20
         }
        }
       },
       "config": {
        "plotlyServerURL": "https://plot.ly"
       }
      },
      "text/html": "<div>                            <div id=\"c3d75ed7-092b-4b41-a02e-069d31171781\" class=\"plotly-graph-div\" style=\"height:525px; width:100%;\"></div>            <script type=\"text/javascript\">                require([\"plotly\"], function(Plotly) {                    window.PLOTLYENV=window.PLOTLYENV || {};                                    if (document.getElementById(\"c3d75ed7-092b-4b41-a02e-069d31171781\")) {                    Plotly.newPlot(                        \"c3d75ed7-092b-4b41-a02e-069d31171781\",                        [{\"alignmentgroup\":\"True\",\"hovertemplate\":\"age=%{y}<extra></extra>\",\"legendgroup\":\"\",\"marker\":{\"color\":\"#636efa\"},\"name\":\"\",\"notched\":false,\"offsetgroup\":\"\",\"orientation\":\"v\",\"showlegend\":false,\"x0\":\" \",\"xaxis\":\"x\",\"y\":[19,18,28,33,32,31,46,37,37,60,25,62,23,56,27,19,52,23,56,30,60,30,18,34,37,59,63,55,23,31,22,18,19,63,28,19,62,26,35,60,24,31,41,37,38,55,18,28,60,36,18,21,48,36,40,58,58,18,53,34,43,25,64,28,20,19,61,40,40,28,27,31,53,58,44,57,29,21,22,41,31,45,22,48,37,45,57,56,46,55,21,53,59,35,64,28,54,55,56,38,41,30,18,61,34,20,19,26,29,63,54,55,37,21,52,60,58,29,49,37,44,18,20,44,47,26,19,52,32,38,59,61,53,19,20,22,19,22,54,22,34,26,34,29,30,29,46,51,53,19,35,48,32,42,40,44,48,18,30,50,42,18,54,32,37,47,20,32,19,27,63,49,18,35,24,63,38,54,46,41,58,18,22,44,44,36,26,30,41,29,61,36,25,56,18,19,39,45,51,64,19,48,60,27,46,28,59,35,63,40,20,40,24,34,45,41,53,27,26,24,34,53,32,19,42,55,28,58,41,47,42,59,19,59,39,40,18,31,19,44,23,33,55,40,63,54,60,24,19,29,18,63,54,27,50,55,56,38,51,19,58,20,52,19,53,46,40,59,45,49,18,50,41,50,25,47,19,22,59,51,40,54,30,55,52,46,46,63,59,52,28,29,25,22,25,18,19,47,31,48,36,53,56,28,57,29,28,30,58,41,50,19,43,49,27,52,50,54,44,32,34,26,34,57,29,40,27,45,64,52,61,52,61,56,43,64,60,62,50,46,24,62,60,63,49,34,33,46,36,19,57,50,30,33,18,46,46,47,23,18,48,35,19,21,21,49,56,42,44,18,61,57,42,26,20,23,39,24,64,62,27,55,55,35,44,19,58,50,26,24,48,19,48,49,46,46,43,21,64,18,51,47,64,49,31,52,33,47,38,32,19,44,26,25,19,43,52,36,64,63,64,61,40,25,48,45,38,18,21,27,19,29,42,60,31,60,22,35,52,26,31,33,18,59,56,45,60,56,40,35,39,30,24,20,32,59,55,57,56,40,49,42,62,56,19,30,60,56,28,18,27,18,19,47,54,61,24,25,21,23,63,49,18,51,48,31,54,19,44,53,19,61,18,61,21,20,31,45,44,62,29,43,51,19,38,37,22,21,24,57,56,27,51,19,39,58,20,45,35,31,50,32,51,38,42,18,19,51,46,18,57,62,59,37,64,38,33,46,46,53,34,20,63,54,54,49,28,54,25,43,63,32,62,52,25,28,46,34,35,19,46,54,27,50,18,19,38,41,49,48,31,18,30,62,57,58,22,31,52,25,59,19,39,32,19,33,21,34,61,38,58,47,20,21,41,46,42,34,43,52,18,51,56,64,19,51,27,59,28,30,47,38,18,34,20,47,56,49,19,55,30,37,49,18,59,29,36,33,58,44,53,24,29,40,51,64,19,35,39,56,33,42,61,23,43,48,39,40,18,58,49,53,48,45,59,52,26,27,48,57,37,57,32,18,64,43,49,40,62,40,30,29,36,41,44,45,55,60,56,49,21,19,39,53,33,53,42,40,47,27,21,47,20,24,27,26,53,41,56,23,21,50,53,34,47,33,51,49,31,36,18,50,43,20,24,60,49,60,51,58,51,53,62,19,50,30,41,29,18,41,35,53,24,48,59,49,37,26,23,29,45,27,53,31,50,50,34,19,47,28,37,21,64,58,24,31,39,47,30,18,22,23,33,27,45,57,47,42,64,38,61,53,44,19,41,51,40,45,35,53,30,18,51,50,31,35,60,21,29,62,39,19,22,53,39,27,30,30,58,33,42,64,21,18,23,45,40,19,18,25,46,33,54,28,36,20,24,23,47,33,45,26,18,44,60,64,56,36,41,39,63,36,28,58,36,42,36,56,35,59,21,59,23,57,53,60,51,23,27,55,37,61,46,53,49,20,48,25,25,57,37,38,55,36,51,40,18,57,61,25,50,26,42,43,44,23,49,33,41,37,22,23,21,51,25,32,57,36,22,57,64,36,54,47,62,61,43,19,18,19,49,60,26,49,60,26,27,44,63,32,22,18,59,44,33,24,43,45,61,35,62,62,38,34,43,50,19,57,62,41,26,39,46,45,32,59,44,39,18,53,18,50,18,19,62,56,42,37,42,25,57,51,30,44,34,31,54,24,43,48,19,29,63,46,52,35,51,44,21,39,50,34,22,19,26,29,48,26,45,36,54,34,31,27,20,44,43,45,34,24,26,38,50,38,27,39,39,63,33,36,30,24,24,48,47,29,28,47,25,51,48,43,61,48,38,59,19,26,54,21,51,22,47,18,47,21,19,23,54,37,46,55,30,18,61,54,22,45,22,19,35,18,20,28,55,43,43,22,25,49,44,64,49,47,27,55,48,45,24,32,24,57,59,36,29,42,48,39,63,54,37,63,21,54,60,32,47,21,28,63,18,32,38,32,62,39,55,57,52,56,47,55,23,22,50,18,51,22,52,25,33,53,29,58,37,54,49,50,26,45,54,38,48,28,23,55,41,25,33,30,23,46,53,27,23,63,55,35,34,19,39,27,57,52,28,50,44,26,33,19,50,41,52,39,50,52,60,20,55,42,18,58,43,35,48,36,19,23,20,32,43,34,30,18,41,35,57,29,32,37,18,43,56,38,29,22,52,40,23,31,42,24,25,48,23,45,20,62,43,23,31,41,58,48,31,19,19,41,40,31,37,46,22,51,18,35,59,36,37,59,36,39,18,52,27,18,40,29,46,38,30,40,50,20,41,33,38,42,56,58,52,20,54,58,45,26,63,58,37,25,52,64,22,28,18,28,45,33,18,32,24,19,20,40,34,42,51,54,55,52,32,28,41,43,49,64,55,24,20,45,26,25,43,35,26,57,22,32,39,25,48,47,18,18,61,47,28,36,20,44,38,19,21,46,58,20,18,28,33,19,45,62,25,43,42,24,29,32,25,41,42,33,34,19,30,18,19,18,35,39,31,62,62,42,31,61,42,51,23,52,57,23,52,50,18,18,21,61],\"y0\":\" \",\"yaxis\":\"y\",\"type\":\"box\"}],                        {\"template\":{\"data\":{\"histogram2dcontour\":[{\"type\":\"histogram2dcontour\",\"colorbar\":{\"outlinewidth\":0,\"ticks\":\"\"},\"colorscale\":[[0.0,\"#0d0887\"],[0.1111111111111111,\"#46039f\"],[0.2222222222222222,\"#7201a8\"],[0.3333333333333333,\"#9c179e\"],[0.4444444444444444,\"#bd3786\"],[0.5555555555555556,\"#d8576b\"],[0.6666666666666666,\"#ed7953\"],[0.7777777777777778,\"#fb9f3a\"],[0.8888888888888888,\"#fdca26\"],[1.0,\"#f0f921\"]]}],\"choropleth\":[{\"type\":\"choropleth\",\"colorbar\":{\"outlinewidth\":0,\"ticks\":\"\"}}],\"histogram2d\":[{\"type\":\"histogram2d\",\"colorbar\":{\"outlinewidth\":0,\"ticks\":\"\"},\"colorscale\":[[0.0,\"#0d0887\"],[0.1111111111111111,\"#46039f\"],[0.2222222222222222,\"#7201a8\"],[0.3333333333333333,\"#9c179e\"],[0.4444444444444444,\"#bd3786\"],[0.5555555555555556,\"#d8576b\"],[0.6666666666666666,\"#ed7953\"],[0.7777777777777778,\"#fb9f3a\"],[0.8888888888888888,\"#fdca26\"],[1.0,\"#f0f921\"]]}],\"heatmap\":[{\"type\":\"heatmap\",\"colorbar\":{\"outlinewidth\":0,\"ticks\":\"\"},\"colorscale\":[[0.0,\"#0d0887\"],[0.1111111111111111,\"#46039f\"],[0.2222222222222222,\"#7201a8\"],[0.3333333333333333,\"#9c179e\"],[0.4444444444444444,\"#bd3786\"],[0.5555555555555556,\"#d8576b\"],[0.6666666666666666,\"#ed7953\"],[0.7777777777777778,\"#fb9f3a\"],[0.8888888888888888,\"#fdca26\"],[1.0,\"#f0f921\"]]}],\"heatmapgl\":[{\"type\":\"heatmapgl\",\"colorbar\":{\"outlinewidth\":0,\"ticks\":\"\"},\"colorscale\":[[0.0,\"#0d0887\"],[0.1111111111111111,\"#46039f\"],[0.2222222222222222,\"#7201a8\"],[0.3333333333333333,\"#9c179e\"],[0.4444444444444444,\"#bd3786\"],[0.5555555555555556,\"#d8576b\"],[0.6666666666666666,\"#ed7953\"],[0.7777777777777778,\"#fb9f3a\"],[0.8888888888888888,\"#fdca26\"],[1.0,\"#f0f921\"]]}],\"contourcarpet\":[{\"type\":\"contourcarpet\",\"colorbar\":{\"outlinewidth\":0,\"ticks\":\"\"}}],\"contour\":[{\"type\":\"contour\",\"colorbar\":{\"outlinewidth\":0,\"ticks\":\"\"},\"colorscale\":[[0.0,\"#0d0887\"],[0.1111111111111111,\"#46039f\"],[0.2222222222222222,\"#7201a8\"],[0.3333333333333333,\"#9c179e\"],[0.4444444444444444,\"#bd3786\"],[0.5555555555555556,\"#d8576b\"],[0.6666666666666666,\"#ed7953\"],[0.7777777777777778,\"#fb9f3a\"],[0.8888888888888888,\"#fdca26\"],[1.0,\"#f0f921\"]]}],\"surface\":[{\"type\":\"surface\",\"colorbar\":{\"outlinewidth\":0,\"ticks\":\"\"},\"colorscale\":[[0.0,\"#0d0887\"],[0.1111111111111111,\"#46039f\"],[0.2222222222222222,\"#7201a8\"],[0.3333333333333333,\"#9c179e\"],[0.4444444444444444,\"#bd3786\"],[0.5555555555555556,\"#d8576b\"],[0.6666666666666666,\"#ed7953\"],[0.7777777777777778,\"#fb9f3a\"],[0.8888888888888888,\"#fdca26\"],[1.0,\"#f0f921\"]]}],\"mesh3d\":[{\"type\":\"mesh3d\",\"colorbar\":{\"outlinewidth\":0,\"ticks\":\"\"}}],\"scatter\":[{\"fillpattern\":{\"fillmode\":\"overlay\",\"size\":10,\"solidity\":0.2},\"type\":\"scatter\"}],\"parcoords\":[{\"type\":\"parcoords\",\"line\":{\"colorbar\":{\"outlinewidth\":0,\"ticks\":\"\"}}}],\"scatterpolargl\":[{\"type\":\"scatterpolargl\",\"marker\":{\"colorbar\":{\"outlinewidth\":0,\"ticks\":\"\"}}}],\"bar\":[{\"error_x\":{\"color\":\"#2a3f5f\"},\"error_y\":{\"color\":\"#2a3f5f\"},\"marker\":{\"line\":{\"color\":\"#E5ECF6\",\"width\":0.5},\"pattern\":{\"fillmode\":\"overlay\",\"size\":10,\"solidity\":0.2}},\"type\":\"bar\"}],\"scattergeo\":[{\"type\":\"scattergeo\",\"marker\":{\"colorbar\":{\"outlinewidth\":0,\"ticks\":\"\"}}}],\"scatterpolar\":[{\"type\":\"scatterpolar\",\"marker\":{\"colorbar\":{\"outlinewidth\":0,\"ticks\":\"\"}}}],\"histogram\":[{\"marker\":{\"pattern\":{\"fillmode\":\"overlay\",\"size\":10,\"solidity\":0.2}},\"type\":\"histogram\"}],\"scattergl\":[{\"type\":\"scattergl\",\"marker\":{\"colorbar\":{\"outlinewidth\":0,\"ticks\":\"\"}}}],\"scatter3d\":[{\"type\":\"scatter3d\",\"line\":{\"colorbar\":{\"outlinewidth\":0,\"ticks\":\"\"}},\"marker\":{\"colorbar\":{\"outlinewidth\":0,\"ticks\":\"\"}}}],\"scattermapbox\":[{\"type\":\"scattermapbox\",\"marker\":{\"colorbar\":{\"outlinewidth\":0,\"ticks\":\"\"}}}],\"scatterternary\":[{\"type\":\"scatterternary\",\"marker\":{\"colorbar\":{\"outlinewidth\":0,\"ticks\":\"\"}}}],\"scattercarpet\":[{\"type\":\"scattercarpet\",\"marker\":{\"colorbar\":{\"outlinewidth\":0,\"ticks\":\"\"}}}],\"carpet\":[{\"aaxis\":{\"endlinecolor\":\"#2a3f5f\",\"gridcolor\":\"white\",\"linecolor\":\"white\",\"minorgridcolor\":\"white\",\"startlinecolor\":\"#2a3f5f\"},\"baxis\":{\"endlinecolor\":\"#2a3f5f\",\"gridcolor\":\"white\",\"linecolor\":\"white\",\"minorgridcolor\":\"white\",\"startlinecolor\":\"#2a3f5f\"},\"type\":\"carpet\"}],\"table\":[{\"cells\":{\"fill\":{\"color\":\"#EBF0F8\"},\"line\":{\"color\":\"white\"}},\"header\":{\"fill\":{\"color\":\"#C8D4E3\"},\"line\":{\"color\":\"white\"}},\"type\":\"table\"}],\"barpolar\":[{\"marker\":{\"line\":{\"color\":\"#E5ECF6\",\"width\":0.5},\"pattern\":{\"fillmode\":\"overlay\",\"size\":10,\"solidity\":0.2}},\"type\":\"barpolar\"}],\"pie\":[{\"automargin\":true,\"type\":\"pie\"}]},\"layout\":{\"autotypenumbers\":\"strict\",\"colorway\":[\"#636efa\",\"#EF553B\",\"#00cc96\",\"#ab63fa\",\"#FFA15A\",\"#19d3f3\",\"#FF6692\",\"#B6E880\",\"#FF97FF\",\"#FECB52\"],\"font\":{\"color\":\"#2a3f5f\"},\"hovermode\":\"closest\",\"hoverlabel\":{\"align\":\"left\"},\"paper_bgcolor\":\"white\",\"plot_bgcolor\":\"#E5ECF6\",\"polar\":{\"bgcolor\":\"#E5ECF6\",\"angularaxis\":{\"gridcolor\":\"white\",\"linecolor\":\"white\",\"ticks\":\"\"},\"radialaxis\":{\"gridcolor\":\"white\",\"linecolor\":\"white\",\"ticks\":\"\"}},\"ternary\":{\"bgcolor\":\"#E5ECF6\",\"aaxis\":{\"gridcolor\":\"white\",\"linecolor\":\"white\",\"ticks\":\"\"},\"baxis\":{\"gridcolor\":\"white\",\"linecolor\":\"white\",\"ticks\":\"\"},\"caxis\":{\"gridcolor\":\"white\",\"linecolor\":\"white\",\"ticks\":\"\"}},\"coloraxis\":{\"colorbar\":{\"outlinewidth\":0,\"ticks\":\"\"}},\"colorscale\":{\"sequential\":[[0.0,\"#0d0887\"],[0.1111111111111111,\"#46039f\"],[0.2222222222222222,\"#7201a8\"],[0.3333333333333333,\"#9c179e\"],[0.4444444444444444,\"#bd3786\"],[0.5555555555555556,\"#d8576b\"],[0.6666666666666666,\"#ed7953\"],[0.7777777777777778,\"#fb9f3a\"],[0.8888888888888888,\"#fdca26\"],[1.0,\"#f0f921\"]],\"sequentialminus\":[[0.0,\"#0d0887\"],[0.1111111111111111,\"#46039f\"],[0.2222222222222222,\"#7201a8\"],[0.3333333333333333,\"#9c179e\"],[0.4444444444444444,\"#bd3786\"],[0.5555555555555556,\"#d8576b\"],[0.6666666666666666,\"#ed7953\"],[0.7777777777777778,\"#fb9f3a\"],[0.8888888888888888,\"#fdca26\"],[1.0,\"#f0f921\"]],\"diverging\":[[0,\"#8e0152\"],[0.1,\"#c51b7d\"],[0.2,\"#de77ae\"],[0.3,\"#f1b6da\"],[0.4,\"#fde0ef\"],[0.5,\"#f7f7f7\"],[0.6,\"#e6f5d0\"],[0.7,\"#b8e186\"],[0.8,\"#7fbc41\"],[0.9,\"#4d9221\"],[1,\"#276419\"]]},\"xaxis\":{\"gridcolor\":\"white\",\"linecolor\":\"white\",\"ticks\":\"\",\"title\":{\"standoff\":15},\"zerolinecolor\":\"white\",\"automargin\":true,\"zerolinewidth\":2},\"yaxis\":{\"gridcolor\":\"white\",\"linecolor\":\"white\",\"ticks\":\"\",\"title\":{\"standoff\":15},\"zerolinecolor\":\"white\",\"automargin\":true,\"zerolinewidth\":2},\"scene\":{\"xaxis\":{\"backgroundcolor\":\"#E5ECF6\",\"gridcolor\":\"white\",\"linecolor\":\"white\",\"showbackground\":true,\"ticks\":\"\",\"zerolinecolor\":\"white\",\"gridwidth\":2},\"yaxis\":{\"backgroundcolor\":\"#E5ECF6\",\"gridcolor\":\"white\",\"linecolor\":\"white\",\"showbackground\":true,\"ticks\":\"\",\"zerolinecolor\":\"white\",\"gridwidth\":2},\"zaxis\":{\"backgroundcolor\":\"#E5ECF6\",\"gridcolor\":\"white\",\"linecolor\":\"white\",\"showbackground\":true,\"ticks\":\"\",\"zerolinecolor\":\"white\",\"gridwidth\":2}},\"shapedefaults\":{\"line\":{\"color\":\"#2a3f5f\"}},\"annotationdefaults\":{\"arrowcolor\":\"#2a3f5f\",\"arrowhead\":0,\"arrowwidth\":1},\"geo\":{\"bgcolor\":\"white\",\"landcolor\":\"#E5ECF6\",\"subunitcolor\":\"white\",\"showland\":true,\"showlakes\":true,\"lakecolor\":\"white\"},\"title\":{\"x\":0.05},\"mapbox\":{\"style\":\"light\"}}},\"xaxis\":{\"anchor\":\"y\",\"domain\":[0.0,1.0]},\"yaxis\":{\"anchor\":\"x\",\"domain\":[0.0,1.0],\"title\":{\"text\":\"age\"}},\"legend\":{\"tracegroupgap\":0},\"margin\":{\"t\":60},\"boxmode\":\"group\",\"title\":{\"text\":\"Box-plot diagram for age\",\"font\":{\"size\":20}}},                        {\"responsive\": true}                    ).then(function(){\n                            \nvar gd = document.getElementById('c3d75ed7-092b-4b41-a02e-069d31171781');\nvar x = new MutationObserver(function (mutations, observer) {{\n        var display = window.getComputedStyle(gd).display;\n        if (!display || display === 'none') {{\n            console.log([gd, 'removed!']);\n            Plotly.purge(gd);\n            observer.disconnect();\n        }}\n}});\n\n// Listen for the removal of the full notebook cells\nvar notebookContainer = gd.closest('#notebook-container');\nif (notebookContainer) {{\n    x.observe(notebookContainer, {childList: true});\n}}\n\n// Listen for the clearing of the current output cell\nvar outputEl = gd.closest('.output');\nif (outputEl) {{\n    x.observe(outputEl, {childList: true});\n}}\n\n                        })                };                });            </script>        </div>"
     },
     "metadata": {},
     "output_type": "display_data"
    },
    {
     "data": {
      "application/vnd.plotly.v1+json": {
       "data": [
        {
         "alignmentgroup": "True",
         "hovertemplate": "bmi=%{y}<extra></extra>",
         "legendgroup": "",
         "marker": {
          "color": "#636efa"
         },
         "name": "",
         "notched": false,
         "offsetgroup": "",
         "orientation": "v",
         "showlegend": false,
         "x0": " ",
         "xaxis": "x",
         "y": [
          27.9,
          33.77,
          33.0,
          22.705,
          28.88,
          25.74,
          33.44,
          27.74,
          29.83,
          25.84,
          26.22,
          26.29,
          34.4,
          39.82,
          42.13,
          24.6,
          30.78,
          23.845,
          40.3,
          35.3,
          36.005,
          32.4,
          34.1,
          31.92,
          28.025,
          27.72,
          23.085,
          32.775,
          17.385,
          36.3,
          35.6,
          26.315,
          28.6,
          28.31,
          36.4,
          20.425,
          32.965,
          20.8,
          36.67,
          39.9,
          26.6,
          36.63,
          21.78,
          30.8,
          37.05,
          37.3,
          38.665,
          34.77,
          24.53,
          35.2,
          35.625,
          33.63,
          28.0,
          34.43,
          28.69,
          36.955,
          31.825,
          31.68,
          22.88,
          37.335,
          27.36,
          33.66,
          24.7,
          25.935,
          22.42,
          28.9,
          39.1,
          26.315,
          36.19,
          23.98,
          24.75,
          28.5,
          28.1,
          32.01,
          27.4,
          34.01,
          29.59,
          35.53,
          39.805,
          32.965,
          26.885,
          38.285,
          37.62,
          41.23,
          34.8,
          22.895,
          31.16,
          27.2,
          27.74,
          26.98,
          39.49,
          24.795,
          29.83,
          34.77,
          31.3,
          37.62,
          30.8,
          38.28,
          19.95,
          19.3,
          31.6,
          25.46,
          30.115,
          29.92,
          27.5,
          28.025,
          28.4,
          30.875,
          27.94,
          35.09,
          33.63,
          29.7,
          30.8,
          35.72,
          32.205,
          28.595,
          49.06,
          27.94,
          27.17,
          23.37,
          37.1,
          23.75,
          28.975,
          31.35,
          33.915,
          28.785,
          28.3,
          37.4,
          17.765,
          34.7,
          26.505,
          22.04,
          35.9,
          25.555,
          28.785,
          28.05,
          34.1,
          25.175,
          31.9,
          36.0,
          22.42,
          32.49,
          25.3,
          29.735,
          28.69,
          38.83,
          30.495,
          37.73,
          37.43,
          28.4,
          24.13,
          29.7,
          37.145,
          23.37,
          25.46,
          39.52,
          24.42,
          25.175,
          35.53,
          27.83,
          26.6,
          36.85,
          39.6,
          29.8,
          29.64,
          28.215,
          37.0,
          33.155,
          31.825,
          18.905,
          41.47,
          30.3,
          15.96,
          34.8,
          33.345,
          37.7,
          27.835,
          29.2,
          28.9,
          33.155,
          28.595,
          38.28,
          19.95,
          26.41,
          30.69,
          41.895,
          29.92,
          30.9,
          32.2,
          32.11,
          31.57,
          26.2,
          25.74,
          26.6,
          34.43,
          30.59,
          32.8,
          28.6,
          18.05,
          39.33,
          32.11,
          32.23,
          24.035,
          36.08,
          22.3,
          28.88,
          26.4,
          27.74,
          31.8,
          41.23,
          33.0,
          30.875,
          28.5,
          26.73,
          30.9,
          37.1,
          26.6,
          23.1,
          29.92,
          23.21,
          33.7,
          33.25,
          30.8,
          34.8,
          24.64,
          33.88,
          38.06,
          41.91,
          31.635,
          25.46,
          36.195,
          27.83,
          17.8,
          27.5,
          24.51,
          22.22,
          26.73,
          38.39,
          29.07,
          38.06,
          36.67,
          22.135,
          26.8,
          35.3,
          27.74,
          30.02,
          38.06,
          35.86,
          20.9,
          28.975,
          17.29,
          32.2,
          34.21,
          30.3,
          31.825,
          25.365,
          33.63,
          40.15,
          24.415,
          31.92,
          25.2,
          26.84,
          24.32,
          36.955,
          38.06,
          42.35,
          19.8,
          32.395,
          30.2,
          25.84,
          29.37,
          34.2,
          37.05,
          27.455,
          27.55,
          26.6,
          20.615,
          24.3,
          31.79,
          21.56,
          28.12,
          40.565,
          27.645,
          32.395,
          31.2,
          26.62,
          48.07,
          26.22,
          36.765,
          26.4,
          33.4,
          29.64,
          45.54,
          28.82,
          26.8,
          22.99,
          27.7,
          25.41,
          34.39,
          28.88,
          27.55,
          22.61,
          37.51,
          33.0,
          38.0,
          33.345,
          27.5,
          33.33,
          34.865,
          33.06,
          26.6,
          24.7,
          35.97,
          35.86,
          31.4,
          33.25,
          32.205,
          32.775,
          27.645,
          37.335,
          25.27,
          29.64,
          30.8,
          40.945,
          27.2,
          34.105,
          23.21,
          36.48,
          33.8,
          36.7,
          36.385,
          27.36,
          31.16,
          28.785,
          35.72,
          34.5,
          25.74,
          27.55,
          32.3,
          27.72,
          27.6,
          30.02,
          27.55,
          36.765,
          41.47,
          29.26,
          35.75,
          33.345,
          29.92,
          27.835,
          23.18,
          25.6,
          27.7,
          35.245,
          38.28,
          27.6,
          43.89,
          29.83,
          41.91,
          20.79,
          32.3,
          30.5,
          21.7,
          26.4,
          21.89,
          30.78,
          32.3,
          24.985,
          32.015,
          30.4,
          21.09,
          22.23,
          33.155,
          32.9,
          33.33,
          28.31,
          24.89,
          40.15,
          30.115,
          31.46,
          17.955,
          30.685,
          33.0,
          43.34,
          22.135,
          34.4,
          39.05,
          25.365,
          22.61,
          30.21,
          35.625,
          37.43,
          31.445,
          31.35,
          32.3,
          19.855,
          34.4,
          31.02,
          25.6,
          38.17,
          20.6,
          47.52,
          32.965,
          32.3,
          20.4,
          38.38,
          24.31,
          23.6,
          21.12,
          30.03,
          17.48,
          20.235,
          17.195,
          23.9,
          35.15,
          35.64,
          34.1,
          22.6,
          39.16,
          26.98,
          33.88,
          35.86,
          32.775,
          30.59,
          30.2,
          24.31,
          27.265,
          29.165,
          16.815,
          30.4,
          33.1,
          20.235,
          26.9,
          30.5,
          28.595,
          33.11,
          31.73,
          28.9,
          46.75,
          29.45,
          32.68,
          33.5,
          43.01,
          36.52,
          26.695,
          33.1,
          29.64,
          25.65,
          29.6,
          38.6,
          29.6,
          24.13,
          23.4,
          29.735,
          46.53,
          37.4,
          30.14,
          30.495,
          39.6,
          33.0,
          36.63,
          30.0,
          38.095,
          25.935,
          25.175,
          28.38,
          28.7,
          33.82,
          24.32,
          24.09,
          32.67,
          30.115,
          29.8,
          33.345,
          25.1,
          28.31,
          28.5,
          35.625,
          36.85,
          32.56,
          41.325,
          37.51,
          31.35,
          39.5,
          34.3,
          31.065,
          21.47,
          28.7,
          38.06,
          31.16,
          32.9,
          25.08,
          25.08,
          43.4,
          25.7,
          27.93,
          23.6,
          28.7,
          23.98,
          39.2,
          34.4,
          26.03,
          23.21,
          30.25,
          28.93,
          30.875,
          31.35,
          23.75,
          25.27,
          28.7,
          32.11,
          33.66,
          22.42,
          30.4,
          28.3,
          35.7,
          35.31,
          30.495,
          31.0,
          30.875,
          27.36,
          44.22,
          33.915,
          37.73,
          26.07,
          33.88,
          30.59,
          25.8,
          39.425,
          25.46,
          42.13,
          31.73,
          29.7,
          36.19,
          40.48,
          28.025,
          38.9,
          30.2,
          28.05,
          31.35,
          38.0,
          31.79,
          36.3,
          47.41,
          30.21,
          25.84,
          35.435,
          46.7,
          28.595,
          46.2,
          30.8,
          28.93,
          21.4,
          31.73,
          41.325,
          23.8,
          33.44,
          34.21,
          34.105,
          35.53,
          19.95,
          32.68,
          30.5,
          44.77,
          32.12,
          30.495,
          40.565,
          30.59,
          31.9,
          40.565,
          29.1,
          37.29,
          43.12,
          36.86,
          34.295,
          27.17,
          26.84,
          38.095,
          30.2,
          23.465,
          25.46,
          30.59,
          45.43,
          23.65,
          20.7,
          28.27,
          20.235,
          30.21,
          35.91,
          30.69,
          29.0,
          19.57,
          31.13,
          21.85,
          40.26,
          33.725,
          29.48,
          33.25,
          32.6,
          37.525,
          39.16,
          31.635,
          25.3,
          39.05,
          28.31,
          34.1,
          25.175,
          23.655,
          26.98,
          37.8,
          29.37,
          34.8,
          33.155,
          19.0,
          33.0,
          36.63,
          28.595,
          25.6,
          33.11,
          37.1,
          31.4,
          34.1,
          21.3,
          33.535,
          28.785,
          26.03,
          28.88,
          42.46,
          38.0,
          38.95,
          36.1,
          29.3,
          35.53,
          22.705,
          39.7,
          38.19,
          24.51,
          38.095,
          26.41,
          33.66,
          42.4,
          28.31,
          33.915,
          34.96,
          35.31,
          30.78,
          26.22,
          23.37,
          28.5,
          32.965,
          42.68,
          39.6,
          31.13,
          36.3,
          35.2,
          25.3,
          42.4,
          33.155,
          35.91,
          28.785,
          46.53,
          23.98,
          31.54,
          33.66,
          22.99,
          38.06,
          28.7,
          32.775,
          32.015,
          29.81,
          31.57,
          31.16,
          29.7,
          31.02,
          43.89,
          21.375,
          40.81,
          31.35,
          36.1,
          23.18,
          17.4,
          20.3,
          35.3,
          24.32,
          18.5,
          26.41,
          26.125,
          41.69,
          24.1,
          31.13,
          27.36,
          36.2,
          32.395,
          23.655,
          34.8,
          40.185,
          32.3,
          35.75,
          33.725,
          39.27,
          34.87,
          44.745,
          41.47,
          26.41,
          29.545,
          32.9,
          38.06,
          28.69,
          30.495,
          27.74,
          35.2,
          23.54,
          30.685,
          40.47,
          22.6,
          28.9,
          22.61,
          24.32,
          36.67,
          33.44,
          40.66,
          36.6,
          37.4,
          35.4,
          27.075,
          39.05,
          28.405,
          21.755,
          40.28,
          36.08,
          24.42,
          21.4,
          30.1,
          27.265,
          32.1,
          34.77,
          38.39,
          23.7,
          31.73,
          35.5,
          24.035,
          29.15,
          34.105,
          26.62,
          26.41,
          30.115,
          27.0,
          21.755,
          36.0,
          30.875,
          26.4,
          28.975,
          37.905,
          22.77,
          33.63,
          27.645,
          22.8,
          27.83,
          37.43,
          38.17,
          34.58,
          35.2,
          27.1,
          26.03,
          25.175,
          31.825,
          32.3,
          29.0,
          39.7,
          19.475,
          36.1,
          26.7,
          36.48,
          28.88,
          34.2,
          33.33,
          32.3,
          39.805,
          34.32,
          28.88,
          24.4,
          41.14,
          35.97,
          27.6,
          29.26,
          27.7,
          36.955,
          36.86,
          22.515,
          29.92,
          41.8,
          27.6,
          23.18,
          20.9,
          31.92,
          28.5,
          44.22,
          22.895,
          33.1,
          24.795,
          26.18,
          35.97,
          22.3,
          42.24,
          26.51,
          35.815,
          41.42,
          36.575,
          30.14,
          25.84,
          30.8,
          42.94,
          21.01,
          22.515,
          34.43,
          31.46,
          24.225,
          37.1,
          26.125,
          35.53,
          33.7,
          17.67,
          31.13,
          29.81,
          24.32,
          31.825,
          31.79,
          28.025,
          30.78,
          21.85,
          33.1,
          25.84,
          23.845,
          34.39,
          33.82,
          35.97,
          31.5,
          28.31,
          23.465,
          31.35,
          31.1,
          24.7,
          32.78,
          29.81,
          30.495,
          32.45,
          34.2,
          50.38,
          24.1,
          32.775,
          30.78,
          32.3,
          35.53,
          23.75,
          23.845,
          29.6,
          33.11,
          24.13,
          32.23,
          28.1,
          47.6,
          28.0,
          33.535,
          19.855,
          25.4,
          29.9,
          37.29,
          43.7,
          23.655,
          24.3,
          36.2,
          29.48,
          24.86,
          30.1,
          21.85,
          28.12,
          27.1,
          33.44,
          28.8,
          29.5,
          34.8,
          27.36,
          22.135,
          37.05,
          26.695,
          28.93,
          28.975,
          30.02,
          39.5,
          33.63,
          26.885,
          29.04,
          24.035,
          38.94,
          32.11,
          44.0,
          20.045,
          25.555,
          40.26,
          22.515,
          22.515,
          40.92,
          27.265,
          36.85,
          35.1,
          29.355,
          32.585,
          32.34,
          39.8,
          24.6,
          28.31,
          31.73,
          26.695,
          27.5,
          24.605,
          33.99,
          26.885,
          22.895,
          28.2,
          34.21,
          25.0,
          33.2,
          31.0,
          35.815,
          23.2,
          32.11,
          23.4,
          20.1,
          39.16,
          34.21,
          46.53,
          32.5,
          25.8,
          35.3,
          37.18,
          27.5,
          29.735,
          24.225,
          26.18,
          29.48,
          23.21,
          46.09,
          40.185,
          22.61,
          39.93,
          35.8,
          35.8,
          34.2,
          31.255,
          29.7,
          18.335,
          42.9,
          28.405,
          30.2,
          27.835,
          39.49,
          30.8,
          26.79,
          34.96,
          36.67,
          39.615,
          25.9,
          35.2,
          24.795,
          36.765,
          27.1,
          24.795,
          25.365,
          25.745,
          34.32,
          28.16,
          23.56,
          20.235,
          40.5,
          35.42,
          22.895,
          40.15,
          29.15,
          39.995,
          29.92,
          25.46,
          21.375,
          25.9,
          30.59,
          30.115,
          25.8,
          30.115,
          27.645,
          34.675,
          20.52,
          19.8,
          27.835,
          31.6,
          28.27,
          20.045,
          23.275,
          34.1,
          36.85,
          36.29,
          26.885,
          22.99,
          32.7,
          25.8,
          29.6,
          19.19,
          31.73,
          29.26,
          28.215,
          24.985,
          27.74,
          22.8,
          20.13,
          33.33,
          32.3,
          27.6,
          25.46,
          24.605,
          34.2,
          35.815,
          32.68,
          37.0,
          31.02,
          36.08,
          23.32,
          45.32,
          34.6,
          26.03,
          18.715,
          31.6,
          17.29,
          23.655,
          35.2,
          27.93,
          21.565,
          38.38,
          23.0,
          37.07,
          30.495,
          28.88,
          27.265,
          28.025,
          23.085,
          30.685,
          25.8,
          35.245,
          24.7,
          25.08,
          52.58,
          22.515,
          30.9,
          36.955,
          26.41,
          29.83,
          29.8,
          21.47,
          27.645,
          28.9,
          31.79,
          39.49,
          33.82,
          32.01,
          27.94,
          41.14,
          28.595,
          25.6,
          25.3,
          37.29,
          42.655,
          21.66,
          31.9,
          37.07,
          31.445,
          31.255,
          28.88,
          18.335,
          29.59,
          32.0,
          26.03,
          31.68,
          33.66,
          21.78,
          27.835,
          19.95,
          31.5,
          30.495,
          18.3,
          28.975,
          31.54,
          47.74,
          22.1,
          36.19,
          29.83,
          32.7,
          30.4,
          33.7,
          31.35,
          34.96,
          33.77,
          30.875,
          33.99,
          19.095,
          28.6,
          38.94,
          36.08,
          29.8,
          31.24,
          29.925,
          26.22,
          30.0,
          20.35,
          32.3,
          38.39,
          25.85,
          26.315,
          24.51,
          32.67,
          29.64,
          33.33,
          35.75,
          19.95,
          31.4,
          38.17,
          36.86,
          32.395,
          42.75,
          25.08,
          29.9,
          35.86,
          32.8,
          18.6,
          23.87,
          45.9,
          40.28,
          18.335,
          33.82,
          28.12,
          25.0,
          22.23,
          30.25,
          32.49,
          37.07,
          32.6,
          24.86,
          32.34,
          32.3,
          32.775,
          32.8,
          31.92,
          21.5,
          34.1,
          30.305,
          36.48,
          32.56,
          35.815,
          27.93,
          22.135,
          44.88,
          23.18,
          30.59,
          41.1,
          34.58,
          42.13,
          38.83,
          28.215,
          28.31,
          26.125,
          40.37,
          24.6,
          35.2,
          34.105,
          27.36,
          26.7,
          41.91,
          29.26,
          32.11,
          27.1,
          24.13,
          27.4,
          34.865,
          29.81,
          41.325,
          29.925,
          30.3,
          27.36,
          28.49,
          23.56,
          35.625,
          32.68,
          25.27,
          28.0,
          32.775,
          21.755,
          32.395,
          36.575,
          21.755,
          27.93,
          30.02,
          33.55,
          29.355,
          25.8,
          24.32,
          40.375,
          32.11,
          32.3,
          27.28,
          17.86,
          34.8,
          33.4,
          25.555,
          37.1,
          30.875,
          34.1,
          21.47,
          33.3,
          31.255,
          39.14,
          25.08,
          37.29,
          34.6,
          30.21,
          21.945,
          24.97,
          25.3,
          24.42,
          23.94,
          39.82,
          16.815,
          37.18,
          34.43,
          30.305,
          34.485,
          21.8,
          24.605,
          23.3,
          27.83,
          31.065,
          21.66,
          28.215,
          22.705,
          42.13,
          41.8,
          36.96,
          21.28,
          33.11,
          33.33,
          24.3,
          25.7,
          29.4,
          39.82,
          33.63,
          29.83,
          19.8,
          27.3,
          29.3,
          27.72,
          37.9,
          36.385,
          27.645,
          37.715,
          23.18,
          20.52,
          37.1,
          28.05,
          29.9,
          33.345,
          23.76,
          30.5,
          31.065,
          33.3,
          27.5,
          33.915,
          34.485,
          25.52,
          27.61,
          27.06,
          23.7,
          30.4,
          29.735,
          29.925,
          26.79,
          33.33,
          27.645,
          21.66,
          30.03,
          36.3,
          24.32,
          17.29,
          25.9,
          39.4,
          34.32,
          19.95,
          34.9,
          23.21,
          25.745,
          25.175,
          22.0,
          26.125,
          26.51,
          27.455,
          25.745,
          30.36,
          30.875,
          20.8,
          27.8,
          24.605,
          27.72,
          21.85,
          28.12,
          30.2,
          32.2,
          26.315,
          26.695,
          42.9,
          34.7,
          23.655,
          28.31,
          20.6,
          53.13,
          39.71,
          26.315,
          31.065,
          26.695,
          38.83,
          40.37,
          25.935,
          33.535,
          32.87,
          30.03,
          24.225,
          38.6,
          25.74,
          33.4,
          44.7,
          30.97,
          31.92,
          36.85,
          25.8,
          29.07
         ],
         "y0": " ",
         "yaxis": "y",
         "type": "box"
        }
       ],
       "layout": {
        "template": {
         "data": {
          "histogram2dcontour": [
           {
            "type": "histogram2dcontour",
            "colorbar": {
             "outlinewidth": 0,
             "ticks": ""
            },
            "colorscale": [
             [
              0.0,
              "#0d0887"
             ],
             [
              0.1111111111111111,
              "#46039f"
             ],
             [
              0.2222222222222222,
              "#7201a8"
             ],
             [
              0.3333333333333333,
              "#9c179e"
             ],
             [
              0.4444444444444444,
              "#bd3786"
             ],
             [
              0.5555555555555556,
              "#d8576b"
             ],
             [
              0.6666666666666666,
              "#ed7953"
             ],
             [
              0.7777777777777778,
              "#fb9f3a"
             ],
             [
              0.8888888888888888,
              "#fdca26"
             ],
             [
              1.0,
              "#f0f921"
             ]
            ]
           }
          ],
          "choropleth": [
           {
            "type": "choropleth",
            "colorbar": {
             "outlinewidth": 0,
             "ticks": ""
            }
           }
          ],
          "histogram2d": [
           {
            "type": "histogram2d",
            "colorbar": {
             "outlinewidth": 0,
             "ticks": ""
            },
            "colorscale": [
             [
              0.0,
              "#0d0887"
             ],
             [
              0.1111111111111111,
              "#46039f"
             ],
             [
              0.2222222222222222,
              "#7201a8"
             ],
             [
              0.3333333333333333,
              "#9c179e"
             ],
             [
              0.4444444444444444,
              "#bd3786"
             ],
             [
              0.5555555555555556,
              "#d8576b"
             ],
             [
              0.6666666666666666,
              "#ed7953"
             ],
             [
              0.7777777777777778,
              "#fb9f3a"
             ],
             [
              0.8888888888888888,
              "#fdca26"
             ],
             [
              1.0,
              "#f0f921"
             ]
            ]
           }
          ],
          "heatmap": [
           {
            "type": "heatmap",
            "colorbar": {
             "outlinewidth": 0,
             "ticks": ""
            },
            "colorscale": [
             [
              0.0,
              "#0d0887"
             ],
             [
              0.1111111111111111,
              "#46039f"
             ],
             [
              0.2222222222222222,
              "#7201a8"
             ],
             [
              0.3333333333333333,
              "#9c179e"
             ],
             [
              0.4444444444444444,
              "#bd3786"
             ],
             [
              0.5555555555555556,
              "#d8576b"
             ],
             [
              0.6666666666666666,
              "#ed7953"
             ],
             [
              0.7777777777777778,
              "#fb9f3a"
             ],
             [
              0.8888888888888888,
              "#fdca26"
             ],
             [
              1.0,
              "#f0f921"
             ]
            ]
           }
          ],
          "heatmapgl": [
           {
            "type": "heatmapgl",
            "colorbar": {
             "outlinewidth": 0,
             "ticks": ""
            },
            "colorscale": [
             [
              0.0,
              "#0d0887"
             ],
             [
              0.1111111111111111,
              "#46039f"
             ],
             [
              0.2222222222222222,
              "#7201a8"
             ],
             [
              0.3333333333333333,
              "#9c179e"
             ],
             [
              0.4444444444444444,
              "#bd3786"
             ],
             [
              0.5555555555555556,
              "#d8576b"
             ],
             [
              0.6666666666666666,
              "#ed7953"
             ],
             [
              0.7777777777777778,
              "#fb9f3a"
             ],
             [
              0.8888888888888888,
              "#fdca26"
             ],
             [
              1.0,
              "#f0f921"
             ]
            ]
           }
          ],
          "contourcarpet": [
           {
            "type": "contourcarpet",
            "colorbar": {
             "outlinewidth": 0,
             "ticks": ""
            }
           }
          ],
          "contour": [
           {
            "type": "contour",
            "colorbar": {
             "outlinewidth": 0,
             "ticks": ""
            },
            "colorscale": [
             [
              0.0,
              "#0d0887"
             ],
             [
              0.1111111111111111,
              "#46039f"
             ],
             [
              0.2222222222222222,
              "#7201a8"
             ],
             [
              0.3333333333333333,
              "#9c179e"
             ],
             [
              0.4444444444444444,
              "#bd3786"
             ],
             [
              0.5555555555555556,
              "#d8576b"
             ],
             [
              0.6666666666666666,
              "#ed7953"
             ],
             [
              0.7777777777777778,
              "#fb9f3a"
             ],
             [
              0.8888888888888888,
              "#fdca26"
             ],
             [
              1.0,
              "#f0f921"
             ]
            ]
           }
          ],
          "surface": [
           {
            "type": "surface",
            "colorbar": {
             "outlinewidth": 0,
             "ticks": ""
            },
            "colorscale": [
             [
              0.0,
              "#0d0887"
             ],
             [
              0.1111111111111111,
              "#46039f"
             ],
             [
              0.2222222222222222,
              "#7201a8"
             ],
             [
              0.3333333333333333,
              "#9c179e"
             ],
             [
              0.4444444444444444,
              "#bd3786"
             ],
             [
              0.5555555555555556,
              "#d8576b"
             ],
             [
              0.6666666666666666,
              "#ed7953"
             ],
             [
              0.7777777777777778,
              "#fb9f3a"
             ],
             [
              0.8888888888888888,
              "#fdca26"
             ],
             [
              1.0,
              "#f0f921"
             ]
            ]
           }
          ],
          "mesh3d": [
           {
            "type": "mesh3d",
            "colorbar": {
             "outlinewidth": 0,
             "ticks": ""
            }
           }
          ],
          "scatter": [
           {
            "fillpattern": {
             "fillmode": "overlay",
             "size": 10,
             "solidity": 0.2
            },
            "type": "scatter"
           }
          ],
          "parcoords": [
           {
            "type": "parcoords",
            "line": {
             "colorbar": {
              "outlinewidth": 0,
              "ticks": ""
             }
            }
           }
          ],
          "scatterpolargl": [
           {
            "type": "scatterpolargl",
            "marker": {
             "colorbar": {
              "outlinewidth": 0,
              "ticks": ""
             }
            }
           }
          ],
          "bar": [
           {
            "error_x": {
             "color": "#2a3f5f"
            },
            "error_y": {
             "color": "#2a3f5f"
            },
            "marker": {
             "line": {
              "color": "#E5ECF6",
              "width": 0.5
             },
             "pattern": {
              "fillmode": "overlay",
              "size": 10,
              "solidity": 0.2
             }
            },
            "type": "bar"
           }
          ],
          "scattergeo": [
           {
            "type": "scattergeo",
            "marker": {
             "colorbar": {
              "outlinewidth": 0,
              "ticks": ""
             }
            }
           }
          ],
          "scatterpolar": [
           {
            "type": "scatterpolar",
            "marker": {
             "colorbar": {
              "outlinewidth": 0,
              "ticks": ""
             }
            }
           }
          ],
          "histogram": [
           {
            "marker": {
             "pattern": {
              "fillmode": "overlay",
              "size": 10,
              "solidity": 0.2
             }
            },
            "type": "histogram"
           }
          ],
          "scattergl": [
           {
            "type": "scattergl",
            "marker": {
             "colorbar": {
              "outlinewidth": 0,
              "ticks": ""
             }
            }
           }
          ],
          "scatter3d": [
           {
            "type": "scatter3d",
            "line": {
             "colorbar": {
              "outlinewidth": 0,
              "ticks": ""
             }
            },
            "marker": {
             "colorbar": {
              "outlinewidth": 0,
              "ticks": ""
             }
            }
           }
          ],
          "scattermapbox": [
           {
            "type": "scattermapbox",
            "marker": {
             "colorbar": {
              "outlinewidth": 0,
              "ticks": ""
             }
            }
           }
          ],
          "scatterternary": [
           {
            "type": "scatterternary",
            "marker": {
             "colorbar": {
              "outlinewidth": 0,
              "ticks": ""
             }
            }
           }
          ],
          "scattercarpet": [
           {
            "type": "scattercarpet",
            "marker": {
             "colorbar": {
              "outlinewidth": 0,
              "ticks": ""
             }
            }
           }
          ],
          "carpet": [
           {
            "aaxis": {
             "endlinecolor": "#2a3f5f",
             "gridcolor": "white",
             "linecolor": "white",
             "minorgridcolor": "white",
             "startlinecolor": "#2a3f5f"
            },
            "baxis": {
             "endlinecolor": "#2a3f5f",
             "gridcolor": "white",
             "linecolor": "white",
             "minorgridcolor": "white",
             "startlinecolor": "#2a3f5f"
            },
            "type": "carpet"
           }
          ],
          "table": [
           {
            "cells": {
             "fill": {
              "color": "#EBF0F8"
             },
             "line": {
              "color": "white"
             }
            },
            "header": {
             "fill": {
              "color": "#C8D4E3"
             },
             "line": {
              "color": "white"
             }
            },
            "type": "table"
           }
          ],
          "barpolar": [
           {
            "marker": {
             "line": {
              "color": "#E5ECF6",
              "width": 0.5
             },
             "pattern": {
              "fillmode": "overlay",
              "size": 10,
              "solidity": 0.2
             }
            },
            "type": "barpolar"
           }
          ],
          "pie": [
           {
            "automargin": true,
            "type": "pie"
           }
          ]
         },
         "layout": {
          "autotypenumbers": "strict",
          "colorway": [
           "#636efa",
           "#EF553B",
           "#00cc96",
           "#ab63fa",
           "#FFA15A",
           "#19d3f3",
           "#FF6692",
           "#B6E880",
           "#FF97FF",
           "#FECB52"
          ],
          "font": {
           "color": "#2a3f5f"
          },
          "hovermode": "closest",
          "hoverlabel": {
           "align": "left"
          },
          "paper_bgcolor": "white",
          "plot_bgcolor": "#E5ECF6",
          "polar": {
           "bgcolor": "#E5ECF6",
           "angularaxis": {
            "gridcolor": "white",
            "linecolor": "white",
            "ticks": ""
           },
           "radialaxis": {
            "gridcolor": "white",
            "linecolor": "white",
            "ticks": ""
           }
          },
          "ternary": {
           "bgcolor": "#E5ECF6",
           "aaxis": {
            "gridcolor": "white",
            "linecolor": "white",
            "ticks": ""
           },
           "baxis": {
            "gridcolor": "white",
            "linecolor": "white",
            "ticks": ""
           },
           "caxis": {
            "gridcolor": "white",
            "linecolor": "white",
            "ticks": ""
           }
          },
          "coloraxis": {
           "colorbar": {
            "outlinewidth": 0,
            "ticks": ""
           }
          },
          "colorscale": {
           "sequential": [
            [
             0.0,
             "#0d0887"
            ],
            [
             0.1111111111111111,
             "#46039f"
            ],
            [
             0.2222222222222222,
             "#7201a8"
            ],
            [
             0.3333333333333333,
             "#9c179e"
            ],
            [
             0.4444444444444444,
             "#bd3786"
            ],
            [
             0.5555555555555556,
             "#d8576b"
            ],
            [
             0.6666666666666666,
             "#ed7953"
            ],
            [
             0.7777777777777778,
             "#fb9f3a"
            ],
            [
             0.8888888888888888,
             "#fdca26"
            ],
            [
             1.0,
             "#f0f921"
            ]
           ],
           "sequentialminus": [
            [
             0.0,
             "#0d0887"
            ],
            [
             0.1111111111111111,
             "#46039f"
            ],
            [
             0.2222222222222222,
             "#7201a8"
            ],
            [
             0.3333333333333333,
             "#9c179e"
            ],
            [
             0.4444444444444444,
             "#bd3786"
            ],
            [
             0.5555555555555556,
             "#d8576b"
            ],
            [
             0.6666666666666666,
             "#ed7953"
            ],
            [
             0.7777777777777778,
             "#fb9f3a"
            ],
            [
             0.8888888888888888,
             "#fdca26"
            ],
            [
             1.0,
             "#f0f921"
            ]
           ],
           "diverging": [
            [
             0,
             "#8e0152"
            ],
            [
             0.1,
             "#c51b7d"
            ],
            [
             0.2,
             "#de77ae"
            ],
            [
             0.3,
             "#f1b6da"
            ],
            [
             0.4,
             "#fde0ef"
            ],
            [
             0.5,
             "#f7f7f7"
            ],
            [
             0.6,
             "#e6f5d0"
            ],
            [
             0.7,
             "#b8e186"
            ],
            [
             0.8,
             "#7fbc41"
            ],
            [
             0.9,
             "#4d9221"
            ],
            [
             1,
             "#276419"
            ]
           ]
          },
          "xaxis": {
           "gridcolor": "white",
           "linecolor": "white",
           "ticks": "",
           "title": {
            "standoff": 15
           },
           "zerolinecolor": "white",
           "automargin": true,
           "zerolinewidth": 2
          },
          "yaxis": {
           "gridcolor": "white",
           "linecolor": "white",
           "ticks": "",
           "title": {
            "standoff": 15
           },
           "zerolinecolor": "white",
           "automargin": true,
           "zerolinewidth": 2
          },
          "scene": {
           "xaxis": {
            "backgroundcolor": "#E5ECF6",
            "gridcolor": "white",
            "linecolor": "white",
            "showbackground": true,
            "ticks": "",
            "zerolinecolor": "white",
            "gridwidth": 2
           },
           "yaxis": {
            "backgroundcolor": "#E5ECF6",
            "gridcolor": "white",
            "linecolor": "white",
            "showbackground": true,
            "ticks": "",
            "zerolinecolor": "white",
            "gridwidth": 2
           },
           "zaxis": {
            "backgroundcolor": "#E5ECF6",
            "gridcolor": "white",
            "linecolor": "white",
            "showbackground": true,
            "ticks": "",
            "zerolinecolor": "white",
            "gridwidth": 2
           }
          },
          "shapedefaults": {
           "line": {
            "color": "#2a3f5f"
           }
          },
          "annotationdefaults": {
           "arrowcolor": "#2a3f5f",
           "arrowhead": 0,
           "arrowwidth": 1
          },
          "geo": {
           "bgcolor": "white",
           "landcolor": "#E5ECF6",
           "subunitcolor": "white",
           "showland": true,
           "showlakes": true,
           "lakecolor": "white"
          },
          "title": {
           "x": 0.05
          },
          "mapbox": {
           "style": "light"
          }
         }
        },
        "xaxis": {
         "anchor": "y",
         "domain": [
          0.0,
          1.0
         ]
        },
        "yaxis": {
         "anchor": "x",
         "domain": [
          0.0,
          1.0
         ],
         "title": {
          "text": "bmi"
         }
        },
        "legend": {
         "tracegroupgap": 0
        },
        "margin": {
         "t": 60
        },
        "boxmode": "group",
        "title": {
         "text": "Box-plot diagram for bmi",
         "font": {
          "size": 20
         }
        }
       },
       "config": {
        "plotlyServerURL": "https://plot.ly"
       }
      },
      "text/html": "<div>                            <div id=\"61179d17-6ee0-4f5e-9ddb-f5c85a83f99d\" class=\"plotly-graph-div\" style=\"height:525px; width:100%;\"></div>            <script type=\"text/javascript\">                require([\"plotly\"], function(Plotly) {                    window.PLOTLYENV=window.PLOTLYENV || {};                                    if (document.getElementById(\"61179d17-6ee0-4f5e-9ddb-f5c85a83f99d\")) {                    Plotly.newPlot(                        \"61179d17-6ee0-4f5e-9ddb-f5c85a83f99d\",                        [{\"alignmentgroup\":\"True\",\"hovertemplate\":\"bmi=%{y}<extra></extra>\",\"legendgroup\":\"\",\"marker\":{\"color\":\"#636efa\"},\"name\":\"\",\"notched\":false,\"offsetgroup\":\"\",\"orientation\":\"v\",\"showlegend\":false,\"x0\":\" \",\"xaxis\":\"x\",\"y\":[27.9,33.77,33.0,22.705,28.88,25.74,33.44,27.74,29.83,25.84,26.22,26.29,34.4,39.82,42.13,24.6,30.78,23.845,40.3,35.3,36.005,32.4,34.1,31.92,28.025,27.72,23.085,32.775,17.385,36.3,35.6,26.315,28.6,28.31,36.4,20.425,32.965,20.8,36.67,39.9,26.6,36.63,21.78,30.8,37.05,37.3,38.665,34.77,24.53,35.2,35.625,33.63,28.0,34.43,28.69,36.955,31.825,31.68,22.88,37.335,27.36,33.66,24.7,25.935,22.42,28.9,39.1,26.315,36.19,23.98,24.75,28.5,28.1,32.01,27.4,34.01,29.59,35.53,39.805,32.965,26.885,38.285,37.62,41.23,34.8,22.895,31.16,27.2,27.74,26.98,39.49,24.795,29.83,34.77,31.3,37.62,30.8,38.28,19.95,19.3,31.6,25.46,30.115,29.92,27.5,28.025,28.4,30.875,27.94,35.09,33.63,29.7,30.8,35.72,32.205,28.595,49.06,27.94,27.17,23.37,37.1,23.75,28.975,31.35,33.915,28.785,28.3,37.4,17.765,34.7,26.505,22.04,35.9,25.555,28.785,28.05,34.1,25.175,31.9,36.0,22.42,32.49,25.3,29.735,28.69,38.83,30.495,37.73,37.43,28.4,24.13,29.7,37.145,23.37,25.46,39.52,24.42,25.175,35.53,27.83,26.6,36.85,39.6,29.8,29.64,28.215,37.0,33.155,31.825,18.905,41.47,30.3,15.96,34.8,33.345,37.7,27.835,29.2,28.9,33.155,28.595,38.28,19.95,26.41,30.69,41.895,29.92,30.9,32.2,32.11,31.57,26.2,25.74,26.6,34.43,30.59,32.8,28.6,18.05,39.33,32.11,32.23,24.035,36.08,22.3,28.88,26.4,27.74,31.8,41.23,33.0,30.875,28.5,26.73,30.9,37.1,26.6,23.1,29.92,23.21,33.7,33.25,30.8,34.8,24.64,33.88,38.06,41.91,31.635,25.46,36.195,27.83,17.8,27.5,24.51,22.22,26.73,38.39,29.07,38.06,36.67,22.135,26.8,35.3,27.74,30.02,38.06,35.86,20.9,28.975,17.29,32.2,34.21,30.3,31.825,25.365,33.63,40.15,24.415,31.92,25.2,26.84,24.32,36.955,38.06,42.35,19.8,32.395,30.2,25.84,29.37,34.2,37.05,27.455,27.55,26.6,20.615,24.3,31.79,21.56,28.12,40.565,27.645,32.395,31.2,26.62,48.07,26.22,36.765,26.4,33.4,29.64,45.54,28.82,26.8,22.99,27.7,25.41,34.39,28.88,27.55,22.61,37.51,33.0,38.0,33.345,27.5,33.33,34.865,33.06,26.6,24.7,35.97,35.86,31.4,33.25,32.205,32.775,27.645,37.335,25.27,29.64,30.8,40.945,27.2,34.105,23.21,36.48,33.8,36.7,36.385,27.36,31.16,28.785,35.72,34.5,25.74,27.55,32.3,27.72,27.6,30.02,27.55,36.765,41.47,29.26,35.75,33.345,29.92,27.835,23.18,25.6,27.7,35.245,38.28,27.6,43.89,29.83,41.91,20.79,32.3,30.5,21.7,26.4,21.89,30.78,32.3,24.985,32.015,30.4,21.09,22.23,33.155,32.9,33.33,28.31,24.89,40.15,30.115,31.46,17.955,30.685,33.0,43.34,22.135,34.4,39.05,25.365,22.61,30.21,35.625,37.43,31.445,31.35,32.3,19.855,34.4,31.02,25.6,38.17,20.6,47.52,32.965,32.3,20.4,38.38,24.31,23.6,21.12,30.03,17.48,20.235,17.195,23.9,35.15,35.64,34.1,22.6,39.16,26.98,33.88,35.86,32.775,30.59,30.2,24.31,27.265,29.165,16.815,30.4,33.1,20.235,26.9,30.5,28.595,33.11,31.73,28.9,46.75,29.45,32.68,33.5,43.01,36.52,26.695,33.1,29.64,25.65,29.6,38.6,29.6,24.13,23.4,29.735,46.53,37.4,30.14,30.495,39.6,33.0,36.63,30.0,38.095,25.935,25.175,28.38,28.7,33.82,24.32,24.09,32.67,30.115,29.8,33.345,25.1,28.31,28.5,35.625,36.85,32.56,41.325,37.51,31.35,39.5,34.3,31.065,21.47,28.7,38.06,31.16,32.9,25.08,25.08,43.4,25.7,27.93,23.6,28.7,23.98,39.2,34.4,26.03,23.21,30.25,28.93,30.875,31.35,23.75,25.27,28.7,32.11,33.66,22.42,30.4,28.3,35.7,35.31,30.495,31.0,30.875,27.36,44.22,33.915,37.73,26.07,33.88,30.59,25.8,39.425,25.46,42.13,31.73,29.7,36.19,40.48,28.025,38.9,30.2,28.05,31.35,38.0,31.79,36.3,47.41,30.21,25.84,35.435,46.7,28.595,46.2,30.8,28.93,21.4,31.73,41.325,23.8,33.44,34.21,34.105,35.53,19.95,32.68,30.5,44.77,32.12,30.495,40.565,30.59,31.9,40.565,29.1,37.29,43.12,36.86,34.295,27.17,26.84,38.095,30.2,23.465,25.46,30.59,45.43,23.65,20.7,28.27,20.235,30.21,35.91,30.69,29.0,19.57,31.13,21.85,40.26,33.725,29.48,33.25,32.6,37.525,39.16,31.635,25.3,39.05,28.31,34.1,25.175,23.655,26.98,37.8,29.37,34.8,33.155,19.0,33.0,36.63,28.595,25.6,33.11,37.1,31.4,34.1,21.3,33.535,28.785,26.03,28.88,42.46,38.0,38.95,36.1,29.3,35.53,22.705,39.7,38.19,24.51,38.095,26.41,33.66,42.4,28.31,33.915,34.96,35.31,30.78,26.22,23.37,28.5,32.965,42.68,39.6,31.13,36.3,35.2,25.3,42.4,33.155,35.91,28.785,46.53,23.98,31.54,33.66,22.99,38.06,28.7,32.775,32.015,29.81,31.57,31.16,29.7,31.02,43.89,21.375,40.81,31.35,36.1,23.18,17.4,20.3,35.3,24.32,18.5,26.41,26.125,41.69,24.1,31.13,27.36,36.2,32.395,23.655,34.8,40.185,32.3,35.75,33.725,39.27,34.87,44.745,41.47,26.41,29.545,32.9,38.06,28.69,30.495,27.74,35.2,23.54,30.685,40.47,22.6,28.9,22.61,24.32,36.67,33.44,40.66,36.6,37.4,35.4,27.075,39.05,28.405,21.755,40.28,36.08,24.42,21.4,30.1,27.265,32.1,34.77,38.39,23.7,31.73,35.5,24.035,29.15,34.105,26.62,26.41,30.115,27.0,21.755,36.0,30.875,26.4,28.975,37.905,22.77,33.63,27.645,22.8,27.83,37.43,38.17,34.58,35.2,27.1,26.03,25.175,31.825,32.3,29.0,39.7,19.475,36.1,26.7,36.48,28.88,34.2,33.33,32.3,39.805,34.32,28.88,24.4,41.14,35.97,27.6,29.26,27.7,36.955,36.86,22.515,29.92,41.8,27.6,23.18,20.9,31.92,28.5,44.22,22.895,33.1,24.795,26.18,35.97,22.3,42.24,26.51,35.815,41.42,36.575,30.14,25.84,30.8,42.94,21.01,22.515,34.43,31.46,24.225,37.1,26.125,35.53,33.7,17.67,31.13,29.81,24.32,31.825,31.79,28.025,30.78,21.85,33.1,25.84,23.845,34.39,33.82,35.97,31.5,28.31,23.465,31.35,31.1,24.7,32.78,29.81,30.495,32.45,34.2,50.38,24.1,32.775,30.78,32.3,35.53,23.75,23.845,29.6,33.11,24.13,32.23,28.1,47.6,28.0,33.535,19.855,25.4,29.9,37.29,43.7,23.655,24.3,36.2,29.48,24.86,30.1,21.85,28.12,27.1,33.44,28.8,29.5,34.8,27.36,22.135,37.05,26.695,28.93,28.975,30.02,39.5,33.63,26.885,29.04,24.035,38.94,32.11,44.0,20.045,25.555,40.26,22.515,22.515,40.92,27.265,36.85,35.1,29.355,32.585,32.34,39.8,24.6,28.31,31.73,26.695,27.5,24.605,33.99,26.885,22.895,28.2,34.21,25.0,33.2,31.0,35.815,23.2,32.11,23.4,20.1,39.16,34.21,46.53,32.5,25.8,35.3,37.18,27.5,29.735,24.225,26.18,29.48,23.21,46.09,40.185,22.61,39.93,35.8,35.8,34.2,31.255,29.7,18.335,42.9,28.405,30.2,27.835,39.49,30.8,26.79,34.96,36.67,39.615,25.9,35.2,24.795,36.765,27.1,24.795,25.365,25.745,34.32,28.16,23.56,20.235,40.5,35.42,22.895,40.15,29.15,39.995,29.92,25.46,21.375,25.9,30.59,30.115,25.8,30.115,27.645,34.675,20.52,19.8,27.835,31.6,28.27,20.045,23.275,34.1,36.85,36.29,26.885,22.99,32.7,25.8,29.6,19.19,31.73,29.26,28.215,24.985,27.74,22.8,20.13,33.33,32.3,27.6,25.46,24.605,34.2,35.815,32.68,37.0,31.02,36.08,23.32,45.32,34.6,26.03,18.715,31.6,17.29,23.655,35.2,27.93,21.565,38.38,23.0,37.07,30.495,28.88,27.265,28.025,23.085,30.685,25.8,35.245,24.7,25.08,52.58,22.515,30.9,36.955,26.41,29.83,29.8,21.47,27.645,28.9,31.79,39.49,33.82,32.01,27.94,41.14,28.595,25.6,25.3,37.29,42.655,21.66,31.9,37.07,31.445,31.255,28.88,18.335,29.59,32.0,26.03,31.68,33.66,21.78,27.835,19.95,31.5,30.495,18.3,28.975,31.54,47.74,22.1,36.19,29.83,32.7,30.4,33.7,31.35,34.96,33.77,30.875,33.99,19.095,28.6,38.94,36.08,29.8,31.24,29.925,26.22,30.0,20.35,32.3,38.39,25.85,26.315,24.51,32.67,29.64,33.33,35.75,19.95,31.4,38.17,36.86,32.395,42.75,25.08,29.9,35.86,32.8,18.6,23.87,45.9,40.28,18.335,33.82,28.12,25.0,22.23,30.25,32.49,37.07,32.6,24.86,32.34,32.3,32.775,32.8,31.92,21.5,34.1,30.305,36.48,32.56,35.815,27.93,22.135,44.88,23.18,30.59,41.1,34.58,42.13,38.83,28.215,28.31,26.125,40.37,24.6,35.2,34.105,27.36,26.7,41.91,29.26,32.11,27.1,24.13,27.4,34.865,29.81,41.325,29.925,30.3,27.36,28.49,23.56,35.625,32.68,25.27,28.0,32.775,21.755,32.395,36.575,21.755,27.93,30.02,33.55,29.355,25.8,24.32,40.375,32.11,32.3,27.28,17.86,34.8,33.4,25.555,37.1,30.875,34.1,21.47,33.3,31.255,39.14,25.08,37.29,34.6,30.21,21.945,24.97,25.3,24.42,23.94,39.82,16.815,37.18,34.43,30.305,34.485,21.8,24.605,23.3,27.83,31.065,21.66,28.215,22.705,42.13,41.8,36.96,21.28,33.11,33.33,24.3,25.7,29.4,39.82,33.63,29.83,19.8,27.3,29.3,27.72,37.9,36.385,27.645,37.715,23.18,20.52,37.1,28.05,29.9,33.345,23.76,30.5,31.065,33.3,27.5,33.915,34.485,25.52,27.61,27.06,23.7,30.4,29.735,29.925,26.79,33.33,27.645,21.66,30.03,36.3,24.32,17.29,25.9,39.4,34.32,19.95,34.9,23.21,25.745,25.175,22.0,26.125,26.51,27.455,25.745,30.36,30.875,20.8,27.8,24.605,27.72,21.85,28.12,30.2,32.2,26.315,26.695,42.9,34.7,23.655,28.31,20.6,53.13,39.71,26.315,31.065,26.695,38.83,40.37,25.935,33.535,32.87,30.03,24.225,38.6,25.74,33.4,44.7,30.97,31.92,36.85,25.8,29.07],\"y0\":\" \",\"yaxis\":\"y\",\"type\":\"box\"}],                        {\"template\":{\"data\":{\"histogram2dcontour\":[{\"type\":\"histogram2dcontour\",\"colorbar\":{\"outlinewidth\":0,\"ticks\":\"\"},\"colorscale\":[[0.0,\"#0d0887\"],[0.1111111111111111,\"#46039f\"],[0.2222222222222222,\"#7201a8\"],[0.3333333333333333,\"#9c179e\"],[0.4444444444444444,\"#bd3786\"],[0.5555555555555556,\"#d8576b\"],[0.6666666666666666,\"#ed7953\"],[0.7777777777777778,\"#fb9f3a\"],[0.8888888888888888,\"#fdca26\"],[1.0,\"#f0f921\"]]}],\"choropleth\":[{\"type\":\"choropleth\",\"colorbar\":{\"outlinewidth\":0,\"ticks\":\"\"}}],\"histogram2d\":[{\"type\":\"histogram2d\",\"colorbar\":{\"outlinewidth\":0,\"ticks\":\"\"},\"colorscale\":[[0.0,\"#0d0887\"],[0.1111111111111111,\"#46039f\"],[0.2222222222222222,\"#7201a8\"],[0.3333333333333333,\"#9c179e\"],[0.4444444444444444,\"#bd3786\"],[0.5555555555555556,\"#d8576b\"],[0.6666666666666666,\"#ed7953\"],[0.7777777777777778,\"#fb9f3a\"],[0.8888888888888888,\"#fdca26\"],[1.0,\"#f0f921\"]]}],\"heatmap\":[{\"type\":\"heatmap\",\"colorbar\":{\"outlinewidth\":0,\"ticks\":\"\"},\"colorscale\":[[0.0,\"#0d0887\"],[0.1111111111111111,\"#46039f\"],[0.2222222222222222,\"#7201a8\"],[0.3333333333333333,\"#9c179e\"],[0.4444444444444444,\"#bd3786\"],[0.5555555555555556,\"#d8576b\"],[0.6666666666666666,\"#ed7953\"],[0.7777777777777778,\"#fb9f3a\"],[0.8888888888888888,\"#fdca26\"],[1.0,\"#f0f921\"]]}],\"heatmapgl\":[{\"type\":\"heatmapgl\",\"colorbar\":{\"outlinewidth\":0,\"ticks\":\"\"},\"colorscale\":[[0.0,\"#0d0887\"],[0.1111111111111111,\"#46039f\"],[0.2222222222222222,\"#7201a8\"],[0.3333333333333333,\"#9c179e\"],[0.4444444444444444,\"#bd3786\"],[0.5555555555555556,\"#d8576b\"],[0.6666666666666666,\"#ed7953\"],[0.7777777777777778,\"#fb9f3a\"],[0.8888888888888888,\"#fdca26\"],[1.0,\"#f0f921\"]]}],\"contourcarpet\":[{\"type\":\"contourcarpet\",\"colorbar\":{\"outlinewidth\":0,\"ticks\":\"\"}}],\"contour\":[{\"type\":\"contour\",\"colorbar\":{\"outlinewidth\":0,\"ticks\":\"\"},\"colorscale\":[[0.0,\"#0d0887\"],[0.1111111111111111,\"#46039f\"],[0.2222222222222222,\"#7201a8\"],[0.3333333333333333,\"#9c179e\"],[0.4444444444444444,\"#bd3786\"],[0.5555555555555556,\"#d8576b\"],[0.6666666666666666,\"#ed7953\"],[0.7777777777777778,\"#fb9f3a\"],[0.8888888888888888,\"#fdca26\"],[1.0,\"#f0f921\"]]}],\"surface\":[{\"type\":\"surface\",\"colorbar\":{\"outlinewidth\":0,\"ticks\":\"\"},\"colorscale\":[[0.0,\"#0d0887\"],[0.1111111111111111,\"#46039f\"],[0.2222222222222222,\"#7201a8\"],[0.3333333333333333,\"#9c179e\"],[0.4444444444444444,\"#bd3786\"],[0.5555555555555556,\"#d8576b\"],[0.6666666666666666,\"#ed7953\"],[0.7777777777777778,\"#fb9f3a\"],[0.8888888888888888,\"#fdca26\"],[1.0,\"#f0f921\"]]}],\"mesh3d\":[{\"type\":\"mesh3d\",\"colorbar\":{\"outlinewidth\":0,\"ticks\":\"\"}}],\"scatter\":[{\"fillpattern\":{\"fillmode\":\"overlay\",\"size\":10,\"solidity\":0.2},\"type\":\"scatter\"}],\"parcoords\":[{\"type\":\"parcoords\",\"line\":{\"colorbar\":{\"outlinewidth\":0,\"ticks\":\"\"}}}],\"scatterpolargl\":[{\"type\":\"scatterpolargl\",\"marker\":{\"colorbar\":{\"outlinewidth\":0,\"ticks\":\"\"}}}],\"bar\":[{\"error_x\":{\"color\":\"#2a3f5f\"},\"error_y\":{\"color\":\"#2a3f5f\"},\"marker\":{\"line\":{\"color\":\"#E5ECF6\",\"width\":0.5},\"pattern\":{\"fillmode\":\"overlay\",\"size\":10,\"solidity\":0.2}},\"type\":\"bar\"}],\"scattergeo\":[{\"type\":\"scattergeo\",\"marker\":{\"colorbar\":{\"outlinewidth\":0,\"ticks\":\"\"}}}],\"scatterpolar\":[{\"type\":\"scatterpolar\",\"marker\":{\"colorbar\":{\"outlinewidth\":0,\"ticks\":\"\"}}}],\"histogram\":[{\"marker\":{\"pattern\":{\"fillmode\":\"overlay\",\"size\":10,\"solidity\":0.2}},\"type\":\"histogram\"}],\"scattergl\":[{\"type\":\"scattergl\",\"marker\":{\"colorbar\":{\"outlinewidth\":0,\"ticks\":\"\"}}}],\"scatter3d\":[{\"type\":\"scatter3d\",\"line\":{\"colorbar\":{\"outlinewidth\":0,\"ticks\":\"\"}},\"marker\":{\"colorbar\":{\"outlinewidth\":0,\"ticks\":\"\"}}}],\"scattermapbox\":[{\"type\":\"scattermapbox\",\"marker\":{\"colorbar\":{\"outlinewidth\":0,\"ticks\":\"\"}}}],\"scatterternary\":[{\"type\":\"scatterternary\",\"marker\":{\"colorbar\":{\"outlinewidth\":0,\"ticks\":\"\"}}}],\"scattercarpet\":[{\"type\":\"scattercarpet\",\"marker\":{\"colorbar\":{\"outlinewidth\":0,\"ticks\":\"\"}}}],\"carpet\":[{\"aaxis\":{\"endlinecolor\":\"#2a3f5f\",\"gridcolor\":\"white\",\"linecolor\":\"white\",\"minorgridcolor\":\"white\",\"startlinecolor\":\"#2a3f5f\"},\"baxis\":{\"endlinecolor\":\"#2a3f5f\",\"gridcolor\":\"white\",\"linecolor\":\"white\",\"minorgridcolor\":\"white\",\"startlinecolor\":\"#2a3f5f\"},\"type\":\"carpet\"}],\"table\":[{\"cells\":{\"fill\":{\"color\":\"#EBF0F8\"},\"line\":{\"color\":\"white\"}},\"header\":{\"fill\":{\"color\":\"#C8D4E3\"},\"line\":{\"color\":\"white\"}},\"type\":\"table\"}],\"barpolar\":[{\"marker\":{\"line\":{\"color\":\"#E5ECF6\",\"width\":0.5},\"pattern\":{\"fillmode\":\"overlay\",\"size\":10,\"solidity\":0.2}},\"type\":\"barpolar\"}],\"pie\":[{\"automargin\":true,\"type\":\"pie\"}]},\"layout\":{\"autotypenumbers\":\"strict\",\"colorway\":[\"#636efa\",\"#EF553B\",\"#00cc96\",\"#ab63fa\",\"#FFA15A\",\"#19d3f3\",\"#FF6692\",\"#B6E880\",\"#FF97FF\",\"#FECB52\"],\"font\":{\"color\":\"#2a3f5f\"},\"hovermode\":\"closest\",\"hoverlabel\":{\"align\":\"left\"},\"paper_bgcolor\":\"white\",\"plot_bgcolor\":\"#E5ECF6\",\"polar\":{\"bgcolor\":\"#E5ECF6\",\"angularaxis\":{\"gridcolor\":\"white\",\"linecolor\":\"white\",\"ticks\":\"\"},\"radialaxis\":{\"gridcolor\":\"white\",\"linecolor\":\"white\",\"ticks\":\"\"}},\"ternary\":{\"bgcolor\":\"#E5ECF6\",\"aaxis\":{\"gridcolor\":\"white\",\"linecolor\":\"white\",\"ticks\":\"\"},\"baxis\":{\"gridcolor\":\"white\",\"linecolor\":\"white\",\"ticks\":\"\"},\"caxis\":{\"gridcolor\":\"white\",\"linecolor\":\"white\",\"ticks\":\"\"}},\"coloraxis\":{\"colorbar\":{\"outlinewidth\":0,\"ticks\":\"\"}},\"colorscale\":{\"sequential\":[[0.0,\"#0d0887\"],[0.1111111111111111,\"#46039f\"],[0.2222222222222222,\"#7201a8\"],[0.3333333333333333,\"#9c179e\"],[0.4444444444444444,\"#bd3786\"],[0.5555555555555556,\"#d8576b\"],[0.6666666666666666,\"#ed7953\"],[0.7777777777777778,\"#fb9f3a\"],[0.8888888888888888,\"#fdca26\"],[1.0,\"#f0f921\"]],\"sequentialminus\":[[0.0,\"#0d0887\"],[0.1111111111111111,\"#46039f\"],[0.2222222222222222,\"#7201a8\"],[0.3333333333333333,\"#9c179e\"],[0.4444444444444444,\"#bd3786\"],[0.5555555555555556,\"#d8576b\"],[0.6666666666666666,\"#ed7953\"],[0.7777777777777778,\"#fb9f3a\"],[0.8888888888888888,\"#fdca26\"],[1.0,\"#f0f921\"]],\"diverging\":[[0,\"#8e0152\"],[0.1,\"#c51b7d\"],[0.2,\"#de77ae\"],[0.3,\"#f1b6da\"],[0.4,\"#fde0ef\"],[0.5,\"#f7f7f7\"],[0.6,\"#e6f5d0\"],[0.7,\"#b8e186\"],[0.8,\"#7fbc41\"],[0.9,\"#4d9221\"],[1,\"#276419\"]]},\"xaxis\":{\"gridcolor\":\"white\",\"linecolor\":\"white\",\"ticks\":\"\",\"title\":{\"standoff\":15},\"zerolinecolor\":\"white\",\"automargin\":true,\"zerolinewidth\":2},\"yaxis\":{\"gridcolor\":\"white\",\"linecolor\":\"white\",\"ticks\":\"\",\"title\":{\"standoff\":15},\"zerolinecolor\":\"white\",\"automargin\":true,\"zerolinewidth\":2},\"scene\":{\"xaxis\":{\"backgroundcolor\":\"#E5ECF6\",\"gridcolor\":\"white\",\"linecolor\":\"white\",\"showbackground\":true,\"ticks\":\"\",\"zerolinecolor\":\"white\",\"gridwidth\":2},\"yaxis\":{\"backgroundcolor\":\"#E5ECF6\",\"gridcolor\":\"white\",\"linecolor\":\"white\",\"showbackground\":true,\"ticks\":\"\",\"zerolinecolor\":\"white\",\"gridwidth\":2},\"zaxis\":{\"backgroundcolor\":\"#E5ECF6\",\"gridcolor\":\"white\",\"linecolor\":\"white\",\"showbackground\":true,\"ticks\":\"\",\"zerolinecolor\":\"white\",\"gridwidth\":2}},\"shapedefaults\":{\"line\":{\"color\":\"#2a3f5f\"}},\"annotationdefaults\":{\"arrowcolor\":\"#2a3f5f\",\"arrowhead\":0,\"arrowwidth\":1},\"geo\":{\"bgcolor\":\"white\",\"landcolor\":\"#E5ECF6\",\"subunitcolor\":\"white\",\"showland\":true,\"showlakes\":true,\"lakecolor\":\"white\"},\"title\":{\"x\":0.05},\"mapbox\":{\"style\":\"light\"}}},\"xaxis\":{\"anchor\":\"y\",\"domain\":[0.0,1.0]},\"yaxis\":{\"anchor\":\"x\",\"domain\":[0.0,1.0],\"title\":{\"text\":\"bmi\"}},\"legend\":{\"tracegroupgap\":0},\"margin\":{\"t\":60},\"boxmode\":\"group\",\"title\":{\"text\":\"Box-plot diagram for bmi\",\"font\":{\"size\":20}}},                        {\"responsive\": true}                    ).then(function(){\n                            \nvar gd = document.getElementById('61179d17-6ee0-4f5e-9ddb-f5c85a83f99d');\nvar x = new MutationObserver(function (mutations, observer) {{\n        var display = window.getComputedStyle(gd).display;\n        if (!display || display === 'none') {{\n            console.log([gd, 'removed!']);\n            Plotly.purge(gd);\n            observer.disconnect();\n        }}\n}});\n\n// Listen for the removal of the full notebook cells\nvar notebookContainer = gd.closest('#notebook-container');\nif (notebookContainer) {{\n    x.observe(notebookContainer, {childList: true});\n}}\n\n// Listen for the clearing of the current output cell\nvar outputEl = gd.closest('.output');\nif (outputEl) {{\n    x.observe(outputEl, {childList: true});\n}}\n\n                        })                };                });            </script>        </div>"
     },
     "metadata": {},
     "output_type": "display_data"
    },
    {
     "data": {
      "application/vnd.plotly.v1+json": {
       "data": [
        {
         "alignmentgroup": "True",
         "hovertemplate": "children=%{y}<extra></extra>",
         "legendgroup": "",
         "marker": {
          "color": "#636efa"
         },
         "name": "",
         "notched": false,
         "offsetgroup": "",
         "orientation": "v",
         "showlegend": false,
         "x0": " ",
         "xaxis": "x",
         "y": [
          0,
          1,
          3,
          0,
          0,
          0,
          1,
          3,
          2,
          0,
          0,
          0,
          0,
          0,
          0,
          1,
          1,
          0,
          0,
          0,
          0,
          1,
          0,
          1,
          2,
          3,
          0,
          2,
          1,
          2,
          0,
          0,
          5,
          0,
          1,
          0,
          3,
          0,
          1,
          0,
          0,
          2,
          1,
          2,
          1,
          0,
          2,
          0,
          0,
          1,
          0,
          2,
          1,
          0,
          3,
          2,
          2,
          2,
          1,
          2,
          3,
          4,
          1,
          1,
          0,
          0,
          2,
          1,
          0,
          3,
          0,
          5,
          3,
          1,
          2,
          0,
          1,
          0,
          0,
          0,
          1,
          0,
          1,
          4,
          2,
          2,
          0,
          0,
          0,
          0,
          0,
          1,
          3,
          2,
          2,
          1,
          3,
          0,
          0,
          0,
          0,
          0,
          0,
          3,
          1,
          1,
          1,
          2,
          0,
          0,
          1,
          2,
          0,
          0,
          3,
          0,
          0,
          1,
          0,
          2,
          2,
          0,
          0,
          1,
          3,
          0,
          0,
          0,
          2,
          2,
          0,
          0,
          2,
          0,
          0,
          0,
          0,
          0,
          3,
          0,
          2,
          1,
          2,
          2,
          3,
          3,
          3,
          1,
          1,
          1,
          1,
          0,
          3,
          0,
          1,
          0,
          0,
          0,
          0,
          3,
          0,
          0,
          1,
          2,
          0,
          4,
          5,
          3,
          1,
          3,
          0,
          0,
          0,
          1,
          0,
          0,
          2,
          1,
          2,
          3,
          0,
          0,
          3,
          0,
          2,
          3,
          2,
          3,
          1,
          2,
          0,
          0,
          0,
          1,
          0,
          0,
          0,
          2,
          0,
          0,
          0,
          1,
          0,
          0,
          0,
          1,
          0,
          2,
          0,
          1,
          1,
          4,
          2,
          1,
          2,
          2,
          0,
          0,
          1,
          0,
          1,
          0,
          3,
          0,
          0,
          3,
          0,
          0,
          1,
          2,
          1,
          3,
          0,
          1,
          2,
          2,
          0,
          2,
          0,
          1,
          2,
          1,
          1,
          3,
          0,
          0,
          0,
          0,
          1,
          1,
          2,
          2,
          2,
          3,
          0,
          3,
          0,
          0,
          4,
          0,
          0,
          1,
          3,
          0,
          3,
          3,
          1,
          3,
          1,
          1,
          1,
          2,
          2,
          1,
          0,
          2,
          2,
          0,
          2,
          1,
          1,
          3,
          1,
          1,
          0,
          1,
          2,
          0,
          1,
          3,
          0,
          1,
          2,
          0,
          3,
          0,
          0,
          1,
          3,
          1,
          3,
          3,
          2,
          2,
          2,
          2,
          2,
          1,
          0,
          2,
          0,
          0,
          3,
          0,
          0,
          0,
          0,
          0,
          0,
          1,
          1,
          4,
          0,
          0,
          0,
          1,
          1,
          2,
          1,
          0,
          1,
          0,
          0,
          0,
          2,
          0,
          0,
          1,
          1,
          1,
          0,
          0,
          0,
          0,
          4,
          3,
          2,
          1,
          1,
          0,
          0,
          0,
          0,
          0,
          0,
          0,
          3,
          3,
          0,
          0,
          2,
          1,
          0,
          1,
          2,
          1,
          3,
          2,
          2,
          3,
          0,
          0,
          1,
          2,
          0,
          0,
          3,
          0,
          3,
          1,
          2,
          0,
          0,
          2,
          2,
          0,
          0,
          2,
          0,
          3,
          4,
          0,
          1,
          1,
          2,
          0,
          3,
          0,
          2,
          0,
          0,
          1,
          0,
          3,
          0,
          2,
          0,
          1,
          3,
          1,
          0,
          1,
          2,
          5,
          0,
          1,
          0,
          2,
          1,
          0,
          0,
          0,
          1,
          0,
          2,
          5,
          1,
          0,
          1,
          3,
          0,
          2,
          0,
          0,
          1,
          3,
          0,
          3,
          5,
          0,
          1,
          0,
          0,
          1,
          1,
          0,
          0,
          0,
          0,
          1,
          4,
          1,
          0,
          0,
          2,
          0,
          2,
          0,
          0,
          3,
          3,
          0,
          2,
          0,
          0,
          1,
          1,
          2,
          1,
          1,
          0,
          0,
          0,
          0,
          3,
          1,
          0,
          0,
          0,
          0,
          3,
          2,
          0,
          1,
          3,
          0,
          3,
          0,
          0,
          1,
          0,
          0,
          0,
          0,
          4,
          0,
          2,
          2,
          2,
          0,
          0,
          0,
          1,
          0,
          1,
          3,
          1,
          2,
          0,
          0,
          1,
          0,
          0,
          0,
          1,
          0,
          1,
          2,
          1,
          0,
          0,
          0,
          0,
          0,
          1,
          0,
          2,
          1,
          1,
          0,
          1,
          0,
          2,
          0,
          0,
          1,
          3,
          2,
          1,
          0,
          3,
          2,
          0,
          0,
          0,
          2,
          0,
          2,
          0,
          0,
          0,
          0,
          0,
          2,
          0,
          2,
          1,
          0,
          3,
          0,
          2,
          0,
          0,
          1,
          2,
          0,
          1,
          2,
          5,
          2,
          0,
          1,
          2,
          1,
          2,
          0,
          0,
          1,
          1,
          0,
          1,
          0,
          2,
          1,
          0,
          1,
          3,
          1,
          0,
          1,
          0,
          1,
          2,
          1,
          0,
          1,
          2,
          1,
          2,
          2,
          0,
          0,
          0,
          3,
          0,
          0,
          0,
          0,
          2,
          2,
          1,
          2,
          0,
          3,
          0,
          1,
          0,
          2,
          0,
          0,
          1,
          4,
          1,
          0,
          0,
          0,
          3,
          1,
          0,
          0,
          1,
          0,
          0,
          2,
          1,
          0,
          1,
          2,
          0,
          4,
          5,
          3,
          0,
          3,
          2,
          3,
          1,
          3,
          0,
          0,
          2,
          1,
          0,
          2,
          0,
          2,
          1,
          2,
          1,
          4,
          3,
          1,
          1,
          0,
          0,
          2,
          1,
          2,
          0,
          1,
          3,
          0,
          0,
          0,
          2,
          0,
          3,
          3,
          3,
          2,
          1,
          0,
          2,
          0,
          1,
          2,
          2,
          0,
          1,
          1,
          0,
          1,
          1,
          0,
          1,
          0,
          2,
          1,
          0,
          2,
          0,
          0,
          0,
          1,
          1,
          2,
          0,
          3,
          3,
          0,
          1,
          2,
          2,
          0,
          0,
          0,
          1,
          1,
          2,
          0,
          0,
          3,
          0,
          0,
          1,
          3,
          1,
          1,
          0,
          1,
          3,
          1,
          3,
          1,
          3,
          1,
          0,
          2,
          3,
          2,
          2,
          0,
          0,
          0,
          0,
          1,
          2,
          0,
          1,
          0,
          0,
          0,
          0,
          0,
          4,
          2,
          3,
          0,
          3,
          0,
          2,
          1,
          1,
          0,
          2,
          0,
          1,
          1,
          0,
          2,
          3,
          2,
          0,
          0,
          2,
          3,
          2,
          0,
          3,
          0,
          3,
          0,
          1,
          1,
          1,
          3,
          0,
          0,
          3,
          0,
          0,
          0,
          0,
          0,
          2,
          0,
          2,
          1,
          0,
          0,
          1,
          0,
          1,
          0,
          0,
          0,
          1,
          0,
          0,
          1,
          3,
          3,
          2,
          2,
          2,
          0,
          0,
          3,
          1,
          0,
          1,
          0,
          0,
          2,
          0,
          2,
          2,
          1,
          3,
          1,
          0,
          0,
          2,
          0,
          1,
          2,
          0,
          0,
          2,
          0,
          0,
          0,
          2,
          0,
          0,
          0,
          1,
          1,
          0,
          0,
          0,
          2,
          0,
          2,
          3,
          0,
          0,
          0,
          1,
          0,
          2,
          3,
          2,
          0,
          0,
          2,
          0,
          1,
          0,
          3,
          0,
          1,
          0,
          1,
          3,
          0,
          1,
          5,
          1,
          2,
          3,
          1,
          0,
          3,
          4,
          1,
          0,
          0,
          0,
          1,
          0,
          4,
          0,
          2,
          0,
          0,
          2,
          1,
          0,
          0,
          0,
          0,
          3,
          0,
          0,
          2,
          3,
          1,
          3,
          0,
          1,
          0,
          3,
          1,
          2,
          0,
          0,
          0,
          0,
          1,
          0,
          0,
          1,
          0,
          0,
          2,
          2,
          1,
          0,
          1,
          1,
          1,
          5,
          0,
          2,
          0,
          2,
          5,
          2,
          0,
          0,
          1,
          0,
          0,
          0,
          1,
          2,
          1,
          0,
          3,
          0,
          2,
          1,
          2,
          1,
          1,
          1,
          1,
          1,
          1,
          1,
          0,
          1,
          3,
          2,
          1,
          2,
          1,
          2,
          5,
          3,
          0,
          0,
          0,
          0,
          0,
          0,
          1,
          3,
          0,
          1,
          0,
          3,
          1,
          5,
          1,
          3,
          1,
          0,
          0,
          1,
          2,
          2,
          1,
          3,
          3,
          3,
          0,
          3,
          0,
          2,
          0,
          0,
          0,
          1,
          2,
          2,
          3,
          2,
          1,
          0,
          2,
          4,
          1,
          0,
          0,
          1,
          2,
          3,
          2,
          0,
          3,
          1,
          1,
          1,
          0,
          1,
          0,
          0,
          2,
          1,
          0,
          0,
          0,
          0,
          3,
          2,
          1,
          0,
          2,
          0,
          0,
          0,
          0,
          1,
          2,
          0,
          1,
          1,
          0,
          1,
          0,
          1,
          3,
          0,
          0,
          0,
          0,
          0,
          1,
          0,
          1,
          1,
          3,
          4,
          1,
          2,
          0,
          1,
          1,
          1,
          0,
          0,
          2,
          0,
          1,
          1,
          0,
          0,
          3,
          2,
          1,
          1,
          1,
          2,
          5,
          0,
          0,
          1,
          0,
          0,
          0,
          3,
          0,
          4,
          4,
          2,
          0,
          0,
          1,
          2,
          3,
          1,
          0,
          0,
          0,
          0,
          2,
          1,
          3,
          1,
          3,
          3,
          3,
          0,
          1,
          5,
          2,
          1,
          3,
          0,
          2,
          3,
          1,
          1,
          0,
          0,
          2,
          1,
          0,
          5,
          2,
          0,
          0,
          0,
          3,
          1,
          0,
          0,
          0,
          1,
          3,
          0,
          2,
          2,
          3,
          0,
          0,
          1,
          0,
          0,
          0,
          3,
          1,
          4,
          3,
          0,
          2,
          0,
          0,
          1,
          2,
          1,
          0,
          1,
          0,
          0,
          2,
          2,
          1,
          1,
          2,
          0,
          2,
          2,
          0,
          1,
          1,
          0,
          0,
          1,
          0,
          0,
          1,
          1,
          2,
          3,
          0,
          1,
          0,
          2,
          1,
          1,
          0,
          0,
          3,
          0,
          0,
          1,
          2,
          2,
          2,
          0,
          1,
          3,
          1,
          2,
          2,
          1,
          1,
          1,
          2,
          0,
          2,
          1,
          0,
          0,
          2,
          1,
          3,
          1,
          2,
          0,
          0,
          1,
          1,
          2,
          2,
          0,
          0,
          3,
          0,
          3,
          0,
          2,
          0,
          0,
          0,
          3,
          1,
          2,
          2,
          3,
          0,
          0,
          5,
          3,
          4,
          0,
          1,
          0,
          0,
          0,
          4,
          0,
          0,
          3,
          1,
          3,
          0,
          0,
          1,
          1,
          1,
          2,
          0,
          0,
          0,
          0,
          3,
          1,
          0,
          5,
          1,
          0,
          0,
          0,
          0,
          1,
          2,
          0,
          2,
          0,
          1,
          1,
          0,
          0,
          1,
          2,
          1,
          2,
          0,
          0,
          3,
          0,
          1,
          0,
          2,
          2,
          1,
          0,
          3,
          1,
          0,
          2,
          0,
          0,
          4,
          0,
          2,
          1,
          0,
          1,
          2,
          3,
          1,
          0,
          0,
          4,
          2,
          3,
          0,
          0,
          2,
          1,
          0,
          0,
          1,
          2,
          2,
          2,
          0,
          3,
          3,
          0,
          0,
          0,
          0
         ],
         "y0": " ",
         "yaxis": "y",
         "type": "box"
        }
       ],
       "layout": {
        "template": {
         "data": {
          "histogram2dcontour": [
           {
            "type": "histogram2dcontour",
            "colorbar": {
             "outlinewidth": 0,
             "ticks": ""
            },
            "colorscale": [
             [
              0.0,
              "#0d0887"
             ],
             [
              0.1111111111111111,
              "#46039f"
             ],
             [
              0.2222222222222222,
              "#7201a8"
             ],
             [
              0.3333333333333333,
              "#9c179e"
             ],
             [
              0.4444444444444444,
              "#bd3786"
             ],
             [
              0.5555555555555556,
              "#d8576b"
             ],
             [
              0.6666666666666666,
              "#ed7953"
             ],
             [
              0.7777777777777778,
              "#fb9f3a"
             ],
             [
              0.8888888888888888,
              "#fdca26"
             ],
             [
              1.0,
              "#f0f921"
             ]
            ]
           }
          ],
          "choropleth": [
           {
            "type": "choropleth",
            "colorbar": {
             "outlinewidth": 0,
             "ticks": ""
            }
           }
          ],
          "histogram2d": [
           {
            "type": "histogram2d",
            "colorbar": {
             "outlinewidth": 0,
             "ticks": ""
            },
            "colorscale": [
             [
              0.0,
              "#0d0887"
             ],
             [
              0.1111111111111111,
              "#46039f"
             ],
             [
              0.2222222222222222,
              "#7201a8"
             ],
             [
              0.3333333333333333,
              "#9c179e"
             ],
             [
              0.4444444444444444,
              "#bd3786"
             ],
             [
              0.5555555555555556,
              "#d8576b"
             ],
             [
              0.6666666666666666,
              "#ed7953"
             ],
             [
              0.7777777777777778,
              "#fb9f3a"
             ],
             [
              0.8888888888888888,
              "#fdca26"
             ],
             [
              1.0,
              "#f0f921"
             ]
            ]
           }
          ],
          "heatmap": [
           {
            "type": "heatmap",
            "colorbar": {
             "outlinewidth": 0,
             "ticks": ""
            },
            "colorscale": [
             [
              0.0,
              "#0d0887"
             ],
             [
              0.1111111111111111,
              "#46039f"
             ],
             [
              0.2222222222222222,
              "#7201a8"
             ],
             [
              0.3333333333333333,
              "#9c179e"
             ],
             [
              0.4444444444444444,
              "#bd3786"
             ],
             [
              0.5555555555555556,
              "#d8576b"
             ],
             [
              0.6666666666666666,
              "#ed7953"
             ],
             [
              0.7777777777777778,
              "#fb9f3a"
             ],
             [
              0.8888888888888888,
              "#fdca26"
             ],
             [
              1.0,
              "#f0f921"
             ]
            ]
           }
          ],
          "heatmapgl": [
           {
            "type": "heatmapgl",
            "colorbar": {
             "outlinewidth": 0,
             "ticks": ""
            },
            "colorscale": [
             [
              0.0,
              "#0d0887"
             ],
             [
              0.1111111111111111,
              "#46039f"
             ],
             [
              0.2222222222222222,
              "#7201a8"
             ],
             [
              0.3333333333333333,
              "#9c179e"
             ],
             [
              0.4444444444444444,
              "#bd3786"
             ],
             [
              0.5555555555555556,
              "#d8576b"
             ],
             [
              0.6666666666666666,
              "#ed7953"
             ],
             [
              0.7777777777777778,
              "#fb9f3a"
             ],
             [
              0.8888888888888888,
              "#fdca26"
             ],
             [
              1.0,
              "#f0f921"
             ]
            ]
           }
          ],
          "contourcarpet": [
           {
            "type": "contourcarpet",
            "colorbar": {
             "outlinewidth": 0,
             "ticks": ""
            }
           }
          ],
          "contour": [
           {
            "type": "contour",
            "colorbar": {
             "outlinewidth": 0,
             "ticks": ""
            },
            "colorscale": [
             [
              0.0,
              "#0d0887"
             ],
             [
              0.1111111111111111,
              "#46039f"
             ],
             [
              0.2222222222222222,
              "#7201a8"
             ],
             [
              0.3333333333333333,
              "#9c179e"
             ],
             [
              0.4444444444444444,
              "#bd3786"
             ],
             [
              0.5555555555555556,
              "#d8576b"
             ],
             [
              0.6666666666666666,
              "#ed7953"
             ],
             [
              0.7777777777777778,
              "#fb9f3a"
             ],
             [
              0.8888888888888888,
              "#fdca26"
             ],
             [
              1.0,
              "#f0f921"
             ]
            ]
           }
          ],
          "surface": [
           {
            "type": "surface",
            "colorbar": {
             "outlinewidth": 0,
             "ticks": ""
            },
            "colorscale": [
             [
              0.0,
              "#0d0887"
             ],
             [
              0.1111111111111111,
              "#46039f"
             ],
             [
              0.2222222222222222,
              "#7201a8"
             ],
             [
              0.3333333333333333,
              "#9c179e"
             ],
             [
              0.4444444444444444,
              "#bd3786"
             ],
             [
              0.5555555555555556,
              "#d8576b"
             ],
             [
              0.6666666666666666,
              "#ed7953"
             ],
             [
              0.7777777777777778,
              "#fb9f3a"
             ],
             [
              0.8888888888888888,
              "#fdca26"
             ],
             [
              1.0,
              "#f0f921"
             ]
            ]
           }
          ],
          "mesh3d": [
           {
            "type": "mesh3d",
            "colorbar": {
             "outlinewidth": 0,
             "ticks": ""
            }
           }
          ],
          "scatter": [
           {
            "fillpattern": {
             "fillmode": "overlay",
             "size": 10,
             "solidity": 0.2
            },
            "type": "scatter"
           }
          ],
          "parcoords": [
           {
            "type": "parcoords",
            "line": {
             "colorbar": {
              "outlinewidth": 0,
              "ticks": ""
             }
            }
           }
          ],
          "scatterpolargl": [
           {
            "type": "scatterpolargl",
            "marker": {
             "colorbar": {
              "outlinewidth": 0,
              "ticks": ""
             }
            }
           }
          ],
          "bar": [
           {
            "error_x": {
             "color": "#2a3f5f"
            },
            "error_y": {
             "color": "#2a3f5f"
            },
            "marker": {
             "line": {
              "color": "#E5ECF6",
              "width": 0.5
             },
             "pattern": {
              "fillmode": "overlay",
              "size": 10,
              "solidity": 0.2
             }
            },
            "type": "bar"
           }
          ],
          "scattergeo": [
           {
            "type": "scattergeo",
            "marker": {
             "colorbar": {
              "outlinewidth": 0,
              "ticks": ""
             }
            }
           }
          ],
          "scatterpolar": [
           {
            "type": "scatterpolar",
            "marker": {
             "colorbar": {
              "outlinewidth": 0,
              "ticks": ""
             }
            }
           }
          ],
          "histogram": [
           {
            "marker": {
             "pattern": {
              "fillmode": "overlay",
              "size": 10,
              "solidity": 0.2
             }
            },
            "type": "histogram"
           }
          ],
          "scattergl": [
           {
            "type": "scattergl",
            "marker": {
             "colorbar": {
              "outlinewidth": 0,
              "ticks": ""
             }
            }
           }
          ],
          "scatter3d": [
           {
            "type": "scatter3d",
            "line": {
             "colorbar": {
              "outlinewidth": 0,
              "ticks": ""
             }
            },
            "marker": {
             "colorbar": {
              "outlinewidth": 0,
              "ticks": ""
             }
            }
           }
          ],
          "scattermapbox": [
           {
            "type": "scattermapbox",
            "marker": {
             "colorbar": {
              "outlinewidth": 0,
              "ticks": ""
             }
            }
           }
          ],
          "scatterternary": [
           {
            "type": "scatterternary",
            "marker": {
             "colorbar": {
              "outlinewidth": 0,
              "ticks": ""
             }
            }
           }
          ],
          "scattercarpet": [
           {
            "type": "scattercarpet",
            "marker": {
             "colorbar": {
              "outlinewidth": 0,
              "ticks": ""
             }
            }
           }
          ],
          "carpet": [
           {
            "aaxis": {
             "endlinecolor": "#2a3f5f",
             "gridcolor": "white",
             "linecolor": "white",
             "minorgridcolor": "white",
             "startlinecolor": "#2a3f5f"
            },
            "baxis": {
             "endlinecolor": "#2a3f5f",
             "gridcolor": "white",
             "linecolor": "white",
             "minorgridcolor": "white",
             "startlinecolor": "#2a3f5f"
            },
            "type": "carpet"
           }
          ],
          "table": [
           {
            "cells": {
             "fill": {
              "color": "#EBF0F8"
             },
             "line": {
              "color": "white"
             }
            },
            "header": {
             "fill": {
              "color": "#C8D4E3"
             },
             "line": {
              "color": "white"
             }
            },
            "type": "table"
           }
          ],
          "barpolar": [
           {
            "marker": {
             "line": {
              "color": "#E5ECF6",
              "width": 0.5
             },
             "pattern": {
              "fillmode": "overlay",
              "size": 10,
              "solidity": 0.2
             }
            },
            "type": "barpolar"
           }
          ],
          "pie": [
           {
            "automargin": true,
            "type": "pie"
           }
          ]
         },
         "layout": {
          "autotypenumbers": "strict",
          "colorway": [
           "#636efa",
           "#EF553B",
           "#00cc96",
           "#ab63fa",
           "#FFA15A",
           "#19d3f3",
           "#FF6692",
           "#B6E880",
           "#FF97FF",
           "#FECB52"
          ],
          "font": {
           "color": "#2a3f5f"
          },
          "hovermode": "closest",
          "hoverlabel": {
           "align": "left"
          },
          "paper_bgcolor": "white",
          "plot_bgcolor": "#E5ECF6",
          "polar": {
           "bgcolor": "#E5ECF6",
           "angularaxis": {
            "gridcolor": "white",
            "linecolor": "white",
            "ticks": ""
           },
           "radialaxis": {
            "gridcolor": "white",
            "linecolor": "white",
            "ticks": ""
           }
          },
          "ternary": {
           "bgcolor": "#E5ECF6",
           "aaxis": {
            "gridcolor": "white",
            "linecolor": "white",
            "ticks": ""
           },
           "baxis": {
            "gridcolor": "white",
            "linecolor": "white",
            "ticks": ""
           },
           "caxis": {
            "gridcolor": "white",
            "linecolor": "white",
            "ticks": ""
           }
          },
          "coloraxis": {
           "colorbar": {
            "outlinewidth": 0,
            "ticks": ""
           }
          },
          "colorscale": {
           "sequential": [
            [
             0.0,
             "#0d0887"
            ],
            [
             0.1111111111111111,
             "#46039f"
            ],
            [
             0.2222222222222222,
             "#7201a8"
            ],
            [
             0.3333333333333333,
             "#9c179e"
            ],
            [
             0.4444444444444444,
             "#bd3786"
            ],
            [
             0.5555555555555556,
             "#d8576b"
            ],
            [
             0.6666666666666666,
             "#ed7953"
            ],
            [
             0.7777777777777778,
             "#fb9f3a"
            ],
            [
             0.8888888888888888,
             "#fdca26"
            ],
            [
             1.0,
             "#f0f921"
            ]
           ],
           "sequentialminus": [
            [
             0.0,
             "#0d0887"
            ],
            [
             0.1111111111111111,
             "#46039f"
            ],
            [
             0.2222222222222222,
             "#7201a8"
            ],
            [
             0.3333333333333333,
             "#9c179e"
            ],
            [
             0.4444444444444444,
             "#bd3786"
            ],
            [
             0.5555555555555556,
             "#d8576b"
            ],
            [
             0.6666666666666666,
             "#ed7953"
            ],
            [
             0.7777777777777778,
             "#fb9f3a"
            ],
            [
             0.8888888888888888,
             "#fdca26"
            ],
            [
             1.0,
             "#f0f921"
            ]
           ],
           "diverging": [
            [
             0,
             "#8e0152"
            ],
            [
             0.1,
             "#c51b7d"
            ],
            [
             0.2,
             "#de77ae"
            ],
            [
             0.3,
             "#f1b6da"
            ],
            [
             0.4,
             "#fde0ef"
            ],
            [
             0.5,
             "#f7f7f7"
            ],
            [
             0.6,
             "#e6f5d0"
            ],
            [
             0.7,
             "#b8e186"
            ],
            [
             0.8,
             "#7fbc41"
            ],
            [
             0.9,
             "#4d9221"
            ],
            [
             1,
             "#276419"
            ]
           ]
          },
          "xaxis": {
           "gridcolor": "white",
           "linecolor": "white",
           "ticks": "",
           "title": {
            "standoff": 15
           },
           "zerolinecolor": "white",
           "automargin": true,
           "zerolinewidth": 2
          },
          "yaxis": {
           "gridcolor": "white",
           "linecolor": "white",
           "ticks": "",
           "title": {
            "standoff": 15
           },
           "zerolinecolor": "white",
           "automargin": true,
           "zerolinewidth": 2
          },
          "scene": {
           "xaxis": {
            "backgroundcolor": "#E5ECF6",
            "gridcolor": "white",
            "linecolor": "white",
            "showbackground": true,
            "ticks": "",
            "zerolinecolor": "white",
            "gridwidth": 2
           },
           "yaxis": {
            "backgroundcolor": "#E5ECF6",
            "gridcolor": "white",
            "linecolor": "white",
            "showbackground": true,
            "ticks": "",
            "zerolinecolor": "white",
            "gridwidth": 2
           },
           "zaxis": {
            "backgroundcolor": "#E5ECF6",
            "gridcolor": "white",
            "linecolor": "white",
            "showbackground": true,
            "ticks": "",
            "zerolinecolor": "white",
            "gridwidth": 2
           }
          },
          "shapedefaults": {
           "line": {
            "color": "#2a3f5f"
           }
          },
          "annotationdefaults": {
           "arrowcolor": "#2a3f5f",
           "arrowhead": 0,
           "arrowwidth": 1
          },
          "geo": {
           "bgcolor": "white",
           "landcolor": "#E5ECF6",
           "subunitcolor": "white",
           "showland": true,
           "showlakes": true,
           "lakecolor": "white"
          },
          "title": {
           "x": 0.05
          },
          "mapbox": {
           "style": "light"
          }
         }
        },
        "xaxis": {
         "anchor": "y",
         "domain": [
          0.0,
          1.0
         ]
        },
        "yaxis": {
         "anchor": "x",
         "domain": [
          0.0,
          1.0
         ],
         "title": {
          "text": "children"
         }
        },
        "legend": {
         "tracegroupgap": 0
        },
        "margin": {
         "t": 60
        },
        "boxmode": "group",
        "title": {
         "text": "Box-plot diagram for children",
         "font": {
          "size": 20
         }
        }
       },
       "config": {
        "plotlyServerURL": "https://plot.ly"
       }
      },
      "text/html": "<div>                            <div id=\"874cd069-eadb-405e-8550-b0200ed4f880\" class=\"plotly-graph-div\" style=\"height:525px; width:100%;\"></div>            <script type=\"text/javascript\">                require([\"plotly\"], function(Plotly) {                    window.PLOTLYENV=window.PLOTLYENV || {};                                    if (document.getElementById(\"874cd069-eadb-405e-8550-b0200ed4f880\")) {                    Plotly.newPlot(                        \"874cd069-eadb-405e-8550-b0200ed4f880\",                        [{\"alignmentgroup\":\"True\",\"hovertemplate\":\"children=%{y}<extra></extra>\",\"legendgroup\":\"\",\"marker\":{\"color\":\"#636efa\"},\"name\":\"\",\"notched\":false,\"offsetgroup\":\"\",\"orientation\":\"v\",\"showlegend\":false,\"x0\":\" \",\"xaxis\":\"x\",\"y\":[0,1,3,0,0,0,1,3,2,0,0,0,0,0,0,1,1,0,0,0,0,1,0,1,2,3,0,2,1,2,0,0,5,0,1,0,3,0,1,0,0,2,1,2,1,0,2,0,0,1,0,2,1,0,3,2,2,2,1,2,3,4,1,1,0,0,2,1,0,3,0,5,3,1,2,0,1,0,0,0,1,0,1,4,2,2,0,0,0,0,0,1,3,2,2,1,3,0,0,0,0,0,0,3,1,1,1,2,0,0,1,2,0,0,3,0,0,1,0,2,2,0,0,1,3,0,0,0,2,2,0,0,2,0,0,0,0,0,3,0,2,1,2,2,3,3,3,1,1,1,1,0,3,0,1,0,0,0,0,3,0,0,1,2,0,4,5,3,1,3,0,0,0,1,0,0,2,1,2,3,0,0,3,0,2,3,2,3,1,2,0,0,0,1,0,0,0,2,0,0,0,1,0,0,0,1,0,2,0,1,1,4,2,1,2,2,0,0,1,0,1,0,3,0,0,3,0,0,1,2,1,3,0,1,2,2,0,2,0,1,2,1,1,3,0,0,0,0,1,1,2,2,2,3,0,3,0,0,4,0,0,1,3,0,3,3,1,3,1,1,1,2,2,1,0,2,2,0,2,1,1,3,1,1,0,1,2,0,1,3,0,1,2,0,3,0,0,1,3,1,3,3,2,2,2,2,2,1,0,2,0,0,3,0,0,0,0,0,0,1,1,4,0,0,0,1,1,2,1,0,1,0,0,0,2,0,0,1,1,1,0,0,0,0,4,3,2,1,1,0,0,0,0,0,0,0,3,3,0,0,2,1,0,1,2,1,3,2,2,3,0,0,1,2,0,0,3,0,3,1,2,0,0,2,2,0,0,2,0,3,4,0,1,1,2,0,3,0,2,0,0,1,0,3,0,2,0,1,3,1,0,1,2,5,0,1,0,2,1,0,0,0,1,0,2,5,1,0,1,3,0,2,0,0,1,3,0,3,5,0,1,0,0,1,1,0,0,0,0,1,4,1,0,0,2,0,2,0,0,3,3,0,2,0,0,1,1,2,1,1,0,0,0,0,3,1,0,0,0,0,3,2,0,1,3,0,3,0,0,1,0,0,0,0,4,0,2,2,2,0,0,0,1,0,1,3,1,2,0,0,1,0,0,0,1,0,1,2,1,0,0,0,0,0,1,0,2,1,1,0,1,0,2,0,0,1,3,2,1,0,3,2,0,0,0,2,0,2,0,0,0,0,0,2,0,2,1,0,3,0,2,0,0,1,2,0,1,2,5,2,0,1,2,1,2,0,0,1,1,0,1,0,2,1,0,1,3,1,0,1,0,1,2,1,0,1,2,1,2,2,0,0,0,3,0,0,0,0,2,2,1,2,0,3,0,1,0,2,0,0,1,4,1,0,0,0,3,1,0,0,1,0,0,2,1,0,1,2,0,4,5,3,0,3,2,3,1,3,0,0,2,1,0,2,0,2,1,2,1,4,3,1,1,0,0,2,1,2,0,1,3,0,0,0,2,0,3,3,3,2,1,0,2,0,1,2,2,0,1,1,0,1,1,0,1,0,2,1,0,2,0,0,0,1,1,2,0,3,3,0,1,2,2,0,0,0,1,1,2,0,0,3,0,0,1,3,1,1,0,1,3,1,3,1,3,1,0,2,3,2,2,0,0,0,0,1,2,0,1,0,0,0,0,0,4,2,3,0,3,0,2,1,1,0,2,0,1,1,0,2,3,2,0,0,2,3,2,0,3,0,3,0,1,1,1,3,0,0,3,0,0,0,0,0,2,0,2,1,0,0,1,0,1,0,0,0,1,0,0,1,3,3,2,2,2,0,0,3,1,0,1,0,0,2,0,2,2,1,3,1,0,0,2,0,1,2,0,0,2,0,0,0,2,0,0,0,1,1,0,0,0,2,0,2,3,0,0,0,1,0,2,3,2,0,0,2,0,1,0,3,0,1,0,1,3,0,1,5,1,2,3,1,0,3,4,1,0,0,0,1,0,4,0,2,0,0,2,1,0,0,0,0,3,0,0,2,3,1,3,0,1,0,3,1,2,0,0,0,0,1,0,0,1,0,0,2,2,1,0,1,1,1,5,0,2,0,2,5,2,0,0,1,0,0,0,1,2,1,0,3,0,2,1,2,1,1,1,1,1,1,1,0,1,3,2,1,2,1,2,5,3,0,0,0,0,0,0,1,3,0,1,0,3,1,5,1,3,1,0,0,1,2,2,1,3,3,3,0,3,0,2,0,0,0,1,2,2,3,2,1,0,2,4,1,0,0,1,2,3,2,0,3,1,1,1,0,1,0,0,2,1,0,0,0,0,3,2,1,0,2,0,0,0,0,1,2,0,1,1,0,1,0,1,3,0,0,0,0,0,1,0,1,1,3,4,1,2,0,1,1,1,0,0,2,0,1,1,0,0,3,2,1,1,1,2,5,0,0,1,0,0,0,3,0,4,4,2,0,0,1,2,3,1,0,0,0,0,2,1,3,1,3,3,3,0,1,5,2,1,3,0,2,3,1,1,0,0,2,1,0,5,2,0,0,0,3,1,0,0,0,1,3,0,2,2,3,0,0,1,0,0,0,3,1,4,3,0,2,0,0,1,2,1,0,1,0,0,2,2,1,1,2,0,2,2,0,1,1,0,0,1,0,0,1,1,2,3,0,1,0,2,1,1,0,0,3,0,0,1,2,2,2,0,1,3,1,2,2,1,1,1,2,0,2,1,0,0,2,1,3,1,2,0,0,1,1,2,2,0,0,3,0,3,0,2,0,0,0,3,1,2,2,3,0,0,5,3,4,0,1,0,0,0,4,0,0,3,1,3,0,0,1,1,1,2,0,0,0,0,3,1,0,5,1,0,0,0,0,1,2,0,2,0,1,1,0,0,1,2,1,2,0,0,3,0,1,0,2,2,1,0,3,1,0,2,0,0,4,0,2,1,0,1,2,3,1,0,0,4,2,3,0,0,2,1,0,0,1,2,2,2,0,3,3,0,0,0,0],\"y0\":\" \",\"yaxis\":\"y\",\"type\":\"box\"}],                        {\"template\":{\"data\":{\"histogram2dcontour\":[{\"type\":\"histogram2dcontour\",\"colorbar\":{\"outlinewidth\":0,\"ticks\":\"\"},\"colorscale\":[[0.0,\"#0d0887\"],[0.1111111111111111,\"#46039f\"],[0.2222222222222222,\"#7201a8\"],[0.3333333333333333,\"#9c179e\"],[0.4444444444444444,\"#bd3786\"],[0.5555555555555556,\"#d8576b\"],[0.6666666666666666,\"#ed7953\"],[0.7777777777777778,\"#fb9f3a\"],[0.8888888888888888,\"#fdca26\"],[1.0,\"#f0f921\"]]}],\"choropleth\":[{\"type\":\"choropleth\",\"colorbar\":{\"outlinewidth\":0,\"ticks\":\"\"}}],\"histogram2d\":[{\"type\":\"histogram2d\",\"colorbar\":{\"outlinewidth\":0,\"ticks\":\"\"},\"colorscale\":[[0.0,\"#0d0887\"],[0.1111111111111111,\"#46039f\"],[0.2222222222222222,\"#7201a8\"],[0.3333333333333333,\"#9c179e\"],[0.4444444444444444,\"#bd3786\"],[0.5555555555555556,\"#d8576b\"],[0.6666666666666666,\"#ed7953\"],[0.7777777777777778,\"#fb9f3a\"],[0.8888888888888888,\"#fdca26\"],[1.0,\"#f0f921\"]]}],\"heatmap\":[{\"type\":\"heatmap\",\"colorbar\":{\"outlinewidth\":0,\"ticks\":\"\"},\"colorscale\":[[0.0,\"#0d0887\"],[0.1111111111111111,\"#46039f\"],[0.2222222222222222,\"#7201a8\"],[0.3333333333333333,\"#9c179e\"],[0.4444444444444444,\"#bd3786\"],[0.5555555555555556,\"#d8576b\"],[0.6666666666666666,\"#ed7953\"],[0.7777777777777778,\"#fb9f3a\"],[0.8888888888888888,\"#fdca26\"],[1.0,\"#f0f921\"]]}],\"heatmapgl\":[{\"type\":\"heatmapgl\",\"colorbar\":{\"outlinewidth\":0,\"ticks\":\"\"},\"colorscale\":[[0.0,\"#0d0887\"],[0.1111111111111111,\"#46039f\"],[0.2222222222222222,\"#7201a8\"],[0.3333333333333333,\"#9c179e\"],[0.4444444444444444,\"#bd3786\"],[0.5555555555555556,\"#d8576b\"],[0.6666666666666666,\"#ed7953\"],[0.7777777777777778,\"#fb9f3a\"],[0.8888888888888888,\"#fdca26\"],[1.0,\"#f0f921\"]]}],\"contourcarpet\":[{\"type\":\"contourcarpet\",\"colorbar\":{\"outlinewidth\":0,\"ticks\":\"\"}}],\"contour\":[{\"type\":\"contour\",\"colorbar\":{\"outlinewidth\":0,\"ticks\":\"\"},\"colorscale\":[[0.0,\"#0d0887\"],[0.1111111111111111,\"#46039f\"],[0.2222222222222222,\"#7201a8\"],[0.3333333333333333,\"#9c179e\"],[0.4444444444444444,\"#bd3786\"],[0.5555555555555556,\"#d8576b\"],[0.6666666666666666,\"#ed7953\"],[0.7777777777777778,\"#fb9f3a\"],[0.8888888888888888,\"#fdca26\"],[1.0,\"#f0f921\"]]}],\"surface\":[{\"type\":\"surface\",\"colorbar\":{\"outlinewidth\":0,\"ticks\":\"\"},\"colorscale\":[[0.0,\"#0d0887\"],[0.1111111111111111,\"#46039f\"],[0.2222222222222222,\"#7201a8\"],[0.3333333333333333,\"#9c179e\"],[0.4444444444444444,\"#bd3786\"],[0.5555555555555556,\"#d8576b\"],[0.6666666666666666,\"#ed7953\"],[0.7777777777777778,\"#fb9f3a\"],[0.8888888888888888,\"#fdca26\"],[1.0,\"#f0f921\"]]}],\"mesh3d\":[{\"type\":\"mesh3d\",\"colorbar\":{\"outlinewidth\":0,\"ticks\":\"\"}}],\"scatter\":[{\"fillpattern\":{\"fillmode\":\"overlay\",\"size\":10,\"solidity\":0.2},\"type\":\"scatter\"}],\"parcoords\":[{\"type\":\"parcoords\",\"line\":{\"colorbar\":{\"outlinewidth\":0,\"ticks\":\"\"}}}],\"scatterpolargl\":[{\"type\":\"scatterpolargl\",\"marker\":{\"colorbar\":{\"outlinewidth\":0,\"ticks\":\"\"}}}],\"bar\":[{\"error_x\":{\"color\":\"#2a3f5f\"},\"error_y\":{\"color\":\"#2a3f5f\"},\"marker\":{\"line\":{\"color\":\"#E5ECF6\",\"width\":0.5},\"pattern\":{\"fillmode\":\"overlay\",\"size\":10,\"solidity\":0.2}},\"type\":\"bar\"}],\"scattergeo\":[{\"type\":\"scattergeo\",\"marker\":{\"colorbar\":{\"outlinewidth\":0,\"ticks\":\"\"}}}],\"scatterpolar\":[{\"type\":\"scatterpolar\",\"marker\":{\"colorbar\":{\"outlinewidth\":0,\"ticks\":\"\"}}}],\"histogram\":[{\"marker\":{\"pattern\":{\"fillmode\":\"overlay\",\"size\":10,\"solidity\":0.2}},\"type\":\"histogram\"}],\"scattergl\":[{\"type\":\"scattergl\",\"marker\":{\"colorbar\":{\"outlinewidth\":0,\"ticks\":\"\"}}}],\"scatter3d\":[{\"type\":\"scatter3d\",\"line\":{\"colorbar\":{\"outlinewidth\":0,\"ticks\":\"\"}},\"marker\":{\"colorbar\":{\"outlinewidth\":0,\"ticks\":\"\"}}}],\"scattermapbox\":[{\"type\":\"scattermapbox\",\"marker\":{\"colorbar\":{\"outlinewidth\":0,\"ticks\":\"\"}}}],\"scatterternary\":[{\"type\":\"scatterternary\",\"marker\":{\"colorbar\":{\"outlinewidth\":0,\"ticks\":\"\"}}}],\"scattercarpet\":[{\"type\":\"scattercarpet\",\"marker\":{\"colorbar\":{\"outlinewidth\":0,\"ticks\":\"\"}}}],\"carpet\":[{\"aaxis\":{\"endlinecolor\":\"#2a3f5f\",\"gridcolor\":\"white\",\"linecolor\":\"white\",\"minorgridcolor\":\"white\",\"startlinecolor\":\"#2a3f5f\"},\"baxis\":{\"endlinecolor\":\"#2a3f5f\",\"gridcolor\":\"white\",\"linecolor\":\"white\",\"minorgridcolor\":\"white\",\"startlinecolor\":\"#2a3f5f\"},\"type\":\"carpet\"}],\"table\":[{\"cells\":{\"fill\":{\"color\":\"#EBF0F8\"},\"line\":{\"color\":\"white\"}},\"header\":{\"fill\":{\"color\":\"#C8D4E3\"},\"line\":{\"color\":\"white\"}},\"type\":\"table\"}],\"barpolar\":[{\"marker\":{\"line\":{\"color\":\"#E5ECF6\",\"width\":0.5},\"pattern\":{\"fillmode\":\"overlay\",\"size\":10,\"solidity\":0.2}},\"type\":\"barpolar\"}],\"pie\":[{\"automargin\":true,\"type\":\"pie\"}]},\"layout\":{\"autotypenumbers\":\"strict\",\"colorway\":[\"#636efa\",\"#EF553B\",\"#00cc96\",\"#ab63fa\",\"#FFA15A\",\"#19d3f3\",\"#FF6692\",\"#B6E880\",\"#FF97FF\",\"#FECB52\"],\"font\":{\"color\":\"#2a3f5f\"},\"hovermode\":\"closest\",\"hoverlabel\":{\"align\":\"left\"},\"paper_bgcolor\":\"white\",\"plot_bgcolor\":\"#E5ECF6\",\"polar\":{\"bgcolor\":\"#E5ECF6\",\"angularaxis\":{\"gridcolor\":\"white\",\"linecolor\":\"white\",\"ticks\":\"\"},\"radialaxis\":{\"gridcolor\":\"white\",\"linecolor\":\"white\",\"ticks\":\"\"}},\"ternary\":{\"bgcolor\":\"#E5ECF6\",\"aaxis\":{\"gridcolor\":\"white\",\"linecolor\":\"white\",\"ticks\":\"\"},\"baxis\":{\"gridcolor\":\"white\",\"linecolor\":\"white\",\"ticks\":\"\"},\"caxis\":{\"gridcolor\":\"white\",\"linecolor\":\"white\",\"ticks\":\"\"}},\"coloraxis\":{\"colorbar\":{\"outlinewidth\":0,\"ticks\":\"\"}},\"colorscale\":{\"sequential\":[[0.0,\"#0d0887\"],[0.1111111111111111,\"#46039f\"],[0.2222222222222222,\"#7201a8\"],[0.3333333333333333,\"#9c179e\"],[0.4444444444444444,\"#bd3786\"],[0.5555555555555556,\"#d8576b\"],[0.6666666666666666,\"#ed7953\"],[0.7777777777777778,\"#fb9f3a\"],[0.8888888888888888,\"#fdca26\"],[1.0,\"#f0f921\"]],\"sequentialminus\":[[0.0,\"#0d0887\"],[0.1111111111111111,\"#46039f\"],[0.2222222222222222,\"#7201a8\"],[0.3333333333333333,\"#9c179e\"],[0.4444444444444444,\"#bd3786\"],[0.5555555555555556,\"#d8576b\"],[0.6666666666666666,\"#ed7953\"],[0.7777777777777778,\"#fb9f3a\"],[0.8888888888888888,\"#fdca26\"],[1.0,\"#f0f921\"]],\"diverging\":[[0,\"#8e0152\"],[0.1,\"#c51b7d\"],[0.2,\"#de77ae\"],[0.3,\"#f1b6da\"],[0.4,\"#fde0ef\"],[0.5,\"#f7f7f7\"],[0.6,\"#e6f5d0\"],[0.7,\"#b8e186\"],[0.8,\"#7fbc41\"],[0.9,\"#4d9221\"],[1,\"#276419\"]]},\"xaxis\":{\"gridcolor\":\"white\",\"linecolor\":\"white\",\"ticks\":\"\",\"title\":{\"standoff\":15},\"zerolinecolor\":\"white\",\"automargin\":true,\"zerolinewidth\":2},\"yaxis\":{\"gridcolor\":\"white\",\"linecolor\":\"white\",\"ticks\":\"\",\"title\":{\"standoff\":15},\"zerolinecolor\":\"white\",\"automargin\":true,\"zerolinewidth\":2},\"scene\":{\"xaxis\":{\"backgroundcolor\":\"#E5ECF6\",\"gridcolor\":\"white\",\"linecolor\":\"white\",\"showbackground\":true,\"ticks\":\"\",\"zerolinecolor\":\"white\",\"gridwidth\":2},\"yaxis\":{\"backgroundcolor\":\"#E5ECF6\",\"gridcolor\":\"white\",\"linecolor\":\"white\",\"showbackground\":true,\"ticks\":\"\",\"zerolinecolor\":\"white\",\"gridwidth\":2},\"zaxis\":{\"backgroundcolor\":\"#E5ECF6\",\"gridcolor\":\"white\",\"linecolor\":\"white\",\"showbackground\":true,\"ticks\":\"\",\"zerolinecolor\":\"white\",\"gridwidth\":2}},\"shapedefaults\":{\"line\":{\"color\":\"#2a3f5f\"}},\"annotationdefaults\":{\"arrowcolor\":\"#2a3f5f\",\"arrowhead\":0,\"arrowwidth\":1},\"geo\":{\"bgcolor\":\"white\",\"landcolor\":\"#E5ECF6\",\"subunitcolor\":\"white\",\"showland\":true,\"showlakes\":true,\"lakecolor\":\"white\"},\"title\":{\"x\":0.05},\"mapbox\":{\"style\":\"light\"}}},\"xaxis\":{\"anchor\":\"y\",\"domain\":[0.0,1.0]},\"yaxis\":{\"anchor\":\"x\",\"domain\":[0.0,1.0],\"title\":{\"text\":\"children\"}},\"legend\":{\"tracegroupgap\":0},\"margin\":{\"t\":60},\"boxmode\":\"group\",\"title\":{\"text\":\"Box-plot diagram for children\",\"font\":{\"size\":20}}},                        {\"responsive\": true}                    ).then(function(){\n                            \nvar gd = document.getElementById('874cd069-eadb-405e-8550-b0200ed4f880');\nvar x = new MutationObserver(function (mutations, observer) {{\n        var display = window.getComputedStyle(gd).display;\n        if (!display || display === 'none') {{\n            console.log([gd, 'removed!']);\n            Plotly.purge(gd);\n            observer.disconnect();\n        }}\n}});\n\n// Listen for the removal of the full notebook cells\nvar notebookContainer = gd.closest('#notebook-container');\nif (notebookContainer) {{\n    x.observe(notebookContainer, {childList: true});\n}}\n\n// Listen for the clearing of the current output cell\nvar outputEl = gd.closest('.output');\nif (outputEl) {{\n    x.observe(outputEl, {childList: true});\n}}\n\n                        })                };                });            </script>        </div>"
     },
     "metadata": {},
     "output_type": "display_data"
    },
    {
     "data": {
      "application/vnd.plotly.v1+json": {
       "data": [
        {
         "alignmentgroup": "True",
         "hovertemplate": "charges=%{y}<extra></extra>",
         "legendgroup": "",
         "marker": {
          "color": "#636efa"
         },
         "name": "",
         "notched": false,
         "offsetgroup": "",
         "orientation": "v",
         "showlegend": false,
         "x0": " ",
         "xaxis": "x",
         "y": [
          16884.924,
          1725.5523,
          4449.462,
          21984.47061,
          3866.8552,
          3756.6216,
          8240.5896,
          7281.5056,
          6406.4107,
          28923.13692,
          2721.3208,
          27808.7251,
          1826.843,
          11090.7178,
          39611.7577,
          1837.237,
          10797.3362,
          2395.17155,
          10602.385,
          36837.467,
          13228.84695,
          4149.736,
          1137.011,
          37701.8768,
          6203.90175,
          14001.1338,
          14451.83515,
          12268.63225,
          2775.19215,
          38711.0,
          35585.576,
          2198.18985,
          4687.797,
          13770.0979,
          51194.55914,
          1625.43375,
          15612.19335,
          2302.3,
          39774.2763,
          48173.361,
          3046.062,
          4949.7587,
          6272.4772,
          6313.759,
          6079.6715,
          20630.28351,
          3393.35635,
          3556.9223,
          12629.8967,
          38709.176,
          2211.13075,
          3579.8287,
          23568.272,
          37742.5757,
          8059.6791,
          47496.49445,
          13607.36875,
          34303.1672,
          23244.7902,
          5989.52365,
          8606.2174,
          4504.6624,
          30166.61817,
          4133.64165,
          14711.7438,
          1743.214,
          14235.072,
          6389.37785,
          5920.1041,
          17663.1442,
          16577.7795,
          6799.458,
          11741.726,
          11946.6259,
          7726.854,
          11356.6609,
          3947.4131,
          1532.4697,
          2755.02095,
          6571.02435,
          4441.21315,
          7935.29115,
          37165.1638,
          11033.6617,
          39836.519,
          21098.55405,
          43578.9394,
          11073.176,
          8026.6666,
          11082.5772,
          2026.9741,
          10942.13205,
          30184.9367,
          5729.0053,
          47291.055,
          3766.8838,
          12105.32,
          10226.2842,
          22412.6485,
          15820.699,
          6186.127,
          3645.0894,
          21344.8467,
          30942.1918,
          5003.853,
          17560.37975,
          2331.519,
          3877.30425,
          2867.1196,
          47055.5321,
          10825.2537,
          11881.358,
          4646.759,
          2404.7338,
          11488.31695,
          30259.99556,
          11381.3254,
          19107.7796,
          8601.3293,
          6686.4313,
          7740.337,
          1705.6245,
          2257.47525,
          39556.4945,
          10115.00885,
          3385.39915,
          17081.08,
          9634.538,
          32734.1863,
          6082.405,
          12815.44495,
          13616.3586,
          11163.568,
          1632.56445,
          2457.21115,
          2155.6815,
          1261.442,
          2045.68525,
          27322.73386,
          2166.732,
          27375.90478,
          3490.5491,
          18972.495,
          18157.876,
          20745.9891,
          5138.2567,
          40720.55105,
          9877.6077,
          10959.6947,
          1842.519,
          5125.2157,
          7789.635,
          6334.34355,
          19964.7463,
          7077.1894,
          6948.7008,
          21223.6758,
          15518.18025,
          36950.2567,
          19749.38338,
          21348.706,
          36149.4835,
          10450.552,
          5152.134,
          5028.1466,
          10407.08585,
          4830.63,
          6128.79745,
          2719.27975,
          4827.90495,
          13405.3903,
          8116.68,
          1694.7964,
          5246.047,
          2855.43755,
          48824.45,
          6455.86265,
          10436.096,
          8823.279,
          8538.28845,
          11735.87905,
          1631.8212,
          4005.4225,
          7419.4779,
          7731.4271,
          43753.33705,
          3981.9768,
          5325.651,
          6775.961,
          4922.9159,
          12557.6053,
          4883.866,
          2137.6536,
          12044.342,
          1137.4697,
          1639.5631,
          5649.715,
          8516.829,
          9644.2525,
          14901.5167,
          2130.6759,
          8871.1517,
          13012.20865,
          37133.8982,
          7147.105,
          4337.7352,
          11743.299,
          20984.0936,
          13880.949,
          6610.1097,
          1980.07,
          8162.71625,
          3537.703,
          5002.7827,
          8520.026,
          7371.772,
          10355.641,
          2483.736,
          3392.9768,
          25081.76784,
          5012.471,
          10564.8845,
          5253.524,
          34779.615,
          19515.5416,
          11987.1682,
          2689.4954,
          24227.33724,
          7358.17565,
          9225.2564,
          7443.64305,
          14001.2867,
          1727.785,
          12333.828,
          6710.1919,
          19444.2658,
          1615.7667,
          4463.2051,
          17352.6803,
          7152.6714,
          38511.6283,
          5354.07465,
          35160.13457,
          7196.867,
          29523.1656,
          24476.47851,
          12648.7034,
          1986.9334,
          1832.094,
          4040.55825,
          12829.4551,
          47305.305,
          44260.7499,
          4260.744,
          41097.16175,
          13047.33235,
          43921.1837,
          5400.9805,
          11520.09985,
          33750.2918,
          11837.16,
          17085.2676,
          24869.8368,
          36219.40545,
          20462.99766,
          46151.1245,
          17179.522,
          14590.63205,
          7441.053,
          9282.4806,
          1719.4363,
          42856.838,
          7265.7025,
          9617.66245,
          2523.1695,
          9715.841,
          2803.69785,
          2150.469,
          12928.7911,
          9855.1314,
          22331.5668,
          48549.17835,
          4237.12655,
          11879.10405,
          9625.92,
          7742.1098,
          9432.9253,
          14256.1928,
          47896.79135,
          25992.82104,
          3172.018,
          20277.80751,
          42112.2356,
          2156.7518,
          3906.127,
          1704.5681,
          16297.846,
          21978.6769,
          38746.3551,
          9249.4952,
          6746.7425,
          24873.3849,
          12265.5069,
          4349.462,
          12646.207,
          19442.3535,
          20177.67113,
          4151.0287,
          11944.59435,
          7749.1564,
          8444.474,
          1737.376,
          42124.5153,
          8124.4084,
          34838.873,
          9722.7695,
          8835.26495,
          10435.06525,
          7421.19455,
          4667.60765,
          4894.7533,
          24671.66334,
          35491.64,
          11566.30055,
          2866.091,
          6600.20595,
          3561.8889,
          42760.5022,
          47928.03,
          9144.565,
          48517.56315,
          24393.6224,
          13429.0354,
          11658.37915,
          19144.57652,
          13822.803,
          12142.5786,
          13937.6665,
          41919.097,
          8232.6388,
          18955.22017,
          13352.0998,
          13217.0945,
          13981.85035,
          10977.2063,
          6184.2994,
          4889.9995,
          8334.45755,
          5478.0368,
          1635.73365,
          11830.6072,
          8932.084,
          3554.203,
          12404.8791,
          14133.03775,
          24603.04837,
          8944.1151,
          9620.3307,
          1837.2819,
          1607.5101,
          10043.249,
          4751.07,
          13844.506,
          2597.779,
          3180.5101,
          9778.3472,
          13430.265,
          8017.06115,
          8116.26885,
          3481.868,
          13415.0381,
          12029.2867,
          7639.41745,
          36085.219,
          1391.5287,
          18033.9679,
          21659.9301,
          38126.2465,
          16455.70785,
          27000.98473,
          15006.57945,
          42303.69215,
          20781.48892,
          5846.9176,
          8302.53565,
          1261.859,
          11856.4115,
          30284.64294,
          3176.8159,
          4618.0799,
          10736.87075,
          2138.0707,
          8964.06055,
          9290.1395,
          9411.005,
          7526.70645,
          8522.003,
          16586.49771,
          14988.432,
          1631.6683,
          9264.797,
          8083.9198,
          14692.66935,
          10269.46,
          3260.199,
          11396.9002,
          4185.0979,
          8539.671,
          6652.5288,
          4074.4537,
          1621.3402,
          19594.80965,
          14455.64405,
          5080.096,
          2134.9015,
          7345.7266,
          9140.951,
          18608.262,
          14418.2804,
          28950.4692,
          46889.2612,
          46599.1084,
          39125.33225,
          2727.3951,
          8968.33,
          9788.8659,
          6555.07035,
          7323.734819,
          3167.45585,
          18804.7524,
          23082.95533,
          4906.40965,
          5969.723,
          12638.195,
          4243.59005,
          13919.8229,
          2254.7967,
          5926.846,
          12592.5345,
          2897.3235,
          4738.2682,
          37079.372,
          1149.3959,
          28287.89766,
          26109.32905,
          7345.084,
          12730.9996,
          11454.0215,
          5910.944,
          4762.329,
          7512.267,
          4032.2407,
          1969.614,
          1769.53165,
          4686.3887,
          21797.0004,
          11881.9696,
          11840.77505,
          10601.412,
          7682.67,
          10381.4787,
          22144.032,
          15230.32405,
          11165.41765,
          1632.03625,
          19521.9682,
          13224.693,
          12643.3778,
          23288.9284,
          2201.0971,
          2497.0383,
          2203.47185,
          1744.465,
          20878.78443,
          25382.297,
          28868.6639,
          35147.52848,
          2534.39375,
          1534.3045,
          1824.2854,
          15555.18875,
          9304.7019,
          1622.1885,
          9880.068,
          9563.029,
          4347.02335,
          12475.3513,
          1253.936,
          48885.13561,
          10461.9794,
          1748.774,
          24513.09126,
          2196.4732,
          12574.049,
          17942.106,
          1967.0227,
          4931.647,
          8027.968,
          8211.1002,
          13470.86,
          36197.699,
          6837.3687,
          22218.1149,
          32548.3405,
          5974.3847,
          6796.86325,
          2643.2685,
          3077.0955,
          3044.2133,
          11455.28,
          11763.0009,
          2498.4144,
          9361.3268,
          1256.299,
          21082.16,
          11362.755,
          27724.28875,
          8413.46305,
          5240.765,
          3857.75925,
          25656.57526,
          3994.1778,
          9866.30485,
          5397.6167,
          38245.59327,
          11482.63485,
          24059.68019,
          9861.025,
          8342.90875,
          1708.0014,
          48675.5177,
          14043.4767,
          12925.886,
          19214.70553,
          13831.1152,
          6067.12675,
          5972.378,
          8825.086,
          8233.0975,
          27346.04207,
          6196.448,
          3056.3881,
          13887.204,
          63770.42801,
          10231.4999,
          23807.2406,
          3268.84665,
          11538.421,
          3213.62205,
          45863.205,
          13390.559,
          3972.9247,
          12957.118,
          11187.6567,
          17878.90068,
          3847.674,
          8334.5896,
          3935.1799,
          39983.42595,
          1646.4297,
          9193.8385,
          10923.9332,
          2494.022,
          9058.7303,
          2801.2588,
          2128.43105,
          6373.55735,
          7256.7231,
          11552.904,
          45702.02235,
          3761.292,
          2219.4451,
          4753.6368,
          31620.00106,
          13224.05705,
          12222.8983,
          1664.9996,
          58571.07448,
          9724.53,
          3206.49135,
          12913.9924,
          1639.5631,
          6356.2707,
          17626.23951,
          1242.816,
          4779.6023,
          3861.20965,
          43943.8761,
          13635.6379,
          5976.8311,
          11842.442,
          8428.0693,
          2566.4707,
          15359.1045,
          5709.1644,
          8823.98575,
          7640.3092,
          5594.8455,
          7441.501,
          33471.97189,
          1633.0444,
          9174.13565,
          11070.535,
          16085.1275,
          17468.9839,
          9283.562,
          3558.62025,
          25678.77845,
          4435.0942,
          39241.442,
          8547.6913,
          6571.544,
          2207.69745,
          6753.038,
          1880.07,
          42969.8527,
          11658.11505,
          23306.547,
          34439.8559,
          10713.644,
          3659.346,
          40182.246,
          9182.17,
          34617.84065,
          12129.61415,
          3736.4647,
          6748.5912,
          11326.71487,
          11365.952,
          42983.4585,
          10085.846,
          1977.815,
          3366.6697,
          7173.35995,
          9391.346,
          14410.9321,
          2709.1119,
          24915.04626,
          20149.3229,
          12949.1554,
          6666.243,
          32787.45859,
          13143.86485,
          4466.6214,
          18806.14547,
          10141.1362,
          6123.5688,
          8252.2843,
          1712.227,
          12430.95335,
          9800.8882,
          10579.711,
          8280.6227,
          8527.532,
          12244.531,
          24667.419,
          3410.324,
          4058.71245,
          26392.26029,
          14394.39815,
          6435.6237,
          22192.43711,
          5148.5526,
          1136.3994,
          27037.9141,
          42560.4304,
          8703.456,
          40003.33225,
          45710.20785,
          6500.2359,
          4837.5823,
          3943.5954,
          4399.731,
          6185.3208,
          46200.9851,
          7222.78625,
          12485.8009,
          46130.5265,
          12363.547,
          10156.7832,
          2585.269,
          1242.26,
          40103.89,
          9863.4718,
          4766.022,
          11244.3769,
          7729.64575,
          5438.7491,
          26236.57997,
          34806.4677,
          2104.1134,
          8068.185,
          2362.22905,
          2352.96845,
          3577.999,
          3201.24515,
          29186.48236,
          40273.6455,
          10976.24575,
          3500.6123,
          2020.5523,
          9541.69555,
          9504.3103,
          5385.3379,
          8930.93455,
          5375.038,
          44400.4064,
          10264.4421,
          6113.23105,
          5469.0066,
          1727.54,
          10107.2206,
          8310.83915,
          1984.4533,
          2457.502,
          12146.971,
          9566.9909,
          13112.6048,
          10848.1343,
          12231.6136,
          9875.6804,
          11264.541,
          12979.358,
          1263.249,
          10106.13425,
          40932.4295,
          6664.68595,
          16657.71745,
          2217.6012,
          6781.3542,
          19361.9988,
          10065.413,
          4234.927,
          9447.25035,
          14007.222,
          9583.8933,
          40419.0191,
          3484.331,
          36189.1017,
          44585.45587,
          8604.48365,
          18246.4955,
          43254.41795,
          3757.8448,
          8827.2099,
          9910.35985,
          11737.84884,
          1627.28245,
          8556.907,
          3062.50825,
          19539.243,
          1906.35825,
          14210.53595,
          11833.7823,
          17128.42608,
          5031.26955,
          7985.815,
          23065.4207,
          5428.7277,
          36307.7983,
          3925.7582,
          2416.955,
          19040.876,
          3070.8087,
          9095.06825,
          11842.62375,
          8062.764,
          7050.642,
          14319.031,
          6933.24225,
          27941.28758,
          11150.78,
          12797.20962,
          17748.5062,
          7261.741,
          10560.4917,
          6986.697,
          7448.40395,
          5934.3798,
          9869.8102,
          18259.216,
          1146.7966,
          9386.1613,
          24520.264,
          4350.5144,
          6414.178,
          12741.16745,
          1917.3184,
          5209.57885,
          13457.9608,
          5662.225,
          1252.407,
          2731.9122,
          21195.818,
          7209.4918,
          18310.742,
          4266.1658,
          4719.52405,
          11848.141,
          17904.52705,
          7046.7222,
          14313.8463,
          2103.08,
          38792.6856,
          1815.8759,
          7731.85785,
          28476.73499,
          2136.88225,
          1131.5066,
          3309.7926,
          9414.92,
          6360.9936,
          11013.7119,
          4428.88785,
          5584.3057,
          1877.9294,
          2842.76075,
          3597.596,
          23401.30575,
          55135.40209,
          7445.918,
          2680.9493,
          1621.8827,
          8219.2039,
          12523.6048,
          16069.08475,
          43813.8661,
          20773.62775,
          39597.4072,
          6117.4945,
          13393.756,
          5266.3656,
          4719.73655,
          11743.9341,
          5377.4578,
          7160.3303,
          4402.233,
          11657.7189,
          6402.29135,
          12622.1795,
          1526.312,
          12323.936,
          36021.0112,
          27533.9129,
          10072.05505,
          45008.9555,
          9872.701,
          2438.0552,
          2974.126,
          10601.63225,
          37270.1512,
          14119.62,
          42111.6647,
          11729.6795,
          24106.91255,
          1875.344,
          40974.1649,
          15817.9857,
          18218.16139,
          10965.446,
          46113.511,
          7151.092,
          12269.68865,
          5458.04645,
          8782.469,
          6600.361,
          1141.4451,
          11576.13,
          13129.60345,
          4391.652,
          8457.818,
          3392.3652,
          5966.8874,
          6849.026,
          8891.1395,
          2690.1138,
          26140.3603,
          6653.7886,
          6282.235,
          6311.952,
          3443.064,
          2789.0574,
          2585.85065,
          46255.1125,
          4877.98105,
          19719.6947,
          27218.43725,
          5272.1758,
          1682.597,
          11945.1327,
          29330.98315,
          7243.8136,
          10422.91665,
          44202.6536,
          13555.0049,
          13063.883,
          19798.05455,
          2221.56445,
          1634.5734,
          2117.33885,
          8688.85885,
          48673.5588,
          4661.28635,
          8125.7845,
          12644.589,
          4564.19145,
          4846.92015,
          7633.7206,
          15170.069,
          17496.306,
          2639.0429,
          33732.6867,
          14382.70905,
          7626.993,
          5257.50795,
          2473.3341,
          21774.32215,
          35069.37452,
          13041.921,
          5245.2269,
          13451.122,
          13462.52,
          5488.262,
          4320.41085,
          6250.435,
          25333.33284,
          2913.569,
          12032.326,
          13470.8044,
          6289.7549,
          2927.0647,
          6238.298,
          10096.97,
          7348.142,
          4673.3922,
          12233.828,
          32108.66282,
          8965.79575,
          2304.0022,
          9487.6442,
          1121.8739,
          9549.5651,
          2217.46915,
          1628.4709,
          12982.8747,
          11674.13,
          7160.094,
          39047.285,
          6358.77645,
          19933.458,
          11534.87265,
          47462.894,
          4527.18295,
          38998.546,
          20009.63365,
          3875.7341,
          41999.52,
          12609.88702,
          41034.2214,
          28468.91901,
          2730.10785,
          3353.284,
          14474.675,
          9500.57305,
          26467.09737,
          4746.344,
          23967.38305,
          7518.02535,
          3279.86855,
          8596.8278,
          10702.6424,
          4992.3764,
          2527.81865,
          1759.338,
          2322.6218,
          16138.76205,
          7804.1605,
          2902.9065,
          9704.66805,
          4889.0368,
          25517.11363,
          4500.33925,
          19199.944,
          16796.41194,
          4915.05985,
          7624.63,
          8410.04685,
          28340.18885,
          4518.82625,
          14571.8908,
          3378.91,
          7144.86265,
          10118.424,
          5484.4673,
          16420.49455,
          7986.47525,
          7418.522,
          13887.9685,
          6551.7501,
          5267.81815,
          17361.7661,
          34472.841,
          1972.95,
          21232.18226,
          8627.5411,
          4433.3877,
          4438.2634,
          24915.22085,
          23241.47453,
          9957.7216,
          8269.044,
          18767.7377,
          36580.28216,
          8765.249,
          5383.536,
          12124.9924,
          2709.24395,
          3987.926,
          12495.29085,
          26018.95052,
          8798.593,
          35595.5898,
          42211.1382,
          1711.0268,
          8569.8618,
          2020.177,
          16450.8947,
          21595.38229,
          9850.432,
          6877.9801,
          21677.28345,
          44423.803,
          4137.5227,
          13747.87235,
          12950.0712,
          12094.478,
          37484.4493,
          39725.51805,
          2250.8352,
          22493.65964,
          20234.85475,
          1704.70015,
          33475.81715,
          3161.454,
          11394.06555,
          21880.82,
          7325.0482,
          44501.3982,
          3594.17085,
          39727.614,
          8023.13545,
          14394.5579,
          9288.0267,
          25309.489,
          3353.4703,
          10594.50155,
          8277.523,
          17929.30337,
          2480.9791,
          4462.7218,
          1981.5819,
          11554.2236,
          48970.2476,
          6548.19505,
          5708.867,
          7045.499,
          8978.1851,
          5757.41345,
          14349.8544,
          10928.849,
          39871.7043,
          13974.45555,
          1909.52745,
          12096.6512,
          13204.28565,
          4562.8421,
          8551.347,
          2102.2647,
          34672.1472,
          15161.5344,
          11884.04858,
          4454.40265,
          5855.9025,
          4076.497,
          15019.76005,
          19023.26,
          10796.35025,
          11353.2276,
          9748.9106,
          10577.087,
          41676.0811,
          11286.5387,
          3591.48,
          33907.548,
          11299.343,
          4561.1885,
          44641.1974,
          1674.6323,
          23045.56616,
          3227.1211,
          16776.30405,
          11253.421,
          3471.4096,
          11363.2832,
          20420.60465,
          10338.9316,
          8988.15875,
          10493.9458,
          2904.088,
          8605.3615,
          11512.405,
          41949.2441,
          24180.9335,
          5312.16985,
          2396.0959,
          10807.4863,
          9222.4026,
          36124.5737,
          38282.7495,
          5693.4305,
          34166.273,
          8347.1643,
          46661.4424,
          18903.49141,
          40904.1995,
          14254.6082,
          10214.636,
          5836.5204,
          14358.36437,
          1728.897,
          8582.3023,
          3693.428,
          20709.02034,
          9991.03765,
          19673.33573,
          11085.5868,
          7623.518,
          3176.2877,
          3704.3545,
          36898.73308,
          9048.0273,
          7954.517,
          27117.99378,
          6338.0756,
          9630.397,
          11289.10925,
          52590.82939,
          2261.5688,
          10791.96,
          5979.731,
          2203.73595,
          12235.8392,
          40941.2854,
          5630.45785,
          11015.1747,
          7228.21565,
          39722.7462,
          14426.07385,
          2459.7201,
          3989.841,
          7727.2532,
          5124.1887,
          18963.17192,
          2200.83085,
          7153.5539,
          5227.98875,
          10982.5013,
          4529.477,
          4670.64,
          6112.35295,
          17178.6824,
          22478.6,
          11093.6229,
          6457.8434,
          4433.9159,
          2154.361,
          23887.6627,
          6496.886,
          2899.48935,
          19350.3689,
          7650.77375,
          2850.68375,
          2632.992,
          9447.3824,
          18328.2381,
          8603.8234,
          37465.34375,
          13844.7972,
          21771.3423,
          13126.67745,
          5327.40025,
          13725.47184,
          13019.16105,
          8671.19125,
          4134.08245,
          18838.70366,
          33307.5508,
          5699.8375,
          6393.60345,
          4934.705,
          6198.7518,
          8733.22925,
          2055.3249,
          9964.06,
          18223.4512,
          5116.5004,
          36910.60803,
          38415.474,
          20296.86345,
          12347.172,
          5373.36425,
          23563.01618,
          1702.4553,
          10806.839,
          3956.07145,
          12890.05765,
          5415.6612,
          4058.1161,
          41661.602,
          7537.1639,
          4718.20355,
          6593.5083,
          8442.667,
          26125.67477,
          6858.4796,
          4795.6568,
          6640.54485,
          7162.0122,
          10594.2257,
          11938.25595,
          60021.39897,
          20167.33603,
          12479.70895,
          11345.519,
          8515.7587,
          2699.56835,
          14449.8544,
          12224.35085,
          6985.50695,
          3238.4357,
          47269.854,
          49577.6624,
          4296.2712,
          3171.6149,
          1135.9407,
          5615.369,
          9101.798,
          6059.173,
          1633.9618,
          37607.5277,
          18648.4217,
          1241.565,
          16232.847,
          15828.82173,
          4415.1588,
          6474.013,
          11436.73815,
          11305.93455,
          30063.58055,
          10197.7722,
          4544.2348,
          3277.161,
          6770.1925,
          7337.748,
          10370.91255,
          26926.5144,
          10704.47,
          34254.05335,
          1880.487,
          8615.3,
          3292.52985,
          3021.80915,
          14478.33015,
          4747.0529,
          17043.3414,
          10959.33,
          2741.948,
          4357.04365,
          22462.04375,
          4189.1131,
          8283.6807,
          24535.69855,
          14283.4594,
          1720.3537,
          47403.88,
          8534.6718,
          3732.6251,
          5472.449,
          38344.566,
          7147.4728,
          7133.9025,
          34828.654,
          1515.3449,
          9301.89355,
          11931.12525,
          1964.78,
          1708.92575,
          4340.4409,
          5261.46945,
          2710.82855,
          62592.87309,
          46718.16325,
          3208.787,
          37829.7242,
          21259.37795,
          2464.6188,
          16115.3045,
          21472.4788,
          33900.653,
          6875.961,
          6940.90985,
          4571.41305,
          4536.259,
          36397.576,
          18765.87545,
          11272.33139,
          1731.677,
          1163.4627,
          19496.71917,
          7201.70085,
          5425.02335,
          28101.33305,
          12981.3457,
          43896.3763,
          4239.89265,
          13143.33665,
          7050.0213,
          9377.9047,
          22395.74424,
          10325.206,
          12629.1656,
          10795.93733,
          11411.685,
          10600.5483,
          2205.9808,
          1629.8335,
          2007.945,
          29141.3603
         ],
         "y0": " ",
         "yaxis": "y",
         "type": "box"
        }
       ],
       "layout": {
        "template": {
         "data": {
          "histogram2dcontour": [
           {
            "type": "histogram2dcontour",
            "colorbar": {
             "outlinewidth": 0,
             "ticks": ""
            },
            "colorscale": [
             [
              0.0,
              "#0d0887"
             ],
             [
              0.1111111111111111,
              "#46039f"
             ],
             [
              0.2222222222222222,
              "#7201a8"
             ],
             [
              0.3333333333333333,
              "#9c179e"
             ],
             [
              0.4444444444444444,
              "#bd3786"
             ],
             [
              0.5555555555555556,
              "#d8576b"
             ],
             [
              0.6666666666666666,
              "#ed7953"
             ],
             [
              0.7777777777777778,
              "#fb9f3a"
             ],
             [
              0.8888888888888888,
              "#fdca26"
             ],
             [
              1.0,
              "#f0f921"
             ]
            ]
           }
          ],
          "choropleth": [
           {
            "type": "choropleth",
            "colorbar": {
             "outlinewidth": 0,
             "ticks": ""
            }
           }
          ],
          "histogram2d": [
           {
            "type": "histogram2d",
            "colorbar": {
             "outlinewidth": 0,
             "ticks": ""
            },
            "colorscale": [
             [
              0.0,
              "#0d0887"
             ],
             [
              0.1111111111111111,
              "#46039f"
             ],
             [
              0.2222222222222222,
              "#7201a8"
             ],
             [
              0.3333333333333333,
              "#9c179e"
             ],
             [
              0.4444444444444444,
              "#bd3786"
             ],
             [
              0.5555555555555556,
              "#d8576b"
             ],
             [
              0.6666666666666666,
              "#ed7953"
             ],
             [
              0.7777777777777778,
              "#fb9f3a"
             ],
             [
              0.8888888888888888,
              "#fdca26"
             ],
             [
              1.0,
              "#f0f921"
             ]
            ]
           }
          ],
          "heatmap": [
           {
            "type": "heatmap",
            "colorbar": {
             "outlinewidth": 0,
             "ticks": ""
            },
            "colorscale": [
             [
              0.0,
              "#0d0887"
             ],
             [
              0.1111111111111111,
              "#46039f"
             ],
             [
              0.2222222222222222,
              "#7201a8"
             ],
             [
              0.3333333333333333,
              "#9c179e"
             ],
             [
              0.4444444444444444,
              "#bd3786"
             ],
             [
              0.5555555555555556,
              "#d8576b"
             ],
             [
              0.6666666666666666,
              "#ed7953"
             ],
             [
              0.7777777777777778,
              "#fb9f3a"
             ],
             [
              0.8888888888888888,
              "#fdca26"
             ],
             [
              1.0,
              "#f0f921"
             ]
            ]
           }
          ],
          "heatmapgl": [
           {
            "type": "heatmapgl",
            "colorbar": {
             "outlinewidth": 0,
             "ticks": ""
            },
            "colorscale": [
             [
              0.0,
              "#0d0887"
             ],
             [
              0.1111111111111111,
              "#46039f"
             ],
             [
              0.2222222222222222,
              "#7201a8"
             ],
             [
              0.3333333333333333,
              "#9c179e"
             ],
             [
              0.4444444444444444,
              "#bd3786"
             ],
             [
              0.5555555555555556,
              "#d8576b"
             ],
             [
              0.6666666666666666,
              "#ed7953"
             ],
             [
              0.7777777777777778,
              "#fb9f3a"
             ],
             [
              0.8888888888888888,
              "#fdca26"
             ],
             [
              1.0,
              "#f0f921"
             ]
            ]
           }
          ],
          "contourcarpet": [
           {
            "type": "contourcarpet",
            "colorbar": {
             "outlinewidth": 0,
             "ticks": ""
            }
           }
          ],
          "contour": [
           {
            "type": "contour",
            "colorbar": {
             "outlinewidth": 0,
             "ticks": ""
            },
            "colorscale": [
             [
              0.0,
              "#0d0887"
             ],
             [
              0.1111111111111111,
              "#46039f"
             ],
             [
              0.2222222222222222,
              "#7201a8"
             ],
             [
              0.3333333333333333,
              "#9c179e"
             ],
             [
              0.4444444444444444,
              "#bd3786"
             ],
             [
              0.5555555555555556,
              "#d8576b"
             ],
             [
              0.6666666666666666,
              "#ed7953"
             ],
             [
              0.7777777777777778,
              "#fb9f3a"
             ],
             [
              0.8888888888888888,
              "#fdca26"
             ],
             [
              1.0,
              "#f0f921"
             ]
            ]
           }
          ],
          "surface": [
           {
            "type": "surface",
            "colorbar": {
             "outlinewidth": 0,
             "ticks": ""
            },
            "colorscale": [
             [
              0.0,
              "#0d0887"
             ],
             [
              0.1111111111111111,
              "#46039f"
             ],
             [
              0.2222222222222222,
              "#7201a8"
             ],
             [
              0.3333333333333333,
              "#9c179e"
             ],
             [
              0.4444444444444444,
              "#bd3786"
             ],
             [
              0.5555555555555556,
              "#d8576b"
             ],
             [
              0.6666666666666666,
              "#ed7953"
             ],
             [
              0.7777777777777778,
              "#fb9f3a"
             ],
             [
              0.8888888888888888,
              "#fdca26"
             ],
             [
              1.0,
              "#f0f921"
             ]
            ]
           }
          ],
          "mesh3d": [
           {
            "type": "mesh3d",
            "colorbar": {
             "outlinewidth": 0,
             "ticks": ""
            }
           }
          ],
          "scatter": [
           {
            "fillpattern": {
             "fillmode": "overlay",
             "size": 10,
             "solidity": 0.2
            },
            "type": "scatter"
           }
          ],
          "parcoords": [
           {
            "type": "parcoords",
            "line": {
             "colorbar": {
              "outlinewidth": 0,
              "ticks": ""
             }
            }
           }
          ],
          "scatterpolargl": [
           {
            "type": "scatterpolargl",
            "marker": {
             "colorbar": {
              "outlinewidth": 0,
              "ticks": ""
             }
            }
           }
          ],
          "bar": [
           {
            "error_x": {
             "color": "#2a3f5f"
            },
            "error_y": {
             "color": "#2a3f5f"
            },
            "marker": {
             "line": {
              "color": "#E5ECF6",
              "width": 0.5
             },
             "pattern": {
              "fillmode": "overlay",
              "size": 10,
              "solidity": 0.2
             }
            },
            "type": "bar"
           }
          ],
          "scattergeo": [
           {
            "type": "scattergeo",
            "marker": {
             "colorbar": {
              "outlinewidth": 0,
              "ticks": ""
             }
            }
           }
          ],
          "scatterpolar": [
           {
            "type": "scatterpolar",
            "marker": {
             "colorbar": {
              "outlinewidth": 0,
              "ticks": ""
             }
            }
           }
          ],
          "histogram": [
           {
            "marker": {
             "pattern": {
              "fillmode": "overlay",
              "size": 10,
              "solidity": 0.2
             }
            },
            "type": "histogram"
           }
          ],
          "scattergl": [
           {
            "type": "scattergl",
            "marker": {
             "colorbar": {
              "outlinewidth": 0,
              "ticks": ""
             }
            }
           }
          ],
          "scatter3d": [
           {
            "type": "scatter3d",
            "line": {
             "colorbar": {
              "outlinewidth": 0,
              "ticks": ""
             }
            },
            "marker": {
             "colorbar": {
              "outlinewidth": 0,
              "ticks": ""
             }
            }
           }
          ],
          "scattermapbox": [
           {
            "type": "scattermapbox",
            "marker": {
             "colorbar": {
              "outlinewidth": 0,
              "ticks": ""
             }
            }
           }
          ],
          "scatterternary": [
           {
            "type": "scatterternary",
            "marker": {
             "colorbar": {
              "outlinewidth": 0,
              "ticks": ""
             }
            }
           }
          ],
          "scattercarpet": [
           {
            "type": "scattercarpet",
            "marker": {
             "colorbar": {
              "outlinewidth": 0,
              "ticks": ""
             }
            }
           }
          ],
          "carpet": [
           {
            "aaxis": {
             "endlinecolor": "#2a3f5f",
             "gridcolor": "white",
             "linecolor": "white",
             "minorgridcolor": "white",
             "startlinecolor": "#2a3f5f"
            },
            "baxis": {
             "endlinecolor": "#2a3f5f",
             "gridcolor": "white",
             "linecolor": "white",
             "minorgridcolor": "white",
             "startlinecolor": "#2a3f5f"
            },
            "type": "carpet"
           }
          ],
          "table": [
           {
            "cells": {
             "fill": {
              "color": "#EBF0F8"
             },
             "line": {
              "color": "white"
             }
            },
            "header": {
             "fill": {
              "color": "#C8D4E3"
             },
             "line": {
              "color": "white"
             }
            },
            "type": "table"
           }
          ],
          "barpolar": [
           {
            "marker": {
             "line": {
              "color": "#E5ECF6",
              "width": 0.5
             },
             "pattern": {
              "fillmode": "overlay",
              "size": 10,
              "solidity": 0.2
             }
            },
            "type": "barpolar"
           }
          ],
          "pie": [
           {
            "automargin": true,
            "type": "pie"
           }
          ]
         },
         "layout": {
          "autotypenumbers": "strict",
          "colorway": [
           "#636efa",
           "#EF553B",
           "#00cc96",
           "#ab63fa",
           "#FFA15A",
           "#19d3f3",
           "#FF6692",
           "#B6E880",
           "#FF97FF",
           "#FECB52"
          ],
          "font": {
           "color": "#2a3f5f"
          },
          "hovermode": "closest",
          "hoverlabel": {
           "align": "left"
          },
          "paper_bgcolor": "white",
          "plot_bgcolor": "#E5ECF6",
          "polar": {
           "bgcolor": "#E5ECF6",
           "angularaxis": {
            "gridcolor": "white",
            "linecolor": "white",
            "ticks": ""
           },
           "radialaxis": {
            "gridcolor": "white",
            "linecolor": "white",
            "ticks": ""
           }
          },
          "ternary": {
           "bgcolor": "#E5ECF6",
           "aaxis": {
            "gridcolor": "white",
            "linecolor": "white",
            "ticks": ""
           },
           "baxis": {
            "gridcolor": "white",
            "linecolor": "white",
            "ticks": ""
           },
           "caxis": {
            "gridcolor": "white",
            "linecolor": "white",
            "ticks": ""
           }
          },
          "coloraxis": {
           "colorbar": {
            "outlinewidth": 0,
            "ticks": ""
           }
          },
          "colorscale": {
           "sequential": [
            [
             0.0,
             "#0d0887"
            ],
            [
             0.1111111111111111,
             "#46039f"
            ],
            [
             0.2222222222222222,
             "#7201a8"
            ],
            [
             0.3333333333333333,
             "#9c179e"
            ],
            [
             0.4444444444444444,
             "#bd3786"
            ],
            [
             0.5555555555555556,
             "#d8576b"
            ],
            [
             0.6666666666666666,
             "#ed7953"
            ],
            [
             0.7777777777777778,
             "#fb9f3a"
            ],
            [
             0.8888888888888888,
             "#fdca26"
            ],
            [
             1.0,
             "#f0f921"
            ]
           ],
           "sequentialminus": [
            [
             0.0,
             "#0d0887"
            ],
            [
             0.1111111111111111,
             "#46039f"
            ],
            [
             0.2222222222222222,
             "#7201a8"
            ],
            [
             0.3333333333333333,
             "#9c179e"
            ],
            [
             0.4444444444444444,
             "#bd3786"
            ],
            [
             0.5555555555555556,
             "#d8576b"
            ],
            [
             0.6666666666666666,
             "#ed7953"
            ],
            [
             0.7777777777777778,
             "#fb9f3a"
            ],
            [
             0.8888888888888888,
             "#fdca26"
            ],
            [
             1.0,
             "#f0f921"
            ]
           ],
           "diverging": [
            [
             0,
             "#8e0152"
            ],
            [
             0.1,
             "#c51b7d"
            ],
            [
             0.2,
             "#de77ae"
            ],
            [
             0.3,
             "#f1b6da"
            ],
            [
             0.4,
             "#fde0ef"
            ],
            [
             0.5,
             "#f7f7f7"
            ],
            [
             0.6,
             "#e6f5d0"
            ],
            [
             0.7,
             "#b8e186"
            ],
            [
             0.8,
             "#7fbc41"
            ],
            [
             0.9,
             "#4d9221"
            ],
            [
             1,
             "#276419"
            ]
           ]
          },
          "xaxis": {
           "gridcolor": "white",
           "linecolor": "white",
           "ticks": "",
           "title": {
            "standoff": 15
           },
           "zerolinecolor": "white",
           "automargin": true,
           "zerolinewidth": 2
          },
          "yaxis": {
           "gridcolor": "white",
           "linecolor": "white",
           "ticks": "",
           "title": {
            "standoff": 15
           },
           "zerolinecolor": "white",
           "automargin": true,
           "zerolinewidth": 2
          },
          "scene": {
           "xaxis": {
            "backgroundcolor": "#E5ECF6",
            "gridcolor": "white",
            "linecolor": "white",
            "showbackground": true,
            "ticks": "",
            "zerolinecolor": "white",
            "gridwidth": 2
           },
           "yaxis": {
            "backgroundcolor": "#E5ECF6",
            "gridcolor": "white",
            "linecolor": "white",
            "showbackground": true,
            "ticks": "",
            "zerolinecolor": "white",
            "gridwidth": 2
           },
           "zaxis": {
            "backgroundcolor": "#E5ECF6",
            "gridcolor": "white",
            "linecolor": "white",
            "showbackground": true,
            "ticks": "",
            "zerolinecolor": "white",
            "gridwidth": 2
           }
          },
          "shapedefaults": {
           "line": {
            "color": "#2a3f5f"
           }
          },
          "annotationdefaults": {
           "arrowcolor": "#2a3f5f",
           "arrowhead": 0,
           "arrowwidth": 1
          },
          "geo": {
           "bgcolor": "white",
           "landcolor": "#E5ECF6",
           "subunitcolor": "white",
           "showland": true,
           "showlakes": true,
           "lakecolor": "white"
          },
          "title": {
           "x": 0.05
          },
          "mapbox": {
           "style": "light"
          }
         }
        },
        "xaxis": {
         "anchor": "y",
         "domain": [
          0.0,
          1.0
         ]
        },
        "yaxis": {
         "anchor": "x",
         "domain": [
          0.0,
          1.0
         ],
         "title": {
          "text": "charges"
         }
        },
        "legend": {
         "tracegroupgap": 0
        },
        "margin": {
         "t": 60
        },
        "boxmode": "group",
        "title": {
         "text": "Box-plot diagram for charges",
         "font": {
          "size": 20
         }
        }
       },
       "config": {
        "plotlyServerURL": "https://plot.ly"
       }
      },
      "text/html": "<div>                            <div id=\"7975ba31-3366-479a-a0a7-c6d7cc0e0abb\" class=\"plotly-graph-div\" style=\"height:525px; width:100%;\"></div>            <script type=\"text/javascript\">                require([\"plotly\"], function(Plotly) {                    window.PLOTLYENV=window.PLOTLYENV || {};                                    if (document.getElementById(\"7975ba31-3366-479a-a0a7-c6d7cc0e0abb\")) {                    Plotly.newPlot(                        \"7975ba31-3366-479a-a0a7-c6d7cc0e0abb\",                        [{\"alignmentgroup\":\"True\",\"hovertemplate\":\"charges=%{y}<extra></extra>\",\"legendgroup\":\"\",\"marker\":{\"color\":\"#636efa\"},\"name\":\"\",\"notched\":false,\"offsetgroup\":\"\",\"orientation\":\"v\",\"showlegend\":false,\"x0\":\" \",\"xaxis\":\"x\",\"y\":[16884.924,1725.5523,4449.462,21984.47061,3866.8552,3756.6216,8240.5896,7281.5056,6406.4107,28923.13692,2721.3208,27808.7251,1826.843,11090.7178,39611.7577,1837.237,10797.3362,2395.17155,10602.385,36837.467,13228.84695,4149.736,1137.011,37701.8768,6203.90175,14001.1338,14451.83515,12268.63225,2775.19215,38711.0,35585.576,2198.18985,4687.797,13770.0979,51194.55914,1625.43375,15612.19335,2302.3,39774.2763,48173.361,3046.062,4949.7587,6272.4772,6313.759,6079.6715,20630.28351,3393.35635,3556.9223,12629.8967,38709.176,2211.13075,3579.8287,23568.272,37742.5757,8059.6791,47496.49445,13607.36875,34303.1672,23244.7902,5989.52365,8606.2174,4504.6624,30166.61817,4133.64165,14711.7438,1743.214,14235.072,6389.37785,5920.1041,17663.1442,16577.7795,6799.458,11741.726,11946.6259,7726.854,11356.6609,3947.4131,1532.4697,2755.02095,6571.02435,4441.21315,7935.29115,37165.1638,11033.6617,39836.519,21098.55405,43578.9394,11073.176,8026.6666,11082.5772,2026.9741,10942.13205,30184.9367,5729.0053,47291.055,3766.8838,12105.32,10226.2842,22412.6485,15820.699,6186.127,3645.0894,21344.8467,30942.1918,5003.853,17560.37975,2331.519,3877.30425,2867.1196,47055.5321,10825.2537,11881.358,4646.759,2404.7338,11488.31695,30259.99556,11381.3254,19107.7796,8601.3293,6686.4313,7740.337,1705.6245,2257.47525,39556.4945,10115.00885,3385.39915,17081.08,9634.538,32734.1863,6082.405,12815.44495,13616.3586,11163.568,1632.56445,2457.21115,2155.6815,1261.442,2045.68525,27322.73386,2166.732,27375.90478,3490.5491,18972.495,18157.876,20745.9891,5138.2567,40720.55105,9877.6077,10959.6947,1842.519,5125.2157,7789.635,6334.34355,19964.7463,7077.1894,6948.7008,21223.6758,15518.18025,36950.2567,19749.38338,21348.706,36149.4835,10450.552,5152.134,5028.1466,10407.08585,4830.63,6128.79745,2719.27975,4827.90495,13405.3903,8116.68,1694.7964,5246.047,2855.43755,48824.45,6455.86265,10436.096,8823.279,8538.28845,11735.87905,1631.8212,4005.4225,7419.4779,7731.4271,43753.33705,3981.9768,5325.651,6775.961,4922.9159,12557.6053,4883.866,2137.6536,12044.342,1137.4697,1639.5631,5649.715,8516.829,9644.2525,14901.5167,2130.6759,8871.1517,13012.20865,37133.8982,7147.105,4337.7352,11743.299,20984.0936,13880.949,6610.1097,1980.07,8162.71625,3537.703,5002.7827,8520.026,7371.772,10355.641,2483.736,3392.9768,25081.76784,5012.471,10564.8845,5253.524,34779.615,19515.5416,11987.1682,2689.4954,24227.33724,7358.17565,9225.2564,7443.64305,14001.2867,1727.785,12333.828,6710.1919,19444.2658,1615.7667,4463.2051,17352.6803,7152.6714,38511.6283,5354.07465,35160.13457,7196.867,29523.1656,24476.47851,12648.7034,1986.9334,1832.094,4040.55825,12829.4551,47305.305,44260.7499,4260.744,41097.16175,13047.33235,43921.1837,5400.9805,11520.09985,33750.2918,11837.16,17085.2676,24869.8368,36219.40545,20462.99766,46151.1245,17179.522,14590.63205,7441.053,9282.4806,1719.4363,42856.838,7265.7025,9617.66245,2523.1695,9715.841,2803.69785,2150.469,12928.7911,9855.1314,22331.5668,48549.17835,4237.12655,11879.10405,9625.92,7742.1098,9432.9253,14256.1928,47896.79135,25992.82104,3172.018,20277.80751,42112.2356,2156.7518,3906.127,1704.5681,16297.846,21978.6769,38746.3551,9249.4952,6746.7425,24873.3849,12265.5069,4349.462,12646.207,19442.3535,20177.67113,4151.0287,11944.59435,7749.1564,8444.474,1737.376,42124.5153,8124.4084,34838.873,9722.7695,8835.26495,10435.06525,7421.19455,4667.60765,4894.7533,24671.66334,35491.64,11566.30055,2866.091,6600.20595,3561.8889,42760.5022,47928.03,9144.565,48517.56315,24393.6224,13429.0354,11658.37915,19144.57652,13822.803,12142.5786,13937.6665,41919.097,8232.6388,18955.22017,13352.0998,13217.0945,13981.85035,10977.2063,6184.2994,4889.9995,8334.45755,5478.0368,1635.73365,11830.6072,8932.084,3554.203,12404.8791,14133.03775,24603.04837,8944.1151,9620.3307,1837.2819,1607.5101,10043.249,4751.07,13844.506,2597.779,3180.5101,9778.3472,13430.265,8017.06115,8116.26885,3481.868,13415.0381,12029.2867,7639.41745,36085.219,1391.5287,18033.9679,21659.9301,38126.2465,16455.70785,27000.98473,15006.57945,42303.69215,20781.48892,5846.9176,8302.53565,1261.859,11856.4115,30284.64294,3176.8159,4618.0799,10736.87075,2138.0707,8964.06055,9290.1395,9411.005,7526.70645,8522.003,16586.49771,14988.432,1631.6683,9264.797,8083.9198,14692.66935,10269.46,3260.199,11396.9002,4185.0979,8539.671,6652.5288,4074.4537,1621.3402,19594.80965,14455.64405,5080.096,2134.9015,7345.7266,9140.951,18608.262,14418.2804,28950.4692,46889.2612,46599.1084,39125.33225,2727.3951,8968.33,9788.8659,6555.07035,7323.734819,3167.45585,18804.7524,23082.95533,4906.40965,5969.723,12638.195,4243.59005,13919.8229,2254.7967,5926.846,12592.5345,2897.3235,4738.2682,37079.372,1149.3959,28287.89766,26109.32905,7345.084,12730.9996,11454.0215,5910.944,4762.329,7512.267,4032.2407,1969.614,1769.53165,4686.3887,21797.0004,11881.9696,11840.77505,10601.412,7682.67,10381.4787,22144.032,15230.32405,11165.41765,1632.03625,19521.9682,13224.693,12643.3778,23288.9284,2201.0971,2497.0383,2203.47185,1744.465,20878.78443,25382.297,28868.6639,35147.52848,2534.39375,1534.3045,1824.2854,15555.18875,9304.7019,1622.1885,9880.068,9563.029,4347.02335,12475.3513,1253.936,48885.13561,10461.9794,1748.774,24513.09126,2196.4732,12574.049,17942.106,1967.0227,4931.647,8027.968,8211.1002,13470.86,36197.699,6837.3687,22218.1149,32548.3405,5974.3847,6796.86325,2643.2685,3077.0955,3044.2133,11455.28,11763.0009,2498.4144,9361.3268,1256.299,21082.16,11362.755,27724.28875,8413.46305,5240.765,3857.75925,25656.57526,3994.1778,9866.30485,5397.6167,38245.59327,11482.63485,24059.68019,9861.025,8342.90875,1708.0014,48675.5177,14043.4767,12925.886,19214.70553,13831.1152,6067.12675,5972.378,8825.086,8233.0975,27346.04207,6196.448,3056.3881,13887.204,63770.42801,10231.4999,23807.2406,3268.84665,11538.421,3213.62205,45863.205,13390.559,3972.9247,12957.118,11187.6567,17878.90068,3847.674,8334.5896,3935.1799,39983.42595,1646.4297,9193.8385,10923.9332,2494.022,9058.7303,2801.2588,2128.43105,6373.55735,7256.7231,11552.904,45702.02235,3761.292,2219.4451,4753.6368,31620.00106,13224.05705,12222.8983,1664.9996,58571.07448,9724.53,3206.49135,12913.9924,1639.5631,6356.2707,17626.23951,1242.816,4779.6023,3861.20965,43943.8761,13635.6379,5976.8311,11842.442,8428.0693,2566.4707,15359.1045,5709.1644,8823.98575,7640.3092,5594.8455,7441.501,33471.97189,1633.0444,9174.13565,11070.535,16085.1275,17468.9839,9283.562,3558.62025,25678.77845,4435.0942,39241.442,8547.6913,6571.544,2207.69745,6753.038,1880.07,42969.8527,11658.11505,23306.547,34439.8559,10713.644,3659.346,40182.246,9182.17,34617.84065,12129.61415,3736.4647,6748.5912,11326.71487,11365.952,42983.4585,10085.846,1977.815,3366.6697,7173.35995,9391.346,14410.9321,2709.1119,24915.04626,20149.3229,12949.1554,6666.243,32787.45859,13143.86485,4466.6214,18806.14547,10141.1362,6123.5688,8252.2843,1712.227,12430.95335,9800.8882,10579.711,8280.6227,8527.532,12244.531,24667.419,3410.324,4058.71245,26392.26029,14394.39815,6435.6237,22192.43711,5148.5526,1136.3994,27037.9141,42560.4304,8703.456,40003.33225,45710.20785,6500.2359,4837.5823,3943.5954,4399.731,6185.3208,46200.9851,7222.78625,12485.8009,46130.5265,12363.547,10156.7832,2585.269,1242.26,40103.89,9863.4718,4766.022,11244.3769,7729.64575,5438.7491,26236.57997,34806.4677,2104.1134,8068.185,2362.22905,2352.96845,3577.999,3201.24515,29186.48236,40273.6455,10976.24575,3500.6123,2020.5523,9541.69555,9504.3103,5385.3379,8930.93455,5375.038,44400.4064,10264.4421,6113.23105,5469.0066,1727.54,10107.2206,8310.83915,1984.4533,2457.502,12146.971,9566.9909,13112.6048,10848.1343,12231.6136,9875.6804,11264.541,12979.358,1263.249,10106.13425,40932.4295,6664.68595,16657.71745,2217.6012,6781.3542,19361.9988,10065.413,4234.927,9447.25035,14007.222,9583.8933,40419.0191,3484.331,36189.1017,44585.45587,8604.48365,18246.4955,43254.41795,3757.8448,8827.2099,9910.35985,11737.84884,1627.28245,8556.907,3062.50825,19539.243,1906.35825,14210.53595,11833.7823,17128.42608,5031.26955,7985.815,23065.4207,5428.7277,36307.7983,3925.7582,2416.955,19040.876,3070.8087,9095.06825,11842.62375,8062.764,7050.642,14319.031,6933.24225,27941.28758,11150.78,12797.20962,17748.5062,7261.741,10560.4917,6986.697,7448.40395,5934.3798,9869.8102,18259.216,1146.7966,9386.1613,24520.264,4350.5144,6414.178,12741.16745,1917.3184,5209.57885,13457.9608,5662.225,1252.407,2731.9122,21195.818,7209.4918,18310.742,4266.1658,4719.52405,11848.141,17904.52705,7046.7222,14313.8463,2103.08,38792.6856,1815.8759,7731.85785,28476.73499,2136.88225,1131.5066,3309.7926,9414.92,6360.9936,11013.7119,4428.88785,5584.3057,1877.9294,2842.76075,3597.596,23401.30575,55135.40209,7445.918,2680.9493,1621.8827,8219.2039,12523.6048,16069.08475,43813.8661,20773.62775,39597.4072,6117.4945,13393.756,5266.3656,4719.73655,11743.9341,5377.4578,7160.3303,4402.233,11657.7189,6402.29135,12622.1795,1526.312,12323.936,36021.0112,27533.9129,10072.05505,45008.9555,9872.701,2438.0552,2974.126,10601.63225,37270.1512,14119.62,42111.6647,11729.6795,24106.91255,1875.344,40974.1649,15817.9857,18218.16139,10965.446,46113.511,7151.092,12269.68865,5458.04645,8782.469,6600.361,1141.4451,11576.13,13129.60345,4391.652,8457.818,3392.3652,5966.8874,6849.026,8891.1395,2690.1138,26140.3603,6653.7886,6282.235,6311.952,3443.064,2789.0574,2585.85065,46255.1125,4877.98105,19719.6947,27218.43725,5272.1758,1682.597,11945.1327,29330.98315,7243.8136,10422.91665,44202.6536,13555.0049,13063.883,19798.05455,2221.56445,1634.5734,2117.33885,8688.85885,48673.5588,4661.28635,8125.7845,12644.589,4564.19145,4846.92015,7633.7206,15170.069,17496.306,2639.0429,33732.6867,14382.70905,7626.993,5257.50795,2473.3341,21774.32215,35069.37452,13041.921,5245.2269,13451.122,13462.52,5488.262,4320.41085,6250.435,25333.33284,2913.569,12032.326,13470.8044,6289.7549,2927.0647,6238.298,10096.97,7348.142,4673.3922,12233.828,32108.66282,8965.79575,2304.0022,9487.6442,1121.8739,9549.5651,2217.46915,1628.4709,12982.8747,11674.13,7160.094,39047.285,6358.77645,19933.458,11534.87265,47462.894,4527.18295,38998.546,20009.63365,3875.7341,41999.52,12609.88702,41034.2214,28468.91901,2730.10785,3353.284,14474.675,9500.57305,26467.09737,4746.344,23967.38305,7518.02535,3279.86855,8596.8278,10702.6424,4992.3764,2527.81865,1759.338,2322.6218,16138.76205,7804.1605,2902.9065,9704.66805,4889.0368,25517.11363,4500.33925,19199.944,16796.41194,4915.05985,7624.63,8410.04685,28340.18885,4518.82625,14571.8908,3378.91,7144.86265,10118.424,5484.4673,16420.49455,7986.47525,7418.522,13887.9685,6551.7501,5267.81815,17361.7661,34472.841,1972.95,21232.18226,8627.5411,4433.3877,4438.2634,24915.22085,23241.47453,9957.7216,8269.044,18767.7377,36580.28216,8765.249,5383.536,12124.9924,2709.24395,3987.926,12495.29085,26018.95052,8798.593,35595.5898,42211.1382,1711.0268,8569.8618,2020.177,16450.8947,21595.38229,9850.432,6877.9801,21677.28345,44423.803,4137.5227,13747.87235,12950.0712,12094.478,37484.4493,39725.51805,2250.8352,22493.65964,20234.85475,1704.70015,33475.81715,3161.454,11394.06555,21880.82,7325.0482,44501.3982,3594.17085,39727.614,8023.13545,14394.5579,9288.0267,25309.489,3353.4703,10594.50155,8277.523,17929.30337,2480.9791,4462.7218,1981.5819,11554.2236,48970.2476,6548.19505,5708.867,7045.499,8978.1851,5757.41345,14349.8544,10928.849,39871.7043,13974.45555,1909.52745,12096.6512,13204.28565,4562.8421,8551.347,2102.2647,34672.1472,15161.5344,11884.04858,4454.40265,5855.9025,4076.497,15019.76005,19023.26,10796.35025,11353.2276,9748.9106,10577.087,41676.0811,11286.5387,3591.48,33907.548,11299.343,4561.1885,44641.1974,1674.6323,23045.56616,3227.1211,16776.30405,11253.421,3471.4096,11363.2832,20420.60465,10338.9316,8988.15875,10493.9458,2904.088,8605.3615,11512.405,41949.2441,24180.9335,5312.16985,2396.0959,10807.4863,9222.4026,36124.5737,38282.7495,5693.4305,34166.273,8347.1643,46661.4424,18903.49141,40904.1995,14254.6082,10214.636,5836.5204,14358.36437,1728.897,8582.3023,3693.428,20709.02034,9991.03765,19673.33573,11085.5868,7623.518,3176.2877,3704.3545,36898.73308,9048.0273,7954.517,27117.99378,6338.0756,9630.397,11289.10925,52590.82939,2261.5688,10791.96,5979.731,2203.73595,12235.8392,40941.2854,5630.45785,11015.1747,7228.21565,39722.7462,14426.07385,2459.7201,3989.841,7727.2532,5124.1887,18963.17192,2200.83085,7153.5539,5227.98875,10982.5013,4529.477,4670.64,6112.35295,17178.6824,22478.6,11093.6229,6457.8434,4433.9159,2154.361,23887.6627,6496.886,2899.48935,19350.3689,7650.77375,2850.68375,2632.992,9447.3824,18328.2381,8603.8234,37465.34375,13844.7972,21771.3423,13126.67745,5327.40025,13725.47184,13019.16105,8671.19125,4134.08245,18838.70366,33307.5508,5699.8375,6393.60345,4934.705,6198.7518,8733.22925,2055.3249,9964.06,18223.4512,5116.5004,36910.60803,38415.474,20296.86345,12347.172,5373.36425,23563.01618,1702.4553,10806.839,3956.07145,12890.05765,5415.6612,4058.1161,41661.602,7537.1639,4718.20355,6593.5083,8442.667,26125.67477,6858.4796,4795.6568,6640.54485,7162.0122,10594.2257,11938.25595,60021.39897,20167.33603,12479.70895,11345.519,8515.7587,2699.56835,14449.8544,12224.35085,6985.50695,3238.4357,47269.854,49577.6624,4296.2712,3171.6149,1135.9407,5615.369,9101.798,6059.173,1633.9618,37607.5277,18648.4217,1241.565,16232.847,15828.82173,4415.1588,6474.013,11436.73815,11305.93455,30063.58055,10197.7722,4544.2348,3277.161,6770.1925,7337.748,10370.91255,26926.5144,10704.47,34254.05335,1880.487,8615.3,3292.52985,3021.80915,14478.33015,4747.0529,17043.3414,10959.33,2741.948,4357.04365,22462.04375,4189.1131,8283.6807,24535.69855,14283.4594,1720.3537,47403.88,8534.6718,3732.6251,5472.449,38344.566,7147.4728,7133.9025,34828.654,1515.3449,9301.89355,11931.12525,1964.78,1708.92575,4340.4409,5261.46945,2710.82855,62592.87309,46718.16325,3208.787,37829.7242,21259.37795,2464.6188,16115.3045,21472.4788,33900.653,6875.961,6940.90985,4571.41305,4536.259,36397.576,18765.87545,11272.33139,1731.677,1163.4627,19496.71917,7201.70085,5425.02335,28101.33305,12981.3457,43896.3763,4239.89265,13143.33665,7050.0213,9377.9047,22395.74424,10325.206,12629.1656,10795.93733,11411.685,10600.5483,2205.9808,1629.8335,2007.945,29141.3603],\"y0\":\" \",\"yaxis\":\"y\",\"type\":\"box\"}],                        {\"template\":{\"data\":{\"histogram2dcontour\":[{\"type\":\"histogram2dcontour\",\"colorbar\":{\"outlinewidth\":0,\"ticks\":\"\"},\"colorscale\":[[0.0,\"#0d0887\"],[0.1111111111111111,\"#46039f\"],[0.2222222222222222,\"#7201a8\"],[0.3333333333333333,\"#9c179e\"],[0.4444444444444444,\"#bd3786\"],[0.5555555555555556,\"#d8576b\"],[0.6666666666666666,\"#ed7953\"],[0.7777777777777778,\"#fb9f3a\"],[0.8888888888888888,\"#fdca26\"],[1.0,\"#f0f921\"]]}],\"choropleth\":[{\"type\":\"choropleth\",\"colorbar\":{\"outlinewidth\":0,\"ticks\":\"\"}}],\"histogram2d\":[{\"type\":\"histogram2d\",\"colorbar\":{\"outlinewidth\":0,\"ticks\":\"\"},\"colorscale\":[[0.0,\"#0d0887\"],[0.1111111111111111,\"#46039f\"],[0.2222222222222222,\"#7201a8\"],[0.3333333333333333,\"#9c179e\"],[0.4444444444444444,\"#bd3786\"],[0.5555555555555556,\"#d8576b\"],[0.6666666666666666,\"#ed7953\"],[0.7777777777777778,\"#fb9f3a\"],[0.8888888888888888,\"#fdca26\"],[1.0,\"#f0f921\"]]}],\"heatmap\":[{\"type\":\"heatmap\",\"colorbar\":{\"outlinewidth\":0,\"ticks\":\"\"},\"colorscale\":[[0.0,\"#0d0887\"],[0.1111111111111111,\"#46039f\"],[0.2222222222222222,\"#7201a8\"],[0.3333333333333333,\"#9c179e\"],[0.4444444444444444,\"#bd3786\"],[0.5555555555555556,\"#d8576b\"],[0.6666666666666666,\"#ed7953\"],[0.7777777777777778,\"#fb9f3a\"],[0.8888888888888888,\"#fdca26\"],[1.0,\"#f0f921\"]]}],\"heatmapgl\":[{\"type\":\"heatmapgl\",\"colorbar\":{\"outlinewidth\":0,\"ticks\":\"\"},\"colorscale\":[[0.0,\"#0d0887\"],[0.1111111111111111,\"#46039f\"],[0.2222222222222222,\"#7201a8\"],[0.3333333333333333,\"#9c179e\"],[0.4444444444444444,\"#bd3786\"],[0.5555555555555556,\"#d8576b\"],[0.6666666666666666,\"#ed7953\"],[0.7777777777777778,\"#fb9f3a\"],[0.8888888888888888,\"#fdca26\"],[1.0,\"#f0f921\"]]}],\"contourcarpet\":[{\"type\":\"contourcarpet\",\"colorbar\":{\"outlinewidth\":0,\"ticks\":\"\"}}],\"contour\":[{\"type\":\"contour\",\"colorbar\":{\"outlinewidth\":0,\"ticks\":\"\"},\"colorscale\":[[0.0,\"#0d0887\"],[0.1111111111111111,\"#46039f\"],[0.2222222222222222,\"#7201a8\"],[0.3333333333333333,\"#9c179e\"],[0.4444444444444444,\"#bd3786\"],[0.5555555555555556,\"#d8576b\"],[0.6666666666666666,\"#ed7953\"],[0.7777777777777778,\"#fb9f3a\"],[0.8888888888888888,\"#fdca26\"],[1.0,\"#f0f921\"]]}],\"surface\":[{\"type\":\"surface\",\"colorbar\":{\"outlinewidth\":0,\"ticks\":\"\"},\"colorscale\":[[0.0,\"#0d0887\"],[0.1111111111111111,\"#46039f\"],[0.2222222222222222,\"#7201a8\"],[0.3333333333333333,\"#9c179e\"],[0.4444444444444444,\"#bd3786\"],[0.5555555555555556,\"#d8576b\"],[0.6666666666666666,\"#ed7953\"],[0.7777777777777778,\"#fb9f3a\"],[0.8888888888888888,\"#fdca26\"],[1.0,\"#f0f921\"]]}],\"mesh3d\":[{\"type\":\"mesh3d\",\"colorbar\":{\"outlinewidth\":0,\"ticks\":\"\"}}],\"scatter\":[{\"fillpattern\":{\"fillmode\":\"overlay\",\"size\":10,\"solidity\":0.2},\"type\":\"scatter\"}],\"parcoords\":[{\"type\":\"parcoords\",\"line\":{\"colorbar\":{\"outlinewidth\":0,\"ticks\":\"\"}}}],\"scatterpolargl\":[{\"type\":\"scatterpolargl\",\"marker\":{\"colorbar\":{\"outlinewidth\":0,\"ticks\":\"\"}}}],\"bar\":[{\"error_x\":{\"color\":\"#2a3f5f\"},\"error_y\":{\"color\":\"#2a3f5f\"},\"marker\":{\"line\":{\"color\":\"#E5ECF6\",\"width\":0.5},\"pattern\":{\"fillmode\":\"overlay\",\"size\":10,\"solidity\":0.2}},\"type\":\"bar\"}],\"scattergeo\":[{\"type\":\"scattergeo\",\"marker\":{\"colorbar\":{\"outlinewidth\":0,\"ticks\":\"\"}}}],\"scatterpolar\":[{\"type\":\"scatterpolar\",\"marker\":{\"colorbar\":{\"outlinewidth\":0,\"ticks\":\"\"}}}],\"histogram\":[{\"marker\":{\"pattern\":{\"fillmode\":\"overlay\",\"size\":10,\"solidity\":0.2}},\"type\":\"histogram\"}],\"scattergl\":[{\"type\":\"scattergl\",\"marker\":{\"colorbar\":{\"outlinewidth\":0,\"ticks\":\"\"}}}],\"scatter3d\":[{\"type\":\"scatter3d\",\"line\":{\"colorbar\":{\"outlinewidth\":0,\"ticks\":\"\"}},\"marker\":{\"colorbar\":{\"outlinewidth\":0,\"ticks\":\"\"}}}],\"scattermapbox\":[{\"type\":\"scattermapbox\",\"marker\":{\"colorbar\":{\"outlinewidth\":0,\"ticks\":\"\"}}}],\"scatterternary\":[{\"type\":\"scatterternary\",\"marker\":{\"colorbar\":{\"outlinewidth\":0,\"ticks\":\"\"}}}],\"scattercarpet\":[{\"type\":\"scattercarpet\",\"marker\":{\"colorbar\":{\"outlinewidth\":0,\"ticks\":\"\"}}}],\"carpet\":[{\"aaxis\":{\"endlinecolor\":\"#2a3f5f\",\"gridcolor\":\"white\",\"linecolor\":\"white\",\"minorgridcolor\":\"white\",\"startlinecolor\":\"#2a3f5f\"},\"baxis\":{\"endlinecolor\":\"#2a3f5f\",\"gridcolor\":\"white\",\"linecolor\":\"white\",\"minorgridcolor\":\"white\",\"startlinecolor\":\"#2a3f5f\"},\"type\":\"carpet\"}],\"table\":[{\"cells\":{\"fill\":{\"color\":\"#EBF0F8\"},\"line\":{\"color\":\"white\"}},\"header\":{\"fill\":{\"color\":\"#C8D4E3\"},\"line\":{\"color\":\"white\"}},\"type\":\"table\"}],\"barpolar\":[{\"marker\":{\"line\":{\"color\":\"#E5ECF6\",\"width\":0.5},\"pattern\":{\"fillmode\":\"overlay\",\"size\":10,\"solidity\":0.2}},\"type\":\"barpolar\"}],\"pie\":[{\"automargin\":true,\"type\":\"pie\"}]},\"layout\":{\"autotypenumbers\":\"strict\",\"colorway\":[\"#636efa\",\"#EF553B\",\"#00cc96\",\"#ab63fa\",\"#FFA15A\",\"#19d3f3\",\"#FF6692\",\"#B6E880\",\"#FF97FF\",\"#FECB52\"],\"font\":{\"color\":\"#2a3f5f\"},\"hovermode\":\"closest\",\"hoverlabel\":{\"align\":\"left\"},\"paper_bgcolor\":\"white\",\"plot_bgcolor\":\"#E5ECF6\",\"polar\":{\"bgcolor\":\"#E5ECF6\",\"angularaxis\":{\"gridcolor\":\"white\",\"linecolor\":\"white\",\"ticks\":\"\"},\"radialaxis\":{\"gridcolor\":\"white\",\"linecolor\":\"white\",\"ticks\":\"\"}},\"ternary\":{\"bgcolor\":\"#E5ECF6\",\"aaxis\":{\"gridcolor\":\"white\",\"linecolor\":\"white\",\"ticks\":\"\"},\"baxis\":{\"gridcolor\":\"white\",\"linecolor\":\"white\",\"ticks\":\"\"},\"caxis\":{\"gridcolor\":\"white\",\"linecolor\":\"white\",\"ticks\":\"\"}},\"coloraxis\":{\"colorbar\":{\"outlinewidth\":0,\"ticks\":\"\"}},\"colorscale\":{\"sequential\":[[0.0,\"#0d0887\"],[0.1111111111111111,\"#46039f\"],[0.2222222222222222,\"#7201a8\"],[0.3333333333333333,\"#9c179e\"],[0.4444444444444444,\"#bd3786\"],[0.5555555555555556,\"#d8576b\"],[0.6666666666666666,\"#ed7953\"],[0.7777777777777778,\"#fb9f3a\"],[0.8888888888888888,\"#fdca26\"],[1.0,\"#f0f921\"]],\"sequentialminus\":[[0.0,\"#0d0887\"],[0.1111111111111111,\"#46039f\"],[0.2222222222222222,\"#7201a8\"],[0.3333333333333333,\"#9c179e\"],[0.4444444444444444,\"#bd3786\"],[0.5555555555555556,\"#d8576b\"],[0.6666666666666666,\"#ed7953\"],[0.7777777777777778,\"#fb9f3a\"],[0.8888888888888888,\"#fdca26\"],[1.0,\"#f0f921\"]],\"diverging\":[[0,\"#8e0152\"],[0.1,\"#c51b7d\"],[0.2,\"#de77ae\"],[0.3,\"#f1b6da\"],[0.4,\"#fde0ef\"],[0.5,\"#f7f7f7\"],[0.6,\"#e6f5d0\"],[0.7,\"#b8e186\"],[0.8,\"#7fbc41\"],[0.9,\"#4d9221\"],[1,\"#276419\"]]},\"xaxis\":{\"gridcolor\":\"white\",\"linecolor\":\"white\",\"ticks\":\"\",\"title\":{\"standoff\":15},\"zerolinecolor\":\"white\",\"automargin\":true,\"zerolinewidth\":2},\"yaxis\":{\"gridcolor\":\"white\",\"linecolor\":\"white\",\"ticks\":\"\",\"title\":{\"standoff\":15},\"zerolinecolor\":\"white\",\"automargin\":true,\"zerolinewidth\":2},\"scene\":{\"xaxis\":{\"backgroundcolor\":\"#E5ECF6\",\"gridcolor\":\"white\",\"linecolor\":\"white\",\"showbackground\":true,\"ticks\":\"\",\"zerolinecolor\":\"white\",\"gridwidth\":2},\"yaxis\":{\"backgroundcolor\":\"#E5ECF6\",\"gridcolor\":\"white\",\"linecolor\":\"white\",\"showbackground\":true,\"ticks\":\"\",\"zerolinecolor\":\"white\",\"gridwidth\":2},\"zaxis\":{\"backgroundcolor\":\"#E5ECF6\",\"gridcolor\":\"white\",\"linecolor\":\"white\",\"showbackground\":true,\"ticks\":\"\",\"zerolinecolor\":\"white\",\"gridwidth\":2}},\"shapedefaults\":{\"line\":{\"color\":\"#2a3f5f\"}},\"annotationdefaults\":{\"arrowcolor\":\"#2a3f5f\",\"arrowhead\":0,\"arrowwidth\":1},\"geo\":{\"bgcolor\":\"white\",\"landcolor\":\"#E5ECF6\",\"subunitcolor\":\"white\",\"showland\":true,\"showlakes\":true,\"lakecolor\":\"white\"},\"title\":{\"x\":0.05},\"mapbox\":{\"style\":\"light\"}}},\"xaxis\":{\"anchor\":\"y\",\"domain\":[0.0,1.0]},\"yaxis\":{\"anchor\":\"x\",\"domain\":[0.0,1.0],\"title\":{\"text\":\"charges\"}},\"legend\":{\"tracegroupgap\":0},\"margin\":{\"t\":60},\"boxmode\":\"group\",\"title\":{\"text\":\"Box-plot diagram for charges\",\"font\":{\"size\":20}}},                        {\"responsive\": true}                    ).then(function(){\n                            \nvar gd = document.getElementById('7975ba31-3366-479a-a0a7-c6d7cc0e0abb');\nvar x = new MutationObserver(function (mutations, observer) {{\n        var display = window.getComputedStyle(gd).display;\n        if (!display || display === 'none') {{\n            console.log([gd, 'removed!']);\n            Plotly.purge(gd);\n            observer.disconnect();\n        }}\n}});\n\n// Listen for the removal of the full notebook cells\nvar notebookContainer = gd.closest('#notebook-container');\nif (notebookContainer) {{\n    x.observe(notebookContainer, {childList: true});\n}}\n\n// Listen for the clearing of the current output cell\nvar outputEl = gd.closest('.output');\nif (outputEl) {{\n    x.observe(outputEl, {childList: true});\n}}\n\n                        })                };                });            </script>        </div>"
     },
     "metadata": {},
     "output_type": "display_data"
    }
   ],
   "source": [
    "def plot_numeric(data: pd.DataFrame) -> None:\n",
    "      for key in data.keys():\n",
    "            if type(data[key][0]) != str:\n",
    "                  fig = px.box(data, y=key)\n",
    "                  fig.update_layout(title=f'Box-plot diagram for {key}', title_font_size=20)\n",
    "                  fig.show()\n",
    "\n",
    "plot_numeric(df)"
   ],
   "metadata": {
    "collapsed": false,
    "pycharm": {
     "name": "#%%\n"
    }
   }
  },
  {
   "cell_type": "markdown",
   "source": [
    "**Что мы построили?** - ящик с усами, показывающий рпспределение вероятностей.\n",
    "\n",
    "По диаграммам, построенным  выше, мы можем узнать следующую информацию:\n",
    "* max - максимальное значение.\n",
    "* upper fence - верхняя граница.\n",
    "* q3 - верхний квартиль (точки со значениям меньше/равными 75%  среди всех данных)\n",
    "* median - медиану.\n",
    "* q1 - нижний квартиль (точки со значениям меньше/равными 25%  среди всех данных).\n",
    "* min - минимальное значение, в данном случае еще и нижняя граница."
   ],
   "metadata": {
    "collapsed": false
   }
  },
  {
   "cell_type": "markdown",
   "source": [
    "## 6. Используя признак charges или imb, проверить, выполняется ли центральная предельная теорема. Использовать различные длины выборок n. Количество выборок = 300. Вывести результат в виде гистограмм. Найти стандартное отклонение и среднее для полученных распределений. Сделать выводы."
   ],
   "metadata": {
    "collapsed": false
   }
  },
  {
   "cell_type": "markdown",
   "source": [
    "Возьмем 300 выборок, для каждой из этих выборок посчитать среднее значение, и сделать список из этих 300 средних, и по этому списку график. У нас 1338 строк данных."
   ],
   "metadata": {
    "collapsed": false
   }
  },
  {
   "cell_type": "code",
   "execution_count": 306,
   "outputs": [
    {
     "name": "stderr",
     "output_type": "stream",
     "text": [
      "100%|██████████| 300/300 [00:00<00:00, 322.83it/s]\n"
     ]
    }
   ],
   "source": [
    "bmi_averages = []\n",
    "charges_averages = []\n",
    "\n",
    "for i in tqdm.tqdm(range(0,300)):\n",
    "      df = shuffle(df).reset_index()\n",
    "      df = df.drop(columns=['index'])\n",
    "      bmi_averages.append(statistics.mean(list(df['bmi'][0:1000])))\n",
    "      charges_averages.append(statistics.mean(list(df['charges'][0:1000])))"
   ],
   "metadata": {
    "collapsed": false,
    "pycharm": {
     "name": "#%%\n"
    }
   }
  },
  {
   "cell_type": "markdown",
   "source": [
    "Строим графики"
   ],
   "metadata": {
    "collapsed": false
   }
  },
  {
   "cell_type": "code",
   "execution_count": 307,
   "outputs": [
    {
     "data": {
      "application/vnd.plotly.v1+json": {
       "data": [
        {
         "alignmentgroup": "True",
         "bingroup": "x",
         "hovertemplate": "variable=0<br>value=%{x}<br>count=%{y}<extra></extra>",
         "legendgroup": "0",
         "marker": {
          "color": "#636efa",
          "pattern": {
           "shape": ""
          },
          "line": {
           "color": "grey",
           "width": 2
          },
          "coloraxis": "coloraxis"
         },
         "name": "0",
         "nbinsx": 20,
         "offsetgroup": "0",
         "orientation": "v",
         "showlegend": true,
         "x": [
          30.7818,
          30.57228,
          30.691175,
          30.497935000000002,
          30.59343,
          30.607185,
          30.5818,
          30.609495,
          30.778285,
          30.75129,
          30.51874,
          30.704225,
          30.533845,
          30.723335,
          30.71547,
          30.717825,
          30.673505,
          30.5712,
          30.82616,
          30.52563,
          30.718715,
          30.71224,
          30.676855,
          30.816285,
          30.95306,
          30.825025,
          30.63254,
          30.627935,
          30.70767,
          30.72008,
          30.77065,
          30.70737,
          30.7849,
          30.63771,
          30.51852,
          30.76934,
          30.62888,
          30.601335,
          30.74109,
          30.73013,
          30.670195,
          30.647815,
          30.55739,
          30.68823,
          30.67328,
          30.637035,
          30.674525,
          30.776395,
          30.617855,
          30.636415,
          30.620635,
          30.55194,
          30.71833,
          30.65922,
          30.75461,
          30.64203,
          30.597225,
          30.70299,
          30.66913,
          30.735175,
          30.839025,
          30.641725,
          30.80692,
          30.577215,
          30.723595,
          30.752425,
          30.941915,
          30.620445,
          30.739355,
          30.63824,
          30.622325,
          30.843140000000002,
          30.56123,
          30.58711,
          30.63846,
          30.595365,
          30.7269,
          30.669375,
          30.75149,
          30.70839,
          30.663945000000002,
          30.724555,
          30.55389,
          30.688795,
          30.71741,
          30.60595,
          30.489175,
          30.78367,
          30.64076,
          30.57969,
          30.870635,
          30.70335,
          30.66038,
          30.44436,
          30.648545,
          30.57813,
          30.60502,
          30.56788,
          30.76127,
          30.565125,
          30.608275,
          30.67772,
          30.736485,
          30.67691,
          31.03914,
          30.507235,
          30.45684,
          30.557985,
          30.540195,
          30.767195,
          30.738905,
          30.81525,
          30.71275,
          30.62336,
          30.639055,
          30.744915,
          30.84178,
          30.546005,
          30.610025,
          30.61057,
          30.641615,
          30.62605,
          30.583,
          30.614675,
          30.84229,
          30.8993,
          30.752155,
          30.798535,
          30.68118,
          30.68426,
          30.66936,
          30.67691,
          30.809935,
          30.780075,
          30.675565,
          30.79094,
          30.629065,
          30.65393,
          30.72934,
          30.6972,
          30.7799,
          30.506905,
          30.60346,
          30.704335,
          30.76504,
          30.709905,
          30.587525,
          30.73991,
          30.55074,
          30.72696,
          30.6239,
          30.837215,
          30.525315,
          30.579975,
          30.647265,
          30.66663,
          30.814105,
          30.690665,
          30.52674,
          30.778035,
          30.580615,
          30.485565,
          30.49869,
          30.549885,
          30.54511,
          30.518465,
          30.765715,
          30.760035,
          30.60743,
          30.5403,
          30.73538,
          30.59915,
          30.904195,
          30.71332,
          30.623065,
          30.57367,
          30.717105,
          30.654535,
          30.750305,
          30.58793,
          30.616875,
          30.6614,
          30.67878,
          30.564535,
          30.68081,
          30.68927,
          30.552715,
          30.6017,
          30.60185,
          30.671015,
          30.66976,
          30.67233,
          30.692435,
          30.68062,
          30.484625,
          30.527665,
          30.553745,
          30.83736,
          30.584175,
          30.61789,
          30.891395,
          30.697825,
          30.75195,
          30.627685,
          30.60139,
          30.576605,
          30.708845,
          30.694985,
          30.782875,
          30.700305,
          30.82346,
          30.875775,
          30.78126,
          30.585755,
          30.73568,
          30.79253,
          30.57677,
          30.67962,
          30.56061,
          30.68011,
          30.64151,
          30.573235,
          30.72129,
          30.61825,
          30.59998,
          30.710295,
          30.594865,
          30.802505,
          30.72988,
          30.7117,
          30.80656,
          30.59975,
          30.744835,
          30.641905,
          30.44864,
          30.730235,
          30.70865,
          30.688795,
          30.543565,
          30.630665,
          30.645355,
          30.576435,
          30.797235,
          30.4829,
          30.56507,
          30.759595,
          30.72352,
          30.632365,
          30.66714,
          30.670135,
          30.74152,
          30.683685,
          30.64597,
          30.740385,
          30.57408,
          30.653515,
          30.687565,
          30.67493,
          30.703065,
          30.571895,
          30.639505,
          30.837545,
          30.750205,
          30.711295,
          30.59516,
          30.60087,
          30.704105,
          30.71465,
          30.67863,
          30.573285,
          30.564005,
          30.639745,
          30.678805,
          30.524735,
          30.726065,
          30.355745,
          30.623725,
          30.65943,
          30.851005,
          30.54701,
          30.45521,
          30.69488,
          30.615625,
          30.777665,
          30.705105,
          30.8581,
          30.62286,
          30.643015,
          30.63434,
          30.682105,
          30.798235,
          30.725935,
          30.68025,
          30.738515,
          30.560995,
          30.544705,
          30.808235,
          30.751425,
          30.741105,
          30.619555000000002
         ],
         "xaxis": "x",
         "yaxis": "y",
         "type": "histogram",
         "textfont": {
          "size": 14
         },
         "textangle": 0,
         "textposition": "outside"
        }
       ],
       "layout": {
        "template": {
         "data": {
          "histogram2dcontour": [
           {
            "type": "histogram2dcontour",
            "colorbar": {
             "outlinewidth": 0,
             "ticks": ""
            },
            "colorscale": [
             [
              0.0,
              "#0d0887"
             ],
             [
              0.1111111111111111,
              "#46039f"
             ],
             [
              0.2222222222222222,
              "#7201a8"
             ],
             [
              0.3333333333333333,
              "#9c179e"
             ],
             [
              0.4444444444444444,
              "#bd3786"
             ],
             [
              0.5555555555555556,
              "#d8576b"
             ],
             [
              0.6666666666666666,
              "#ed7953"
             ],
             [
              0.7777777777777778,
              "#fb9f3a"
             ],
             [
              0.8888888888888888,
              "#fdca26"
             ],
             [
              1.0,
              "#f0f921"
             ]
            ]
           }
          ],
          "choropleth": [
           {
            "type": "choropleth",
            "colorbar": {
             "outlinewidth": 0,
             "ticks": ""
            }
           }
          ],
          "histogram2d": [
           {
            "type": "histogram2d",
            "colorbar": {
             "outlinewidth": 0,
             "ticks": ""
            },
            "colorscale": [
             [
              0.0,
              "#0d0887"
             ],
             [
              0.1111111111111111,
              "#46039f"
             ],
             [
              0.2222222222222222,
              "#7201a8"
             ],
             [
              0.3333333333333333,
              "#9c179e"
             ],
             [
              0.4444444444444444,
              "#bd3786"
             ],
             [
              0.5555555555555556,
              "#d8576b"
             ],
             [
              0.6666666666666666,
              "#ed7953"
             ],
             [
              0.7777777777777778,
              "#fb9f3a"
             ],
             [
              0.8888888888888888,
              "#fdca26"
             ],
             [
              1.0,
              "#f0f921"
             ]
            ]
           }
          ],
          "heatmap": [
           {
            "type": "heatmap",
            "colorbar": {
             "outlinewidth": 0,
             "ticks": ""
            },
            "colorscale": [
             [
              0.0,
              "#0d0887"
             ],
             [
              0.1111111111111111,
              "#46039f"
             ],
             [
              0.2222222222222222,
              "#7201a8"
             ],
             [
              0.3333333333333333,
              "#9c179e"
             ],
             [
              0.4444444444444444,
              "#bd3786"
             ],
             [
              0.5555555555555556,
              "#d8576b"
             ],
             [
              0.6666666666666666,
              "#ed7953"
             ],
             [
              0.7777777777777778,
              "#fb9f3a"
             ],
             [
              0.8888888888888888,
              "#fdca26"
             ],
             [
              1.0,
              "#f0f921"
             ]
            ]
           }
          ],
          "heatmapgl": [
           {
            "type": "heatmapgl",
            "colorbar": {
             "outlinewidth": 0,
             "ticks": ""
            },
            "colorscale": [
             [
              0.0,
              "#0d0887"
             ],
             [
              0.1111111111111111,
              "#46039f"
             ],
             [
              0.2222222222222222,
              "#7201a8"
             ],
             [
              0.3333333333333333,
              "#9c179e"
             ],
             [
              0.4444444444444444,
              "#bd3786"
             ],
             [
              0.5555555555555556,
              "#d8576b"
             ],
             [
              0.6666666666666666,
              "#ed7953"
             ],
             [
              0.7777777777777778,
              "#fb9f3a"
             ],
             [
              0.8888888888888888,
              "#fdca26"
             ],
             [
              1.0,
              "#f0f921"
             ]
            ]
           }
          ],
          "contourcarpet": [
           {
            "type": "contourcarpet",
            "colorbar": {
             "outlinewidth": 0,
             "ticks": ""
            }
           }
          ],
          "contour": [
           {
            "type": "contour",
            "colorbar": {
             "outlinewidth": 0,
             "ticks": ""
            },
            "colorscale": [
             [
              0.0,
              "#0d0887"
             ],
             [
              0.1111111111111111,
              "#46039f"
             ],
             [
              0.2222222222222222,
              "#7201a8"
             ],
             [
              0.3333333333333333,
              "#9c179e"
             ],
             [
              0.4444444444444444,
              "#bd3786"
             ],
             [
              0.5555555555555556,
              "#d8576b"
             ],
             [
              0.6666666666666666,
              "#ed7953"
             ],
             [
              0.7777777777777778,
              "#fb9f3a"
             ],
             [
              0.8888888888888888,
              "#fdca26"
             ],
             [
              1.0,
              "#f0f921"
             ]
            ]
           }
          ],
          "surface": [
           {
            "type": "surface",
            "colorbar": {
             "outlinewidth": 0,
             "ticks": ""
            },
            "colorscale": [
             [
              0.0,
              "#0d0887"
             ],
             [
              0.1111111111111111,
              "#46039f"
             ],
             [
              0.2222222222222222,
              "#7201a8"
             ],
             [
              0.3333333333333333,
              "#9c179e"
             ],
             [
              0.4444444444444444,
              "#bd3786"
             ],
             [
              0.5555555555555556,
              "#d8576b"
             ],
             [
              0.6666666666666666,
              "#ed7953"
             ],
             [
              0.7777777777777778,
              "#fb9f3a"
             ],
             [
              0.8888888888888888,
              "#fdca26"
             ],
             [
              1.0,
              "#f0f921"
             ]
            ]
           }
          ],
          "mesh3d": [
           {
            "type": "mesh3d",
            "colorbar": {
             "outlinewidth": 0,
             "ticks": ""
            }
           }
          ],
          "scatter": [
           {
            "fillpattern": {
             "fillmode": "overlay",
             "size": 10,
             "solidity": 0.2
            },
            "type": "scatter"
           }
          ],
          "parcoords": [
           {
            "type": "parcoords",
            "line": {
             "colorbar": {
              "outlinewidth": 0,
              "ticks": ""
             }
            }
           }
          ],
          "scatterpolargl": [
           {
            "type": "scatterpolargl",
            "marker": {
             "colorbar": {
              "outlinewidth": 0,
              "ticks": ""
             }
            }
           }
          ],
          "bar": [
           {
            "error_x": {
             "color": "#2a3f5f"
            },
            "error_y": {
             "color": "#2a3f5f"
            },
            "marker": {
             "line": {
              "color": "#E5ECF6",
              "width": 0.5
             },
             "pattern": {
              "fillmode": "overlay",
              "size": 10,
              "solidity": 0.2
             }
            },
            "type": "bar"
           }
          ],
          "scattergeo": [
           {
            "type": "scattergeo",
            "marker": {
             "colorbar": {
              "outlinewidth": 0,
              "ticks": ""
             }
            }
           }
          ],
          "scatterpolar": [
           {
            "type": "scatterpolar",
            "marker": {
             "colorbar": {
              "outlinewidth": 0,
              "ticks": ""
             }
            }
           }
          ],
          "histogram": [
           {
            "marker": {
             "pattern": {
              "fillmode": "overlay",
              "size": 10,
              "solidity": 0.2
             }
            },
            "type": "histogram"
           }
          ],
          "scattergl": [
           {
            "type": "scattergl",
            "marker": {
             "colorbar": {
              "outlinewidth": 0,
              "ticks": ""
             }
            }
           }
          ],
          "scatter3d": [
           {
            "type": "scatter3d",
            "line": {
             "colorbar": {
              "outlinewidth": 0,
              "ticks": ""
             }
            },
            "marker": {
             "colorbar": {
              "outlinewidth": 0,
              "ticks": ""
             }
            }
           }
          ],
          "scattermapbox": [
           {
            "type": "scattermapbox",
            "marker": {
             "colorbar": {
              "outlinewidth": 0,
              "ticks": ""
             }
            }
           }
          ],
          "scatterternary": [
           {
            "type": "scatterternary",
            "marker": {
             "colorbar": {
              "outlinewidth": 0,
              "ticks": ""
             }
            }
           }
          ],
          "scattercarpet": [
           {
            "type": "scattercarpet",
            "marker": {
             "colorbar": {
              "outlinewidth": 0,
              "ticks": ""
             }
            }
           }
          ],
          "carpet": [
           {
            "aaxis": {
             "endlinecolor": "#2a3f5f",
             "gridcolor": "white",
             "linecolor": "white",
             "minorgridcolor": "white",
             "startlinecolor": "#2a3f5f"
            },
            "baxis": {
             "endlinecolor": "#2a3f5f",
             "gridcolor": "white",
             "linecolor": "white",
             "minorgridcolor": "white",
             "startlinecolor": "#2a3f5f"
            },
            "type": "carpet"
           }
          ],
          "table": [
           {
            "cells": {
             "fill": {
              "color": "#EBF0F8"
             },
             "line": {
              "color": "white"
             }
            },
            "header": {
             "fill": {
              "color": "#C8D4E3"
             },
             "line": {
              "color": "white"
             }
            },
            "type": "table"
           }
          ],
          "barpolar": [
           {
            "marker": {
             "line": {
              "color": "#E5ECF6",
              "width": 0.5
             },
             "pattern": {
              "fillmode": "overlay",
              "size": 10,
              "solidity": 0.2
             }
            },
            "type": "barpolar"
           }
          ],
          "pie": [
           {
            "automargin": true,
            "type": "pie"
           }
          ]
         },
         "layout": {
          "autotypenumbers": "strict",
          "colorway": [
           "#636efa",
           "#EF553B",
           "#00cc96",
           "#ab63fa",
           "#FFA15A",
           "#19d3f3",
           "#FF6692",
           "#B6E880",
           "#FF97FF",
           "#FECB52"
          ],
          "font": {
           "color": "#2a3f5f"
          },
          "hovermode": "closest",
          "hoverlabel": {
           "align": "left"
          },
          "paper_bgcolor": "white",
          "plot_bgcolor": "#E5ECF6",
          "polar": {
           "bgcolor": "#E5ECF6",
           "angularaxis": {
            "gridcolor": "white",
            "linecolor": "white",
            "ticks": ""
           },
           "radialaxis": {
            "gridcolor": "white",
            "linecolor": "white",
            "ticks": ""
           }
          },
          "ternary": {
           "bgcolor": "#E5ECF6",
           "aaxis": {
            "gridcolor": "white",
            "linecolor": "white",
            "ticks": ""
           },
           "baxis": {
            "gridcolor": "white",
            "linecolor": "white",
            "ticks": ""
           },
           "caxis": {
            "gridcolor": "white",
            "linecolor": "white",
            "ticks": ""
           }
          },
          "coloraxis": {
           "colorbar": {
            "outlinewidth": 0,
            "ticks": ""
           }
          },
          "colorscale": {
           "sequential": [
            [
             0.0,
             "#0d0887"
            ],
            [
             0.1111111111111111,
             "#46039f"
            ],
            [
             0.2222222222222222,
             "#7201a8"
            ],
            [
             0.3333333333333333,
             "#9c179e"
            ],
            [
             0.4444444444444444,
             "#bd3786"
            ],
            [
             0.5555555555555556,
             "#d8576b"
            ],
            [
             0.6666666666666666,
             "#ed7953"
            ],
            [
             0.7777777777777778,
             "#fb9f3a"
            ],
            [
             0.8888888888888888,
             "#fdca26"
            ],
            [
             1.0,
             "#f0f921"
            ]
           ],
           "sequentialminus": [
            [
             0.0,
             "#0d0887"
            ],
            [
             0.1111111111111111,
             "#46039f"
            ],
            [
             0.2222222222222222,
             "#7201a8"
            ],
            [
             0.3333333333333333,
             "#9c179e"
            ],
            [
             0.4444444444444444,
             "#bd3786"
            ],
            [
             0.5555555555555556,
             "#d8576b"
            ],
            [
             0.6666666666666666,
             "#ed7953"
            ],
            [
             0.7777777777777778,
             "#fb9f3a"
            ],
            [
             0.8888888888888888,
             "#fdca26"
            ],
            [
             1.0,
             "#f0f921"
            ]
           ],
           "diverging": [
            [
             0,
             "#8e0152"
            ],
            [
             0.1,
             "#c51b7d"
            ],
            [
             0.2,
             "#de77ae"
            ],
            [
             0.3,
             "#f1b6da"
            ],
            [
             0.4,
             "#fde0ef"
            ],
            [
             0.5,
             "#f7f7f7"
            ],
            [
             0.6,
             "#e6f5d0"
            ],
            [
             0.7,
             "#b8e186"
            ],
            [
             0.8,
             "#7fbc41"
            ],
            [
             0.9,
             "#4d9221"
            ],
            [
             1,
             "#276419"
            ]
           ]
          },
          "xaxis": {
           "gridcolor": "white",
           "linecolor": "white",
           "ticks": "",
           "title": {
            "standoff": 15
           },
           "zerolinecolor": "white",
           "automargin": true,
           "zerolinewidth": 2
          },
          "yaxis": {
           "gridcolor": "white",
           "linecolor": "white",
           "ticks": "",
           "title": {
            "standoff": 15
           },
           "zerolinecolor": "white",
           "automargin": true,
           "zerolinewidth": 2
          },
          "scene": {
           "xaxis": {
            "backgroundcolor": "#E5ECF6",
            "gridcolor": "white",
            "linecolor": "white",
            "showbackground": true,
            "ticks": "",
            "zerolinecolor": "white",
            "gridwidth": 2
           },
           "yaxis": {
            "backgroundcolor": "#E5ECF6",
            "gridcolor": "white",
            "linecolor": "white",
            "showbackground": true,
            "ticks": "",
            "zerolinecolor": "white",
            "gridwidth": 2
           },
           "zaxis": {
            "backgroundcolor": "#E5ECF6",
            "gridcolor": "white",
            "linecolor": "white",
            "showbackground": true,
            "ticks": "",
            "zerolinecolor": "white",
            "gridwidth": 2
           }
          },
          "shapedefaults": {
           "line": {
            "color": "#2a3f5f"
           }
          },
          "annotationdefaults": {
           "arrowcolor": "#2a3f5f",
           "arrowhead": 0,
           "arrowwidth": 1
          },
          "geo": {
           "bgcolor": "white",
           "landcolor": "#E5ECF6",
           "subunitcolor": "white",
           "showland": true,
           "showlakes": true,
           "lakecolor": "white"
          },
          "title": {
           "x": 0.05
          },
          "mapbox": {
           "style": "light"
          }
         }
        },
        "xaxis": {
         "anchor": "y",
         "domain": [
          0.0,
          1.0
         ],
         "title": {
          "text": "value"
         }
        },
        "yaxis": {
         "anchor": "x",
         "domain": [
          0.0,
          1.0
         ],
         "title": {
          "text": "count"
         }
        },
        "legend": {
         "title": {
          "text": "variable"
         },
         "tracegroupgap": 0
        },
        "margin": {
         "t": 60
        },
        "barmode": "relative",
        "title": {
         "text": "BMI histogram",
         "font": {
          "size": 20
         }
        }
       },
       "config": {
        "plotlyServerURL": "https://plot.ly"
       }
      },
      "text/html": "<div>                            <div id=\"72bdfef5-97a8-4ae3-ac8a-3af41d7b93ee\" class=\"plotly-graph-div\" style=\"height:525px; width:100%;\"></div>            <script type=\"text/javascript\">                require([\"plotly\"], function(Plotly) {                    window.PLOTLYENV=window.PLOTLYENV || {};                                    if (document.getElementById(\"72bdfef5-97a8-4ae3-ac8a-3af41d7b93ee\")) {                    Plotly.newPlot(                        \"72bdfef5-97a8-4ae3-ac8a-3af41d7b93ee\",                        [{\"alignmentgroup\":\"True\",\"bingroup\":\"x\",\"hovertemplate\":\"variable=0<br>value=%{x}<br>count=%{y}<extra></extra>\",\"legendgroup\":\"0\",\"marker\":{\"color\":\"#636efa\",\"pattern\":{\"shape\":\"\"},\"line\":{\"color\":\"grey\",\"width\":2},\"coloraxis\":\"coloraxis\"},\"name\":\"0\",\"nbinsx\":20,\"offsetgroup\":\"0\",\"orientation\":\"v\",\"showlegend\":true,\"x\":[30.7818,30.57228,30.691175,30.497935000000002,30.59343,30.607185,30.5818,30.609495,30.778285,30.75129,30.51874,30.704225,30.533845,30.723335,30.71547,30.717825,30.673505,30.5712,30.82616,30.52563,30.718715,30.71224,30.676855,30.816285,30.95306,30.825025,30.63254,30.627935,30.70767,30.72008,30.77065,30.70737,30.7849,30.63771,30.51852,30.76934,30.62888,30.601335,30.74109,30.73013,30.670195,30.647815,30.55739,30.68823,30.67328,30.637035,30.674525,30.776395,30.617855,30.636415,30.620635,30.55194,30.71833,30.65922,30.75461,30.64203,30.597225,30.70299,30.66913,30.735175,30.839025,30.641725,30.80692,30.577215,30.723595,30.752425,30.941915,30.620445,30.739355,30.63824,30.622325,30.843140000000002,30.56123,30.58711,30.63846,30.595365,30.7269,30.669375,30.75149,30.70839,30.663945000000002,30.724555,30.55389,30.688795,30.71741,30.60595,30.489175,30.78367,30.64076,30.57969,30.870635,30.70335,30.66038,30.44436,30.648545,30.57813,30.60502,30.56788,30.76127,30.565125,30.608275,30.67772,30.736485,30.67691,31.03914,30.507235,30.45684,30.557985,30.540195,30.767195,30.738905,30.81525,30.71275,30.62336,30.639055,30.744915,30.84178,30.546005,30.610025,30.61057,30.641615,30.62605,30.583,30.614675,30.84229,30.8993,30.752155,30.798535,30.68118,30.68426,30.66936,30.67691,30.809935,30.780075,30.675565,30.79094,30.629065,30.65393,30.72934,30.6972,30.7799,30.506905,30.60346,30.704335,30.76504,30.709905,30.587525,30.73991,30.55074,30.72696,30.6239,30.837215,30.525315,30.579975,30.647265,30.66663,30.814105,30.690665,30.52674,30.778035,30.580615,30.485565,30.49869,30.549885,30.54511,30.518465,30.765715,30.760035,30.60743,30.5403,30.73538,30.59915,30.904195,30.71332,30.623065,30.57367,30.717105,30.654535,30.750305,30.58793,30.616875,30.6614,30.67878,30.564535,30.68081,30.68927,30.552715,30.6017,30.60185,30.671015,30.66976,30.67233,30.692435,30.68062,30.484625,30.527665,30.553745,30.83736,30.584175,30.61789,30.891395,30.697825,30.75195,30.627685,30.60139,30.576605,30.708845,30.694985,30.782875,30.700305,30.82346,30.875775,30.78126,30.585755,30.73568,30.79253,30.57677,30.67962,30.56061,30.68011,30.64151,30.573235,30.72129,30.61825,30.59998,30.710295,30.594865,30.802505,30.72988,30.7117,30.80656,30.59975,30.744835,30.641905,30.44864,30.730235,30.70865,30.688795,30.543565,30.630665,30.645355,30.576435,30.797235,30.4829,30.56507,30.759595,30.72352,30.632365,30.66714,30.670135,30.74152,30.683685,30.64597,30.740385,30.57408,30.653515,30.687565,30.67493,30.703065,30.571895,30.639505,30.837545,30.750205,30.711295,30.59516,30.60087,30.704105,30.71465,30.67863,30.573285,30.564005,30.639745,30.678805,30.524735,30.726065,30.355745,30.623725,30.65943,30.851005,30.54701,30.45521,30.69488,30.615625,30.777665,30.705105,30.8581,30.62286,30.643015,30.63434,30.682105,30.798235,30.725935,30.68025,30.738515,30.560995,30.544705,30.808235,30.751425,30.741105,30.619555000000002],\"xaxis\":\"x\",\"yaxis\":\"y\",\"type\":\"histogram\",\"textfont\":{\"size\":14},\"textangle\":0,\"textposition\":\"outside\"}],                        {\"template\":{\"data\":{\"histogram2dcontour\":[{\"type\":\"histogram2dcontour\",\"colorbar\":{\"outlinewidth\":0,\"ticks\":\"\"},\"colorscale\":[[0.0,\"#0d0887\"],[0.1111111111111111,\"#46039f\"],[0.2222222222222222,\"#7201a8\"],[0.3333333333333333,\"#9c179e\"],[0.4444444444444444,\"#bd3786\"],[0.5555555555555556,\"#d8576b\"],[0.6666666666666666,\"#ed7953\"],[0.7777777777777778,\"#fb9f3a\"],[0.8888888888888888,\"#fdca26\"],[1.0,\"#f0f921\"]]}],\"choropleth\":[{\"type\":\"choropleth\",\"colorbar\":{\"outlinewidth\":0,\"ticks\":\"\"}}],\"histogram2d\":[{\"type\":\"histogram2d\",\"colorbar\":{\"outlinewidth\":0,\"ticks\":\"\"},\"colorscale\":[[0.0,\"#0d0887\"],[0.1111111111111111,\"#46039f\"],[0.2222222222222222,\"#7201a8\"],[0.3333333333333333,\"#9c179e\"],[0.4444444444444444,\"#bd3786\"],[0.5555555555555556,\"#d8576b\"],[0.6666666666666666,\"#ed7953\"],[0.7777777777777778,\"#fb9f3a\"],[0.8888888888888888,\"#fdca26\"],[1.0,\"#f0f921\"]]}],\"heatmap\":[{\"type\":\"heatmap\",\"colorbar\":{\"outlinewidth\":0,\"ticks\":\"\"},\"colorscale\":[[0.0,\"#0d0887\"],[0.1111111111111111,\"#46039f\"],[0.2222222222222222,\"#7201a8\"],[0.3333333333333333,\"#9c179e\"],[0.4444444444444444,\"#bd3786\"],[0.5555555555555556,\"#d8576b\"],[0.6666666666666666,\"#ed7953\"],[0.7777777777777778,\"#fb9f3a\"],[0.8888888888888888,\"#fdca26\"],[1.0,\"#f0f921\"]]}],\"heatmapgl\":[{\"type\":\"heatmapgl\",\"colorbar\":{\"outlinewidth\":0,\"ticks\":\"\"},\"colorscale\":[[0.0,\"#0d0887\"],[0.1111111111111111,\"#46039f\"],[0.2222222222222222,\"#7201a8\"],[0.3333333333333333,\"#9c179e\"],[0.4444444444444444,\"#bd3786\"],[0.5555555555555556,\"#d8576b\"],[0.6666666666666666,\"#ed7953\"],[0.7777777777777778,\"#fb9f3a\"],[0.8888888888888888,\"#fdca26\"],[1.0,\"#f0f921\"]]}],\"contourcarpet\":[{\"type\":\"contourcarpet\",\"colorbar\":{\"outlinewidth\":0,\"ticks\":\"\"}}],\"contour\":[{\"type\":\"contour\",\"colorbar\":{\"outlinewidth\":0,\"ticks\":\"\"},\"colorscale\":[[0.0,\"#0d0887\"],[0.1111111111111111,\"#46039f\"],[0.2222222222222222,\"#7201a8\"],[0.3333333333333333,\"#9c179e\"],[0.4444444444444444,\"#bd3786\"],[0.5555555555555556,\"#d8576b\"],[0.6666666666666666,\"#ed7953\"],[0.7777777777777778,\"#fb9f3a\"],[0.8888888888888888,\"#fdca26\"],[1.0,\"#f0f921\"]]}],\"surface\":[{\"type\":\"surface\",\"colorbar\":{\"outlinewidth\":0,\"ticks\":\"\"},\"colorscale\":[[0.0,\"#0d0887\"],[0.1111111111111111,\"#46039f\"],[0.2222222222222222,\"#7201a8\"],[0.3333333333333333,\"#9c179e\"],[0.4444444444444444,\"#bd3786\"],[0.5555555555555556,\"#d8576b\"],[0.6666666666666666,\"#ed7953\"],[0.7777777777777778,\"#fb9f3a\"],[0.8888888888888888,\"#fdca26\"],[1.0,\"#f0f921\"]]}],\"mesh3d\":[{\"type\":\"mesh3d\",\"colorbar\":{\"outlinewidth\":0,\"ticks\":\"\"}}],\"scatter\":[{\"fillpattern\":{\"fillmode\":\"overlay\",\"size\":10,\"solidity\":0.2},\"type\":\"scatter\"}],\"parcoords\":[{\"type\":\"parcoords\",\"line\":{\"colorbar\":{\"outlinewidth\":0,\"ticks\":\"\"}}}],\"scatterpolargl\":[{\"type\":\"scatterpolargl\",\"marker\":{\"colorbar\":{\"outlinewidth\":0,\"ticks\":\"\"}}}],\"bar\":[{\"error_x\":{\"color\":\"#2a3f5f\"},\"error_y\":{\"color\":\"#2a3f5f\"},\"marker\":{\"line\":{\"color\":\"#E5ECF6\",\"width\":0.5},\"pattern\":{\"fillmode\":\"overlay\",\"size\":10,\"solidity\":0.2}},\"type\":\"bar\"}],\"scattergeo\":[{\"type\":\"scattergeo\",\"marker\":{\"colorbar\":{\"outlinewidth\":0,\"ticks\":\"\"}}}],\"scatterpolar\":[{\"type\":\"scatterpolar\",\"marker\":{\"colorbar\":{\"outlinewidth\":0,\"ticks\":\"\"}}}],\"histogram\":[{\"marker\":{\"pattern\":{\"fillmode\":\"overlay\",\"size\":10,\"solidity\":0.2}},\"type\":\"histogram\"}],\"scattergl\":[{\"type\":\"scattergl\",\"marker\":{\"colorbar\":{\"outlinewidth\":0,\"ticks\":\"\"}}}],\"scatter3d\":[{\"type\":\"scatter3d\",\"line\":{\"colorbar\":{\"outlinewidth\":0,\"ticks\":\"\"}},\"marker\":{\"colorbar\":{\"outlinewidth\":0,\"ticks\":\"\"}}}],\"scattermapbox\":[{\"type\":\"scattermapbox\",\"marker\":{\"colorbar\":{\"outlinewidth\":0,\"ticks\":\"\"}}}],\"scatterternary\":[{\"type\":\"scatterternary\",\"marker\":{\"colorbar\":{\"outlinewidth\":0,\"ticks\":\"\"}}}],\"scattercarpet\":[{\"type\":\"scattercarpet\",\"marker\":{\"colorbar\":{\"outlinewidth\":0,\"ticks\":\"\"}}}],\"carpet\":[{\"aaxis\":{\"endlinecolor\":\"#2a3f5f\",\"gridcolor\":\"white\",\"linecolor\":\"white\",\"minorgridcolor\":\"white\",\"startlinecolor\":\"#2a3f5f\"},\"baxis\":{\"endlinecolor\":\"#2a3f5f\",\"gridcolor\":\"white\",\"linecolor\":\"white\",\"minorgridcolor\":\"white\",\"startlinecolor\":\"#2a3f5f\"},\"type\":\"carpet\"}],\"table\":[{\"cells\":{\"fill\":{\"color\":\"#EBF0F8\"},\"line\":{\"color\":\"white\"}},\"header\":{\"fill\":{\"color\":\"#C8D4E3\"},\"line\":{\"color\":\"white\"}},\"type\":\"table\"}],\"barpolar\":[{\"marker\":{\"line\":{\"color\":\"#E5ECF6\",\"width\":0.5},\"pattern\":{\"fillmode\":\"overlay\",\"size\":10,\"solidity\":0.2}},\"type\":\"barpolar\"}],\"pie\":[{\"automargin\":true,\"type\":\"pie\"}]},\"layout\":{\"autotypenumbers\":\"strict\",\"colorway\":[\"#636efa\",\"#EF553B\",\"#00cc96\",\"#ab63fa\",\"#FFA15A\",\"#19d3f3\",\"#FF6692\",\"#B6E880\",\"#FF97FF\",\"#FECB52\"],\"font\":{\"color\":\"#2a3f5f\"},\"hovermode\":\"closest\",\"hoverlabel\":{\"align\":\"left\"},\"paper_bgcolor\":\"white\",\"plot_bgcolor\":\"#E5ECF6\",\"polar\":{\"bgcolor\":\"#E5ECF6\",\"angularaxis\":{\"gridcolor\":\"white\",\"linecolor\":\"white\",\"ticks\":\"\"},\"radialaxis\":{\"gridcolor\":\"white\",\"linecolor\":\"white\",\"ticks\":\"\"}},\"ternary\":{\"bgcolor\":\"#E5ECF6\",\"aaxis\":{\"gridcolor\":\"white\",\"linecolor\":\"white\",\"ticks\":\"\"},\"baxis\":{\"gridcolor\":\"white\",\"linecolor\":\"white\",\"ticks\":\"\"},\"caxis\":{\"gridcolor\":\"white\",\"linecolor\":\"white\",\"ticks\":\"\"}},\"coloraxis\":{\"colorbar\":{\"outlinewidth\":0,\"ticks\":\"\"}},\"colorscale\":{\"sequential\":[[0.0,\"#0d0887\"],[0.1111111111111111,\"#46039f\"],[0.2222222222222222,\"#7201a8\"],[0.3333333333333333,\"#9c179e\"],[0.4444444444444444,\"#bd3786\"],[0.5555555555555556,\"#d8576b\"],[0.6666666666666666,\"#ed7953\"],[0.7777777777777778,\"#fb9f3a\"],[0.8888888888888888,\"#fdca26\"],[1.0,\"#f0f921\"]],\"sequentialminus\":[[0.0,\"#0d0887\"],[0.1111111111111111,\"#46039f\"],[0.2222222222222222,\"#7201a8\"],[0.3333333333333333,\"#9c179e\"],[0.4444444444444444,\"#bd3786\"],[0.5555555555555556,\"#d8576b\"],[0.6666666666666666,\"#ed7953\"],[0.7777777777777778,\"#fb9f3a\"],[0.8888888888888888,\"#fdca26\"],[1.0,\"#f0f921\"]],\"diverging\":[[0,\"#8e0152\"],[0.1,\"#c51b7d\"],[0.2,\"#de77ae\"],[0.3,\"#f1b6da\"],[0.4,\"#fde0ef\"],[0.5,\"#f7f7f7\"],[0.6,\"#e6f5d0\"],[0.7,\"#b8e186\"],[0.8,\"#7fbc41\"],[0.9,\"#4d9221\"],[1,\"#276419\"]]},\"xaxis\":{\"gridcolor\":\"white\",\"linecolor\":\"white\",\"ticks\":\"\",\"title\":{\"standoff\":15},\"zerolinecolor\":\"white\",\"automargin\":true,\"zerolinewidth\":2},\"yaxis\":{\"gridcolor\":\"white\",\"linecolor\":\"white\",\"ticks\":\"\",\"title\":{\"standoff\":15},\"zerolinecolor\":\"white\",\"automargin\":true,\"zerolinewidth\":2},\"scene\":{\"xaxis\":{\"backgroundcolor\":\"#E5ECF6\",\"gridcolor\":\"white\",\"linecolor\":\"white\",\"showbackground\":true,\"ticks\":\"\",\"zerolinecolor\":\"white\",\"gridwidth\":2},\"yaxis\":{\"backgroundcolor\":\"#E5ECF6\",\"gridcolor\":\"white\",\"linecolor\":\"white\",\"showbackground\":true,\"ticks\":\"\",\"zerolinecolor\":\"white\",\"gridwidth\":2},\"zaxis\":{\"backgroundcolor\":\"#E5ECF6\",\"gridcolor\":\"white\",\"linecolor\":\"white\",\"showbackground\":true,\"ticks\":\"\",\"zerolinecolor\":\"white\",\"gridwidth\":2}},\"shapedefaults\":{\"line\":{\"color\":\"#2a3f5f\"}},\"annotationdefaults\":{\"arrowcolor\":\"#2a3f5f\",\"arrowhead\":0,\"arrowwidth\":1},\"geo\":{\"bgcolor\":\"white\",\"landcolor\":\"#E5ECF6\",\"subunitcolor\":\"white\",\"showland\":true,\"showlakes\":true,\"lakecolor\":\"white\"},\"title\":{\"x\":0.05},\"mapbox\":{\"style\":\"light\"}}},\"xaxis\":{\"anchor\":\"y\",\"domain\":[0.0,1.0],\"title\":{\"text\":\"value\"}},\"yaxis\":{\"anchor\":\"x\",\"domain\":[0.0,1.0],\"title\":{\"text\":\"count\"}},\"legend\":{\"title\":{\"text\":\"variable\"},\"tracegroupgap\":0},\"margin\":{\"t\":60},\"barmode\":\"relative\",\"title\":{\"text\":\"BMI histogram\",\"font\":{\"size\":20}}},                        {\"responsive\": true}                    ).then(function(){\n                            \nvar gd = document.getElementById('72bdfef5-97a8-4ae3-ac8a-3af41d7b93ee');\nvar x = new MutationObserver(function (mutations, observer) {{\n        var display = window.getComputedStyle(gd).display;\n        if (!display || display === 'none') {{\n            console.log([gd, 'removed!']);\n            Plotly.purge(gd);\n            observer.disconnect();\n        }}\n}});\n\n// Listen for the removal of the full notebook cells\nvar notebookContainer = gd.closest('#notebook-container');\nif (notebookContainer) {{\n    x.observe(notebookContainer, {childList: true});\n}}\n\n// Listen for the clearing of the current output cell\nvar outputEl = gd.closest('.output');\nif (outputEl) {{\n    x.observe(outputEl, {childList: true});\n}}\n\n                        })                };                });            </script>        </div>"
     },
     "metadata": {},
     "output_type": "display_data"
    }
   ],
   "source": [
    "fig = px.histogram(bmi_averages, nbins=20)\n",
    "fig.update_traces(textfont_size=14, textangle=0, textposition='outside', marker=dict(coloraxis=\"coloraxis\"), marker_line_width=2, marker_line_color=\"grey\")\n",
    "fig.update_layout(title=f'BMI histogram', title_font_size=20)\n",
    "fig.show()"
   ],
   "metadata": {
    "collapsed": false,
    "pycharm": {
     "name": "#%%\n"
    }
   }
  },
  {
   "cell_type": "code",
   "execution_count": 308,
   "outputs": [
    {
     "data": {
      "application/vnd.plotly.v1+json": {
       "data": [
        {
         "autobinx": false,
         "histnorm": "probability density",
         "legendgroup": "displot",
         "marker": {
          "color": "rgb(31, 119, 180)"
         },
         "name": "displot",
         "opacity": 0.7,
         "x": [
          30.7818,
          30.57228,
          30.691175,
          30.497935000000002,
          30.59343,
          30.607185,
          30.5818,
          30.609495,
          30.778285,
          30.75129,
          30.51874,
          30.704225,
          30.533845,
          30.723335,
          30.71547,
          30.717825,
          30.673505,
          30.5712,
          30.82616,
          30.52563,
          30.718715,
          30.71224,
          30.676855,
          30.816285,
          30.95306,
          30.825025,
          30.63254,
          30.627935,
          30.70767,
          30.72008,
          30.77065,
          30.70737,
          30.7849,
          30.63771,
          30.51852,
          30.76934,
          30.62888,
          30.601335,
          30.74109,
          30.73013,
          30.670195,
          30.647815,
          30.55739,
          30.68823,
          30.67328,
          30.637035,
          30.674525,
          30.776395,
          30.617855,
          30.636415,
          30.620635,
          30.55194,
          30.71833,
          30.65922,
          30.75461,
          30.64203,
          30.597225,
          30.70299,
          30.66913,
          30.735175,
          30.839025,
          30.641725,
          30.80692,
          30.577215,
          30.723595,
          30.752425,
          30.941915,
          30.620445,
          30.739355,
          30.63824,
          30.622325,
          30.843140000000002,
          30.56123,
          30.58711,
          30.63846,
          30.595365,
          30.7269,
          30.669375,
          30.75149,
          30.70839,
          30.663945000000002,
          30.724555,
          30.55389,
          30.688795,
          30.71741,
          30.60595,
          30.489175,
          30.78367,
          30.64076,
          30.57969,
          30.870635,
          30.70335,
          30.66038,
          30.44436,
          30.648545,
          30.57813,
          30.60502,
          30.56788,
          30.76127,
          30.565125,
          30.608275,
          30.67772,
          30.736485,
          30.67691,
          31.03914,
          30.507235,
          30.45684,
          30.557985,
          30.540195,
          30.767195,
          30.738905,
          30.81525,
          30.71275,
          30.62336,
          30.639055,
          30.744915,
          30.84178,
          30.546005,
          30.610025,
          30.61057,
          30.641615,
          30.62605,
          30.583,
          30.614675,
          30.84229,
          30.8993,
          30.752155,
          30.798535,
          30.68118,
          30.68426,
          30.66936,
          30.67691,
          30.809935,
          30.780075,
          30.675565,
          30.79094,
          30.629065,
          30.65393,
          30.72934,
          30.6972,
          30.7799,
          30.506905,
          30.60346,
          30.704335,
          30.76504,
          30.709905,
          30.587525,
          30.73991,
          30.55074,
          30.72696,
          30.6239,
          30.837215,
          30.525315,
          30.579975,
          30.647265,
          30.66663,
          30.814105,
          30.690665,
          30.52674,
          30.778035,
          30.580615,
          30.485565,
          30.49869,
          30.549885,
          30.54511,
          30.518465,
          30.765715,
          30.760035,
          30.60743,
          30.5403,
          30.73538,
          30.59915,
          30.904195,
          30.71332,
          30.623065,
          30.57367,
          30.717105,
          30.654535,
          30.750305,
          30.58793,
          30.616875,
          30.6614,
          30.67878,
          30.564535,
          30.68081,
          30.68927,
          30.552715,
          30.6017,
          30.60185,
          30.671015,
          30.66976,
          30.67233,
          30.692435,
          30.68062,
          30.484625,
          30.527665,
          30.553745,
          30.83736,
          30.584175,
          30.61789,
          30.891395,
          30.697825,
          30.75195,
          30.627685,
          30.60139,
          30.576605,
          30.708845,
          30.694985,
          30.782875,
          30.700305,
          30.82346,
          30.875775,
          30.78126,
          30.585755,
          30.73568,
          30.79253,
          30.57677,
          30.67962,
          30.56061,
          30.68011,
          30.64151,
          30.573235,
          30.72129,
          30.61825,
          30.59998,
          30.710295,
          30.594865,
          30.802505,
          30.72988,
          30.7117,
          30.80656,
          30.59975,
          30.744835,
          30.641905,
          30.44864,
          30.730235,
          30.70865,
          30.688795,
          30.543565,
          30.630665,
          30.645355,
          30.576435,
          30.797235,
          30.4829,
          30.56507,
          30.759595,
          30.72352,
          30.632365,
          30.66714,
          30.670135,
          30.74152,
          30.683685,
          30.64597,
          30.740385,
          30.57408,
          30.653515,
          30.687565,
          30.67493,
          30.703065,
          30.571895,
          30.639505,
          30.837545,
          30.750205,
          30.711295,
          30.59516,
          30.60087,
          30.704105,
          30.71465,
          30.67863,
          30.573285,
          30.564005,
          30.639745,
          30.678805,
          30.524735,
          30.726065,
          30.355745,
          30.623725,
          30.65943,
          30.851005,
          30.54701,
          30.45521,
          30.69488,
          30.615625,
          30.777665,
          30.705105,
          30.8581,
          30.62286,
          30.643015,
          30.63434,
          30.682105,
          30.798235,
          30.725935,
          30.68025,
          30.738515,
          30.560995,
          30.544705,
          30.808235,
          30.751425,
          30.741105,
          30.619555000000002
         ],
         "xaxis": "x",
         "xbins": {
          "end": 31.03914,
          "size": 0.05,
          "start": 30.355745
         },
         "yaxis": "y",
         "type": "histogram"
        },
        {
         "legendgroup": "displot",
         "marker": {
          "color": "rgb(31, 119, 180)"
         },
         "mode": "lines",
         "name": "displot",
         "showlegend": false,
         "x": [
          30.355745,
          30.357111789999998,
          30.35847858,
          30.35984537,
          30.361212159999997,
          30.36257895,
          30.36394574,
          30.36531253,
          30.36667932,
          30.368046109999998,
          30.3694129,
          30.37077969,
          30.372146479999998,
          30.37351327,
          30.37488006,
          30.376246849999998,
          30.37761364,
          30.37898043,
          30.380347219999997,
          30.38171401,
          30.3830808,
          30.38444759,
          30.38581438,
          30.387181169999998,
          30.38854796,
          30.38991475,
          30.391281539999998,
          30.39264833,
          30.39401512,
          30.395381909999998,
          30.3967487,
          30.39811549,
          30.399482279999997,
          30.40084907,
          30.40221586,
          30.40358265,
          30.40494944,
          30.406316229999998,
          30.40768302,
          30.40904981,
          30.410416599999998,
          30.41178339,
          30.41315018,
          30.414516969999998,
          30.41588376,
          30.41725055,
          30.418617339999997,
          30.41998413,
          30.42135092,
          30.42271771,
          30.4240845,
          30.425451289999998,
          30.42681808,
          30.42818487,
          30.429551659999998,
          30.43091845,
          30.43228524,
          30.433652029999998,
          30.43501882,
          30.43638561,
          30.437752399999997,
          30.43911919,
          30.44048598,
          30.44185277,
          30.44321956,
          30.444586349999998,
          30.44595314,
          30.44731993,
          30.448686719999998,
          30.45005351,
          30.4514203,
          30.452787089999998,
          30.45415388,
          30.45552067,
          30.456887459999997,
          30.45825425,
          30.45962104,
          30.46098783,
          30.46235462,
          30.463721409999998,
          30.4650882,
          30.46645499,
          30.467821779999998,
          30.46918857,
          30.47055536,
          30.471922149999997,
          30.47328894,
          30.47465573,
          30.47602252,
          30.47738931,
          30.4787561,
          30.48012289,
          30.48148968,
          30.482856469999998,
          30.48422326,
          30.48559005,
          30.486956839999998,
          30.48832363,
          30.48969042,
          30.491057209999997,
          30.492424,
          30.49379079,
          30.49515758,
          30.49652437,
          30.497891159999998,
          30.49925795,
          30.50062474,
          30.501991529999998,
          30.50335832,
          30.50472511,
          30.506091899999998,
          30.50745869,
          30.50882548,
          30.510192269999997,
          30.51155906,
          30.51292585,
          30.51429264,
          30.51565943,
          30.517026219999998,
          30.51839301,
          30.5197598,
          30.521126589999998,
          30.52249338,
          30.52386017,
          30.525226959999998,
          30.52659375,
          30.52796054,
          30.529327329999997,
          30.53069412,
          30.53206091,
          30.5334277,
          30.53479449,
          30.536161279999998,
          30.53752807,
          30.53889486,
          30.540261649999998,
          30.54162844,
          30.54299523,
          30.544362019999998,
          30.54572881,
          30.5470956,
          30.548462389999997,
          30.54982918,
          30.55119597,
          30.55256276,
          30.55392955,
          30.555296339999998,
          30.55666313,
          30.55802992,
          30.559396709999998,
          30.5607635,
          30.56213029,
          30.563497079999998,
          30.56486387,
          30.56623066,
          30.567597449999997,
          30.56896424,
          30.57033103,
          30.57169782,
          30.57306461,
          30.574431399999998,
          30.57579819,
          30.57716498,
          30.578531769999998,
          30.57989856,
          30.58126535,
          30.582632139999998,
          30.58399893,
          30.58536572,
          30.58673251,
          30.5880993,
          30.58946609,
          30.59083288,
          30.59219967,
          30.593566459999998,
          30.59493325,
          30.59630004,
          30.597666829999998,
          30.59903362,
          30.60040041,
          30.601767199999998,
          30.60313399,
          30.60450078,
          30.60586757,
          30.60723436,
          30.60860115,
          30.60996794,
          30.61133473,
          30.612701519999998,
          30.61406831,
          30.6154351,
          30.616801889999998,
          30.61816868,
          30.61953547,
          30.620902259999998,
          30.62226905,
          30.62363584,
          30.62500263,
          30.62636942,
          30.62773621,
          30.629103,
          30.63046979,
          30.631836579999998,
          30.63320337,
          30.63457016,
          30.635936949999998,
          30.63730374,
          30.63867053,
          30.640037319999998,
          30.64140411,
          30.6427709,
          30.64413769,
          30.64550448,
          30.64687127,
          30.64823806,
          30.64960485,
          30.650971639999998,
          30.65233843,
          30.65370522,
          30.655072009999998,
          30.6564388,
          30.65780559,
          30.659172379999998,
          30.66053917,
          30.66190596,
          30.66327275,
          30.66463954,
          30.66600633,
          30.66737312,
          30.66873991,
          30.670106699999998,
          30.67147349,
          30.67284028,
          30.674207069999998,
          30.67557386,
          30.67694065,
          30.678307439999998,
          30.67967423,
          30.68104102,
          30.68240781,
          30.6837746,
          30.68514139,
          30.68650818,
          30.68787497,
          30.689241759999998,
          30.69060855,
          30.69197534,
          30.693342129999998,
          30.69470892,
          30.69607571,
          30.6974425,
          30.69880929,
          30.70017608,
          30.70154287,
          30.70290966,
          30.70427645,
          30.70564324,
          30.70701003,
          30.708376819999998,
          30.70974361,
          30.7111104,
          30.712477189999998,
          30.71384398,
          30.71521077,
          30.71657756,
          30.71794435,
          30.71931114,
          30.72067793,
          30.72204472,
          30.72341151,
          30.7247783,
          30.72614509,
          30.727511879999998,
          30.72887867,
          30.73024546,
          30.731612249999998,
          30.73297904,
          30.73434583,
          30.73571262,
          30.73707941,
          30.7384462,
          30.73981299,
          30.74117978,
          30.74254657,
          30.74391336,
          30.74528015,
          30.746646939999998,
          30.74801373,
          30.74938052,
          30.750747309999998,
          30.7521141,
          30.75348089,
          30.75484768,
          30.75621447,
          30.75758126,
          30.75894805,
          30.76031484,
          30.761681629999998,
          30.76304842,
          30.76441521,
          30.765781999999998,
          30.76714879,
          30.76851558,
          30.769882369999998,
          30.77124916,
          30.77261595,
          30.77398274,
          30.77534953,
          30.77671632,
          30.77808311,
          30.7794499,
          30.780816689999998,
          30.78218348,
          30.78355027,
          30.784917059999998,
          30.78628385,
          30.78765064,
          30.789017429999998,
          30.79038422,
          30.79175101,
          30.7931178,
          30.79448459,
          30.79585138,
          30.79721817,
          30.79858496,
          30.799951749999998,
          30.80131854,
          30.80268533,
          30.804052119999998,
          30.80541891,
          30.8067857,
          30.808152489999998,
          30.80951928,
          30.81088607,
          30.81225286,
          30.81361965,
          30.81498644,
          30.81635323,
          30.81772002,
          30.819086809999998,
          30.8204536,
          30.82182039,
          30.823187179999998,
          30.82455397,
          30.82592076,
          30.82728755,
          30.82865434,
          30.83002113,
          30.83138792,
          30.83275471,
          30.8341215,
          30.83548829,
          30.83685508,
          30.838221869999998,
          30.83958866,
          30.84095545,
          30.842322239999998,
          30.84368903,
          30.84505582,
          30.84642261,
          30.8477894,
          30.84915619,
          30.85052298,
          30.85188977,
          30.85325656,
          30.85462335,
          30.85599014,
          30.857356929999998,
          30.85872372,
          30.86009051,
          30.861457299999998,
          30.86282409,
          30.86419088,
          30.86555767,
          30.86692446,
          30.86829125,
          30.86965804,
          30.87102483,
          30.87239162,
          30.87375841,
          30.8751252,
          30.876491989999998,
          30.87785878,
          30.87922557,
          30.880592359999998,
          30.88195915,
          30.88332594,
          30.88469273,
          30.88605952,
          30.88742631,
          30.8887931,
          30.89015989,
          30.89152668,
          30.89289347,
          30.89426026,
          30.895627049999998,
          30.89699384,
          30.89836063,
          30.899727419999998,
          30.90109421,
          30.902461,
          30.90382779,
          30.90519458,
          30.90656137,
          30.90792816,
          30.90929495,
          30.91066174,
          30.91202853,
          30.91339532,
          30.914762109999998,
          30.9161289,
          30.91749569,
          30.91886248,
          30.92022927,
          30.92159606,
          30.92296285,
          30.92432964,
          30.92569643,
          30.92706322,
          30.92843001,
          30.9297968,
          30.93116359,
          30.93253038,
          30.933897169999998,
          30.93526396,
          30.93663075,
          30.937997539999998,
          30.93936433,
          30.94073112,
          30.94209791,
          30.9434647,
          30.94483149,
          30.94619828,
          30.94756507,
          30.94893186,
          30.95029865,
          30.95166544,
          30.953032229999998,
          30.95439902,
          30.95576581,
          30.9571326,
          30.95849939,
          30.95986618,
          30.96123297,
          30.96259976,
          30.96396655,
          30.96533334,
          30.96670013,
          30.96806692,
          30.96943371,
          30.9708005,
          30.972167289999998,
          30.97353408,
          30.97490087,
          30.97626766,
          30.97763445,
          30.97900124,
          30.98036803,
          30.98173482,
          30.98310161,
          30.9844684,
          30.98583519,
          30.98720198,
          30.98856877,
          30.98993556,
          30.991302349999998,
          30.99266914,
          30.99403593,
          30.99540272,
          30.99676951,
          30.9981363,
          30.99950309,
          31.00086988,
          31.00223667,
          31.00360346,
          31.00497025,
          31.00633704,
          31.00770383,
          31.00907062,
          31.010437409999998,
          31.0118042,
          31.01317099,
          31.01453778,
          31.01590457,
          31.01727136,
          31.01863815,
          31.02000494,
          31.02137173,
          31.02273852,
          31.02410531,
          31.025472099999998,
          31.02683889,
          31.02820568,
          31.029572469999998,
          31.03093926,
          31.03230605,
          31.03367284,
          31.03503963,
          31.03640642,
          31.03777321
         ],
         "xaxis": "x",
         "y": [
          0.044022471831072996,
          0.04425456779665114,
          0.044440831083737524,
          0.04458511255871912,
          0.044691922028345085,
          0.04476642382024417,
          0.04481442729062455,
          0.044842372263844806,
          0.044857309454005824,
          0.04486687596307722,
          0.0448792659929433,
          0.04490319694980179,
          0.044947871158296286,
          0.04502293343939804,
          0.04513842484023813,
          0.0453047328357288,
          0.04553253835086543,
          0.04583275997907122,
          0.046216495795895436,
          0.046694963188769555,
          0.04727943714255598,
          0.047981187437238504,
          0.04881141522836992,
          0.04978118949287752,
          0.05090138383240745,
          0.052182614133589496,
          0.05363517758937909,
          0.05526899358743687,
          0.05709354697078204,
          0.05911783417184638,
          0.0613503127135649,
          0.06379885455982409,
          0.06647070378245712,
          0.06937243899188363,
          0.07250994095429696,
          0.07588836578854453,
          0.07951212410099001,
          0.08338486637663825,
          0.08750947489886685,
          0.09188806241886878,
          0.09652197773982821,
          0.10141181831880827,
          0.10655744992392101,
          0.11195803331399691,
          0.1176120578348422,
          0.12351738175058789,
          0.12967127905216239,
          0.13607049240682298,
          0.14271129183743525,
          0.1495895386459357,
          0.15670075402498898,
          0.16404019173686418,
          0.17160291417920012,
          0.17938387110598025,
          0.18737798022992205,
          0.19558020889835107,
          0.20398565601374322,
          0.21258963335890663,
          0.2213877454880622,
          0.23037596735836108,
          0.23955071890296495,
          0.2489089357832956,
          0.2584481356085866,
          0.2681664789700258,
          0.278062824706428,
          0.2881367788972042,
          0.29838873716279846,
          0.30881991994319413,
          0.31943240052005173,
          0.3302291256423162,
          0.3412139287121338,
          0.3523915355803212,
          0.3637675630901856,
          0.37534851059192703,
          0.38714174472671187,
          0.3991554778445572,
          0.4113987404787886,
          0.42388134834444413,
          0.43661386436119237,
          0.4496075562228453,
          0.462874350043278,
          0.47642678060466714,
          0.4902779387189126,
          0.5044414161837244,
          0.5189312487797862,
          0.5337618577084634,
          0.5489479898163062,
          0.5645046568934896,
          0.580447074272402,
          0.5967905988859887,
          0.6135506668849774,
          0.6307427308477835,
          0.6483821965623855,
          0.6664843593068133,
          0.6850643395111293,
          0.704137017648525,
          0.7237169681805947,
          0.7438183923661241,
          0.7644550497444396,
          0.7856401881141722,
          0.807386471852745,
          0.8297059084582968,
          0.8526097732458953,
          0.8761085321851472,
          0.9002117629410823,
          0.9249280742533332,
          0.9502650238775757,
          0.9762290354013533,
          1.0028253143406627,
          1.0300577640185586,
          1.0579289018231395,
          1.0864397765287537,
          1.1155898874541952,
          1.1453771063078353,
          1.175797602637972,
          1.2068457738626617,
          1.2385141808994726,
          1.2707934904386649,
          1.3036724249216398,
          1.3371377212728865,
          1.3711740994148747,
          1.4057642415492486,
          1.4408887831245973,
          1.4765263163278923,
          1.5126534068389215,
          1.549244624462852,
          1.5862725881253144,
          1.6237080255598884,
          1.6615198478539908,
          1.699675238843153,
          1.7381397591617442,
          1.776877464560094,
          1.8158510379128017,
          1.8550219341402123,
          1.8943505370799953,
          1.9337963271570346,
          1.9733180585253107,
          2.012873944193042,
          2.0524218474991724,
          2.091919478175797,
          2.1313245911330023,
          2.1705951860195256,
          2.2096897055596685,
          2.248567230641496,
          2.2871876701409257,
          2.3255119434966507,
          2.363502154127538,
          2.4011217518744443,
          2.4383356827855764,
          2.475110524720904,
          2.5114146074377945,
          2.5472181160305163,
          2.582493176832975,
          2.617213925140225,
          2.651356554375328,
          2.6848993466002837,
          2.717822684551656,
          2.7501090456624953,
          2.7817429788108594,
          2.8127110647953772,
          2.8430018617970707,
          2.8726058373104153,
          2.9015152882377637,
          2.9297242510146564,
          2.9572284037774037,
          2.9840249626909023,
          3.0101125746232484,
          3.035491208374569,
          3.0601620466544133,
          3.084127380938829,
          3.107390511233819,
          3.129955652627004,
          3.151827850322642,
          3.1730129046330986,
          3.1935173071463647,
          3.2133481890018145,
          3.232513281903676,
          3.2510208921762063,
          3.2688798878302032,
          3.286099698271607,
          3.302690325949354,
          3.3186623689115806,
          3.3340270529340255,
          3.3487962715988595,
          3.362982632449066,
          3.3765995071282773,
          3.3896610832402625,
          3.4021824155349027,
          3.4141794739515356,
          3.4256691860247432,
          3.4366694711905534,
          3.4471992646161067,
          3.457278528317222,
          3.4669282475221284,
          3.476170410483818,
          3.4850279702308042,
          3.493524787077214,
          3.501685551075209,
          3.50953568398305,
          3.517101220731213,
          3.5244086707884223,
          3.5314848602510396,
          3.5383567558942954,
          3.545051272821244,
          3.5515950677204624,
          3.558014320084386,
          3.564334504040992,
          3.570580153705295,
          3.576774625158702,
          3.5829398583069088,
          3.589096141950525,
          3.5952618854218024,
          3.601453400097121,
          3.6076846939888054,
          3.613967282452241,
          3.6203100178203735,
          3.626718940501878,
          3.633197153756176,
          3.6397447239979703,
          3.6463586080906785,
          3.653032608673015,
          3.6597573581341707,
          3.6665203314191714,
          3.6733058874172158,
          3.6800953382703905,
          3.686867045547176,
          3.693596541861227,
          3.700256676189978,
          3.7068177808630347,
          3.7132478579549,
          3.7195127826305328,
          3.725576520860621,
          3.731401358845344,
          3.7369481414611267,
          3.7421765170718695,
          3.747045186122053,
          3.7515121510497713,
          3.75553496521695,
          3.7590709787468373,
          3.7620775793789876,
          3.764512426690221,
          3.7663336782823453,
          3.76750020679346,
          3.7679718068442156,
          3.7677093912761705,
          3.766675176269837,
          3.764832855140234,
          3.7621477607928218,
          3.7585870169790727,
          3.7541196786156754,
          3.7487168615233895,
          3.742351862000195,
          3.735000266668579,
          3.7266400530313684,
          3.717251681136055,
          3.7068181766870643,
          3.6953252058647945,
          3.682761142011243,
          3.6691171242323377,
          3.6543871078507926,
          3.6385679065252168,
          3.6216592257364084,
          3.6036636872393926,
          3.5845868439862207,
          3.564437184952195,
          3.5432261292464657,
          3.520968008859099,
          3.497680039395708,
          3.4733822781759462,
          3.4480975691232185,
          3.4218514739572092,
          3.394672189302993,
          3.3665904494617505,
          3.3376394147393604,
          3.3078545453981283,
          3.277273461477056,
          3.245935788922112,
          3.213882992661255,
          3.1811581974592475,
          3.1478059975809227,
          3.1138722564738432,
          3.0794038978550438,
          3.0444486897406096,
          3.009055023086878,
          2.973271686825735,
          2.937147641153637,
          2.900731790990346,
          2.8640727615459713,
          2.82721867792729,
          2.790216950673349,
          2.7531140690483076,
          2.715955403816596,
          2.6787850211046464,
          2.6416455088068185,
          2.604577816822757,
          2.567621112229256,
          2.5308126502891564,
          2.4941876619873162,
          2.457779258574388,
          2.4216183533759064,
          2.3857336009122494,
          2.3501513531670395,
          2.3148956326444563,
          2.2799881216684366,
          2.245448167214594,
          2.211292800412509,
          2.1775367697327885,
          2.144192586769908,
          2.111270583450131,
          2.0787789794418647,
          2.0467239585159103,
          2.015109752594344,
          1.9839387322484645,
          1.9532115024400396,
          1.922927002360792,
          1.8930826082987877,
          1.8636742385491238,
          1.8346964594840194,
          1.8061425920101626,
          1.7780048177490626,
          1.7502742843925296,
          1.7229412097989256,
          1.6959949845026643,
          1.6694242724119595,
          1.6432171095606658,
          1.6173610008576,
          1.5918430148469116,
          1.5666498765394539,
          1.541768058412001,
          1.5171838696896907,
          1.4928835440300514,
          1.468853325711378,
          1.4450795544037103,
          1.4215487485558802,
          1.3982476873813512,
          1.3751634913631448,
          1.3522837011269764,
          1.329596354459363,
          1.3070900611715832,
          1.284754075433352,
          1.2625783651320726,
          1.240553677745351,
          1.2186716021606216,
          1.1969246258304262,
          1.1753061866204215,
          1.1538107186889788,
          1.1324336917410691,
          1.111171643010799,
          1.0900222013663021,
          1.0689841029792824,
          1.0480571980730682,
          1.0272424483481273,
          1.0065419147846915,
          0.9859587356342765,
          0.965497094540155,
          0.9451621788566208,
          0.9249601283775867,
          0.9048979748270882,
          0.8849835726066233,
          0.8652255214310465,
          0.8456330816204112,
          0.8262160829338776,
          0.8069848279474598,
          0.7879499910697825,
          0.7691225143706618,
          0.750513501457242,
          0.732134110672309,
          0.713995448905372,
          0.6961084673051281,
          0.6784838601521032,
          0.6611319681026239,
          0.6440626869440762,
          0.627285382910517,
          0.6108088154972197,
          0.5946410685903174,
          0.5787894905843824,
          0.5632606440141047,
          0.5480602650652299,
          0.5331932331684163,
          0.5186635507146996,
          0.5044743327684393,
          0.4906278064948866,
          0.47712531987230794,
          0.4639673591177153,
          0.45115357413168566,
          0.43868281115915736,
          0.4265531517729111,
          0.4147619572145268,
          0.4033059170797187,
          0.3921811013038856,
          0.3813830143998172,
          0.3709066509118801,
          0.3607465510872227,
          0.35089685581916896,
          0.3413513599907128,
          0.3321035634334654,
          0.3231467188207683,
          0.31447387592519044,
          0.3060779217927102,
          0.29795161651210605,
          0.29008762438692115,
          0.28247854044501136,
          0.27511691234686747,
          0.26799525787042866,
          0.26110607826136334,
          0.25444186783492495,
          0.2479951203014054,
          0.24175833235732014,
          0.23572400513859454,
          0.2298846441686187,
          0.22423275845454319,
          0.21876085938595252,
          0.21346146007505878,
          0.2083270757455777,
          0.20335022572967412,
          0.19852343757109905,
          0.19383925365874316,
          0.18929024073041126,
          0.18486900249527663,
          0.18056819552474349,
          0.17638054846059753,
          0.17229888448720007,
          0.16831614691402053,
          0.1644254276177478,
          0.16061999800322488,
          0.15689334205936517,
          0.15323919101396571,
          0.1496515590299706,
          0.14612477933712206,
          0.1426535401575222,
          0.13923291976328397,
          0.13585841999690856,
          0.13252599759340605,
          0.12923209266409533,
          0.12597365373706013,
          0.12274815879612348,
          0.11955363181823708,
          0.11638865437665173,
          0.11325237195358179,
          0.11014449468777668,
          0.10706529236955378,
          0.10401558358566693,
          0.10099671900706468,
          0.0980105589029093,
          0.09505944505196269,
          0.09214616730615072,
          0.08927392514020129,
          0.08644628459279287,
          0.08366713106931693,
          0.08094061853232629,
          0.07827111565266755,
          0.07566314953136619,
          0.07312134763026094,
          0.07065037856670861,
          0.06825489243596763,
          0.06593946132351722,
          0.06370852065915208,
          0.06156631204631175,
          0.05951682817388634,
          0.057563760384478746,
          0.055710449434298474,
          0.053959839935255924,
          0.05231443892141015,
          0.050776278929789066,
          0.049346885930903084,
          0.04802725238764873,
          0.04681781566394323,
          0.045718441946170925,
          0.04472841578286693,
          0.04384643529107334,
          0.04307061302200276,
          0.04239848242463271,
          0.04182700979379521,
          0.04135261153960416,
          0.040971176568076875,
          0.040678093518408856,
          0.04046828256115135,
          0.040336231423417766,
          0.040276035272452444,
          0.040281440057541744,
          0.04034588888252589,
          0.04046257095713855,
          0.040624472655270714,
          0.040824430192114104,
          0.041055183420173294,
          0.04130943023644774,
          0.041579881089815654,
          0.04185931307896071,
          0.04214062313706788,
          0.042416879810179574,
          0.04268137315144708,
          0.0429276622736108,
          0.04314962012679873,
          0.04334147509804306,
          0.04349784906251854,
          0.043613791554290036,
          0.04368480976585176,
          0.04370689413063092,
          0.04367653929044473,
          0.043590760300090375
         ],
         "yaxis": "y",
         "type": "scatter"
        },
        {
         "legendgroup": "displot",
         "marker": {
          "color": "rgb(31, 119, 180)",
          "symbol": "line-ns-open"
         },
         "mode": "markers",
         "name": "displot",
         "showlegend": false,
         "x": [
          30.7818,
          30.57228,
          30.691175,
          30.497935000000002,
          30.59343,
          30.607185,
          30.5818,
          30.609495,
          30.778285,
          30.75129,
          30.51874,
          30.704225,
          30.533845,
          30.723335,
          30.71547,
          30.717825,
          30.673505,
          30.5712,
          30.82616,
          30.52563,
          30.718715,
          30.71224,
          30.676855,
          30.816285,
          30.95306,
          30.825025,
          30.63254,
          30.627935,
          30.70767,
          30.72008,
          30.77065,
          30.70737,
          30.7849,
          30.63771,
          30.51852,
          30.76934,
          30.62888,
          30.601335,
          30.74109,
          30.73013,
          30.670195,
          30.647815,
          30.55739,
          30.68823,
          30.67328,
          30.637035,
          30.674525,
          30.776395,
          30.617855,
          30.636415,
          30.620635,
          30.55194,
          30.71833,
          30.65922,
          30.75461,
          30.64203,
          30.597225,
          30.70299,
          30.66913,
          30.735175,
          30.839025,
          30.641725,
          30.80692,
          30.577215,
          30.723595,
          30.752425,
          30.941915,
          30.620445,
          30.739355,
          30.63824,
          30.622325,
          30.843140000000002,
          30.56123,
          30.58711,
          30.63846,
          30.595365,
          30.7269,
          30.669375,
          30.75149,
          30.70839,
          30.663945000000002,
          30.724555,
          30.55389,
          30.688795,
          30.71741,
          30.60595,
          30.489175,
          30.78367,
          30.64076,
          30.57969,
          30.870635,
          30.70335,
          30.66038,
          30.44436,
          30.648545,
          30.57813,
          30.60502,
          30.56788,
          30.76127,
          30.565125,
          30.608275,
          30.67772,
          30.736485,
          30.67691,
          31.03914,
          30.507235,
          30.45684,
          30.557985,
          30.540195,
          30.767195,
          30.738905,
          30.81525,
          30.71275,
          30.62336,
          30.639055,
          30.744915,
          30.84178,
          30.546005,
          30.610025,
          30.61057,
          30.641615,
          30.62605,
          30.583,
          30.614675,
          30.84229,
          30.8993,
          30.752155,
          30.798535,
          30.68118,
          30.68426,
          30.66936,
          30.67691,
          30.809935,
          30.780075,
          30.675565,
          30.79094,
          30.629065,
          30.65393,
          30.72934,
          30.6972,
          30.7799,
          30.506905,
          30.60346,
          30.704335,
          30.76504,
          30.709905,
          30.587525,
          30.73991,
          30.55074,
          30.72696,
          30.6239,
          30.837215,
          30.525315,
          30.579975,
          30.647265,
          30.66663,
          30.814105,
          30.690665,
          30.52674,
          30.778035,
          30.580615,
          30.485565,
          30.49869,
          30.549885,
          30.54511,
          30.518465,
          30.765715,
          30.760035,
          30.60743,
          30.5403,
          30.73538,
          30.59915,
          30.904195,
          30.71332,
          30.623065,
          30.57367,
          30.717105,
          30.654535,
          30.750305,
          30.58793,
          30.616875,
          30.6614,
          30.67878,
          30.564535,
          30.68081,
          30.68927,
          30.552715,
          30.6017,
          30.60185,
          30.671015,
          30.66976,
          30.67233,
          30.692435,
          30.68062,
          30.484625,
          30.527665,
          30.553745,
          30.83736,
          30.584175,
          30.61789,
          30.891395,
          30.697825,
          30.75195,
          30.627685,
          30.60139,
          30.576605,
          30.708845,
          30.694985,
          30.782875,
          30.700305,
          30.82346,
          30.875775,
          30.78126,
          30.585755,
          30.73568,
          30.79253,
          30.57677,
          30.67962,
          30.56061,
          30.68011,
          30.64151,
          30.573235,
          30.72129,
          30.61825,
          30.59998,
          30.710295,
          30.594865,
          30.802505,
          30.72988,
          30.7117,
          30.80656,
          30.59975,
          30.744835,
          30.641905,
          30.44864,
          30.730235,
          30.70865,
          30.688795,
          30.543565,
          30.630665,
          30.645355,
          30.576435,
          30.797235,
          30.4829,
          30.56507,
          30.759595,
          30.72352,
          30.632365,
          30.66714,
          30.670135,
          30.74152,
          30.683685,
          30.64597,
          30.740385,
          30.57408,
          30.653515,
          30.687565,
          30.67493,
          30.703065,
          30.571895,
          30.639505,
          30.837545,
          30.750205,
          30.711295,
          30.59516,
          30.60087,
          30.704105,
          30.71465,
          30.67863,
          30.573285,
          30.564005,
          30.639745,
          30.678805,
          30.524735,
          30.726065,
          30.355745,
          30.623725,
          30.65943,
          30.851005,
          30.54701,
          30.45521,
          30.69488,
          30.615625,
          30.777665,
          30.705105,
          30.8581,
          30.62286,
          30.643015,
          30.63434,
          30.682105,
          30.798235,
          30.725935,
          30.68025,
          30.738515,
          30.560995,
          30.544705,
          30.808235,
          30.751425,
          30.741105,
          30.619555000000002
         ],
         "xaxis": "x",
         "y": [
          "displot",
          "displot",
          "displot",
          "displot",
          "displot",
          "displot",
          "displot",
          "displot",
          "displot",
          "displot",
          "displot",
          "displot",
          "displot",
          "displot",
          "displot",
          "displot",
          "displot",
          "displot",
          "displot",
          "displot",
          "displot",
          "displot",
          "displot",
          "displot",
          "displot",
          "displot",
          "displot",
          "displot",
          "displot",
          "displot",
          "displot",
          "displot",
          "displot",
          "displot",
          "displot",
          "displot",
          "displot",
          "displot",
          "displot",
          "displot",
          "displot",
          "displot",
          "displot",
          "displot",
          "displot",
          "displot",
          "displot",
          "displot",
          "displot",
          "displot",
          "displot",
          "displot",
          "displot",
          "displot",
          "displot",
          "displot",
          "displot",
          "displot",
          "displot",
          "displot",
          "displot",
          "displot",
          "displot",
          "displot",
          "displot",
          "displot",
          "displot",
          "displot",
          "displot",
          "displot",
          "displot",
          "displot",
          "displot",
          "displot",
          "displot",
          "displot",
          "displot",
          "displot",
          "displot",
          "displot",
          "displot",
          "displot",
          "displot",
          "displot",
          "displot",
          "displot",
          "displot",
          "displot",
          "displot",
          "displot",
          "displot",
          "displot",
          "displot",
          "displot",
          "displot",
          "displot",
          "displot",
          "displot",
          "displot",
          "displot",
          "displot",
          "displot",
          "displot",
          "displot",
          "displot",
          "displot",
          "displot",
          "displot",
          "displot",
          "displot",
          "displot",
          "displot",
          "displot",
          "displot",
          "displot",
          "displot",
          "displot",
          "displot",
          "displot",
          "displot",
          "displot",
          "displot",
          "displot",
          "displot",
          "displot",
          "displot",
          "displot",
          "displot",
          "displot",
          "displot",
          "displot",
          "displot",
          "displot",
          "displot",
          "displot",
          "displot",
          "displot",
          "displot",
          "displot",
          "displot",
          "displot",
          "displot",
          "displot",
          "displot",
          "displot",
          "displot",
          "displot",
          "displot",
          "displot",
          "displot",
          "displot",
          "displot",
          "displot",
          "displot",
          "displot",
          "displot",
          "displot",
          "displot",
          "displot",
          "displot",
          "displot",
          "displot",
          "displot",
          "displot",
          "displot",
          "displot",
          "displot",
          "displot",
          "displot",
          "displot",
          "displot",
          "displot",
          "displot",
          "displot",
          "displot",
          "displot",
          "displot",
          "displot",
          "displot",
          "displot",
          "displot",
          "displot",
          "displot",
          "displot",
          "displot",
          "displot",
          "displot",
          "displot",
          "displot",
          "displot",
          "displot",
          "displot",
          "displot",
          "displot",
          "displot",
          "displot",
          "displot",
          "displot",
          "displot",
          "displot",
          "displot",
          "displot",
          "displot",
          "displot",
          "displot",
          "displot",
          "displot",
          "displot",
          "displot",
          "displot",
          "displot",
          "displot",
          "displot",
          "displot",
          "displot",
          "displot",
          "displot",
          "displot",
          "displot",
          "displot",
          "displot",
          "displot",
          "displot",
          "displot",
          "displot",
          "displot",
          "displot",
          "displot",
          "displot",
          "displot",
          "displot",
          "displot",
          "displot",
          "displot",
          "displot",
          "displot",
          "displot",
          "displot",
          "displot",
          "displot",
          "displot",
          "displot",
          "displot",
          "displot",
          "displot",
          "displot",
          "displot",
          "displot",
          "displot",
          "displot",
          "displot",
          "displot",
          "displot",
          "displot",
          "displot",
          "displot",
          "displot",
          "displot",
          "displot",
          "displot",
          "displot",
          "displot",
          "displot",
          "displot",
          "displot",
          "displot",
          "displot",
          "displot",
          "displot",
          "displot",
          "displot",
          "displot",
          "displot",
          "displot",
          "displot",
          "displot",
          "displot",
          "displot",
          "displot",
          "displot",
          "displot",
          "displot",
          "displot",
          "displot",
          "displot",
          "displot",
          "displot",
          "displot",
          "displot",
          "displot",
          "displot",
          "displot",
          "displot",
          "displot",
          "displot",
          "displot",
          "displot",
          "displot",
          "displot",
          "displot"
         ],
         "yaxis": "y2",
         "type": "scatter"
        }
       ],
       "layout": {
        "barmode": "overlay",
        "hovermode": "closest",
        "legend": {
         "traceorder": "reversed"
        },
        "xaxis": {
         "anchor": "y2",
         "domain": [
          0.0,
          1.0
         ],
         "zeroline": false
        },
        "yaxis": {
         "anchor": "free",
         "domain": [
          0.35,
          1
         ],
         "position": 0.0
        },
        "yaxis2": {
         "anchor": "x",
         "domain": [
          0,
          0.25
         ],
         "dtick": 1,
         "showticklabels": false
        },
        "template": {
         "data": {
          "histogram2dcontour": [
           {
            "type": "histogram2dcontour",
            "colorbar": {
             "outlinewidth": 0,
             "ticks": ""
            },
            "colorscale": [
             [
              0.0,
              "#0d0887"
             ],
             [
              0.1111111111111111,
              "#46039f"
             ],
             [
              0.2222222222222222,
              "#7201a8"
             ],
             [
              0.3333333333333333,
              "#9c179e"
             ],
             [
              0.4444444444444444,
              "#bd3786"
             ],
             [
              0.5555555555555556,
              "#d8576b"
             ],
             [
              0.6666666666666666,
              "#ed7953"
             ],
             [
              0.7777777777777778,
              "#fb9f3a"
             ],
             [
              0.8888888888888888,
              "#fdca26"
             ],
             [
              1.0,
              "#f0f921"
             ]
            ]
           }
          ],
          "choropleth": [
           {
            "type": "choropleth",
            "colorbar": {
             "outlinewidth": 0,
             "ticks": ""
            }
           }
          ],
          "histogram2d": [
           {
            "type": "histogram2d",
            "colorbar": {
             "outlinewidth": 0,
             "ticks": ""
            },
            "colorscale": [
             [
              0.0,
              "#0d0887"
             ],
             [
              0.1111111111111111,
              "#46039f"
             ],
             [
              0.2222222222222222,
              "#7201a8"
             ],
             [
              0.3333333333333333,
              "#9c179e"
             ],
             [
              0.4444444444444444,
              "#bd3786"
             ],
             [
              0.5555555555555556,
              "#d8576b"
             ],
             [
              0.6666666666666666,
              "#ed7953"
             ],
             [
              0.7777777777777778,
              "#fb9f3a"
             ],
             [
              0.8888888888888888,
              "#fdca26"
             ],
             [
              1.0,
              "#f0f921"
             ]
            ]
           }
          ],
          "heatmap": [
           {
            "type": "heatmap",
            "colorbar": {
             "outlinewidth": 0,
             "ticks": ""
            },
            "colorscale": [
             [
              0.0,
              "#0d0887"
             ],
             [
              0.1111111111111111,
              "#46039f"
             ],
             [
              0.2222222222222222,
              "#7201a8"
             ],
             [
              0.3333333333333333,
              "#9c179e"
             ],
             [
              0.4444444444444444,
              "#bd3786"
             ],
             [
              0.5555555555555556,
              "#d8576b"
             ],
             [
              0.6666666666666666,
              "#ed7953"
             ],
             [
              0.7777777777777778,
              "#fb9f3a"
             ],
             [
              0.8888888888888888,
              "#fdca26"
             ],
             [
              1.0,
              "#f0f921"
             ]
            ]
           }
          ],
          "heatmapgl": [
           {
            "type": "heatmapgl",
            "colorbar": {
             "outlinewidth": 0,
             "ticks": ""
            },
            "colorscale": [
             [
              0.0,
              "#0d0887"
             ],
             [
              0.1111111111111111,
              "#46039f"
             ],
             [
              0.2222222222222222,
              "#7201a8"
             ],
             [
              0.3333333333333333,
              "#9c179e"
             ],
             [
              0.4444444444444444,
              "#bd3786"
             ],
             [
              0.5555555555555556,
              "#d8576b"
             ],
             [
              0.6666666666666666,
              "#ed7953"
             ],
             [
              0.7777777777777778,
              "#fb9f3a"
             ],
             [
              0.8888888888888888,
              "#fdca26"
             ],
             [
              1.0,
              "#f0f921"
             ]
            ]
           }
          ],
          "contourcarpet": [
           {
            "type": "contourcarpet",
            "colorbar": {
             "outlinewidth": 0,
             "ticks": ""
            }
           }
          ],
          "contour": [
           {
            "type": "contour",
            "colorbar": {
             "outlinewidth": 0,
             "ticks": ""
            },
            "colorscale": [
             [
              0.0,
              "#0d0887"
             ],
             [
              0.1111111111111111,
              "#46039f"
             ],
             [
              0.2222222222222222,
              "#7201a8"
             ],
             [
              0.3333333333333333,
              "#9c179e"
             ],
             [
              0.4444444444444444,
              "#bd3786"
             ],
             [
              0.5555555555555556,
              "#d8576b"
             ],
             [
              0.6666666666666666,
              "#ed7953"
             ],
             [
              0.7777777777777778,
              "#fb9f3a"
             ],
             [
              0.8888888888888888,
              "#fdca26"
             ],
             [
              1.0,
              "#f0f921"
             ]
            ]
           }
          ],
          "surface": [
           {
            "type": "surface",
            "colorbar": {
             "outlinewidth": 0,
             "ticks": ""
            },
            "colorscale": [
             [
              0.0,
              "#0d0887"
             ],
             [
              0.1111111111111111,
              "#46039f"
             ],
             [
              0.2222222222222222,
              "#7201a8"
             ],
             [
              0.3333333333333333,
              "#9c179e"
             ],
             [
              0.4444444444444444,
              "#bd3786"
             ],
             [
              0.5555555555555556,
              "#d8576b"
             ],
             [
              0.6666666666666666,
              "#ed7953"
             ],
             [
              0.7777777777777778,
              "#fb9f3a"
             ],
             [
              0.8888888888888888,
              "#fdca26"
             ],
             [
              1.0,
              "#f0f921"
             ]
            ]
           }
          ],
          "mesh3d": [
           {
            "type": "mesh3d",
            "colorbar": {
             "outlinewidth": 0,
             "ticks": ""
            }
           }
          ],
          "scatter": [
           {
            "fillpattern": {
             "fillmode": "overlay",
             "size": 10,
             "solidity": 0.2
            },
            "type": "scatter"
           }
          ],
          "parcoords": [
           {
            "type": "parcoords",
            "line": {
             "colorbar": {
              "outlinewidth": 0,
              "ticks": ""
             }
            }
           }
          ],
          "scatterpolargl": [
           {
            "type": "scatterpolargl",
            "marker": {
             "colorbar": {
              "outlinewidth": 0,
              "ticks": ""
             }
            }
           }
          ],
          "bar": [
           {
            "error_x": {
             "color": "#2a3f5f"
            },
            "error_y": {
             "color": "#2a3f5f"
            },
            "marker": {
             "line": {
              "color": "#E5ECF6",
              "width": 0.5
             },
             "pattern": {
              "fillmode": "overlay",
              "size": 10,
              "solidity": 0.2
             }
            },
            "type": "bar"
           }
          ],
          "scattergeo": [
           {
            "type": "scattergeo",
            "marker": {
             "colorbar": {
              "outlinewidth": 0,
              "ticks": ""
             }
            }
           }
          ],
          "scatterpolar": [
           {
            "type": "scatterpolar",
            "marker": {
             "colorbar": {
              "outlinewidth": 0,
              "ticks": ""
             }
            }
           }
          ],
          "histogram": [
           {
            "marker": {
             "pattern": {
              "fillmode": "overlay",
              "size": 10,
              "solidity": 0.2
             }
            },
            "type": "histogram"
           }
          ],
          "scattergl": [
           {
            "type": "scattergl",
            "marker": {
             "colorbar": {
              "outlinewidth": 0,
              "ticks": ""
             }
            }
           }
          ],
          "scatter3d": [
           {
            "type": "scatter3d",
            "line": {
             "colorbar": {
              "outlinewidth": 0,
              "ticks": ""
             }
            },
            "marker": {
             "colorbar": {
              "outlinewidth": 0,
              "ticks": ""
             }
            }
           }
          ],
          "scattermapbox": [
           {
            "type": "scattermapbox",
            "marker": {
             "colorbar": {
              "outlinewidth": 0,
              "ticks": ""
             }
            }
           }
          ],
          "scatterternary": [
           {
            "type": "scatterternary",
            "marker": {
             "colorbar": {
              "outlinewidth": 0,
              "ticks": ""
             }
            }
           }
          ],
          "scattercarpet": [
           {
            "type": "scattercarpet",
            "marker": {
             "colorbar": {
              "outlinewidth": 0,
              "ticks": ""
             }
            }
           }
          ],
          "carpet": [
           {
            "aaxis": {
             "endlinecolor": "#2a3f5f",
             "gridcolor": "white",
             "linecolor": "white",
             "minorgridcolor": "white",
             "startlinecolor": "#2a3f5f"
            },
            "baxis": {
             "endlinecolor": "#2a3f5f",
             "gridcolor": "white",
             "linecolor": "white",
             "minorgridcolor": "white",
             "startlinecolor": "#2a3f5f"
            },
            "type": "carpet"
           }
          ],
          "table": [
           {
            "cells": {
             "fill": {
              "color": "#EBF0F8"
             },
             "line": {
              "color": "white"
             }
            },
            "header": {
             "fill": {
              "color": "#C8D4E3"
             },
             "line": {
              "color": "white"
             }
            },
            "type": "table"
           }
          ],
          "barpolar": [
           {
            "marker": {
             "line": {
              "color": "#E5ECF6",
              "width": 0.5
             },
             "pattern": {
              "fillmode": "overlay",
              "size": 10,
              "solidity": 0.2
             }
            },
            "type": "barpolar"
           }
          ],
          "pie": [
           {
            "automargin": true,
            "type": "pie"
           }
          ]
         },
         "layout": {
          "autotypenumbers": "strict",
          "colorway": [
           "#636efa",
           "#EF553B",
           "#00cc96",
           "#ab63fa",
           "#FFA15A",
           "#19d3f3",
           "#FF6692",
           "#B6E880",
           "#FF97FF",
           "#FECB52"
          ],
          "font": {
           "color": "#2a3f5f"
          },
          "hovermode": "closest",
          "hoverlabel": {
           "align": "left"
          },
          "paper_bgcolor": "white",
          "plot_bgcolor": "#E5ECF6",
          "polar": {
           "bgcolor": "#E5ECF6",
           "angularaxis": {
            "gridcolor": "white",
            "linecolor": "white",
            "ticks": ""
           },
           "radialaxis": {
            "gridcolor": "white",
            "linecolor": "white",
            "ticks": ""
           }
          },
          "ternary": {
           "bgcolor": "#E5ECF6",
           "aaxis": {
            "gridcolor": "white",
            "linecolor": "white",
            "ticks": ""
           },
           "baxis": {
            "gridcolor": "white",
            "linecolor": "white",
            "ticks": ""
           },
           "caxis": {
            "gridcolor": "white",
            "linecolor": "white",
            "ticks": ""
           }
          },
          "coloraxis": {
           "colorbar": {
            "outlinewidth": 0,
            "ticks": ""
           }
          },
          "colorscale": {
           "sequential": [
            [
             0.0,
             "#0d0887"
            ],
            [
             0.1111111111111111,
             "#46039f"
            ],
            [
             0.2222222222222222,
             "#7201a8"
            ],
            [
             0.3333333333333333,
             "#9c179e"
            ],
            [
             0.4444444444444444,
             "#bd3786"
            ],
            [
             0.5555555555555556,
             "#d8576b"
            ],
            [
             0.6666666666666666,
             "#ed7953"
            ],
            [
             0.7777777777777778,
             "#fb9f3a"
            ],
            [
             0.8888888888888888,
             "#fdca26"
            ],
            [
             1.0,
             "#f0f921"
            ]
           ],
           "sequentialminus": [
            [
             0.0,
             "#0d0887"
            ],
            [
             0.1111111111111111,
             "#46039f"
            ],
            [
             0.2222222222222222,
             "#7201a8"
            ],
            [
             0.3333333333333333,
             "#9c179e"
            ],
            [
             0.4444444444444444,
             "#bd3786"
            ],
            [
             0.5555555555555556,
             "#d8576b"
            ],
            [
             0.6666666666666666,
             "#ed7953"
            ],
            [
             0.7777777777777778,
             "#fb9f3a"
            ],
            [
             0.8888888888888888,
             "#fdca26"
            ],
            [
             1.0,
             "#f0f921"
            ]
           ],
           "diverging": [
            [
             0,
             "#8e0152"
            ],
            [
             0.1,
             "#c51b7d"
            ],
            [
             0.2,
             "#de77ae"
            ],
            [
             0.3,
             "#f1b6da"
            ],
            [
             0.4,
             "#fde0ef"
            ],
            [
             0.5,
             "#f7f7f7"
            ],
            [
             0.6,
             "#e6f5d0"
            ],
            [
             0.7,
             "#b8e186"
            ],
            [
             0.8,
             "#7fbc41"
            ],
            [
             0.9,
             "#4d9221"
            ],
            [
             1,
             "#276419"
            ]
           ]
          },
          "xaxis": {
           "gridcolor": "white",
           "linecolor": "white",
           "ticks": "",
           "title": {
            "standoff": 15
           },
           "zerolinecolor": "white",
           "automargin": true,
           "zerolinewidth": 2
          },
          "yaxis": {
           "gridcolor": "white",
           "linecolor": "white",
           "ticks": "",
           "title": {
            "standoff": 15
           },
           "zerolinecolor": "white",
           "automargin": true,
           "zerolinewidth": 2
          },
          "scene": {
           "xaxis": {
            "backgroundcolor": "#E5ECF6",
            "gridcolor": "white",
            "linecolor": "white",
            "showbackground": true,
            "ticks": "",
            "zerolinecolor": "white",
            "gridwidth": 2
           },
           "yaxis": {
            "backgroundcolor": "#E5ECF6",
            "gridcolor": "white",
            "linecolor": "white",
            "showbackground": true,
            "ticks": "",
            "zerolinecolor": "white",
            "gridwidth": 2
           },
           "zaxis": {
            "backgroundcolor": "#E5ECF6",
            "gridcolor": "white",
            "linecolor": "white",
            "showbackground": true,
            "ticks": "",
            "zerolinecolor": "white",
            "gridwidth": 2
           }
          },
          "shapedefaults": {
           "line": {
            "color": "#2a3f5f"
           }
          },
          "annotationdefaults": {
           "arrowcolor": "#2a3f5f",
           "arrowhead": 0,
           "arrowwidth": 1
          },
          "geo": {
           "bgcolor": "white",
           "landcolor": "#E5ECF6",
           "subunitcolor": "white",
           "showland": true,
           "showlakes": true,
           "lakecolor": "white"
          },
          "title": {
           "x": 0.05
          },
          "mapbox": {
           "style": "light"
          }
         }
        }
       },
       "config": {
        "plotlyServerURL": "https://plot.ly"
       }
      },
      "text/html": "<div>                            <div id=\"9ec0831b-1266-405f-909a-9f9ae229ffd8\" class=\"plotly-graph-div\" style=\"height:525px; width:100%;\"></div>            <script type=\"text/javascript\">                require([\"plotly\"], function(Plotly) {                    window.PLOTLYENV=window.PLOTLYENV || {};                                    if (document.getElementById(\"9ec0831b-1266-405f-909a-9f9ae229ffd8\")) {                    Plotly.newPlot(                        \"9ec0831b-1266-405f-909a-9f9ae229ffd8\",                        [{\"autobinx\":false,\"histnorm\":\"probability density\",\"legendgroup\":\"displot\",\"marker\":{\"color\":\"rgb(31, 119, 180)\"},\"name\":\"displot\",\"opacity\":0.7,\"x\":[30.7818,30.57228,30.691175,30.497935000000002,30.59343,30.607185,30.5818,30.609495,30.778285,30.75129,30.51874,30.704225,30.533845,30.723335,30.71547,30.717825,30.673505,30.5712,30.82616,30.52563,30.718715,30.71224,30.676855,30.816285,30.95306,30.825025,30.63254,30.627935,30.70767,30.72008,30.77065,30.70737,30.7849,30.63771,30.51852,30.76934,30.62888,30.601335,30.74109,30.73013,30.670195,30.647815,30.55739,30.68823,30.67328,30.637035,30.674525,30.776395,30.617855,30.636415,30.620635,30.55194,30.71833,30.65922,30.75461,30.64203,30.597225,30.70299,30.66913,30.735175,30.839025,30.641725,30.80692,30.577215,30.723595,30.752425,30.941915,30.620445,30.739355,30.63824,30.622325,30.843140000000002,30.56123,30.58711,30.63846,30.595365,30.7269,30.669375,30.75149,30.70839,30.663945000000002,30.724555,30.55389,30.688795,30.71741,30.60595,30.489175,30.78367,30.64076,30.57969,30.870635,30.70335,30.66038,30.44436,30.648545,30.57813,30.60502,30.56788,30.76127,30.565125,30.608275,30.67772,30.736485,30.67691,31.03914,30.507235,30.45684,30.557985,30.540195,30.767195,30.738905,30.81525,30.71275,30.62336,30.639055,30.744915,30.84178,30.546005,30.610025,30.61057,30.641615,30.62605,30.583,30.614675,30.84229,30.8993,30.752155,30.798535,30.68118,30.68426,30.66936,30.67691,30.809935,30.780075,30.675565,30.79094,30.629065,30.65393,30.72934,30.6972,30.7799,30.506905,30.60346,30.704335,30.76504,30.709905,30.587525,30.73991,30.55074,30.72696,30.6239,30.837215,30.525315,30.579975,30.647265,30.66663,30.814105,30.690665,30.52674,30.778035,30.580615,30.485565,30.49869,30.549885,30.54511,30.518465,30.765715,30.760035,30.60743,30.5403,30.73538,30.59915,30.904195,30.71332,30.623065,30.57367,30.717105,30.654535,30.750305,30.58793,30.616875,30.6614,30.67878,30.564535,30.68081,30.68927,30.552715,30.6017,30.60185,30.671015,30.66976,30.67233,30.692435,30.68062,30.484625,30.527665,30.553745,30.83736,30.584175,30.61789,30.891395,30.697825,30.75195,30.627685,30.60139,30.576605,30.708845,30.694985,30.782875,30.700305,30.82346,30.875775,30.78126,30.585755,30.73568,30.79253,30.57677,30.67962,30.56061,30.68011,30.64151,30.573235,30.72129,30.61825,30.59998,30.710295,30.594865,30.802505,30.72988,30.7117,30.80656,30.59975,30.744835,30.641905,30.44864,30.730235,30.70865,30.688795,30.543565,30.630665,30.645355,30.576435,30.797235,30.4829,30.56507,30.759595,30.72352,30.632365,30.66714,30.670135,30.74152,30.683685,30.64597,30.740385,30.57408,30.653515,30.687565,30.67493,30.703065,30.571895,30.639505,30.837545,30.750205,30.711295,30.59516,30.60087,30.704105,30.71465,30.67863,30.573285,30.564005,30.639745,30.678805,30.524735,30.726065,30.355745,30.623725,30.65943,30.851005,30.54701,30.45521,30.69488,30.615625,30.777665,30.705105,30.8581,30.62286,30.643015,30.63434,30.682105,30.798235,30.725935,30.68025,30.738515,30.560995,30.544705,30.808235,30.751425,30.741105,30.619555000000002],\"xaxis\":\"x\",\"xbins\":{\"end\":31.03914,\"size\":0.05,\"start\":30.355745},\"yaxis\":\"y\",\"type\":\"histogram\"},{\"legendgroup\":\"displot\",\"marker\":{\"color\":\"rgb(31, 119, 180)\"},\"mode\":\"lines\",\"name\":\"displot\",\"showlegend\":false,\"x\":[30.355745,30.357111789999998,30.35847858,30.35984537,30.361212159999997,30.36257895,30.36394574,30.36531253,30.36667932,30.368046109999998,30.3694129,30.37077969,30.372146479999998,30.37351327,30.37488006,30.376246849999998,30.37761364,30.37898043,30.380347219999997,30.38171401,30.3830808,30.38444759,30.38581438,30.387181169999998,30.38854796,30.38991475,30.391281539999998,30.39264833,30.39401512,30.395381909999998,30.3967487,30.39811549,30.399482279999997,30.40084907,30.40221586,30.40358265,30.40494944,30.406316229999998,30.40768302,30.40904981,30.410416599999998,30.41178339,30.41315018,30.414516969999998,30.41588376,30.41725055,30.418617339999997,30.41998413,30.42135092,30.42271771,30.4240845,30.425451289999998,30.42681808,30.42818487,30.429551659999998,30.43091845,30.43228524,30.433652029999998,30.43501882,30.43638561,30.437752399999997,30.43911919,30.44048598,30.44185277,30.44321956,30.444586349999998,30.44595314,30.44731993,30.448686719999998,30.45005351,30.4514203,30.452787089999998,30.45415388,30.45552067,30.456887459999997,30.45825425,30.45962104,30.46098783,30.46235462,30.463721409999998,30.4650882,30.46645499,30.467821779999998,30.46918857,30.47055536,30.471922149999997,30.47328894,30.47465573,30.47602252,30.47738931,30.4787561,30.48012289,30.48148968,30.482856469999998,30.48422326,30.48559005,30.486956839999998,30.48832363,30.48969042,30.491057209999997,30.492424,30.49379079,30.49515758,30.49652437,30.497891159999998,30.49925795,30.50062474,30.501991529999998,30.50335832,30.50472511,30.506091899999998,30.50745869,30.50882548,30.510192269999997,30.51155906,30.51292585,30.51429264,30.51565943,30.517026219999998,30.51839301,30.5197598,30.521126589999998,30.52249338,30.52386017,30.525226959999998,30.52659375,30.52796054,30.529327329999997,30.53069412,30.53206091,30.5334277,30.53479449,30.536161279999998,30.53752807,30.53889486,30.540261649999998,30.54162844,30.54299523,30.544362019999998,30.54572881,30.5470956,30.548462389999997,30.54982918,30.55119597,30.55256276,30.55392955,30.555296339999998,30.55666313,30.55802992,30.559396709999998,30.5607635,30.56213029,30.563497079999998,30.56486387,30.56623066,30.567597449999997,30.56896424,30.57033103,30.57169782,30.57306461,30.574431399999998,30.57579819,30.57716498,30.578531769999998,30.57989856,30.58126535,30.582632139999998,30.58399893,30.58536572,30.58673251,30.5880993,30.58946609,30.59083288,30.59219967,30.593566459999998,30.59493325,30.59630004,30.597666829999998,30.59903362,30.60040041,30.601767199999998,30.60313399,30.60450078,30.60586757,30.60723436,30.60860115,30.60996794,30.61133473,30.612701519999998,30.61406831,30.6154351,30.616801889999998,30.61816868,30.61953547,30.620902259999998,30.62226905,30.62363584,30.62500263,30.62636942,30.62773621,30.629103,30.63046979,30.631836579999998,30.63320337,30.63457016,30.635936949999998,30.63730374,30.63867053,30.640037319999998,30.64140411,30.6427709,30.64413769,30.64550448,30.64687127,30.64823806,30.64960485,30.650971639999998,30.65233843,30.65370522,30.655072009999998,30.6564388,30.65780559,30.659172379999998,30.66053917,30.66190596,30.66327275,30.66463954,30.66600633,30.66737312,30.66873991,30.670106699999998,30.67147349,30.67284028,30.674207069999998,30.67557386,30.67694065,30.678307439999998,30.67967423,30.68104102,30.68240781,30.6837746,30.68514139,30.68650818,30.68787497,30.689241759999998,30.69060855,30.69197534,30.693342129999998,30.69470892,30.69607571,30.6974425,30.69880929,30.70017608,30.70154287,30.70290966,30.70427645,30.70564324,30.70701003,30.708376819999998,30.70974361,30.7111104,30.712477189999998,30.71384398,30.71521077,30.71657756,30.71794435,30.71931114,30.72067793,30.72204472,30.72341151,30.7247783,30.72614509,30.727511879999998,30.72887867,30.73024546,30.731612249999998,30.73297904,30.73434583,30.73571262,30.73707941,30.7384462,30.73981299,30.74117978,30.74254657,30.74391336,30.74528015,30.746646939999998,30.74801373,30.74938052,30.750747309999998,30.7521141,30.75348089,30.75484768,30.75621447,30.75758126,30.75894805,30.76031484,30.761681629999998,30.76304842,30.76441521,30.765781999999998,30.76714879,30.76851558,30.769882369999998,30.77124916,30.77261595,30.77398274,30.77534953,30.77671632,30.77808311,30.7794499,30.780816689999998,30.78218348,30.78355027,30.784917059999998,30.78628385,30.78765064,30.789017429999998,30.79038422,30.79175101,30.7931178,30.79448459,30.79585138,30.79721817,30.79858496,30.799951749999998,30.80131854,30.80268533,30.804052119999998,30.80541891,30.8067857,30.808152489999998,30.80951928,30.81088607,30.81225286,30.81361965,30.81498644,30.81635323,30.81772002,30.819086809999998,30.8204536,30.82182039,30.823187179999998,30.82455397,30.82592076,30.82728755,30.82865434,30.83002113,30.83138792,30.83275471,30.8341215,30.83548829,30.83685508,30.838221869999998,30.83958866,30.84095545,30.842322239999998,30.84368903,30.84505582,30.84642261,30.8477894,30.84915619,30.85052298,30.85188977,30.85325656,30.85462335,30.85599014,30.857356929999998,30.85872372,30.86009051,30.861457299999998,30.86282409,30.86419088,30.86555767,30.86692446,30.86829125,30.86965804,30.87102483,30.87239162,30.87375841,30.8751252,30.876491989999998,30.87785878,30.87922557,30.880592359999998,30.88195915,30.88332594,30.88469273,30.88605952,30.88742631,30.8887931,30.89015989,30.89152668,30.89289347,30.89426026,30.895627049999998,30.89699384,30.89836063,30.899727419999998,30.90109421,30.902461,30.90382779,30.90519458,30.90656137,30.90792816,30.90929495,30.91066174,30.91202853,30.91339532,30.914762109999998,30.9161289,30.91749569,30.91886248,30.92022927,30.92159606,30.92296285,30.92432964,30.92569643,30.92706322,30.92843001,30.9297968,30.93116359,30.93253038,30.933897169999998,30.93526396,30.93663075,30.937997539999998,30.93936433,30.94073112,30.94209791,30.9434647,30.94483149,30.94619828,30.94756507,30.94893186,30.95029865,30.95166544,30.953032229999998,30.95439902,30.95576581,30.9571326,30.95849939,30.95986618,30.96123297,30.96259976,30.96396655,30.96533334,30.96670013,30.96806692,30.96943371,30.9708005,30.972167289999998,30.97353408,30.97490087,30.97626766,30.97763445,30.97900124,30.98036803,30.98173482,30.98310161,30.9844684,30.98583519,30.98720198,30.98856877,30.98993556,30.991302349999998,30.99266914,30.99403593,30.99540272,30.99676951,30.9981363,30.99950309,31.00086988,31.00223667,31.00360346,31.00497025,31.00633704,31.00770383,31.00907062,31.010437409999998,31.0118042,31.01317099,31.01453778,31.01590457,31.01727136,31.01863815,31.02000494,31.02137173,31.02273852,31.02410531,31.025472099999998,31.02683889,31.02820568,31.029572469999998,31.03093926,31.03230605,31.03367284,31.03503963,31.03640642,31.03777321],\"xaxis\":\"x\",\"y\":[0.044022471831072996,0.04425456779665114,0.044440831083737524,0.04458511255871912,0.044691922028345085,0.04476642382024417,0.04481442729062455,0.044842372263844806,0.044857309454005824,0.04486687596307722,0.0448792659929433,0.04490319694980179,0.044947871158296286,0.04502293343939804,0.04513842484023813,0.0453047328357288,0.04553253835086543,0.04583275997907122,0.046216495795895436,0.046694963188769555,0.04727943714255598,0.047981187437238504,0.04881141522836992,0.04978118949287752,0.05090138383240745,0.052182614133589496,0.05363517758937909,0.05526899358743687,0.05709354697078204,0.05911783417184638,0.0613503127135649,0.06379885455982409,0.06647070378245712,0.06937243899188363,0.07250994095429696,0.07588836578854453,0.07951212410099001,0.08338486637663825,0.08750947489886685,0.09188806241886878,0.09652197773982821,0.10141181831880827,0.10655744992392101,0.11195803331399691,0.1176120578348422,0.12351738175058789,0.12967127905216239,0.13607049240682298,0.14271129183743525,0.1495895386459357,0.15670075402498898,0.16404019173686418,0.17160291417920012,0.17938387110598025,0.18737798022992205,0.19558020889835107,0.20398565601374322,0.21258963335890663,0.2213877454880622,0.23037596735836108,0.23955071890296495,0.2489089357832956,0.2584481356085866,0.2681664789700258,0.278062824706428,0.2881367788972042,0.29838873716279846,0.30881991994319413,0.31943240052005173,0.3302291256423162,0.3412139287121338,0.3523915355803212,0.3637675630901856,0.37534851059192703,0.38714174472671187,0.3991554778445572,0.4113987404787886,0.42388134834444413,0.43661386436119237,0.4496075562228453,0.462874350043278,0.47642678060466714,0.4902779387189126,0.5044414161837244,0.5189312487797862,0.5337618577084634,0.5489479898163062,0.5645046568934896,0.580447074272402,0.5967905988859887,0.6135506668849774,0.6307427308477835,0.6483821965623855,0.6664843593068133,0.6850643395111293,0.704137017648525,0.7237169681805947,0.7438183923661241,0.7644550497444396,0.7856401881141722,0.807386471852745,0.8297059084582968,0.8526097732458953,0.8761085321851472,0.9002117629410823,0.9249280742533332,0.9502650238775757,0.9762290354013533,1.0028253143406627,1.0300577640185586,1.0579289018231395,1.0864397765287537,1.1155898874541952,1.1453771063078353,1.175797602637972,1.2068457738626617,1.2385141808994726,1.2707934904386649,1.3036724249216398,1.3371377212728865,1.3711740994148747,1.4057642415492486,1.4408887831245973,1.4765263163278923,1.5126534068389215,1.549244624462852,1.5862725881253144,1.6237080255598884,1.6615198478539908,1.699675238843153,1.7381397591617442,1.776877464560094,1.8158510379128017,1.8550219341402123,1.8943505370799953,1.9337963271570346,1.9733180585253107,2.012873944193042,2.0524218474991724,2.091919478175797,2.1313245911330023,2.1705951860195256,2.2096897055596685,2.248567230641496,2.2871876701409257,2.3255119434966507,2.363502154127538,2.4011217518744443,2.4383356827855764,2.475110524720904,2.5114146074377945,2.5472181160305163,2.582493176832975,2.617213925140225,2.651356554375328,2.6848993466002837,2.717822684551656,2.7501090456624953,2.7817429788108594,2.8127110647953772,2.8430018617970707,2.8726058373104153,2.9015152882377637,2.9297242510146564,2.9572284037774037,2.9840249626909023,3.0101125746232484,3.035491208374569,3.0601620466544133,3.084127380938829,3.107390511233819,3.129955652627004,3.151827850322642,3.1730129046330986,3.1935173071463647,3.2133481890018145,3.232513281903676,3.2510208921762063,3.2688798878302032,3.286099698271607,3.302690325949354,3.3186623689115806,3.3340270529340255,3.3487962715988595,3.362982632449066,3.3765995071282773,3.3896610832402625,3.4021824155349027,3.4141794739515356,3.4256691860247432,3.4366694711905534,3.4471992646161067,3.457278528317222,3.4669282475221284,3.476170410483818,3.4850279702308042,3.493524787077214,3.501685551075209,3.50953568398305,3.517101220731213,3.5244086707884223,3.5314848602510396,3.5383567558942954,3.545051272821244,3.5515950677204624,3.558014320084386,3.564334504040992,3.570580153705295,3.576774625158702,3.5829398583069088,3.589096141950525,3.5952618854218024,3.601453400097121,3.6076846939888054,3.613967282452241,3.6203100178203735,3.626718940501878,3.633197153756176,3.6397447239979703,3.6463586080906785,3.653032608673015,3.6597573581341707,3.6665203314191714,3.6733058874172158,3.6800953382703905,3.686867045547176,3.693596541861227,3.700256676189978,3.7068177808630347,3.7132478579549,3.7195127826305328,3.725576520860621,3.731401358845344,3.7369481414611267,3.7421765170718695,3.747045186122053,3.7515121510497713,3.75553496521695,3.7590709787468373,3.7620775793789876,3.764512426690221,3.7663336782823453,3.76750020679346,3.7679718068442156,3.7677093912761705,3.766675176269837,3.764832855140234,3.7621477607928218,3.7585870169790727,3.7541196786156754,3.7487168615233895,3.742351862000195,3.735000266668579,3.7266400530313684,3.717251681136055,3.7068181766870643,3.6953252058647945,3.682761142011243,3.6691171242323377,3.6543871078507926,3.6385679065252168,3.6216592257364084,3.6036636872393926,3.5845868439862207,3.564437184952195,3.5432261292464657,3.520968008859099,3.497680039395708,3.4733822781759462,3.4480975691232185,3.4218514739572092,3.394672189302993,3.3665904494617505,3.3376394147393604,3.3078545453981283,3.277273461477056,3.245935788922112,3.213882992661255,3.1811581974592475,3.1478059975809227,3.1138722564738432,3.0794038978550438,3.0444486897406096,3.009055023086878,2.973271686825735,2.937147641153637,2.900731790990346,2.8640727615459713,2.82721867792729,2.790216950673349,2.7531140690483076,2.715955403816596,2.6787850211046464,2.6416455088068185,2.604577816822757,2.567621112229256,2.5308126502891564,2.4941876619873162,2.457779258574388,2.4216183533759064,2.3857336009122494,2.3501513531670395,2.3148956326444563,2.2799881216684366,2.245448167214594,2.211292800412509,2.1775367697327885,2.144192586769908,2.111270583450131,2.0787789794418647,2.0467239585159103,2.015109752594344,1.9839387322484645,1.9532115024400396,1.922927002360792,1.8930826082987877,1.8636742385491238,1.8346964594840194,1.8061425920101626,1.7780048177490626,1.7502742843925296,1.7229412097989256,1.6959949845026643,1.6694242724119595,1.6432171095606658,1.6173610008576,1.5918430148469116,1.5666498765394539,1.541768058412001,1.5171838696896907,1.4928835440300514,1.468853325711378,1.4450795544037103,1.4215487485558802,1.3982476873813512,1.3751634913631448,1.3522837011269764,1.329596354459363,1.3070900611715832,1.284754075433352,1.2625783651320726,1.240553677745351,1.2186716021606216,1.1969246258304262,1.1753061866204215,1.1538107186889788,1.1324336917410691,1.111171643010799,1.0900222013663021,1.0689841029792824,1.0480571980730682,1.0272424483481273,1.0065419147846915,0.9859587356342765,0.965497094540155,0.9451621788566208,0.9249601283775867,0.9048979748270882,0.8849835726066233,0.8652255214310465,0.8456330816204112,0.8262160829338776,0.8069848279474598,0.7879499910697825,0.7691225143706618,0.750513501457242,0.732134110672309,0.713995448905372,0.6961084673051281,0.6784838601521032,0.6611319681026239,0.6440626869440762,0.627285382910517,0.6108088154972197,0.5946410685903174,0.5787894905843824,0.5632606440141047,0.5480602650652299,0.5331932331684163,0.5186635507146996,0.5044743327684393,0.4906278064948866,0.47712531987230794,0.4639673591177153,0.45115357413168566,0.43868281115915736,0.4265531517729111,0.4147619572145268,0.4033059170797187,0.3921811013038856,0.3813830143998172,0.3709066509118801,0.3607465510872227,0.35089685581916896,0.3413513599907128,0.3321035634334654,0.3231467188207683,0.31447387592519044,0.3060779217927102,0.29795161651210605,0.29008762438692115,0.28247854044501136,0.27511691234686747,0.26799525787042866,0.26110607826136334,0.25444186783492495,0.2479951203014054,0.24175833235732014,0.23572400513859454,0.2298846441686187,0.22423275845454319,0.21876085938595252,0.21346146007505878,0.2083270757455777,0.20335022572967412,0.19852343757109905,0.19383925365874316,0.18929024073041126,0.18486900249527663,0.18056819552474349,0.17638054846059753,0.17229888448720007,0.16831614691402053,0.1644254276177478,0.16061999800322488,0.15689334205936517,0.15323919101396571,0.1496515590299706,0.14612477933712206,0.1426535401575222,0.13923291976328397,0.13585841999690856,0.13252599759340605,0.12923209266409533,0.12597365373706013,0.12274815879612348,0.11955363181823708,0.11638865437665173,0.11325237195358179,0.11014449468777668,0.10706529236955378,0.10401558358566693,0.10099671900706468,0.0980105589029093,0.09505944505196269,0.09214616730615072,0.08927392514020129,0.08644628459279287,0.08366713106931693,0.08094061853232629,0.07827111565266755,0.07566314953136619,0.07312134763026094,0.07065037856670861,0.06825489243596763,0.06593946132351722,0.06370852065915208,0.06156631204631175,0.05951682817388634,0.057563760384478746,0.055710449434298474,0.053959839935255924,0.05231443892141015,0.050776278929789066,0.049346885930903084,0.04802725238764873,0.04681781566394323,0.045718441946170925,0.04472841578286693,0.04384643529107334,0.04307061302200276,0.04239848242463271,0.04182700979379521,0.04135261153960416,0.040971176568076875,0.040678093518408856,0.04046828256115135,0.040336231423417766,0.040276035272452444,0.040281440057541744,0.04034588888252589,0.04046257095713855,0.040624472655270714,0.040824430192114104,0.041055183420173294,0.04130943023644774,0.041579881089815654,0.04185931307896071,0.04214062313706788,0.042416879810179574,0.04268137315144708,0.0429276622736108,0.04314962012679873,0.04334147509804306,0.04349784906251854,0.043613791554290036,0.04368480976585176,0.04370689413063092,0.04367653929044473,0.043590760300090375],\"yaxis\":\"y\",\"type\":\"scatter\"},{\"legendgroup\":\"displot\",\"marker\":{\"color\":\"rgb(31, 119, 180)\",\"symbol\":\"line-ns-open\"},\"mode\":\"markers\",\"name\":\"displot\",\"showlegend\":false,\"x\":[30.7818,30.57228,30.691175,30.497935000000002,30.59343,30.607185,30.5818,30.609495,30.778285,30.75129,30.51874,30.704225,30.533845,30.723335,30.71547,30.717825,30.673505,30.5712,30.82616,30.52563,30.718715,30.71224,30.676855,30.816285,30.95306,30.825025,30.63254,30.627935,30.70767,30.72008,30.77065,30.70737,30.7849,30.63771,30.51852,30.76934,30.62888,30.601335,30.74109,30.73013,30.670195,30.647815,30.55739,30.68823,30.67328,30.637035,30.674525,30.776395,30.617855,30.636415,30.620635,30.55194,30.71833,30.65922,30.75461,30.64203,30.597225,30.70299,30.66913,30.735175,30.839025,30.641725,30.80692,30.577215,30.723595,30.752425,30.941915,30.620445,30.739355,30.63824,30.622325,30.843140000000002,30.56123,30.58711,30.63846,30.595365,30.7269,30.669375,30.75149,30.70839,30.663945000000002,30.724555,30.55389,30.688795,30.71741,30.60595,30.489175,30.78367,30.64076,30.57969,30.870635,30.70335,30.66038,30.44436,30.648545,30.57813,30.60502,30.56788,30.76127,30.565125,30.608275,30.67772,30.736485,30.67691,31.03914,30.507235,30.45684,30.557985,30.540195,30.767195,30.738905,30.81525,30.71275,30.62336,30.639055,30.744915,30.84178,30.546005,30.610025,30.61057,30.641615,30.62605,30.583,30.614675,30.84229,30.8993,30.752155,30.798535,30.68118,30.68426,30.66936,30.67691,30.809935,30.780075,30.675565,30.79094,30.629065,30.65393,30.72934,30.6972,30.7799,30.506905,30.60346,30.704335,30.76504,30.709905,30.587525,30.73991,30.55074,30.72696,30.6239,30.837215,30.525315,30.579975,30.647265,30.66663,30.814105,30.690665,30.52674,30.778035,30.580615,30.485565,30.49869,30.549885,30.54511,30.518465,30.765715,30.760035,30.60743,30.5403,30.73538,30.59915,30.904195,30.71332,30.623065,30.57367,30.717105,30.654535,30.750305,30.58793,30.616875,30.6614,30.67878,30.564535,30.68081,30.68927,30.552715,30.6017,30.60185,30.671015,30.66976,30.67233,30.692435,30.68062,30.484625,30.527665,30.553745,30.83736,30.584175,30.61789,30.891395,30.697825,30.75195,30.627685,30.60139,30.576605,30.708845,30.694985,30.782875,30.700305,30.82346,30.875775,30.78126,30.585755,30.73568,30.79253,30.57677,30.67962,30.56061,30.68011,30.64151,30.573235,30.72129,30.61825,30.59998,30.710295,30.594865,30.802505,30.72988,30.7117,30.80656,30.59975,30.744835,30.641905,30.44864,30.730235,30.70865,30.688795,30.543565,30.630665,30.645355,30.576435,30.797235,30.4829,30.56507,30.759595,30.72352,30.632365,30.66714,30.670135,30.74152,30.683685,30.64597,30.740385,30.57408,30.653515,30.687565,30.67493,30.703065,30.571895,30.639505,30.837545,30.750205,30.711295,30.59516,30.60087,30.704105,30.71465,30.67863,30.573285,30.564005,30.639745,30.678805,30.524735,30.726065,30.355745,30.623725,30.65943,30.851005,30.54701,30.45521,30.69488,30.615625,30.777665,30.705105,30.8581,30.62286,30.643015,30.63434,30.682105,30.798235,30.725935,30.68025,30.738515,30.560995,30.544705,30.808235,30.751425,30.741105,30.619555000000002],\"xaxis\":\"x\",\"y\":[\"displot\",\"displot\",\"displot\",\"displot\",\"displot\",\"displot\",\"displot\",\"displot\",\"displot\",\"displot\",\"displot\",\"displot\",\"displot\",\"displot\",\"displot\",\"displot\",\"displot\",\"displot\",\"displot\",\"displot\",\"displot\",\"displot\",\"displot\",\"displot\",\"displot\",\"displot\",\"displot\",\"displot\",\"displot\",\"displot\",\"displot\",\"displot\",\"displot\",\"displot\",\"displot\",\"displot\",\"displot\",\"displot\",\"displot\",\"displot\",\"displot\",\"displot\",\"displot\",\"displot\",\"displot\",\"displot\",\"displot\",\"displot\",\"displot\",\"displot\",\"displot\",\"displot\",\"displot\",\"displot\",\"displot\",\"displot\",\"displot\",\"displot\",\"displot\",\"displot\",\"displot\",\"displot\",\"displot\",\"displot\",\"displot\",\"displot\",\"displot\",\"displot\",\"displot\",\"displot\",\"displot\",\"displot\",\"displot\",\"displot\",\"displot\",\"displot\",\"displot\",\"displot\",\"displot\",\"displot\",\"displot\",\"displot\",\"displot\",\"displot\",\"displot\",\"displot\",\"displot\",\"displot\",\"displot\",\"displot\",\"displot\",\"displot\",\"displot\",\"displot\",\"displot\",\"displot\",\"displot\",\"displot\",\"displot\",\"displot\",\"displot\",\"displot\",\"displot\",\"displot\",\"displot\",\"displot\",\"displot\",\"displot\",\"displot\",\"displot\",\"displot\",\"displot\",\"displot\",\"displot\",\"displot\",\"displot\",\"displot\",\"displot\",\"displot\",\"displot\",\"displot\",\"displot\",\"displot\",\"displot\",\"displot\",\"displot\",\"displot\",\"displot\",\"displot\",\"displot\",\"displot\",\"displot\",\"displot\",\"displot\",\"displot\",\"displot\",\"displot\",\"displot\",\"displot\",\"displot\",\"displot\",\"displot\",\"displot\",\"displot\",\"displot\",\"displot\",\"displot\",\"displot\",\"displot\",\"displot\",\"displot\",\"displot\",\"displot\",\"displot\",\"displot\",\"displot\",\"displot\",\"displot\",\"displot\",\"displot\",\"displot\",\"displot\",\"displot\",\"displot\",\"displot\",\"displot\",\"displot\",\"displot\",\"displot\",\"displot\",\"displot\",\"displot\",\"displot\",\"displot\",\"displot\",\"displot\",\"displot\",\"displot\",\"displot\",\"displot\",\"displot\",\"displot\",\"displot\",\"displot\",\"displot\",\"displot\",\"displot\",\"displot\",\"displot\",\"displot\",\"displot\",\"displot\",\"displot\",\"displot\",\"displot\",\"displot\",\"displot\",\"displot\",\"displot\",\"displot\",\"displot\",\"displot\",\"displot\",\"displot\",\"displot\",\"displot\",\"displot\",\"displot\",\"displot\",\"displot\",\"displot\",\"displot\",\"displot\",\"displot\",\"displot\",\"displot\",\"displot\",\"displot\",\"displot\",\"displot\",\"displot\",\"displot\",\"displot\",\"displot\",\"displot\",\"displot\",\"displot\",\"displot\",\"displot\",\"displot\",\"displot\",\"displot\",\"displot\",\"displot\",\"displot\",\"displot\",\"displot\",\"displot\",\"displot\",\"displot\",\"displot\",\"displot\",\"displot\",\"displot\",\"displot\",\"displot\",\"displot\",\"displot\",\"displot\",\"displot\",\"displot\",\"displot\",\"displot\",\"displot\",\"displot\",\"displot\",\"displot\",\"displot\",\"displot\",\"displot\",\"displot\",\"displot\",\"displot\",\"displot\",\"displot\",\"displot\",\"displot\",\"displot\",\"displot\",\"displot\",\"displot\",\"displot\",\"displot\",\"displot\",\"displot\",\"displot\",\"displot\",\"displot\",\"displot\",\"displot\",\"displot\",\"displot\",\"displot\",\"displot\",\"displot\",\"displot\",\"displot\",\"displot\",\"displot\",\"displot\",\"displot\",\"displot\",\"displot\",\"displot\",\"displot\",\"displot\",\"displot\",\"displot\",\"displot\",\"displot\"],\"yaxis\":\"y2\",\"type\":\"scatter\"}],                        {\"barmode\":\"overlay\",\"hovermode\":\"closest\",\"legend\":{\"traceorder\":\"reversed\"},\"xaxis\":{\"anchor\":\"y2\",\"domain\":[0.0,1.0],\"zeroline\":false},\"yaxis\":{\"anchor\":\"free\",\"domain\":[0.35,1],\"position\":0.0},\"yaxis2\":{\"anchor\":\"x\",\"domain\":[0,0.25],\"dtick\":1,\"showticklabels\":false},\"template\":{\"data\":{\"histogram2dcontour\":[{\"type\":\"histogram2dcontour\",\"colorbar\":{\"outlinewidth\":0,\"ticks\":\"\"},\"colorscale\":[[0.0,\"#0d0887\"],[0.1111111111111111,\"#46039f\"],[0.2222222222222222,\"#7201a8\"],[0.3333333333333333,\"#9c179e\"],[0.4444444444444444,\"#bd3786\"],[0.5555555555555556,\"#d8576b\"],[0.6666666666666666,\"#ed7953\"],[0.7777777777777778,\"#fb9f3a\"],[0.8888888888888888,\"#fdca26\"],[1.0,\"#f0f921\"]]}],\"choropleth\":[{\"type\":\"choropleth\",\"colorbar\":{\"outlinewidth\":0,\"ticks\":\"\"}}],\"histogram2d\":[{\"type\":\"histogram2d\",\"colorbar\":{\"outlinewidth\":0,\"ticks\":\"\"},\"colorscale\":[[0.0,\"#0d0887\"],[0.1111111111111111,\"#46039f\"],[0.2222222222222222,\"#7201a8\"],[0.3333333333333333,\"#9c179e\"],[0.4444444444444444,\"#bd3786\"],[0.5555555555555556,\"#d8576b\"],[0.6666666666666666,\"#ed7953\"],[0.7777777777777778,\"#fb9f3a\"],[0.8888888888888888,\"#fdca26\"],[1.0,\"#f0f921\"]]}],\"heatmap\":[{\"type\":\"heatmap\",\"colorbar\":{\"outlinewidth\":0,\"ticks\":\"\"},\"colorscale\":[[0.0,\"#0d0887\"],[0.1111111111111111,\"#46039f\"],[0.2222222222222222,\"#7201a8\"],[0.3333333333333333,\"#9c179e\"],[0.4444444444444444,\"#bd3786\"],[0.5555555555555556,\"#d8576b\"],[0.6666666666666666,\"#ed7953\"],[0.7777777777777778,\"#fb9f3a\"],[0.8888888888888888,\"#fdca26\"],[1.0,\"#f0f921\"]]}],\"heatmapgl\":[{\"type\":\"heatmapgl\",\"colorbar\":{\"outlinewidth\":0,\"ticks\":\"\"},\"colorscale\":[[0.0,\"#0d0887\"],[0.1111111111111111,\"#46039f\"],[0.2222222222222222,\"#7201a8\"],[0.3333333333333333,\"#9c179e\"],[0.4444444444444444,\"#bd3786\"],[0.5555555555555556,\"#d8576b\"],[0.6666666666666666,\"#ed7953\"],[0.7777777777777778,\"#fb9f3a\"],[0.8888888888888888,\"#fdca26\"],[1.0,\"#f0f921\"]]}],\"contourcarpet\":[{\"type\":\"contourcarpet\",\"colorbar\":{\"outlinewidth\":0,\"ticks\":\"\"}}],\"contour\":[{\"type\":\"contour\",\"colorbar\":{\"outlinewidth\":0,\"ticks\":\"\"},\"colorscale\":[[0.0,\"#0d0887\"],[0.1111111111111111,\"#46039f\"],[0.2222222222222222,\"#7201a8\"],[0.3333333333333333,\"#9c179e\"],[0.4444444444444444,\"#bd3786\"],[0.5555555555555556,\"#d8576b\"],[0.6666666666666666,\"#ed7953\"],[0.7777777777777778,\"#fb9f3a\"],[0.8888888888888888,\"#fdca26\"],[1.0,\"#f0f921\"]]}],\"surface\":[{\"type\":\"surface\",\"colorbar\":{\"outlinewidth\":0,\"ticks\":\"\"},\"colorscale\":[[0.0,\"#0d0887\"],[0.1111111111111111,\"#46039f\"],[0.2222222222222222,\"#7201a8\"],[0.3333333333333333,\"#9c179e\"],[0.4444444444444444,\"#bd3786\"],[0.5555555555555556,\"#d8576b\"],[0.6666666666666666,\"#ed7953\"],[0.7777777777777778,\"#fb9f3a\"],[0.8888888888888888,\"#fdca26\"],[1.0,\"#f0f921\"]]}],\"mesh3d\":[{\"type\":\"mesh3d\",\"colorbar\":{\"outlinewidth\":0,\"ticks\":\"\"}}],\"scatter\":[{\"fillpattern\":{\"fillmode\":\"overlay\",\"size\":10,\"solidity\":0.2},\"type\":\"scatter\"}],\"parcoords\":[{\"type\":\"parcoords\",\"line\":{\"colorbar\":{\"outlinewidth\":0,\"ticks\":\"\"}}}],\"scatterpolargl\":[{\"type\":\"scatterpolargl\",\"marker\":{\"colorbar\":{\"outlinewidth\":0,\"ticks\":\"\"}}}],\"bar\":[{\"error_x\":{\"color\":\"#2a3f5f\"},\"error_y\":{\"color\":\"#2a3f5f\"},\"marker\":{\"line\":{\"color\":\"#E5ECF6\",\"width\":0.5},\"pattern\":{\"fillmode\":\"overlay\",\"size\":10,\"solidity\":0.2}},\"type\":\"bar\"}],\"scattergeo\":[{\"type\":\"scattergeo\",\"marker\":{\"colorbar\":{\"outlinewidth\":0,\"ticks\":\"\"}}}],\"scatterpolar\":[{\"type\":\"scatterpolar\",\"marker\":{\"colorbar\":{\"outlinewidth\":0,\"ticks\":\"\"}}}],\"histogram\":[{\"marker\":{\"pattern\":{\"fillmode\":\"overlay\",\"size\":10,\"solidity\":0.2}},\"type\":\"histogram\"}],\"scattergl\":[{\"type\":\"scattergl\",\"marker\":{\"colorbar\":{\"outlinewidth\":0,\"ticks\":\"\"}}}],\"scatter3d\":[{\"type\":\"scatter3d\",\"line\":{\"colorbar\":{\"outlinewidth\":0,\"ticks\":\"\"}},\"marker\":{\"colorbar\":{\"outlinewidth\":0,\"ticks\":\"\"}}}],\"scattermapbox\":[{\"type\":\"scattermapbox\",\"marker\":{\"colorbar\":{\"outlinewidth\":0,\"ticks\":\"\"}}}],\"scatterternary\":[{\"type\":\"scatterternary\",\"marker\":{\"colorbar\":{\"outlinewidth\":0,\"ticks\":\"\"}}}],\"scattercarpet\":[{\"type\":\"scattercarpet\",\"marker\":{\"colorbar\":{\"outlinewidth\":0,\"ticks\":\"\"}}}],\"carpet\":[{\"aaxis\":{\"endlinecolor\":\"#2a3f5f\",\"gridcolor\":\"white\",\"linecolor\":\"white\",\"minorgridcolor\":\"white\",\"startlinecolor\":\"#2a3f5f\"},\"baxis\":{\"endlinecolor\":\"#2a3f5f\",\"gridcolor\":\"white\",\"linecolor\":\"white\",\"minorgridcolor\":\"white\",\"startlinecolor\":\"#2a3f5f\"},\"type\":\"carpet\"}],\"table\":[{\"cells\":{\"fill\":{\"color\":\"#EBF0F8\"},\"line\":{\"color\":\"white\"}},\"header\":{\"fill\":{\"color\":\"#C8D4E3\"},\"line\":{\"color\":\"white\"}},\"type\":\"table\"}],\"barpolar\":[{\"marker\":{\"line\":{\"color\":\"#E5ECF6\",\"width\":0.5},\"pattern\":{\"fillmode\":\"overlay\",\"size\":10,\"solidity\":0.2}},\"type\":\"barpolar\"}],\"pie\":[{\"automargin\":true,\"type\":\"pie\"}]},\"layout\":{\"autotypenumbers\":\"strict\",\"colorway\":[\"#636efa\",\"#EF553B\",\"#00cc96\",\"#ab63fa\",\"#FFA15A\",\"#19d3f3\",\"#FF6692\",\"#B6E880\",\"#FF97FF\",\"#FECB52\"],\"font\":{\"color\":\"#2a3f5f\"},\"hovermode\":\"closest\",\"hoverlabel\":{\"align\":\"left\"},\"paper_bgcolor\":\"white\",\"plot_bgcolor\":\"#E5ECF6\",\"polar\":{\"bgcolor\":\"#E5ECF6\",\"angularaxis\":{\"gridcolor\":\"white\",\"linecolor\":\"white\",\"ticks\":\"\"},\"radialaxis\":{\"gridcolor\":\"white\",\"linecolor\":\"white\",\"ticks\":\"\"}},\"ternary\":{\"bgcolor\":\"#E5ECF6\",\"aaxis\":{\"gridcolor\":\"white\",\"linecolor\":\"white\",\"ticks\":\"\"},\"baxis\":{\"gridcolor\":\"white\",\"linecolor\":\"white\",\"ticks\":\"\"},\"caxis\":{\"gridcolor\":\"white\",\"linecolor\":\"white\",\"ticks\":\"\"}},\"coloraxis\":{\"colorbar\":{\"outlinewidth\":0,\"ticks\":\"\"}},\"colorscale\":{\"sequential\":[[0.0,\"#0d0887\"],[0.1111111111111111,\"#46039f\"],[0.2222222222222222,\"#7201a8\"],[0.3333333333333333,\"#9c179e\"],[0.4444444444444444,\"#bd3786\"],[0.5555555555555556,\"#d8576b\"],[0.6666666666666666,\"#ed7953\"],[0.7777777777777778,\"#fb9f3a\"],[0.8888888888888888,\"#fdca26\"],[1.0,\"#f0f921\"]],\"sequentialminus\":[[0.0,\"#0d0887\"],[0.1111111111111111,\"#46039f\"],[0.2222222222222222,\"#7201a8\"],[0.3333333333333333,\"#9c179e\"],[0.4444444444444444,\"#bd3786\"],[0.5555555555555556,\"#d8576b\"],[0.6666666666666666,\"#ed7953\"],[0.7777777777777778,\"#fb9f3a\"],[0.8888888888888888,\"#fdca26\"],[1.0,\"#f0f921\"]],\"diverging\":[[0,\"#8e0152\"],[0.1,\"#c51b7d\"],[0.2,\"#de77ae\"],[0.3,\"#f1b6da\"],[0.4,\"#fde0ef\"],[0.5,\"#f7f7f7\"],[0.6,\"#e6f5d0\"],[0.7,\"#b8e186\"],[0.8,\"#7fbc41\"],[0.9,\"#4d9221\"],[1,\"#276419\"]]},\"xaxis\":{\"gridcolor\":\"white\",\"linecolor\":\"white\",\"ticks\":\"\",\"title\":{\"standoff\":15},\"zerolinecolor\":\"white\",\"automargin\":true,\"zerolinewidth\":2},\"yaxis\":{\"gridcolor\":\"white\",\"linecolor\":\"white\",\"ticks\":\"\",\"title\":{\"standoff\":15},\"zerolinecolor\":\"white\",\"automargin\":true,\"zerolinewidth\":2},\"scene\":{\"xaxis\":{\"backgroundcolor\":\"#E5ECF6\",\"gridcolor\":\"white\",\"linecolor\":\"white\",\"showbackground\":true,\"ticks\":\"\",\"zerolinecolor\":\"white\",\"gridwidth\":2},\"yaxis\":{\"backgroundcolor\":\"#E5ECF6\",\"gridcolor\":\"white\",\"linecolor\":\"white\",\"showbackground\":true,\"ticks\":\"\",\"zerolinecolor\":\"white\",\"gridwidth\":2},\"zaxis\":{\"backgroundcolor\":\"#E5ECF6\",\"gridcolor\":\"white\",\"linecolor\":\"white\",\"showbackground\":true,\"ticks\":\"\",\"zerolinecolor\":\"white\",\"gridwidth\":2}},\"shapedefaults\":{\"line\":{\"color\":\"#2a3f5f\"}},\"annotationdefaults\":{\"arrowcolor\":\"#2a3f5f\",\"arrowhead\":0,\"arrowwidth\":1},\"geo\":{\"bgcolor\":\"white\",\"landcolor\":\"#E5ECF6\",\"subunitcolor\":\"white\",\"showland\":true,\"showlakes\":true,\"lakecolor\":\"white\"},\"title\":{\"x\":0.05},\"mapbox\":{\"style\":\"light\"}}}},                        {\"responsive\": true}                    ).then(function(){\n                            \nvar gd = document.getElementById('9ec0831b-1266-405f-909a-9f9ae229ffd8');\nvar x = new MutationObserver(function (mutations, observer) {{\n        var display = window.getComputedStyle(gd).display;\n        if (!display || display === 'none') {{\n            console.log([gd, 'removed!']);\n            Plotly.purge(gd);\n            observer.disconnect();\n        }}\n}});\n\n// Listen for the removal of the full notebook cells\nvar notebookContainer = gd.closest('#notebook-container');\nif (notebookContainer) {{\n    x.observe(notebookContainer, {childList: true});\n}}\n\n// Listen for the clearing of the current output cell\nvar outputEl = gd.closest('.output');\nif (outputEl) {{\n    x.observe(outputEl, {childList: true});\n}}\n\n                        })                };                });            </script>        </div>"
     },
     "metadata": {},
     "output_type": "display_data"
    }
   ],
   "source": [
    "fig = ff.create_distplot([bmi_averages], ['displot'], bin_size=1/20)\n",
    "fig.show()"
   ],
   "metadata": {
    "collapsed": false,
    "pycharm": {
     "name": "#%%\n"
    }
   }
  },
  {
   "cell_type": "code",
   "execution_count": 309,
   "outputs": [
    {
     "data": {
      "application/vnd.plotly.v1+json": {
       "data": [
        {
         "alignmentgroup": "True",
         "bingroup": "x",
         "hovertemplate": "variable=0<br>value=%{x}<br>count=%{y}<extra></extra>",
         "legendgroup": "0",
         "marker": {
          "color": "#636efa",
          "pattern": {
           "shape": ""
          },
          "line": {
           "color": "grey",
           "width": 2
          },
          "coloraxis": "coloraxis"
         },
         "name": "0",
         "nbinsx": 20,
         "offsetgroup": "0",
         "orientation": "v",
         "showlegend": true,
         "x": [
          13348.63306283,
          12969.766890139,
          13803.553094219,
          13203.036872789,
          13403.677140709,
          13186.676998929,
          13606.87520958,
          13197.705082239,
          13598.885514839,
          13341.707644279,
          13047.972236679,
          13225.03525363,
          13098.380008809,
          13334.793419109,
          13368.737402739,
          13092.11821229,
          12879.672776139,
          13285.841424979,
          13161.857673579,
          13365.99473936,
          13343.30593638,
          13096.01320635,
          13346.496689549,
          13556.748025709,
          13675.095635789,
          13313.29048612,
          13207.538859469,
          13080.843771049,
          13203.574552899,
          13626.966320079,
          13240.070795049,
          13747.358444039,
          13362.742383109,
          13460.99899419,
          13571.01262306,
          13036.951901169,
          13465.982709499,
          13333.03482003,
          13103.41357719,
          13130.934345789,
          13380.17339802,
          13417.890311329,
          12892.72383267,
          13212.530091909,
          12975.496218489,
          13489.995442179,
          13184.575277479,
          13202.952316939,
          13331.58560582,
          13350.691776179,
          12920.067699769,
          13500.845336009,
          13184.334659819,
          13236.14893004,
          13364.718110959,
          13171.666422559,
          13128.081761099,
          13278.713534719,
          13428.139211359,
          13129.52791091,
          13308.580615429,
          13420.023724679,
          13535.66284234,
          13179.37532496,
          13226.716707989,
          13606.287697409,
          13656.071477689,
          13351.108622539,
          13346.633203959,
          12883.75311905,
          13224.161731619,
          13458.355193589001,
          13281.331192839,
          12824.92569393,
          13354.021142189,
          13085.05151304,
          13508.541731459,
          13197.685304299,
          13179.775796479,
          13205.686844049,
          13138.011962509,
          13197.178574589,
          13063.3410852,
          13234.08374715,
          13463.079869129,
          13413.82351754,
          13149.926164219,
          13310.045832519,
          13073.865059749,
          13503.455078769,
          13431.348120829,
          13156.132886649,
          13063.668521689,
          13131.313796699,
          12974.873116839,
          13279.341335639,
          12951.217147989,
          13017.330764539,
          13487.663054629,
          13163.663285119,
          13368.00392238,
          12914.73798247,
          13226.73744434,
          13419.377469299,
          13174.817938239,
          13236.953877829,
          13475.442769209,
          13371.729812029,
          13260.581889529,
          13323.329718589,
          13225.62068649,
          13431.296779189,
          13074.737703209,
          12974.585128429,
          13178.855718149,
          13010.28062969,
          13560.658724299,
          13094.940145669,
          13173.903855459,
          13243.560841949,
          13453.705995189,
          13236.203054279,
          13557.121519909,
          13102.475084969,
          13418.91061089,
          13484.84672884,
          13555.838608359,
          13140.63339974,
          13070.77902406,
          12982.821949999,
          13082.71184389,
          13316.13133503,
          12858.704966139,
          13020.670130519,
          13366.879631519,
          13095.940136009,
          12808.03626848,
          13356.827466379,
          13105.126652099,
          12988.599070589,
          13286.84875118,
          13218.301918149,
          13180.155937839,
          12983.996730699,
          13042.972203029,
          13193.029790049,
          13220.8497542,
          13574.822713759,
          13304.371518589,
          13103.407648569,
          13293.331699059,
          13010.90838297,
          13082.34234864,
          13379.681534829,
          13220.352064629,
          13154.579760349,
          13378.078548989,
          13220.820308449,
          13187.531121959,
          13163.66598797,
          13228.946719699,
          13022.09508242,
          13334.433614179,
          12845.5999119,
          13006.48024377,
          12921.306337169,
          13241.859306049,
          13259.328345409,
          13537.276005539,
          13455.44728849,
          13250.503462649,
          13309.362302189,
          13523.12077458,
          13230.894417749,
          13244.48943161,
          13104.727052179,
          13521.104602619,
          13532.779575099,
          13272.680386979,
          13454.285603089,
          13191.601305089,
          13054.825107099,
          13464.993338469,
          13771.087127239,
          13133.61053631,
          13069.801445859,
          13291.953683409,
          13337.331077179,
          13314.912472409,
          13028.60158292,
          13252.947443129,
          13389.780993309,
          13226.79323289,
          13320.338562429,
          13443.794476139,
          13423.916698199,
          13278.38377022,
          13276.891326149,
          13085.743057869,
          13324.1896906,
          13351.78107314,
          13255.80543682,
          13470.255473909,
          13386.066192259,
          13120.218096059,
          13410.583549239,
          13092.054763159,
          13172.75397597,
          13268.245639119,
          13261.988922549,
          13378.95807266,
          13704.714575959,
          13651.885908509,
          13175.70120832,
          13275.453265609,
          13085.400316869,
          13262.116647059,
          12835.538445199,
          13171.570381709,
          13321.979454699,
          13370.172028409,
          13406.076777539,
          13661.72637944,
          13084.83918809,
          13344.915438389,
          13574.350900439,
          13182.086970079,
          13541.417531989,
          13720.025964239,
          13353.454780669,
          13287.20836135,
          13050.51826563,
          13397.895125979,
          13095.525898619,
          13121.955951689,
          13239.242914699,
          13598.214938469,
          13379.795463609,
          13144.587581369,
          13496.86768017,
          13195.663189379,
          13275.20360317,
          13070.501735649,
          13057.138953999,
          13046.215148029,
          13529.431270429,
          13488.64667503,
          13317.716167509,
          13443.287751099,
          13445.102295859,
          13536.536542529,
          13424.83298557,
          12838.767833419,
          13597.917725949,
          13073.267983,
          13290.259832149,
          13363.495578239,
          13370.255528569,
          13207.353007119,
          13115.894358189,
          13103.1788398,
          13364.3868773,
          13507.868418329,
          13429.09052068,
          13204.266055399,
          13129.56090363,
          13366.53961193,
          13375.104872349,
          13264.991551239,
          12799.863273789,
          13203.576540469,
          13591.608504499,
          13336.898231329,
          13286.042736729,
          13076.000611109,
          13280.817180659,
          13107.44587809,
          13163.031433909,
          13419.17653679,
          13330.29572985,
          13234.178566959,
          13381.98261832,
          13355.483037879,
          13370.435093909,
          13366.788477509,
          13572.925459959,
          13241.772578059,
          12998.267665229,
          13133.442800589,
          13241.367034359,
          13397.560650469,
          13566.96479393,
          13188.407231919,
          13246.124416059,
          13136.431548219,
          13007.65353605,
          13136.861866489,
          13356.357839939,
          13052.110726109,
          13087.871792949
         ],
         "xaxis": "x",
         "yaxis": "y",
         "type": "histogram",
         "textfont": {
          "size": 14
         },
         "textangle": 0,
         "textposition": "outside"
        }
       ],
       "layout": {
        "template": {
         "data": {
          "histogram2dcontour": [
           {
            "type": "histogram2dcontour",
            "colorbar": {
             "outlinewidth": 0,
             "ticks": ""
            },
            "colorscale": [
             [
              0.0,
              "#0d0887"
             ],
             [
              0.1111111111111111,
              "#46039f"
             ],
             [
              0.2222222222222222,
              "#7201a8"
             ],
             [
              0.3333333333333333,
              "#9c179e"
             ],
             [
              0.4444444444444444,
              "#bd3786"
             ],
             [
              0.5555555555555556,
              "#d8576b"
             ],
             [
              0.6666666666666666,
              "#ed7953"
             ],
             [
              0.7777777777777778,
              "#fb9f3a"
             ],
             [
              0.8888888888888888,
              "#fdca26"
             ],
             [
              1.0,
              "#f0f921"
             ]
            ]
           }
          ],
          "choropleth": [
           {
            "type": "choropleth",
            "colorbar": {
             "outlinewidth": 0,
             "ticks": ""
            }
           }
          ],
          "histogram2d": [
           {
            "type": "histogram2d",
            "colorbar": {
             "outlinewidth": 0,
             "ticks": ""
            },
            "colorscale": [
             [
              0.0,
              "#0d0887"
             ],
             [
              0.1111111111111111,
              "#46039f"
             ],
             [
              0.2222222222222222,
              "#7201a8"
             ],
             [
              0.3333333333333333,
              "#9c179e"
             ],
             [
              0.4444444444444444,
              "#bd3786"
             ],
             [
              0.5555555555555556,
              "#d8576b"
             ],
             [
              0.6666666666666666,
              "#ed7953"
             ],
             [
              0.7777777777777778,
              "#fb9f3a"
             ],
             [
              0.8888888888888888,
              "#fdca26"
             ],
             [
              1.0,
              "#f0f921"
             ]
            ]
           }
          ],
          "heatmap": [
           {
            "type": "heatmap",
            "colorbar": {
             "outlinewidth": 0,
             "ticks": ""
            },
            "colorscale": [
             [
              0.0,
              "#0d0887"
             ],
             [
              0.1111111111111111,
              "#46039f"
             ],
             [
              0.2222222222222222,
              "#7201a8"
             ],
             [
              0.3333333333333333,
              "#9c179e"
             ],
             [
              0.4444444444444444,
              "#bd3786"
             ],
             [
              0.5555555555555556,
              "#d8576b"
             ],
             [
              0.6666666666666666,
              "#ed7953"
             ],
             [
              0.7777777777777778,
              "#fb9f3a"
             ],
             [
              0.8888888888888888,
              "#fdca26"
             ],
             [
              1.0,
              "#f0f921"
             ]
            ]
           }
          ],
          "heatmapgl": [
           {
            "type": "heatmapgl",
            "colorbar": {
             "outlinewidth": 0,
             "ticks": ""
            },
            "colorscale": [
             [
              0.0,
              "#0d0887"
             ],
             [
              0.1111111111111111,
              "#46039f"
             ],
             [
              0.2222222222222222,
              "#7201a8"
             ],
             [
              0.3333333333333333,
              "#9c179e"
             ],
             [
              0.4444444444444444,
              "#bd3786"
             ],
             [
              0.5555555555555556,
              "#d8576b"
             ],
             [
              0.6666666666666666,
              "#ed7953"
             ],
             [
              0.7777777777777778,
              "#fb9f3a"
             ],
             [
              0.8888888888888888,
              "#fdca26"
             ],
             [
              1.0,
              "#f0f921"
             ]
            ]
           }
          ],
          "contourcarpet": [
           {
            "type": "contourcarpet",
            "colorbar": {
             "outlinewidth": 0,
             "ticks": ""
            }
           }
          ],
          "contour": [
           {
            "type": "contour",
            "colorbar": {
             "outlinewidth": 0,
             "ticks": ""
            },
            "colorscale": [
             [
              0.0,
              "#0d0887"
             ],
             [
              0.1111111111111111,
              "#46039f"
             ],
             [
              0.2222222222222222,
              "#7201a8"
             ],
             [
              0.3333333333333333,
              "#9c179e"
             ],
             [
              0.4444444444444444,
              "#bd3786"
             ],
             [
              0.5555555555555556,
              "#d8576b"
             ],
             [
              0.6666666666666666,
              "#ed7953"
             ],
             [
              0.7777777777777778,
              "#fb9f3a"
             ],
             [
              0.8888888888888888,
              "#fdca26"
             ],
             [
              1.0,
              "#f0f921"
             ]
            ]
           }
          ],
          "surface": [
           {
            "type": "surface",
            "colorbar": {
             "outlinewidth": 0,
             "ticks": ""
            },
            "colorscale": [
             [
              0.0,
              "#0d0887"
             ],
             [
              0.1111111111111111,
              "#46039f"
             ],
             [
              0.2222222222222222,
              "#7201a8"
             ],
             [
              0.3333333333333333,
              "#9c179e"
             ],
             [
              0.4444444444444444,
              "#bd3786"
             ],
             [
              0.5555555555555556,
              "#d8576b"
             ],
             [
              0.6666666666666666,
              "#ed7953"
             ],
             [
              0.7777777777777778,
              "#fb9f3a"
             ],
             [
              0.8888888888888888,
              "#fdca26"
             ],
             [
              1.0,
              "#f0f921"
             ]
            ]
           }
          ],
          "mesh3d": [
           {
            "type": "mesh3d",
            "colorbar": {
             "outlinewidth": 0,
             "ticks": ""
            }
           }
          ],
          "scatter": [
           {
            "fillpattern": {
             "fillmode": "overlay",
             "size": 10,
             "solidity": 0.2
            },
            "type": "scatter"
           }
          ],
          "parcoords": [
           {
            "type": "parcoords",
            "line": {
             "colorbar": {
              "outlinewidth": 0,
              "ticks": ""
             }
            }
           }
          ],
          "scatterpolargl": [
           {
            "type": "scatterpolargl",
            "marker": {
             "colorbar": {
              "outlinewidth": 0,
              "ticks": ""
             }
            }
           }
          ],
          "bar": [
           {
            "error_x": {
             "color": "#2a3f5f"
            },
            "error_y": {
             "color": "#2a3f5f"
            },
            "marker": {
             "line": {
              "color": "#E5ECF6",
              "width": 0.5
             },
             "pattern": {
              "fillmode": "overlay",
              "size": 10,
              "solidity": 0.2
             }
            },
            "type": "bar"
           }
          ],
          "scattergeo": [
           {
            "type": "scattergeo",
            "marker": {
             "colorbar": {
              "outlinewidth": 0,
              "ticks": ""
             }
            }
           }
          ],
          "scatterpolar": [
           {
            "type": "scatterpolar",
            "marker": {
             "colorbar": {
              "outlinewidth": 0,
              "ticks": ""
             }
            }
           }
          ],
          "histogram": [
           {
            "marker": {
             "pattern": {
              "fillmode": "overlay",
              "size": 10,
              "solidity": 0.2
             }
            },
            "type": "histogram"
           }
          ],
          "scattergl": [
           {
            "type": "scattergl",
            "marker": {
             "colorbar": {
              "outlinewidth": 0,
              "ticks": ""
             }
            }
           }
          ],
          "scatter3d": [
           {
            "type": "scatter3d",
            "line": {
             "colorbar": {
              "outlinewidth": 0,
              "ticks": ""
             }
            },
            "marker": {
             "colorbar": {
              "outlinewidth": 0,
              "ticks": ""
             }
            }
           }
          ],
          "scattermapbox": [
           {
            "type": "scattermapbox",
            "marker": {
             "colorbar": {
              "outlinewidth": 0,
              "ticks": ""
             }
            }
           }
          ],
          "scatterternary": [
           {
            "type": "scatterternary",
            "marker": {
             "colorbar": {
              "outlinewidth": 0,
              "ticks": ""
             }
            }
           }
          ],
          "scattercarpet": [
           {
            "type": "scattercarpet",
            "marker": {
             "colorbar": {
              "outlinewidth": 0,
              "ticks": ""
             }
            }
           }
          ],
          "carpet": [
           {
            "aaxis": {
             "endlinecolor": "#2a3f5f",
             "gridcolor": "white",
             "linecolor": "white",
             "minorgridcolor": "white",
             "startlinecolor": "#2a3f5f"
            },
            "baxis": {
             "endlinecolor": "#2a3f5f",
             "gridcolor": "white",
             "linecolor": "white",
             "minorgridcolor": "white",
             "startlinecolor": "#2a3f5f"
            },
            "type": "carpet"
           }
          ],
          "table": [
           {
            "cells": {
             "fill": {
              "color": "#EBF0F8"
             },
             "line": {
              "color": "white"
             }
            },
            "header": {
             "fill": {
              "color": "#C8D4E3"
             },
             "line": {
              "color": "white"
             }
            },
            "type": "table"
           }
          ],
          "barpolar": [
           {
            "marker": {
             "line": {
              "color": "#E5ECF6",
              "width": 0.5
             },
             "pattern": {
              "fillmode": "overlay",
              "size": 10,
              "solidity": 0.2
             }
            },
            "type": "barpolar"
           }
          ],
          "pie": [
           {
            "automargin": true,
            "type": "pie"
           }
          ]
         },
         "layout": {
          "autotypenumbers": "strict",
          "colorway": [
           "#636efa",
           "#EF553B",
           "#00cc96",
           "#ab63fa",
           "#FFA15A",
           "#19d3f3",
           "#FF6692",
           "#B6E880",
           "#FF97FF",
           "#FECB52"
          ],
          "font": {
           "color": "#2a3f5f"
          },
          "hovermode": "closest",
          "hoverlabel": {
           "align": "left"
          },
          "paper_bgcolor": "white",
          "plot_bgcolor": "#E5ECF6",
          "polar": {
           "bgcolor": "#E5ECF6",
           "angularaxis": {
            "gridcolor": "white",
            "linecolor": "white",
            "ticks": ""
           },
           "radialaxis": {
            "gridcolor": "white",
            "linecolor": "white",
            "ticks": ""
           }
          },
          "ternary": {
           "bgcolor": "#E5ECF6",
           "aaxis": {
            "gridcolor": "white",
            "linecolor": "white",
            "ticks": ""
           },
           "baxis": {
            "gridcolor": "white",
            "linecolor": "white",
            "ticks": ""
           },
           "caxis": {
            "gridcolor": "white",
            "linecolor": "white",
            "ticks": ""
           }
          },
          "coloraxis": {
           "colorbar": {
            "outlinewidth": 0,
            "ticks": ""
           }
          },
          "colorscale": {
           "sequential": [
            [
             0.0,
             "#0d0887"
            ],
            [
             0.1111111111111111,
             "#46039f"
            ],
            [
             0.2222222222222222,
             "#7201a8"
            ],
            [
             0.3333333333333333,
             "#9c179e"
            ],
            [
             0.4444444444444444,
             "#bd3786"
            ],
            [
             0.5555555555555556,
             "#d8576b"
            ],
            [
             0.6666666666666666,
             "#ed7953"
            ],
            [
             0.7777777777777778,
             "#fb9f3a"
            ],
            [
             0.8888888888888888,
             "#fdca26"
            ],
            [
             1.0,
             "#f0f921"
            ]
           ],
           "sequentialminus": [
            [
             0.0,
             "#0d0887"
            ],
            [
             0.1111111111111111,
             "#46039f"
            ],
            [
             0.2222222222222222,
             "#7201a8"
            ],
            [
             0.3333333333333333,
             "#9c179e"
            ],
            [
             0.4444444444444444,
             "#bd3786"
            ],
            [
             0.5555555555555556,
             "#d8576b"
            ],
            [
             0.6666666666666666,
             "#ed7953"
            ],
            [
             0.7777777777777778,
             "#fb9f3a"
            ],
            [
             0.8888888888888888,
             "#fdca26"
            ],
            [
             1.0,
             "#f0f921"
            ]
           ],
           "diverging": [
            [
             0,
             "#8e0152"
            ],
            [
             0.1,
             "#c51b7d"
            ],
            [
             0.2,
             "#de77ae"
            ],
            [
             0.3,
             "#f1b6da"
            ],
            [
             0.4,
             "#fde0ef"
            ],
            [
             0.5,
             "#f7f7f7"
            ],
            [
             0.6,
             "#e6f5d0"
            ],
            [
             0.7,
             "#b8e186"
            ],
            [
             0.8,
             "#7fbc41"
            ],
            [
             0.9,
             "#4d9221"
            ],
            [
             1,
             "#276419"
            ]
           ]
          },
          "xaxis": {
           "gridcolor": "white",
           "linecolor": "white",
           "ticks": "",
           "title": {
            "standoff": 15
           },
           "zerolinecolor": "white",
           "automargin": true,
           "zerolinewidth": 2
          },
          "yaxis": {
           "gridcolor": "white",
           "linecolor": "white",
           "ticks": "",
           "title": {
            "standoff": 15
           },
           "zerolinecolor": "white",
           "automargin": true,
           "zerolinewidth": 2
          },
          "scene": {
           "xaxis": {
            "backgroundcolor": "#E5ECF6",
            "gridcolor": "white",
            "linecolor": "white",
            "showbackground": true,
            "ticks": "",
            "zerolinecolor": "white",
            "gridwidth": 2
           },
           "yaxis": {
            "backgroundcolor": "#E5ECF6",
            "gridcolor": "white",
            "linecolor": "white",
            "showbackground": true,
            "ticks": "",
            "zerolinecolor": "white",
            "gridwidth": 2
           },
           "zaxis": {
            "backgroundcolor": "#E5ECF6",
            "gridcolor": "white",
            "linecolor": "white",
            "showbackground": true,
            "ticks": "",
            "zerolinecolor": "white",
            "gridwidth": 2
           }
          },
          "shapedefaults": {
           "line": {
            "color": "#2a3f5f"
           }
          },
          "annotationdefaults": {
           "arrowcolor": "#2a3f5f",
           "arrowhead": 0,
           "arrowwidth": 1
          },
          "geo": {
           "bgcolor": "white",
           "landcolor": "#E5ECF6",
           "subunitcolor": "white",
           "showland": true,
           "showlakes": true,
           "lakecolor": "white"
          },
          "title": {
           "x": 0.05
          },
          "mapbox": {
           "style": "light"
          }
         }
        },
        "xaxis": {
         "anchor": "y",
         "domain": [
          0.0,
          1.0
         ],
         "title": {
          "text": "value"
         }
        },
        "yaxis": {
         "anchor": "x",
         "domain": [
          0.0,
          1.0
         ],
         "title": {
          "text": "count"
         }
        },
        "legend": {
         "title": {
          "text": "variable"
         },
         "tracegroupgap": 0
        },
        "margin": {
         "t": 60
        },
        "barmode": "relative",
        "title": {
         "text": "Charges histogram",
         "font": {
          "size": 20
         }
        }
       },
       "config": {
        "plotlyServerURL": "https://plot.ly"
       }
      },
      "text/html": "<div>                            <div id=\"4c292524-14ef-466a-a17e-533117301b19\" class=\"plotly-graph-div\" style=\"height:525px; width:100%;\"></div>            <script type=\"text/javascript\">                require([\"plotly\"], function(Plotly) {                    window.PLOTLYENV=window.PLOTLYENV || {};                                    if (document.getElementById(\"4c292524-14ef-466a-a17e-533117301b19\")) {                    Plotly.newPlot(                        \"4c292524-14ef-466a-a17e-533117301b19\",                        [{\"alignmentgroup\":\"True\",\"bingroup\":\"x\",\"hovertemplate\":\"variable=0<br>value=%{x}<br>count=%{y}<extra></extra>\",\"legendgroup\":\"0\",\"marker\":{\"color\":\"#636efa\",\"pattern\":{\"shape\":\"\"},\"line\":{\"color\":\"grey\",\"width\":2},\"coloraxis\":\"coloraxis\"},\"name\":\"0\",\"nbinsx\":20,\"offsetgroup\":\"0\",\"orientation\":\"v\",\"showlegend\":true,\"x\":[13348.63306283,12969.766890139,13803.553094219,13203.036872789,13403.677140709,13186.676998929,13606.87520958,13197.705082239,13598.885514839,13341.707644279,13047.972236679,13225.03525363,13098.380008809,13334.793419109,13368.737402739,13092.11821229,12879.672776139,13285.841424979,13161.857673579,13365.99473936,13343.30593638,13096.01320635,13346.496689549,13556.748025709,13675.095635789,13313.29048612,13207.538859469,13080.843771049,13203.574552899,13626.966320079,13240.070795049,13747.358444039,13362.742383109,13460.99899419,13571.01262306,13036.951901169,13465.982709499,13333.03482003,13103.41357719,13130.934345789,13380.17339802,13417.890311329,12892.72383267,13212.530091909,12975.496218489,13489.995442179,13184.575277479,13202.952316939,13331.58560582,13350.691776179,12920.067699769,13500.845336009,13184.334659819,13236.14893004,13364.718110959,13171.666422559,13128.081761099,13278.713534719,13428.139211359,13129.52791091,13308.580615429,13420.023724679,13535.66284234,13179.37532496,13226.716707989,13606.287697409,13656.071477689,13351.108622539,13346.633203959,12883.75311905,13224.161731619,13458.355193589001,13281.331192839,12824.92569393,13354.021142189,13085.05151304,13508.541731459,13197.685304299,13179.775796479,13205.686844049,13138.011962509,13197.178574589,13063.3410852,13234.08374715,13463.079869129,13413.82351754,13149.926164219,13310.045832519,13073.865059749,13503.455078769,13431.348120829,13156.132886649,13063.668521689,13131.313796699,12974.873116839,13279.341335639,12951.217147989,13017.330764539,13487.663054629,13163.663285119,13368.00392238,12914.73798247,13226.73744434,13419.377469299,13174.817938239,13236.953877829,13475.442769209,13371.729812029,13260.581889529,13323.329718589,13225.62068649,13431.296779189,13074.737703209,12974.585128429,13178.855718149,13010.28062969,13560.658724299,13094.940145669,13173.903855459,13243.560841949,13453.705995189,13236.203054279,13557.121519909,13102.475084969,13418.91061089,13484.84672884,13555.838608359,13140.63339974,13070.77902406,12982.821949999,13082.71184389,13316.13133503,12858.704966139,13020.670130519,13366.879631519,13095.940136009,12808.03626848,13356.827466379,13105.126652099,12988.599070589,13286.84875118,13218.301918149,13180.155937839,12983.996730699,13042.972203029,13193.029790049,13220.8497542,13574.822713759,13304.371518589,13103.407648569,13293.331699059,13010.90838297,13082.34234864,13379.681534829,13220.352064629,13154.579760349,13378.078548989,13220.820308449,13187.531121959,13163.66598797,13228.946719699,13022.09508242,13334.433614179,12845.5999119,13006.48024377,12921.306337169,13241.859306049,13259.328345409,13537.276005539,13455.44728849,13250.503462649,13309.362302189,13523.12077458,13230.894417749,13244.48943161,13104.727052179,13521.104602619,13532.779575099,13272.680386979,13454.285603089,13191.601305089,13054.825107099,13464.993338469,13771.087127239,13133.61053631,13069.801445859,13291.953683409,13337.331077179,13314.912472409,13028.60158292,13252.947443129,13389.780993309,13226.79323289,13320.338562429,13443.794476139,13423.916698199,13278.38377022,13276.891326149,13085.743057869,13324.1896906,13351.78107314,13255.80543682,13470.255473909,13386.066192259,13120.218096059,13410.583549239,13092.054763159,13172.75397597,13268.245639119,13261.988922549,13378.95807266,13704.714575959,13651.885908509,13175.70120832,13275.453265609,13085.400316869,13262.116647059,12835.538445199,13171.570381709,13321.979454699,13370.172028409,13406.076777539,13661.72637944,13084.83918809,13344.915438389,13574.350900439,13182.086970079,13541.417531989,13720.025964239,13353.454780669,13287.20836135,13050.51826563,13397.895125979,13095.525898619,13121.955951689,13239.242914699,13598.214938469,13379.795463609,13144.587581369,13496.86768017,13195.663189379,13275.20360317,13070.501735649,13057.138953999,13046.215148029,13529.431270429,13488.64667503,13317.716167509,13443.287751099,13445.102295859,13536.536542529,13424.83298557,12838.767833419,13597.917725949,13073.267983,13290.259832149,13363.495578239,13370.255528569,13207.353007119,13115.894358189,13103.1788398,13364.3868773,13507.868418329,13429.09052068,13204.266055399,13129.56090363,13366.53961193,13375.104872349,13264.991551239,12799.863273789,13203.576540469,13591.608504499,13336.898231329,13286.042736729,13076.000611109,13280.817180659,13107.44587809,13163.031433909,13419.17653679,13330.29572985,13234.178566959,13381.98261832,13355.483037879,13370.435093909,13366.788477509,13572.925459959,13241.772578059,12998.267665229,13133.442800589,13241.367034359,13397.560650469,13566.96479393,13188.407231919,13246.124416059,13136.431548219,13007.65353605,13136.861866489,13356.357839939,13052.110726109,13087.871792949],\"xaxis\":\"x\",\"yaxis\":\"y\",\"type\":\"histogram\",\"textfont\":{\"size\":14},\"textangle\":0,\"textposition\":\"outside\"}],                        {\"template\":{\"data\":{\"histogram2dcontour\":[{\"type\":\"histogram2dcontour\",\"colorbar\":{\"outlinewidth\":0,\"ticks\":\"\"},\"colorscale\":[[0.0,\"#0d0887\"],[0.1111111111111111,\"#46039f\"],[0.2222222222222222,\"#7201a8\"],[0.3333333333333333,\"#9c179e\"],[0.4444444444444444,\"#bd3786\"],[0.5555555555555556,\"#d8576b\"],[0.6666666666666666,\"#ed7953\"],[0.7777777777777778,\"#fb9f3a\"],[0.8888888888888888,\"#fdca26\"],[1.0,\"#f0f921\"]]}],\"choropleth\":[{\"type\":\"choropleth\",\"colorbar\":{\"outlinewidth\":0,\"ticks\":\"\"}}],\"histogram2d\":[{\"type\":\"histogram2d\",\"colorbar\":{\"outlinewidth\":0,\"ticks\":\"\"},\"colorscale\":[[0.0,\"#0d0887\"],[0.1111111111111111,\"#46039f\"],[0.2222222222222222,\"#7201a8\"],[0.3333333333333333,\"#9c179e\"],[0.4444444444444444,\"#bd3786\"],[0.5555555555555556,\"#d8576b\"],[0.6666666666666666,\"#ed7953\"],[0.7777777777777778,\"#fb9f3a\"],[0.8888888888888888,\"#fdca26\"],[1.0,\"#f0f921\"]]}],\"heatmap\":[{\"type\":\"heatmap\",\"colorbar\":{\"outlinewidth\":0,\"ticks\":\"\"},\"colorscale\":[[0.0,\"#0d0887\"],[0.1111111111111111,\"#46039f\"],[0.2222222222222222,\"#7201a8\"],[0.3333333333333333,\"#9c179e\"],[0.4444444444444444,\"#bd3786\"],[0.5555555555555556,\"#d8576b\"],[0.6666666666666666,\"#ed7953\"],[0.7777777777777778,\"#fb9f3a\"],[0.8888888888888888,\"#fdca26\"],[1.0,\"#f0f921\"]]}],\"heatmapgl\":[{\"type\":\"heatmapgl\",\"colorbar\":{\"outlinewidth\":0,\"ticks\":\"\"},\"colorscale\":[[0.0,\"#0d0887\"],[0.1111111111111111,\"#46039f\"],[0.2222222222222222,\"#7201a8\"],[0.3333333333333333,\"#9c179e\"],[0.4444444444444444,\"#bd3786\"],[0.5555555555555556,\"#d8576b\"],[0.6666666666666666,\"#ed7953\"],[0.7777777777777778,\"#fb9f3a\"],[0.8888888888888888,\"#fdca26\"],[1.0,\"#f0f921\"]]}],\"contourcarpet\":[{\"type\":\"contourcarpet\",\"colorbar\":{\"outlinewidth\":0,\"ticks\":\"\"}}],\"contour\":[{\"type\":\"contour\",\"colorbar\":{\"outlinewidth\":0,\"ticks\":\"\"},\"colorscale\":[[0.0,\"#0d0887\"],[0.1111111111111111,\"#46039f\"],[0.2222222222222222,\"#7201a8\"],[0.3333333333333333,\"#9c179e\"],[0.4444444444444444,\"#bd3786\"],[0.5555555555555556,\"#d8576b\"],[0.6666666666666666,\"#ed7953\"],[0.7777777777777778,\"#fb9f3a\"],[0.8888888888888888,\"#fdca26\"],[1.0,\"#f0f921\"]]}],\"surface\":[{\"type\":\"surface\",\"colorbar\":{\"outlinewidth\":0,\"ticks\":\"\"},\"colorscale\":[[0.0,\"#0d0887\"],[0.1111111111111111,\"#46039f\"],[0.2222222222222222,\"#7201a8\"],[0.3333333333333333,\"#9c179e\"],[0.4444444444444444,\"#bd3786\"],[0.5555555555555556,\"#d8576b\"],[0.6666666666666666,\"#ed7953\"],[0.7777777777777778,\"#fb9f3a\"],[0.8888888888888888,\"#fdca26\"],[1.0,\"#f0f921\"]]}],\"mesh3d\":[{\"type\":\"mesh3d\",\"colorbar\":{\"outlinewidth\":0,\"ticks\":\"\"}}],\"scatter\":[{\"fillpattern\":{\"fillmode\":\"overlay\",\"size\":10,\"solidity\":0.2},\"type\":\"scatter\"}],\"parcoords\":[{\"type\":\"parcoords\",\"line\":{\"colorbar\":{\"outlinewidth\":0,\"ticks\":\"\"}}}],\"scatterpolargl\":[{\"type\":\"scatterpolargl\",\"marker\":{\"colorbar\":{\"outlinewidth\":0,\"ticks\":\"\"}}}],\"bar\":[{\"error_x\":{\"color\":\"#2a3f5f\"},\"error_y\":{\"color\":\"#2a3f5f\"},\"marker\":{\"line\":{\"color\":\"#E5ECF6\",\"width\":0.5},\"pattern\":{\"fillmode\":\"overlay\",\"size\":10,\"solidity\":0.2}},\"type\":\"bar\"}],\"scattergeo\":[{\"type\":\"scattergeo\",\"marker\":{\"colorbar\":{\"outlinewidth\":0,\"ticks\":\"\"}}}],\"scatterpolar\":[{\"type\":\"scatterpolar\",\"marker\":{\"colorbar\":{\"outlinewidth\":0,\"ticks\":\"\"}}}],\"histogram\":[{\"marker\":{\"pattern\":{\"fillmode\":\"overlay\",\"size\":10,\"solidity\":0.2}},\"type\":\"histogram\"}],\"scattergl\":[{\"type\":\"scattergl\",\"marker\":{\"colorbar\":{\"outlinewidth\":0,\"ticks\":\"\"}}}],\"scatter3d\":[{\"type\":\"scatter3d\",\"line\":{\"colorbar\":{\"outlinewidth\":0,\"ticks\":\"\"}},\"marker\":{\"colorbar\":{\"outlinewidth\":0,\"ticks\":\"\"}}}],\"scattermapbox\":[{\"type\":\"scattermapbox\",\"marker\":{\"colorbar\":{\"outlinewidth\":0,\"ticks\":\"\"}}}],\"scatterternary\":[{\"type\":\"scatterternary\",\"marker\":{\"colorbar\":{\"outlinewidth\":0,\"ticks\":\"\"}}}],\"scattercarpet\":[{\"type\":\"scattercarpet\",\"marker\":{\"colorbar\":{\"outlinewidth\":0,\"ticks\":\"\"}}}],\"carpet\":[{\"aaxis\":{\"endlinecolor\":\"#2a3f5f\",\"gridcolor\":\"white\",\"linecolor\":\"white\",\"minorgridcolor\":\"white\",\"startlinecolor\":\"#2a3f5f\"},\"baxis\":{\"endlinecolor\":\"#2a3f5f\",\"gridcolor\":\"white\",\"linecolor\":\"white\",\"minorgridcolor\":\"white\",\"startlinecolor\":\"#2a3f5f\"},\"type\":\"carpet\"}],\"table\":[{\"cells\":{\"fill\":{\"color\":\"#EBF0F8\"},\"line\":{\"color\":\"white\"}},\"header\":{\"fill\":{\"color\":\"#C8D4E3\"},\"line\":{\"color\":\"white\"}},\"type\":\"table\"}],\"barpolar\":[{\"marker\":{\"line\":{\"color\":\"#E5ECF6\",\"width\":0.5},\"pattern\":{\"fillmode\":\"overlay\",\"size\":10,\"solidity\":0.2}},\"type\":\"barpolar\"}],\"pie\":[{\"automargin\":true,\"type\":\"pie\"}]},\"layout\":{\"autotypenumbers\":\"strict\",\"colorway\":[\"#636efa\",\"#EF553B\",\"#00cc96\",\"#ab63fa\",\"#FFA15A\",\"#19d3f3\",\"#FF6692\",\"#B6E880\",\"#FF97FF\",\"#FECB52\"],\"font\":{\"color\":\"#2a3f5f\"},\"hovermode\":\"closest\",\"hoverlabel\":{\"align\":\"left\"},\"paper_bgcolor\":\"white\",\"plot_bgcolor\":\"#E5ECF6\",\"polar\":{\"bgcolor\":\"#E5ECF6\",\"angularaxis\":{\"gridcolor\":\"white\",\"linecolor\":\"white\",\"ticks\":\"\"},\"radialaxis\":{\"gridcolor\":\"white\",\"linecolor\":\"white\",\"ticks\":\"\"}},\"ternary\":{\"bgcolor\":\"#E5ECF6\",\"aaxis\":{\"gridcolor\":\"white\",\"linecolor\":\"white\",\"ticks\":\"\"},\"baxis\":{\"gridcolor\":\"white\",\"linecolor\":\"white\",\"ticks\":\"\"},\"caxis\":{\"gridcolor\":\"white\",\"linecolor\":\"white\",\"ticks\":\"\"}},\"coloraxis\":{\"colorbar\":{\"outlinewidth\":0,\"ticks\":\"\"}},\"colorscale\":{\"sequential\":[[0.0,\"#0d0887\"],[0.1111111111111111,\"#46039f\"],[0.2222222222222222,\"#7201a8\"],[0.3333333333333333,\"#9c179e\"],[0.4444444444444444,\"#bd3786\"],[0.5555555555555556,\"#d8576b\"],[0.6666666666666666,\"#ed7953\"],[0.7777777777777778,\"#fb9f3a\"],[0.8888888888888888,\"#fdca26\"],[1.0,\"#f0f921\"]],\"sequentialminus\":[[0.0,\"#0d0887\"],[0.1111111111111111,\"#46039f\"],[0.2222222222222222,\"#7201a8\"],[0.3333333333333333,\"#9c179e\"],[0.4444444444444444,\"#bd3786\"],[0.5555555555555556,\"#d8576b\"],[0.6666666666666666,\"#ed7953\"],[0.7777777777777778,\"#fb9f3a\"],[0.8888888888888888,\"#fdca26\"],[1.0,\"#f0f921\"]],\"diverging\":[[0,\"#8e0152\"],[0.1,\"#c51b7d\"],[0.2,\"#de77ae\"],[0.3,\"#f1b6da\"],[0.4,\"#fde0ef\"],[0.5,\"#f7f7f7\"],[0.6,\"#e6f5d0\"],[0.7,\"#b8e186\"],[0.8,\"#7fbc41\"],[0.9,\"#4d9221\"],[1,\"#276419\"]]},\"xaxis\":{\"gridcolor\":\"white\",\"linecolor\":\"white\",\"ticks\":\"\",\"title\":{\"standoff\":15},\"zerolinecolor\":\"white\",\"automargin\":true,\"zerolinewidth\":2},\"yaxis\":{\"gridcolor\":\"white\",\"linecolor\":\"white\",\"ticks\":\"\",\"title\":{\"standoff\":15},\"zerolinecolor\":\"white\",\"automargin\":true,\"zerolinewidth\":2},\"scene\":{\"xaxis\":{\"backgroundcolor\":\"#E5ECF6\",\"gridcolor\":\"white\",\"linecolor\":\"white\",\"showbackground\":true,\"ticks\":\"\",\"zerolinecolor\":\"white\",\"gridwidth\":2},\"yaxis\":{\"backgroundcolor\":\"#E5ECF6\",\"gridcolor\":\"white\",\"linecolor\":\"white\",\"showbackground\":true,\"ticks\":\"\",\"zerolinecolor\":\"white\",\"gridwidth\":2},\"zaxis\":{\"backgroundcolor\":\"#E5ECF6\",\"gridcolor\":\"white\",\"linecolor\":\"white\",\"showbackground\":true,\"ticks\":\"\",\"zerolinecolor\":\"white\",\"gridwidth\":2}},\"shapedefaults\":{\"line\":{\"color\":\"#2a3f5f\"}},\"annotationdefaults\":{\"arrowcolor\":\"#2a3f5f\",\"arrowhead\":0,\"arrowwidth\":1},\"geo\":{\"bgcolor\":\"white\",\"landcolor\":\"#E5ECF6\",\"subunitcolor\":\"white\",\"showland\":true,\"showlakes\":true,\"lakecolor\":\"white\"},\"title\":{\"x\":0.05},\"mapbox\":{\"style\":\"light\"}}},\"xaxis\":{\"anchor\":\"y\",\"domain\":[0.0,1.0],\"title\":{\"text\":\"value\"}},\"yaxis\":{\"anchor\":\"x\",\"domain\":[0.0,1.0],\"title\":{\"text\":\"count\"}},\"legend\":{\"title\":{\"text\":\"variable\"},\"tracegroupgap\":0},\"margin\":{\"t\":60},\"barmode\":\"relative\",\"title\":{\"text\":\"Charges histogram\",\"font\":{\"size\":20}}},                        {\"responsive\": true}                    ).then(function(){\n                            \nvar gd = document.getElementById('4c292524-14ef-466a-a17e-533117301b19');\nvar x = new MutationObserver(function (mutations, observer) {{\n        var display = window.getComputedStyle(gd).display;\n        if (!display || display === 'none') {{\n            console.log([gd, 'removed!']);\n            Plotly.purge(gd);\n            observer.disconnect();\n        }}\n}});\n\n// Listen for the removal of the full notebook cells\nvar notebookContainer = gd.closest('#notebook-container');\nif (notebookContainer) {{\n    x.observe(notebookContainer, {childList: true});\n}}\n\n// Listen for the clearing of the current output cell\nvar outputEl = gd.closest('.output');\nif (outputEl) {{\n    x.observe(outputEl, {childList: true});\n}}\n\n                        })                };                });            </script>        </div>"
     },
     "metadata": {},
     "output_type": "display_data"
    }
   ],
   "source": [
    "fig = px.histogram(charges_averages, nbins=20)\n",
    "fig.update_traces(textfont_size=14, textangle=0, textposition='outside', marker=dict(coloraxis=\"coloraxis\"), marker_line_width=2, marker_line_color=\"grey\")\n",
    "fig.update_layout(title=f'Charges histogram', title_font_size=20)\n",
    "fig.show()"
   ],
   "metadata": {
    "collapsed": false,
    "pycharm": {
     "name": "#%%\n"
    }
   }
  },
  {
   "cell_type": "code",
   "execution_count": 314,
   "outputs": [
    {
     "data": {
      "application/vnd.plotly.v1+json": {
       "data": [
        {
         "autobinx": false,
         "histnorm": "probability density",
         "legendgroup": "displot",
         "marker": {
          "color": "rgb(31, 119, 180)"
         },
         "name": "displot",
         "opacity": 0.7,
         "x": [
          13348.63306283,
          12969.766890139,
          13803.553094219,
          13203.036872789,
          13403.677140709,
          13186.676998929,
          13606.87520958,
          13197.705082239,
          13598.885514839,
          13341.707644279,
          13047.972236679,
          13225.03525363,
          13098.380008809,
          13334.793419109,
          13368.737402739,
          13092.11821229,
          12879.672776139,
          13285.841424979,
          13161.857673579,
          13365.99473936,
          13343.30593638,
          13096.01320635,
          13346.496689549,
          13556.748025709,
          13675.095635789,
          13313.29048612,
          13207.538859469,
          13080.843771049,
          13203.574552899,
          13626.966320079,
          13240.070795049,
          13747.358444039,
          13362.742383109,
          13460.99899419,
          13571.01262306,
          13036.951901169,
          13465.982709499,
          13333.03482003,
          13103.41357719,
          13130.934345789,
          13380.17339802,
          13417.890311329,
          12892.72383267,
          13212.530091909,
          12975.496218489,
          13489.995442179,
          13184.575277479,
          13202.952316939,
          13331.58560582,
          13350.691776179,
          12920.067699769,
          13500.845336009,
          13184.334659819,
          13236.14893004,
          13364.718110959,
          13171.666422559,
          13128.081761099,
          13278.713534719,
          13428.139211359,
          13129.52791091,
          13308.580615429,
          13420.023724679,
          13535.66284234,
          13179.37532496,
          13226.716707989,
          13606.287697409,
          13656.071477689,
          13351.108622539,
          13346.633203959,
          12883.75311905,
          13224.161731619,
          13458.355193589001,
          13281.331192839,
          12824.92569393,
          13354.021142189,
          13085.05151304,
          13508.541731459,
          13197.685304299,
          13179.775796479,
          13205.686844049,
          13138.011962509,
          13197.178574589,
          13063.3410852,
          13234.08374715,
          13463.079869129,
          13413.82351754,
          13149.926164219,
          13310.045832519,
          13073.865059749,
          13503.455078769,
          13431.348120829,
          13156.132886649,
          13063.668521689,
          13131.313796699,
          12974.873116839,
          13279.341335639,
          12951.217147989,
          13017.330764539,
          13487.663054629,
          13163.663285119,
          13368.00392238,
          12914.73798247,
          13226.73744434,
          13419.377469299,
          13174.817938239,
          13236.953877829,
          13475.442769209,
          13371.729812029,
          13260.581889529,
          13323.329718589,
          13225.62068649,
          13431.296779189,
          13074.737703209,
          12974.585128429,
          13178.855718149,
          13010.28062969,
          13560.658724299,
          13094.940145669,
          13173.903855459,
          13243.560841949,
          13453.705995189,
          13236.203054279,
          13557.121519909,
          13102.475084969,
          13418.91061089,
          13484.84672884,
          13555.838608359,
          13140.63339974,
          13070.77902406,
          12982.821949999,
          13082.71184389,
          13316.13133503,
          12858.704966139,
          13020.670130519,
          13366.879631519,
          13095.940136009,
          12808.03626848,
          13356.827466379,
          13105.126652099,
          12988.599070589,
          13286.84875118,
          13218.301918149,
          13180.155937839,
          12983.996730699,
          13042.972203029,
          13193.029790049,
          13220.8497542,
          13574.822713759,
          13304.371518589,
          13103.407648569,
          13293.331699059,
          13010.90838297,
          13082.34234864,
          13379.681534829,
          13220.352064629,
          13154.579760349,
          13378.078548989,
          13220.820308449,
          13187.531121959,
          13163.66598797,
          13228.946719699,
          13022.09508242,
          13334.433614179,
          12845.5999119,
          13006.48024377,
          12921.306337169,
          13241.859306049,
          13259.328345409,
          13537.276005539,
          13455.44728849,
          13250.503462649,
          13309.362302189,
          13523.12077458,
          13230.894417749,
          13244.48943161,
          13104.727052179,
          13521.104602619,
          13532.779575099,
          13272.680386979,
          13454.285603089,
          13191.601305089,
          13054.825107099,
          13464.993338469,
          13771.087127239,
          13133.61053631,
          13069.801445859,
          13291.953683409,
          13337.331077179,
          13314.912472409,
          13028.60158292,
          13252.947443129,
          13389.780993309,
          13226.79323289,
          13320.338562429,
          13443.794476139,
          13423.916698199,
          13278.38377022,
          13276.891326149,
          13085.743057869,
          13324.1896906,
          13351.78107314,
          13255.80543682,
          13470.255473909,
          13386.066192259,
          13120.218096059,
          13410.583549239,
          13092.054763159,
          13172.75397597,
          13268.245639119,
          13261.988922549,
          13378.95807266,
          13704.714575959,
          13651.885908509,
          13175.70120832,
          13275.453265609,
          13085.400316869,
          13262.116647059,
          12835.538445199,
          13171.570381709,
          13321.979454699,
          13370.172028409,
          13406.076777539,
          13661.72637944,
          13084.83918809,
          13344.915438389,
          13574.350900439,
          13182.086970079,
          13541.417531989,
          13720.025964239,
          13353.454780669,
          13287.20836135,
          13050.51826563,
          13397.895125979,
          13095.525898619,
          13121.955951689,
          13239.242914699,
          13598.214938469,
          13379.795463609,
          13144.587581369,
          13496.86768017,
          13195.663189379,
          13275.20360317,
          13070.501735649,
          13057.138953999,
          13046.215148029,
          13529.431270429,
          13488.64667503,
          13317.716167509,
          13443.287751099,
          13445.102295859,
          13536.536542529,
          13424.83298557,
          12838.767833419,
          13597.917725949,
          13073.267983,
          13290.259832149,
          13363.495578239,
          13370.255528569,
          13207.353007119,
          13115.894358189,
          13103.1788398,
          13364.3868773,
          13507.868418329,
          13429.09052068,
          13204.266055399,
          13129.56090363,
          13366.53961193,
          13375.104872349,
          13264.991551239,
          12799.863273789,
          13203.576540469,
          13591.608504499,
          13336.898231329,
          13286.042736729,
          13076.000611109,
          13280.817180659,
          13107.44587809,
          13163.031433909,
          13419.17653679,
          13330.29572985,
          13234.178566959,
          13381.98261832,
          13355.483037879,
          13370.435093909,
          13366.788477509,
          13572.925459959,
          13241.772578059,
          12998.267665229,
          13133.442800589,
          13241.367034359,
          13397.560650469,
          13566.96479393,
          13188.407231919,
          13246.124416059,
          13136.431548219,
          13007.65353605,
          13136.861866489,
          13356.357839939,
          13052.110726109,
          13087.871792949
         ],
         "xaxis": "x",
         "xbins": {
          "end": 13803.553094219,
          "size": 100,
          "start": 12799.863273789
         },
         "yaxis": "y",
         "type": "histogram"
        },
        {
         "legendgroup": "displot",
         "marker": {
          "color": "rgb(31, 119, 180)"
         },
         "mode": "lines",
         "name": "displot",
         "showlegend": false,
         "x": [
          12799.863273789,
          12801.87065342986,
          12803.87803307072,
          12805.885412711581,
          12807.89279235244,
          12809.9001719933,
          12811.90755163416,
          12813.91493127502,
          12815.922310915881,
          12817.92969055674,
          12819.9370701976,
          12821.94444983846,
          12823.95182947932,
          12825.95920912018,
          12827.96658876104,
          12829.9739684019,
          12831.98134804276,
          12833.98872768362,
          12835.99610732448,
          12838.003486965341,
          12840.0108666062,
          12842.01824624706,
          12844.02562588792,
          12846.03300552878,
          12848.040385169641,
          12850.0477648105,
          12852.05514445136,
          12854.06252409222,
          12856.06990373308,
          12858.077283373941,
          12860.0846630148,
          12862.09204265566,
          12864.09942229652,
          12866.10680193738,
          12868.11418157824,
          12870.1215612191,
          12872.12894085996,
          12874.13632050082,
          12876.14370014168,
          12878.15107978254,
          12880.158459423401,
          12882.16583906426,
          12884.17321870512,
          12886.18059834598,
          12888.18797798684,
          12890.195357627701,
          12892.20273726856,
          12894.21011690942,
          12896.21749655028,
          12898.22487619114,
          12900.232255832001,
          12902.23963547286,
          12904.24701511372,
          12906.25439475458,
          12908.26177439544,
          12910.2691540363,
          12912.27653367716,
          12914.28391331802,
          12916.29129295888,
          12918.29867259974,
          12920.3060522406,
          12922.313431881461,
          12924.32081152232,
          12926.32819116318,
          12928.33557080404,
          12930.3429504449,
          12932.350330085761,
          12934.35770972662,
          12936.36508936748,
          12938.37246900834,
          12940.3798486492,
          12942.38722829006,
          12944.39460793092,
          12946.40198757178,
          12948.40936721264,
          12950.4167468535,
          12952.42412649436,
          12954.43150613522,
          12956.43888577608,
          12958.44626541694,
          12960.4536450578,
          12962.46102469866,
          12964.468404339521,
          12966.47578398038,
          12968.48316362124,
          12970.4905432621,
          12972.49792290296,
          12974.505302543821,
          12976.51268218468,
          12978.52006182554,
          12980.5274414664,
          12982.53482110726,
          12984.54220074812,
          12986.54958038898,
          12988.55696002984,
          12990.5643396707,
          12992.57171931156,
          12994.57909895242,
          12996.58647859328,
          12998.59385823414,
          13000.601237875,
          13002.60861751586,
          13004.61599715672,
          13006.623376797581,
          13008.63075643844,
          13010.6381360793,
          13012.64551572016,
          13014.65289536102,
          13016.660275001881,
          13018.66765464274,
          13020.6750342836,
          13022.68241392446,
          13024.68979356532,
          13026.69717320618,
          13028.70455284704,
          13030.7119324879,
          13032.71931212876,
          13034.72669176962,
          13036.73407141048,
          13038.74145105134,
          13040.7488306922,
          13042.75621033306,
          13044.76358997392,
          13046.77096961478,
          13048.778349255641,
          13050.7857288965,
          13052.79310853736,
          13054.80048817822,
          13056.80786781908,
          13058.815247459941,
          13060.8226271008,
          13062.83000674166,
          13064.83738638252,
          13066.84476602338,
          13068.85214566424,
          13070.8595253051,
          13072.86690494596,
          13074.87428458682,
          13076.88166422768,
          13078.88904386854,
          13080.8964235094,
          13082.90380315026,
          13084.91118279112,
          13086.91856243198,
          13088.92594207284,
          13090.933321713701,
          13092.94070135456,
          13094.94808099542,
          13096.95546063628,
          13098.96284027714,
          13100.970219918,
          13102.97759955886,
          13104.98497919972,
          13106.99235884058,
          13108.99973848144,
          13111.0071181223,
          13113.01449776316,
          13115.02187740402,
          13117.02925704488,
          13119.03663668574,
          13121.0440163266,
          13123.05139596746,
          13125.05877560832,
          13127.06615524918,
          13129.07353489004,
          13131.0809145309,
          13133.088294171761,
          13135.09567381262,
          13137.10305345348,
          13139.11043309434,
          13141.1178127352,
          13143.125192376061,
          13145.13257201692,
          13147.13995165778,
          13149.14733129864,
          13151.1547109395,
          13153.16209058036,
          13155.16947022122,
          13157.17684986208,
          13159.18422950294,
          13161.1916091438,
          13163.19898878466,
          13165.20636842552,
          13167.21374806638,
          13169.22112770724,
          13171.2285073481,
          13173.23588698896,
          13175.243266629821,
          13177.25064627068,
          13179.25802591154,
          13181.2654055524,
          13183.27278519326,
          13185.28016483412,
          13187.28754447498,
          13189.29492411584,
          13191.3023037567,
          13193.30968339756,
          13195.31706303842,
          13197.32444267928,
          13199.33182232014,
          13201.339201961,
          13203.34658160186,
          13205.35396124272,
          13207.36134088358,
          13209.36872052444,
          13211.3761001653,
          13213.38347980616,
          13215.39085944702,
          13217.398239087881,
          13219.40561872874,
          13221.4129983696,
          13223.42037801046,
          13225.42775765132,
          13227.43513729218,
          13229.44251693304,
          13231.4498965739,
          13233.45727621476,
          13235.46465585562,
          13237.47203549648,
          13239.47941513734,
          13241.4867947782,
          13243.49417441906,
          13245.50155405992,
          13247.50893370078,
          13249.51631334164,
          13251.5236929825,
          13253.53107262336,
          13255.53845226422,
          13257.54583190508,
          13259.55321154594,
          13261.5605911868,
          13263.56797082766,
          13265.57535046852,
          13267.58273010938,
          13269.59010975024,
          13271.5974893911,
          13273.60486903196,
          13275.61224867282,
          13277.61962831368,
          13279.62700795454,
          13281.6343875954,
          13283.64176723626,
          13285.64914687712,
          13287.65652651798,
          13289.66390615884,
          13291.6712857997,
          13293.67866544056,
          13295.68604508142,
          13297.69342472228,
          13299.70080436314,
          13301.708184004001,
          13303.71556364486,
          13305.72294328572,
          13307.73032292658,
          13309.73770256744,
          13311.7450822083,
          13313.75246184916,
          13315.75984149002,
          13317.76722113088,
          13319.77460077174,
          13321.7819804126,
          13323.78936005346,
          13325.79673969432,
          13327.80411933518,
          13329.81149897604,
          13331.8188786169,
          13333.826258257759,
          13335.83363789862,
          13337.84101753948,
          13339.84839718034,
          13341.8557768212,
          13343.86315646206,
          13345.87053610292,
          13347.87791574378,
          13349.88529538464,
          13351.8926750255,
          13353.90005466636,
          13355.90743430722,
          13357.91481394808,
          13359.92219358894,
          13361.9295732298,
          13363.93695287066,
          13365.94433251152,
          13367.95171215238,
          13369.95909179324,
          13371.9664714341,
          13373.97385107496,
          13375.98123071582,
          13377.98861035668,
          13379.99598999754,
          13382.0033696384,
          13384.01074927926,
          13386.01812892012,
          13388.02550856098,
          13390.03288820184,
          13392.0402678427,
          13394.04764748356,
          13396.05502712442,
          13398.06240676528,
          13400.06978640614,
          13402.077166047,
          13404.08454568786,
          13406.09192532872,
          13408.09930496958,
          13410.10668461044,
          13412.1140642513,
          13414.12144389216,
          13416.12882353302,
          13418.136203173879,
          13420.14358281474,
          13422.1509624556,
          13424.15834209646,
          13426.16572173732,
          13428.17310137818,
          13430.18048101904,
          13432.1878606599,
          13434.19524030076,
          13436.20261994162,
          13438.20999958248,
          13440.21737922334,
          13442.2247588642,
          13444.23213850506,
          13446.23951814592,
          13448.24689778678,
          13450.25427742764,
          13452.2616570685,
          13454.26903670936,
          13456.27641635022,
          13458.28379599108,
          13460.29117563194,
          13462.2985552728,
          13464.30593491366,
          13466.31331455452,
          13468.32069419538,
          13470.328073836241,
          13472.3354534771,
          13474.34283311796,
          13476.35021275882,
          13478.35759239968,
          13480.36497204054,
          13482.3723516814,
          13484.37973132226,
          13486.38711096312,
          13488.39449060398,
          13490.40187024484,
          13492.4092498857,
          13494.41662952656,
          13496.42400916742,
          13498.43138880828,
          13500.43876844914,
          13502.446148089999,
          13504.45352773086,
          13506.46090737172,
          13508.46828701258,
          13510.47566665344,
          13512.4830462943,
          13514.49042593516,
          13516.49780557602,
          13518.50518521688,
          13520.51256485774,
          13522.5199444986,
          13524.52732413946,
          13526.53470378032,
          13528.54208342118,
          13530.54946306204,
          13532.5568427029,
          13534.56422234376,
          13536.57160198462,
          13538.57898162548,
          13540.58636126634,
          13542.5937409072,
          13544.60112054806,
          13546.60850018892,
          13548.61587982978,
          13550.62325947064,
          13552.6306391115,
          13554.63801875236,
          13556.64539839322,
          13558.65277803408,
          13560.66015767494,
          13562.6675373158,
          13564.67491695666,
          13566.68229659752,
          13568.68967623838,
          13570.69705587924,
          13572.7044355201,
          13574.71181516096,
          13576.71919480182,
          13578.72657444268,
          13580.73395408354,
          13582.7413337244,
          13584.74871336526,
          13586.756093006119,
          13588.76347264698,
          13590.77085228784,
          13592.7782319287,
          13594.78561156956,
          13596.79299121042,
          13598.80037085128,
          13600.80775049214,
          13602.815130133,
          13604.82250977386,
          13606.82988941472,
          13608.83726905558,
          13610.84464869644,
          13612.8520283373,
          13614.85940797816,
          13616.86678761902,
          13618.87416725988,
          13620.88154690074,
          13622.8889265416,
          13624.89630618246,
          13626.90368582332,
          13628.911065464179,
          13630.91844510504,
          13632.9258247459,
          13634.93320438676,
          13636.94058402762,
          13638.94796366848,
          13640.95534330934,
          13642.9627229502,
          13644.97010259106,
          13646.97748223192,
          13648.98486187278,
          13650.99224151364,
          13652.9996211545,
          13655.00700079536,
          13657.01438043622,
          13659.02176007708,
          13661.029139717939,
          13663.0365193588,
          13665.04389899966,
          13667.05127864052,
          13669.05865828138,
          13671.066037922239,
          13673.0734175631,
          13675.08079720396,
          13677.08817684482,
          13679.09555648568,
          13681.10293612654,
          13683.1103157674,
          13685.11769540826,
          13687.12507504912,
          13689.13245468998,
          13691.13983433084,
          13693.1472139717,
          13695.15459361256,
          13697.16197325342,
          13699.16935289428,
          13701.17673253514,
          13703.184112176,
          13705.19149181686,
          13707.19887145772,
          13709.20625109858,
          13711.21363073944,
          13713.221010380299,
          13715.22839002116,
          13717.23576966202,
          13719.24314930288,
          13721.25052894374,
          13723.2579085846,
          13725.26528822546,
          13727.27266786632,
          13729.28004750718,
          13731.28742714804,
          13733.2948067889,
          13735.302186429759,
          13737.30956607062,
          13739.31694571148,
          13741.32432535234,
          13743.3317049932,
          13745.339084634059,
          13747.34646427492,
          13749.35384391578,
          13751.36122355664,
          13753.3686031975,
          13755.375982838359,
          13757.38336247922,
          13759.39074212008,
          13761.39812176094,
          13763.4055014018,
          13765.41288104266,
          13767.42026068352,
          13769.42764032438,
          13771.43501996524,
          13773.4423996061,
          13775.44977924696,
          13777.45715888782,
          13779.46453852868,
          13781.47191816954,
          13783.4792978104,
          13785.48667745126,
          13787.49405709212,
          13789.50143673298,
          13791.50881637384,
          13793.5161960147,
          13795.52357565556,
          13797.530955296419,
          13799.53833493728,
          13801.54571457814
         ],
         "xaxis": "x",
         "y": [
          1.6776481917232631E-4,
          1.717676974800277E-4,
          1.7575435294688344E-4,
          1.7972131193287898E-4,
          1.836652639663055E-4,
          1.8758308020417429E-4,
          1.9147183142093145E-4,
          1.9532880543074373E-4,
          1.9915152385108982E-4,
          2.0293775811841823E-4,
          2.066855446701952E-4,
          2.1039319921175307E-4,
          2.1405932999108513E-4,
          2.1768285000965597E-4,
          2.2126298810295282E-4,
          2.247992988302929E-4,
          2.2829167111981796E-4,
          2.317403356209419E-4,
          2.3514587072354952E-4,
          2.3850920721021476E-4,
          2.41831631514839E-4,
          2.4511478756858446E-4,
          2.4836067722128956E-4,
          2.5157165923400687E-4,
          2.547504468457667E-4,
          2.5790010392502514E-4,
          2.610240397235028E-4,
          2.6412600225721964E-4,
          2.67210070346554E-4,
          2.70280644353733E-4,
          2.73342435662673E-4,
          2.7640045495228477E-4,
          2.794599993199867E-4,
          2.825266383177766E-4,
          2.8560619896818637E-4,
          2.887047498320014E-4,
          2.918285842038173E-4,
          2.949842025152453E-4,
          2.9817829402855966E-4,
          3.0141771790639314E-4,
          3.047094837451266E-4,
          3.0806073166107903E-4,
          3.114787120196952E-4,
          3.1497076489821874E-4,
          3.1854429937213443E-4,
          3.222067727148986E-4,
          3.2596566959906245E-4,
          3.298284813848913E-4,
          3.3380268557998163E-4,
          3.3789572555034035E-4,
          3.421149905595459E-4,
          3.464677962084577E-4,
          3.509613653432777E-4,
          3.5560280949432807E-4,
          3.6039911090247814E-4,
          3.653571051840314E-4,
          3.7048346467840335E-4,
          3.7578468251631467E-4,
          3.812670574393752E-4,
          3.8693667939457846E-4,
          3.9279941592028356E-4,
          3.9886089933294705E-4,
          4.051265147165547E-4,
          4.1160138870984333E-4,
          4.1829037907939963E-4,
          4.251980650601622E-4,
          4.3232873843874933E-4,
          4.3968639534911993E-4,
          4.4727472874516615E-4,
          4.5509712150980977E-4,
          4.6315664015665137E-4,
          4.714560290769518E-4,
          4.7999770528228295E-4,
          4.887837535918142E-4,
          4.978159222128953E-4,
          5.070956186634986E-4,
          5.16623905986988E-4,
          5.264014992119321E-4,
          5.364287620128472E-4,
          5.467057035325135E-4,
          5.572319753315422E-4,
          5.680068684371616E-4,
          5.790293104703421E-4,
          5.902978628382113E-4,
          6.018107179872229E-4,
          6.135656967215546E-4,
          6.255602456011821E-4,
          6.377914344435452E-4,
          6.502559539631334E-4,
          6.629501135937617E-4,
          6.758698395477545E-4,
          6.890106731767688E-4,
          7.02367769708195E-4,
          7.159358974397102E-4,
          7.297094374828231E-4,
          7.436823841536546E-4,
          7.578483461145605E-4,
          7.722005483756972E-4,
          7.867318352689194E-4,
          8.014346745079447E-4,
          8.163011624496505E-4,
          8.313230306695254E-4,
          8.464916539611876E-4,
          8.61798059864966E-4,
          8.772329398235595E-4,
          8.927866620539502E-4,
          9.084492862138967E-4,
          9.242105799293221E-4,
          9.400600372340088E-4,
          9.559868989574309E-4,
          9.719801750793913E-4,
          9.880286690504337E-4,
          0.001004121004057769,
          0.001020245651195143,
          0.0010363909594729103,
          0.0010525451875824526,
          0.0010686965373066261,
          0.0010848331884443395,
          0.0011009433350956674,
          0.001117015223131711,
          0.0011330371886517892,
          0.0011489976972113096,
          0.0011648853835840806,
          0.0011806890918067223,
          0.0011963979152369848,
          0.0012120012363452696,
          0.0012274887659484634,
          0.001242850581586456,
          0.0012580771647374817,
          0.001273159436566087,
          0.001288088791898055,
          0.0013028571311214183,
          0.001317456889719544,
          0.0013318810651529356,
          0.0013461232408202694,
          0.0013601776068462004,
          0.0013740389774629877,
          0.0013877028047764891,
          0.0014011651887322497,
          0.0014144228831256744,
          0.0014274732975307963,
          0.0014403144950545647,
          0.0014529451858577374,
          0.0014653647164188672,
          0.0014775730545548748,
          0.0014895707702484618,
          0.0015013590123705083,
          0.0015129394814232234,
          0.001524314398466267,
          0.0015354864704247525,
          0.001546458852012813,
          0.0015572351045393426,
          0.0015678191518941436,
          0.0015782152340416725,
          0.001588427858375379,
          0.0015984617493094609,
          0.001608321796504786,
          0.0016180130021420948,
          0.001627540427669039,
          0.001636909140456367,
          0.0016461241608039896,
          0.001655190409738749,
          0.001664112658042963,
          0.0016728954769457867,
          0.0016815431908983574,
          0.0016900598328391998,
          0.001698449102337169,
          0.001706714326977193,
          0.0017148584273283453,
          0.0017228838858044117,
          0.001730792719695519,
          0.001738586458614775,
          0.0017462661265666547,
          0.001753832228805333,
          0.0017612847436103707,
          0.001768623119065415,
          0.001775846274882941,
          0.0017829526092748439,
          0.0017899400108255194,
          0.0017968058752809819,
          0.0018035471271253304,
          0.0018101602457747802,
          0.0018166412961793717,
          0.0018229859635846412,
          0.0018291895921695727,
          0.0018352472272432974,
          0.001841153660652363,
          0.0018469034790223387,
          0.0018524911144324914,
          0.0018579108971010442,
          0.0018631571096402633,
          0.0018682240424264496,
          0.001873106049619139,
          0.0018777976053572238,
          0.0018822933596564489,
          0.0018865881935339287,
          0.0018906772728898905,
          0.0018945561006853291,
          0.0018982205669665385,
          0.0019016669963031728,
          0.0019048921922256831,
          0.0019078934782704225,
          0.0019106687352663195,
          0.001913216434525319,
          0.001915535666629991,
          0.0019176261655451054,
          0.001919488327815588,
          0.0019211232266508288,
          0.0019225326207343504,
          0.0019237189576383185,
          0.0019246853717636617,
          0.0019254356767687954,
          0.001925974352492342,
          0.0019263065264178468,
          0.0019264379497708648,
          0.0019263749683805557,
          0.0019261244884789573,
          0.0019256939376509445,
          0.0019250912211863016,
          0.00192432467412211,
          0.0019234030092983932,
          0.0019223352617824883,
          0.0019211307300477667,
          0.001919798914319558,
          0.0019183494525257753,
          0.001916792054310929,
          0.001915136433590392,
          0.0019133922401363985,
          0.0019115689906983497,
          0.0019096760001673682,
          0.0019077223132986673,
          0.0019057166375052762,
          0.0019036672772323843,
          0.001901582070413889,
          0.0018994683275009496,
          0.0018973327735368052,
          0.0018951814937329507,
          0.0018930198829789466,
          0.001890852599691917,
          0.0018886835243821704,
          0.0018865157232787865,
          0.0018843514173235137,
          0.001882191956803066,
          0.0018800378018495561,
          0.0018778885089961673,
          0.0018757427239308323,
          0.0018735981805451446,
          0.0018714517063287966,
          0.001869299234112604,
          0.0018671358201153684,
          0.0018649556682022047,
          0.0018627521602149126,
          0.0018605178921885781,
          0.0018582447162237882,
          0.0018559237877403005,
          0.0018535456177969074,
          0.001851100130123189,
          0.0018485767224727396,
          0.0018459643318743369,
          0.001843251503327773,
          0.0018404264614649182,
          0.0018374771846743317,
          0.0018343914811696461,
          0.0018311570664677648,
          0.0018277616417336304,
          0.0018241929724429839,
          0.0018204389668139273,
          0.0018164877534621252,
          0.001812327757742659,
          0.0018079477762543061,
          0.0018033370489991224,
          0.001798485328711099,
          0.0017933829468926743,
          0.0017880208761265172,
          0.0017823907882618146,
          0.001776485108109328,
          0.0017702970623171411,
          0.0017638207231389365,
          0.001757051046848707,
          0.0017499839065989449,
          0.0017426161195643595,
          0.0017349454682580217,
          0.001726970715952448,
          0.0017186916161836283,
          0.0017101089163604178,
          0.0017012243555456796,
          0.0016920406565178424,
          0.001682561512261977,
          0.0016727915670780391,
          0.0016627363925298445,
          0.0016524024584917722,
          0.001641797099580098,
          0.001630928477283371,
          0.0016198055381296391,
          0.0016084379682484993,
          0.001596836144702575,
          0.0015850110839759598,
          0.0015729743880159041,
          0.001560738188230033,
          0.001548315087842923,
          0.0015357181030140304,
          0.0015229606031145222,
          0.0015100562505517892,
          0.0014970189405192245,
          0.0014838627410352948,
          0.0014706018336187203,
          0.0014572504549282502,
          0.0014438228396745929,
          0.0014303331650895538,
          0.0014167954972134963,
          0.001403223739237726,
          0.0013896315821122311,
          0.0013760324576034461,
          0.0013624394939603939,
          0.0013488654743213173,
          0.0013353227979671896,
          0.001321823444503418,
          0.0013083789410270569,
          0.0012950003323131782,
          0.001281698154032857,
          0.0012684824089944664,
          0.0012553625463808918,
          0.0012423474439388785,
          0.0012294453930605464,
          0.001216664086683792,
          0.0012040106099267707,
          0.001191491433361232,
          0.0011791124088216766,
          0.0011668787676408709,
          0.0011547951211973448,
          0.0011428654636576763,
          0.0011310931767942497,
          0.0011194810367595568,
          0.001108031222698453,
          0.001096745327081976,
          0.0010856243676495754,
          0.0010746688008498445,
          0.0010638785366745363,
          0.0010532529547854104,
          0.0010427909218384502,
          0.0010324908099152705,
          0.001022350515977108,
          0.001012367482261573,
          0.0010025387175476039,
          9.92860819218655E-4,
          9.833299960582524E-4,
          9.739420917157859E-4,
          9.64692608783586E-4,
          9.555767334288762E-4,
          9.465893605258303E-4,
          9.377251192344763E-4,
          9.28978398973478E-4,
          9.203433757337706E-4,
          9.118140386792837E-4,
          9.033842169797653E-4,
          8.95047606818571E-4,
          8.867977985163147E-4,
          8.786283037083724E-4,
          8.705325825110846E-4,
          8.625040706087017E-4,
          8.545362061893088E-4,
          8.466224566547475E-4,
          8.387563450264173E-4,
          8.309314759653588E-4,
          8.231415613223796E-4,
          8.153804451314272E-4,
          8.076421279572474E-4,
          7.999207905068444E-4,
          7.922108164133236E-4,
          7.84506814100484E-4,
          7.76803637636694E-4,
          7.690964064881565E-4,
          7.61380524083402E-4,
          7.536516951036321E-4,
          7.459059414175534E-4,
          7.381396165834593E-4,
          7.30349418846767E-4,
          7.225324025674964E-4,
          7.146859880189152E-4,
          7.068079695060529E-4,
          6.988965217615131E-4,
          6.909502045843642E-4,
          6.829679656976527E-4,
          6.749491418096961E-4,
          6.668934578746018E-4,
          6.588010245579724E-4,
          6.506723339240791E-4,
          6.425082533717852E-4,
          6.343100178569321E-4,
          6.260792204492013E-4,
          6.178178012821228E-4,
          6.09528034964332E-4,
          6.012125165297228E-4,
          5.928741460131643E-4,
          5.845161117465681E-4,
          5.7614187247748E-4,
          5.677551384195924E-4,
          5.593598513500788E-4,
          5.50960163873808E-4,
          5.425604179788319E-4,
          5.341651230103321E-4,
          5.257789331925956E-4,
          5.174066248297068E-4,
          5.090530733157044E-4,
          5.007232300841138E-4,
          4.924220996249524E-4,
          4.8415471669461266E-4,
          4.759261238400457E-4,
          4.677413493544664E-4,
          4.5960538577624046E-4,
          4.5152316903635605E-4,
          4.434995583535544E-4,
          4.3553931696836755E-4,
          4.2764709379956894E-4,
          4.1982740609835465E-4,
          4.1208462316676494E-4,
          4.0442295119777477E-4,
          3.9684641928582965E-4,
          3.893588666469778E-4,
          3.819639310787351E-4,
          3.7466503868090125E-4,
          3.67465394849334E-4,
          3.603679765462472E-4,
          3.5337552584220226E-4,
          3.464905447169461E-4,
          3.3971529109874015E-4,
          3.330517761148313E-4,
          3.265017625192694E-4,
          3.2006676425816346E-4,
          3.137480471274444E-4,
          3.075466304732607E-4,
          3.014632898813111E-4,
          2.954985607977413E-4,
          2.896527430218624E-4,
          2.8392590600850225E-4,
          2.783178949164105E-4,
          2.7282833733838045E-4,
          2.674566506482062E-4,
          2.622020498999749E-4,
          2.570635562158825E-4,
          2.520400055999174E-4,
          2.4713005811636163E-4,
          2.4233220737406675E-4,
          2.3764479025980396E-4,
          2.3306599686640962E-4,
          2.285938805644594E-4,
          2.242263681690627E-4,
          2.1996127015641616E-4,
          2.1579629088818358E-4,
          2.1172903880476175E-4,
          2.0775703655180632E-4,
          2.0387773100767788E-4,
          2.0008850318239876E-4,
          1.963866779618561E-4,
          1.9276953367380556E-4,
          1.892343114549268E-4,
          1.857782244006759E-4,
          1.8239846648212388E-4,
          1.7909222121593972E-4,
          1.7585667007570267E-4,
          1.7268900063438606E-4,
          1.6958641442932533E-4,
          1.6654613454224104E-4,
          1.635654128879789E-4,
          1.6064153720651888E-4,
          1.577718377534031E-4,
          1.549536936843895E-4,
          1.5218453913042908E-4,
          1.4946186895934023E-4,
          1.4678324422071689E-4,
          1.4414629727068767E-4,
          1.4154873657306187E-4,
          1.3898835117345522E-4,
          1.3646301484286606E-4,
          1.3397068988705245E-4,
          1.31509430618153E-4,
          1.290773864848352E-4,
          1.2667280485734026E-4,
          1.2429403346395575E-4,
          1.2193952247552958E-4,
          1.1960782623499273E-4,
          1.1729760462921844E-4,
          1.150076241010022E-4,
          1.1273675829959645E-4,
          1.1048398836885083E-4,
          1.0824840287297199E-4,
          1.060291973607225E-4,
          1.0382567356996466E-4,
          1.0163723827564454E-4,
          9.946340178545211E-5,
          9.730377608877833E-5,
          9.515807266595068E-5,
          9.302609996615844E-5,
          9.090776056395534E-5,
          8.880304800574857E-5,
          8.671204335921104E-5,
          8.463491148000075E-5,
          8.257189701174261E-5,
          8.052332013661083E-5,
          7.848957209525217E-5
         ],
         "yaxis": "y",
         "type": "scatter"
        },
        {
         "legendgroup": "displot",
         "marker": {
          "color": "rgb(31, 119, 180)",
          "symbol": "line-ns-open"
         },
         "mode": "markers",
         "name": "displot",
         "showlegend": false,
         "x": [
          13348.63306283,
          12969.766890139,
          13803.553094219,
          13203.036872789,
          13403.677140709,
          13186.676998929,
          13606.87520958,
          13197.705082239,
          13598.885514839,
          13341.707644279,
          13047.972236679,
          13225.03525363,
          13098.380008809,
          13334.793419109,
          13368.737402739,
          13092.11821229,
          12879.672776139,
          13285.841424979,
          13161.857673579,
          13365.99473936,
          13343.30593638,
          13096.01320635,
          13346.496689549,
          13556.748025709,
          13675.095635789,
          13313.29048612,
          13207.538859469,
          13080.843771049,
          13203.574552899,
          13626.966320079,
          13240.070795049,
          13747.358444039,
          13362.742383109,
          13460.99899419,
          13571.01262306,
          13036.951901169,
          13465.982709499,
          13333.03482003,
          13103.41357719,
          13130.934345789,
          13380.17339802,
          13417.890311329,
          12892.72383267,
          13212.530091909,
          12975.496218489,
          13489.995442179,
          13184.575277479,
          13202.952316939,
          13331.58560582,
          13350.691776179,
          12920.067699769,
          13500.845336009,
          13184.334659819,
          13236.14893004,
          13364.718110959,
          13171.666422559,
          13128.081761099,
          13278.713534719,
          13428.139211359,
          13129.52791091,
          13308.580615429,
          13420.023724679,
          13535.66284234,
          13179.37532496,
          13226.716707989,
          13606.287697409,
          13656.071477689,
          13351.108622539,
          13346.633203959,
          12883.75311905,
          13224.161731619,
          13458.355193589001,
          13281.331192839,
          12824.92569393,
          13354.021142189,
          13085.05151304,
          13508.541731459,
          13197.685304299,
          13179.775796479,
          13205.686844049,
          13138.011962509,
          13197.178574589,
          13063.3410852,
          13234.08374715,
          13463.079869129,
          13413.82351754,
          13149.926164219,
          13310.045832519,
          13073.865059749,
          13503.455078769,
          13431.348120829,
          13156.132886649,
          13063.668521689,
          13131.313796699,
          12974.873116839,
          13279.341335639,
          12951.217147989,
          13017.330764539,
          13487.663054629,
          13163.663285119,
          13368.00392238,
          12914.73798247,
          13226.73744434,
          13419.377469299,
          13174.817938239,
          13236.953877829,
          13475.442769209,
          13371.729812029,
          13260.581889529,
          13323.329718589,
          13225.62068649,
          13431.296779189,
          13074.737703209,
          12974.585128429,
          13178.855718149,
          13010.28062969,
          13560.658724299,
          13094.940145669,
          13173.903855459,
          13243.560841949,
          13453.705995189,
          13236.203054279,
          13557.121519909,
          13102.475084969,
          13418.91061089,
          13484.84672884,
          13555.838608359,
          13140.63339974,
          13070.77902406,
          12982.821949999,
          13082.71184389,
          13316.13133503,
          12858.704966139,
          13020.670130519,
          13366.879631519,
          13095.940136009,
          12808.03626848,
          13356.827466379,
          13105.126652099,
          12988.599070589,
          13286.84875118,
          13218.301918149,
          13180.155937839,
          12983.996730699,
          13042.972203029,
          13193.029790049,
          13220.8497542,
          13574.822713759,
          13304.371518589,
          13103.407648569,
          13293.331699059,
          13010.90838297,
          13082.34234864,
          13379.681534829,
          13220.352064629,
          13154.579760349,
          13378.078548989,
          13220.820308449,
          13187.531121959,
          13163.66598797,
          13228.946719699,
          13022.09508242,
          13334.433614179,
          12845.5999119,
          13006.48024377,
          12921.306337169,
          13241.859306049,
          13259.328345409,
          13537.276005539,
          13455.44728849,
          13250.503462649,
          13309.362302189,
          13523.12077458,
          13230.894417749,
          13244.48943161,
          13104.727052179,
          13521.104602619,
          13532.779575099,
          13272.680386979,
          13454.285603089,
          13191.601305089,
          13054.825107099,
          13464.993338469,
          13771.087127239,
          13133.61053631,
          13069.801445859,
          13291.953683409,
          13337.331077179,
          13314.912472409,
          13028.60158292,
          13252.947443129,
          13389.780993309,
          13226.79323289,
          13320.338562429,
          13443.794476139,
          13423.916698199,
          13278.38377022,
          13276.891326149,
          13085.743057869,
          13324.1896906,
          13351.78107314,
          13255.80543682,
          13470.255473909,
          13386.066192259,
          13120.218096059,
          13410.583549239,
          13092.054763159,
          13172.75397597,
          13268.245639119,
          13261.988922549,
          13378.95807266,
          13704.714575959,
          13651.885908509,
          13175.70120832,
          13275.453265609,
          13085.400316869,
          13262.116647059,
          12835.538445199,
          13171.570381709,
          13321.979454699,
          13370.172028409,
          13406.076777539,
          13661.72637944,
          13084.83918809,
          13344.915438389,
          13574.350900439,
          13182.086970079,
          13541.417531989,
          13720.025964239,
          13353.454780669,
          13287.20836135,
          13050.51826563,
          13397.895125979,
          13095.525898619,
          13121.955951689,
          13239.242914699,
          13598.214938469,
          13379.795463609,
          13144.587581369,
          13496.86768017,
          13195.663189379,
          13275.20360317,
          13070.501735649,
          13057.138953999,
          13046.215148029,
          13529.431270429,
          13488.64667503,
          13317.716167509,
          13443.287751099,
          13445.102295859,
          13536.536542529,
          13424.83298557,
          12838.767833419,
          13597.917725949,
          13073.267983,
          13290.259832149,
          13363.495578239,
          13370.255528569,
          13207.353007119,
          13115.894358189,
          13103.1788398,
          13364.3868773,
          13507.868418329,
          13429.09052068,
          13204.266055399,
          13129.56090363,
          13366.53961193,
          13375.104872349,
          13264.991551239,
          12799.863273789,
          13203.576540469,
          13591.608504499,
          13336.898231329,
          13286.042736729,
          13076.000611109,
          13280.817180659,
          13107.44587809,
          13163.031433909,
          13419.17653679,
          13330.29572985,
          13234.178566959,
          13381.98261832,
          13355.483037879,
          13370.435093909,
          13366.788477509,
          13572.925459959,
          13241.772578059,
          12998.267665229,
          13133.442800589,
          13241.367034359,
          13397.560650469,
          13566.96479393,
          13188.407231919,
          13246.124416059,
          13136.431548219,
          13007.65353605,
          13136.861866489,
          13356.357839939,
          13052.110726109,
          13087.871792949
         ],
         "xaxis": "x",
         "y": [
          "displot",
          "displot",
          "displot",
          "displot",
          "displot",
          "displot",
          "displot",
          "displot",
          "displot",
          "displot",
          "displot",
          "displot",
          "displot",
          "displot",
          "displot",
          "displot",
          "displot",
          "displot",
          "displot",
          "displot",
          "displot",
          "displot",
          "displot",
          "displot",
          "displot",
          "displot",
          "displot",
          "displot",
          "displot",
          "displot",
          "displot",
          "displot",
          "displot",
          "displot",
          "displot",
          "displot",
          "displot",
          "displot",
          "displot",
          "displot",
          "displot",
          "displot",
          "displot",
          "displot",
          "displot",
          "displot",
          "displot",
          "displot",
          "displot",
          "displot",
          "displot",
          "displot",
          "displot",
          "displot",
          "displot",
          "displot",
          "displot",
          "displot",
          "displot",
          "displot",
          "displot",
          "displot",
          "displot",
          "displot",
          "displot",
          "displot",
          "displot",
          "displot",
          "displot",
          "displot",
          "displot",
          "displot",
          "displot",
          "displot",
          "displot",
          "displot",
          "displot",
          "displot",
          "displot",
          "displot",
          "displot",
          "displot",
          "displot",
          "displot",
          "displot",
          "displot",
          "displot",
          "displot",
          "displot",
          "displot",
          "displot",
          "displot",
          "displot",
          "displot",
          "displot",
          "displot",
          "displot",
          "displot",
          "displot",
          "displot",
          "displot",
          "displot",
          "displot",
          "displot",
          "displot",
          "displot",
          "displot",
          "displot",
          "displot",
          "displot",
          "displot",
          "displot",
          "displot",
          "displot",
          "displot",
          "displot",
          "displot",
          "displot",
          "displot",
          "displot",
          "displot",
          "displot",
          "displot",
          "displot",
          "displot",
          "displot",
          "displot",
          "displot",
          "displot",
          "displot",
          "displot",
          "displot",
          "displot",
          "displot",
          "displot",
          "displot",
          "displot",
          "displot",
          "displot",
          "displot",
          "displot",
          "displot",
          "displot",
          "displot",
          "displot",
          "displot",
          "displot",
          "displot",
          "displot",
          "displot",
          "displot",
          "displot",
          "displot",
          "displot",
          "displot",
          "displot",
          "displot",
          "displot",
          "displot",
          "displot",
          "displot",
          "displot",
          "displot",
          "displot",
          "displot",
          "displot",
          "displot",
          "displot",
          "displot",
          "displot",
          "displot",
          "displot",
          "displot",
          "displot",
          "displot",
          "displot",
          "displot",
          "displot",
          "displot",
          "displot",
          "displot",
          "displot",
          "displot",
          "displot",
          "displot",
          "displot",
          "displot",
          "displot",
          "displot",
          "displot",
          "displot",
          "displot",
          "displot",
          "displot",
          "displot",
          "displot",
          "displot",
          "displot",
          "displot",
          "displot",
          "displot",
          "displot",
          "displot",
          "displot",
          "displot",
          "displot",
          "displot",
          "displot",
          "displot",
          "displot",
          "displot",
          "displot",
          "displot",
          "displot",
          "displot",
          "displot",
          "displot",
          "displot",
          "displot",
          "displot",
          "displot",
          "displot",
          "displot",
          "displot",
          "displot",
          "displot",
          "displot",
          "displot",
          "displot",
          "displot",
          "displot",
          "displot",
          "displot",
          "displot",
          "displot",
          "displot",
          "displot",
          "displot",
          "displot",
          "displot",
          "displot",
          "displot",
          "displot",
          "displot",
          "displot",
          "displot",
          "displot",
          "displot",
          "displot",
          "displot",
          "displot",
          "displot",
          "displot",
          "displot",
          "displot",
          "displot",
          "displot",
          "displot",
          "displot",
          "displot",
          "displot",
          "displot",
          "displot",
          "displot",
          "displot",
          "displot",
          "displot",
          "displot",
          "displot",
          "displot",
          "displot",
          "displot",
          "displot",
          "displot",
          "displot",
          "displot",
          "displot",
          "displot",
          "displot",
          "displot",
          "displot",
          "displot",
          "displot",
          "displot",
          "displot",
          "displot",
          "displot",
          "displot",
          "displot",
          "displot",
          "displot",
          "displot",
          "displot",
          "displot",
          "displot",
          "displot",
          "displot",
          "displot",
          "displot",
          "displot"
         ],
         "yaxis": "y2",
         "type": "scatter"
        }
       ],
       "layout": {
        "barmode": "overlay",
        "hovermode": "closest",
        "legend": {
         "traceorder": "reversed"
        },
        "xaxis": {
         "anchor": "y2",
         "domain": [
          0.0,
          1.0
         ],
         "zeroline": false
        },
        "yaxis": {
         "anchor": "free",
         "domain": [
          0.35,
          1
         ],
         "position": 0.0
        },
        "yaxis2": {
         "anchor": "x",
         "domain": [
          0,
          0.25
         ],
         "dtick": 1,
         "showticklabels": false
        },
        "template": {
         "data": {
          "histogram2dcontour": [
           {
            "type": "histogram2dcontour",
            "colorbar": {
             "outlinewidth": 0,
             "ticks": ""
            },
            "colorscale": [
             [
              0.0,
              "#0d0887"
             ],
             [
              0.1111111111111111,
              "#46039f"
             ],
             [
              0.2222222222222222,
              "#7201a8"
             ],
             [
              0.3333333333333333,
              "#9c179e"
             ],
             [
              0.4444444444444444,
              "#bd3786"
             ],
             [
              0.5555555555555556,
              "#d8576b"
             ],
             [
              0.6666666666666666,
              "#ed7953"
             ],
             [
              0.7777777777777778,
              "#fb9f3a"
             ],
             [
              0.8888888888888888,
              "#fdca26"
             ],
             [
              1.0,
              "#f0f921"
             ]
            ]
           }
          ],
          "choropleth": [
           {
            "type": "choropleth",
            "colorbar": {
             "outlinewidth": 0,
             "ticks": ""
            }
           }
          ],
          "histogram2d": [
           {
            "type": "histogram2d",
            "colorbar": {
             "outlinewidth": 0,
             "ticks": ""
            },
            "colorscale": [
             [
              0.0,
              "#0d0887"
             ],
             [
              0.1111111111111111,
              "#46039f"
             ],
             [
              0.2222222222222222,
              "#7201a8"
             ],
             [
              0.3333333333333333,
              "#9c179e"
             ],
             [
              0.4444444444444444,
              "#bd3786"
             ],
             [
              0.5555555555555556,
              "#d8576b"
             ],
             [
              0.6666666666666666,
              "#ed7953"
             ],
             [
              0.7777777777777778,
              "#fb9f3a"
             ],
             [
              0.8888888888888888,
              "#fdca26"
             ],
             [
              1.0,
              "#f0f921"
             ]
            ]
           }
          ],
          "heatmap": [
           {
            "type": "heatmap",
            "colorbar": {
             "outlinewidth": 0,
             "ticks": ""
            },
            "colorscale": [
             [
              0.0,
              "#0d0887"
             ],
             [
              0.1111111111111111,
              "#46039f"
             ],
             [
              0.2222222222222222,
              "#7201a8"
             ],
             [
              0.3333333333333333,
              "#9c179e"
             ],
             [
              0.4444444444444444,
              "#bd3786"
             ],
             [
              0.5555555555555556,
              "#d8576b"
             ],
             [
              0.6666666666666666,
              "#ed7953"
             ],
             [
              0.7777777777777778,
              "#fb9f3a"
             ],
             [
              0.8888888888888888,
              "#fdca26"
             ],
             [
              1.0,
              "#f0f921"
             ]
            ]
           }
          ],
          "heatmapgl": [
           {
            "type": "heatmapgl",
            "colorbar": {
             "outlinewidth": 0,
             "ticks": ""
            },
            "colorscale": [
             [
              0.0,
              "#0d0887"
             ],
             [
              0.1111111111111111,
              "#46039f"
             ],
             [
              0.2222222222222222,
              "#7201a8"
             ],
             [
              0.3333333333333333,
              "#9c179e"
             ],
             [
              0.4444444444444444,
              "#bd3786"
             ],
             [
              0.5555555555555556,
              "#d8576b"
             ],
             [
              0.6666666666666666,
              "#ed7953"
             ],
             [
              0.7777777777777778,
              "#fb9f3a"
             ],
             [
              0.8888888888888888,
              "#fdca26"
             ],
             [
              1.0,
              "#f0f921"
             ]
            ]
           }
          ],
          "contourcarpet": [
           {
            "type": "contourcarpet",
            "colorbar": {
             "outlinewidth": 0,
             "ticks": ""
            }
           }
          ],
          "contour": [
           {
            "type": "contour",
            "colorbar": {
             "outlinewidth": 0,
             "ticks": ""
            },
            "colorscale": [
             [
              0.0,
              "#0d0887"
             ],
             [
              0.1111111111111111,
              "#46039f"
             ],
             [
              0.2222222222222222,
              "#7201a8"
             ],
             [
              0.3333333333333333,
              "#9c179e"
             ],
             [
              0.4444444444444444,
              "#bd3786"
             ],
             [
              0.5555555555555556,
              "#d8576b"
             ],
             [
              0.6666666666666666,
              "#ed7953"
             ],
             [
              0.7777777777777778,
              "#fb9f3a"
             ],
             [
              0.8888888888888888,
              "#fdca26"
             ],
             [
              1.0,
              "#f0f921"
             ]
            ]
           }
          ],
          "surface": [
           {
            "type": "surface",
            "colorbar": {
             "outlinewidth": 0,
             "ticks": ""
            },
            "colorscale": [
             [
              0.0,
              "#0d0887"
             ],
             [
              0.1111111111111111,
              "#46039f"
             ],
             [
              0.2222222222222222,
              "#7201a8"
             ],
             [
              0.3333333333333333,
              "#9c179e"
             ],
             [
              0.4444444444444444,
              "#bd3786"
             ],
             [
              0.5555555555555556,
              "#d8576b"
             ],
             [
              0.6666666666666666,
              "#ed7953"
             ],
             [
              0.7777777777777778,
              "#fb9f3a"
             ],
             [
              0.8888888888888888,
              "#fdca26"
             ],
             [
              1.0,
              "#f0f921"
             ]
            ]
           }
          ],
          "mesh3d": [
           {
            "type": "mesh3d",
            "colorbar": {
             "outlinewidth": 0,
             "ticks": ""
            }
           }
          ],
          "scatter": [
           {
            "fillpattern": {
             "fillmode": "overlay",
             "size": 10,
             "solidity": 0.2
            },
            "type": "scatter"
           }
          ],
          "parcoords": [
           {
            "type": "parcoords",
            "line": {
             "colorbar": {
              "outlinewidth": 0,
              "ticks": ""
             }
            }
           }
          ],
          "scatterpolargl": [
           {
            "type": "scatterpolargl",
            "marker": {
             "colorbar": {
              "outlinewidth": 0,
              "ticks": ""
             }
            }
           }
          ],
          "bar": [
           {
            "error_x": {
             "color": "#2a3f5f"
            },
            "error_y": {
             "color": "#2a3f5f"
            },
            "marker": {
             "line": {
              "color": "#E5ECF6",
              "width": 0.5
             },
             "pattern": {
              "fillmode": "overlay",
              "size": 10,
              "solidity": 0.2
             }
            },
            "type": "bar"
           }
          ],
          "scattergeo": [
           {
            "type": "scattergeo",
            "marker": {
             "colorbar": {
              "outlinewidth": 0,
              "ticks": ""
             }
            }
           }
          ],
          "scatterpolar": [
           {
            "type": "scatterpolar",
            "marker": {
             "colorbar": {
              "outlinewidth": 0,
              "ticks": ""
             }
            }
           }
          ],
          "histogram": [
           {
            "marker": {
             "pattern": {
              "fillmode": "overlay",
              "size": 10,
              "solidity": 0.2
             }
            },
            "type": "histogram"
           }
          ],
          "scattergl": [
           {
            "type": "scattergl",
            "marker": {
             "colorbar": {
              "outlinewidth": 0,
              "ticks": ""
             }
            }
           }
          ],
          "scatter3d": [
           {
            "type": "scatter3d",
            "line": {
             "colorbar": {
              "outlinewidth": 0,
              "ticks": ""
             }
            },
            "marker": {
             "colorbar": {
              "outlinewidth": 0,
              "ticks": ""
             }
            }
           }
          ],
          "scattermapbox": [
           {
            "type": "scattermapbox",
            "marker": {
             "colorbar": {
              "outlinewidth": 0,
              "ticks": ""
             }
            }
           }
          ],
          "scatterternary": [
           {
            "type": "scatterternary",
            "marker": {
             "colorbar": {
              "outlinewidth": 0,
              "ticks": ""
             }
            }
           }
          ],
          "scattercarpet": [
           {
            "type": "scattercarpet",
            "marker": {
             "colorbar": {
              "outlinewidth": 0,
              "ticks": ""
             }
            }
           }
          ],
          "carpet": [
           {
            "aaxis": {
             "endlinecolor": "#2a3f5f",
             "gridcolor": "white",
             "linecolor": "white",
             "minorgridcolor": "white",
             "startlinecolor": "#2a3f5f"
            },
            "baxis": {
             "endlinecolor": "#2a3f5f",
             "gridcolor": "white",
             "linecolor": "white",
             "minorgridcolor": "white",
             "startlinecolor": "#2a3f5f"
            },
            "type": "carpet"
           }
          ],
          "table": [
           {
            "cells": {
             "fill": {
              "color": "#EBF0F8"
             },
             "line": {
              "color": "white"
             }
            },
            "header": {
             "fill": {
              "color": "#C8D4E3"
             },
             "line": {
              "color": "white"
             }
            },
            "type": "table"
           }
          ],
          "barpolar": [
           {
            "marker": {
             "line": {
              "color": "#E5ECF6",
              "width": 0.5
             },
             "pattern": {
              "fillmode": "overlay",
              "size": 10,
              "solidity": 0.2
             }
            },
            "type": "barpolar"
           }
          ],
          "pie": [
           {
            "automargin": true,
            "type": "pie"
           }
          ]
         },
         "layout": {
          "autotypenumbers": "strict",
          "colorway": [
           "#636efa",
           "#EF553B",
           "#00cc96",
           "#ab63fa",
           "#FFA15A",
           "#19d3f3",
           "#FF6692",
           "#B6E880",
           "#FF97FF",
           "#FECB52"
          ],
          "font": {
           "color": "#2a3f5f"
          },
          "hovermode": "closest",
          "hoverlabel": {
           "align": "left"
          },
          "paper_bgcolor": "white",
          "plot_bgcolor": "#E5ECF6",
          "polar": {
           "bgcolor": "#E5ECF6",
           "angularaxis": {
            "gridcolor": "white",
            "linecolor": "white",
            "ticks": ""
           },
           "radialaxis": {
            "gridcolor": "white",
            "linecolor": "white",
            "ticks": ""
           }
          },
          "ternary": {
           "bgcolor": "#E5ECF6",
           "aaxis": {
            "gridcolor": "white",
            "linecolor": "white",
            "ticks": ""
           },
           "baxis": {
            "gridcolor": "white",
            "linecolor": "white",
            "ticks": ""
           },
           "caxis": {
            "gridcolor": "white",
            "linecolor": "white",
            "ticks": ""
           }
          },
          "coloraxis": {
           "colorbar": {
            "outlinewidth": 0,
            "ticks": ""
           }
          },
          "colorscale": {
           "sequential": [
            [
             0.0,
             "#0d0887"
            ],
            [
             0.1111111111111111,
             "#46039f"
            ],
            [
             0.2222222222222222,
             "#7201a8"
            ],
            [
             0.3333333333333333,
             "#9c179e"
            ],
            [
             0.4444444444444444,
             "#bd3786"
            ],
            [
             0.5555555555555556,
             "#d8576b"
            ],
            [
             0.6666666666666666,
             "#ed7953"
            ],
            [
             0.7777777777777778,
             "#fb9f3a"
            ],
            [
             0.8888888888888888,
             "#fdca26"
            ],
            [
             1.0,
             "#f0f921"
            ]
           ],
           "sequentialminus": [
            [
             0.0,
             "#0d0887"
            ],
            [
             0.1111111111111111,
             "#46039f"
            ],
            [
             0.2222222222222222,
             "#7201a8"
            ],
            [
             0.3333333333333333,
             "#9c179e"
            ],
            [
             0.4444444444444444,
             "#bd3786"
            ],
            [
             0.5555555555555556,
             "#d8576b"
            ],
            [
             0.6666666666666666,
             "#ed7953"
            ],
            [
             0.7777777777777778,
             "#fb9f3a"
            ],
            [
             0.8888888888888888,
             "#fdca26"
            ],
            [
             1.0,
             "#f0f921"
            ]
           ],
           "diverging": [
            [
             0,
             "#8e0152"
            ],
            [
             0.1,
             "#c51b7d"
            ],
            [
             0.2,
             "#de77ae"
            ],
            [
             0.3,
             "#f1b6da"
            ],
            [
             0.4,
             "#fde0ef"
            ],
            [
             0.5,
             "#f7f7f7"
            ],
            [
             0.6,
             "#e6f5d0"
            ],
            [
             0.7,
             "#b8e186"
            ],
            [
             0.8,
             "#7fbc41"
            ],
            [
             0.9,
             "#4d9221"
            ],
            [
             1,
             "#276419"
            ]
           ]
          },
          "xaxis": {
           "gridcolor": "white",
           "linecolor": "white",
           "ticks": "",
           "title": {
            "standoff": 15
           },
           "zerolinecolor": "white",
           "automargin": true,
           "zerolinewidth": 2
          },
          "yaxis": {
           "gridcolor": "white",
           "linecolor": "white",
           "ticks": "",
           "title": {
            "standoff": 15
           },
           "zerolinecolor": "white",
           "automargin": true,
           "zerolinewidth": 2
          },
          "scene": {
           "xaxis": {
            "backgroundcolor": "#E5ECF6",
            "gridcolor": "white",
            "linecolor": "white",
            "showbackground": true,
            "ticks": "",
            "zerolinecolor": "white",
            "gridwidth": 2
           },
           "yaxis": {
            "backgroundcolor": "#E5ECF6",
            "gridcolor": "white",
            "linecolor": "white",
            "showbackground": true,
            "ticks": "",
            "zerolinecolor": "white",
            "gridwidth": 2
           },
           "zaxis": {
            "backgroundcolor": "#E5ECF6",
            "gridcolor": "white",
            "linecolor": "white",
            "showbackground": true,
            "ticks": "",
            "zerolinecolor": "white",
            "gridwidth": 2
           }
          },
          "shapedefaults": {
           "line": {
            "color": "#2a3f5f"
           }
          },
          "annotationdefaults": {
           "arrowcolor": "#2a3f5f",
           "arrowhead": 0,
           "arrowwidth": 1
          },
          "geo": {
           "bgcolor": "white",
           "landcolor": "#E5ECF6",
           "subunitcolor": "white",
           "showland": true,
           "showlakes": true,
           "lakecolor": "white"
          },
          "title": {
           "x": 0.05
          },
          "mapbox": {
           "style": "light"
          }
         }
        }
       },
       "config": {
        "plotlyServerURL": "https://plot.ly"
       }
      },
      "text/html": "<div>                            <div id=\"bf9092a1-de66-4fae-8ca5-3f246f230278\" class=\"plotly-graph-div\" style=\"height:525px; width:100%;\"></div>            <script type=\"text/javascript\">                require([\"plotly\"], function(Plotly) {                    window.PLOTLYENV=window.PLOTLYENV || {};                                    if (document.getElementById(\"bf9092a1-de66-4fae-8ca5-3f246f230278\")) {                    Plotly.newPlot(                        \"bf9092a1-de66-4fae-8ca5-3f246f230278\",                        [{\"autobinx\":false,\"histnorm\":\"probability density\",\"legendgroup\":\"displot\",\"marker\":{\"color\":\"rgb(31, 119, 180)\"},\"name\":\"displot\",\"opacity\":0.7,\"x\":[13348.63306283,12969.766890139,13803.553094219,13203.036872789,13403.677140709,13186.676998929,13606.87520958,13197.705082239,13598.885514839,13341.707644279,13047.972236679,13225.03525363,13098.380008809,13334.793419109,13368.737402739,13092.11821229,12879.672776139,13285.841424979,13161.857673579,13365.99473936,13343.30593638,13096.01320635,13346.496689549,13556.748025709,13675.095635789,13313.29048612,13207.538859469,13080.843771049,13203.574552899,13626.966320079,13240.070795049,13747.358444039,13362.742383109,13460.99899419,13571.01262306,13036.951901169,13465.982709499,13333.03482003,13103.41357719,13130.934345789,13380.17339802,13417.890311329,12892.72383267,13212.530091909,12975.496218489,13489.995442179,13184.575277479,13202.952316939,13331.58560582,13350.691776179,12920.067699769,13500.845336009,13184.334659819,13236.14893004,13364.718110959,13171.666422559,13128.081761099,13278.713534719,13428.139211359,13129.52791091,13308.580615429,13420.023724679,13535.66284234,13179.37532496,13226.716707989,13606.287697409,13656.071477689,13351.108622539,13346.633203959,12883.75311905,13224.161731619,13458.355193589001,13281.331192839,12824.92569393,13354.021142189,13085.05151304,13508.541731459,13197.685304299,13179.775796479,13205.686844049,13138.011962509,13197.178574589,13063.3410852,13234.08374715,13463.079869129,13413.82351754,13149.926164219,13310.045832519,13073.865059749,13503.455078769,13431.348120829,13156.132886649,13063.668521689,13131.313796699,12974.873116839,13279.341335639,12951.217147989,13017.330764539,13487.663054629,13163.663285119,13368.00392238,12914.73798247,13226.73744434,13419.377469299,13174.817938239,13236.953877829,13475.442769209,13371.729812029,13260.581889529,13323.329718589,13225.62068649,13431.296779189,13074.737703209,12974.585128429,13178.855718149,13010.28062969,13560.658724299,13094.940145669,13173.903855459,13243.560841949,13453.705995189,13236.203054279,13557.121519909,13102.475084969,13418.91061089,13484.84672884,13555.838608359,13140.63339974,13070.77902406,12982.821949999,13082.71184389,13316.13133503,12858.704966139,13020.670130519,13366.879631519,13095.940136009,12808.03626848,13356.827466379,13105.126652099,12988.599070589,13286.84875118,13218.301918149,13180.155937839,12983.996730699,13042.972203029,13193.029790049,13220.8497542,13574.822713759,13304.371518589,13103.407648569,13293.331699059,13010.90838297,13082.34234864,13379.681534829,13220.352064629,13154.579760349,13378.078548989,13220.820308449,13187.531121959,13163.66598797,13228.946719699,13022.09508242,13334.433614179,12845.5999119,13006.48024377,12921.306337169,13241.859306049,13259.328345409,13537.276005539,13455.44728849,13250.503462649,13309.362302189,13523.12077458,13230.894417749,13244.48943161,13104.727052179,13521.104602619,13532.779575099,13272.680386979,13454.285603089,13191.601305089,13054.825107099,13464.993338469,13771.087127239,13133.61053631,13069.801445859,13291.953683409,13337.331077179,13314.912472409,13028.60158292,13252.947443129,13389.780993309,13226.79323289,13320.338562429,13443.794476139,13423.916698199,13278.38377022,13276.891326149,13085.743057869,13324.1896906,13351.78107314,13255.80543682,13470.255473909,13386.066192259,13120.218096059,13410.583549239,13092.054763159,13172.75397597,13268.245639119,13261.988922549,13378.95807266,13704.714575959,13651.885908509,13175.70120832,13275.453265609,13085.400316869,13262.116647059,12835.538445199,13171.570381709,13321.979454699,13370.172028409,13406.076777539,13661.72637944,13084.83918809,13344.915438389,13574.350900439,13182.086970079,13541.417531989,13720.025964239,13353.454780669,13287.20836135,13050.51826563,13397.895125979,13095.525898619,13121.955951689,13239.242914699,13598.214938469,13379.795463609,13144.587581369,13496.86768017,13195.663189379,13275.20360317,13070.501735649,13057.138953999,13046.215148029,13529.431270429,13488.64667503,13317.716167509,13443.287751099,13445.102295859,13536.536542529,13424.83298557,12838.767833419,13597.917725949,13073.267983,13290.259832149,13363.495578239,13370.255528569,13207.353007119,13115.894358189,13103.1788398,13364.3868773,13507.868418329,13429.09052068,13204.266055399,13129.56090363,13366.53961193,13375.104872349,13264.991551239,12799.863273789,13203.576540469,13591.608504499,13336.898231329,13286.042736729,13076.000611109,13280.817180659,13107.44587809,13163.031433909,13419.17653679,13330.29572985,13234.178566959,13381.98261832,13355.483037879,13370.435093909,13366.788477509,13572.925459959,13241.772578059,12998.267665229,13133.442800589,13241.367034359,13397.560650469,13566.96479393,13188.407231919,13246.124416059,13136.431548219,13007.65353605,13136.861866489,13356.357839939,13052.110726109,13087.871792949],\"xaxis\":\"x\",\"xbins\":{\"end\":13803.553094219,\"size\":100,\"start\":12799.863273789},\"yaxis\":\"y\",\"type\":\"histogram\"},{\"legendgroup\":\"displot\",\"marker\":{\"color\":\"rgb(31, 119, 180)\"},\"mode\":\"lines\",\"name\":\"displot\",\"showlegend\":false,\"x\":[12799.863273789,12801.87065342986,12803.87803307072,12805.885412711581,12807.89279235244,12809.9001719933,12811.90755163416,12813.91493127502,12815.922310915881,12817.92969055674,12819.9370701976,12821.94444983846,12823.95182947932,12825.95920912018,12827.96658876104,12829.9739684019,12831.98134804276,12833.98872768362,12835.99610732448,12838.003486965341,12840.0108666062,12842.01824624706,12844.02562588792,12846.03300552878,12848.040385169641,12850.0477648105,12852.05514445136,12854.06252409222,12856.06990373308,12858.077283373941,12860.0846630148,12862.09204265566,12864.09942229652,12866.10680193738,12868.11418157824,12870.1215612191,12872.12894085996,12874.13632050082,12876.14370014168,12878.15107978254,12880.158459423401,12882.16583906426,12884.17321870512,12886.18059834598,12888.18797798684,12890.195357627701,12892.20273726856,12894.21011690942,12896.21749655028,12898.22487619114,12900.232255832001,12902.23963547286,12904.24701511372,12906.25439475458,12908.26177439544,12910.2691540363,12912.27653367716,12914.28391331802,12916.29129295888,12918.29867259974,12920.3060522406,12922.313431881461,12924.32081152232,12926.32819116318,12928.33557080404,12930.3429504449,12932.350330085761,12934.35770972662,12936.36508936748,12938.37246900834,12940.3798486492,12942.38722829006,12944.39460793092,12946.40198757178,12948.40936721264,12950.4167468535,12952.42412649436,12954.43150613522,12956.43888577608,12958.44626541694,12960.4536450578,12962.46102469866,12964.468404339521,12966.47578398038,12968.48316362124,12970.4905432621,12972.49792290296,12974.505302543821,12976.51268218468,12978.52006182554,12980.5274414664,12982.53482110726,12984.54220074812,12986.54958038898,12988.55696002984,12990.5643396707,12992.57171931156,12994.57909895242,12996.58647859328,12998.59385823414,13000.601237875,13002.60861751586,13004.61599715672,13006.623376797581,13008.63075643844,13010.6381360793,13012.64551572016,13014.65289536102,13016.660275001881,13018.66765464274,13020.6750342836,13022.68241392446,13024.68979356532,13026.69717320618,13028.70455284704,13030.7119324879,13032.71931212876,13034.72669176962,13036.73407141048,13038.74145105134,13040.7488306922,13042.75621033306,13044.76358997392,13046.77096961478,13048.778349255641,13050.7857288965,13052.79310853736,13054.80048817822,13056.80786781908,13058.815247459941,13060.8226271008,13062.83000674166,13064.83738638252,13066.84476602338,13068.85214566424,13070.8595253051,13072.86690494596,13074.87428458682,13076.88166422768,13078.88904386854,13080.8964235094,13082.90380315026,13084.91118279112,13086.91856243198,13088.92594207284,13090.933321713701,13092.94070135456,13094.94808099542,13096.95546063628,13098.96284027714,13100.970219918,13102.97759955886,13104.98497919972,13106.99235884058,13108.99973848144,13111.0071181223,13113.01449776316,13115.02187740402,13117.02925704488,13119.03663668574,13121.0440163266,13123.05139596746,13125.05877560832,13127.06615524918,13129.07353489004,13131.0809145309,13133.088294171761,13135.09567381262,13137.10305345348,13139.11043309434,13141.1178127352,13143.125192376061,13145.13257201692,13147.13995165778,13149.14733129864,13151.1547109395,13153.16209058036,13155.16947022122,13157.17684986208,13159.18422950294,13161.1916091438,13163.19898878466,13165.20636842552,13167.21374806638,13169.22112770724,13171.2285073481,13173.23588698896,13175.243266629821,13177.25064627068,13179.25802591154,13181.2654055524,13183.27278519326,13185.28016483412,13187.28754447498,13189.29492411584,13191.3023037567,13193.30968339756,13195.31706303842,13197.32444267928,13199.33182232014,13201.339201961,13203.34658160186,13205.35396124272,13207.36134088358,13209.36872052444,13211.3761001653,13213.38347980616,13215.39085944702,13217.398239087881,13219.40561872874,13221.4129983696,13223.42037801046,13225.42775765132,13227.43513729218,13229.44251693304,13231.4498965739,13233.45727621476,13235.46465585562,13237.47203549648,13239.47941513734,13241.4867947782,13243.49417441906,13245.50155405992,13247.50893370078,13249.51631334164,13251.5236929825,13253.53107262336,13255.53845226422,13257.54583190508,13259.55321154594,13261.5605911868,13263.56797082766,13265.57535046852,13267.58273010938,13269.59010975024,13271.5974893911,13273.60486903196,13275.61224867282,13277.61962831368,13279.62700795454,13281.6343875954,13283.64176723626,13285.64914687712,13287.65652651798,13289.66390615884,13291.6712857997,13293.67866544056,13295.68604508142,13297.69342472228,13299.70080436314,13301.708184004001,13303.71556364486,13305.72294328572,13307.73032292658,13309.73770256744,13311.7450822083,13313.75246184916,13315.75984149002,13317.76722113088,13319.77460077174,13321.7819804126,13323.78936005346,13325.79673969432,13327.80411933518,13329.81149897604,13331.8188786169,13333.826258257759,13335.83363789862,13337.84101753948,13339.84839718034,13341.8557768212,13343.86315646206,13345.87053610292,13347.87791574378,13349.88529538464,13351.8926750255,13353.90005466636,13355.90743430722,13357.91481394808,13359.92219358894,13361.9295732298,13363.93695287066,13365.94433251152,13367.95171215238,13369.95909179324,13371.9664714341,13373.97385107496,13375.98123071582,13377.98861035668,13379.99598999754,13382.0033696384,13384.01074927926,13386.01812892012,13388.02550856098,13390.03288820184,13392.0402678427,13394.04764748356,13396.05502712442,13398.06240676528,13400.06978640614,13402.077166047,13404.08454568786,13406.09192532872,13408.09930496958,13410.10668461044,13412.1140642513,13414.12144389216,13416.12882353302,13418.136203173879,13420.14358281474,13422.1509624556,13424.15834209646,13426.16572173732,13428.17310137818,13430.18048101904,13432.1878606599,13434.19524030076,13436.20261994162,13438.20999958248,13440.21737922334,13442.2247588642,13444.23213850506,13446.23951814592,13448.24689778678,13450.25427742764,13452.2616570685,13454.26903670936,13456.27641635022,13458.28379599108,13460.29117563194,13462.2985552728,13464.30593491366,13466.31331455452,13468.32069419538,13470.328073836241,13472.3354534771,13474.34283311796,13476.35021275882,13478.35759239968,13480.36497204054,13482.3723516814,13484.37973132226,13486.38711096312,13488.39449060398,13490.40187024484,13492.4092498857,13494.41662952656,13496.42400916742,13498.43138880828,13500.43876844914,13502.446148089999,13504.45352773086,13506.46090737172,13508.46828701258,13510.47566665344,13512.4830462943,13514.49042593516,13516.49780557602,13518.50518521688,13520.51256485774,13522.5199444986,13524.52732413946,13526.53470378032,13528.54208342118,13530.54946306204,13532.5568427029,13534.56422234376,13536.57160198462,13538.57898162548,13540.58636126634,13542.5937409072,13544.60112054806,13546.60850018892,13548.61587982978,13550.62325947064,13552.6306391115,13554.63801875236,13556.64539839322,13558.65277803408,13560.66015767494,13562.6675373158,13564.67491695666,13566.68229659752,13568.68967623838,13570.69705587924,13572.7044355201,13574.71181516096,13576.71919480182,13578.72657444268,13580.73395408354,13582.7413337244,13584.74871336526,13586.756093006119,13588.76347264698,13590.77085228784,13592.7782319287,13594.78561156956,13596.79299121042,13598.80037085128,13600.80775049214,13602.815130133,13604.82250977386,13606.82988941472,13608.83726905558,13610.84464869644,13612.8520283373,13614.85940797816,13616.86678761902,13618.87416725988,13620.88154690074,13622.8889265416,13624.89630618246,13626.90368582332,13628.911065464179,13630.91844510504,13632.9258247459,13634.93320438676,13636.94058402762,13638.94796366848,13640.95534330934,13642.9627229502,13644.97010259106,13646.97748223192,13648.98486187278,13650.99224151364,13652.9996211545,13655.00700079536,13657.01438043622,13659.02176007708,13661.029139717939,13663.0365193588,13665.04389899966,13667.05127864052,13669.05865828138,13671.066037922239,13673.0734175631,13675.08079720396,13677.08817684482,13679.09555648568,13681.10293612654,13683.1103157674,13685.11769540826,13687.12507504912,13689.13245468998,13691.13983433084,13693.1472139717,13695.15459361256,13697.16197325342,13699.16935289428,13701.17673253514,13703.184112176,13705.19149181686,13707.19887145772,13709.20625109858,13711.21363073944,13713.221010380299,13715.22839002116,13717.23576966202,13719.24314930288,13721.25052894374,13723.2579085846,13725.26528822546,13727.27266786632,13729.28004750718,13731.28742714804,13733.2948067889,13735.302186429759,13737.30956607062,13739.31694571148,13741.32432535234,13743.3317049932,13745.339084634059,13747.34646427492,13749.35384391578,13751.36122355664,13753.3686031975,13755.375982838359,13757.38336247922,13759.39074212008,13761.39812176094,13763.4055014018,13765.41288104266,13767.42026068352,13769.42764032438,13771.43501996524,13773.4423996061,13775.44977924696,13777.45715888782,13779.46453852868,13781.47191816954,13783.4792978104,13785.48667745126,13787.49405709212,13789.50143673298,13791.50881637384,13793.5161960147,13795.52357565556,13797.530955296419,13799.53833493728,13801.54571457814],\"xaxis\":\"x\",\"y\":[0.00016776481917232631,0.0001717676974800277,0.00017575435294688344,0.00017972131193287898,0.0001836652639663055,0.00018758308020417429,0.00019147183142093145,0.00019532880543074373,0.00019915152385108982,0.00020293775811841823,0.0002066855446701952,0.00021039319921175307,0.00021405932999108513,0.00021768285000965597,0.00022126298810295282,0.0002247992988302929,0.00022829167111981796,0.0002317403356209419,0.00023514587072354952,0.00023850920721021476,0.000241831631514839,0.00024511478756858446,0.00024836067722128956,0.00025157165923400687,0.0002547504468457667,0.00025790010392502514,0.0002610240397235028,0.00026412600225721964,0.000267210070346554,0.000270280644353733,0.000273342435662673,0.00027640045495228477,0.0002794599993199867,0.0002825266383177766,0.00028560619896818637,0.0002887047498320014,0.0002918285842038173,0.0002949842025152453,0.00029817829402855966,0.00030141771790639314,0.0003047094837451266,0.00030806073166107903,0.0003114787120196952,0.00031497076489821874,0.00031854429937213443,0.0003222067727148986,0.00032596566959906245,0.0003298284813848913,0.00033380268557998163,0.00033789572555034035,0.0003421149905595459,0.0003464677962084577,0.0003509613653432777,0.00035560280949432807,0.00036039911090247814,0.0003653571051840314,0.00037048346467840335,0.00037578468251631467,0.0003812670574393752,0.00038693667939457846,0.00039279941592028356,0.00039886089933294705,0.0004051265147165547,0.00041160138870984333,0.00041829037907939963,0.0004251980650601622,0.00043232873843874933,0.00043968639534911993,0.00044727472874516615,0.00045509712150980977,0.00046315664015665137,0.0004714560290769518,0.00047999770528228295,0.0004887837535918142,0.0004978159222128953,0.0005070956186634986,0.000516623905986988,0.0005264014992119321,0.0005364287620128472,0.0005467057035325135,0.0005572319753315422,0.0005680068684371616,0.0005790293104703421,0.0005902978628382113,0.0006018107179872229,0.0006135656967215546,0.0006255602456011821,0.0006377914344435452,0.0006502559539631334,0.0006629501135937617,0.0006758698395477545,0.0006890106731767688,0.000702367769708195,0.0007159358974397102,0.0007297094374828231,0.0007436823841536546,0.0007578483461145605,0.0007722005483756972,0.0007867318352689194,0.0008014346745079447,0.0008163011624496505,0.0008313230306695254,0.0008464916539611876,0.000861798059864966,0.0008772329398235595,0.0008927866620539502,0.0009084492862138967,0.0009242105799293221,0.0009400600372340088,0.0009559868989574309,0.0009719801750793913,0.0009880286690504337,0.001004121004057769,0.001020245651195143,0.0010363909594729103,0.0010525451875824526,0.0010686965373066261,0.0010848331884443395,0.0011009433350956674,0.001117015223131711,0.0011330371886517892,0.0011489976972113096,0.0011648853835840806,0.0011806890918067223,0.0011963979152369848,0.0012120012363452696,0.0012274887659484634,0.001242850581586456,0.0012580771647374817,0.001273159436566087,0.001288088791898055,0.0013028571311214183,0.001317456889719544,0.0013318810651529356,0.0013461232408202694,0.0013601776068462004,0.0013740389774629877,0.0013877028047764891,0.0014011651887322497,0.0014144228831256744,0.0014274732975307963,0.0014403144950545647,0.0014529451858577374,0.0014653647164188672,0.0014775730545548748,0.0014895707702484618,0.0015013590123705083,0.0015129394814232234,0.001524314398466267,0.0015354864704247525,0.001546458852012813,0.0015572351045393426,0.0015678191518941436,0.0015782152340416725,0.001588427858375379,0.0015984617493094609,0.001608321796504786,0.0016180130021420948,0.001627540427669039,0.001636909140456367,0.0016461241608039896,0.001655190409738749,0.001664112658042963,0.0016728954769457867,0.0016815431908983574,0.0016900598328391998,0.001698449102337169,0.001706714326977193,0.0017148584273283453,0.0017228838858044117,0.001730792719695519,0.001738586458614775,0.0017462661265666547,0.001753832228805333,0.0017612847436103707,0.001768623119065415,0.001775846274882941,0.0017829526092748439,0.0017899400108255194,0.0017968058752809819,0.0018035471271253304,0.0018101602457747802,0.0018166412961793717,0.0018229859635846412,0.0018291895921695727,0.0018352472272432974,0.001841153660652363,0.0018469034790223387,0.0018524911144324914,0.0018579108971010442,0.0018631571096402633,0.0018682240424264496,0.001873106049619139,0.0018777976053572238,0.0018822933596564489,0.0018865881935339287,0.0018906772728898905,0.0018945561006853291,0.0018982205669665385,0.0019016669963031728,0.0019048921922256831,0.0019078934782704225,0.0019106687352663195,0.001913216434525319,0.001915535666629991,0.0019176261655451054,0.001919488327815588,0.0019211232266508288,0.0019225326207343504,0.0019237189576383185,0.0019246853717636617,0.0019254356767687954,0.001925974352492342,0.0019263065264178468,0.0019264379497708648,0.0019263749683805557,0.0019261244884789573,0.0019256939376509445,0.0019250912211863016,0.00192432467412211,0.0019234030092983932,0.0019223352617824883,0.0019211307300477667,0.001919798914319558,0.0019183494525257753,0.001916792054310929,0.001915136433590392,0.0019133922401363985,0.0019115689906983497,0.0019096760001673682,0.0019077223132986673,0.0019057166375052762,0.0019036672772323843,0.001901582070413889,0.0018994683275009496,0.0018973327735368052,0.0018951814937329507,0.0018930198829789466,0.001890852599691917,0.0018886835243821704,0.0018865157232787865,0.0018843514173235137,0.001882191956803066,0.0018800378018495561,0.0018778885089961673,0.0018757427239308323,0.0018735981805451446,0.0018714517063287966,0.001869299234112604,0.0018671358201153684,0.0018649556682022047,0.0018627521602149126,0.0018605178921885781,0.0018582447162237882,0.0018559237877403005,0.0018535456177969074,0.001851100130123189,0.0018485767224727396,0.0018459643318743369,0.001843251503327773,0.0018404264614649182,0.0018374771846743317,0.0018343914811696461,0.0018311570664677648,0.0018277616417336304,0.0018241929724429839,0.0018204389668139273,0.0018164877534621252,0.001812327757742659,0.0018079477762543061,0.0018033370489991224,0.001798485328711099,0.0017933829468926743,0.0017880208761265172,0.0017823907882618146,0.001776485108109328,0.0017702970623171411,0.0017638207231389365,0.001757051046848707,0.0017499839065989449,0.0017426161195643595,0.0017349454682580217,0.001726970715952448,0.0017186916161836283,0.0017101089163604178,0.0017012243555456796,0.0016920406565178424,0.001682561512261977,0.0016727915670780391,0.0016627363925298445,0.0016524024584917722,0.001641797099580098,0.001630928477283371,0.0016198055381296391,0.0016084379682484993,0.001596836144702575,0.0015850110839759598,0.0015729743880159041,0.001560738188230033,0.001548315087842923,0.0015357181030140304,0.0015229606031145222,0.0015100562505517892,0.0014970189405192245,0.0014838627410352948,0.0014706018336187203,0.0014572504549282502,0.0014438228396745929,0.0014303331650895538,0.0014167954972134963,0.001403223739237726,0.0013896315821122311,0.0013760324576034461,0.0013624394939603939,0.0013488654743213173,0.0013353227979671896,0.001321823444503418,0.0013083789410270569,0.0012950003323131782,0.001281698154032857,0.0012684824089944664,0.0012553625463808918,0.0012423474439388785,0.0012294453930605464,0.001216664086683792,0.0012040106099267707,0.001191491433361232,0.0011791124088216766,0.0011668787676408709,0.0011547951211973448,0.0011428654636576763,0.0011310931767942497,0.0011194810367595568,0.001108031222698453,0.001096745327081976,0.0010856243676495754,0.0010746688008498445,0.0010638785366745363,0.0010532529547854104,0.0010427909218384502,0.0010324908099152705,0.001022350515977108,0.001012367482261573,0.0010025387175476039,0.000992860819218655,0.0009833299960582524,0.0009739420917157859,0.000964692608783586,0.0009555767334288762,0.0009465893605258303,0.0009377251192344763,0.000928978398973478,0.0009203433757337706,0.0009118140386792837,0.0009033842169797653,0.000895047606818571,0.0008867977985163147,0.0008786283037083724,0.0008705325825110846,0.0008625040706087017,0.0008545362061893088,0.0008466224566547475,0.0008387563450264173,0.0008309314759653588,0.0008231415613223796,0.0008153804451314272,0.0008076421279572474,0.0007999207905068444,0.0007922108164133236,0.000784506814100484,0.000776803637636694,0.0007690964064881565,0.000761380524083402,0.0007536516951036321,0.0007459059414175534,0.0007381396165834593,0.000730349418846767,0.0007225324025674964,0.0007146859880189152,0.0007068079695060529,0.0006988965217615131,0.0006909502045843642,0.0006829679656976527,0.0006749491418096961,0.0006668934578746018,0.0006588010245579724,0.0006506723339240791,0.0006425082533717852,0.0006343100178569321,0.0006260792204492013,0.0006178178012821228,0.000609528034964332,0.0006012125165297228,0.0005928741460131643,0.0005845161117465681,0.00057614187247748,0.0005677551384195924,0.0005593598513500788,0.000550960163873808,0.0005425604179788319,0.0005341651230103321,0.0005257789331925956,0.0005174066248297068,0.0005090530733157044,0.0005007232300841138,0.0004924220996249524,0.00048415471669461266,0.0004759261238400457,0.0004677413493544664,0.00045960538577624046,0.00045152316903635605,0.0004434995583535544,0.00043553931696836755,0.00042764709379956894,0.00041982740609835465,0.00041208462316676494,0.00040442295119777477,0.00039684641928582965,0.0003893588666469778,0.0003819639310787351,0.00037466503868090125,0.000367465394849334,0.0003603679765462472,0.00035337552584220226,0.0003464905447169461,0.00033971529109874015,0.0003330517761148313,0.0003265017625192694,0.00032006676425816346,0.0003137480471274444,0.0003075466304732607,0.0003014632898813111,0.0002954985607977413,0.0002896527430218624,0.00028392590600850225,0.0002783178949164105,0.00027282833733838045,0.0002674566506482062,0.0002622020498999749,0.0002570635562158825,0.0002520400055999174,0.00024713005811636163,0.00024233220737406675,0.00023764479025980396,0.00023306599686640962,0.0002285938805644594,0.0002242263681690627,0.00021996127015641616,0.00021579629088818358,0.00021172903880476175,0.00020775703655180632,0.00020387773100767788,0.00020008850318239876,0.0001963866779618561,0.00019276953367380556,0.0001892343114549268,0.0001857782244006759,0.00018239846648212388,0.00017909222121593972,0.00017585667007570267,0.00017268900063438606,0.00016958641442932533,0.00016654613454224104,0.0001635654128879789,0.00016064153720651888,0.0001577718377534031,0.0001549536936843895,0.00015218453913042908,0.00014946186895934023,0.00014678324422071689,0.00014414629727068767,0.00014154873657306187,0.00013898835117345522,0.00013646301484286606,0.00013397068988705245,0.000131509430618153,0.0001290773864848352,0.00012667280485734026,0.00012429403346395575,0.00012193952247552958,0.00011960782623499273,0.00011729760462921844,0.0001150076241010022,0.00011273675829959645,0.00011048398836885083,0.00010824840287297199,0.0001060291973607225,0.00010382567356996466,0.00010163723827564454,9.946340178545211e-05,9.730377608877833e-05,9.515807266595068e-05,9.302609996615844e-05,9.090776056395534e-05,8.880304800574857e-05,8.671204335921104e-05,8.463491148000075e-05,8.257189701174261e-05,8.052332013661083e-05,7.848957209525217e-05],\"yaxis\":\"y\",\"type\":\"scatter\"},{\"legendgroup\":\"displot\",\"marker\":{\"color\":\"rgb(31, 119, 180)\",\"symbol\":\"line-ns-open\"},\"mode\":\"markers\",\"name\":\"displot\",\"showlegend\":false,\"x\":[13348.63306283,12969.766890139,13803.553094219,13203.036872789,13403.677140709,13186.676998929,13606.87520958,13197.705082239,13598.885514839,13341.707644279,13047.972236679,13225.03525363,13098.380008809,13334.793419109,13368.737402739,13092.11821229,12879.672776139,13285.841424979,13161.857673579,13365.99473936,13343.30593638,13096.01320635,13346.496689549,13556.748025709,13675.095635789,13313.29048612,13207.538859469,13080.843771049,13203.574552899,13626.966320079,13240.070795049,13747.358444039,13362.742383109,13460.99899419,13571.01262306,13036.951901169,13465.982709499,13333.03482003,13103.41357719,13130.934345789,13380.17339802,13417.890311329,12892.72383267,13212.530091909,12975.496218489,13489.995442179,13184.575277479,13202.952316939,13331.58560582,13350.691776179,12920.067699769,13500.845336009,13184.334659819,13236.14893004,13364.718110959,13171.666422559,13128.081761099,13278.713534719,13428.139211359,13129.52791091,13308.580615429,13420.023724679,13535.66284234,13179.37532496,13226.716707989,13606.287697409,13656.071477689,13351.108622539,13346.633203959,12883.75311905,13224.161731619,13458.355193589001,13281.331192839,12824.92569393,13354.021142189,13085.05151304,13508.541731459,13197.685304299,13179.775796479,13205.686844049,13138.011962509,13197.178574589,13063.3410852,13234.08374715,13463.079869129,13413.82351754,13149.926164219,13310.045832519,13073.865059749,13503.455078769,13431.348120829,13156.132886649,13063.668521689,13131.313796699,12974.873116839,13279.341335639,12951.217147989,13017.330764539,13487.663054629,13163.663285119,13368.00392238,12914.73798247,13226.73744434,13419.377469299,13174.817938239,13236.953877829,13475.442769209,13371.729812029,13260.581889529,13323.329718589,13225.62068649,13431.296779189,13074.737703209,12974.585128429,13178.855718149,13010.28062969,13560.658724299,13094.940145669,13173.903855459,13243.560841949,13453.705995189,13236.203054279,13557.121519909,13102.475084969,13418.91061089,13484.84672884,13555.838608359,13140.63339974,13070.77902406,12982.821949999,13082.71184389,13316.13133503,12858.704966139,13020.670130519,13366.879631519,13095.940136009,12808.03626848,13356.827466379,13105.126652099,12988.599070589,13286.84875118,13218.301918149,13180.155937839,12983.996730699,13042.972203029,13193.029790049,13220.8497542,13574.822713759,13304.371518589,13103.407648569,13293.331699059,13010.90838297,13082.34234864,13379.681534829,13220.352064629,13154.579760349,13378.078548989,13220.820308449,13187.531121959,13163.66598797,13228.946719699,13022.09508242,13334.433614179,12845.5999119,13006.48024377,12921.306337169,13241.859306049,13259.328345409,13537.276005539,13455.44728849,13250.503462649,13309.362302189,13523.12077458,13230.894417749,13244.48943161,13104.727052179,13521.104602619,13532.779575099,13272.680386979,13454.285603089,13191.601305089,13054.825107099,13464.993338469,13771.087127239,13133.61053631,13069.801445859,13291.953683409,13337.331077179,13314.912472409,13028.60158292,13252.947443129,13389.780993309,13226.79323289,13320.338562429,13443.794476139,13423.916698199,13278.38377022,13276.891326149,13085.743057869,13324.1896906,13351.78107314,13255.80543682,13470.255473909,13386.066192259,13120.218096059,13410.583549239,13092.054763159,13172.75397597,13268.245639119,13261.988922549,13378.95807266,13704.714575959,13651.885908509,13175.70120832,13275.453265609,13085.400316869,13262.116647059,12835.538445199,13171.570381709,13321.979454699,13370.172028409,13406.076777539,13661.72637944,13084.83918809,13344.915438389,13574.350900439,13182.086970079,13541.417531989,13720.025964239,13353.454780669,13287.20836135,13050.51826563,13397.895125979,13095.525898619,13121.955951689,13239.242914699,13598.214938469,13379.795463609,13144.587581369,13496.86768017,13195.663189379,13275.20360317,13070.501735649,13057.138953999,13046.215148029,13529.431270429,13488.64667503,13317.716167509,13443.287751099,13445.102295859,13536.536542529,13424.83298557,12838.767833419,13597.917725949,13073.267983,13290.259832149,13363.495578239,13370.255528569,13207.353007119,13115.894358189,13103.1788398,13364.3868773,13507.868418329,13429.09052068,13204.266055399,13129.56090363,13366.53961193,13375.104872349,13264.991551239,12799.863273789,13203.576540469,13591.608504499,13336.898231329,13286.042736729,13076.000611109,13280.817180659,13107.44587809,13163.031433909,13419.17653679,13330.29572985,13234.178566959,13381.98261832,13355.483037879,13370.435093909,13366.788477509,13572.925459959,13241.772578059,12998.267665229,13133.442800589,13241.367034359,13397.560650469,13566.96479393,13188.407231919,13246.124416059,13136.431548219,13007.65353605,13136.861866489,13356.357839939,13052.110726109,13087.871792949],\"xaxis\":\"x\",\"y\":[\"displot\",\"displot\",\"displot\",\"displot\",\"displot\",\"displot\",\"displot\",\"displot\",\"displot\",\"displot\",\"displot\",\"displot\",\"displot\",\"displot\",\"displot\",\"displot\",\"displot\",\"displot\",\"displot\",\"displot\",\"displot\",\"displot\",\"displot\",\"displot\",\"displot\",\"displot\",\"displot\",\"displot\",\"displot\",\"displot\",\"displot\",\"displot\",\"displot\",\"displot\",\"displot\",\"displot\",\"displot\",\"displot\",\"displot\",\"displot\",\"displot\",\"displot\",\"displot\",\"displot\",\"displot\",\"displot\",\"displot\",\"displot\",\"displot\",\"displot\",\"displot\",\"displot\",\"displot\",\"displot\",\"displot\",\"displot\",\"displot\",\"displot\",\"displot\",\"displot\",\"displot\",\"displot\",\"displot\",\"displot\",\"displot\",\"displot\",\"displot\",\"displot\",\"displot\",\"displot\",\"displot\",\"displot\",\"displot\",\"displot\",\"displot\",\"displot\",\"displot\",\"displot\",\"displot\",\"displot\",\"displot\",\"displot\",\"displot\",\"displot\",\"displot\",\"displot\",\"displot\",\"displot\",\"displot\",\"displot\",\"displot\",\"displot\",\"displot\",\"displot\",\"displot\",\"displot\",\"displot\",\"displot\",\"displot\",\"displot\",\"displot\",\"displot\",\"displot\",\"displot\",\"displot\",\"displot\",\"displot\",\"displot\",\"displot\",\"displot\",\"displot\",\"displot\",\"displot\",\"displot\",\"displot\",\"displot\",\"displot\",\"displot\",\"displot\",\"displot\",\"displot\",\"displot\",\"displot\",\"displot\",\"displot\",\"displot\",\"displot\",\"displot\",\"displot\",\"displot\",\"displot\",\"displot\",\"displot\",\"displot\",\"displot\",\"displot\",\"displot\",\"displot\",\"displot\",\"displot\",\"displot\",\"displot\",\"displot\",\"displot\",\"displot\",\"displot\",\"displot\",\"displot\",\"displot\",\"displot\",\"displot\",\"displot\",\"displot\",\"displot\",\"displot\",\"displot\",\"displot\",\"displot\",\"displot\",\"displot\",\"displot\",\"displot\",\"displot\",\"displot\",\"displot\",\"displot\",\"displot\",\"displot\",\"displot\",\"displot\",\"displot\",\"displot\",\"displot\",\"displot\",\"displot\",\"displot\",\"displot\",\"displot\",\"displot\",\"displot\",\"displot\",\"displot\",\"displot\",\"displot\",\"displot\",\"displot\",\"displot\",\"displot\",\"displot\",\"displot\",\"displot\",\"displot\",\"displot\",\"displot\",\"displot\",\"displot\",\"displot\",\"displot\",\"displot\",\"displot\",\"displot\",\"displot\",\"displot\",\"displot\",\"displot\",\"displot\",\"displot\",\"displot\",\"displot\",\"displot\",\"displot\",\"displot\",\"displot\",\"displot\",\"displot\",\"displot\",\"displot\",\"displot\",\"displot\",\"displot\",\"displot\",\"displot\",\"displot\",\"displot\",\"displot\",\"displot\",\"displot\",\"displot\",\"displot\",\"displot\",\"displot\",\"displot\",\"displot\",\"displot\",\"displot\",\"displot\",\"displot\",\"displot\",\"displot\",\"displot\",\"displot\",\"displot\",\"displot\",\"displot\",\"displot\",\"displot\",\"displot\",\"displot\",\"displot\",\"displot\",\"displot\",\"displot\",\"displot\",\"displot\",\"displot\",\"displot\",\"displot\",\"displot\",\"displot\",\"displot\",\"displot\",\"displot\",\"displot\",\"displot\",\"displot\",\"displot\",\"displot\",\"displot\",\"displot\",\"displot\",\"displot\",\"displot\",\"displot\",\"displot\",\"displot\",\"displot\",\"displot\",\"displot\",\"displot\",\"displot\",\"displot\",\"displot\",\"displot\",\"displot\",\"displot\",\"displot\",\"displot\",\"displot\",\"displot\",\"displot\",\"displot\",\"displot\",\"displot\",\"displot\",\"displot\",\"displot\",\"displot\",\"displot\",\"displot\",\"displot\"],\"yaxis\":\"y2\",\"type\":\"scatter\"}],                        {\"barmode\":\"overlay\",\"hovermode\":\"closest\",\"legend\":{\"traceorder\":\"reversed\"},\"xaxis\":{\"anchor\":\"y2\",\"domain\":[0.0,1.0],\"zeroline\":false},\"yaxis\":{\"anchor\":\"free\",\"domain\":[0.35,1],\"position\":0.0},\"yaxis2\":{\"anchor\":\"x\",\"domain\":[0,0.25],\"dtick\":1,\"showticklabels\":false},\"template\":{\"data\":{\"histogram2dcontour\":[{\"type\":\"histogram2dcontour\",\"colorbar\":{\"outlinewidth\":0,\"ticks\":\"\"},\"colorscale\":[[0.0,\"#0d0887\"],[0.1111111111111111,\"#46039f\"],[0.2222222222222222,\"#7201a8\"],[0.3333333333333333,\"#9c179e\"],[0.4444444444444444,\"#bd3786\"],[0.5555555555555556,\"#d8576b\"],[0.6666666666666666,\"#ed7953\"],[0.7777777777777778,\"#fb9f3a\"],[0.8888888888888888,\"#fdca26\"],[1.0,\"#f0f921\"]]}],\"choropleth\":[{\"type\":\"choropleth\",\"colorbar\":{\"outlinewidth\":0,\"ticks\":\"\"}}],\"histogram2d\":[{\"type\":\"histogram2d\",\"colorbar\":{\"outlinewidth\":0,\"ticks\":\"\"},\"colorscale\":[[0.0,\"#0d0887\"],[0.1111111111111111,\"#46039f\"],[0.2222222222222222,\"#7201a8\"],[0.3333333333333333,\"#9c179e\"],[0.4444444444444444,\"#bd3786\"],[0.5555555555555556,\"#d8576b\"],[0.6666666666666666,\"#ed7953\"],[0.7777777777777778,\"#fb9f3a\"],[0.8888888888888888,\"#fdca26\"],[1.0,\"#f0f921\"]]}],\"heatmap\":[{\"type\":\"heatmap\",\"colorbar\":{\"outlinewidth\":0,\"ticks\":\"\"},\"colorscale\":[[0.0,\"#0d0887\"],[0.1111111111111111,\"#46039f\"],[0.2222222222222222,\"#7201a8\"],[0.3333333333333333,\"#9c179e\"],[0.4444444444444444,\"#bd3786\"],[0.5555555555555556,\"#d8576b\"],[0.6666666666666666,\"#ed7953\"],[0.7777777777777778,\"#fb9f3a\"],[0.8888888888888888,\"#fdca26\"],[1.0,\"#f0f921\"]]}],\"heatmapgl\":[{\"type\":\"heatmapgl\",\"colorbar\":{\"outlinewidth\":0,\"ticks\":\"\"},\"colorscale\":[[0.0,\"#0d0887\"],[0.1111111111111111,\"#46039f\"],[0.2222222222222222,\"#7201a8\"],[0.3333333333333333,\"#9c179e\"],[0.4444444444444444,\"#bd3786\"],[0.5555555555555556,\"#d8576b\"],[0.6666666666666666,\"#ed7953\"],[0.7777777777777778,\"#fb9f3a\"],[0.8888888888888888,\"#fdca26\"],[1.0,\"#f0f921\"]]}],\"contourcarpet\":[{\"type\":\"contourcarpet\",\"colorbar\":{\"outlinewidth\":0,\"ticks\":\"\"}}],\"contour\":[{\"type\":\"contour\",\"colorbar\":{\"outlinewidth\":0,\"ticks\":\"\"},\"colorscale\":[[0.0,\"#0d0887\"],[0.1111111111111111,\"#46039f\"],[0.2222222222222222,\"#7201a8\"],[0.3333333333333333,\"#9c179e\"],[0.4444444444444444,\"#bd3786\"],[0.5555555555555556,\"#d8576b\"],[0.6666666666666666,\"#ed7953\"],[0.7777777777777778,\"#fb9f3a\"],[0.8888888888888888,\"#fdca26\"],[1.0,\"#f0f921\"]]}],\"surface\":[{\"type\":\"surface\",\"colorbar\":{\"outlinewidth\":0,\"ticks\":\"\"},\"colorscale\":[[0.0,\"#0d0887\"],[0.1111111111111111,\"#46039f\"],[0.2222222222222222,\"#7201a8\"],[0.3333333333333333,\"#9c179e\"],[0.4444444444444444,\"#bd3786\"],[0.5555555555555556,\"#d8576b\"],[0.6666666666666666,\"#ed7953\"],[0.7777777777777778,\"#fb9f3a\"],[0.8888888888888888,\"#fdca26\"],[1.0,\"#f0f921\"]]}],\"mesh3d\":[{\"type\":\"mesh3d\",\"colorbar\":{\"outlinewidth\":0,\"ticks\":\"\"}}],\"scatter\":[{\"fillpattern\":{\"fillmode\":\"overlay\",\"size\":10,\"solidity\":0.2},\"type\":\"scatter\"}],\"parcoords\":[{\"type\":\"parcoords\",\"line\":{\"colorbar\":{\"outlinewidth\":0,\"ticks\":\"\"}}}],\"scatterpolargl\":[{\"type\":\"scatterpolargl\",\"marker\":{\"colorbar\":{\"outlinewidth\":0,\"ticks\":\"\"}}}],\"bar\":[{\"error_x\":{\"color\":\"#2a3f5f\"},\"error_y\":{\"color\":\"#2a3f5f\"},\"marker\":{\"line\":{\"color\":\"#E5ECF6\",\"width\":0.5},\"pattern\":{\"fillmode\":\"overlay\",\"size\":10,\"solidity\":0.2}},\"type\":\"bar\"}],\"scattergeo\":[{\"type\":\"scattergeo\",\"marker\":{\"colorbar\":{\"outlinewidth\":0,\"ticks\":\"\"}}}],\"scatterpolar\":[{\"type\":\"scatterpolar\",\"marker\":{\"colorbar\":{\"outlinewidth\":0,\"ticks\":\"\"}}}],\"histogram\":[{\"marker\":{\"pattern\":{\"fillmode\":\"overlay\",\"size\":10,\"solidity\":0.2}},\"type\":\"histogram\"}],\"scattergl\":[{\"type\":\"scattergl\",\"marker\":{\"colorbar\":{\"outlinewidth\":0,\"ticks\":\"\"}}}],\"scatter3d\":[{\"type\":\"scatter3d\",\"line\":{\"colorbar\":{\"outlinewidth\":0,\"ticks\":\"\"}},\"marker\":{\"colorbar\":{\"outlinewidth\":0,\"ticks\":\"\"}}}],\"scattermapbox\":[{\"type\":\"scattermapbox\",\"marker\":{\"colorbar\":{\"outlinewidth\":0,\"ticks\":\"\"}}}],\"scatterternary\":[{\"type\":\"scatterternary\",\"marker\":{\"colorbar\":{\"outlinewidth\":0,\"ticks\":\"\"}}}],\"scattercarpet\":[{\"type\":\"scattercarpet\",\"marker\":{\"colorbar\":{\"outlinewidth\":0,\"ticks\":\"\"}}}],\"carpet\":[{\"aaxis\":{\"endlinecolor\":\"#2a3f5f\",\"gridcolor\":\"white\",\"linecolor\":\"white\",\"minorgridcolor\":\"white\",\"startlinecolor\":\"#2a3f5f\"},\"baxis\":{\"endlinecolor\":\"#2a3f5f\",\"gridcolor\":\"white\",\"linecolor\":\"white\",\"minorgridcolor\":\"white\",\"startlinecolor\":\"#2a3f5f\"},\"type\":\"carpet\"}],\"table\":[{\"cells\":{\"fill\":{\"color\":\"#EBF0F8\"},\"line\":{\"color\":\"white\"}},\"header\":{\"fill\":{\"color\":\"#C8D4E3\"},\"line\":{\"color\":\"white\"}},\"type\":\"table\"}],\"barpolar\":[{\"marker\":{\"line\":{\"color\":\"#E5ECF6\",\"width\":0.5},\"pattern\":{\"fillmode\":\"overlay\",\"size\":10,\"solidity\":0.2}},\"type\":\"barpolar\"}],\"pie\":[{\"automargin\":true,\"type\":\"pie\"}]},\"layout\":{\"autotypenumbers\":\"strict\",\"colorway\":[\"#636efa\",\"#EF553B\",\"#00cc96\",\"#ab63fa\",\"#FFA15A\",\"#19d3f3\",\"#FF6692\",\"#B6E880\",\"#FF97FF\",\"#FECB52\"],\"font\":{\"color\":\"#2a3f5f\"},\"hovermode\":\"closest\",\"hoverlabel\":{\"align\":\"left\"},\"paper_bgcolor\":\"white\",\"plot_bgcolor\":\"#E5ECF6\",\"polar\":{\"bgcolor\":\"#E5ECF6\",\"angularaxis\":{\"gridcolor\":\"white\",\"linecolor\":\"white\",\"ticks\":\"\"},\"radialaxis\":{\"gridcolor\":\"white\",\"linecolor\":\"white\",\"ticks\":\"\"}},\"ternary\":{\"bgcolor\":\"#E5ECF6\",\"aaxis\":{\"gridcolor\":\"white\",\"linecolor\":\"white\",\"ticks\":\"\"},\"baxis\":{\"gridcolor\":\"white\",\"linecolor\":\"white\",\"ticks\":\"\"},\"caxis\":{\"gridcolor\":\"white\",\"linecolor\":\"white\",\"ticks\":\"\"}},\"coloraxis\":{\"colorbar\":{\"outlinewidth\":0,\"ticks\":\"\"}},\"colorscale\":{\"sequential\":[[0.0,\"#0d0887\"],[0.1111111111111111,\"#46039f\"],[0.2222222222222222,\"#7201a8\"],[0.3333333333333333,\"#9c179e\"],[0.4444444444444444,\"#bd3786\"],[0.5555555555555556,\"#d8576b\"],[0.6666666666666666,\"#ed7953\"],[0.7777777777777778,\"#fb9f3a\"],[0.8888888888888888,\"#fdca26\"],[1.0,\"#f0f921\"]],\"sequentialminus\":[[0.0,\"#0d0887\"],[0.1111111111111111,\"#46039f\"],[0.2222222222222222,\"#7201a8\"],[0.3333333333333333,\"#9c179e\"],[0.4444444444444444,\"#bd3786\"],[0.5555555555555556,\"#d8576b\"],[0.6666666666666666,\"#ed7953\"],[0.7777777777777778,\"#fb9f3a\"],[0.8888888888888888,\"#fdca26\"],[1.0,\"#f0f921\"]],\"diverging\":[[0,\"#8e0152\"],[0.1,\"#c51b7d\"],[0.2,\"#de77ae\"],[0.3,\"#f1b6da\"],[0.4,\"#fde0ef\"],[0.5,\"#f7f7f7\"],[0.6,\"#e6f5d0\"],[0.7,\"#b8e186\"],[0.8,\"#7fbc41\"],[0.9,\"#4d9221\"],[1,\"#276419\"]]},\"xaxis\":{\"gridcolor\":\"white\",\"linecolor\":\"white\",\"ticks\":\"\",\"title\":{\"standoff\":15},\"zerolinecolor\":\"white\",\"automargin\":true,\"zerolinewidth\":2},\"yaxis\":{\"gridcolor\":\"white\",\"linecolor\":\"white\",\"ticks\":\"\",\"title\":{\"standoff\":15},\"zerolinecolor\":\"white\",\"automargin\":true,\"zerolinewidth\":2},\"scene\":{\"xaxis\":{\"backgroundcolor\":\"#E5ECF6\",\"gridcolor\":\"white\",\"linecolor\":\"white\",\"showbackground\":true,\"ticks\":\"\",\"zerolinecolor\":\"white\",\"gridwidth\":2},\"yaxis\":{\"backgroundcolor\":\"#E5ECF6\",\"gridcolor\":\"white\",\"linecolor\":\"white\",\"showbackground\":true,\"ticks\":\"\",\"zerolinecolor\":\"white\",\"gridwidth\":2},\"zaxis\":{\"backgroundcolor\":\"#E5ECF6\",\"gridcolor\":\"white\",\"linecolor\":\"white\",\"showbackground\":true,\"ticks\":\"\",\"zerolinecolor\":\"white\",\"gridwidth\":2}},\"shapedefaults\":{\"line\":{\"color\":\"#2a3f5f\"}},\"annotationdefaults\":{\"arrowcolor\":\"#2a3f5f\",\"arrowhead\":0,\"arrowwidth\":1},\"geo\":{\"bgcolor\":\"white\",\"landcolor\":\"#E5ECF6\",\"subunitcolor\":\"white\",\"showland\":true,\"showlakes\":true,\"lakecolor\":\"white\"},\"title\":{\"x\":0.05},\"mapbox\":{\"style\":\"light\"}}}},                        {\"responsive\": true}                    ).then(function(){\n                            \nvar gd = document.getElementById('bf9092a1-de66-4fae-8ca5-3f246f230278');\nvar x = new MutationObserver(function (mutations, observer) {{\n        var display = window.getComputedStyle(gd).display;\n        if (!display || display === 'none') {{\n            console.log([gd, 'removed!']);\n            Plotly.purge(gd);\n            observer.disconnect();\n        }}\n}});\n\n// Listen for the removal of the full notebook cells\nvar notebookContainer = gd.closest('#notebook-container');\nif (notebookContainer) {{\n    x.observe(notebookContainer, {childList: true});\n}}\n\n// Listen for the clearing of the current output cell\nvar outputEl = gd.closest('.output');\nif (outputEl) {{\n    x.observe(outputEl, {childList: true});\n}}\n\n                        })                };                });            </script>        </div>"
     },
     "metadata": {},
     "output_type": "display_data"
    }
   ],
   "source": [
    "fig = ff.create_distplot([charges_averages], ['displot'], bin_size=100)\n",
    "fig.show()"
   ],
   "metadata": {
    "collapsed": false,
    "pycharm": {
     "name": "#%%\n"
    }
   }
  },
  {
   "cell_type": "markdown",
   "source": [
    " Найти стандартное отклонение и среднее для полученных распределений."
   ],
   "metadata": {
    "collapsed": false
   }
  },
  {
   "cell_type": "code",
   "execution_count": 315,
   "outputs": [
    {
     "name": "stdout",
     "output_type": "stream",
     "text": [
      "> bmi averages characteristics:\n",
      "\tmedian: 30.6716725\n",
      "\tstandard deviation: 0.09901412704456315\n",
      "> charges averages characteristics:\n",
      "\tmedian: 13257.5668911145\n",
      "\tstandard deviation: 192.45740253150618\n"
     ]
    }
   ],
   "source": [
    "averages_df = {'bmi': pd.Series(bmi_averages), 'charges': pd.Series(charges_averages)}\n",
    "\n",
    "print(f\"> bmi averages characteristics:\\n\\t\"\n",
    "      f\"median: {np.median(averages_df['bmi'])}\\n\\t\"\n",
    "      f\"standard deviation: {averages_df['bmi'].std()}\")\n",
    "print(f\"> charges averages characteristics:\\n\\t\"\n",
    "      f\"median: {np.median(averages_df['charges'])}\\n\\t\"\n",
    "      f\"standard deviation: {averages_df['charges'].std()}\")"
   ],
   "metadata": {
    "collapsed": false,
    "pycharm": {
     "name": "#%%\n"
    }
   }
  },
  {
   "cell_type": "markdown",
   "source": [
    "## 7. Построить 95% и 99% доверительный интервал для среднего значения расходов и среднего значения индекса массы тела."
   ],
   "metadata": {
    "collapsed": false
   }
  },
  {
   "cell_type": "markdown",
   "source": [
    "Рассчитаем стандартные ошибки для индекса массы тела и расходов"
   ],
   "metadata": {
    "collapsed": false
   }
  },
  {
   "cell_type": "code",
   "execution_count": 320,
   "outputs": [
    {
     "name": "stdout",
     "output_type": "stream",
     "text": [
      "SE for bmi = 0.9699234474675082\n",
      "SE for charges = 419.24107607959337\n"
     ]
    }
   ],
   "source": [
    "SE_bmi = np.median(averages_df['bmi'])/(1000)**(1/2)\n",
    "SE_charges = np.median(averages_df['charges'])/(1000)**(1/2)\n",
    "print(f\"SE for bmi = {SE_bmi}\\nSE for charges = {SE_charges}\")"
   ],
   "metadata": {
    "collapsed": false,
    "pycharm": {
     "name": "#%%\n"
    }
   }
  },
  {
   "cell_type": "markdown",
   "source": [
    "Построим доверительный интервал"
   ],
   "metadata": {
    "collapsed": false
   }
  },
  {
   "cell_type": "code",
   "execution_count": 330,
   "outputs": [
    {
     "data": {
      "text/plain": "{'bmi': {'95%': [28.77, 32.57], '99%': [28.17, 33.17]},\n 'charges': {'95%': [13255.67, 13259.47], '99%': [13255.06, 13260.07]}}"
     },
     "execution_count": 330,
     "metadata": {},
     "output_type": "execute_result"
    }
   ],
   "source": [
    "def get_interval(data: dict, SE: list, show:bool) -> dict:\n",
    "      if len(data.keys()) == len(SE):\n",
    "            answer = dict()\n",
    "            num = 0\n",
    "            for key in data.keys():\n",
    "                  median = np.median(data[key])\n",
    "                  answer[key] = {'95%': [round(median - 1.96 * SE[num], 2), round(median + 1.96 * SE[num], 2)],\n",
    "                                 '99%': [round(median - 2.58 * SE[num], 2), round(median + 2.58 * SE[num], 2)]}\n",
    "\n",
    "            if show:\n",
    "                  for key in data.keys():\n",
    "                        print(f\"> {key} characteristics:\\n{answer[key]}\")\n",
    "      return answer\n",
    "\n",
    "get_interval(averages_df, [SE_bmi, SE_charges], False)"
   ],
   "metadata": {
    "collapsed": false,
    "pycharm": {
     "name": "#%%\n"
    }
   }
  },
  {
   "cell_type": "markdown",
   "source": [
    "## 8. Проверить распределения следующих признаков на нормальность: индекс массы тела, расходы. Сформулировать нулевую и альтернативную гипотезы. Для каждого признака использовать KS-тест и q-q plot. Сделать выводы на основе полученных p-значений."
   ],
   "metadata": {
    "collapsed": false
   }
  },
  {
   "cell_type": "markdown",
   "source": [
    "Проверяем на нормальность"
   ],
   "metadata": {
    "collapsed": false
   }
  },
  {
   "cell_type": "code",
   "execution_count": 331,
   "outputs": [
    {
     "data": {
      "application/vnd.plotly.v1+json": {
       "data": [
        {
         "alignmentgroup": "True",
         "bingroup": "x",
         "hovertemplate": "variable=bmi<br>value=%{x}<br>count=%{y}<extra></extra>",
         "legendgroup": "bmi",
         "marker": {
          "color": "#636efa",
          "pattern": {
           "shape": ""
          },
          "line": {
           "color": "grey",
           "width": 2
          },
          "coloraxis": "coloraxis"
         },
         "name": "bmi",
         "nbinsx": 20,
         "offsetgroup": "bmi",
         "orientation": "v",
         "showlegend": true,
         "x": [
          29.45,
          31.02,
          26.73,
          17.29,
          22.135,
          30.78,
          31.92,
          22.515,
          32.205,
          38.28,
          29.3,
          36.48,
          29.9,
          18.905,
          48.07,
          26.03,
          19.57,
          34.8,
          24.32,
          29.8,
          44.745,
          29.83,
          31.92,
          49.06,
          27.36,
          35.815,
          31.35,
          31.46,
          30.305,
          15.96,
          31.635,
          28.5,
          34.8,
          24.09,
          27.1,
          43.34,
          30.03,
          34.96,
          47.6,
          28.025,
          23.3,
          21.47,
          28.0,
          33.11,
          28.7,
          24.13,
          28.975,
          26.22,
          32.68,
          26.6,
          23.8,
          33.25,
          27.3,
          46.53,
          32.11,
          26.51,
          30.3,
          25.365,
          27.17,
          25.175,
          29.64,
          31.16,
          35.815,
          39.7,
          28.88,
          35.86,
          22.42,
          21.8,
          25.935,
          39.615,
          24.225,
          29.81,
          26.41,
          26.84,
          24.3,
          25.365,
          39.52,
          36.7,
          28.88,
          33.11,
          25.3,
          31.065,
          22.6,
          37.29,
          31.255,
          33.11,
          38.83,
          34.1,
          31.68,
          29.83,
          35.2,
          24.035,
          35.15,
          32.775,
          33.7,
          30.685,
          26.695,
          29.59,
          30.8,
          31.0,
          30.8,
          45.9,
          29.7,
          42.4,
          33.88,
          37.3,
          28.6,
          27.74,
          32.395,
          32.585,
          40.48,
          22.42,
          35.8,
          37.9,
          34.8,
          30.0,
          52.58,
          26.4,
          30.78,
          28.31,
          30.02,
          26.22,
          16.815,
          39.9,
          39.82,
          33.4,
          31.635,
          22.1,
          46.09,
          42.9,
          35.3,
          23.465,
          35.97,
          26.8,
          38.83,
          27.645,
          22.705,
          25.84,
          32.49,
          21.66,
          30.59,
          21.09,
          35.53,
          32.8,
          44.77,
          35.53,
          21.3,
          32.34,
          16.815,
          27.265,
          22.23,
          41.8,
          38.06,
          17.29,
          31.35,
          37.51,
          33.725,
          24.86,
          18.3,
          37.715,
          36.765,
          33.63,
          23.7,
          33.0,
          30.8,
          47.52,
          35.7,
          29.92,
          39.5,
          40.28,
          24.4,
          28.27,
          30.495,
          35.2,
          25.52,
          33.33,
          27.265,
          33.63,
          36.67,
          24.795,
          33.7,
          38.095,
          24.795,
          38.06,
          25.84,
          33.155,
          33.99,
          29.735,
          29.83,
          22.895,
          30.69,
          23.87,
          33.5,
          40.37,
          30.4,
          25.08,
          22.23,
          30.5,
          26.315,
          33.82,
          26.315,
          30.21,
          22.0,
          26.79,
          27.6,
          29.59,
          39.16,
          25.8,
          31.79,
          42.655,
          37.4,
          31.73,
          23.085,
          19.95,
          23.56,
          36.85,
          31.68,
          18.5,
          37.905,
          30.115,
          36.2,
          31.79,
          24.89,
          25.46,
          32.49,
          32.3,
          33.155,
          25.555,
          37.145,
          39.14,
          27.83,
          30.685,
          38.94,
          24.51,
          28.05,
          43.89,
          32.9,
          28.05,
          36.3,
          33.535,
          26.125,
          27.94,
          37.43,
          29.7,
          36.575,
          30.495,
          26.125,
          27.36,
          30.2,
          28.595,
          26.885,
          37.07,
          24.32,
          30.115,
          18.335,
          33.2,
          28.88,
          36.385,
          29.04,
          19.0,
          37.05,
          31.445,
          23.94,
          38.665,
          25.08,
          23.0,
          21.66,
          50.38,
          28.215,
          35.86,
          26.6,
          25.84,
          27.72,
          36.0,
          33.63,
          36.85,
          31.6,
          36.6,
          37.7,
          29.355,
          33.1,
          36.67,
          19.95,
          23.7,
          21.755,
          17.765,
          20.13,
          29.7,
          21.28,
          32.56,
          47.41,
          32.68,
          25.85,
          28.5,
          28.025,
          28.975,
          27.645,
          32.6,
          28.12,
          36.005,
          23.37,
          40.565,
          27.6,
          32.775,
          23.845,
          32.205,
          26.125,
          35.53,
          19.475,
          22.3,
          34.32,
          20.9,
          20.35,
          28.8,
          25.935,
          25.175,
          20.79,
          35.2,
          32.965,
          27.36,
          31.35,
          30.495,
          30.8,
          23.9,
          44.0,
          25.8,
          21.85,
          26.03,
          20.425,
          35.6,
          28.49,
          17.8,
          20.8,
          27.28,
          24.7,
          40.81,
          29.5,
          31.9,
          28.3,
          22.61,
          33.155,
          30.97,
          41.325,
          27.55,
          36.86,
          28.215,
          37.1,
          25.175,
          31.13,
          22.135,
          41.47,
          30.21,
          34.1,
          30.14,
          34.32,
          33.55,
          29.6,
          36.08,
          29.6,
          22.6,
          30.875,
          26.885,
          32.775,
          23.18,
          23.2,
          31.16,
          19.95,
          33.44,
          34.21,
          24.42,
          24.605,
          28.595,
          29.2,
          35.75,
          20.6,
          17.4,
          29.26,
          27.6,
          35.815,
          43.7,
          44.7,
          34.9,
          30.875,
          25.46,
          17.48,
          24.32,
          35.4,
          28.88,
          33.44,
          34.105,
          32.5,
          35.75,
          30.9,
          28.975,
          25.3,
          27.72,
          24.51,
          24.6,
          31.8,
          30.59,
          30.9,
          27.5,
          28.0,
          31.35,
          38.0,
          36.29,
          25.0,
          25.08,
          26.41,
          27.0,
          39.16,
          38.06,
          30.1,
          18.335,
          36.19,
          36.575,
          27.6,
          26.7,
          41.14,
          41.325,
          30.8,
          34.7,
          30.25,
          33.33,
          27.74,
          26.98,
          28.69,
          25.8,
          29.925,
          33.345,
          25.1,
          30.115,
          39.6,
          30.8,
          29.64,
          32.3,
          37.43,
          25.9,
          28.595,
          30.495,
          26.41,
          36.67,
          38.19,
          25.935,
          28.1,
          24.795,
          33.535,
          32.965,
          32.0,
          35.2,
          38.06,
          27.5,
          30.5,
          29.92,
          24.225,
          32.9,
          38.95,
          22.3,
          27.835,
          30.59,
          34.675,
          40.3,
          31.1,
          28.88,
          39.33,
          31.57,
          33.99,
          24.605,
          35.53,
          40.375,
          39.2,
          25.2,
          33.33,
          32.2,
          22.515,
          27.645,
          21.375,
          25.27,
          45.54,
          39.6,
          24.1,
          29.26,
          46.53,
          35.435,
          38.38,
          30.5,
          23.1,
          31.92,
          30.21,
          28.16,
          34.01,
          25.6,
          31.35,
          37.1,
          34.77,
          35.31,
          31.255,
          26.885,
          32.3,
          18.335,
          38.39,
          30.875,
          20.7,
          28.82,
          31.16,
          41.895,
          27.455,
          20.045,
          39.05,
          34.21,
          29.92,
          36.1,
          37.07,
          28.9,
          31.3,
          33.63,
          23.4,
          32.67,
          27.645,
          39.27,
          30.115,
          30.2,
          36.385,
          33.66,
          25.175,
          22.8,
          32.3,
          22.515,
          17.67,
          42.24,
          27.74,
          26.73,
          30.115,
          34.4,
          35.3,
          39.995,
          22.135,
          26.505,
          34.43,
          42.13,
          29.7,
          35.5,
          33.7,
          26.22,
          34.39,
          26.62,
          34.6,
          31.5,
          41.47,
          22.04,
          25.6,
          36.765,
          37.335,
          37.62,
          23.75,
          30.4,
          26.03,
          39.49,
          34.3,
          37.1,
          22.99,
          24.985,
          25.84,
          34.2,
          39.05,
          21.375,
          31.73,
          34.4,
          46.53,
          28.2,
          32.68,
          25.74,
          31.4,
          28.5,
          26.03,
          35.42,
          38.0,
          34.77,
          23.75,
          27.36,
          36.48,
          26.98,
          36.2,
          33.0,
          24.97,
          27.1,
          28.05,
          26.885,
          34.4,
          21.5,
          31.825,
          28.025,
          30.03,
          34.8,
          30.2,
          28.405,
          32.2,
          27.645,
          20.235,
          21.89,
          34.1,
          41.14,
          39.05,
          40.28,
          38.17,
          25.555,
          30.495,
          47.74,
          27.1,
          25.3,
          30.3,
          23.21,
          32.8,
          24.32,
          24.035,
          27.93,
          26.125,
          19.8,
          30.21,
          24.225,
          34.96,
          28.785,
          27.72,
          33.82,
          35.625,
          37.29,
          32.11,
          31.35,
          31.73,
          26.18,
          27.2,
          53.13,
          30.59,
          31.35,
          23.21,
          27.93,
          29.735,
          35.86,
          20.615,
          39.16,
          33.25,
          27.835,
          19.19,
          27.265,
          28.785,
          19.3,
          27.74,
          30.2,
          24.13,
          25.46,
          37.73,
          30.875,
          42.13,
          33.66,
          18.05,
          35.2,
          33.66,
          29.83,
          33.915,
          32.3,
          25.365,
          41.47,
          24.13,
          27.835,
          33.155,
          20.235,
          35.245,
          28.215,
          23.21,
          37.18,
          28.31,
          26.98,
          40.185,
          30.69,
          24.7,
          25.8,
          34.865,
          35.1,
          35.53,
          29.9,
          32.11,
          37.0,
          36.85,
          29.83,
          20.4,
          32.67,
          27.5,
          26.6,
          29.0,
          28.27,
          30.495,
          36.85,
          39.8,
          28.9,
          33.1,
          21.945,
          30.875,
          34.8,
          33.0,
          31.9,
          22.8,
          29.83,
          29.64,
          23.65,
          30.14,
          28.975,
          25.8,
          29.64,
          39.7,
          23.845,
          26.6,
          46.75,
          26.03,
          33.63,
          21.755,
          32.01,
          25.46,
          34.865,
          29.925,
          29.48,
          20.9,
          36.0,
          29.735,
          28.6,
          34.1,
          42.13,
          17.955,
          19.095,
          38.39,
          27.74,
          36.955,
          26.9,
          23.275,
          23.76,
          24.605,
          27.7,
          26.6,
          35.91,
          26.41,
          18.6,
          40.945,
          24.86,
          29.48,
          27.6,
          28.6,
          34.295,
          27.835,
          37.29,
          24.53,
          28.025,
          27.2,
          25.8,
          33.0,
          35.75,
          31.02,
          29.1,
          32.3,
          26.41,
          27.93,
          31.79,
          26.695,
          29.8,
          35.2,
          27.9,
          30.305,
          34.105,
          35.72,
          23.18,
          38.17,
          26.4,
          38.39,
          29.92,
          32.23,
          32.45,
          35.3,
          32.23,
          27.7,
          21.47,
          40.15,
          31.92,
          44.22,
          29.07,
          27.645,
          40.26,
          29.735,
          40.37,
          33.8,
          19.95,
          30.875,
          27.075,
          31.9,
          29.64,
          39.6,
          27.5,
          25.7,
          31.6,
          23.655,
          24.415,
          20.235,
          32.2,
          25.9,
          24.035,
          36.96,
          32.01,
          25.745,
          36.08,
          35.97,
          20.52,
          32.395,
          40.92,
          31.825,
          32.965,
          33.0,
          21.85,
          22.77,
          36.1,
          34.1,
          36.955,
          24.64,
          28.31,
          30.495,
          22.895,
          20.045,
          38.0,
          36.52,
          40.26,
          32.6,
          28.12,
          26.79,
          39.82,
          28.595,
          21.755,
          41.91,
          27.74,
          28.69,
          29.165,
          27.4,
          22.135,
          26.07,
          25.46,
          23.37,
          32.11,
          27.4,
          26.62,
          42.75,
          41.91,
          21.66,
          29.7,
          26.695,
          33.915,
          36.955,
          35.625,
          34.1,
          32.775,
          28.9,
          45.32,
          33.33,
          36.3,
          29.26,
          24.31,
          37.43,
          28.4,
          30.8,
          29.48,
          30.4,
          25.08,
          36.86,
          34.43,
          32.395,
          23.4,
          36.85,
          21.78,
          24.32,
          27.94,
          29.81,
          36.765,
          30.02,
          21.565,
          17.86,
          33.66,
          33.44,
          33.1,
          31.5,
          39.1,
          32.56,
          43.01,
          24.795,
          23.75,
          37.62,
          30.5,
          23.37,
          25.6,
          34.43,
          36.63,
          25.745,
          37.8,
          23.18,
          46.2,
          29.37,
          37.51,
          32.3,
          30.875,
          25.46,
          35.8,
          31.065,
          25.3,
          25.41,
          29.92,
          28.93,
          41.42,
          31.35,
          33.82,
          23.56,
          33.345,
          25.3,
          28.0,
          28.3,
          28.88,
          29.0,
          27.55,
          33.06,
          32.3,
          31.6,
          38.6,
          33.3,
          22.895,
          25.8,
          30.8,
          32.395,
          33.33,
          40.5,
          42.13,
          17.385,
          32.78,
          34.2,
          34.43,
          38.9,
          21.755,
          37.07,
          35.245,
          33.88,
          23.655,
          33.535,
          38.095,
          20.235,
          33.11,
          23.32,
          28.595,
          36.63,
          28.38,
          34.485,
          33.915,
          33.77,
          29.15,
          24.32,
          38.28,
          26.84,
          34.2,
          19.95,
          19.855,
          38.94,
          36.19,
          32.775,
          34.8,
          24.51,
          37.29,
          24.75,
          28.31,
          41.1,
          26.695,
          21.12,
          32.965,
          23.54,
          37.1,
          34.2,
          23.6,
          26.6,
          28.785,
          23.6,
          30.59,
          38.06,
          31.54,
          30.2,
          28.31,
          38.285,
          44.88,
          30.495,
          29.81,
          25.27,
          31.73,
          30.0,
          28.88,
          39.49,
          40.47,
          21.85,
          27.835,
          42.9,
          28.785,
          31.13,
          23.085,
          21.4,
          24.1,
          36.4,
          34.2,
          38.095,
          30.4,
          31.57,
          27.265,
          41.23,
          34.8,
          24.31,
          25.7,
          33.4,
          22.99,
          38.17,
          28.7,
          42.94,
          28.215,
          27.06,
          35.9,
          32.3,
          24.6,
          37.1,
          31.825,
          34.1,
          26.4,
          31.065,
          24.13,
          36.19,
          36.955,
          35.97,
          41.8,
          27.36,
          30.03,
          33.1,
          29.925,
          33.155,
          34.77,
          35.625,
          22.42,
          29.545,
          40.565,
          22.515,
          22.61,
          33.33,
          38.83,
          23.98,
          26.8,
          28.975,
          31.13,
          26.51,
          21.01,
          35.97,
          35.72,
          29.92,
          29.26,
          28.9,
          40.66,
          32.9,
          24.605,
          34.1,
          36.3,
          31.4,
          32.7,
          27.36,
          32.8,
          34.39,
          23.98,
          27.5,
          22.705,
          26.315,
          27.1,
          34.58,
          35.815,
          35.3,
          42.4,
          26.22,
          32.11,
          24.985,
          37.18,
          24.3,
          29.37,
          40.185,
          29.355,
          22.895,
          33.4,
          23.18,
          45.43,
          32.3,
          41.325,
          43.12,
          27.645,
          31.13,
          25.84,
          30.4,
          25.4,
          21.4,
          36.86,
          30.02,
          22.515,
          30.9,
          31.79,
          30.3,
          27.83,
          32.015,
          28.785,
          36.63,
          37.05,
          30.78,
          28.595,
          32.3,
          30.36,
          22.61,
          22.99,
          29.07,
          20.6,
          33.345,
          32.7,
          27.55,
          33.66,
          29.8,
          29.3,
          42.46,
          40.565,
          28.93,
          34.7,
          25.175,
          36.3,
          28.4,
          32.87,
          26.41,
          42.68,
          34.105,
          28.5,
          23.21,
          27.5,
          21.7,
          38.06,
          17.195,
          46.7,
          32.395,
          23.465,
          28.5,
          32.11,
          30.78,
          27.72,
          26.315,
          26.2,
          33.345,
          31.0,
          24.3,
          33.88,
          31.73,
          37.73,
          28.69,
          26.18,
          33.345,
          24.42,
          25.74,
          28.7,
          27.94,
          36.67,
          24.7,
          29.15,
          28.31,
          30.1,
          39.49,
          23.21,
          41.91,
          23.655,
          34.58,
          32.3,
          38.38,
          25.08,
          31.92,
          25.745,
          33.915,
          25.6,
          27.8,
          20.52,
          25.9,
          34.5,
          26.29,
          35.86,
          25.74,
          20.3,
          22.22,
          36.1,
          28.1,
          19.8,
          28.31,
          32.775,
          37.05,
          21.56,
          25.555,
          34.4,
          30.78,
          21.85,
          31.16,
          26.4,
          32.34,
          21.47,
          43.89,
          28.405,
          27.55,
          33.725,
          24.6,
          33.33,
          30.685,
          30.59,
          43.4,
          28.12,
          31.73,
          28.7,
          38.28,
          32.68,
          33.63,
          34.105,
          33.82,
          24.7,
          35.53,
          25.0,
          34.87,
          25.27,
          35.625,
          39.71,
          36.08,
          32.1,
          27.83,
          24.42,
          28.12,
          37.4,
          27.455,
          31.2,
          38.06,
          26.695,
          37.335,
          39.82,
          40.15,
          19.8,
          30.875,
          26.7,
          33.77,
          34.485,
          44.22,
          34.21,
          31.02,
          39.5,
          34.96,
          22.88,
          21.78,
          30.2,
          24.32,
          23.655,
          39.805,
          32.3,
          33.0,
          32.015,
          33.44,
          31.825,
          35.64,
          26.315,
          32.12,
          19.855,
          18.715,
          34.32,
          38.6,
          23.655,
          31.54,
          29.6,
          30.59,
          33.25,
          17.29,
          36.08,
          25.74,
          27.93,
          35.09,
          32.775,
          22.705,
          27.83,
          31.46,
          31.4,
          35.31,
          28.9,
          27.61,
          37.4,
          31.255,
          31.065,
          32.11,
          28.88,
          29.81,
          28.31,
          29.6,
          19.95,
          34.6,
          36.48,
          25.65,
          23.98,
          39.4,
          35.91,
          30.25,
          20.1,
          28.7,
          23.18,
          39.425,
          28.31,
          39.805,
          22.61,
          29.4,
          31.24,
          37.525,
          41.23,
          25.175,
          30.02,
          27.7,
          29.9,
          39.93,
          37.1,
          20.8,
          35.2,
          30.115,
          31.825,
          23.845,
          34.21,
          28.025,
          37.0,
          25.46,
          41.69,
          29.8,
          32.4,
          27.17,
          36.195,
          33.3,
          40.15,
          42.35,
          27.36,
          31.445,
          28.93
         ],
         "xaxis": "x",
         "yaxis": "y",
         "type": "histogram",
         "textfont": {
          "size": 14
         },
         "textangle": 0,
         "textposition": "outside"
        }
       ],
       "layout": {
        "template": {
         "data": {
          "histogram2dcontour": [
           {
            "type": "histogram2dcontour",
            "colorbar": {
             "outlinewidth": 0,
             "ticks": ""
            },
            "colorscale": [
             [
              0.0,
              "#0d0887"
             ],
             [
              0.1111111111111111,
              "#46039f"
             ],
             [
              0.2222222222222222,
              "#7201a8"
             ],
             [
              0.3333333333333333,
              "#9c179e"
             ],
             [
              0.4444444444444444,
              "#bd3786"
             ],
             [
              0.5555555555555556,
              "#d8576b"
             ],
             [
              0.6666666666666666,
              "#ed7953"
             ],
             [
              0.7777777777777778,
              "#fb9f3a"
             ],
             [
              0.8888888888888888,
              "#fdca26"
             ],
             [
              1.0,
              "#f0f921"
             ]
            ]
           }
          ],
          "choropleth": [
           {
            "type": "choropleth",
            "colorbar": {
             "outlinewidth": 0,
             "ticks": ""
            }
           }
          ],
          "histogram2d": [
           {
            "type": "histogram2d",
            "colorbar": {
             "outlinewidth": 0,
             "ticks": ""
            },
            "colorscale": [
             [
              0.0,
              "#0d0887"
             ],
             [
              0.1111111111111111,
              "#46039f"
             ],
             [
              0.2222222222222222,
              "#7201a8"
             ],
             [
              0.3333333333333333,
              "#9c179e"
             ],
             [
              0.4444444444444444,
              "#bd3786"
             ],
             [
              0.5555555555555556,
              "#d8576b"
             ],
             [
              0.6666666666666666,
              "#ed7953"
             ],
             [
              0.7777777777777778,
              "#fb9f3a"
             ],
             [
              0.8888888888888888,
              "#fdca26"
             ],
             [
              1.0,
              "#f0f921"
             ]
            ]
           }
          ],
          "heatmap": [
           {
            "type": "heatmap",
            "colorbar": {
             "outlinewidth": 0,
             "ticks": ""
            },
            "colorscale": [
             [
              0.0,
              "#0d0887"
             ],
             [
              0.1111111111111111,
              "#46039f"
             ],
             [
              0.2222222222222222,
              "#7201a8"
             ],
             [
              0.3333333333333333,
              "#9c179e"
             ],
             [
              0.4444444444444444,
              "#bd3786"
             ],
             [
              0.5555555555555556,
              "#d8576b"
             ],
             [
              0.6666666666666666,
              "#ed7953"
             ],
             [
              0.7777777777777778,
              "#fb9f3a"
             ],
             [
              0.8888888888888888,
              "#fdca26"
             ],
             [
              1.0,
              "#f0f921"
             ]
            ]
           }
          ],
          "heatmapgl": [
           {
            "type": "heatmapgl",
            "colorbar": {
             "outlinewidth": 0,
             "ticks": ""
            },
            "colorscale": [
             [
              0.0,
              "#0d0887"
             ],
             [
              0.1111111111111111,
              "#46039f"
             ],
             [
              0.2222222222222222,
              "#7201a8"
             ],
             [
              0.3333333333333333,
              "#9c179e"
             ],
             [
              0.4444444444444444,
              "#bd3786"
             ],
             [
              0.5555555555555556,
              "#d8576b"
             ],
             [
              0.6666666666666666,
              "#ed7953"
             ],
             [
              0.7777777777777778,
              "#fb9f3a"
             ],
             [
              0.8888888888888888,
              "#fdca26"
             ],
             [
              1.0,
              "#f0f921"
             ]
            ]
           }
          ],
          "contourcarpet": [
           {
            "type": "contourcarpet",
            "colorbar": {
             "outlinewidth": 0,
             "ticks": ""
            }
           }
          ],
          "contour": [
           {
            "type": "contour",
            "colorbar": {
             "outlinewidth": 0,
             "ticks": ""
            },
            "colorscale": [
             [
              0.0,
              "#0d0887"
             ],
             [
              0.1111111111111111,
              "#46039f"
             ],
             [
              0.2222222222222222,
              "#7201a8"
             ],
             [
              0.3333333333333333,
              "#9c179e"
             ],
             [
              0.4444444444444444,
              "#bd3786"
             ],
             [
              0.5555555555555556,
              "#d8576b"
             ],
             [
              0.6666666666666666,
              "#ed7953"
             ],
             [
              0.7777777777777778,
              "#fb9f3a"
             ],
             [
              0.8888888888888888,
              "#fdca26"
             ],
             [
              1.0,
              "#f0f921"
             ]
            ]
           }
          ],
          "surface": [
           {
            "type": "surface",
            "colorbar": {
             "outlinewidth": 0,
             "ticks": ""
            },
            "colorscale": [
             [
              0.0,
              "#0d0887"
             ],
             [
              0.1111111111111111,
              "#46039f"
             ],
             [
              0.2222222222222222,
              "#7201a8"
             ],
             [
              0.3333333333333333,
              "#9c179e"
             ],
             [
              0.4444444444444444,
              "#bd3786"
             ],
             [
              0.5555555555555556,
              "#d8576b"
             ],
             [
              0.6666666666666666,
              "#ed7953"
             ],
             [
              0.7777777777777778,
              "#fb9f3a"
             ],
             [
              0.8888888888888888,
              "#fdca26"
             ],
             [
              1.0,
              "#f0f921"
             ]
            ]
           }
          ],
          "mesh3d": [
           {
            "type": "mesh3d",
            "colorbar": {
             "outlinewidth": 0,
             "ticks": ""
            }
           }
          ],
          "scatter": [
           {
            "fillpattern": {
             "fillmode": "overlay",
             "size": 10,
             "solidity": 0.2
            },
            "type": "scatter"
           }
          ],
          "parcoords": [
           {
            "type": "parcoords",
            "line": {
             "colorbar": {
              "outlinewidth": 0,
              "ticks": ""
             }
            }
           }
          ],
          "scatterpolargl": [
           {
            "type": "scatterpolargl",
            "marker": {
             "colorbar": {
              "outlinewidth": 0,
              "ticks": ""
             }
            }
           }
          ],
          "bar": [
           {
            "error_x": {
             "color": "#2a3f5f"
            },
            "error_y": {
             "color": "#2a3f5f"
            },
            "marker": {
             "line": {
              "color": "#E5ECF6",
              "width": 0.5
             },
             "pattern": {
              "fillmode": "overlay",
              "size": 10,
              "solidity": 0.2
             }
            },
            "type": "bar"
           }
          ],
          "scattergeo": [
           {
            "type": "scattergeo",
            "marker": {
             "colorbar": {
              "outlinewidth": 0,
              "ticks": ""
             }
            }
           }
          ],
          "scatterpolar": [
           {
            "type": "scatterpolar",
            "marker": {
             "colorbar": {
              "outlinewidth": 0,
              "ticks": ""
             }
            }
           }
          ],
          "histogram": [
           {
            "marker": {
             "pattern": {
              "fillmode": "overlay",
              "size": 10,
              "solidity": 0.2
             }
            },
            "type": "histogram"
           }
          ],
          "scattergl": [
           {
            "type": "scattergl",
            "marker": {
             "colorbar": {
              "outlinewidth": 0,
              "ticks": ""
             }
            }
           }
          ],
          "scatter3d": [
           {
            "type": "scatter3d",
            "line": {
             "colorbar": {
              "outlinewidth": 0,
              "ticks": ""
             }
            },
            "marker": {
             "colorbar": {
              "outlinewidth": 0,
              "ticks": ""
             }
            }
           }
          ],
          "scattermapbox": [
           {
            "type": "scattermapbox",
            "marker": {
             "colorbar": {
              "outlinewidth": 0,
              "ticks": ""
             }
            }
           }
          ],
          "scatterternary": [
           {
            "type": "scatterternary",
            "marker": {
             "colorbar": {
              "outlinewidth": 0,
              "ticks": ""
             }
            }
           }
          ],
          "scattercarpet": [
           {
            "type": "scattercarpet",
            "marker": {
             "colorbar": {
              "outlinewidth": 0,
              "ticks": ""
             }
            }
           }
          ],
          "carpet": [
           {
            "aaxis": {
             "endlinecolor": "#2a3f5f",
             "gridcolor": "white",
             "linecolor": "white",
             "minorgridcolor": "white",
             "startlinecolor": "#2a3f5f"
            },
            "baxis": {
             "endlinecolor": "#2a3f5f",
             "gridcolor": "white",
             "linecolor": "white",
             "minorgridcolor": "white",
             "startlinecolor": "#2a3f5f"
            },
            "type": "carpet"
           }
          ],
          "table": [
           {
            "cells": {
             "fill": {
              "color": "#EBF0F8"
             },
             "line": {
              "color": "white"
             }
            },
            "header": {
             "fill": {
              "color": "#C8D4E3"
             },
             "line": {
              "color": "white"
             }
            },
            "type": "table"
           }
          ],
          "barpolar": [
           {
            "marker": {
             "line": {
              "color": "#E5ECF6",
              "width": 0.5
             },
             "pattern": {
              "fillmode": "overlay",
              "size": 10,
              "solidity": 0.2
             }
            },
            "type": "barpolar"
           }
          ],
          "pie": [
           {
            "automargin": true,
            "type": "pie"
           }
          ]
         },
         "layout": {
          "autotypenumbers": "strict",
          "colorway": [
           "#636efa",
           "#EF553B",
           "#00cc96",
           "#ab63fa",
           "#FFA15A",
           "#19d3f3",
           "#FF6692",
           "#B6E880",
           "#FF97FF",
           "#FECB52"
          ],
          "font": {
           "color": "#2a3f5f"
          },
          "hovermode": "closest",
          "hoverlabel": {
           "align": "left"
          },
          "paper_bgcolor": "white",
          "plot_bgcolor": "#E5ECF6",
          "polar": {
           "bgcolor": "#E5ECF6",
           "angularaxis": {
            "gridcolor": "white",
            "linecolor": "white",
            "ticks": ""
           },
           "radialaxis": {
            "gridcolor": "white",
            "linecolor": "white",
            "ticks": ""
           }
          },
          "ternary": {
           "bgcolor": "#E5ECF6",
           "aaxis": {
            "gridcolor": "white",
            "linecolor": "white",
            "ticks": ""
           },
           "baxis": {
            "gridcolor": "white",
            "linecolor": "white",
            "ticks": ""
           },
           "caxis": {
            "gridcolor": "white",
            "linecolor": "white",
            "ticks": ""
           }
          },
          "coloraxis": {
           "colorbar": {
            "outlinewidth": 0,
            "ticks": ""
           }
          },
          "colorscale": {
           "sequential": [
            [
             0.0,
             "#0d0887"
            ],
            [
             0.1111111111111111,
             "#46039f"
            ],
            [
             0.2222222222222222,
             "#7201a8"
            ],
            [
             0.3333333333333333,
             "#9c179e"
            ],
            [
             0.4444444444444444,
             "#bd3786"
            ],
            [
             0.5555555555555556,
             "#d8576b"
            ],
            [
             0.6666666666666666,
             "#ed7953"
            ],
            [
             0.7777777777777778,
             "#fb9f3a"
            ],
            [
             0.8888888888888888,
             "#fdca26"
            ],
            [
             1.0,
             "#f0f921"
            ]
           ],
           "sequentialminus": [
            [
             0.0,
             "#0d0887"
            ],
            [
             0.1111111111111111,
             "#46039f"
            ],
            [
             0.2222222222222222,
             "#7201a8"
            ],
            [
             0.3333333333333333,
             "#9c179e"
            ],
            [
             0.4444444444444444,
             "#bd3786"
            ],
            [
             0.5555555555555556,
             "#d8576b"
            ],
            [
             0.6666666666666666,
             "#ed7953"
            ],
            [
             0.7777777777777778,
             "#fb9f3a"
            ],
            [
             0.8888888888888888,
             "#fdca26"
            ],
            [
             1.0,
             "#f0f921"
            ]
           ],
           "diverging": [
            [
             0,
             "#8e0152"
            ],
            [
             0.1,
             "#c51b7d"
            ],
            [
             0.2,
             "#de77ae"
            ],
            [
             0.3,
             "#f1b6da"
            ],
            [
             0.4,
             "#fde0ef"
            ],
            [
             0.5,
             "#f7f7f7"
            ],
            [
             0.6,
             "#e6f5d0"
            ],
            [
             0.7,
             "#b8e186"
            ],
            [
             0.8,
             "#7fbc41"
            ],
            [
             0.9,
             "#4d9221"
            ],
            [
             1,
             "#276419"
            ]
           ]
          },
          "xaxis": {
           "gridcolor": "white",
           "linecolor": "white",
           "ticks": "",
           "title": {
            "standoff": 15
           },
           "zerolinecolor": "white",
           "automargin": true,
           "zerolinewidth": 2
          },
          "yaxis": {
           "gridcolor": "white",
           "linecolor": "white",
           "ticks": "",
           "title": {
            "standoff": 15
           },
           "zerolinecolor": "white",
           "automargin": true,
           "zerolinewidth": 2
          },
          "scene": {
           "xaxis": {
            "backgroundcolor": "#E5ECF6",
            "gridcolor": "white",
            "linecolor": "white",
            "showbackground": true,
            "ticks": "",
            "zerolinecolor": "white",
            "gridwidth": 2
           },
           "yaxis": {
            "backgroundcolor": "#E5ECF6",
            "gridcolor": "white",
            "linecolor": "white",
            "showbackground": true,
            "ticks": "",
            "zerolinecolor": "white",
            "gridwidth": 2
           },
           "zaxis": {
            "backgroundcolor": "#E5ECF6",
            "gridcolor": "white",
            "linecolor": "white",
            "showbackground": true,
            "ticks": "",
            "zerolinecolor": "white",
            "gridwidth": 2
           }
          },
          "shapedefaults": {
           "line": {
            "color": "#2a3f5f"
           }
          },
          "annotationdefaults": {
           "arrowcolor": "#2a3f5f",
           "arrowhead": 0,
           "arrowwidth": 1
          },
          "geo": {
           "bgcolor": "white",
           "landcolor": "#E5ECF6",
           "subunitcolor": "white",
           "showland": true,
           "showlakes": true,
           "lakecolor": "white"
          },
          "title": {
           "x": 0.05
          },
          "mapbox": {
           "style": "light"
          }
         }
        },
        "xaxis": {
         "anchor": "y",
         "domain": [
          0.0,
          1.0
         ],
         "title": {
          "text": "value"
         }
        },
        "yaxis": {
         "anchor": "x",
         "domain": [
          0.0,
          1.0
         ],
         "title": {
          "text": "count"
         }
        },
        "legend": {
         "title": {
          "text": "variable"
         },
         "tracegroupgap": 0
        },
        "margin": {
         "t": 60
        },
        "barmode": "relative",
        "title": {
         "text": "BMI histogram",
         "font": {
          "size": 20
         }
        }
       },
       "config": {
        "plotlyServerURL": "https://plot.ly"
       }
      },
      "text/html": "<div>                            <div id=\"6e65dc24-5a98-4ef9-b359-b43c137db017\" class=\"plotly-graph-div\" style=\"height:525px; width:100%;\"></div>            <script type=\"text/javascript\">                require([\"plotly\"], function(Plotly) {                    window.PLOTLYENV=window.PLOTLYENV || {};                                    if (document.getElementById(\"6e65dc24-5a98-4ef9-b359-b43c137db017\")) {                    Plotly.newPlot(                        \"6e65dc24-5a98-4ef9-b359-b43c137db017\",                        [{\"alignmentgroup\":\"True\",\"bingroup\":\"x\",\"hovertemplate\":\"variable=bmi<br>value=%{x}<br>count=%{y}<extra></extra>\",\"legendgroup\":\"bmi\",\"marker\":{\"color\":\"#636efa\",\"pattern\":{\"shape\":\"\"},\"line\":{\"color\":\"grey\",\"width\":2},\"coloraxis\":\"coloraxis\"},\"name\":\"bmi\",\"nbinsx\":20,\"offsetgroup\":\"bmi\",\"orientation\":\"v\",\"showlegend\":true,\"x\":[29.45,31.02,26.73,17.29,22.135,30.78,31.92,22.515,32.205,38.28,29.3,36.48,29.9,18.905,48.07,26.03,19.57,34.8,24.32,29.8,44.745,29.83,31.92,49.06,27.36,35.815,31.35,31.46,30.305,15.96,31.635,28.5,34.8,24.09,27.1,43.34,30.03,34.96,47.6,28.025,23.3,21.47,28.0,33.11,28.7,24.13,28.975,26.22,32.68,26.6,23.8,33.25,27.3,46.53,32.11,26.51,30.3,25.365,27.17,25.175,29.64,31.16,35.815,39.7,28.88,35.86,22.42,21.8,25.935,39.615,24.225,29.81,26.41,26.84,24.3,25.365,39.52,36.7,28.88,33.11,25.3,31.065,22.6,37.29,31.255,33.11,38.83,34.1,31.68,29.83,35.2,24.035,35.15,32.775,33.7,30.685,26.695,29.59,30.8,31.0,30.8,45.9,29.7,42.4,33.88,37.3,28.6,27.74,32.395,32.585,40.48,22.42,35.8,37.9,34.8,30.0,52.58,26.4,30.78,28.31,30.02,26.22,16.815,39.9,39.82,33.4,31.635,22.1,46.09,42.9,35.3,23.465,35.97,26.8,38.83,27.645,22.705,25.84,32.49,21.66,30.59,21.09,35.53,32.8,44.77,35.53,21.3,32.34,16.815,27.265,22.23,41.8,38.06,17.29,31.35,37.51,33.725,24.86,18.3,37.715,36.765,33.63,23.7,33.0,30.8,47.52,35.7,29.92,39.5,40.28,24.4,28.27,30.495,35.2,25.52,33.33,27.265,33.63,36.67,24.795,33.7,38.095,24.795,38.06,25.84,33.155,33.99,29.735,29.83,22.895,30.69,23.87,33.5,40.37,30.4,25.08,22.23,30.5,26.315,33.82,26.315,30.21,22.0,26.79,27.6,29.59,39.16,25.8,31.79,42.655,37.4,31.73,23.085,19.95,23.56,36.85,31.68,18.5,37.905,30.115,36.2,31.79,24.89,25.46,32.49,32.3,33.155,25.555,37.145,39.14,27.83,30.685,38.94,24.51,28.05,43.89,32.9,28.05,36.3,33.535,26.125,27.94,37.43,29.7,36.575,30.495,26.125,27.36,30.2,28.595,26.885,37.07,24.32,30.115,18.335,33.2,28.88,36.385,29.04,19.0,37.05,31.445,23.94,38.665,25.08,23.0,21.66,50.38,28.215,35.86,26.6,25.84,27.72,36.0,33.63,36.85,31.6,36.6,37.7,29.355,33.1,36.67,19.95,23.7,21.755,17.765,20.13,29.7,21.28,32.56,47.41,32.68,25.85,28.5,28.025,28.975,27.645,32.6,28.12,36.005,23.37,40.565,27.6,32.775,23.845,32.205,26.125,35.53,19.475,22.3,34.32,20.9,20.35,28.8,25.935,25.175,20.79,35.2,32.965,27.36,31.35,30.495,30.8,23.9,44.0,25.8,21.85,26.03,20.425,35.6,28.49,17.8,20.8,27.28,24.7,40.81,29.5,31.9,28.3,22.61,33.155,30.97,41.325,27.55,36.86,28.215,37.1,25.175,31.13,22.135,41.47,30.21,34.1,30.14,34.32,33.55,29.6,36.08,29.6,22.6,30.875,26.885,32.775,23.18,23.2,31.16,19.95,33.44,34.21,24.42,24.605,28.595,29.2,35.75,20.6,17.4,29.26,27.6,35.815,43.7,44.7,34.9,30.875,25.46,17.48,24.32,35.4,28.88,33.44,34.105,32.5,35.75,30.9,28.975,25.3,27.72,24.51,24.6,31.8,30.59,30.9,27.5,28.0,31.35,38.0,36.29,25.0,25.08,26.41,27.0,39.16,38.06,30.1,18.335,36.19,36.575,27.6,26.7,41.14,41.325,30.8,34.7,30.25,33.33,27.74,26.98,28.69,25.8,29.925,33.345,25.1,30.115,39.6,30.8,29.64,32.3,37.43,25.9,28.595,30.495,26.41,36.67,38.19,25.935,28.1,24.795,33.535,32.965,32.0,35.2,38.06,27.5,30.5,29.92,24.225,32.9,38.95,22.3,27.835,30.59,34.675,40.3,31.1,28.88,39.33,31.57,33.99,24.605,35.53,40.375,39.2,25.2,33.33,32.2,22.515,27.645,21.375,25.27,45.54,39.6,24.1,29.26,46.53,35.435,38.38,30.5,23.1,31.92,30.21,28.16,34.01,25.6,31.35,37.1,34.77,35.31,31.255,26.885,32.3,18.335,38.39,30.875,20.7,28.82,31.16,41.895,27.455,20.045,39.05,34.21,29.92,36.1,37.07,28.9,31.3,33.63,23.4,32.67,27.645,39.27,30.115,30.2,36.385,33.66,25.175,22.8,32.3,22.515,17.67,42.24,27.74,26.73,30.115,34.4,35.3,39.995,22.135,26.505,34.43,42.13,29.7,35.5,33.7,26.22,34.39,26.62,34.6,31.5,41.47,22.04,25.6,36.765,37.335,37.62,23.75,30.4,26.03,39.49,34.3,37.1,22.99,24.985,25.84,34.2,39.05,21.375,31.73,34.4,46.53,28.2,32.68,25.74,31.4,28.5,26.03,35.42,38.0,34.77,23.75,27.36,36.48,26.98,36.2,33.0,24.97,27.1,28.05,26.885,34.4,21.5,31.825,28.025,30.03,34.8,30.2,28.405,32.2,27.645,20.235,21.89,34.1,41.14,39.05,40.28,38.17,25.555,30.495,47.74,27.1,25.3,30.3,23.21,32.8,24.32,24.035,27.93,26.125,19.8,30.21,24.225,34.96,28.785,27.72,33.82,35.625,37.29,32.11,31.35,31.73,26.18,27.2,53.13,30.59,31.35,23.21,27.93,29.735,35.86,20.615,39.16,33.25,27.835,19.19,27.265,28.785,19.3,27.74,30.2,24.13,25.46,37.73,30.875,42.13,33.66,18.05,35.2,33.66,29.83,33.915,32.3,25.365,41.47,24.13,27.835,33.155,20.235,35.245,28.215,23.21,37.18,28.31,26.98,40.185,30.69,24.7,25.8,34.865,35.1,35.53,29.9,32.11,37.0,36.85,29.83,20.4,32.67,27.5,26.6,29.0,28.27,30.495,36.85,39.8,28.9,33.1,21.945,30.875,34.8,33.0,31.9,22.8,29.83,29.64,23.65,30.14,28.975,25.8,29.64,39.7,23.845,26.6,46.75,26.03,33.63,21.755,32.01,25.46,34.865,29.925,29.48,20.9,36.0,29.735,28.6,34.1,42.13,17.955,19.095,38.39,27.74,36.955,26.9,23.275,23.76,24.605,27.7,26.6,35.91,26.41,18.6,40.945,24.86,29.48,27.6,28.6,34.295,27.835,37.29,24.53,28.025,27.2,25.8,33.0,35.75,31.02,29.1,32.3,26.41,27.93,31.79,26.695,29.8,35.2,27.9,30.305,34.105,35.72,23.18,38.17,26.4,38.39,29.92,32.23,32.45,35.3,32.23,27.7,21.47,40.15,31.92,44.22,29.07,27.645,40.26,29.735,40.37,33.8,19.95,30.875,27.075,31.9,29.64,39.6,27.5,25.7,31.6,23.655,24.415,20.235,32.2,25.9,24.035,36.96,32.01,25.745,36.08,35.97,20.52,32.395,40.92,31.825,32.965,33.0,21.85,22.77,36.1,34.1,36.955,24.64,28.31,30.495,22.895,20.045,38.0,36.52,40.26,32.6,28.12,26.79,39.82,28.595,21.755,41.91,27.74,28.69,29.165,27.4,22.135,26.07,25.46,23.37,32.11,27.4,26.62,42.75,41.91,21.66,29.7,26.695,33.915,36.955,35.625,34.1,32.775,28.9,45.32,33.33,36.3,29.26,24.31,37.43,28.4,30.8,29.48,30.4,25.08,36.86,34.43,32.395,23.4,36.85,21.78,24.32,27.94,29.81,36.765,30.02,21.565,17.86,33.66,33.44,33.1,31.5,39.1,32.56,43.01,24.795,23.75,37.62,30.5,23.37,25.6,34.43,36.63,25.745,37.8,23.18,46.2,29.37,37.51,32.3,30.875,25.46,35.8,31.065,25.3,25.41,29.92,28.93,41.42,31.35,33.82,23.56,33.345,25.3,28.0,28.3,28.88,29.0,27.55,33.06,32.3,31.6,38.6,33.3,22.895,25.8,30.8,32.395,33.33,40.5,42.13,17.385,32.78,34.2,34.43,38.9,21.755,37.07,35.245,33.88,23.655,33.535,38.095,20.235,33.11,23.32,28.595,36.63,28.38,34.485,33.915,33.77,29.15,24.32,38.28,26.84,34.2,19.95,19.855,38.94,36.19,32.775,34.8,24.51,37.29,24.75,28.31,41.1,26.695,21.12,32.965,23.54,37.1,34.2,23.6,26.6,28.785,23.6,30.59,38.06,31.54,30.2,28.31,38.285,44.88,30.495,29.81,25.27,31.73,30.0,28.88,39.49,40.47,21.85,27.835,42.9,28.785,31.13,23.085,21.4,24.1,36.4,34.2,38.095,30.4,31.57,27.265,41.23,34.8,24.31,25.7,33.4,22.99,38.17,28.7,42.94,28.215,27.06,35.9,32.3,24.6,37.1,31.825,34.1,26.4,31.065,24.13,36.19,36.955,35.97,41.8,27.36,30.03,33.1,29.925,33.155,34.77,35.625,22.42,29.545,40.565,22.515,22.61,33.33,38.83,23.98,26.8,28.975,31.13,26.51,21.01,35.97,35.72,29.92,29.26,28.9,40.66,32.9,24.605,34.1,36.3,31.4,32.7,27.36,32.8,34.39,23.98,27.5,22.705,26.315,27.1,34.58,35.815,35.3,42.4,26.22,32.11,24.985,37.18,24.3,29.37,40.185,29.355,22.895,33.4,23.18,45.43,32.3,41.325,43.12,27.645,31.13,25.84,30.4,25.4,21.4,36.86,30.02,22.515,30.9,31.79,30.3,27.83,32.015,28.785,36.63,37.05,30.78,28.595,32.3,30.36,22.61,22.99,29.07,20.6,33.345,32.7,27.55,33.66,29.8,29.3,42.46,40.565,28.93,34.7,25.175,36.3,28.4,32.87,26.41,42.68,34.105,28.5,23.21,27.5,21.7,38.06,17.195,46.7,32.395,23.465,28.5,32.11,30.78,27.72,26.315,26.2,33.345,31.0,24.3,33.88,31.73,37.73,28.69,26.18,33.345,24.42,25.74,28.7,27.94,36.67,24.7,29.15,28.31,30.1,39.49,23.21,41.91,23.655,34.58,32.3,38.38,25.08,31.92,25.745,33.915,25.6,27.8,20.52,25.9,34.5,26.29,35.86,25.74,20.3,22.22,36.1,28.1,19.8,28.31,32.775,37.05,21.56,25.555,34.4,30.78,21.85,31.16,26.4,32.34,21.47,43.89,28.405,27.55,33.725,24.6,33.33,30.685,30.59,43.4,28.12,31.73,28.7,38.28,32.68,33.63,34.105,33.82,24.7,35.53,25.0,34.87,25.27,35.625,39.71,36.08,32.1,27.83,24.42,28.12,37.4,27.455,31.2,38.06,26.695,37.335,39.82,40.15,19.8,30.875,26.7,33.77,34.485,44.22,34.21,31.02,39.5,34.96,22.88,21.78,30.2,24.32,23.655,39.805,32.3,33.0,32.015,33.44,31.825,35.64,26.315,32.12,19.855,18.715,34.32,38.6,23.655,31.54,29.6,30.59,33.25,17.29,36.08,25.74,27.93,35.09,32.775,22.705,27.83,31.46,31.4,35.31,28.9,27.61,37.4,31.255,31.065,32.11,28.88,29.81,28.31,29.6,19.95,34.6,36.48,25.65,23.98,39.4,35.91,30.25,20.1,28.7,23.18,39.425,28.31,39.805,22.61,29.4,31.24,37.525,41.23,25.175,30.02,27.7,29.9,39.93,37.1,20.8,35.2,30.115,31.825,23.845,34.21,28.025,37.0,25.46,41.69,29.8,32.4,27.17,36.195,33.3,40.15,42.35,27.36,31.445,28.93],\"xaxis\":\"x\",\"yaxis\":\"y\",\"type\":\"histogram\",\"textfont\":{\"size\":14},\"textangle\":0,\"textposition\":\"outside\"}],                        {\"template\":{\"data\":{\"histogram2dcontour\":[{\"type\":\"histogram2dcontour\",\"colorbar\":{\"outlinewidth\":0,\"ticks\":\"\"},\"colorscale\":[[0.0,\"#0d0887\"],[0.1111111111111111,\"#46039f\"],[0.2222222222222222,\"#7201a8\"],[0.3333333333333333,\"#9c179e\"],[0.4444444444444444,\"#bd3786\"],[0.5555555555555556,\"#d8576b\"],[0.6666666666666666,\"#ed7953\"],[0.7777777777777778,\"#fb9f3a\"],[0.8888888888888888,\"#fdca26\"],[1.0,\"#f0f921\"]]}],\"choropleth\":[{\"type\":\"choropleth\",\"colorbar\":{\"outlinewidth\":0,\"ticks\":\"\"}}],\"histogram2d\":[{\"type\":\"histogram2d\",\"colorbar\":{\"outlinewidth\":0,\"ticks\":\"\"},\"colorscale\":[[0.0,\"#0d0887\"],[0.1111111111111111,\"#46039f\"],[0.2222222222222222,\"#7201a8\"],[0.3333333333333333,\"#9c179e\"],[0.4444444444444444,\"#bd3786\"],[0.5555555555555556,\"#d8576b\"],[0.6666666666666666,\"#ed7953\"],[0.7777777777777778,\"#fb9f3a\"],[0.8888888888888888,\"#fdca26\"],[1.0,\"#f0f921\"]]}],\"heatmap\":[{\"type\":\"heatmap\",\"colorbar\":{\"outlinewidth\":0,\"ticks\":\"\"},\"colorscale\":[[0.0,\"#0d0887\"],[0.1111111111111111,\"#46039f\"],[0.2222222222222222,\"#7201a8\"],[0.3333333333333333,\"#9c179e\"],[0.4444444444444444,\"#bd3786\"],[0.5555555555555556,\"#d8576b\"],[0.6666666666666666,\"#ed7953\"],[0.7777777777777778,\"#fb9f3a\"],[0.8888888888888888,\"#fdca26\"],[1.0,\"#f0f921\"]]}],\"heatmapgl\":[{\"type\":\"heatmapgl\",\"colorbar\":{\"outlinewidth\":0,\"ticks\":\"\"},\"colorscale\":[[0.0,\"#0d0887\"],[0.1111111111111111,\"#46039f\"],[0.2222222222222222,\"#7201a8\"],[0.3333333333333333,\"#9c179e\"],[0.4444444444444444,\"#bd3786\"],[0.5555555555555556,\"#d8576b\"],[0.6666666666666666,\"#ed7953\"],[0.7777777777777778,\"#fb9f3a\"],[0.8888888888888888,\"#fdca26\"],[1.0,\"#f0f921\"]]}],\"contourcarpet\":[{\"type\":\"contourcarpet\",\"colorbar\":{\"outlinewidth\":0,\"ticks\":\"\"}}],\"contour\":[{\"type\":\"contour\",\"colorbar\":{\"outlinewidth\":0,\"ticks\":\"\"},\"colorscale\":[[0.0,\"#0d0887\"],[0.1111111111111111,\"#46039f\"],[0.2222222222222222,\"#7201a8\"],[0.3333333333333333,\"#9c179e\"],[0.4444444444444444,\"#bd3786\"],[0.5555555555555556,\"#d8576b\"],[0.6666666666666666,\"#ed7953\"],[0.7777777777777778,\"#fb9f3a\"],[0.8888888888888888,\"#fdca26\"],[1.0,\"#f0f921\"]]}],\"surface\":[{\"type\":\"surface\",\"colorbar\":{\"outlinewidth\":0,\"ticks\":\"\"},\"colorscale\":[[0.0,\"#0d0887\"],[0.1111111111111111,\"#46039f\"],[0.2222222222222222,\"#7201a8\"],[0.3333333333333333,\"#9c179e\"],[0.4444444444444444,\"#bd3786\"],[0.5555555555555556,\"#d8576b\"],[0.6666666666666666,\"#ed7953\"],[0.7777777777777778,\"#fb9f3a\"],[0.8888888888888888,\"#fdca26\"],[1.0,\"#f0f921\"]]}],\"mesh3d\":[{\"type\":\"mesh3d\",\"colorbar\":{\"outlinewidth\":0,\"ticks\":\"\"}}],\"scatter\":[{\"fillpattern\":{\"fillmode\":\"overlay\",\"size\":10,\"solidity\":0.2},\"type\":\"scatter\"}],\"parcoords\":[{\"type\":\"parcoords\",\"line\":{\"colorbar\":{\"outlinewidth\":0,\"ticks\":\"\"}}}],\"scatterpolargl\":[{\"type\":\"scatterpolargl\",\"marker\":{\"colorbar\":{\"outlinewidth\":0,\"ticks\":\"\"}}}],\"bar\":[{\"error_x\":{\"color\":\"#2a3f5f\"},\"error_y\":{\"color\":\"#2a3f5f\"},\"marker\":{\"line\":{\"color\":\"#E5ECF6\",\"width\":0.5},\"pattern\":{\"fillmode\":\"overlay\",\"size\":10,\"solidity\":0.2}},\"type\":\"bar\"}],\"scattergeo\":[{\"type\":\"scattergeo\",\"marker\":{\"colorbar\":{\"outlinewidth\":0,\"ticks\":\"\"}}}],\"scatterpolar\":[{\"type\":\"scatterpolar\",\"marker\":{\"colorbar\":{\"outlinewidth\":0,\"ticks\":\"\"}}}],\"histogram\":[{\"marker\":{\"pattern\":{\"fillmode\":\"overlay\",\"size\":10,\"solidity\":0.2}},\"type\":\"histogram\"}],\"scattergl\":[{\"type\":\"scattergl\",\"marker\":{\"colorbar\":{\"outlinewidth\":0,\"ticks\":\"\"}}}],\"scatter3d\":[{\"type\":\"scatter3d\",\"line\":{\"colorbar\":{\"outlinewidth\":0,\"ticks\":\"\"}},\"marker\":{\"colorbar\":{\"outlinewidth\":0,\"ticks\":\"\"}}}],\"scattermapbox\":[{\"type\":\"scattermapbox\",\"marker\":{\"colorbar\":{\"outlinewidth\":0,\"ticks\":\"\"}}}],\"scatterternary\":[{\"type\":\"scatterternary\",\"marker\":{\"colorbar\":{\"outlinewidth\":0,\"ticks\":\"\"}}}],\"scattercarpet\":[{\"type\":\"scattercarpet\",\"marker\":{\"colorbar\":{\"outlinewidth\":0,\"ticks\":\"\"}}}],\"carpet\":[{\"aaxis\":{\"endlinecolor\":\"#2a3f5f\",\"gridcolor\":\"white\",\"linecolor\":\"white\",\"minorgridcolor\":\"white\",\"startlinecolor\":\"#2a3f5f\"},\"baxis\":{\"endlinecolor\":\"#2a3f5f\",\"gridcolor\":\"white\",\"linecolor\":\"white\",\"minorgridcolor\":\"white\",\"startlinecolor\":\"#2a3f5f\"},\"type\":\"carpet\"}],\"table\":[{\"cells\":{\"fill\":{\"color\":\"#EBF0F8\"},\"line\":{\"color\":\"white\"}},\"header\":{\"fill\":{\"color\":\"#C8D4E3\"},\"line\":{\"color\":\"white\"}},\"type\":\"table\"}],\"barpolar\":[{\"marker\":{\"line\":{\"color\":\"#E5ECF6\",\"width\":0.5},\"pattern\":{\"fillmode\":\"overlay\",\"size\":10,\"solidity\":0.2}},\"type\":\"barpolar\"}],\"pie\":[{\"automargin\":true,\"type\":\"pie\"}]},\"layout\":{\"autotypenumbers\":\"strict\",\"colorway\":[\"#636efa\",\"#EF553B\",\"#00cc96\",\"#ab63fa\",\"#FFA15A\",\"#19d3f3\",\"#FF6692\",\"#B6E880\",\"#FF97FF\",\"#FECB52\"],\"font\":{\"color\":\"#2a3f5f\"},\"hovermode\":\"closest\",\"hoverlabel\":{\"align\":\"left\"},\"paper_bgcolor\":\"white\",\"plot_bgcolor\":\"#E5ECF6\",\"polar\":{\"bgcolor\":\"#E5ECF6\",\"angularaxis\":{\"gridcolor\":\"white\",\"linecolor\":\"white\",\"ticks\":\"\"},\"radialaxis\":{\"gridcolor\":\"white\",\"linecolor\":\"white\",\"ticks\":\"\"}},\"ternary\":{\"bgcolor\":\"#E5ECF6\",\"aaxis\":{\"gridcolor\":\"white\",\"linecolor\":\"white\",\"ticks\":\"\"},\"baxis\":{\"gridcolor\":\"white\",\"linecolor\":\"white\",\"ticks\":\"\"},\"caxis\":{\"gridcolor\":\"white\",\"linecolor\":\"white\",\"ticks\":\"\"}},\"coloraxis\":{\"colorbar\":{\"outlinewidth\":0,\"ticks\":\"\"}},\"colorscale\":{\"sequential\":[[0.0,\"#0d0887\"],[0.1111111111111111,\"#46039f\"],[0.2222222222222222,\"#7201a8\"],[0.3333333333333333,\"#9c179e\"],[0.4444444444444444,\"#bd3786\"],[0.5555555555555556,\"#d8576b\"],[0.6666666666666666,\"#ed7953\"],[0.7777777777777778,\"#fb9f3a\"],[0.8888888888888888,\"#fdca26\"],[1.0,\"#f0f921\"]],\"sequentialminus\":[[0.0,\"#0d0887\"],[0.1111111111111111,\"#46039f\"],[0.2222222222222222,\"#7201a8\"],[0.3333333333333333,\"#9c179e\"],[0.4444444444444444,\"#bd3786\"],[0.5555555555555556,\"#d8576b\"],[0.6666666666666666,\"#ed7953\"],[0.7777777777777778,\"#fb9f3a\"],[0.8888888888888888,\"#fdca26\"],[1.0,\"#f0f921\"]],\"diverging\":[[0,\"#8e0152\"],[0.1,\"#c51b7d\"],[0.2,\"#de77ae\"],[0.3,\"#f1b6da\"],[0.4,\"#fde0ef\"],[0.5,\"#f7f7f7\"],[0.6,\"#e6f5d0\"],[0.7,\"#b8e186\"],[0.8,\"#7fbc41\"],[0.9,\"#4d9221\"],[1,\"#276419\"]]},\"xaxis\":{\"gridcolor\":\"white\",\"linecolor\":\"white\",\"ticks\":\"\",\"title\":{\"standoff\":15},\"zerolinecolor\":\"white\",\"automargin\":true,\"zerolinewidth\":2},\"yaxis\":{\"gridcolor\":\"white\",\"linecolor\":\"white\",\"ticks\":\"\",\"title\":{\"standoff\":15},\"zerolinecolor\":\"white\",\"automargin\":true,\"zerolinewidth\":2},\"scene\":{\"xaxis\":{\"backgroundcolor\":\"#E5ECF6\",\"gridcolor\":\"white\",\"linecolor\":\"white\",\"showbackground\":true,\"ticks\":\"\",\"zerolinecolor\":\"white\",\"gridwidth\":2},\"yaxis\":{\"backgroundcolor\":\"#E5ECF6\",\"gridcolor\":\"white\",\"linecolor\":\"white\",\"showbackground\":true,\"ticks\":\"\",\"zerolinecolor\":\"white\",\"gridwidth\":2},\"zaxis\":{\"backgroundcolor\":\"#E5ECF6\",\"gridcolor\":\"white\",\"linecolor\":\"white\",\"showbackground\":true,\"ticks\":\"\",\"zerolinecolor\":\"white\",\"gridwidth\":2}},\"shapedefaults\":{\"line\":{\"color\":\"#2a3f5f\"}},\"annotationdefaults\":{\"arrowcolor\":\"#2a3f5f\",\"arrowhead\":0,\"arrowwidth\":1},\"geo\":{\"bgcolor\":\"white\",\"landcolor\":\"#E5ECF6\",\"subunitcolor\":\"white\",\"showland\":true,\"showlakes\":true,\"lakecolor\":\"white\"},\"title\":{\"x\":0.05},\"mapbox\":{\"style\":\"light\"}}},\"xaxis\":{\"anchor\":\"y\",\"domain\":[0.0,1.0],\"title\":{\"text\":\"value\"}},\"yaxis\":{\"anchor\":\"x\",\"domain\":[0.0,1.0],\"title\":{\"text\":\"count\"}},\"legend\":{\"title\":{\"text\":\"variable\"},\"tracegroupgap\":0},\"margin\":{\"t\":60},\"barmode\":\"relative\",\"title\":{\"text\":\"BMI histogram\",\"font\":{\"size\":20}}},                        {\"responsive\": true}                    ).then(function(){\n                            \nvar gd = document.getElementById('6e65dc24-5a98-4ef9-b359-b43c137db017');\nvar x = new MutationObserver(function (mutations, observer) {{\n        var display = window.getComputedStyle(gd).display;\n        if (!display || display === 'none') {{\n            console.log([gd, 'removed!']);\n            Plotly.purge(gd);\n            observer.disconnect();\n        }}\n}});\n\n// Listen for the removal of the full notebook cells\nvar notebookContainer = gd.closest('#notebook-container');\nif (notebookContainer) {{\n    x.observe(notebookContainer, {childList: true});\n}}\n\n// Listen for the clearing of the current output cell\nvar outputEl = gd.closest('.output');\nif (outputEl) {{\n    x.observe(outputEl, {childList: true});\n}}\n\n                        })                };                });            </script>        </div>"
     },
     "metadata": {},
     "output_type": "display_data"
    }
   ],
   "source": [
    "fig = px.histogram(df['bmi'], nbins=20)\n",
    "fig.update_traces(textfont_size=14, textangle=0, textposition='outside', marker=dict(coloraxis=\"coloraxis\"), marker_line_width=2, marker_line_color=\"grey\")\n",
    "fig.update_layout(title=f'BMI histogram', title_font_size=20)\n",
    "fig.show()"
   ],
   "metadata": {
    "collapsed": false,
    "pycharm": {
     "name": "#%%\n"
    }
   }
  },
  {
   "cell_type": "markdown",
   "source": [
    "Распределение похоже на нормальное"
   ],
   "metadata": {
    "collapsed": false
   }
  },
  {
   "cell_type": "code",
   "execution_count": 337,
   "outputs": [
    {
     "data": {
      "application/vnd.plotly.v1+json": {
       "data": [
        {
         "alignmentgroup": "True",
         "bingroup": "x",
         "hovertemplate": "variable=charges<br>value=%{x}<br>count=%{y}<extra></extra>",
         "legendgroup": "charges",
         "marker": {
          "color": "#636efa",
          "pattern": {
           "shape": ""
          },
          "line": {
           "color": "grey",
           "width": 2
          },
          "coloraxis": "coloraxis"
         },
         "name": "charges",
         "nbinsx": 70,
         "offsetgroup": "charges",
         "orientation": "v",
         "showlegend": true,
         "x": [
          2897.3235,
          16586.49771,
          1615.7667,
          12829.4551,
          7228.21565,
          10797.3362,
          2205.9808,
          8688.85885,
          8835.26495,
          1631.8212,
          1977.815,
          42760.5022,
          10214.636,
          4827.90495,
          9432.9253,
          3070.8087,
          8428.0693,
          39836.519,
          12523.6048,
          5152.134,
          9541.69555,
          11286.5387,
          33750.2918,
          11381.3254,
          8606.2174,
          12495.29085,
          39556.4945,
          1877.9294,
          11938.25595,
          1694.7964,
          7358.17565,
          6799.458,
          6571.544,
          2201.0971,
          26140.3603,
          5846.9176,
          4074.4537,
          41034.2214,
          46113.511,
          6203.90175,
          11345.519,
          12475.3513,
          23568.272,
          3171.6149,
          8703.456,
          15817.9857,
          1906.35825,
          10493.9458,
          10923.9332,
          21348.706,
          3847.674,
          5594.8455,
          16232.847,
          4686.3887,
          4433.9159,
          1815.8759,
          2632.992,
          7518.02535,
          12222.8983,
          15518.18025,
          24671.66334,
          43578.9394,
          7731.85785,
          14319.031,
          3866.8552,
          5836.5204,
          14711.7438,
          20167.33603,
          4133.64165,
          2730.10785,
          2842.76075,
          6500.2359,
          5385.3379,
          1664.9996,
          5615.369,
          13047.33235,
          6948.7008,
          9144.565,
          9869.8102,
          34439.8559,
          11070.535,
          34254.05335,
          2457.502,
          8978.1851,
          3956.07145,
          40974.1649,
          18963.17192,
          1137.011,
          34672.1472,
          18648.4217,
          2416.955,
          10422.91665,
          2134.9015,
          40003.33225,
          7445.918,
          33475.81715,
          26109.32905,
          3947.4131,
          12105.32,
          5488.262,
          41999.52,
          3693.428,
          19933.458,
          3410.324,
          11987.1682,
          20630.28351,
          8516.829,
          5469.0066,
          18903.49141,
          4846.92015,
          13831.1152,
          27375.90478,
          11674.13,
          6474.013,
          5246.047,
          2904.088,
          44501.3982,
          11743.299,
          39597.4072,
          18033.9679,
          33307.5508,
          2721.3208,
          3167.45585,
          48173.361,
          11090.7178,
          38415.474,
          9174.13565,
          10577.087,
          9549.5651,
          4536.259,
          7348.142,
          3206.49135,
          42124.5153,
          3906.127,
          12981.3457,
          10594.50155,
          7173.35995,
          3309.7926,
          36898.73308,
          14349.8544,
          1639.5631,
          13415.0381,
          55135.40209,
          5649.715,
          9058.7303,
          42111.6647,
          9182.17,
          7633.7206,
          6640.54485,
          9447.25035,
          12029.2867,
          5662.225,
          44400.4064,
          3732.6251,
          27346.04207,
          12265.5069,
          8823.98575,
          27117.99378,
          19023.26,
          30063.58055,
          26467.09737,
          11945.1327,
          3484.331,
          20781.48892,
          35491.64,
          8083.9198,
          11362.755,
          30942.1918,
          9880.068,
          2217.6012,
          18259.216,
          5484.4673,
          39725.51805,
          12244.531,
          14478.33015,
          1391.5287,
          4661.28635,
          37607.5277,
          10848.1343,
          9500.57305,
          11299.343,
          15230.32405,
          17904.52705,
          20462.99766,
          9282.4806,
          4058.71245,
          2473.3341,
          18157.876,
          6406.4107,
          35069.37452,
          5976.8311,
          8582.3023,
          37079.372,
          43896.3763,
          33907.548,
          24513.09126,
          3176.2877,
          10704.47,
          5312.16985,
          19673.33573,
          6940.90985,
          10231.4999,
          1964.78,
          4189.1131,
          5383.536,
          4562.8421,
          1633.0444,
          9861.025,
          17929.30337,
          5757.41345,
          9634.538,
          11187.6567,
          14451.83515,
          7133.9025,
          8603.8234,
          36149.4835,
          34303.1672,
          4766.022,
          14210.53595,
          2203.47185,
          8068.185,
          43813.8661,
          21659.9301,
          12913.9924,
          3490.5491,
          13430.265,
          8538.28845,
          2221.56445,
          6334.34355,
          12890.05765,
          23065.4207,
          8310.83915,
          44202.6536,
          2709.1119,
          2155.6815,
          8944.1151,
          36085.219,
          8233.0975,
          47403.88,
          12269.68865,
          5227.98875,
          2867.1196,
          2138.0707,
          12925.886,
          2136.88225,
          15019.76005,
          1708.92575,
          9447.3824,
          33900.653,
          6548.19505,
          29330.98315,
          9048.0273,
          6198.7518,
          9910.35985,
          9991.03765,
          13462.52,
          4337.7352,
          11436.73815,
          7243.8136,
          6753.038,
          46255.1125,
          13974.45555,
          6858.4796,
          3393.35635,
          7325.0482,
          12094.478,
          14449.8544,
          2438.0552,
          10407.08585,
          46599.1084,
          8444.474,
          5266.3656,
          4415.1588,
          8556.907,
          10825.2537,
          1629.8335,
          9850.432,
          11264.541,
          48824.45,
          4564.19145,
          23082.95533,
          38511.6283,
          5693.4305,
          10959.33,
          16657.71745,
          32734.1863,
          18767.7377,
          4399.731,
          4296.2712,
          1824.2854,
          63770.42801,
          13844.7972,
          24180.9335,
          1712.227,
          20773.62775,
          4040.55825,
          7421.19455,
          7441.501,
          2690.1138,
          13228.84695,
          8252.2843,
          6373.55735,
          1252.407,
          10435.06525,
          24106.91255,
          11488.31695,
          7729.64575,
          3366.6697,
          6933.24225,
          7147.105,
          7147.4728,
          1832.094,
          8605.3615,
          6282.235,
          4239.89265,
          2045.68525,
          1607.5101,
          1727.54,
          12430.95335,
          17178.6824,
          9290.1395,
          11840.77505,
          4646.759,
          5080.096,
          13063.883,
          4934.705,
          15359.1045,
          16450.8947,
          1625.43375,
          35585.576,
          18328.2381,
          1727.785,
          2302.3,
          18223.4512,
          12323.936,
          12485.8009,
          6311.952,
          11552.904,
          17081.08,
          1628.4709,
          2207.69745,
          10600.5483,
          17878.90068,
          6746.7425,
          1917.3184,
          12224.35085,
          3597.596,
          3558.62025,
          8280.6227,
          8302.53565,
          9504.3103,
          43943.8761,
          7418.522,
          11881.9696,
          5934.3798,
          5699.8375,
          21232.18226,
          42211.1382,
          7512.267,
          18608.262,
          8162.71625,
          4441.21315,
          12268.63225,
          11830.6072,
          6250.435,
          3943.5954,
          9193.8385,
          8334.5896,
          44260.7499,
          19361.9988,
          5257.50795,
          11735.87905,
          10436.096,
          4889.9995,
          9264.797,
          2585.269,
          4438.2634,
          18955.22017,
          4320.41085,
          11576.13,
          11411.685,
          34828.654,
          46718.16325,
          7077.1894,
          1621.3402,
          8534.6718,
          1263.249,
          9249.4952,
          12231.6136,
          6600.20595,
          6238.298,
          40273.6455,
          39727.614,
          27218.43725,
          8442.667,
          2464.6188,
          6710.1919,
          1837.237,
          13880.949,
          7256.7231,
          8520.026,
          7626.993,
          13126.67745,
          1622.1885,
          6196.448,
          6551.7501,
          7623.518,
          14254.6082,
          14394.5579,
          11737.84884,
          14418.2804,
          7152.6714,
          6849.026,
          11534.87265,
          41676.0811,
          8671.19125,
          24520.264,
          11150.78,
          48970.2476,
          7650.77375,
          9414.92,
          36397.576,
          32548.3405,
          10560.4917,
          20984.0936,
          11082.5772,
          20745.9891,
          1972.95,
          8988.15875,
          2855.43755,
          25382.297,
          8410.04685,
          10601.412,
          13390.559,
          9222.4026,
          8062.764,
          5428.7277,
          3353.284,
          11658.11505,
          2128.43105,
          11244.3769,
          39774.2763,
          14410.9321,
          11165.41765,
          10965.446,
          23967.38305,
          13143.33665,
          14692.66935,
          8551.347,
          14474.675,
          48885.13561,
          20177.67113,
          4751.07,
          3392.9768,
          8965.79575,
          1748.774,
          42983.4585,
          2103.08,
          7144.86265,
          2459.7201,
          4518.82625,
          10602.385,
          1526.312,
          12096.6512,
          14901.5167,
          12557.6053,
          3227.1211,
          12479.70895,
          36950.2567,
          8733.22925,
          13470.86,
          11837.16,
          1135.9407,
          6875.961,
          3594.17085,
          11305.93455,
          4500.33925,
          4894.7533,
          42112.2356,
          10579.711,
          2974.126,
          6457.8434,
          6435.6237,
          3268.84665,
          11396.9002,
          2494.022,
          2483.736,
          37701.8768,
          7537.1639,
          10702.6424,
          11356.6609,
          8932.084,
          46130.5265,
          7371.772,
          5729.0053,
          18806.14547,
          1909.52745,
          5267.81815,
          10043.249,
          13204.28565,
          4463.2051,
          3857.75925,
          1242.816,
          2156.7518,
          10461.9794,
          43753.33705,
          5261.46945,
          16420.49455,
          16085.1275,
          3935.1799,
          5478.0368,
          12363.547,
          37484.4493,
          5926.846,
          47291.055,
          3579.8287,
          2913.569,
          2497.0383,
          4237.12655,
          3500.6123,
          4915.05985,
          38998.546,
          48517.56315,
          1136.3994,
          11931.12525,
          7985.815,
          14119.62,
          5209.57885,
          2680.9493,
          38792.6856,
          9957.7216,
          5002.7827,
          16455.70785,
          36197.699,
          36837.467,
          9704.66805,
          2585.85065,
          12815.44495,
          37742.5757,
          39611.7577,
          11881.358,
          44585.45587,
          5012.471,
          6123.5688,
          38746.3551,
          7742.1098,
          2020.177,
          4402.233,
          13405.3903,
          13616.3586,
          23306.547,
          47896.79135,
          5989.52365,
          3766.8838,
          11729.6795,
          18804.7524,
          2102.2647,
          2480.9791,
          9563.029,
          3277.161,
          1704.5681,
          8017.06115,
          23807.2406,
          42856.838,
          40932.4295,
          7222.78625,
          2254.7967,
          1826.843,
          2927.0647,
          13041.921,
          4738.2682,
          3756.6216,
          34166.273,
          18310.742,
          6837.3687,
          2322.6218,
          12646.207,
          9583.8933,
          3077.0955,
          2789.0574,
          12797.20962,
          28950.4692,
          8457.818,
          4349.462,
          6593.5083,
          4746.344,
          6770.1925,
          21774.32215,
          8522.003,
          10791.96,
          13607.36875,
          6067.12675,
          9377.9047,
          3577.999,
          8825.086,
          4527.18295,
          6775.961,
          24535.69855,
          4906.40965,
          3180.5101,
          23563.01618,
          1146.7966,
          11856.4115,
          20709.02034,
          1631.6683,
          20296.86345,
          10072.05505,
          9748.9106,
          19040.876,
          24667.419,
          4260.744,
          1121.8739,
          14358.36437,
          24869.8368,
          13012.20865,
          4137.5227,
          23401.30575,
          1241.565,
          4618.0799,
          22395.74424,
          4466.6214,
          2457.21115,
          14001.1338,
          12643.3778,
          2211.13075,
          4058.1161,
          2055.3249,
          4561.1885,
          33732.6867,
          7046.7222,
          2866.091,
          1163.4627,
          2727.3951,
          12622.1795,
          22218.1149,
          1967.0227,
          4357.04365,
          1986.9334,
          2803.69785,
          13470.8044,
          10564.8845,
          4454.40265,
          8627.5411,
          22493.65964,
          3385.39915,
          15820.699,
          8026.6666,
          8968.33,
          4032.2407,
          9225.2564,
          5397.6167,
          23045.56616,
          5124.1887,
          12949.1554,
          9644.2525,
          44423.803,
          4504.6624,
          9288.0267,
          3292.52985,
          29186.48236,
          30284.64294,
          10977.2063,
          5125.2157,
          1635.73365,
          6128.79745,
          2527.81865,
          12404.8791,
          24915.22085,
          1515.3449,
          7162.0122,
          13770.0979,
          4435.0942,
          3201.24515,
          7731.4271,
          21880.82,
          2007.945,
          2899.48935,
          12644.589,
          1646.4297,
          6600.361,
          13555.0049,
          4830.63,
          1534.3045,
          9620.3307,
          3260.199,
          10807.4863,
          8615.3,
          12044.342,
          11842.442,
          4779.6023,
          8413.46305,
          13887.9685,
          15170.069,
          12146.971,
          13393.756,
          4718.20355,
          6796.86325,
          36910.60803,
          1980.07,
          27322.73386,
          8269.044,
          30184.9367,
          5028.1466,
          17626.23951,
          1131.5066,
          2257.47525,
          3161.454,
          12730.9996,
          9391.346,
          4719.73655,
          3046.062,
          12592.5345,
          3736.4647,
          17128.42608,
          13725.47184,
          1981.5819,
          25517.11363,
          11944.59435,
          22462.04375,
          7640.3092,
          21195.818,
          2166.732,
          1769.53165,
          4687.797,
          40182.246,
          48675.5177,
          15006.57945,
          16776.30405,
          41949.2441,
          7281.5056,
          36219.40545,
          5969.723,
          7986.47525,
          26926.5144,
          21259.37795,
          6414.178,
          9715.841,
          13635.6379,
          7419.4779,
          1728.897,
          11566.30055,
          5966.8874,
          3392.3652,
          24603.04837,
          11253.421,
          13224.05705,
          20009.63365,
          1141.4451,
          12629.8967,
          20234.85475,
          11073.176,
          7624.63,
          4449.462,
          38282.7495,
          6185.3208,
          3761.292,
          8765.249,
          8827.2099,
          18838.70366,
          3056.3881,
          14382.70905,
          20420.60465,
          4670.64,
          16884.924,
          2203.73595,
          6112.35295,
          2404.7338,
          10197.7722,
          8347.1643,
          25992.82104,
          40419.0191,
          3981.9768,
          18218.16139,
          45008.9555,
          7196.867,
          8871.1517,
          16297.846,
          1702.4553,
          5400.9805,
          2261.5688,
          4266.1658,
          17352.6803,
          5031.26955,
          1634.5734,
          32108.66282,
          10982.5013,
          47928.03,
          22412.6485,
          5373.36425,
          10106.13425,
          10928.849,
          20277.80751,
          10450.552,
          5003.853,
          9101.798,
          10118.424,
          21677.28345,
          11520.09985,
          19594.80965,
          47305.305,
          19199.944,
          8604.48365,
          49577.6624,
          11946.6259,
          9301.89355,
          37133.8982,
          7160.3303,
          4544.2348,
          13019.16105,
          48673.5588,
          2719.27975,
          6571.02435,
          1880.07,
          6117.4945,
          11833.7823,
          10085.846,
          9140.951,
          12741.16745,
          19515.5416,
          28868.6639,
          6113.23105,
          4719.52405,
          19798.05455,
          11365.952,
          28287.89766,
          5709.1644,
          7954.517,
          22331.5668,
          12609.88702,
          4795.6568,
          30259.99556,
          4134.08245,
          24227.33724,
          29523.1656,
          10264.4421,
          7323.734819,
          7726.854,
          5354.07465,
          38245.59327,
          3645.0894,
          19964.7463,
          25333.33284,
          6496.886,
          3757.8448,
          40904.1995,
          11093.6229,
          14283.4594,
          7789.635,
          4571.41305,
          10115.00885,
          47496.49445,
          37465.34375,
          5979.731,
          5327.40025,
          8823.279,
          8569.8618,
          36124.5737,
          8527.532,
          4350.5144,
          9788.8659,
          10959.6947,
          1842.519,
          5253.524,
          9487.6442,
          1256.299,
          2196.4732,
          46661.4424,
          1137.4697,
          2362.22905,
          1969.614,
          8125.7845,
          6272.4772,
          23288.9284,
          19107.7796,
          19350.3689,
          13981.85035,
          13352.0998,
          13747.87235,
          5116.5004,
          2498.4144,
          8240.5896,
          11848.141,
          4076.497,
          14235.072,
          40941.2854,
          1149.3959,
          10942.13205,
          1705.6245,
          37165.1638,
          12638.195,
          6686.4313,
          14988.432,
          5584.3057,
          10381.4787,
          2710.82855,
          39241.442,
          14426.07385,
          45863.205,
          8547.6913,
          9304.7019,
          11512.405,
          3877.30425,
          1708.0014,
          7160.094,
          5425.02335,
          7045.499,
          21978.6769,
          4889.0368,
          3972.9247,
          28476.73499,
          2643.2685,
          4462.7218,
          4992.3764,
          20878.78443,
          18972.495,
          7151.092,
          21082.16,
          17748.5062,
          7050.642,
          13217.0945,
          7749.1564,
          9630.397,
          6186.127,
          4762.329,
          10806.839,
          16138.76205,
          10096.97,
          6313.759,
          14590.63205,
          4151.0287,
          1759.338,
          3238.4357,
          2775.19215,
          36021.0112,
          9872.701,
          10594.2257,
          5972.378,
          1627.28245,
          39871.7043,
          11394.06555,
          11482.63485,
          18765.87545,
          34617.84065,
          24915.04626,
          3861.20965,
          13919.8229,
          1711.0268,
          3213.62205,
          4949.7587,
          19521.9682,
          60021.39897,
          9866.30485,
          1674.6323,
          18246.4955,
          9863.4718,
          14133.03775,
          17085.2676,
          39047.285,
          5855.9025,
          5458.04645,
          3471.4096,
          5920.1041,
          11289.10925,
          3443.064,
          2396.0959,
          2219.4451,
          16577.7795,
          32787.45859,
          3989.841,
          28101.33305,
          6652.5288,
          15612.19335,
          10107.2206,
          12347.172,
          7261.741,
          4931.647,
          10355.641,
          12129.61415,
          8539.671,
          24059.68019,
          2689.4954,
          11353.2276,
          7441.053,
          7153.5539,
          7935.29115,
          39722.7462,
          40720.55105,
          27533.9129,
          21771.3423,
          36189.1017,
          22144.032,
          2250.8352,
          3875.7341,
          1984.4533,
          8891.1395,
          6455.86265,
          47462.894,
          11658.37915,
          2566.4707,
          1704.70015,
          12957.118,
          26236.57997,
          51194.55914,
          3987.926,
          58571.07448,
          2741.948,
          4837.5823,
          6555.07035,
          6610.1097,
          34779.615,
          4185.0979,
          17942.106,
          10795.93733,
          27037.9141,
          36307.7983,
          1253.936,
          6360.9936,
          2200.83085,
          17043.3414,
          11163.568,
          9964.06,
          4529.477,
          10713.644,
          11842.62375,
          9283.562,
          19539.243,
          2699.56835,
          23887.6627,
          19214.70553,
          8023.13545,
          9386.1613,
          47269.854,
          2104.1134,
          1720.3537,
          7345.084,
          2850.68375,
          7639.41745,
          3556.9223,
          10736.87075,
          9361.3268,
          8930.93455,
          45702.02235,
          4428.88785,
          24873.3849,
          8283.6807,
          5138.2567,
          22192.43711,
          35160.13457,
          10796.35025,
          1621.8827,
          4340.4409,
          11013.7119,
          14313.8463,
          19144.57652,
          13457.9608,
          6184.2994,
          1743.214,
          9875.6804,
          5375.038,
          2709.24395,
          1261.442,
          38711.0,
          34838.873,
          34472.841,
          25656.57526,
          52590.82939,
          11743.9341,
          17663.1442,
          12233.828,
          6985.50695,
          6389.37785,
          2154.361,
          7727.2532,
          5630.45785,
          40103.89,
          6666.243,
          14256.1928,
          11763.0009,
          23241.47453,
          4673.3922,
          4391.652,
          1719.4363,
          2217.46915,
          6393.60345,
          21098.55405,
          3172.018,
          10156.7832,
          6356.2707,
          41919.097,
          15555.18875,
          4753.6368,
          28340.18885,
          34806.4677,
          28923.13692,
          3481.868,
          8782.469,
          10065.413,
          31620.00106,
          5272.1758,
          2117.33885,
          5325.651,
          12928.7911,
          8116.68,
          8515.7587,
          8116.26885,
          14394.39815,
          42969.8527,
          7265.7025,
          10141.1362,
          4243.59005,
          6986.697,
          62592.87309,
          3176.8159,
          17361.7661,
          29141.3603,
          1731.677,
          8334.45755,
          3591.48,
          2523.1695,
          15161.5344,
          1744.465,
          15828.82173,
          11326.71487,
          48549.17835,
          5974.3847,
          6082.405,
          9095.06825,
          13887.204,
          2331.519,
          7050.0213,
          20149.3229,
          9800.8882,
          43254.41795,
          3537.703,
          3561.8889,
          12333.828,
          13844.506,
          42560.4304,
          14455.64405,
          11538.421,
          11879.10405,
          6402.29135,
          35147.52848,
          4922.9159,
          37270.1512,
          8232.6388,
          7201.70085,
          4883.866,
          10370.91255,
          5240.765,
          2150.469,
          46889.2612,
          14043.4767,
          9877.6077,
          8059.6791,
          2304.0022,
          19442.3535,
          26125.67477,
          2137.6536,
          11455.28,
          11554.2236,
          28468.91901,
          30166.61817,
          2902.9065,
          11657.7189,
          4234.927,
          2026.9741,
          25081.76784,
          1837.2819,
          2352.96845,
          3925.7582,
          10269.46,
          12950.0712,
          5415.6612,
          7209.4918,
          3279.86855,
          13143.86485,
          5708.867,
          37829.7242,
          14571.8908,
          5472.449,
          13822.803,
          27808.7251,
          8124.4084,
          12629.1656,
          1242.26,
          19444.2658,
          27941.28758,
          11741.726,
          17179.522,
          11272.33139,
          39125.33225,
          6079.6715,
          9855.1314,
          1632.56445,
          1261.859,
          9778.3472,
          16115.3045,
          13429.0354,
          2597.779,
          6338.0756,
          3353.4703,
          46200.9851,
          6664.68595,
          13937.6665,
          10976.24575,
          17496.306,
          36580.28216,
          42303.69215,
          16796.41194,
          12574.049,
          11085.5868,
          4433.3877,
          8027.968,
          10226.2842,
          26018.95052,
          43921.1837,
          39983.42595,
          5377.4578,
          1737.376,
          1532.4697,
          13451.122,
          2020.5523,
          3044.2133,
          2534.39375,
          19496.71917,
          11363.2832,
          14007.222,
          19749.38338,
          21223.6758,
          21472.4788,
          21797.0004,
          9617.66245,
          9625.92,
          12648.7034,
          4877.98105,
          4667.60765,
          1633.9618,
          7804.1605,
          3378.91,
          3062.50825,
          22478.6,
          1725.5523,
          3021.80915,
          3994.1778,
          6289.7549,
          35595.5898,
          1682.597,
          44641.1974,
          23244.7902,
          11884.04858,
          9724.53,
          13112.6048,
          25678.77845,
          7448.40395,
          9411.005,
          7682.67,
          45710.20785,
          6653.7886,
          41097.16175,
          7345.7266,
          2198.18985,
          2801.2588,
          7526.70645,
          21595.38229,
          8596.8278,
          10325.206,
          13129.60345,
          5148.5526,
          1875.344,
          1639.5631,
          9722.7695,
          6877.9801,
          6781.3542,
          12142.5786,
          11015.1747,
          47055.5321,
          10601.63225,
          21984.47061,
          14001.2867,
          27000.98473,
          3659.346,
          27724.28875,
          8277.523,
          4747.0529,
          12979.358,
          6358.77645,
          4347.02335,
          2130.6759,
          6748.5912,
          8219.2039,
          2639.0429,
          5910.944,
          4005.4225,
          41661.602,
          12235.8392,
          11454.0215,
          8211.1002,
          38344.566,
          26392.26029,
          3704.3545,
          12032.326,
          13224.693,
          2731.9122,
          8342.90875,
          17468.9839,
          2755.02095,
          9566.9909,
          6059.173,
          10338.9316,
          33471.97189,
          11033.6617,
          1632.03625,
          24476.47851,
          3554.203,
          7337.748,
          12982.8747,
          7740.337,
          3208.787,
          38709.176,
          21344.8467,
          16069.08475,
          2395.17155,
          5245.2269,
          17560.37975,
          8798.593,
          12124.9924,
          5438.7491,
          25309.489,
          4149.736,
          8601.3293,
          7443.64305,
          1880.487,
          38126.2465,
          46151.1245,
          24393.6224,
          8964.06055,
          19719.6947
         ],
         "xaxis": "x",
         "yaxis": "y",
         "type": "histogram",
         "textfont": {
          "size": 14
         },
         "textangle": 0,
         "textposition": "outside"
        }
       ],
       "layout": {
        "template": {
         "data": {
          "histogram2dcontour": [
           {
            "type": "histogram2dcontour",
            "colorbar": {
             "outlinewidth": 0,
             "ticks": ""
            },
            "colorscale": [
             [
              0.0,
              "#0d0887"
             ],
             [
              0.1111111111111111,
              "#46039f"
             ],
             [
              0.2222222222222222,
              "#7201a8"
             ],
             [
              0.3333333333333333,
              "#9c179e"
             ],
             [
              0.4444444444444444,
              "#bd3786"
             ],
             [
              0.5555555555555556,
              "#d8576b"
             ],
             [
              0.6666666666666666,
              "#ed7953"
             ],
             [
              0.7777777777777778,
              "#fb9f3a"
             ],
             [
              0.8888888888888888,
              "#fdca26"
             ],
             [
              1.0,
              "#f0f921"
             ]
            ]
           }
          ],
          "choropleth": [
           {
            "type": "choropleth",
            "colorbar": {
             "outlinewidth": 0,
             "ticks": ""
            }
           }
          ],
          "histogram2d": [
           {
            "type": "histogram2d",
            "colorbar": {
             "outlinewidth": 0,
             "ticks": ""
            },
            "colorscale": [
             [
              0.0,
              "#0d0887"
             ],
             [
              0.1111111111111111,
              "#46039f"
             ],
             [
              0.2222222222222222,
              "#7201a8"
             ],
             [
              0.3333333333333333,
              "#9c179e"
             ],
             [
              0.4444444444444444,
              "#bd3786"
             ],
             [
              0.5555555555555556,
              "#d8576b"
             ],
             [
              0.6666666666666666,
              "#ed7953"
             ],
             [
              0.7777777777777778,
              "#fb9f3a"
             ],
             [
              0.8888888888888888,
              "#fdca26"
             ],
             [
              1.0,
              "#f0f921"
             ]
            ]
           }
          ],
          "heatmap": [
           {
            "type": "heatmap",
            "colorbar": {
             "outlinewidth": 0,
             "ticks": ""
            },
            "colorscale": [
             [
              0.0,
              "#0d0887"
             ],
             [
              0.1111111111111111,
              "#46039f"
             ],
             [
              0.2222222222222222,
              "#7201a8"
             ],
             [
              0.3333333333333333,
              "#9c179e"
             ],
             [
              0.4444444444444444,
              "#bd3786"
             ],
             [
              0.5555555555555556,
              "#d8576b"
             ],
             [
              0.6666666666666666,
              "#ed7953"
             ],
             [
              0.7777777777777778,
              "#fb9f3a"
             ],
             [
              0.8888888888888888,
              "#fdca26"
             ],
             [
              1.0,
              "#f0f921"
             ]
            ]
           }
          ],
          "heatmapgl": [
           {
            "type": "heatmapgl",
            "colorbar": {
             "outlinewidth": 0,
             "ticks": ""
            },
            "colorscale": [
             [
              0.0,
              "#0d0887"
             ],
             [
              0.1111111111111111,
              "#46039f"
             ],
             [
              0.2222222222222222,
              "#7201a8"
             ],
             [
              0.3333333333333333,
              "#9c179e"
             ],
             [
              0.4444444444444444,
              "#bd3786"
             ],
             [
              0.5555555555555556,
              "#d8576b"
             ],
             [
              0.6666666666666666,
              "#ed7953"
             ],
             [
              0.7777777777777778,
              "#fb9f3a"
             ],
             [
              0.8888888888888888,
              "#fdca26"
             ],
             [
              1.0,
              "#f0f921"
             ]
            ]
           }
          ],
          "contourcarpet": [
           {
            "type": "contourcarpet",
            "colorbar": {
             "outlinewidth": 0,
             "ticks": ""
            }
           }
          ],
          "contour": [
           {
            "type": "contour",
            "colorbar": {
             "outlinewidth": 0,
             "ticks": ""
            },
            "colorscale": [
             [
              0.0,
              "#0d0887"
             ],
             [
              0.1111111111111111,
              "#46039f"
             ],
             [
              0.2222222222222222,
              "#7201a8"
             ],
             [
              0.3333333333333333,
              "#9c179e"
             ],
             [
              0.4444444444444444,
              "#bd3786"
             ],
             [
              0.5555555555555556,
              "#d8576b"
             ],
             [
              0.6666666666666666,
              "#ed7953"
             ],
             [
              0.7777777777777778,
              "#fb9f3a"
             ],
             [
              0.8888888888888888,
              "#fdca26"
             ],
             [
              1.0,
              "#f0f921"
             ]
            ]
           }
          ],
          "surface": [
           {
            "type": "surface",
            "colorbar": {
             "outlinewidth": 0,
             "ticks": ""
            },
            "colorscale": [
             [
              0.0,
              "#0d0887"
             ],
             [
              0.1111111111111111,
              "#46039f"
             ],
             [
              0.2222222222222222,
              "#7201a8"
             ],
             [
              0.3333333333333333,
              "#9c179e"
             ],
             [
              0.4444444444444444,
              "#bd3786"
             ],
             [
              0.5555555555555556,
              "#d8576b"
             ],
             [
              0.6666666666666666,
              "#ed7953"
             ],
             [
              0.7777777777777778,
              "#fb9f3a"
             ],
             [
              0.8888888888888888,
              "#fdca26"
             ],
             [
              1.0,
              "#f0f921"
             ]
            ]
           }
          ],
          "mesh3d": [
           {
            "type": "mesh3d",
            "colorbar": {
             "outlinewidth": 0,
             "ticks": ""
            }
           }
          ],
          "scatter": [
           {
            "fillpattern": {
             "fillmode": "overlay",
             "size": 10,
             "solidity": 0.2
            },
            "type": "scatter"
           }
          ],
          "parcoords": [
           {
            "type": "parcoords",
            "line": {
             "colorbar": {
              "outlinewidth": 0,
              "ticks": ""
             }
            }
           }
          ],
          "scatterpolargl": [
           {
            "type": "scatterpolargl",
            "marker": {
             "colorbar": {
              "outlinewidth": 0,
              "ticks": ""
             }
            }
           }
          ],
          "bar": [
           {
            "error_x": {
             "color": "#2a3f5f"
            },
            "error_y": {
             "color": "#2a3f5f"
            },
            "marker": {
             "line": {
              "color": "#E5ECF6",
              "width": 0.5
             },
             "pattern": {
              "fillmode": "overlay",
              "size": 10,
              "solidity": 0.2
             }
            },
            "type": "bar"
           }
          ],
          "scattergeo": [
           {
            "type": "scattergeo",
            "marker": {
             "colorbar": {
              "outlinewidth": 0,
              "ticks": ""
             }
            }
           }
          ],
          "scatterpolar": [
           {
            "type": "scatterpolar",
            "marker": {
             "colorbar": {
              "outlinewidth": 0,
              "ticks": ""
             }
            }
           }
          ],
          "histogram": [
           {
            "marker": {
             "pattern": {
              "fillmode": "overlay",
              "size": 10,
              "solidity": 0.2
             }
            },
            "type": "histogram"
           }
          ],
          "scattergl": [
           {
            "type": "scattergl",
            "marker": {
             "colorbar": {
              "outlinewidth": 0,
              "ticks": ""
             }
            }
           }
          ],
          "scatter3d": [
           {
            "type": "scatter3d",
            "line": {
             "colorbar": {
              "outlinewidth": 0,
              "ticks": ""
             }
            },
            "marker": {
             "colorbar": {
              "outlinewidth": 0,
              "ticks": ""
             }
            }
           }
          ],
          "scattermapbox": [
           {
            "type": "scattermapbox",
            "marker": {
             "colorbar": {
              "outlinewidth": 0,
              "ticks": ""
             }
            }
           }
          ],
          "scatterternary": [
           {
            "type": "scatterternary",
            "marker": {
             "colorbar": {
              "outlinewidth": 0,
              "ticks": ""
             }
            }
           }
          ],
          "scattercarpet": [
           {
            "type": "scattercarpet",
            "marker": {
             "colorbar": {
              "outlinewidth": 0,
              "ticks": ""
             }
            }
           }
          ],
          "carpet": [
           {
            "aaxis": {
             "endlinecolor": "#2a3f5f",
             "gridcolor": "white",
             "linecolor": "white",
             "minorgridcolor": "white",
             "startlinecolor": "#2a3f5f"
            },
            "baxis": {
             "endlinecolor": "#2a3f5f",
             "gridcolor": "white",
             "linecolor": "white",
             "minorgridcolor": "white",
             "startlinecolor": "#2a3f5f"
            },
            "type": "carpet"
           }
          ],
          "table": [
           {
            "cells": {
             "fill": {
              "color": "#EBF0F8"
             },
             "line": {
              "color": "white"
             }
            },
            "header": {
             "fill": {
              "color": "#C8D4E3"
             },
             "line": {
              "color": "white"
             }
            },
            "type": "table"
           }
          ],
          "barpolar": [
           {
            "marker": {
             "line": {
              "color": "#E5ECF6",
              "width": 0.5
             },
             "pattern": {
              "fillmode": "overlay",
              "size": 10,
              "solidity": 0.2
             }
            },
            "type": "barpolar"
           }
          ],
          "pie": [
           {
            "automargin": true,
            "type": "pie"
           }
          ]
         },
         "layout": {
          "autotypenumbers": "strict",
          "colorway": [
           "#636efa",
           "#EF553B",
           "#00cc96",
           "#ab63fa",
           "#FFA15A",
           "#19d3f3",
           "#FF6692",
           "#B6E880",
           "#FF97FF",
           "#FECB52"
          ],
          "font": {
           "color": "#2a3f5f"
          },
          "hovermode": "closest",
          "hoverlabel": {
           "align": "left"
          },
          "paper_bgcolor": "white",
          "plot_bgcolor": "#E5ECF6",
          "polar": {
           "bgcolor": "#E5ECF6",
           "angularaxis": {
            "gridcolor": "white",
            "linecolor": "white",
            "ticks": ""
           },
           "radialaxis": {
            "gridcolor": "white",
            "linecolor": "white",
            "ticks": ""
           }
          },
          "ternary": {
           "bgcolor": "#E5ECF6",
           "aaxis": {
            "gridcolor": "white",
            "linecolor": "white",
            "ticks": ""
           },
           "baxis": {
            "gridcolor": "white",
            "linecolor": "white",
            "ticks": ""
           },
           "caxis": {
            "gridcolor": "white",
            "linecolor": "white",
            "ticks": ""
           }
          },
          "coloraxis": {
           "colorbar": {
            "outlinewidth": 0,
            "ticks": ""
           }
          },
          "colorscale": {
           "sequential": [
            [
             0.0,
             "#0d0887"
            ],
            [
             0.1111111111111111,
             "#46039f"
            ],
            [
             0.2222222222222222,
             "#7201a8"
            ],
            [
             0.3333333333333333,
             "#9c179e"
            ],
            [
             0.4444444444444444,
             "#bd3786"
            ],
            [
             0.5555555555555556,
             "#d8576b"
            ],
            [
             0.6666666666666666,
             "#ed7953"
            ],
            [
             0.7777777777777778,
             "#fb9f3a"
            ],
            [
             0.8888888888888888,
             "#fdca26"
            ],
            [
             1.0,
             "#f0f921"
            ]
           ],
           "sequentialminus": [
            [
             0.0,
             "#0d0887"
            ],
            [
             0.1111111111111111,
             "#46039f"
            ],
            [
             0.2222222222222222,
             "#7201a8"
            ],
            [
             0.3333333333333333,
             "#9c179e"
            ],
            [
             0.4444444444444444,
             "#bd3786"
            ],
            [
             0.5555555555555556,
             "#d8576b"
            ],
            [
             0.6666666666666666,
             "#ed7953"
            ],
            [
             0.7777777777777778,
             "#fb9f3a"
            ],
            [
             0.8888888888888888,
             "#fdca26"
            ],
            [
             1.0,
             "#f0f921"
            ]
           ],
           "diverging": [
            [
             0,
             "#8e0152"
            ],
            [
             0.1,
             "#c51b7d"
            ],
            [
             0.2,
             "#de77ae"
            ],
            [
             0.3,
             "#f1b6da"
            ],
            [
             0.4,
             "#fde0ef"
            ],
            [
             0.5,
             "#f7f7f7"
            ],
            [
             0.6,
             "#e6f5d0"
            ],
            [
             0.7,
             "#b8e186"
            ],
            [
             0.8,
             "#7fbc41"
            ],
            [
             0.9,
             "#4d9221"
            ],
            [
             1,
             "#276419"
            ]
           ]
          },
          "xaxis": {
           "gridcolor": "white",
           "linecolor": "white",
           "ticks": "",
           "title": {
            "standoff": 15
           },
           "zerolinecolor": "white",
           "automargin": true,
           "zerolinewidth": 2
          },
          "yaxis": {
           "gridcolor": "white",
           "linecolor": "white",
           "ticks": "",
           "title": {
            "standoff": 15
           },
           "zerolinecolor": "white",
           "automargin": true,
           "zerolinewidth": 2
          },
          "scene": {
           "xaxis": {
            "backgroundcolor": "#E5ECF6",
            "gridcolor": "white",
            "linecolor": "white",
            "showbackground": true,
            "ticks": "",
            "zerolinecolor": "white",
            "gridwidth": 2
           },
           "yaxis": {
            "backgroundcolor": "#E5ECF6",
            "gridcolor": "white",
            "linecolor": "white",
            "showbackground": true,
            "ticks": "",
            "zerolinecolor": "white",
            "gridwidth": 2
           },
           "zaxis": {
            "backgroundcolor": "#E5ECF6",
            "gridcolor": "white",
            "linecolor": "white",
            "showbackground": true,
            "ticks": "",
            "zerolinecolor": "white",
            "gridwidth": 2
           }
          },
          "shapedefaults": {
           "line": {
            "color": "#2a3f5f"
           }
          },
          "annotationdefaults": {
           "arrowcolor": "#2a3f5f",
           "arrowhead": 0,
           "arrowwidth": 1
          },
          "geo": {
           "bgcolor": "white",
           "landcolor": "#E5ECF6",
           "subunitcolor": "white",
           "showland": true,
           "showlakes": true,
           "lakecolor": "white"
          },
          "title": {
           "x": 0.05
          },
          "mapbox": {
           "style": "light"
          }
         }
        },
        "xaxis": {
         "anchor": "y",
         "domain": [
          0.0,
          1.0
         ],
         "title": {
          "text": "value"
         }
        },
        "yaxis": {
         "anchor": "x",
         "domain": [
          0.0,
          1.0
         ],
         "title": {
          "text": "count"
         }
        },
        "legend": {
         "title": {
          "text": "variable"
         },
         "tracegroupgap": 0
        },
        "margin": {
         "t": 60
        },
        "barmode": "relative",
        "title": {
         "text": "BMI histogram",
         "font": {
          "size": 20
         }
        }
       },
       "config": {
        "plotlyServerURL": "https://plot.ly"
       }
      },
      "text/html": "<div>                            <div id=\"896c59d0-ced6-42ad-81a5-d51927204cb7\" class=\"plotly-graph-div\" style=\"height:525px; width:100%;\"></div>            <script type=\"text/javascript\">                require([\"plotly\"], function(Plotly) {                    window.PLOTLYENV=window.PLOTLYENV || {};                                    if (document.getElementById(\"896c59d0-ced6-42ad-81a5-d51927204cb7\")) {                    Plotly.newPlot(                        \"896c59d0-ced6-42ad-81a5-d51927204cb7\",                        [{\"alignmentgroup\":\"True\",\"bingroup\":\"x\",\"hovertemplate\":\"variable=charges<br>value=%{x}<br>count=%{y}<extra></extra>\",\"legendgroup\":\"charges\",\"marker\":{\"color\":\"#636efa\",\"pattern\":{\"shape\":\"\"},\"line\":{\"color\":\"grey\",\"width\":2},\"coloraxis\":\"coloraxis\"},\"name\":\"charges\",\"nbinsx\":70,\"offsetgroup\":\"charges\",\"orientation\":\"v\",\"showlegend\":true,\"x\":[2897.3235,16586.49771,1615.7667,12829.4551,7228.21565,10797.3362,2205.9808,8688.85885,8835.26495,1631.8212,1977.815,42760.5022,10214.636,4827.90495,9432.9253,3070.8087,8428.0693,39836.519,12523.6048,5152.134,9541.69555,11286.5387,33750.2918,11381.3254,8606.2174,12495.29085,39556.4945,1877.9294,11938.25595,1694.7964,7358.17565,6799.458,6571.544,2201.0971,26140.3603,5846.9176,4074.4537,41034.2214,46113.511,6203.90175,11345.519,12475.3513,23568.272,3171.6149,8703.456,15817.9857,1906.35825,10493.9458,10923.9332,21348.706,3847.674,5594.8455,16232.847,4686.3887,4433.9159,1815.8759,2632.992,7518.02535,12222.8983,15518.18025,24671.66334,43578.9394,7731.85785,14319.031,3866.8552,5836.5204,14711.7438,20167.33603,4133.64165,2730.10785,2842.76075,6500.2359,5385.3379,1664.9996,5615.369,13047.33235,6948.7008,9144.565,9869.8102,34439.8559,11070.535,34254.05335,2457.502,8978.1851,3956.07145,40974.1649,18963.17192,1137.011,34672.1472,18648.4217,2416.955,10422.91665,2134.9015,40003.33225,7445.918,33475.81715,26109.32905,3947.4131,12105.32,5488.262,41999.52,3693.428,19933.458,3410.324,11987.1682,20630.28351,8516.829,5469.0066,18903.49141,4846.92015,13831.1152,27375.90478,11674.13,6474.013,5246.047,2904.088,44501.3982,11743.299,39597.4072,18033.9679,33307.5508,2721.3208,3167.45585,48173.361,11090.7178,38415.474,9174.13565,10577.087,9549.5651,4536.259,7348.142,3206.49135,42124.5153,3906.127,12981.3457,10594.50155,7173.35995,3309.7926,36898.73308,14349.8544,1639.5631,13415.0381,55135.40209,5649.715,9058.7303,42111.6647,9182.17,7633.7206,6640.54485,9447.25035,12029.2867,5662.225,44400.4064,3732.6251,27346.04207,12265.5069,8823.98575,27117.99378,19023.26,30063.58055,26467.09737,11945.1327,3484.331,20781.48892,35491.64,8083.9198,11362.755,30942.1918,9880.068,2217.6012,18259.216,5484.4673,39725.51805,12244.531,14478.33015,1391.5287,4661.28635,37607.5277,10848.1343,9500.57305,11299.343,15230.32405,17904.52705,20462.99766,9282.4806,4058.71245,2473.3341,18157.876,6406.4107,35069.37452,5976.8311,8582.3023,37079.372,43896.3763,33907.548,24513.09126,3176.2877,10704.47,5312.16985,19673.33573,6940.90985,10231.4999,1964.78,4189.1131,5383.536,4562.8421,1633.0444,9861.025,17929.30337,5757.41345,9634.538,11187.6567,14451.83515,7133.9025,8603.8234,36149.4835,34303.1672,4766.022,14210.53595,2203.47185,8068.185,43813.8661,21659.9301,12913.9924,3490.5491,13430.265,8538.28845,2221.56445,6334.34355,12890.05765,23065.4207,8310.83915,44202.6536,2709.1119,2155.6815,8944.1151,36085.219,8233.0975,47403.88,12269.68865,5227.98875,2867.1196,2138.0707,12925.886,2136.88225,15019.76005,1708.92575,9447.3824,33900.653,6548.19505,29330.98315,9048.0273,6198.7518,9910.35985,9991.03765,13462.52,4337.7352,11436.73815,7243.8136,6753.038,46255.1125,13974.45555,6858.4796,3393.35635,7325.0482,12094.478,14449.8544,2438.0552,10407.08585,46599.1084,8444.474,5266.3656,4415.1588,8556.907,10825.2537,1629.8335,9850.432,11264.541,48824.45,4564.19145,23082.95533,38511.6283,5693.4305,10959.33,16657.71745,32734.1863,18767.7377,4399.731,4296.2712,1824.2854,63770.42801,13844.7972,24180.9335,1712.227,20773.62775,4040.55825,7421.19455,7441.501,2690.1138,13228.84695,8252.2843,6373.55735,1252.407,10435.06525,24106.91255,11488.31695,7729.64575,3366.6697,6933.24225,7147.105,7147.4728,1832.094,8605.3615,6282.235,4239.89265,2045.68525,1607.5101,1727.54,12430.95335,17178.6824,9290.1395,11840.77505,4646.759,5080.096,13063.883,4934.705,15359.1045,16450.8947,1625.43375,35585.576,18328.2381,1727.785,2302.3,18223.4512,12323.936,12485.8009,6311.952,11552.904,17081.08,1628.4709,2207.69745,10600.5483,17878.90068,6746.7425,1917.3184,12224.35085,3597.596,3558.62025,8280.6227,8302.53565,9504.3103,43943.8761,7418.522,11881.9696,5934.3798,5699.8375,21232.18226,42211.1382,7512.267,18608.262,8162.71625,4441.21315,12268.63225,11830.6072,6250.435,3943.5954,9193.8385,8334.5896,44260.7499,19361.9988,5257.50795,11735.87905,10436.096,4889.9995,9264.797,2585.269,4438.2634,18955.22017,4320.41085,11576.13,11411.685,34828.654,46718.16325,7077.1894,1621.3402,8534.6718,1263.249,9249.4952,12231.6136,6600.20595,6238.298,40273.6455,39727.614,27218.43725,8442.667,2464.6188,6710.1919,1837.237,13880.949,7256.7231,8520.026,7626.993,13126.67745,1622.1885,6196.448,6551.7501,7623.518,14254.6082,14394.5579,11737.84884,14418.2804,7152.6714,6849.026,11534.87265,41676.0811,8671.19125,24520.264,11150.78,48970.2476,7650.77375,9414.92,36397.576,32548.3405,10560.4917,20984.0936,11082.5772,20745.9891,1972.95,8988.15875,2855.43755,25382.297,8410.04685,10601.412,13390.559,9222.4026,8062.764,5428.7277,3353.284,11658.11505,2128.43105,11244.3769,39774.2763,14410.9321,11165.41765,10965.446,23967.38305,13143.33665,14692.66935,8551.347,14474.675,48885.13561,20177.67113,4751.07,3392.9768,8965.79575,1748.774,42983.4585,2103.08,7144.86265,2459.7201,4518.82625,10602.385,1526.312,12096.6512,14901.5167,12557.6053,3227.1211,12479.70895,36950.2567,8733.22925,13470.86,11837.16,1135.9407,6875.961,3594.17085,11305.93455,4500.33925,4894.7533,42112.2356,10579.711,2974.126,6457.8434,6435.6237,3268.84665,11396.9002,2494.022,2483.736,37701.8768,7537.1639,10702.6424,11356.6609,8932.084,46130.5265,7371.772,5729.0053,18806.14547,1909.52745,5267.81815,10043.249,13204.28565,4463.2051,3857.75925,1242.816,2156.7518,10461.9794,43753.33705,5261.46945,16420.49455,16085.1275,3935.1799,5478.0368,12363.547,37484.4493,5926.846,47291.055,3579.8287,2913.569,2497.0383,4237.12655,3500.6123,4915.05985,38998.546,48517.56315,1136.3994,11931.12525,7985.815,14119.62,5209.57885,2680.9493,38792.6856,9957.7216,5002.7827,16455.70785,36197.699,36837.467,9704.66805,2585.85065,12815.44495,37742.5757,39611.7577,11881.358,44585.45587,5012.471,6123.5688,38746.3551,7742.1098,2020.177,4402.233,13405.3903,13616.3586,23306.547,47896.79135,5989.52365,3766.8838,11729.6795,18804.7524,2102.2647,2480.9791,9563.029,3277.161,1704.5681,8017.06115,23807.2406,42856.838,40932.4295,7222.78625,2254.7967,1826.843,2927.0647,13041.921,4738.2682,3756.6216,34166.273,18310.742,6837.3687,2322.6218,12646.207,9583.8933,3077.0955,2789.0574,12797.20962,28950.4692,8457.818,4349.462,6593.5083,4746.344,6770.1925,21774.32215,8522.003,10791.96,13607.36875,6067.12675,9377.9047,3577.999,8825.086,4527.18295,6775.961,24535.69855,4906.40965,3180.5101,23563.01618,1146.7966,11856.4115,20709.02034,1631.6683,20296.86345,10072.05505,9748.9106,19040.876,24667.419,4260.744,1121.8739,14358.36437,24869.8368,13012.20865,4137.5227,23401.30575,1241.565,4618.0799,22395.74424,4466.6214,2457.21115,14001.1338,12643.3778,2211.13075,4058.1161,2055.3249,4561.1885,33732.6867,7046.7222,2866.091,1163.4627,2727.3951,12622.1795,22218.1149,1967.0227,4357.04365,1986.9334,2803.69785,13470.8044,10564.8845,4454.40265,8627.5411,22493.65964,3385.39915,15820.699,8026.6666,8968.33,4032.2407,9225.2564,5397.6167,23045.56616,5124.1887,12949.1554,9644.2525,44423.803,4504.6624,9288.0267,3292.52985,29186.48236,30284.64294,10977.2063,5125.2157,1635.73365,6128.79745,2527.81865,12404.8791,24915.22085,1515.3449,7162.0122,13770.0979,4435.0942,3201.24515,7731.4271,21880.82,2007.945,2899.48935,12644.589,1646.4297,6600.361,13555.0049,4830.63,1534.3045,9620.3307,3260.199,10807.4863,8615.3,12044.342,11842.442,4779.6023,8413.46305,13887.9685,15170.069,12146.971,13393.756,4718.20355,6796.86325,36910.60803,1980.07,27322.73386,8269.044,30184.9367,5028.1466,17626.23951,1131.5066,2257.47525,3161.454,12730.9996,9391.346,4719.73655,3046.062,12592.5345,3736.4647,17128.42608,13725.47184,1981.5819,25517.11363,11944.59435,22462.04375,7640.3092,21195.818,2166.732,1769.53165,4687.797,40182.246,48675.5177,15006.57945,16776.30405,41949.2441,7281.5056,36219.40545,5969.723,7986.47525,26926.5144,21259.37795,6414.178,9715.841,13635.6379,7419.4779,1728.897,11566.30055,5966.8874,3392.3652,24603.04837,11253.421,13224.05705,20009.63365,1141.4451,12629.8967,20234.85475,11073.176,7624.63,4449.462,38282.7495,6185.3208,3761.292,8765.249,8827.2099,18838.70366,3056.3881,14382.70905,20420.60465,4670.64,16884.924,2203.73595,6112.35295,2404.7338,10197.7722,8347.1643,25992.82104,40419.0191,3981.9768,18218.16139,45008.9555,7196.867,8871.1517,16297.846,1702.4553,5400.9805,2261.5688,4266.1658,17352.6803,5031.26955,1634.5734,32108.66282,10982.5013,47928.03,22412.6485,5373.36425,10106.13425,10928.849,20277.80751,10450.552,5003.853,9101.798,10118.424,21677.28345,11520.09985,19594.80965,47305.305,19199.944,8604.48365,49577.6624,11946.6259,9301.89355,37133.8982,7160.3303,4544.2348,13019.16105,48673.5588,2719.27975,6571.02435,1880.07,6117.4945,11833.7823,10085.846,9140.951,12741.16745,19515.5416,28868.6639,6113.23105,4719.52405,19798.05455,11365.952,28287.89766,5709.1644,7954.517,22331.5668,12609.88702,4795.6568,30259.99556,4134.08245,24227.33724,29523.1656,10264.4421,7323.734819,7726.854,5354.07465,38245.59327,3645.0894,19964.7463,25333.33284,6496.886,3757.8448,40904.1995,11093.6229,14283.4594,7789.635,4571.41305,10115.00885,47496.49445,37465.34375,5979.731,5327.40025,8823.279,8569.8618,36124.5737,8527.532,4350.5144,9788.8659,10959.6947,1842.519,5253.524,9487.6442,1256.299,2196.4732,46661.4424,1137.4697,2362.22905,1969.614,8125.7845,6272.4772,23288.9284,19107.7796,19350.3689,13981.85035,13352.0998,13747.87235,5116.5004,2498.4144,8240.5896,11848.141,4076.497,14235.072,40941.2854,1149.3959,10942.13205,1705.6245,37165.1638,12638.195,6686.4313,14988.432,5584.3057,10381.4787,2710.82855,39241.442,14426.07385,45863.205,8547.6913,9304.7019,11512.405,3877.30425,1708.0014,7160.094,5425.02335,7045.499,21978.6769,4889.0368,3972.9247,28476.73499,2643.2685,4462.7218,4992.3764,20878.78443,18972.495,7151.092,21082.16,17748.5062,7050.642,13217.0945,7749.1564,9630.397,6186.127,4762.329,10806.839,16138.76205,10096.97,6313.759,14590.63205,4151.0287,1759.338,3238.4357,2775.19215,36021.0112,9872.701,10594.2257,5972.378,1627.28245,39871.7043,11394.06555,11482.63485,18765.87545,34617.84065,24915.04626,3861.20965,13919.8229,1711.0268,3213.62205,4949.7587,19521.9682,60021.39897,9866.30485,1674.6323,18246.4955,9863.4718,14133.03775,17085.2676,39047.285,5855.9025,5458.04645,3471.4096,5920.1041,11289.10925,3443.064,2396.0959,2219.4451,16577.7795,32787.45859,3989.841,28101.33305,6652.5288,15612.19335,10107.2206,12347.172,7261.741,4931.647,10355.641,12129.61415,8539.671,24059.68019,2689.4954,11353.2276,7441.053,7153.5539,7935.29115,39722.7462,40720.55105,27533.9129,21771.3423,36189.1017,22144.032,2250.8352,3875.7341,1984.4533,8891.1395,6455.86265,47462.894,11658.37915,2566.4707,1704.70015,12957.118,26236.57997,51194.55914,3987.926,58571.07448,2741.948,4837.5823,6555.07035,6610.1097,34779.615,4185.0979,17942.106,10795.93733,27037.9141,36307.7983,1253.936,6360.9936,2200.83085,17043.3414,11163.568,9964.06,4529.477,10713.644,11842.62375,9283.562,19539.243,2699.56835,23887.6627,19214.70553,8023.13545,9386.1613,47269.854,2104.1134,1720.3537,7345.084,2850.68375,7639.41745,3556.9223,10736.87075,9361.3268,8930.93455,45702.02235,4428.88785,24873.3849,8283.6807,5138.2567,22192.43711,35160.13457,10796.35025,1621.8827,4340.4409,11013.7119,14313.8463,19144.57652,13457.9608,6184.2994,1743.214,9875.6804,5375.038,2709.24395,1261.442,38711.0,34838.873,34472.841,25656.57526,52590.82939,11743.9341,17663.1442,12233.828,6985.50695,6389.37785,2154.361,7727.2532,5630.45785,40103.89,6666.243,14256.1928,11763.0009,23241.47453,4673.3922,4391.652,1719.4363,2217.46915,6393.60345,21098.55405,3172.018,10156.7832,6356.2707,41919.097,15555.18875,4753.6368,28340.18885,34806.4677,28923.13692,3481.868,8782.469,10065.413,31620.00106,5272.1758,2117.33885,5325.651,12928.7911,8116.68,8515.7587,8116.26885,14394.39815,42969.8527,7265.7025,10141.1362,4243.59005,6986.697,62592.87309,3176.8159,17361.7661,29141.3603,1731.677,8334.45755,3591.48,2523.1695,15161.5344,1744.465,15828.82173,11326.71487,48549.17835,5974.3847,6082.405,9095.06825,13887.204,2331.519,7050.0213,20149.3229,9800.8882,43254.41795,3537.703,3561.8889,12333.828,13844.506,42560.4304,14455.64405,11538.421,11879.10405,6402.29135,35147.52848,4922.9159,37270.1512,8232.6388,7201.70085,4883.866,10370.91255,5240.765,2150.469,46889.2612,14043.4767,9877.6077,8059.6791,2304.0022,19442.3535,26125.67477,2137.6536,11455.28,11554.2236,28468.91901,30166.61817,2902.9065,11657.7189,4234.927,2026.9741,25081.76784,1837.2819,2352.96845,3925.7582,10269.46,12950.0712,5415.6612,7209.4918,3279.86855,13143.86485,5708.867,37829.7242,14571.8908,5472.449,13822.803,27808.7251,8124.4084,12629.1656,1242.26,19444.2658,27941.28758,11741.726,17179.522,11272.33139,39125.33225,6079.6715,9855.1314,1632.56445,1261.859,9778.3472,16115.3045,13429.0354,2597.779,6338.0756,3353.4703,46200.9851,6664.68595,13937.6665,10976.24575,17496.306,36580.28216,42303.69215,16796.41194,12574.049,11085.5868,4433.3877,8027.968,10226.2842,26018.95052,43921.1837,39983.42595,5377.4578,1737.376,1532.4697,13451.122,2020.5523,3044.2133,2534.39375,19496.71917,11363.2832,14007.222,19749.38338,21223.6758,21472.4788,21797.0004,9617.66245,9625.92,12648.7034,4877.98105,4667.60765,1633.9618,7804.1605,3378.91,3062.50825,22478.6,1725.5523,3021.80915,3994.1778,6289.7549,35595.5898,1682.597,44641.1974,23244.7902,11884.04858,9724.53,13112.6048,25678.77845,7448.40395,9411.005,7682.67,45710.20785,6653.7886,41097.16175,7345.7266,2198.18985,2801.2588,7526.70645,21595.38229,8596.8278,10325.206,13129.60345,5148.5526,1875.344,1639.5631,9722.7695,6877.9801,6781.3542,12142.5786,11015.1747,47055.5321,10601.63225,21984.47061,14001.2867,27000.98473,3659.346,27724.28875,8277.523,4747.0529,12979.358,6358.77645,4347.02335,2130.6759,6748.5912,8219.2039,2639.0429,5910.944,4005.4225,41661.602,12235.8392,11454.0215,8211.1002,38344.566,26392.26029,3704.3545,12032.326,13224.693,2731.9122,8342.90875,17468.9839,2755.02095,9566.9909,6059.173,10338.9316,33471.97189,11033.6617,1632.03625,24476.47851,3554.203,7337.748,12982.8747,7740.337,3208.787,38709.176,21344.8467,16069.08475,2395.17155,5245.2269,17560.37975,8798.593,12124.9924,5438.7491,25309.489,4149.736,8601.3293,7443.64305,1880.487,38126.2465,46151.1245,24393.6224,8964.06055,19719.6947],\"xaxis\":\"x\",\"yaxis\":\"y\",\"type\":\"histogram\",\"textfont\":{\"size\":14},\"textangle\":0,\"textposition\":\"outside\"}],                        {\"template\":{\"data\":{\"histogram2dcontour\":[{\"type\":\"histogram2dcontour\",\"colorbar\":{\"outlinewidth\":0,\"ticks\":\"\"},\"colorscale\":[[0.0,\"#0d0887\"],[0.1111111111111111,\"#46039f\"],[0.2222222222222222,\"#7201a8\"],[0.3333333333333333,\"#9c179e\"],[0.4444444444444444,\"#bd3786\"],[0.5555555555555556,\"#d8576b\"],[0.6666666666666666,\"#ed7953\"],[0.7777777777777778,\"#fb9f3a\"],[0.8888888888888888,\"#fdca26\"],[1.0,\"#f0f921\"]]}],\"choropleth\":[{\"type\":\"choropleth\",\"colorbar\":{\"outlinewidth\":0,\"ticks\":\"\"}}],\"histogram2d\":[{\"type\":\"histogram2d\",\"colorbar\":{\"outlinewidth\":0,\"ticks\":\"\"},\"colorscale\":[[0.0,\"#0d0887\"],[0.1111111111111111,\"#46039f\"],[0.2222222222222222,\"#7201a8\"],[0.3333333333333333,\"#9c179e\"],[0.4444444444444444,\"#bd3786\"],[0.5555555555555556,\"#d8576b\"],[0.6666666666666666,\"#ed7953\"],[0.7777777777777778,\"#fb9f3a\"],[0.8888888888888888,\"#fdca26\"],[1.0,\"#f0f921\"]]}],\"heatmap\":[{\"type\":\"heatmap\",\"colorbar\":{\"outlinewidth\":0,\"ticks\":\"\"},\"colorscale\":[[0.0,\"#0d0887\"],[0.1111111111111111,\"#46039f\"],[0.2222222222222222,\"#7201a8\"],[0.3333333333333333,\"#9c179e\"],[0.4444444444444444,\"#bd3786\"],[0.5555555555555556,\"#d8576b\"],[0.6666666666666666,\"#ed7953\"],[0.7777777777777778,\"#fb9f3a\"],[0.8888888888888888,\"#fdca26\"],[1.0,\"#f0f921\"]]}],\"heatmapgl\":[{\"type\":\"heatmapgl\",\"colorbar\":{\"outlinewidth\":0,\"ticks\":\"\"},\"colorscale\":[[0.0,\"#0d0887\"],[0.1111111111111111,\"#46039f\"],[0.2222222222222222,\"#7201a8\"],[0.3333333333333333,\"#9c179e\"],[0.4444444444444444,\"#bd3786\"],[0.5555555555555556,\"#d8576b\"],[0.6666666666666666,\"#ed7953\"],[0.7777777777777778,\"#fb9f3a\"],[0.8888888888888888,\"#fdca26\"],[1.0,\"#f0f921\"]]}],\"contourcarpet\":[{\"type\":\"contourcarpet\",\"colorbar\":{\"outlinewidth\":0,\"ticks\":\"\"}}],\"contour\":[{\"type\":\"contour\",\"colorbar\":{\"outlinewidth\":0,\"ticks\":\"\"},\"colorscale\":[[0.0,\"#0d0887\"],[0.1111111111111111,\"#46039f\"],[0.2222222222222222,\"#7201a8\"],[0.3333333333333333,\"#9c179e\"],[0.4444444444444444,\"#bd3786\"],[0.5555555555555556,\"#d8576b\"],[0.6666666666666666,\"#ed7953\"],[0.7777777777777778,\"#fb9f3a\"],[0.8888888888888888,\"#fdca26\"],[1.0,\"#f0f921\"]]}],\"surface\":[{\"type\":\"surface\",\"colorbar\":{\"outlinewidth\":0,\"ticks\":\"\"},\"colorscale\":[[0.0,\"#0d0887\"],[0.1111111111111111,\"#46039f\"],[0.2222222222222222,\"#7201a8\"],[0.3333333333333333,\"#9c179e\"],[0.4444444444444444,\"#bd3786\"],[0.5555555555555556,\"#d8576b\"],[0.6666666666666666,\"#ed7953\"],[0.7777777777777778,\"#fb9f3a\"],[0.8888888888888888,\"#fdca26\"],[1.0,\"#f0f921\"]]}],\"mesh3d\":[{\"type\":\"mesh3d\",\"colorbar\":{\"outlinewidth\":0,\"ticks\":\"\"}}],\"scatter\":[{\"fillpattern\":{\"fillmode\":\"overlay\",\"size\":10,\"solidity\":0.2},\"type\":\"scatter\"}],\"parcoords\":[{\"type\":\"parcoords\",\"line\":{\"colorbar\":{\"outlinewidth\":0,\"ticks\":\"\"}}}],\"scatterpolargl\":[{\"type\":\"scatterpolargl\",\"marker\":{\"colorbar\":{\"outlinewidth\":0,\"ticks\":\"\"}}}],\"bar\":[{\"error_x\":{\"color\":\"#2a3f5f\"},\"error_y\":{\"color\":\"#2a3f5f\"},\"marker\":{\"line\":{\"color\":\"#E5ECF6\",\"width\":0.5},\"pattern\":{\"fillmode\":\"overlay\",\"size\":10,\"solidity\":0.2}},\"type\":\"bar\"}],\"scattergeo\":[{\"type\":\"scattergeo\",\"marker\":{\"colorbar\":{\"outlinewidth\":0,\"ticks\":\"\"}}}],\"scatterpolar\":[{\"type\":\"scatterpolar\",\"marker\":{\"colorbar\":{\"outlinewidth\":0,\"ticks\":\"\"}}}],\"histogram\":[{\"marker\":{\"pattern\":{\"fillmode\":\"overlay\",\"size\":10,\"solidity\":0.2}},\"type\":\"histogram\"}],\"scattergl\":[{\"type\":\"scattergl\",\"marker\":{\"colorbar\":{\"outlinewidth\":0,\"ticks\":\"\"}}}],\"scatter3d\":[{\"type\":\"scatter3d\",\"line\":{\"colorbar\":{\"outlinewidth\":0,\"ticks\":\"\"}},\"marker\":{\"colorbar\":{\"outlinewidth\":0,\"ticks\":\"\"}}}],\"scattermapbox\":[{\"type\":\"scattermapbox\",\"marker\":{\"colorbar\":{\"outlinewidth\":0,\"ticks\":\"\"}}}],\"scatterternary\":[{\"type\":\"scatterternary\",\"marker\":{\"colorbar\":{\"outlinewidth\":0,\"ticks\":\"\"}}}],\"scattercarpet\":[{\"type\":\"scattercarpet\",\"marker\":{\"colorbar\":{\"outlinewidth\":0,\"ticks\":\"\"}}}],\"carpet\":[{\"aaxis\":{\"endlinecolor\":\"#2a3f5f\",\"gridcolor\":\"white\",\"linecolor\":\"white\",\"minorgridcolor\":\"white\",\"startlinecolor\":\"#2a3f5f\"},\"baxis\":{\"endlinecolor\":\"#2a3f5f\",\"gridcolor\":\"white\",\"linecolor\":\"white\",\"minorgridcolor\":\"white\",\"startlinecolor\":\"#2a3f5f\"},\"type\":\"carpet\"}],\"table\":[{\"cells\":{\"fill\":{\"color\":\"#EBF0F8\"},\"line\":{\"color\":\"white\"}},\"header\":{\"fill\":{\"color\":\"#C8D4E3\"},\"line\":{\"color\":\"white\"}},\"type\":\"table\"}],\"barpolar\":[{\"marker\":{\"line\":{\"color\":\"#E5ECF6\",\"width\":0.5},\"pattern\":{\"fillmode\":\"overlay\",\"size\":10,\"solidity\":0.2}},\"type\":\"barpolar\"}],\"pie\":[{\"automargin\":true,\"type\":\"pie\"}]},\"layout\":{\"autotypenumbers\":\"strict\",\"colorway\":[\"#636efa\",\"#EF553B\",\"#00cc96\",\"#ab63fa\",\"#FFA15A\",\"#19d3f3\",\"#FF6692\",\"#B6E880\",\"#FF97FF\",\"#FECB52\"],\"font\":{\"color\":\"#2a3f5f\"},\"hovermode\":\"closest\",\"hoverlabel\":{\"align\":\"left\"},\"paper_bgcolor\":\"white\",\"plot_bgcolor\":\"#E5ECF6\",\"polar\":{\"bgcolor\":\"#E5ECF6\",\"angularaxis\":{\"gridcolor\":\"white\",\"linecolor\":\"white\",\"ticks\":\"\"},\"radialaxis\":{\"gridcolor\":\"white\",\"linecolor\":\"white\",\"ticks\":\"\"}},\"ternary\":{\"bgcolor\":\"#E5ECF6\",\"aaxis\":{\"gridcolor\":\"white\",\"linecolor\":\"white\",\"ticks\":\"\"},\"baxis\":{\"gridcolor\":\"white\",\"linecolor\":\"white\",\"ticks\":\"\"},\"caxis\":{\"gridcolor\":\"white\",\"linecolor\":\"white\",\"ticks\":\"\"}},\"coloraxis\":{\"colorbar\":{\"outlinewidth\":0,\"ticks\":\"\"}},\"colorscale\":{\"sequential\":[[0.0,\"#0d0887\"],[0.1111111111111111,\"#46039f\"],[0.2222222222222222,\"#7201a8\"],[0.3333333333333333,\"#9c179e\"],[0.4444444444444444,\"#bd3786\"],[0.5555555555555556,\"#d8576b\"],[0.6666666666666666,\"#ed7953\"],[0.7777777777777778,\"#fb9f3a\"],[0.8888888888888888,\"#fdca26\"],[1.0,\"#f0f921\"]],\"sequentialminus\":[[0.0,\"#0d0887\"],[0.1111111111111111,\"#46039f\"],[0.2222222222222222,\"#7201a8\"],[0.3333333333333333,\"#9c179e\"],[0.4444444444444444,\"#bd3786\"],[0.5555555555555556,\"#d8576b\"],[0.6666666666666666,\"#ed7953\"],[0.7777777777777778,\"#fb9f3a\"],[0.8888888888888888,\"#fdca26\"],[1.0,\"#f0f921\"]],\"diverging\":[[0,\"#8e0152\"],[0.1,\"#c51b7d\"],[0.2,\"#de77ae\"],[0.3,\"#f1b6da\"],[0.4,\"#fde0ef\"],[0.5,\"#f7f7f7\"],[0.6,\"#e6f5d0\"],[0.7,\"#b8e186\"],[0.8,\"#7fbc41\"],[0.9,\"#4d9221\"],[1,\"#276419\"]]},\"xaxis\":{\"gridcolor\":\"white\",\"linecolor\":\"white\",\"ticks\":\"\",\"title\":{\"standoff\":15},\"zerolinecolor\":\"white\",\"automargin\":true,\"zerolinewidth\":2},\"yaxis\":{\"gridcolor\":\"white\",\"linecolor\":\"white\",\"ticks\":\"\",\"title\":{\"standoff\":15},\"zerolinecolor\":\"white\",\"automargin\":true,\"zerolinewidth\":2},\"scene\":{\"xaxis\":{\"backgroundcolor\":\"#E5ECF6\",\"gridcolor\":\"white\",\"linecolor\":\"white\",\"showbackground\":true,\"ticks\":\"\",\"zerolinecolor\":\"white\",\"gridwidth\":2},\"yaxis\":{\"backgroundcolor\":\"#E5ECF6\",\"gridcolor\":\"white\",\"linecolor\":\"white\",\"showbackground\":true,\"ticks\":\"\",\"zerolinecolor\":\"white\",\"gridwidth\":2},\"zaxis\":{\"backgroundcolor\":\"#E5ECF6\",\"gridcolor\":\"white\",\"linecolor\":\"white\",\"showbackground\":true,\"ticks\":\"\",\"zerolinecolor\":\"white\",\"gridwidth\":2}},\"shapedefaults\":{\"line\":{\"color\":\"#2a3f5f\"}},\"annotationdefaults\":{\"arrowcolor\":\"#2a3f5f\",\"arrowhead\":0,\"arrowwidth\":1},\"geo\":{\"bgcolor\":\"white\",\"landcolor\":\"#E5ECF6\",\"subunitcolor\":\"white\",\"showland\":true,\"showlakes\":true,\"lakecolor\":\"white\"},\"title\":{\"x\":0.05},\"mapbox\":{\"style\":\"light\"}}},\"xaxis\":{\"anchor\":\"y\",\"domain\":[0.0,1.0],\"title\":{\"text\":\"value\"}},\"yaxis\":{\"anchor\":\"x\",\"domain\":[0.0,1.0],\"title\":{\"text\":\"count\"}},\"legend\":{\"title\":{\"text\":\"variable\"},\"tracegroupgap\":0},\"margin\":{\"t\":60},\"barmode\":\"relative\",\"title\":{\"text\":\"BMI histogram\",\"font\":{\"size\":20}}},                        {\"responsive\": true}                    ).then(function(){\n                            \nvar gd = document.getElementById('896c59d0-ced6-42ad-81a5-d51927204cb7');\nvar x = new MutationObserver(function (mutations, observer) {{\n        var display = window.getComputedStyle(gd).display;\n        if (!display || display === 'none') {{\n            console.log([gd, 'removed!']);\n            Plotly.purge(gd);\n            observer.disconnect();\n        }}\n}});\n\n// Listen for the removal of the full notebook cells\nvar notebookContainer = gd.closest('#notebook-container');\nif (notebookContainer) {{\n    x.observe(notebookContainer, {childList: true});\n}}\n\n// Listen for the clearing of the current output cell\nvar outputEl = gd.closest('.output');\nif (outputEl) {{\n    x.observe(outputEl, {childList: true});\n}}\n\n                        })                };                });            </script>        </div>"
     },
     "metadata": {},
     "output_type": "display_data"
    }
   ],
   "source": [
    "fig = px.histogram(df['charges'], nbins=70)\n",
    "fig.update_traces(textfont_size=14, textangle=0, textposition='outside', marker=dict(coloraxis=\"coloraxis\"), marker_line_width=2, marker_line_color=\"grey\")\n",
    "fig.update_layout(title=f'BMI histogram', title_font_size=20)\n",
    "fig.show()"
   ],
   "metadata": {
    "collapsed": false,
    "pycharm": {
     "name": "#%%\n"
    }
   }
  },
  {
   "cell_type": "markdown",
   "source": [],
   "metadata": {
    "collapsed": false
   }
  },
  {
   "cell_type": "markdown",
   "source": [
    "Нулевая гипотеза (отсуствие различий): распределение bmi является нормальным.\n",
    "Альтернативная гипотеза (присутствуют различия): распределение charges не является нормальным."
   ],
   "metadata": {
    "collapsed": false
   }
  },
  {
   "cell_type": "markdown",
   "source": [
    "**Тест Колмогорова-Смирнова (KS-тест)**\n",
    "\n",
    "Это непараметрический тест, который позволяет оценить существенность различий между распределениями двух выборок, например, оценка соответствия распределения исследуемой выборки закону нормального распределения. Критерий Колмогорова-Смирнова определяет расстояние между эмпирической функцией распределения выборки и функцией распределения эталонного распределения (это не обязательно распределение Гаусса). В случае проверки на нормальность распределения, выборки стандартизуются и сравниваются со стандартным нормальным распределением. Данный тест эффективен при размере выборки ≥ 50.\n",
    "\n",
    "Возвращает два значения statistic и p-value.\n",
    "\n",
    "Тест k-s возвращает статистику D и значение p, соответствующее статистике D. Статистика D представляет собой абсолютное максимальное расстояние (верхний предел) между CDF (кумулятивными функциями распределения) двух выборок. Чем ближе это число к 0, тем больше вероятность того, что две выборки были взяты из одного и того же распределения.\n",
    "\n",
    "Значение p, возвращаемое критерием k-s, имеет ту же интерпретацию, что и другие значения p. Вы отвергаете нулевую гипотезу о том, что две выборки были взяты из одного и того же распределения, если p-значение меньше вашего уровня значимости."
   ],
   "metadata": {
    "collapsed": false
   }
  },
  {
   "cell_type": "code",
   "execution_count": 389,
   "outputs": [
    {
     "name": "stdout",
     "output_type": "stream",
     "text": [
      "KS-test for bmi = KstestResult(statistic=0.02613962682509635, pvalue=0.31453976932347394) and charge = KstestResult(statistic=0.18846204110424236, pvalue=4.39305730768502e-42)\n"
     ]
    }
   ],
   "source": [
    "test_ks_bim = sts.kstest(sts.zscore(df['bmi']), 'norm')\n",
    "test_ks_charges = sts.kstest(sts.zscore(df['charges']), 'norm')\n",
    "print(f\"KS-test for bmi = {test_ks_bim} and charge = {test_ks_charges}\")"
   ],
   "metadata": {
    "collapsed": false,
    "pycharm": {
     "name": "#%%\n"
    }
   }
  },
  {
   "cell_type": "markdown",
   "source": [
    "p-значение намного меньше 0.05, следовательно нулевая гипотеза отвергается и выборка не имеет нормального распределения.\n",
    "\n",
    "В нашем случае, мы можем сказать, что для bmi - распределение похоже на нормальное, в то время как для charges - оно им точно не является."
   ],
   "metadata": {
    "collapsed": false,
    "pycharm": {
     "name": "#%% md\n"
    }
   }
  },
  {
   "cell_type": "markdown",
   "source": [
    "**q-q plot**\n",
    "\n",
    "Представляет собой зависимость исходных значений выборки и значений идеального нормального распределения. Если наблюдается идеальная прямая,\n",
    "то данные следуют нормальному закону, если наблюдается отклонение выше прямой, то исходные значения выше, чем нормальные, и наоборот. Удобно\n",
    "использовать Q-Q plot, когда данных немного. Также Q-Q plot позволяет определить асимметрию в данных."
   ],
   "metadata": {
    "collapsed": false,
    "pycharm": {
     "name": "#%% md\n"
    }
   }
  },
  {
   "cell_type": "code",
   "execution_count": 396,
   "outputs": [
    {
     "data": {
      "text/plain": "<Figure size 1000x400 with 1 Axes>",
      "image/png": "[encoded data removed]"
     },
     "metadata": {},
     "output_type": "display_data"
    }
   ],
   "source": [
    "sts.probplot(df['charges'], dist=\"norm\", plot=pylab)\n",
    "pylab.title(\"Q-Q plot for Charges\")\n",
    "pylab.show()"
   ],
   "metadata": {
    "collapsed": false,
    "pycharm": {
     "name": "#%%\n"
    }
   }
  },
  {
   "cell_type": "code",
   "execution_count": 397,
   "outputs": [
    {
     "data": {
      "text/plain": "<Figure size 1000x400 with 1 Axes>",
      "image/png": "[encoded data removed]"
     },
     "metadata": {},
     "output_type": "display_data"
    }
   ],
   "source": [
    "sts.probplot(df['bmi'], dist=\"norm\", plot=pylab)\n",
    "pylab.title(\"Q-Q plot for BMI\")\n",
    "pylab.show()"
   ],
   "metadata": {
    "collapsed": false,
    "pycharm": {
     "name": "#%%\n"
    }
   }
  }
 ],
 "metadata": {
  "kernelspec": {
   "display_name": "Python 3",
   "language": "python",
   "name": "python3"
  },
  "language_info": {
   "codemirror_mode": {
    "name": "ipython",
    "version": 2
   },
   "file_extension": ".py",
   "mimetype": "text/x-python",
   "name": "python",
   "nbconvert_exporter": "python",
   "pygments_lexer": "ipython2",
   "version": "2.7.6"
  }
 },
 "nbformat": 4,
 "nbformat_minor": 0
}