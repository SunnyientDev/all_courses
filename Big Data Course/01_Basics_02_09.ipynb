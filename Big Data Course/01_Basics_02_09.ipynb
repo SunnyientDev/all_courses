{
 "cells": [
  {
   "cell_type": "markdown",
   "source": [
    "# Практическая работа 1\n",
    "\n",
    "## Задание 1\n",
    "Установить Python."
   ],
   "metadata": {
    "collapsed": false
   }
  },
  {
   "cell_type": "code",
   "execution_count": 50,
   "outputs": [
    {
     "name": "stdout",
     "output_type": "stream",
     "text": [
      "Python 3.10.4\n"
     ]
    }
   ],
   "source": [
    "! python --version"
   ],
   "metadata": {
    "collapsed": false,
    "pycharm": {
     "name": "#%%\n"
    }
   }
  },
  {
   "cell_type": "markdown",
   "source": [
    "## Задание 2\n",
    "Написать программу, которая вычисляет площадь фигуры,\n",
    "параметры которой подаются на вход. Фигуры, которые подаются на вход:\n",
    "треугольник, прямоугольник, круг. Результатом работы является словарь, где\n",
    "ключ – это название фигуры, а значение – это площадь."
   ],
   "metadata": {
    "collapsed": false
   }
  },
  {
   "cell_type": "code",
   "execution_count": 48,
   "outputs": [
    {
     "name": "stdout",
     "output_type": "stream",
     "text": [
      "Result: {'rectangle': 2.0}\n"
     ]
    }
   ],
   "source": [
    "import math\n",
    "\n",
    "class Figure:\n",
    "    def __init__(self, parameters: str):\n",
    "        self.parameters = []\n",
    "        try:\n",
    "            for parameter in parameters.split(\" \"):\n",
    "                self.parameters.append(float(parameter))\n",
    "        except:\n",
    "            raise Exception(\"Input error\")\n",
    "\n",
    "        self.answer = dict()\n",
    "        self.parameters_count = len(self.parameters)\n",
    "\n",
    "    def __call__(self, *args, **kwargs) -> dict:\n",
    "        if self.parameters_count > 3:\n",
    "            raise Exception(\"Too many parameters\")\n",
    "        else:\n",
    "            try:\n",
    "                result = self._calc_square()\n",
    "                if result.keys():\n",
    "                    return result\n",
    "                else:\n",
    "                    raise Exception(\"Invalid input data\")\n",
    "            except:\n",
    "                raise Exception(\"Invalid input data\")\n",
    "\n",
    "    def _calc_square(self):\n",
    "            if self.parameters_count == 1:\n",
    "                self.answer['circle'] = math.pi*self.parameters[0]**2\n",
    "            elif self.parameters_count == 2:\n",
    "                self.answer['rectangle'] = self.parameters[0]*self.parameters[1]\n",
    "            elif self.parameters_count == 3:\n",
    "                a = self.parameters[0]\n",
    "                b = self.parameters[1]\n",
    "                c = self.parameters[2]\n",
    "                p = (a + b + c)/2\n",
    "                if a + b > c and a + c > b and b + c > a:\n",
    "                    self.answer['triangle'] = round((p*(p-a)*(p-b)*(p-c))*(1/2),3)\n",
    "            return self.answer\n",
    "\n",
    "print(f'Result: {Figure(str(input(\"Input your parameters:\")))()}')"
   ],
   "metadata": {
    "collapsed": false,
    "pycharm": {
     "name": "#%%\n"
    }
   }
  },
  {
   "cell_type": "markdown",
   "source": [
    "## Задание 3\n",
    "Написать программу, которая на вход получает два числа и\n",
    "операцию, которую к ним нужно применить. Должны быть реализованы\n",
    "следующие операции: +, -, /, //, abs – модуль, pow или ** – возведение в\n",
    "степень. Результатом работы программы является одно число."
   ],
   "metadata": {
    "collapsed": false
   }
  },
  {
   "cell_type": "code",
   "execution_count": 49,
   "outputs": [
    {
     "name": "stdout",
     "output_type": "stream",
     "text": [
      "Result: 0.5\n"
     ]
    }
   ],
   "source": [
    "import math\n",
    "\n",
    "class Operation:\n",
    "    def __init__(self, number_1: float, number_2: float) -> dict:\n",
    "        self.result = {\n",
    "            \"+\": number_1 + number_2,\n",
    "            \"-\": number_1 - number_2,\n",
    "            \"/\": round(number_1 / number_2, 2),\n",
    "            \"//\": int(int(number_1) / int(number_2)),\n",
    "            \"abs\": [abs(number_1), abs(number_2)],\n",
    "            \"pow\": number_1 ** number_2,\n",
    "            \"**\": number_1 ** number_2\n",
    "        }\n",
    "\n",
    "    def __call__(self, sign: str):\n",
    "        try:\n",
    "            return self.result[sign]\n",
    "        except:\n",
    "            raise Exception(\"Input error\")\n",
    "\n",
    "num1, num2 = map(float, input(\"Enter numbers:\").split(\" \"))\n",
    "sign = str(input(\"Enter sign:\"))\n",
    "print(f\"Result: {Operation(num1,num2)(sign)}\")"
   ],
   "metadata": {
    "collapsed": false,
    "pycharm": {
     "name": "#%%\n"
    }
   }
  },
  {
   "cell_type": "markdown",
   "source": [
    "## Задание 4\n",
    "Написать программу, вычисляющую площадь треугольника по\n",
    "переданным длинам трёх его сторон по формуле Герона"
   ],
   "metadata": {
    "collapsed": false
   }
  },
  {
   "cell_type": "code",
   "execution_count": 54,
   "outputs": [
    {
     "name": "stdout",
     "output_type": "stream",
     "text": [
      "Result: 1.969\n"
     ]
    }
   ],
   "source": [
    "import math\n",
    "\n",
    "class Triangle:\n",
    "    def __init__(self, side_1: float, side_2: float, side_3: float) -> dict:\n",
    "        if side_1 + side_2 > side_3 and side_1 + side_3 > side_2 and side_2 + side_3 > side_1:\n",
    "            self.a = side_1\n",
    "            self.b = side_2\n",
    "            self.c = side_3\n",
    "        else:\n",
    "            raise Exception(\"This triangle is not exists\")\n",
    "\n",
    "\n",
    "    def __call__(self):\n",
    "        try:\n",
    "            return self._calc()\n",
    "        except:\n",
    "            raise Exception(\"Inner error\")\n",
    "\n",
    "    def _calc(self):\n",
    "        p = (self.a + self.b + self.c)/2\n",
    "        return round((p*(p-self.a)*(p-self.b)*(p-self.c))*(1/2),3)\n",
    "\n",
    "\n",
    "num1, num2, num3 = map(float, input(\"Enter numbers:\").split(\" \"))\n",
    "print(f\"Result: {Triangle(num1,num2,num3)()}\")"
   ],
   "metadata": {
    "collapsed": false,
    "pycharm": {
     "name": "#%%\n"
    }
   }
  }
 ],
 "metadata": {
  "kernelspec": {
   "display_name": "Python 3",
   "language": "python",
   "name": "python3"
  },
  "language_info": {
   "codemirror_mode": {
    "name": "ipython",
    "version": 2
   },
   "file_extension": ".py",
   "mimetype": "text/x-python",
   "name": "python",
   "nbconvert_exporter": "python",
   "pygments_lexer": "ipython2",
   "version": "2.7.6"
  }
 },
 "nbformat": 4,
 "nbformat_minor": 0
}